{
 "cells": [
  {
   "cell_type": "code",
   "execution_count": 1,
   "id": "ab919cd5",
   "metadata": {
    "execution": {
     "iopub.execute_input": "2021-12-31T17:27:44.679216Z",
     "iopub.status.busy": "2021-12-31T17:27:44.677424Z",
     "iopub.status.idle": "2021-12-31T17:27:58.507463Z",
     "shell.execute_reply": "2021-12-31T17:27:58.506772Z",
     "shell.execute_reply.started": "2021-12-31T16:22:08.931262Z"
    },
    "papermill": {
     "duration": 13.874603,
     "end_time": "2021-12-31T17:27:58.507651",
     "exception": false,
     "start_time": "2021-12-31T17:27:44.633048",
     "status": "completed"
    },
    "tags": []
   },
   "outputs": [
    {
     "name": "stdout",
     "output_type": "stream",
     "text": [
      "\u001b[33mWARNING: Running pip as the 'root' user can result in broken permissions and conflicting behaviour with the system package manager. It is recommended to use a virtual environment instead: https://pip.pypa.io/warnings/venv\u001b[0m\r\n"
     ]
    }
   ],
   "source": [
    "!pip install --upgrade -q git+https://github.com/MaxHalford/xam optuna"
   ]
  },
  {
   "cell_type": "code",
   "execution_count": 2,
   "id": "3427b196",
   "metadata": {
    "execution": {
     "iopub.execute_input": "2021-12-31T17:27:58.577850Z",
     "iopub.status.busy": "2021-12-31T17:27:58.576975Z",
     "iopub.status.idle": "2021-12-31T17:27:58.579943Z",
     "shell.execute_reply": "2021-12-31T17:27:58.579426Z",
     "shell.execute_reply.started": "2021-12-31T16:22:23.544222Z"
    },
    "papermill": {
     "duration": 0.040036,
     "end_time": "2021-12-31T17:27:58.580074",
     "exception": false,
     "start_time": "2021-12-31T17:27:58.540038",
     "status": "completed"
    },
    "tags": []
   },
   "outputs": [],
   "source": [
    "train_path = \"../input/house-prices-advanced-regression-techniques/train.csv\"\n",
    "test_path = \"../input/house-prices-advanced-regression-techniques/test.csv\"\n",
    "\n",
    "train_path_rf = \"../input/imputedhousepricedata/train.csv\"\n",
    "test_path_rf = \"../input/imputedhousepricedata/test.csv\""
   ]
  },
  {
   "cell_type": "code",
   "execution_count": 3,
   "id": "241f6ce4",
   "metadata": {
    "execution": {
     "iopub.execute_input": "2021-12-31T17:27:58.651259Z",
     "iopub.status.busy": "2021-12-31T17:27:58.650605Z",
     "iopub.status.idle": "2021-12-31T17:28:00.515626Z",
     "shell.execute_reply": "2021-12-31T17:28:00.515004Z",
     "shell.execute_reply.started": "2021-12-31T16:31:16.186543Z"
    },
    "papermill": {
     "duration": 1.903186,
     "end_time": "2021-12-31T17:28:00.515775",
     "exception": false,
     "start_time": "2021-12-31T17:27:58.612589",
     "status": "completed"
    },
    "tags": []
   },
   "outputs": [],
   "source": [
    "import pandas as pd\n",
    "import numpy as np\n",
    "import matplotlib.pyplot as plt\n",
    "import seaborn as sns\n",
    "import pickle\n",
    "from IPython.display import display\n",
    "from sklearn.model_selection import KFold\n",
    "from sklearn.metrics import mean_squared_error\n",
    "import optuna\n",
    "from sklearn.linear_model import Lasso, Ridge\n",
    "from sklearn.svm import SVR\n",
    "from sklearn.ensemble import GradientBoostingRegressor\n",
    "from sklearn.preprocessing import StandardScaler\n",
    "from xam.feature_extraction import BayesianTargetEncoder"
   ]
  },
  {
   "cell_type": "code",
   "execution_count": 4,
   "id": "02cad8b6",
   "metadata": {
    "execution": {
     "iopub.execute_input": "2021-12-31T17:28:00.585536Z",
     "iopub.status.busy": "2021-12-31T17:28:00.584546Z",
     "iopub.status.idle": "2021-12-31T17:28:00.833160Z",
     "shell.execute_reply": "2021-12-31T17:28:00.832571Z",
     "shell.execute_reply.started": "2021-12-31T16:22:24.763401Z"
    },
    "papermill": {
     "duration": 0.285083,
     "end_time": "2021-12-31T17:28:00.833297",
     "exception": false,
     "start_time": "2021-12-31T17:28:00.548214",
     "status": "completed"
    },
    "tags": []
   },
   "outputs": [
    {
     "data": {
      "text/html": [
       "<div>\n",
       "<style scoped>\n",
       "    .dataframe tbody tr th:only-of-type {\n",
       "        vertical-align: middle;\n",
       "    }\n",
       "\n",
       "    .dataframe tbody tr th {\n",
       "        vertical-align: top;\n",
       "    }\n",
       "\n",
       "    .dataframe thead th {\n",
       "        text-align: right;\n",
       "    }\n",
       "</style>\n",
       "<table border=\"1\" class=\"dataframe\">\n",
       "  <thead>\n",
       "    <tr style=\"text-align: right;\">\n",
       "      <th></th>\n",
       "      <th>MSSubClass</th>\n",
       "      <th>MSZoning</th>\n",
       "      <th>LotFrontage</th>\n",
       "      <th>LotArea</th>\n",
       "      <th>Street</th>\n",
       "      <th>Alley</th>\n",
       "      <th>LotShape</th>\n",
       "      <th>LandContour</th>\n",
       "      <th>Utilities</th>\n",
       "      <th>LotConfig</th>\n",
       "      <th>...</th>\n",
       "      <th>PoolArea</th>\n",
       "      <th>PoolQC</th>\n",
       "      <th>Fence</th>\n",
       "      <th>MiscFeature</th>\n",
       "      <th>MiscVal</th>\n",
       "      <th>MoSold</th>\n",
       "      <th>YrSold</th>\n",
       "      <th>SaleType</th>\n",
       "      <th>SaleCondition</th>\n",
       "      <th>SalePrice</th>\n",
       "    </tr>\n",
       "    <tr>\n",
       "      <th>Id</th>\n",
       "      <th></th>\n",
       "      <th></th>\n",
       "      <th></th>\n",
       "      <th></th>\n",
       "      <th></th>\n",
       "      <th></th>\n",
       "      <th></th>\n",
       "      <th></th>\n",
       "      <th></th>\n",
       "      <th></th>\n",
       "      <th></th>\n",
       "      <th></th>\n",
       "      <th></th>\n",
       "      <th></th>\n",
       "      <th></th>\n",
       "      <th></th>\n",
       "      <th></th>\n",
       "      <th></th>\n",
       "      <th></th>\n",
       "      <th></th>\n",
       "      <th></th>\n",
       "    </tr>\n",
       "  </thead>\n",
       "  <tbody>\n",
       "    <tr>\n",
       "      <th>1</th>\n",
       "      <td>60</td>\n",
       "      <td>RL</td>\n",
       "      <td>65.0</td>\n",
       "      <td>8450</td>\n",
       "      <td>Pave</td>\n",
       "      <td>NaN</td>\n",
       "      <td>Reg</td>\n",
       "      <td>Lvl</td>\n",
       "      <td>AllPub</td>\n",
       "      <td>Inside</td>\n",
       "      <td>...</td>\n",
       "      <td>0</td>\n",
       "      <td>NaN</td>\n",
       "      <td>NaN</td>\n",
       "      <td>NaN</td>\n",
       "      <td>0</td>\n",
       "      <td>2</td>\n",
       "      <td>2008</td>\n",
       "      <td>WD</td>\n",
       "      <td>Normal</td>\n",
       "      <td>208500</td>\n",
       "    </tr>\n",
       "    <tr>\n",
       "      <th>2</th>\n",
       "      <td>20</td>\n",
       "      <td>RL</td>\n",
       "      <td>80.0</td>\n",
       "      <td>9600</td>\n",
       "      <td>Pave</td>\n",
       "      <td>NaN</td>\n",
       "      <td>Reg</td>\n",
       "      <td>Lvl</td>\n",
       "      <td>AllPub</td>\n",
       "      <td>FR2</td>\n",
       "      <td>...</td>\n",
       "      <td>0</td>\n",
       "      <td>NaN</td>\n",
       "      <td>NaN</td>\n",
       "      <td>NaN</td>\n",
       "      <td>0</td>\n",
       "      <td>5</td>\n",
       "      <td>2007</td>\n",
       "      <td>WD</td>\n",
       "      <td>Normal</td>\n",
       "      <td>181500</td>\n",
       "    </tr>\n",
       "    <tr>\n",
       "      <th>3</th>\n",
       "      <td>60</td>\n",
       "      <td>RL</td>\n",
       "      <td>68.0</td>\n",
       "      <td>11250</td>\n",
       "      <td>Pave</td>\n",
       "      <td>NaN</td>\n",
       "      <td>IR1</td>\n",
       "      <td>Lvl</td>\n",
       "      <td>AllPub</td>\n",
       "      <td>Inside</td>\n",
       "      <td>...</td>\n",
       "      <td>0</td>\n",
       "      <td>NaN</td>\n",
       "      <td>NaN</td>\n",
       "      <td>NaN</td>\n",
       "      <td>0</td>\n",
       "      <td>9</td>\n",
       "      <td>2008</td>\n",
       "      <td>WD</td>\n",
       "      <td>Normal</td>\n",
       "      <td>223500</td>\n",
       "    </tr>\n",
       "    <tr>\n",
       "      <th>4</th>\n",
       "      <td>70</td>\n",
       "      <td>RL</td>\n",
       "      <td>60.0</td>\n",
       "      <td>9550</td>\n",
       "      <td>Pave</td>\n",
       "      <td>NaN</td>\n",
       "      <td>IR1</td>\n",
       "      <td>Lvl</td>\n",
       "      <td>AllPub</td>\n",
       "      <td>Corner</td>\n",
       "      <td>...</td>\n",
       "      <td>0</td>\n",
       "      <td>NaN</td>\n",
       "      <td>NaN</td>\n",
       "      <td>NaN</td>\n",
       "      <td>0</td>\n",
       "      <td>2</td>\n",
       "      <td>2006</td>\n",
       "      <td>WD</td>\n",
       "      <td>Abnorml</td>\n",
       "      <td>140000</td>\n",
       "    </tr>\n",
       "    <tr>\n",
       "      <th>5</th>\n",
       "      <td>60</td>\n",
       "      <td>RL</td>\n",
       "      <td>84.0</td>\n",
       "      <td>14260</td>\n",
       "      <td>Pave</td>\n",
       "      <td>NaN</td>\n",
       "      <td>IR1</td>\n",
       "      <td>Lvl</td>\n",
       "      <td>AllPub</td>\n",
       "      <td>FR2</td>\n",
       "      <td>...</td>\n",
       "      <td>0</td>\n",
       "      <td>NaN</td>\n",
       "      <td>NaN</td>\n",
       "      <td>NaN</td>\n",
       "      <td>0</td>\n",
       "      <td>12</td>\n",
       "      <td>2008</td>\n",
       "      <td>WD</td>\n",
       "      <td>Normal</td>\n",
       "      <td>250000</td>\n",
       "    </tr>\n",
       "  </tbody>\n",
       "</table>\n",
       "<p>5 rows × 80 columns</p>\n",
       "</div>"
      ],
      "text/plain": [
       "    MSSubClass MSZoning  LotFrontage  LotArea Street Alley LotShape  \\\n",
       "Id                                                                    \n",
       "1           60       RL         65.0     8450   Pave   NaN      Reg   \n",
       "2           20       RL         80.0     9600   Pave   NaN      Reg   \n",
       "3           60       RL         68.0    11250   Pave   NaN      IR1   \n",
       "4           70       RL         60.0     9550   Pave   NaN      IR1   \n",
       "5           60       RL         84.0    14260   Pave   NaN      IR1   \n",
       "\n",
       "   LandContour Utilities LotConfig  ... PoolArea PoolQC Fence MiscFeature  \\\n",
       "Id                                  ...                                     \n",
       "1          Lvl    AllPub    Inside  ...        0    NaN   NaN         NaN   \n",
       "2          Lvl    AllPub       FR2  ...        0    NaN   NaN         NaN   \n",
       "3          Lvl    AllPub    Inside  ...        0    NaN   NaN         NaN   \n",
       "4          Lvl    AllPub    Corner  ...        0    NaN   NaN         NaN   \n",
       "5          Lvl    AllPub       FR2  ...        0    NaN   NaN         NaN   \n",
       "\n",
       "   MiscVal MoSold  YrSold  SaleType  SaleCondition  SalePrice  \n",
       "Id                                                             \n",
       "1        0      2    2008        WD         Normal     208500  \n",
       "2        0      5    2007        WD         Normal     181500  \n",
       "3        0      9    2008        WD         Normal     223500  \n",
       "4        0      2    2006        WD        Abnorml     140000  \n",
       "5        0     12    2008        WD         Normal     250000  \n",
       "\n",
       "[5 rows x 80 columns]"
      ]
     },
     "metadata": {},
     "output_type": "display_data"
    },
    {
     "data": {
      "text/html": [
       "<div>\n",
       "<style scoped>\n",
       "    .dataframe tbody tr th:only-of-type {\n",
       "        vertical-align: middle;\n",
       "    }\n",
       "\n",
       "    .dataframe tbody tr th {\n",
       "        vertical-align: top;\n",
       "    }\n",
       "\n",
       "    .dataframe thead th {\n",
       "        text-align: right;\n",
       "    }\n",
       "</style>\n",
       "<table border=\"1\" class=\"dataframe\">\n",
       "  <thead>\n",
       "    <tr style=\"text-align: right;\">\n",
       "      <th></th>\n",
       "      <th>MSSubClass</th>\n",
       "      <th>MSZoning</th>\n",
       "      <th>LotFrontage</th>\n",
       "      <th>LotArea</th>\n",
       "      <th>Street</th>\n",
       "      <th>Alley</th>\n",
       "      <th>LotShape</th>\n",
       "      <th>LandContour</th>\n",
       "      <th>Utilities</th>\n",
       "      <th>LotConfig</th>\n",
       "      <th>...</th>\n",
       "      <th>PoolArea</th>\n",
       "      <th>PoolQC</th>\n",
       "      <th>Fence</th>\n",
       "      <th>MiscFeature</th>\n",
       "      <th>MiscVal</th>\n",
       "      <th>MoSold</th>\n",
       "      <th>YrSold</th>\n",
       "      <th>SaleType</th>\n",
       "      <th>SaleCondition</th>\n",
       "      <th>SalePrice</th>\n",
       "    </tr>\n",
       "    <tr>\n",
       "      <th>Id</th>\n",
       "      <th></th>\n",
       "      <th></th>\n",
       "      <th></th>\n",
       "      <th></th>\n",
       "      <th></th>\n",
       "      <th></th>\n",
       "      <th></th>\n",
       "      <th></th>\n",
       "      <th></th>\n",
       "      <th></th>\n",
       "      <th></th>\n",
       "      <th></th>\n",
       "      <th></th>\n",
       "      <th></th>\n",
       "      <th></th>\n",
       "      <th></th>\n",
       "      <th></th>\n",
       "      <th></th>\n",
       "      <th></th>\n",
       "      <th></th>\n",
       "      <th></th>\n",
       "    </tr>\n",
       "  </thead>\n",
       "  <tbody>\n",
       "    <tr>\n",
       "      <th>1</th>\n",
       "      <td>60</td>\n",
       "      <td>RL</td>\n",
       "      <td>65.0</td>\n",
       "      <td>8450</td>\n",
       "      <td>Pave</td>\n",
       "      <td>None</td>\n",
       "      <td>Reg</td>\n",
       "      <td>Lvl</td>\n",
       "      <td>AllPub</td>\n",
       "      <td>Inside</td>\n",
       "      <td>...</td>\n",
       "      <td>0</td>\n",
       "      <td>None</td>\n",
       "      <td>None</td>\n",
       "      <td>None</td>\n",
       "      <td>0</td>\n",
       "      <td>2</td>\n",
       "      <td>2008</td>\n",
       "      <td>WD</td>\n",
       "      <td>Normal</td>\n",
       "      <td>208500</td>\n",
       "    </tr>\n",
       "    <tr>\n",
       "      <th>2</th>\n",
       "      <td>20</td>\n",
       "      <td>RL</td>\n",
       "      <td>80.0</td>\n",
       "      <td>9600</td>\n",
       "      <td>Pave</td>\n",
       "      <td>None</td>\n",
       "      <td>Reg</td>\n",
       "      <td>Lvl</td>\n",
       "      <td>AllPub</td>\n",
       "      <td>FR2</td>\n",
       "      <td>...</td>\n",
       "      <td>0</td>\n",
       "      <td>None</td>\n",
       "      <td>None</td>\n",
       "      <td>None</td>\n",
       "      <td>0</td>\n",
       "      <td>5</td>\n",
       "      <td>2007</td>\n",
       "      <td>WD</td>\n",
       "      <td>Normal</td>\n",
       "      <td>181500</td>\n",
       "    </tr>\n",
       "    <tr>\n",
       "      <th>3</th>\n",
       "      <td>60</td>\n",
       "      <td>RL</td>\n",
       "      <td>68.0</td>\n",
       "      <td>11250</td>\n",
       "      <td>Pave</td>\n",
       "      <td>None</td>\n",
       "      <td>IR1</td>\n",
       "      <td>Lvl</td>\n",
       "      <td>AllPub</td>\n",
       "      <td>Inside</td>\n",
       "      <td>...</td>\n",
       "      <td>0</td>\n",
       "      <td>None</td>\n",
       "      <td>None</td>\n",
       "      <td>None</td>\n",
       "      <td>0</td>\n",
       "      <td>9</td>\n",
       "      <td>2008</td>\n",
       "      <td>WD</td>\n",
       "      <td>Normal</td>\n",
       "      <td>223500</td>\n",
       "    </tr>\n",
       "    <tr>\n",
       "      <th>4</th>\n",
       "      <td>70</td>\n",
       "      <td>RL</td>\n",
       "      <td>60.0</td>\n",
       "      <td>9550</td>\n",
       "      <td>Pave</td>\n",
       "      <td>None</td>\n",
       "      <td>IR1</td>\n",
       "      <td>Lvl</td>\n",
       "      <td>AllPub</td>\n",
       "      <td>Corner</td>\n",
       "      <td>...</td>\n",
       "      <td>0</td>\n",
       "      <td>None</td>\n",
       "      <td>None</td>\n",
       "      <td>None</td>\n",
       "      <td>0</td>\n",
       "      <td>2</td>\n",
       "      <td>2006</td>\n",
       "      <td>WD</td>\n",
       "      <td>Abnorml</td>\n",
       "      <td>140000</td>\n",
       "    </tr>\n",
       "    <tr>\n",
       "      <th>5</th>\n",
       "      <td>60</td>\n",
       "      <td>RL</td>\n",
       "      <td>84.0</td>\n",
       "      <td>14260</td>\n",
       "      <td>Pave</td>\n",
       "      <td>None</td>\n",
       "      <td>IR1</td>\n",
       "      <td>Lvl</td>\n",
       "      <td>AllPub</td>\n",
       "      <td>FR2</td>\n",
       "      <td>...</td>\n",
       "      <td>0</td>\n",
       "      <td>None</td>\n",
       "      <td>None</td>\n",
       "      <td>None</td>\n",
       "      <td>0</td>\n",
       "      <td>12</td>\n",
       "      <td>2008</td>\n",
       "      <td>WD</td>\n",
       "      <td>Normal</td>\n",
       "      <td>250000</td>\n",
       "    </tr>\n",
       "  </tbody>\n",
       "</table>\n",
       "<p>5 rows × 80 columns</p>\n",
       "</div>"
      ],
      "text/plain": [
       "    MSSubClass MSZoning  LotFrontage  LotArea Street Alley LotShape  \\\n",
       "Id                                                                    \n",
       "1           60       RL         65.0     8450   Pave  None      Reg   \n",
       "2           20       RL         80.0     9600   Pave  None      Reg   \n",
       "3           60       RL         68.0    11250   Pave  None      IR1   \n",
       "4           70       RL         60.0     9550   Pave  None      IR1   \n",
       "5           60       RL         84.0    14260   Pave  None      IR1   \n",
       "\n",
       "   LandContour Utilities LotConfig  ... PoolArea PoolQC Fence MiscFeature  \\\n",
       "Id                                  ...                                     \n",
       "1          Lvl    AllPub    Inside  ...        0   None  None        None   \n",
       "2          Lvl    AllPub       FR2  ...        0   None  None        None   \n",
       "3          Lvl    AllPub    Inside  ...        0   None  None        None   \n",
       "4          Lvl    AllPub    Corner  ...        0   None  None        None   \n",
       "5          Lvl    AllPub       FR2  ...        0   None  None        None   \n",
       "\n",
       "   MiscVal MoSold  YrSold  SaleType  SaleCondition  SalePrice  \n",
       "Id                                                             \n",
       "1        0      2    2008        WD         Normal     208500  \n",
       "2        0      5    2007        WD         Normal     181500  \n",
       "3        0      9    2008        WD         Normal     223500  \n",
       "4        0      2    2006        WD        Abnorml     140000  \n",
       "5        0     12    2008        WD         Normal     250000  \n",
       "\n",
       "[5 rows x 80 columns]"
      ]
     },
     "metadata": {},
     "output_type": "display_data"
    },
    {
     "data": {
      "text/html": [
       "<div>\n",
       "<style scoped>\n",
       "    .dataframe tbody tr th:only-of-type {\n",
       "        vertical-align: middle;\n",
       "    }\n",
       "\n",
       "    .dataframe tbody tr th {\n",
       "        vertical-align: top;\n",
       "    }\n",
       "\n",
       "    .dataframe thead th {\n",
       "        text-align: right;\n",
       "    }\n",
       "</style>\n",
       "<table border=\"1\" class=\"dataframe\">\n",
       "  <thead>\n",
       "    <tr style=\"text-align: right;\">\n",
       "      <th></th>\n",
       "      <th>MSSubClass</th>\n",
       "      <th>MSZoning</th>\n",
       "      <th>LotFrontage</th>\n",
       "      <th>LotArea</th>\n",
       "      <th>Street</th>\n",
       "      <th>Alley</th>\n",
       "      <th>LotShape</th>\n",
       "      <th>LandContour</th>\n",
       "      <th>Utilities</th>\n",
       "      <th>LotConfig</th>\n",
       "      <th>...</th>\n",
       "      <th>ScreenPorch</th>\n",
       "      <th>PoolArea</th>\n",
       "      <th>PoolQC</th>\n",
       "      <th>Fence</th>\n",
       "      <th>MiscFeature</th>\n",
       "      <th>MiscVal</th>\n",
       "      <th>MoSold</th>\n",
       "      <th>YrSold</th>\n",
       "      <th>SaleType</th>\n",
       "      <th>SaleCondition</th>\n",
       "    </tr>\n",
       "    <tr>\n",
       "      <th>Id</th>\n",
       "      <th></th>\n",
       "      <th></th>\n",
       "      <th></th>\n",
       "      <th></th>\n",
       "      <th></th>\n",
       "      <th></th>\n",
       "      <th></th>\n",
       "      <th></th>\n",
       "      <th></th>\n",
       "      <th></th>\n",
       "      <th></th>\n",
       "      <th></th>\n",
       "      <th></th>\n",
       "      <th></th>\n",
       "      <th></th>\n",
       "      <th></th>\n",
       "      <th></th>\n",
       "      <th></th>\n",
       "      <th></th>\n",
       "      <th></th>\n",
       "      <th></th>\n",
       "    </tr>\n",
       "  </thead>\n",
       "  <tbody>\n",
       "    <tr>\n",
       "      <th>1461</th>\n",
       "      <td>20</td>\n",
       "      <td>RH</td>\n",
       "      <td>80.0</td>\n",
       "      <td>11622</td>\n",
       "      <td>Pave</td>\n",
       "      <td>NaN</td>\n",
       "      <td>Reg</td>\n",
       "      <td>Lvl</td>\n",
       "      <td>AllPub</td>\n",
       "      <td>Inside</td>\n",
       "      <td>...</td>\n",
       "      <td>120</td>\n",
       "      <td>0</td>\n",
       "      <td>NaN</td>\n",
       "      <td>MnPrv</td>\n",
       "      <td>NaN</td>\n",
       "      <td>0</td>\n",
       "      <td>6</td>\n",
       "      <td>2010</td>\n",
       "      <td>WD</td>\n",
       "      <td>Normal</td>\n",
       "    </tr>\n",
       "    <tr>\n",
       "      <th>1462</th>\n",
       "      <td>20</td>\n",
       "      <td>RL</td>\n",
       "      <td>81.0</td>\n",
       "      <td>14267</td>\n",
       "      <td>Pave</td>\n",
       "      <td>NaN</td>\n",
       "      <td>IR1</td>\n",
       "      <td>Lvl</td>\n",
       "      <td>AllPub</td>\n",
       "      <td>Corner</td>\n",
       "      <td>...</td>\n",
       "      <td>0</td>\n",
       "      <td>0</td>\n",
       "      <td>NaN</td>\n",
       "      <td>NaN</td>\n",
       "      <td>Gar2</td>\n",
       "      <td>12500</td>\n",
       "      <td>6</td>\n",
       "      <td>2010</td>\n",
       "      <td>WD</td>\n",
       "      <td>Normal</td>\n",
       "    </tr>\n",
       "    <tr>\n",
       "      <th>1463</th>\n",
       "      <td>60</td>\n",
       "      <td>RL</td>\n",
       "      <td>74.0</td>\n",
       "      <td>13830</td>\n",
       "      <td>Pave</td>\n",
       "      <td>NaN</td>\n",
       "      <td>IR1</td>\n",
       "      <td>Lvl</td>\n",
       "      <td>AllPub</td>\n",
       "      <td>Inside</td>\n",
       "      <td>...</td>\n",
       "      <td>0</td>\n",
       "      <td>0</td>\n",
       "      <td>NaN</td>\n",
       "      <td>MnPrv</td>\n",
       "      <td>NaN</td>\n",
       "      <td>0</td>\n",
       "      <td>3</td>\n",
       "      <td>2010</td>\n",
       "      <td>WD</td>\n",
       "      <td>Normal</td>\n",
       "    </tr>\n",
       "    <tr>\n",
       "      <th>1464</th>\n",
       "      <td>60</td>\n",
       "      <td>RL</td>\n",
       "      <td>78.0</td>\n",
       "      <td>9978</td>\n",
       "      <td>Pave</td>\n",
       "      <td>NaN</td>\n",
       "      <td>IR1</td>\n",
       "      <td>Lvl</td>\n",
       "      <td>AllPub</td>\n",
       "      <td>Inside</td>\n",
       "      <td>...</td>\n",
       "      <td>0</td>\n",
       "      <td>0</td>\n",
       "      <td>NaN</td>\n",
       "      <td>NaN</td>\n",
       "      <td>NaN</td>\n",
       "      <td>0</td>\n",
       "      <td>6</td>\n",
       "      <td>2010</td>\n",
       "      <td>WD</td>\n",
       "      <td>Normal</td>\n",
       "    </tr>\n",
       "    <tr>\n",
       "      <th>1465</th>\n",
       "      <td>120</td>\n",
       "      <td>RL</td>\n",
       "      <td>43.0</td>\n",
       "      <td>5005</td>\n",
       "      <td>Pave</td>\n",
       "      <td>NaN</td>\n",
       "      <td>IR1</td>\n",
       "      <td>HLS</td>\n",
       "      <td>AllPub</td>\n",
       "      <td>Inside</td>\n",
       "      <td>...</td>\n",
       "      <td>144</td>\n",
       "      <td>0</td>\n",
       "      <td>NaN</td>\n",
       "      <td>NaN</td>\n",
       "      <td>NaN</td>\n",
       "      <td>0</td>\n",
       "      <td>1</td>\n",
       "      <td>2010</td>\n",
       "      <td>WD</td>\n",
       "      <td>Normal</td>\n",
       "    </tr>\n",
       "  </tbody>\n",
       "</table>\n",
       "<p>5 rows × 79 columns</p>\n",
       "</div>"
      ],
      "text/plain": [
       "      MSSubClass MSZoning  LotFrontage  LotArea Street Alley LotShape  \\\n",
       "Id                                                                      \n",
       "1461          20       RH         80.0    11622   Pave   NaN      Reg   \n",
       "1462          20       RL         81.0    14267   Pave   NaN      IR1   \n",
       "1463          60       RL         74.0    13830   Pave   NaN      IR1   \n",
       "1464          60       RL         78.0     9978   Pave   NaN      IR1   \n",
       "1465         120       RL         43.0     5005   Pave   NaN      IR1   \n",
       "\n",
       "     LandContour Utilities LotConfig  ... ScreenPorch PoolArea PoolQC  Fence  \\\n",
       "Id                                    ...                                      \n",
       "1461         Lvl    AllPub    Inside  ...         120        0    NaN  MnPrv   \n",
       "1462         Lvl    AllPub    Corner  ...           0        0    NaN    NaN   \n",
       "1463         Lvl    AllPub    Inside  ...           0        0    NaN  MnPrv   \n",
       "1464         Lvl    AllPub    Inside  ...           0        0    NaN    NaN   \n",
       "1465         HLS    AllPub    Inside  ...         144        0    NaN    NaN   \n",
       "\n",
       "     MiscFeature MiscVal  MoSold  YrSold  SaleType  SaleCondition  \n",
       "Id                                                                 \n",
       "1461         NaN       0       6    2010        WD         Normal  \n",
       "1462        Gar2   12500       6    2010        WD         Normal  \n",
       "1463         NaN       0       3    2010        WD         Normal  \n",
       "1464         NaN       0       6    2010        WD         Normal  \n",
       "1465         NaN       0       1    2010        WD         Normal  \n",
       "\n",
       "[5 rows x 79 columns]"
      ]
     },
     "metadata": {},
     "output_type": "display_data"
    },
    {
     "data": {
      "text/html": [
       "<div>\n",
       "<style scoped>\n",
       "    .dataframe tbody tr th:only-of-type {\n",
       "        vertical-align: middle;\n",
       "    }\n",
       "\n",
       "    .dataframe tbody tr th {\n",
       "        vertical-align: top;\n",
       "    }\n",
       "\n",
       "    .dataframe thead th {\n",
       "        text-align: right;\n",
       "    }\n",
       "</style>\n",
       "<table border=\"1\" class=\"dataframe\">\n",
       "  <thead>\n",
       "    <tr style=\"text-align: right;\">\n",
       "      <th></th>\n",
       "      <th>MSSubClass</th>\n",
       "      <th>MSZoning</th>\n",
       "      <th>LotFrontage</th>\n",
       "      <th>LotArea</th>\n",
       "      <th>Street</th>\n",
       "      <th>Alley</th>\n",
       "      <th>LotShape</th>\n",
       "      <th>LandContour</th>\n",
       "      <th>Utilities</th>\n",
       "      <th>LotConfig</th>\n",
       "      <th>...</th>\n",
       "      <th>ScreenPorch</th>\n",
       "      <th>PoolArea</th>\n",
       "      <th>PoolQC</th>\n",
       "      <th>Fence</th>\n",
       "      <th>MiscFeature</th>\n",
       "      <th>MiscVal</th>\n",
       "      <th>MoSold</th>\n",
       "      <th>YrSold</th>\n",
       "      <th>SaleType</th>\n",
       "      <th>SaleCondition</th>\n",
       "    </tr>\n",
       "    <tr>\n",
       "      <th>Id</th>\n",
       "      <th></th>\n",
       "      <th></th>\n",
       "      <th></th>\n",
       "      <th></th>\n",
       "      <th></th>\n",
       "      <th></th>\n",
       "      <th></th>\n",
       "      <th></th>\n",
       "      <th></th>\n",
       "      <th></th>\n",
       "      <th></th>\n",
       "      <th></th>\n",
       "      <th></th>\n",
       "      <th></th>\n",
       "      <th></th>\n",
       "      <th></th>\n",
       "      <th></th>\n",
       "      <th></th>\n",
       "      <th></th>\n",
       "      <th></th>\n",
       "      <th></th>\n",
       "    </tr>\n",
       "  </thead>\n",
       "  <tbody>\n",
       "    <tr>\n",
       "      <th>1461</th>\n",
       "      <td>20</td>\n",
       "      <td>RH</td>\n",
       "      <td>80.0</td>\n",
       "      <td>11622</td>\n",
       "      <td>Pave</td>\n",
       "      <td>None</td>\n",
       "      <td>Reg</td>\n",
       "      <td>Lvl</td>\n",
       "      <td>AllPub</td>\n",
       "      <td>Inside</td>\n",
       "      <td>...</td>\n",
       "      <td>120</td>\n",
       "      <td>0</td>\n",
       "      <td>None</td>\n",
       "      <td>MnPrv</td>\n",
       "      <td>None</td>\n",
       "      <td>0</td>\n",
       "      <td>6</td>\n",
       "      <td>2010</td>\n",
       "      <td>WD</td>\n",
       "      <td>Normal</td>\n",
       "    </tr>\n",
       "    <tr>\n",
       "      <th>1462</th>\n",
       "      <td>20</td>\n",
       "      <td>RL</td>\n",
       "      <td>81.0</td>\n",
       "      <td>14267</td>\n",
       "      <td>Pave</td>\n",
       "      <td>None</td>\n",
       "      <td>IR1</td>\n",
       "      <td>Lvl</td>\n",
       "      <td>AllPub</td>\n",
       "      <td>Corner</td>\n",
       "      <td>...</td>\n",
       "      <td>0</td>\n",
       "      <td>0</td>\n",
       "      <td>None</td>\n",
       "      <td>None</td>\n",
       "      <td>Gar2</td>\n",
       "      <td>12500</td>\n",
       "      <td>6</td>\n",
       "      <td>2010</td>\n",
       "      <td>WD</td>\n",
       "      <td>Normal</td>\n",
       "    </tr>\n",
       "    <tr>\n",
       "      <th>1463</th>\n",
       "      <td>60</td>\n",
       "      <td>RL</td>\n",
       "      <td>74.0</td>\n",
       "      <td>13830</td>\n",
       "      <td>Pave</td>\n",
       "      <td>None</td>\n",
       "      <td>IR1</td>\n",
       "      <td>Lvl</td>\n",
       "      <td>AllPub</td>\n",
       "      <td>Inside</td>\n",
       "      <td>...</td>\n",
       "      <td>0</td>\n",
       "      <td>0</td>\n",
       "      <td>None</td>\n",
       "      <td>MnPrv</td>\n",
       "      <td>None</td>\n",
       "      <td>0</td>\n",
       "      <td>3</td>\n",
       "      <td>2010</td>\n",
       "      <td>WD</td>\n",
       "      <td>Normal</td>\n",
       "    </tr>\n",
       "    <tr>\n",
       "      <th>1464</th>\n",
       "      <td>60</td>\n",
       "      <td>RL</td>\n",
       "      <td>78.0</td>\n",
       "      <td>9978</td>\n",
       "      <td>Pave</td>\n",
       "      <td>None</td>\n",
       "      <td>IR1</td>\n",
       "      <td>Lvl</td>\n",
       "      <td>AllPub</td>\n",
       "      <td>Inside</td>\n",
       "      <td>...</td>\n",
       "      <td>0</td>\n",
       "      <td>0</td>\n",
       "      <td>None</td>\n",
       "      <td>None</td>\n",
       "      <td>None</td>\n",
       "      <td>0</td>\n",
       "      <td>6</td>\n",
       "      <td>2010</td>\n",
       "      <td>WD</td>\n",
       "      <td>Normal</td>\n",
       "    </tr>\n",
       "    <tr>\n",
       "      <th>1465</th>\n",
       "      <td>120</td>\n",
       "      <td>RL</td>\n",
       "      <td>43.0</td>\n",
       "      <td>5005</td>\n",
       "      <td>Pave</td>\n",
       "      <td>None</td>\n",
       "      <td>IR1</td>\n",
       "      <td>HLS</td>\n",
       "      <td>AllPub</td>\n",
       "      <td>Inside</td>\n",
       "      <td>...</td>\n",
       "      <td>144</td>\n",
       "      <td>0</td>\n",
       "      <td>None</td>\n",
       "      <td>None</td>\n",
       "      <td>None</td>\n",
       "      <td>0</td>\n",
       "      <td>1</td>\n",
       "      <td>2010</td>\n",
       "      <td>WD</td>\n",
       "      <td>Normal</td>\n",
       "    </tr>\n",
       "  </tbody>\n",
       "</table>\n",
       "<p>5 rows × 79 columns</p>\n",
       "</div>"
      ],
      "text/plain": [
       "      MSSubClass MSZoning  LotFrontage  LotArea Street Alley LotShape  \\\n",
       "Id                                                                      \n",
       "1461          20       RH         80.0    11622   Pave  None      Reg   \n",
       "1462          20       RL         81.0    14267   Pave  None      IR1   \n",
       "1463          60       RL         74.0    13830   Pave  None      IR1   \n",
       "1464          60       RL         78.0     9978   Pave  None      IR1   \n",
       "1465         120       RL         43.0     5005   Pave  None      IR1   \n",
       "\n",
       "     LandContour Utilities LotConfig  ... ScreenPorch PoolArea PoolQC  Fence  \\\n",
       "Id                                    ...                                      \n",
       "1461         Lvl    AllPub    Inside  ...         120        0   None  MnPrv   \n",
       "1462         Lvl    AllPub    Corner  ...           0        0   None   None   \n",
       "1463         Lvl    AllPub    Inside  ...           0        0   None  MnPrv   \n",
       "1464         Lvl    AllPub    Inside  ...           0        0   None   None   \n",
       "1465         HLS    AllPub    Inside  ...         144        0   None   None   \n",
       "\n",
       "     MiscFeature MiscVal  MoSold  YrSold  SaleType  SaleCondition  \n",
       "Id                                                                 \n",
       "1461        None       0       6    2010        WD         Normal  \n",
       "1462        Gar2   12500       6    2010        WD         Normal  \n",
       "1463        None       0       3    2010        WD         Normal  \n",
       "1464        None       0       6    2010        WD         Normal  \n",
       "1465        None       0       1    2010        WD         Normal  \n",
       "\n",
       "[5 rows x 79 columns]"
      ]
     },
     "metadata": {},
     "output_type": "display_data"
    }
   ],
   "source": [
    "# import train, test data\n",
    "X = pd.read_csv(train_path, index_col='Id')\n",
    "X_test_full = pd.read_csv(test_path, index_col='Id')\n",
    "\n",
    "X_rf = pd.read_csv(train_path_rf)\n",
    "X_rf.columns = ['Id'] + list(X_rf.columns)[1:]\n",
    "X_rf.set_index('Id', inplace=True)\n",
    "\n",
    "X_test_full_rf = pd.read_csv(test_path_rf)\n",
    "X_test_full_rf.columns = ['Id'] + list(X_test_full_rf.columns)[1:]\n",
    "X_test_full_rf.set_index('Id', inplace=True)\n",
    "\n",
    "display(X.head())\n",
    "display(X_rf.head())\n",
    "display(X_test_full.head())\n",
    "display(X_test_full_rf.head())"
   ]
  },
  {
   "cell_type": "code",
   "execution_count": 5,
   "id": "23dd8a5c",
   "metadata": {
    "execution": {
     "iopub.execute_input": "2021-12-31T17:28:00.907021Z",
     "iopub.status.busy": "2021-12-31T17:28:00.906410Z",
     "iopub.status.idle": "2021-12-31T17:28:00.928735Z",
     "shell.execute_reply": "2021-12-31T17:28:00.928086Z",
     "shell.execute_reply.started": "2021-12-31T16:22:25.022399Z"
    },
    "papermill": {
     "duration": 0.060107,
     "end_time": "2021-12-31T17:28:00.928885",
     "exception": false,
     "start_time": "2021-12-31T17:28:00.868778",
     "status": "completed"
    },
    "tags": []
   },
   "outputs": [
    {
     "name": "stdout",
     "output_type": "stream",
     "text": [
      "data type value count\n",
      "object     43\n",
      "int64      34\n",
      "float64     3\n",
      "dtype: int64\n",
      "\n",
      "imputed data type value count\n",
      "object     43\n",
      "int64      35\n",
      "float64     2\n",
      "dtype: int64\n"
     ]
    }
   ],
   "source": [
    "features = X.drop(columns=['SalePrice'])\n",
    "target = X['SalePrice']\n",
    "\n",
    "features_rf = X_rf.drop(columns=['SalePrice'])\n",
    "target_rf = X_rf['SalePrice']\n",
    "\n",
    "print(f'data type value count\\n{X.dtypes.value_counts()}\\n')\n",
    "print(f'imputed data type value count\\n{X_rf.dtypes.value_counts()}')\n",
    "\n",
    "num_cols = features.select_dtypes(exclude=['object']).columns\n",
    "cat_cols = features.select_dtypes(include=['object']).columns\n",
    "num_cols_rf = features_rf.select_dtypes(exclude=['object']).columns\n",
    "cat_cols_rf = features_rf.select_dtypes(include=['object']).columns"
   ]
  },
  {
   "cell_type": "code",
   "execution_count": 6,
   "id": "a7e9ceb0",
   "metadata": {
    "execution": {
     "iopub.execute_input": "2021-12-31T17:28:01.007848Z",
     "iopub.status.busy": "2021-12-31T17:28:01.007202Z",
     "iopub.status.idle": "2021-12-31T17:28:01.009423Z",
     "shell.execute_reply": "2021-12-31T17:28:01.008907Z",
     "shell.execute_reply.started": "2021-12-31T16:22:25.045552Z"
    },
    "papermill": {
     "duration": 0.045035,
     "end_time": "2021-12-31T17:28:01.009557",
     "exception": false,
     "start_time": "2021-12-31T17:28:00.964522",
     "status": "completed"
    },
    "tags": []
   },
   "outputs": [],
   "source": [
    "# seperate features by type according to data description\n",
    "ordinal = ['OverallQual', 'OverallCond']\n",
    "ordinal_rf = ordinal\n",
    "nominal = list(set(['MSSubClass', 'MoSold'] + list(cat_cols)) - set(ordinal))\n",
    "nominal_rf = list(set(['MSSubClass', 'MoSold'] + list(cat_cols_rf)) - set(ordinal_rf))\n",
    "numeric = list(set(num_cols) - set(ordinal) - set(nominal))\n",
    "numeric_rf = list(set(num_cols_rf) - set(ordinal_rf) - set(nominal_rf))"
   ]
  },
  {
   "cell_type": "code",
   "execution_count": 7,
   "id": "2665ae5b",
   "metadata": {
    "execution": {
     "iopub.execute_input": "2021-12-31T17:28:01.084890Z",
     "iopub.status.busy": "2021-12-31T17:28:01.084274Z",
     "iopub.status.idle": "2021-12-31T17:28:01.089749Z",
     "shell.execute_reply": "2021-12-31T17:28:01.090318Z",
     "shell.execute_reply.started": "2021-12-31T16:22:25.052273Z"
    },
    "papermill": {
     "duration": 0.044032,
     "end_time": "2021-12-31T17:28:01.090523",
     "exception": false,
     "start_time": "2021-12-31T17:28:01.046491",
     "status": "completed"
    },
    "tags": []
   },
   "outputs": [],
   "source": [
    "def plot_na_count(features, title='NA count', figsize=(9,6), palette='Paired'):\n",
    "    na_count = features.isna().sum()\n",
    "    na_count = (na_count[na_count > 0] / na_count.sum()).sort_values(ascending=False)\n",
    "    plt.figure(figsize=figsize)\n",
    "    sns.barplot(y=na_count.index, x=na_count, palette=palette, orient='h')\n",
    "    plt.title(title)\n",
    "    plt.ylabel('proportion of count')\n",
    "    plt.xlabel('column name')\n",
    "    plt.show()"
   ]
  },
  {
   "cell_type": "code",
   "execution_count": 8,
   "id": "0696b8c4",
   "metadata": {
    "execution": {
     "iopub.execute_input": "2021-12-31T17:28:01.164652Z",
     "iopub.status.busy": "2021-12-31T17:28:01.164016Z",
     "iopub.status.idle": "2021-12-31T17:28:01.976947Z",
     "shell.execute_reply": "2021-12-31T17:28:01.976397Z",
     "shell.execute_reply.started": "2021-12-31T16:22:25.064325Z"
    },
    "papermill": {
     "duration": 0.851274,
     "end_time": "2021-12-31T17:28:01.977103",
     "exception": false,
     "start_time": "2021-12-31T17:28:01.125829",
     "status": "completed"
    },
    "tags": []
   },
   "outputs": [
    {
     "data": {
      "image/png": "[encoded data removed]",
      "text/plain": [
       "<Figure size 648x432 with 1 Axes>"
      ]
     },
     "metadata": {
      "needs_background": "light"
     },
     "output_type": "display_data"
    },
    {
     "data": {
      "image/png": "[encoded data removed]",
      "text/plain": [
       "<Figure size 648x648 with 1 Axes>"
      ]
     },
     "metadata": {
      "needs_background": "light"
     },
     "output_type": "display_data"
    }
   ],
   "source": [
    "plot_na_count(features, title='NA count on train set')\n",
    "plot_na_count(X_test_full, figsize=(9,9), title='NA count on test set')"
   ]
  },
  {
   "cell_type": "code",
   "execution_count": 9,
   "id": "466f01c6",
   "metadata": {
    "execution": {
     "iopub.execute_input": "2021-12-31T17:28:02.063395Z",
     "iopub.status.busy": "2021-12-31T17:28:02.062718Z",
     "iopub.status.idle": "2021-12-31T17:28:02.098075Z",
     "shell.execute_reply": "2021-12-31T17:28:02.097512Z",
     "shell.execute_reply.started": "2021-12-31T16:22:25.89642Z"
    },
    "papermill": {
     "duration": 0.081799,
     "end_time": "2021-12-31T17:28:02.098209",
     "exception": false,
     "start_time": "2021-12-31T17:28:02.016410",
     "status": "completed"
    },
    "tags": []
   },
   "outputs": [],
   "source": [
    "none_list = ['PoolQC', 'MiscFeature', 'Alley', 'Fence', 'FireplaceQu', 'GarageType', 'GarageFinish',\n",
    "             'GarageQual', 'GarageCond', 'BsmtExposure', 'BsmtFinType2', 'BsmtFinType1', 'BsmtCond',\n",
    "             'BsmtQual', 'MasVnrType']\n",
    "zero_list =  ['MasVnrArea', 'BsmtHalfBath', 'BsmtFullBath', 'TotalBsmtSF', 'BsmtFinSF2', 'BsmtFinSF1', 'GarageCars', 'GarageArea', 'BsmtUnfSF']\n",
    "mode_list = ['Electrical', 'MSZoning', 'Functional', 'Utilities', 'KitchenQual', 'Exterior1st', 'Exterior2nd']\n",
    "median_list = ['LotFrontage']\n",
    "\n",
    "# fill empty value according to data description\n",
    "features.fillna({col: 'None' for col in none_list}, inplace=True)\n",
    "X_test_full.fillna({col: 'None' for col in none_list}, inplace=True)\n",
    "\n",
    "features.fillna({col: 0 for col in zero_list}, inplace=True)\n",
    "X_test_full.fillna({col: 0 for col in zero_list}, inplace=True)\n",
    "\n",
    "# filling with mode due to unprovided missing value description\n",
    "features.fillna({col: features[col].mode()[0] for col in mode_list}, inplace=True)\n",
    "X_test_full.fillna({col: X_test_full[col].mode()[0] for col in mode_list}, inplace=True)\n",
    "\n",
    "# make missing Sale type = Other\n",
    "features['SaleType']  = features['SaleType'].fillna('Oth')\n",
    "X_test_full['SaleType'] = X_test_full['SaleType'].fillna('Oth')"
   ]
  },
  {
   "cell_type": "code",
   "execution_count": 10,
   "id": "5141c1e2",
   "metadata": {
    "execution": {
     "iopub.execute_input": "2021-12-31T17:28:02.179047Z",
     "iopub.status.busy": "2021-12-31T17:28:02.178424Z",
     "iopub.status.idle": "2021-12-31T17:28:02.181682Z",
     "shell.execute_reply": "2021-12-31T17:28:02.181136Z",
     "shell.execute_reply.started": "2021-12-31T16:22:25.94327Z"
    },
    "papermill": {
     "duration": 0.045689,
     "end_time": "2021-12-31T17:28:02.181809",
     "exception": false,
     "start_time": "2021-12-31T17:28:02.136120",
     "status": "completed"
    },
    "tags": []
   },
   "outputs": [],
   "source": [
    "log_target = np.log1p(target) # log transform target for ease of evaluation\n",
    "log_target_rf = np.log1p(target_rf)"
   ]
  },
  {
   "cell_type": "code",
   "execution_count": 11,
   "id": "7c76af58",
   "metadata": {
    "execution": {
     "iopub.execute_input": "2021-12-31T17:28:02.263459Z",
     "iopub.status.busy": "2021-12-31T17:28:02.262801Z",
     "iopub.status.idle": "2021-12-31T17:28:02.633527Z",
     "shell.execute_reply": "2021-12-31T17:28:02.632699Z",
     "shell.execute_reply.started": "2021-12-31T16:22:25.956353Z"
    },
    "papermill": {
     "duration": 0.413821,
     "end_time": "2021-12-31T17:28:02.633676",
     "exception": false,
     "start_time": "2021-12-31T17:28:02.219855",
     "status": "completed"
    },
    "tags": []
   },
   "outputs": [
    {
     "name": "stdout",
     "output_type": "stream",
     "text": [
      "skewness of lot frontage: 2.163569142324884 \n",
      "\n"
     ]
    },
    {
     "data": {
      "image/png": "[encoded data removed]",
      "text/plain": [
       "<Figure size 648x288 with 1 Axes>"
      ]
     },
     "metadata": {
      "needs_background": "light"
     },
     "output_type": "display_data"
    }
   ],
   "source": [
    "print('skewness of lot frontage:', features['LotFrontage'].skew(), '\\n')\n",
    "plt.figure(figsize=(9,4))\n",
    "plt.title('Lot frontage distribution')\n",
    "sns.histplot(features['LotFrontage'], kde=True)\n",
    "plt.show()"
   ]
  },
  {
   "cell_type": "code",
   "execution_count": 12,
   "id": "b2f8cd59",
   "metadata": {
    "execution": {
     "iopub.execute_input": "2021-12-31T17:28:02.719991Z",
     "iopub.status.busy": "2021-12-31T17:28:02.718994Z",
     "iopub.status.idle": "2021-12-31T17:28:02.728534Z",
     "shell.execute_reply": "2021-12-31T17:28:02.727945Z",
     "shell.execute_reply.started": "2021-12-31T16:22:26.338611Z"
    },
    "papermill": {
     "duration": 0.055555,
     "end_time": "2021-12-31T17:28:02.728686",
     "exception": false,
     "start_time": "2021-12-31T17:28:02.673131",
     "status": "completed"
    },
    "tags": []
   },
   "outputs": [],
   "source": [
    "# filling with street group median due to non-normality\n",
    "features['LotFrontage'] = features.groupby('Street')['LotFrontage'].transform(lambda x: x.fillna(x.median()))\n",
    "X_test_full['LotFrontage'] = X_test_full.groupby('Street')['LotFrontage'].transform(lambda x: x.fillna(x.median()))"
   ]
  },
  {
   "cell_type": "code",
   "execution_count": 13,
   "id": "c5480298",
   "metadata": {
    "execution": {
     "iopub.execute_input": "2021-12-31T17:28:02.815731Z",
     "iopub.status.busy": "2021-12-31T17:28:02.809850Z",
     "iopub.status.idle": "2021-12-31T17:28:04.515617Z",
     "shell.execute_reply": "2021-12-31T17:28:04.516100Z",
     "shell.execute_reply.started": "2021-12-31T16:22:26.355596Z"
    },
    "papermill": {
     "duration": 1.748262,
     "end_time": "2021-12-31T17:28:04.516271",
     "exception": false,
     "start_time": "2021-12-31T17:28:02.768009",
     "status": "completed"
    },
    "tags": []
   },
   "outputs": [
    {
     "data": {
      "image/png": "[encoded data removed]",
      "text/plain": [
       "<Figure size 720x576 with 2 Axes>"
      ]
     },
     "metadata": {
      "needs_background": "light"
     },
     "output_type": "display_data"
    },
    {
     "data": {
      "image/png": "[encoded data removed]",
      "text/plain": [
       "<Figure size 720x576 with 2 Axes>"
      ]
     },
     "metadata": {
      "needs_background": "light"
     },
     "output_type": "display_data"
    }
   ],
   "source": [
    "# plot correlation heat map\n",
    "corr = X[numeric + ['SalePrice']].corr()\n",
    "corr_rf = X_rf[numeric_rf + ['SalePrice']].corr()\n",
    "\n",
    "plt.figure(figsize=(10,8))\n",
    "plt.title('Correlation heatmap of median/mode imputed feature')\n",
    "sns.heatmap(corr)\n",
    "plt.show()\n",
    "\n",
    "plt.figure(figsize=(10,8))\n",
    "plt.title('Correlation heatmap of random forest imputed feature')\n",
    "sns.heatmap(corr_rf)\n",
    "plt.show()"
   ]
  },
  {
   "cell_type": "code",
   "execution_count": 14,
   "id": "fbfd3fde",
   "metadata": {
    "execution": {
     "iopub.execute_input": "2021-12-31T17:28:04.613746Z",
     "iopub.status.busy": "2021-12-31T17:28:04.612728Z",
     "iopub.status.idle": "2021-12-31T17:28:04.621786Z",
     "shell.execute_reply": "2021-12-31T17:28:04.621249Z",
     "shell.execute_reply.started": "2021-12-31T16:22:28.187553Z"
    },
    "papermill": {
     "duration": 0.061791,
     "end_time": "2021-12-31T17:28:04.621920",
     "exception": false,
     "start_time": "2021-12-31T17:28:04.560129",
     "status": "completed"
    },
    "tags": []
   },
   "outputs": [
    {
     "data": {
      "text/plain": [
       "GrLivArea       2\n",
       "GarageArea      1\n",
       "1stFlrSF        1\n",
       "GarageYrBlt     1\n",
       "TotalBsmtSF     1\n",
       "GarageCars      1\n",
       "YearBuilt       1\n",
       "TotRmsAbvGrd    1\n",
       "SalePrice       1\n",
       "dtype: int64"
      ]
     },
     "metadata": {},
     "output_type": "display_data"
    },
    {
     "name": "stdout",
     "output_type": "stream",
     "text": [
      "\n",
      "\n"
     ]
    },
    {
     "data": {
      "text/plain": [
       "GrLivArea       2\n",
       "GarageArea      1\n",
       "X1stFlrSF       1\n",
       "GarageYrBlt     1\n",
       "TotalBsmtSF     1\n",
       "GarageCars      1\n",
       "YearBuilt       1\n",
       "TotRmsAbvGrd    1\n",
       "SalePrice       1\n",
       "dtype: int64"
      ]
     },
     "metadata": {},
     "output_type": "display_data"
    }
   ],
   "source": [
    "_ = (np.abs(corr) >= 0.7).sum() - 1\n",
    "display(_[_>0].sort_values(ascending=False))\n",
    "print('\\n')\n",
    "_ = (np.abs(corr_rf) >= 0.7).sum() - 1\n",
    "display(_[_>0].sort_values(ascending=False))"
   ]
  },
  {
   "cell_type": "code",
   "execution_count": 15,
   "id": "bd0869b8",
   "metadata": {
    "execution": {
     "iopub.execute_input": "2021-12-31T17:28:04.720584Z",
     "iopub.status.busy": "2021-12-31T17:28:04.719003Z",
     "iopub.status.idle": "2021-12-31T17:28:04.731930Z",
     "shell.execute_reply": "2021-12-31T17:28:04.732418Z",
     "shell.execute_reply.started": "2021-12-31T16:22:33.086326Z"
    },
    "papermill": {
     "duration": 0.066477,
     "end_time": "2021-12-31T17:28:04.732589",
     "exception": false,
     "start_time": "2021-12-31T17:28:04.666112",
     "status": "completed"
    },
    "tags": []
   },
   "outputs": [
    {
     "data": {
      "text/plain": [
       "Index(['GarageArea', 'GrLivArea', 'BsmtUnfSF', 'LowQualFinSF', 'BedroomAbvGr',\n",
       "       'LotArea', 'YrSold', 'WoodDeckSF', 'MasVnrArea', 'EnclosedPorch',\n",
       "       'BsmtFinSF1', '3SsnPorch', 'Fireplaces', 'HalfBath', '2ndFlrSF',\n",
       "       'TotalBsmtSF', 'BsmtHalfBath', 'YearRemodAdd', 'KitchenAbvGr',\n",
       "       'PoolArea', 'OpenPorchSF', 'FullBath', 'YearBuilt', 'BsmtFinSF2',\n",
       "       'TotRmsAbvGrd', 'MiscVal', 'ScreenPorch', 'LotFrontage'],\n",
       "      dtype='object')"
      ]
     },
     "execution_count": 15,
     "metadata": {},
     "output_type": "execute_result"
    }
   ],
   "source": [
    "copy = features[numeric].copy()\n",
    "copy_t = X_test_full[numeric].copy()\n",
    "copy_rf = features_rf[numeric_rf].copy()\n",
    "copy_t_rf = X_test_full_rf[numeric_rf].copy()\n",
    "\n",
    "# drop highly correlated features\n",
    "for df in [copy, copy_t]:\n",
    "    df.drop(columns=['1stFlrSF', 'GarageCars', 'BsmtFullBath', 'GarageYrBlt'], inplace=True)\n",
    "    \n",
    "for df in [copy_rf, copy_t_rf]:\n",
    "    df.drop(columns=['X1stFlrSF', 'GarageCars', 'BsmtFullBath', 'GarageYrBlt'], inplace=True)\n",
    "\n",
    "copy.columns"
   ]
  },
  {
   "cell_type": "code",
   "execution_count": 16,
   "id": "2a4c9d76",
   "metadata": {
    "execution": {
     "iopub.execute_input": "2021-12-31T17:28:04.825395Z",
     "iopub.status.busy": "2021-12-31T17:28:04.824468Z",
     "iopub.status.idle": "2021-12-31T17:28:06.461483Z",
     "shell.execute_reply": "2021-12-31T17:28:06.461957Z",
     "shell.execute_reply.started": "2021-12-31T16:22:37.680418Z"
    },
    "papermill": {
     "duration": 1.685145,
     "end_time": "2021-12-31T17:28:06.462114",
     "exception": false,
     "start_time": "2021-12-31T17:28:04.776969",
     "status": "completed"
    },
    "tags": []
   },
   "outputs": [
    {
     "data": {
      "image/png": "[encoded data removed]",
      "text/plain": [
       "<Figure size 720x576 with 2 Axes>"
      ]
     },
     "metadata": {
      "needs_background": "light"
     },
     "output_type": "display_data"
    },
    {
     "data": {
      "image/png": "[encoded data removed]",
      "text/plain": [
       "<Figure size 720x576 with 2 Axes>"
      ]
     },
     "metadata": {
      "needs_background": "light"
     },
     "output_type": "display_data"
    }
   ],
   "source": [
    "copy['FrontPerArea'] = copy['LotFrontage'] / copy['LotArea']\n",
    "copy_t['FrontPerArea'] = copy_t['LotFrontage'] / copy_t['LotArea']\n",
    "copy_rf['FrontPerArea'] = copy_rf['LotFrontage'] / copy_rf['LotArea']\n",
    "copy_t_rf['FrontPerArea'] = copy_t_rf['LotFrontage'] / copy_t_rf['LotArea']\n",
    "\n",
    "copy['KitchRate'] = copy['KitchenAbvGr'] / copy['TotRmsAbvGrd']\n",
    "copy_t['KitchRate'] = copy_t['KitchenAbvGr'] / copy_t['TotRmsAbvGrd']\n",
    "copy_rf['KitchRate'] = copy_rf['KitchenAbvGr'] / copy_rf['TotRmsAbvGrd']\n",
    "copy_t_rf['KitchRate'] = copy_t_rf['KitchenAbvGr'] / copy_t_rf['TotRmsAbvGrd']\n",
    "\n",
    "copy['BedRRate'] = copy['BedroomAbvGr'] / copy['TotRmsAbvGrd']\n",
    "copy_t['BedRRate'] = copy_t['BedroomAbvGr'] / copy_t['TotRmsAbvGrd']\n",
    "copy_rf['BedRRate'] = copy_rf['BedroomAbvGr'] / copy_rf['TotRmsAbvGrd']\n",
    "copy_t_rf['BedRRate'] = copy_t_rf['BedroomAbvGr'] / copy_t_rf['TotRmsAbvGrd']\n",
    "\n",
    "for df in [copy, copy_t, copy_rf, copy_t_rf]:\n",
    "    df.drop(columns=['TotRmsAbvGrd'], inplace=True)\n",
    "\n",
    "plt.figure(figsize=(10,8))\n",
    "plt.title('Correlation heatmap of median/mode imputed feature')\n",
    "sns.heatmap(pd.concat([copy, X['SalePrice']], axis=1).corr())\n",
    "plt.show()\n",
    "plt.figure(figsize=(10,8))\n",
    "plt.title('Correlation heatmap of random forest imputed feature')\n",
    "sns.heatmap(pd.concat([copy_rf, X_rf['SalePrice']], axis=1).corr())\n",
    "plt.show()"
   ]
  },
  {
   "cell_type": "code",
   "execution_count": 17,
   "id": "f1401071",
   "metadata": {
    "execution": {
     "iopub.execute_input": "2021-12-31T17:28:06.573617Z",
     "iopub.status.busy": "2021-12-31T17:28:06.572976Z",
     "iopub.status.idle": "2021-12-31T17:28:06.594601Z",
     "shell.execute_reply": "2021-12-31T17:28:06.593794Z",
     "shell.execute_reply.started": "2021-12-31T16:23:00.043394Z"
    },
    "papermill": {
     "duration": 0.082959,
     "end_time": "2021-12-31T17:28:06.594805",
     "exception": false,
     "start_time": "2021-12-31T17:28:06.511846",
     "status": "completed"
    },
    "tags": []
   },
   "outputs": [
    {
     "data": {
      "text/plain": [
       "Series([], dtype: int64)"
      ]
     },
     "metadata": {},
     "output_type": "display_data"
    },
    {
     "name": "stdout",
     "output_type": "stream",
     "text": [
      "\n",
      "\n"
     ]
    },
    {
     "data": {
      "text/plain": [
       "Series([], dtype: int64)"
      ]
     },
     "metadata": {},
     "output_type": "display_data"
    }
   ],
   "source": [
    "# verify no colinearity\n",
    "_ = (np.abs(copy.corr()) >= 0.7).sum() - 1\n",
    "display(_[_>0].sort_values(ascending=False))\n",
    "print('\\n')\n",
    "_ = (np.abs(copy_rf.corr()) >= 0.7).sum() - 1\n",
    "display(_[_>0].sort_values(ascending=False))"
   ]
  },
  {
   "cell_type": "code",
   "execution_count": 18,
   "id": "7f3a8dc6",
   "metadata": {
    "execution": {
     "iopub.execute_input": "2021-12-31T17:28:06.717717Z",
     "iopub.status.busy": "2021-12-31T17:28:06.716984Z",
     "iopub.status.idle": "2021-12-31T17:28:08.167685Z",
     "shell.execute_reply": "2021-12-31T17:28:08.168242Z",
     "shell.execute_reply.started": "2021-12-31T16:23:27.846799Z"
    },
    "papermill": {
     "duration": 1.507739,
     "end_time": "2021-12-31T17:28:08.168428",
     "exception": false,
     "start_time": "2021-12-31T17:28:06.660689",
     "status": "completed"
    },
    "tags": []
   },
   "outputs": [
    {
     "data": {
      "text/html": [
       "<style type='text/css'>\n",
       ".datatable table.frame { margin-bottom: 0; }\n",
       ".datatable table.frame thead { border-bottom: none; }\n",
       ".datatable table.frame tr.coltypes td {  color: #FFFFFF;  line-height: 6px;  padding: 0 0.5em;}\n",
       ".datatable .bool    { background: #DDDD99; }\n",
       ".datatable .object  { background: #565656; }\n",
       ".datatable .int     { background: #5D9E5D; }\n",
       ".datatable .float   { background: #4040CC; }\n",
       ".datatable .str     { background: #CC4040; }\n",
       ".datatable .time    { background: #40CC40; }\n",
       ".datatable .row_index {  background: var(--jp-border-color3);  border-right: 1px solid var(--jp-border-color0);  color: var(--jp-ui-font-color3);  font-size: 9px;}\n",
       ".datatable .frame tbody td { text-align: left; }\n",
       ".datatable .frame tr.coltypes .row_index {  background: var(--jp-border-color0);}\n",
       ".datatable th:nth-child(2) { padding-left: 12px; }\n",
       ".datatable .hellipsis {  color: var(--jp-cell-editor-border-color);}\n",
       ".datatable .vellipsis {  background: var(--jp-layout-color0);  color: var(--jp-cell-editor-border-color);}\n",
       ".datatable .na {  color: var(--jp-cell-editor-border-color);  font-size: 80%;}\n",
       ".datatable .sp {  opacity: 0.25;}\n",
       ".datatable .footer { font-size: 9px; }\n",
       ".datatable .frame_dimensions {  background: var(--jp-border-color3);  border-top: 1px solid var(--jp-border-color0);  color: var(--jp-ui-font-color3);  display: inline-block;  opacity: 0.6;  padding: 1px 10px 1px 5px;}\n",
       ".datatable .frame thead tr.colnames {  background-image: url('data:image/png;base64,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');  background-repeat: repeat-x;  background-size: 14px;  height: 28px;}\n",
       "</style>\n"
      ],
      "text/plain": [
       "<IPython.core.display.HTML object>"
      ]
     },
     "metadata": {},
     "output_type": "display_data"
    }
   ],
   "source": [
    "# encode categorical variable using target group mean\n",
    "enc = BayesianTargetEncoder(\n",
    "    columns=nominal,\n",
    "    prior_weight=5, # smoothing to prevent overfitting\n",
    "    suffix=''\n",
    "    )\n",
    "\n",
    "nom_train = enc.fit_transform(features.loc[:,nominal], log_target)\n",
    "nom_test = enc.transform(X_test_full.loc[:,nominal])\n",
    "\n",
    "# encode categorical variable using target group mean\n",
    "enc_rf = BayesianTargetEncoder(\n",
    "    columns=nominal_rf,\n",
    "    prior_weight=5, # smoothing to prevent overfitting\n",
    "    suffix=''\n",
    "    )\n",
    "\n",
    "nom_train_rf = enc_rf.fit_transform(features_rf.loc[:,nominal_rf], log_target_rf)\n",
    "nom_test_rf = enc_rf.transform(X_test_full_rf.loc[:,nominal_rf])"
   ]
  },
  {
   "cell_type": "code",
   "execution_count": 19,
   "id": "94e52dca",
   "metadata": {
    "execution": {
     "iopub.execute_input": "2021-12-31T17:28:08.274529Z",
     "iopub.status.busy": "2021-12-31T17:28:08.273855Z",
     "iopub.status.idle": "2021-12-31T17:28:08.286976Z",
     "shell.execute_reply": "2021-12-31T17:28:08.286414Z",
     "shell.execute_reply.started": "2021-12-31T16:24:05.723771Z"
    },
    "papermill": {
     "duration": 0.067211,
     "end_time": "2021-12-31T17:28:08.287131",
     "exception": false,
     "start_time": "2021-12-31T17:28:08.219920",
     "status": "completed"
    },
    "tags": []
   },
   "outputs": [],
   "source": [
    "copy_cat = pd.concat([features[ordinal], nom_train], axis=1)\n",
    "copy_catt = pd.concat([X_test_full[ordinal], nom_test], axis=1)\n",
    "\n",
    "copy_cat_rf = pd.concat([features_rf[ordinal_rf], nom_train_rf], axis=1)\n",
    "copy_catt_rf = pd.concat([X_test_full_rf[ordinal_rf], nom_test_rf], axis=1)"
   ]
  },
  {
   "cell_type": "code",
   "execution_count": 20,
   "id": "c0848e0c",
   "metadata": {
    "execution": {
     "iopub.execute_input": "2021-12-31T17:28:08.399591Z",
     "iopub.status.busy": "2021-12-31T17:28:08.398863Z",
     "iopub.status.idle": "2021-12-31T17:28:08.414200Z",
     "shell.execute_reply": "2021-12-31T17:28:08.413641Z",
     "shell.execute_reply.started": "2021-12-31T16:24:15.771836Z"
    },
    "papermill": {
     "duration": 0.07589,
     "end_time": "2021-12-31T17:28:08.414367",
     "exception": false,
     "start_time": "2021-12-31T17:28:08.338477",
     "status": "completed"
    },
    "tags": []
   },
   "outputs": [],
   "source": [
    "# feature standardization\n",
    "scaler = StandardScaler()\n",
    "num_scaled = pd.DataFrame(scaler.fit_transform(copy), index=features.index, columns=copy.columns)\n",
    "num_scaled_test = pd.DataFrame(scaler.transform(copy_t), index=X_test_full.index, columns=copy.columns)\n",
    "\n",
    "scaler_rf = StandardScaler()\n",
    "num_scaled_rf = pd.DataFrame(scaler_rf.fit_transform(copy_rf), index=features_rf.index, columns=copy_rf.columns)\n",
    "num_scaled_test_rf = pd.DataFrame(scaler_rf.transform(copy_t_rf), index=X_test_full_rf.index, columns=copy_rf.columns)"
   ]
  },
  {
   "cell_type": "code",
   "execution_count": 21,
   "id": "63f06616",
   "metadata": {
    "execution": {
     "iopub.execute_input": "2021-12-31T17:28:08.524470Z",
     "iopub.status.busy": "2021-12-31T17:28:08.523798Z",
     "iopub.status.idle": "2021-12-31T17:28:08.533049Z",
     "shell.execute_reply": "2021-12-31T17:28:08.532474Z",
     "shell.execute_reply.started": "2021-12-31T16:24:58.148657Z"
    },
    "papermill": {
     "duration": 0.06719,
     "end_time": "2021-12-31T17:28:08.533202",
     "exception": false,
     "start_time": "2021-12-31T17:28:08.466012",
     "status": "completed"
    },
    "tags": []
   },
   "outputs": [],
   "source": [
    "X_train = pd.concat([num_scaled, copy_cat], axis=1)\n",
    "X_test = pd.concat([num_scaled_test, copy_catt], axis=1)\n",
    "\n",
    "X_train_rf = pd.concat([num_scaled_rf, copy_cat_rf], axis=1)\n",
    "X_test_rf = pd.concat([num_scaled_test_rf, copy_catt_rf], axis=1)"
   ]
  },
  {
   "cell_type": "code",
   "execution_count": 22,
   "id": "97823ce9",
   "metadata": {
    "execution": {
     "iopub.execute_input": "2021-12-31T17:28:08.643745Z",
     "iopub.status.busy": "2021-12-31T17:28:08.643005Z",
     "iopub.status.idle": "2021-12-31T17:28:08.644772Z",
     "shell.execute_reply": "2021-12-31T17:28:08.645258Z",
     "shell.execute_reply.started": "2021-12-31T16:25:43.87848Z"
    },
    "papermill": {
     "duration": 0.06074,
     "end_time": "2021-12-31T17:28:08.645433",
     "exception": false,
     "start_time": "2021-12-31T17:28:08.584693",
     "status": "completed"
    },
    "tags": []
   },
   "outputs": [],
   "source": [
    "n_splits = 5\n",
    "def do_cv(X, y, clf):\n",
    "    means = []\n",
    "    kf = KFold(n_splits=n_splits, shuffle=True)\n",
    "    for train_index, test_index in kf.split(X):\n",
    "        X_train, X_test = X.iloc[train_index], X.iloc[test_index]\n",
    "        y_train, y_test = y.iloc[train_index], y.iloc[test_index]\n",
    "        model = clf.fit(X_train, y_train)\n",
    "        rmsle = mean_squared_error(y_test, model.predict(X_test))\n",
    "        means.append(rmsle)\n",
    "    return np.average(means)"
   ]
  },
  {
   "cell_type": "code",
   "execution_count": 23,
   "id": "51f0f201",
   "metadata": {
    "execution": {
     "iopub.execute_input": "2021-12-31T17:28:08.751068Z",
     "iopub.status.busy": "2021-12-31T17:28:08.750327Z",
     "iopub.status.idle": "2021-12-31T17:28:31.840076Z",
     "shell.execute_reply": "2021-12-31T17:28:31.841469Z",
     "shell.execute_reply.started": "2021-12-31T16:26:14.75559Z"
    },
    "papermill": {
     "duration": 23.145345,
     "end_time": "2021-12-31T17:28:31.841763",
     "exception": false,
     "start_time": "2021-12-31T17:28:08.696418",
     "status": "completed"
    },
    "tags": []
   },
   "outputs": [
    {
     "name": "stderr",
     "output_type": "stream",
     "text": [
      "/opt/conda/lib/python3.7/site-packages/optuna/progress_bar.py:47: ExperimentalWarning: Progress bar is experimental (supported from v1.2.0). The interface can change in the future.\n",
      "  self._init_valid()\n"
     ]
    },
    {
     "data": {
      "application/vnd.jupyter.widget-view+json": {
       "model_id": "544359c9ccc54f20adf529529e899108",
       "version_major": 2,
       "version_minor": 0
      },
      "text/plain": [
       "  0%|          | 0/150 [00:00<?, ?it/s]"
      ]
     },
     "metadata": {},
     "output_type": "display_data"
    },
    {
     "name": "stderr",
     "output_type": "stream",
     "text": [
      "/opt/conda/lib/python3.7/site-packages/optuna/progress_bar.py:47: ExperimentalWarning: Progress bar is experimental (supported from v1.2.0). The interface can change in the future.\n",
      "  self._init_valid()\n"
     ]
    },
    {
     "data": {
      "application/vnd.jupyter.widget-view+json": {
       "model_id": "c39dece0904f41eb95f7571308822551",
       "version_major": 2,
       "version_minor": 0
      },
      "text/plain": [
       "  0%|          | 0/150 [00:00<?, ?it/s]"
      ]
     },
     "metadata": {},
     "output_type": "display_data"
    }
   ],
   "source": [
    "def objective_lasso(trial):\n",
    "    params = dict(\n",
    "           alpha=trial.suggest_float('alpha', 1e-5, 1e0)\n",
    "    )\n",
    "    model = Lasso(**params, max_iter = 10000000)\n",
    "    return do_cv(X_train, log_target, model)\n",
    "\n",
    "def objective_lasso_rf(trial):\n",
    "    params = dict(\n",
    "           alpha=trial.suggest_float('alpha', 1e-5, 1e0)\n",
    "    )\n",
    "    model = Lasso(**params, max_iter = 10000000)\n",
    "    return do_cv(X_train_rf, log_target_rf, model)\n",
    "\n",
    "optuna.logging.set_verbosity(optuna.logging.ERROR)\n",
    "study_lasso = optuna.create_study(direction='minimize')\n",
    "study_lasso.optimize(objective_lasso, n_trials=150, show_progress_bar=True)\n",
    "\n",
    "study_lasso_rf = optuna.create_study(direction='minimize')\n",
    "study_lasso_rf.optimize(objective_lasso_rf, n_trials=150, show_progress_bar=True)"
   ]
  },
  {
   "cell_type": "code",
   "execution_count": 24,
   "id": "095ed9b3",
   "metadata": {
    "execution": {
     "iopub.execute_input": "2021-12-31T17:28:32.003607Z",
     "iopub.status.busy": "2021-12-31T17:28:32.002954Z",
     "iopub.status.idle": "2021-12-31T17:28:32.005434Z",
     "shell.execute_reply": "2021-12-31T17:28:32.005912Z",
     "shell.execute_reply.started": "2021-12-31T16:26:57.155587Z"
    },
    "papermill": {
     "duration": 0.062956,
     "end_time": "2021-12-31T17:28:32.006070",
     "exception": false,
     "start_time": "2021-12-31T17:28:31.943114",
     "status": "completed"
    },
    "tags": []
   },
   "outputs": [
    {
     "name": "stdout",
     "output_type": "stream",
     "text": [
      "best lasso regression rmsle score: 0.14349208905052876\n",
      "best random forest imputed lasso regression rmsle score: 0.14390816020598754\n"
     ]
    }
   ],
   "source": [
    "print('best lasso regression rmsle score:', np.sqrt(study_lasso.best_value))\n",
    "print('best random forest imputed lasso regression rmsle score:', np.sqrt(study_lasso_rf.best_value))"
   ]
  },
  {
   "cell_type": "code",
   "execution_count": 25,
   "id": "06650b25",
   "metadata": {
    "execution": {
     "iopub.execute_input": "2021-12-31T17:28:32.116441Z",
     "iopub.status.busy": "2021-12-31T17:28:32.115814Z",
     "iopub.status.idle": "2021-12-31T17:28:32.147549Z",
     "shell.execute_reply": "2021-12-31T17:28:32.148597Z",
     "shell.execute_reply.started": "2021-12-31T16:27:04.266148Z"
    },
    "papermill": {
     "duration": 0.089111,
     "end_time": "2021-12-31T17:28:32.148863",
     "exception": false,
     "start_time": "2021-12-31T17:28:32.059752",
     "status": "completed"
    },
    "tags": []
   },
   "outputs": [
    {
     "data": {
      "text/plain": [
       "array([122603.5443671 , 152304.69937676, 178051.11841028, ...,\n",
       "       170668.76008514, 120948.16340714, 214645.32076296])"
      ]
     },
     "execution_count": 25,
     "metadata": {},
     "output_type": "execute_result"
    }
   ],
   "source": [
    "lasso_model = Lasso(**study_lasso_rf.best_params).fit(X_train_rf, log_target_rf)\n",
    "np.expm1(lasso_model.predict(X_test_rf))"
   ]
  },
  {
   "cell_type": "code",
   "execution_count": 26,
   "id": "b16c1780",
   "metadata": {
    "execution": {
     "iopub.execute_input": "2021-12-31T17:28:32.318385Z",
     "iopub.status.busy": "2021-12-31T17:28:32.317721Z",
     "iopub.status.idle": "2021-12-31T17:28:53.989753Z",
     "shell.execute_reply": "2021-12-31T17:28:53.990828Z",
     "shell.execute_reply.started": "2021-12-31T16:27:07.281811Z"
    },
    "papermill": {
     "duration": 21.73953,
     "end_time": "2021-12-31T17:28:53.991114",
     "exception": false,
     "start_time": "2021-12-31T17:28:32.251584",
     "status": "completed"
    },
    "tags": []
   },
   "outputs": [
    {
     "name": "stderr",
     "output_type": "stream",
     "text": [
      "/opt/conda/lib/python3.7/site-packages/optuna/progress_bar.py:47: ExperimentalWarning: Progress bar is experimental (supported from v1.2.0). The interface can change in the future.\n",
      "  self._init_valid()\n"
     ]
    },
    {
     "data": {
      "application/vnd.jupyter.widget-view+json": {
       "model_id": "a3d2465176654d25baf8926100676cb1",
       "version_major": 2,
       "version_minor": 0
      },
      "text/plain": [
       "  0%|          | 0/150 [00:00<?, ?it/s]"
      ]
     },
     "metadata": {},
     "output_type": "display_data"
    },
    {
     "name": "stderr",
     "output_type": "stream",
     "text": [
      "/opt/conda/lib/python3.7/site-packages/optuna/progress_bar.py:47: ExperimentalWarning: Progress bar is experimental (supported from v1.2.0). The interface can change in the future.\n",
      "  self._init_valid()\n"
     ]
    },
    {
     "data": {
      "application/vnd.jupyter.widget-view+json": {
       "model_id": "1d29a88b08ff4ac19b5a63a715b9e36a",
       "version_major": 2,
       "version_minor": 0
      },
      "text/plain": [
       "  0%|          | 0/150 [00:00<?, ?it/s]"
      ]
     },
     "metadata": {},
     "output_type": "display_data"
    }
   ],
   "source": [
    "def objective_ridge(trial):\n",
    "    params = dict(\n",
    "           alpha=trial.suggest_float('alpha', 1e-5, 1e0)\n",
    "    )\n",
    "    model = Ridge(**params, max_iter = 10000000)\n",
    "    return do_cv(X_train, log_target, model)\n",
    "\n",
    "def objective_ridge_rf(trial):\n",
    "    params = dict(\n",
    "           alpha=trial.suggest_float('alpha', 1e-5, 1e0)\n",
    "    )\n",
    "    model = Ridge(**params, max_iter = 10000000)\n",
    "    return do_cv(X_train_rf, log_target_rf, model)\n",
    "\n",
    "optuna.logging.set_verbosity(optuna.logging.ERROR)\n",
    "study_ridge = optuna.create_study(direction='minimize')\n",
    "study_ridge.optimize(objective_ridge, n_trials=150, show_progress_bar=True)\n",
    "\n",
    "study_ridge_rf = optuna.create_study(direction='minimize')\n",
    "study_ridge_rf.optimize(objective_ridge_rf, n_trials=150, show_progress_bar=True)"
   ]
  },
  {
   "cell_type": "code",
   "execution_count": 27,
   "id": "15cb7113",
   "metadata": {
    "execution": {
     "iopub.execute_input": "2021-12-31T17:28:54.159846Z",
     "iopub.status.busy": "2021-12-31T17:28:54.159041Z",
     "iopub.status.idle": "2021-12-31T17:28:54.162053Z",
     "shell.execute_reply": "2021-12-31T17:28:54.162581Z",
     "shell.execute_reply.started": "2021-12-31T16:27:48.442652Z"
    },
    "papermill": {
     "duration": 0.065677,
     "end_time": "2021-12-31T17:28:54.162757",
     "exception": false,
     "start_time": "2021-12-31T17:28:54.097080",
     "status": "completed"
    },
    "tags": []
   },
   "outputs": [
    {
     "name": "stdout",
     "output_type": "stream",
     "text": [
      "best ridge regression rmsle score: 0.13884428640341656\n",
      "best random forest imputed ridge regression rmsle score: 0.1404957725078332\n"
     ]
    }
   ],
   "source": [
    "print('best ridge regression rmsle score:', np.sqrt(study_ridge.best_value))\n",
    "print('best random forest imputed ridge regression rmsle score:', np.sqrt(study_ridge_rf.best_value))"
   ]
  },
  {
   "cell_type": "code",
   "execution_count": 28,
   "id": "2badca9a",
   "metadata": {
    "execution": {
     "iopub.execute_input": "2021-12-31T17:28:54.279972Z",
     "iopub.status.busy": "2021-12-31T17:28:54.279265Z",
     "iopub.status.idle": "2021-12-31T17:28:54.294205Z",
     "shell.execute_reply": "2021-12-31T17:28:54.293301Z",
     "shell.execute_reply.started": "2021-12-31T16:30:40.459686Z"
    },
    "papermill": {
     "duration": 0.076464,
     "end_time": "2021-12-31T17:28:54.294438",
     "exception": false,
     "start_time": "2021-12-31T17:28:54.217974",
     "status": "completed"
    },
    "tags": []
   },
   "outputs": [
    {
     "data": {
      "text/plain": [
       "array([118700.02246577, 155043.01798003, 175476.51476488, ...,\n",
       "       168778.68943001, 120100.53445174, 213950.57495481])"
      ]
     },
     "execution_count": 28,
     "metadata": {},
     "output_type": "execute_result"
    }
   ],
   "source": [
    "ridge_model = Ridge(**study_ridge_rf.best_params).fit(X_train_rf, log_target_rf)\n",
    "np.expm1(ridge_model.predict(X_test_rf))"
   ]
  },
  {
   "cell_type": "code",
   "execution_count": 29,
   "id": "c18e86f6",
   "metadata": {
    "execution": {
     "iopub.execute_input": "2021-12-31T17:28:54.491458Z",
     "iopub.status.busy": "2021-12-31T17:28:54.463759Z",
     "iopub.status.idle": "2021-12-31T17:34:12.983043Z",
     "shell.execute_reply": "2021-12-31T17:34:12.982500Z",
     "shell.execute_reply.started": "2021-12-31T16:31:22.32426Z"
    },
    "papermill": {
     "duration": 318.578737,
     "end_time": "2021-12-31T17:34:12.983207",
     "exception": false,
     "start_time": "2021-12-31T17:28:54.404470",
     "status": "completed"
    },
    "tags": []
   },
   "outputs": [
    {
     "name": "stderr",
     "output_type": "stream",
     "text": [
      "/opt/conda/lib/python3.7/site-packages/optuna/progress_bar.py:47: ExperimentalWarning: Progress bar is experimental (supported from v1.2.0). The interface can change in the future.\n",
      "  self._init_valid()\n"
     ]
    },
    {
     "data": {
      "application/vnd.jupyter.widget-view+json": {
       "model_id": "fc92d760171d4be093e16091e7aa9b44",
       "version_major": 2,
       "version_minor": 0
      },
      "text/plain": [
       "  0%|          | 0/150 [00:00<?, ?it/s]"
      ]
     },
     "metadata": {},
     "output_type": "display_data"
    }
   ],
   "source": [
    "def objective_svr(trial):\n",
    "    params = dict(\n",
    "            C=trial.suggest_float('C', 1e-2, 1e3)\n",
    "    )\n",
    "    model = SVR(**params)\n",
    "    return do_cv(X_train, log_target, model)\n",
    "\n",
    "optuna.logging.set_verbosity(optuna.logging.ERROR)\n",
    "study_svr = optuna.create_study(direction='minimize')\n",
    "study_svr.optimize(objective_svr, n_trials=150, show_progress_bar=True)"
   ]
  },
  {
   "cell_type": "code",
   "execution_count": 30,
   "id": "a8ef4302",
   "metadata": {
    "execution": {
     "iopub.execute_input": "2021-12-31T17:34:13.127764Z",
     "iopub.status.busy": "2021-12-31T17:34:13.126862Z",
     "iopub.status.idle": "2021-12-31T17:39:06.910616Z",
     "shell.execute_reply": "2021-12-31T17:39:06.909541Z",
     "shell.execute_reply.started": "2021-12-31T16:36:19.940158Z"
    },
    "papermill": {
     "duration": 293.869566,
     "end_time": "2021-12-31T17:39:06.910770",
     "exception": false,
     "start_time": "2021-12-31T17:34:13.041204",
     "status": "completed"
    },
    "tags": []
   },
   "outputs": [
    {
     "name": "stderr",
     "output_type": "stream",
     "text": [
      "/opt/conda/lib/python3.7/site-packages/optuna/progress_bar.py:47: ExperimentalWarning: Progress bar is experimental (supported from v1.2.0). The interface can change in the future.\n",
      "  self._init_valid()\n"
     ]
    },
    {
     "data": {
      "application/vnd.jupyter.widget-view+json": {
       "model_id": "bae698b1b01e4e9e9454a5195561bb79",
       "version_major": 2,
       "version_minor": 0
      },
      "text/plain": [
       "  0%|          | 0/150 [00:00<?, ?it/s]"
      ]
     },
     "metadata": {},
     "output_type": "display_data"
    }
   ],
   "source": [
    "def objective_svr_rf(trial):\n",
    "    params = dict(\n",
    "            C=trial.suggest_float('C', 1e-2, 1e3)\n",
    "    )\n",
    "    model = SVR(**params)\n",
    "    return do_cv(X_train_rf, log_target_rf, model)\n",
    "\n",
    "optuna.logging.set_verbosity(optuna.logging.ERROR)\n",
    "study_svr_rf = optuna.create_study(direction='minimize')\n",
    "study_svr_rf.optimize(objective_svr_rf, n_trials=150, show_progress_bar=True)"
   ]
  },
  {
   "cell_type": "code",
   "execution_count": 31,
   "id": "df3a639f",
   "metadata": {
    "execution": {
     "iopub.execute_input": "2021-12-31T17:39:07.028334Z",
     "iopub.status.busy": "2021-12-31T17:39:07.027671Z",
     "iopub.status.idle": "2021-12-31T17:39:07.034219Z",
     "shell.execute_reply": "2021-12-31T17:39:07.033696Z",
     "shell.execute_reply.started": "2021-12-31T16:41:19.972575Z"
    },
    "papermill": {
     "duration": 0.066724,
     "end_time": "2021-12-31T17:39:07.034377",
     "exception": false,
     "start_time": "2021-12-31T17:39:06.967653",
     "status": "completed"
    },
    "tags": []
   },
   "outputs": [
    {
     "name": "stdout",
     "output_type": "stream",
     "text": [
      "best svr rmsle score: 0.12502973066370596\n",
      "best random forest imputed svr rmsle score: 0.12293771357310194\n"
     ]
    }
   ],
   "source": [
    "print('best svr rmsle score:', np.sqrt(study_svr.best_value))\n",
    "print('best random forest imputed svr rmsle score:', np.sqrt(study_svr_rf.best_value))"
   ]
  },
  {
   "cell_type": "code",
   "execution_count": 32,
   "id": "7606d062",
   "metadata": {
    "execution": {
     "iopub.execute_input": "2021-12-31T17:39:07.151139Z",
     "iopub.status.busy": "2021-12-31T17:39:07.150530Z",
     "iopub.status.idle": "2021-12-31T17:39:07.696984Z",
     "shell.execute_reply": "2021-12-31T17:39:07.697541Z",
     "shell.execute_reply.started": "2021-12-31T16:41:19.982767Z"
    },
    "papermill": {
     "duration": 0.606654,
     "end_time": "2021-12-31T17:39:07.697729",
     "exception": false,
     "start_time": "2021-12-31T17:39:07.091075",
     "status": "completed"
    },
    "tags": []
   },
   "outputs": [
    {
     "data": {
      "text/plain": [
       "array([115453.11099974, 164748.00327689, 185250.00202732, ...,\n",
       "       166768.68136388, 115189.15943688, 222367.77428263])"
      ]
     },
     "execution_count": 32,
     "metadata": {},
     "output_type": "execute_result"
    }
   ],
   "source": [
    "svr_model = SVR(**study_svr_rf.best_params).fit(X_train_rf, log_target_rf)\n",
    "np.expm1(svr_model.predict(X_test_rf))"
   ]
  },
  {
   "cell_type": "code",
   "execution_count": 33,
   "id": "90b5b235",
   "metadata": {
    "execution": {
     "iopub.execute_input": "2021-12-31T17:39:07.818591Z",
     "iopub.status.busy": "2021-12-31T17:39:07.817988Z",
     "iopub.status.idle": "2021-12-31T17:46:41.744564Z",
     "shell.execute_reply": "2021-12-31T17:46:41.743997Z",
     "shell.execute_reply.started": "2021-12-31T16:44:02.487459Z"
    },
    "papermill": {
     "duration": 453.987971,
     "end_time": "2021-12-31T17:46:41.744727",
     "exception": false,
     "start_time": "2021-12-31T17:39:07.756756",
     "status": "completed"
    },
    "tags": []
   },
   "outputs": [
    {
     "name": "stderr",
     "output_type": "stream",
     "text": [
      "/opt/conda/lib/python3.7/site-packages/optuna/progress_bar.py:47: ExperimentalWarning: Progress bar is experimental (supported from v1.2.0). The interface can change in the future.\n",
      "  self._init_valid()\n"
     ]
    },
    {
     "data": {
      "application/vnd.jupyter.widget-view+json": {
       "model_id": "a9024c4b07ca47ec8b51135ed8a64eaf",
       "version_major": 2,
       "version_minor": 0
      },
      "text/plain": [
       "  0%|          | 0/75 [00:00<?, ?it/s]"
      ]
     },
     "metadata": {},
     "output_type": "display_data"
    }
   ],
   "source": [
    "def objective_gdb(trial):\n",
    "    params = dict(\n",
    "        n_estimators=trial.suggest_int('n_estimators', 50, 200),\n",
    "        learning_rate=trial.suggest_float('learning_rate', 5e-2, 3e-1),\n",
    "        max_depth=trial.suggest_int('max_depth', 2, 6)\n",
    "    )\n",
    "    model = GradientBoostingRegressor(**params)\n",
    "    return do_cv(X_train, log_target, model)\n",
    "\n",
    "optuna.logging.set_verbosity(optuna.logging.ERROR)\n",
    "study_gdb = optuna.create_study(direction='minimize')\n",
    "study_gdb.optimize(objective_gdb, n_trials=75, show_progress_bar=True)"
   ]
  },
  {
   "cell_type": "code",
   "execution_count": 34,
   "id": "0e865a91",
   "metadata": {
    "execution": {
     "iopub.execute_input": "2021-12-31T17:46:41.895889Z",
     "iopub.status.busy": "2021-12-31T17:46:41.867060Z",
     "iopub.status.idle": "2021-12-31T17:54:02.610918Z",
     "shell.execute_reply": "2021-12-31T17:54:02.610411Z",
     "shell.execute_reply.started": "2021-12-31T16:57:40.362618Z"
    },
    "papermill": {
     "duration": 440.806347,
     "end_time": "2021-12-31T17:54:02.611062",
     "exception": false,
     "start_time": "2021-12-31T17:46:41.804715",
     "status": "completed"
    },
    "tags": []
   },
   "outputs": [
    {
     "name": "stderr",
     "output_type": "stream",
     "text": [
      "/opt/conda/lib/python3.7/site-packages/optuna/progress_bar.py:47: ExperimentalWarning: Progress bar is experimental (supported from v1.2.0). The interface can change in the future.\n",
      "  self._init_valid()\n"
     ]
    },
    {
     "data": {
      "application/vnd.jupyter.widget-view+json": {
       "model_id": "2d7f976b1cf84341bece634567929da5",
       "version_major": 2,
       "version_minor": 0
      },
      "text/plain": [
       "  0%|          | 0/75 [00:00<?, ?it/s]"
      ]
     },
     "metadata": {},
     "output_type": "display_data"
    }
   ],
   "source": [
    "def objective_gdb_rf(trial):\n",
    "    params = dict(\n",
    "        n_estimators=trial.suggest_int('n_estimators', 50, 200),\n",
    "        learning_rate=trial.suggest_float('learning_rate', 5e-2, 3e-1),\n",
    "        max_depth=trial.suggest_int('max_depth', 2, 6)\n",
    "    )\n",
    "    model = GradientBoostingRegressor(**params)\n",
    "    return do_cv(X_train_rf, log_target_rf, model)\n",
    "study_gdb_rf = optuna.create_study(direction='minimize')\n",
    "study_gdb_rf.optimize(objective_gdb_rf, n_trials=75, show_progress_bar=True)"
   ]
  },
  {
   "cell_type": "code",
   "execution_count": 35,
   "id": "3cc97c8d",
   "metadata": {
    "execution": {
     "iopub.execute_input": "2021-12-31T17:54:02.735029Z",
     "iopub.status.busy": "2021-12-31T17:54:02.734365Z",
     "iopub.status.idle": "2021-12-31T17:54:02.737562Z",
     "shell.execute_reply": "2021-12-31T17:54:02.738010Z",
     "shell.execute_reply.started": "2021-12-31T16:57:40.363946Z"
    },
    "papermill": {
     "duration": 0.067782,
     "end_time": "2021-12-31T17:54:02.738167",
     "exception": false,
     "start_time": "2021-12-31T17:54:02.670385",
     "status": "completed"
    },
    "tags": []
   },
   "outputs": [
    {
     "name": "stdout",
     "output_type": "stream",
     "text": [
      "best gdb rmsle score: 0.12253613526005011\n",
      "best random forest imputed gdb rmsle score: 0.1230245465849128\n"
     ]
    }
   ],
   "source": [
    "print('best gdb rmsle score:', np.sqrt(study_gdb.best_value))\n",
    "print('best random forest imputed gdb rmsle score:', np.sqrt(study_gdb_rf.best_value))"
   ]
  },
  {
   "cell_type": "code",
   "execution_count": 36,
   "id": "2ab3428c",
   "metadata": {
    "execution": {
     "iopub.execute_input": "2021-12-31T17:54:02.860590Z",
     "iopub.status.busy": "2021-12-31T17:54:02.859894Z",
     "iopub.status.idle": "2021-12-31T17:54:04.161061Z",
     "shell.execute_reply": "2021-12-31T17:54:04.161581Z",
     "shell.execute_reply.started": "2021-12-31T16:57:40.365172Z"
    },
    "papermill": {
     "duration": 1.365145,
     "end_time": "2021-12-31T17:54:04.161743",
     "exception": false,
     "start_time": "2021-12-31T17:54:02.796598",
     "status": "completed"
    },
    "tags": []
   },
   "outputs": [
    {
     "data": {
      "text/plain": [
       "array([128654.59293561, 160829.080908  , 194779.64276337, ...,\n",
       "       145261.35059405, 121758.24853912, 206787.75922857])"
      ]
     },
     "execution_count": 36,
     "metadata": {},
     "output_type": "execute_result"
    }
   ],
   "source": [
    "gdb_model = GradientBoostingRegressor(**study_gdb_rf.best_params).fit(X_train_rf, log_target_rf)\n",
    "np.expm1(gdb_model.predict(X_test_rf))"
   ]
  },
  {
   "cell_type": "code",
   "execution_count": 37,
   "id": "bfb1dd1f",
   "metadata": {
    "execution": {
     "iopub.execute_input": "2021-12-31T17:54:04.286409Z",
     "iopub.status.busy": "2021-12-31T17:54:04.285733Z",
     "iopub.status.idle": "2021-12-31T17:54:04.364623Z",
     "shell.execute_reply": "2021-12-31T17:54:04.363979Z",
     "shell.execute_reply.started": "2021-12-14T15:55:00.642879Z"
    },
    "papermill": {
     "duration": 0.142024,
     "end_time": "2021-12-31T17:54:04.364761",
     "exception": false,
     "start_time": "2021-12-31T17:54:04.222737",
     "status": "completed"
    },
    "tags": []
   },
   "outputs": [
    {
     "data": {
      "text/plain": [
       "array([121218.2675128 , 162973.80823265, 189480.2367793 , ...,\n",
       "       156723.19792374, 118101.20811909, 215217.5625759 ])"
      ]
     },
     "execution_count": 37,
     "metadata": {},
     "output_type": "execute_result"
    }
   ],
   "source": [
    "combined = 0.55 * svr_model.predict(X_test_rf) + 0.45 * gdb_model.predict(X_test_rf)\n",
    "np.exp(combined)"
   ]
  },
  {
   "cell_type": "code",
   "execution_count": 38,
   "id": "1a88e123",
   "metadata": {
    "execution": {
     "iopub.execute_input": "2021-12-31T17:54:04.491195Z",
     "iopub.status.busy": "2021-12-31T17:54:04.490585Z",
     "iopub.status.idle": "2021-12-31T17:54:04.501471Z",
     "shell.execute_reply": "2021-12-31T17:54:04.501942Z",
     "shell.execute_reply.started": "2021-12-14T15:51:23.9039Z"
    },
    "papermill": {
     "duration": 0.076677,
     "end_time": "2021-12-31T17:54:04.502105",
     "exception": false,
     "start_time": "2021-12-31T17:54:04.425428",
     "status": "completed"
    },
    "tags": []
   },
   "outputs": [],
   "source": [
    "pd.DataFrame({\n",
    "    'Id': X_test_rf.index,\n",
    "    'SalePrice': np.expm1(combined)\n",
    "}).to_csv('submission.csv', index=False)"
   ]
  },
  {
   "cell_type": "code",
   "execution_count": 39,
   "id": "512b414e",
   "metadata": {
    "execution": {
     "iopub.execute_input": "2021-12-31T17:54:04.627362Z",
     "iopub.status.busy": "2021-12-31T17:54:04.626733Z",
     "iopub.status.idle": "2021-12-31T17:54:04.635964Z",
     "shell.execute_reply": "2021-12-31T17:54:04.635441Z",
     "shell.execute_reply.started": "2021-12-14T15:52:18.612387Z"
    },
    "papermill": {
     "duration": 0.073927,
     "end_time": "2021-12-31T17:54:04.636145",
     "exception": false,
     "start_time": "2021-12-31T17:54:04.562218",
     "status": "completed"
    },
    "tags": []
   },
   "outputs": [],
   "source": [
    "# export models\n",
    "with open('svr.pkl', 'wb') as fp:\n",
    "    pickle.dump(svr_model, fp)\n",
    "    \n",
    "with open('gdb.pkl', 'wb') as fp:\n",
    "    pickle.dump(gdb_model, fp)"
   ]
  }
 ],
 "metadata": {
  "kernelspec": {
   "display_name": "Python 3",
   "language": "python",
   "name": "python3"
  },
  "language_info": {
   "codemirror_mode": {
    "name": "ipython",
    "version": 3
   },
   "file_extension": ".py",
   "mimetype": "text/x-python",
   "name": "python",
   "nbconvert_exporter": "python",
   "pygments_lexer": "ipython3",
   "version": "3.7.12"
  },
  "papermill": {
   "default_parameters": {},
   "duration": 1590.70005,
   "end_time": "2021-12-31T17:54:05.614632",
   "environment_variables": {},
   "exception": null,
   "input_path": "__notebook__.ipynb",
   "output_path": "__notebook__.ipynb",
   "parameters": {},
   "start_time": "2021-12-31T17:27:34.914582",
   "version": "2.3.3"
  },
  "widgets": {
   "application/vnd.jupyter.widget-state+json": {
    "state": {
     "00465e01912d45b49f8a149763b9054d": {
      "model_module": "@jupyter-widgets/controls",
      "model_module_version": "1.5.0",
      "model_name": "FloatProgressModel",
      "state": {
       "_dom_classes": [],
       "_model_module": "@jupyter-widgets/controls",
       "_model_module_version": "1.5.0",
       "_model_name": "FloatProgressModel",
       "_view_count": null,
       "_view_module": "@jupyter-widgets/controls",
       "_view_module_version": "1.5.0",
       "_view_name": "ProgressView",
       "bar_style": "success",
       "description": "",
       "description_tooltip": null,
       "layout": "IPY_MODEL_84518483db1b41668b2b9ecbed06a59d",
       "max": 150,
       "min": 0,
       "orientation": "horizontal",
       "style": "IPY_MODEL_b120166ad65b4d6cb977bb5dbffe9880",
       "value": 150
      }
     },
     "014a65e809c5491c8a75ebff92d4bc19": {
      "model_module": "@jupyter-widgets/controls",
      "model_module_version": "1.5.0",
      "model_name": "ProgressStyleModel",
      "state": {
       "_model_module": "@jupyter-widgets/controls",
       "_model_module_version": "1.5.0",
       "_model_name": "ProgressStyleModel",
       "_view_count": null,
       "_view_module": "@jupyter-widgets/base",
       "_view_module_version": "1.2.0",
       "_view_name": "StyleView",
       "bar_color": null,
       "description_width": ""
      }
     },
     "03bc12521a704a5c99d90b3c30f7c45e": {
      "model_module": "@jupyter-widgets/base",
      "model_module_version": "1.2.0",
      "model_name": "LayoutModel",
      "state": {
       "_model_module": "@jupyter-widgets/base",
       "_model_module_version": "1.2.0",
       "_model_name": "LayoutModel",
       "_view_count": null,
       "_view_module": "@jupyter-widgets/base",
       "_view_module_version": "1.2.0",
       "_view_name": "LayoutView",
       "align_content": null,
       "align_items": null,
       "align_self": null,
       "border": null,
       "bottom": null,
       "display": null,
       "flex": null,
       "flex_flow": null,
       "grid_area": null,
       "grid_auto_columns": null,
       "grid_auto_flow": null,
       "grid_auto_rows": null,
       "grid_column": null,
       "grid_gap": null,
       "grid_row": null,
       "grid_template_areas": null,
       "grid_template_columns": null,
       "grid_template_rows": null,
       "height": null,
       "justify_content": null,
       "justify_items": null,
       "left": null,
       "margin": null,
       "max_height": null,
       "max_width": null,
       "min_height": null,
       "min_width": null,
       "object_fit": null,
       "object_position": null,
       "order": null,
       "overflow": null,
       "overflow_x": null,
       "overflow_y": null,
       "padding": null,
       "right": null,
       "top": null,
       "visibility": null,
       "width": null
      }
     },
     "051d8c262c874f99a998a68589d4d6de": {
      "model_module": "@jupyter-widgets/controls",
      "model_module_version": "1.5.0",
      "model_name": "FloatProgressModel",
      "state": {
       "_dom_classes": [],
       "_model_module": "@jupyter-widgets/controls",
       "_model_module_version": "1.5.0",
       "_model_name": "FloatProgressModel",
       "_view_count": null,
       "_view_module": "@jupyter-widgets/controls",
       "_view_module_version": "1.5.0",
       "_view_name": "ProgressView",
       "bar_style": "success",
       "description": "",
       "description_tooltip": null,
       "layout": "IPY_MODEL_64c5523565ca4269a62c1ff74c02f654",
       "max": 150,
       "min": 0,
       "orientation": "horizontal",
       "style": "IPY_MODEL_539ad8e073124b90aa43f72d23fd9b36",
       "value": 150
      }
     },
     "0776ae5de5df4f5aab2145ce0fef902b": {
      "model_module": "@jupyter-widgets/controls",
      "model_module_version": "1.5.0",
      "model_name": "DescriptionStyleModel",
      "state": {
       "_model_module": "@jupyter-widgets/controls",
       "_model_module_version": "1.5.0",
       "_model_name": "DescriptionStyleModel",
       "_view_count": null,
       "_view_module": "@jupyter-widgets/base",
       "_view_module_version": "1.2.0",
       "_view_name": "StyleView",
       "description_width": ""
      }
     },
     "0a0261e8cf714ed382a4399e89345de5": {
      "model_module": "@jupyter-widgets/controls",
      "model_module_version": "1.5.0",
      "model_name": "DescriptionStyleModel",
      "state": {
       "_model_module": "@jupyter-widgets/controls",
       "_model_module_version": "1.5.0",
       "_model_name": "DescriptionStyleModel",
       "_view_count": null,
       "_view_module": "@jupyter-widgets/base",
       "_view_module_version": "1.2.0",
       "_view_name": "StyleView",
       "description_width": ""
      }
     },
     "0bf61992b5a949c4925cb4dc7b75824b": {
      "model_module": "@jupyter-widgets/base",
      "model_module_version": "1.2.0",
      "model_name": "LayoutModel",
      "state": {
       "_model_module": "@jupyter-widgets/base",
       "_model_module_version": "1.2.0",
       "_model_name": "LayoutModel",
       "_view_count": null,
       "_view_module": "@jupyter-widgets/base",
       "_view_module_version": "1.2.0",
       "_view_name": "LayoutView",
       "align_content": null,
       "align_items": null,
       "align_self": null,
       "border": null,
       "bottom": null,
       "display": null,
       "flex": null,
       "flex_flow": null,
       "grid_area": null,
       "grid_auto_columns": null,
       "grid_auto_flow": null,
       "grid_auto_rows": null,
       "grid_column": null,
       "grid_gap": null,
       "grid_row": null,
       "grid_template_areas": null,
       "grid_template_columns": null,
       "grid_template_rows": null,
       "height": null,
       "justify_content": null,
       "justify_items": null,
       "left": null,
       "margin": null,
       "max_height": null,
       "max_width": null,
       "min_height": null,
       "min_width": null,
       "object_fit": null,
       "object_position": null,
       "order": null,
       "overflow": null,
       "overflow_x": null,
       "overflow_y": null,
       "padding": null,
       "right": null,
       "top": null,
       "visibility": null,
       "width": null
      }
     },
     "0cde7d20f5284248867c7b5fec2195bf": {
      "model_module": "@jupyter-widgets/base",
      "model_module_version": "1.2.0",
      "model_name": "LayoutModel",
      "state": {
       "_model_module": "@jupyter-widgets/base",
       "_model_module_version": "1.2.0",
       "_model_name": "LayoutModel",
       "_view_count": null,
       "_view_module": "@jupyter-widgets/base",
       "_view_module_version": "1.2.0",
       "_view_name": "LayoutView",
       "align_content": null,
       "align_items": null,
       "align_self": null,
       "border": null,
       "bottom": null,
       "display": null,
       "flex": null,
       "flex_flow": null,
       "grid_area": null,
       "grid_auto_columns": null,
       "grid_auto_flow": null,
       "grid_auto_rows": null,
       "grid_column": null,
       "grid_gap": null,
       "grid_row": null,
       "grid_template_areas": null,
       "grid_template_columns": null,
       "grid_template_rows": null,
       "height": null,
       "justify_content": null,
       "justify_items": null,
       "left": null,
       "margin": null,
       "max_height": null,
       "max_width": null,
       "min_height": null,
       "min_width": null,
       "object_fit": null,
       "object_position": null,
       "order": null,
       "overflow": null,
       "overflow_x": null,
       "overflow_y": null,
       "padding": null,
       "right": null,
       "top": null,
       "visibility": null,
       "width": null
      }
     },
     "0f95ff84a81a4feba1855cc3b454f198": {
      "model_module": "@jupyter-widgets/controls",
      "model_module_version": "1.5.0",
      "model_name": "HTMLModel",
      "state": {
       "_dom_classes": [],
       "_model_module": "@jupyter-widgets/controls",
       "_model_module_version": "1.5.0",
       "_model_name": "HTMLModel",
       "_view_count": null,
       "_view_module": "@jupyter-widgets/controls",
       "_view_module_version": "1.5.0",
       "_view_name": "HTMLView",
       "description": "",
       "description_tooltip": null,
       "layout": "IPY_MODEL_24135bca41f246cdb94543887bd34864",
       "placeholder": "​",
       "style": "IPY_MODEL_a13ad1e1c8824be697a16c3d6b0bf4aa",
       "value": "100%"
      }
     },
     "10b214fa5faa40b4b3efa5d5c284ea63": {
      "model_module": "@jupyter-widgets/controls",
      "model_module_version": "1.5.0",
      "model_name": "HTMLModel",
      "state": {
       "_dom_classes": [],
       "_model_module": "@jupyter-widgets/controls",
       "_model_module_version": "1.5.0",
       "_model_name": "HTMLModel",
       "_view_count": null,
       "_view_module": "@jupyter-widgets/controls",
       "_view_module_version": "1.5.0",
       "_view_name": "HTMLView",
       "description": "",
       "description_tooltip": null,
       "layout": "IPY_MODEL_8795bdeddb754a87a60a8f41ae33b6ed",
       "placeholder": "​",
       "style": "IPY_MODEL_b3b070caeeda4007b3440fdd9e7d2932",
       "value": "100%"
      }
     },
     "1bb3dad94f9d4b3281f3a1238c02c2da": {
      "model_module": "@jupyter-widgets/controls",
      "model_module_version": "1.5.0",
      "model_name": "ProgressStyleModel",
      "state": {
       "_model_module": "@jupyter-widgets/controls",
       "_model_module_version": "1.5.0",
       "_model_name": "ProgressStyleModel",
       "_view_count": null,
       "_view_module": "@jupyter-widgets/base",
       "_view_module_version": "1.2.0",
       "_view_name": "StyleView",
       "bar_color": null,
       "description_width": ""
      }
     },
     "1d29a88b08ff4ac19b5a63a715b9e36a": {
      "model_module": "@jupyter-widgets/controls",
      "model_module_version": "1.5.0",
      "model_name": "HBoxModel",
      "state": {
       "_dom_classes": [],
       "_model_module": "@jupyter-widgets/controls",
       "_model_module_version": "1.5.0",
       "_model_name": "HBoxModel",
       "_view_count": null,
       "_view_module": "@jupyter-widgets/controls",
       "_view_module_version": "1.5.0",
       "_view_name": "HBoxView",
       "box_style": "",
       "children": [
        "IPY_MODEL_440103f836a540a08040fd77921f26b8",
        "IPY_MODEL_306c2e16dd164e91a2c286f6d92360f4",
        "IPY_MODEL_fb00934b906b4869925b0a0e8cad1807"
       ],
       "layout": "IPY_MODEL_e11927a3bcc64a20b58f145b14f7d50b"
      }
     },
     "1dbfced27a6846d4ac11680be8f9fb72": {
      "model_module": "@jupyter-widgets/controls",
      "model_module_version": "1.5.0",
      "model_name": "DescriptionStyleModel",
      "state": {
       "_model_module": "@jupyter-widgets/controls",
       "_model_module_version": "1.5.0",
       "_model_name": "DescriptionStyleModel",
       "_view_count": null,
       "_view_module": "@jupyter-widgets/base",
       "_view_module_version": "1.2.0",
       "_view_name": "StyleView",
       "description_width": ""
      }
     },
     "216976ca70c14c4fbd658ee74648ec3b": {
      "model_module": "@jupyter-widgets/controls",
      "model_module_version": "1.5.0",
      "model_name": "FloatProgressModel",
      "state": {
       "_dom_classes": [],
       "_model_module": "@jupyter-widgets/controls",
       "_model_module_version": "1.5.0",
       "_model_name": "FloatProgressModel",
       "_view_count": null,
       "_view_module": "@jupyter-widgets/controls",
       "_view_module_version": "1.5.0",
       "_view_name": "ProgressView",
       "bar_style": "success",
       "description": "",
       "description_tooltip": null,
       "layout": "IPY_MODEL_fc31d079dcf54821a015ee68db2a32c1",
       "max": 150,
       "min": 0,
       "orientation": "horizontal",
       "style": "IPY_MODEL_7b7bc3c8eadc4f52a8d2abbd9673d761",
       "value": 150
      }
     },
     "21ae42d10b2a4e03aa66bc40b0027f48": {
      "model_module": "@jupyter-widgets/base",
      "model_module_version": "1.2.0",
      "model_name": "LayoutModel",
      "state": {
       "_model_module": "@jupyter-widgets/base",
       "_model_module_version": "1.2.0",
       "_model_name": "LayoutModel",
       "_view_count": null,
       "_view_module": "@jupyter-widgets/base",
       "_view_module_version": "1.2.0",
       "_view_name": "LayoutView",
       "align_content": null,
       "align_items": null,
       "align_self": null,
       "border": null,
       "bottom": null,
       "display": null,
       "flex": null,
       "flex_flow": null,
       "grid_area": null,
       "grid_auto_columns": null,
       "grid_auto_flow": null,
       "grid_auto_rows": null,
       "grid_column": null,
       "grid_gap": null,
       "grid_row": null,
       "grid_template_areas": null,
       "grid_template_columns": null,
       "grid_template_rows": null,
       "height": null,
       "justify_content": null,
       "justify_items": null,
       "left": null,
       "margin": null,
       "max_height": null,
       "max_width": null,
       "min_height": null,
       "min_width": null,
       "object_fit": null,
       "object_position": null,
       "order": null,
       "overflow": null,
       "overflow_x": null,
       "overflow_y": null,
       "padding": null,
       "right": null,
       "top": null,
       "visibility": null,
       "width": null
      }
     },
     "22e83f1d139748bfbc19f4f26cd8d767": {
      "model_module": "@jupyter-widgets/base",
      "model_module_version": "1.2.0",
      "model_name": "LayoutModel",
      "state": {
       "_model_module": "@jupyter-widgets/base",
       "_model_module_version": "1.2.0",
       "_model_name": "LayoutModel",
       "_view_count": null,
       "_view_module": "@jupyter-widgets/base",
       "_view_module_version": "1.2.0",
       "_view_name": "LayoutView",
       "align_content": null,
       "align_items": null,
       "align_self": null,
       "border": null,
       "bottom": null,
       "display": null,
       "flex": null,
       "flex_flow": null,
       "grid_area": null,
       "grid_auto_columns": null,
       "grid_auto_flow": null,
       "grid_auto_rows": null,
       "grid_column": null,
       "grid_gap": null,
       "grid_row": null,
       "grid_template_areas": null,
       "grid_template_columns": null,
       "grid_template_rows": null,
       "height": null,
       "justify_content": null,
       "justify_items": null,
       "left": null,
       "margin": null,
       "max_height": null,
       "max_width": null,
       "min_height": null,
       "min_width": null,
       "object_fit": null,
       "object_position": null,
       "order": null,
       "overflow": null,
       "overflow_x": null,
       "overflow_y": null,
       "padding": null,
       "right": null,
       "top": null,
       "visibility": null,
       "width": null
      }
     },
     "24135bca41f246cdb94543887bd34864": {
      "model_module": "@jupyter-widgets/base",
      "model_module_version": "1.2.0",
      "model_name": "LayoutModel",
      "state": {
       "_model_module": "@jupyter-widgets/base",
       "_model_module_version": "1.2.0",
       "_model_name": "LayoutModel",
       "_view_count": null,
       "_view_module": "@jupyter-widgets/base",
       "_view_module_version": "1.2.0",
       "_view_name": "LayoutView",
       "align_content": null,
       "align_items": null,
       "align_self": null,
       "border": null,
       "bottom": null,
       "display": null,
       "flex": null,
       "flex_flow": null,
       "grid_area": null,
       "grid_auto_columns": null,
       "grid_auto_flow": null,
       "grid_auto_rows": null,
       "grid_column": null,
       "grid_gap": null,
       "grid_row": null,
       "grid_template_areas": null,
       "grid_template_columns": null,
       "grid_template_rows": null,
       "height": null,
       "justify_content": null,
       "justify_items": null,
       "left": null,
       "margin": null,
       "max_height": null,
       "max_width": null,
       "min_height": null,
       "min_width": null,
       "object_fit": null,
       "object_position": null,
       "order": null,
       "overflow": null,
       "overflow_x": null,
       "overflow_y": null,
       "padding": null,
       "right": null,
       "top": null,
       "visibility": null,
       "width": null
      }
     },
     "2a0f1b11e5f44ba28131e1e7aacab689": {
      "model_module": "@jupyter-widgets/controls",
      "model_module_version": "1.5.0",
      "model_name": "DescriptionStyleModel",
      "state": {
       "_model_module": "@jupyter-widgets/controls",
       "_model_module_version": "1.5.0",
       "_model_name": "DescriptionStyleModel",
       "_view_count": null,
       "_view_module": "@jupyter-widgets/base",
       "_view_module_version": "1.2.0",
       "_view_name": "StyleView",
       "description_width": ""
      }
     },
     "2d7f976b1cf84341bece634567929da5": {
      "model_module": "@jupyter-widgets/controls",
      "model_module_version": "1.5.0",
      "model_name": "HBoxModel",
      "state": {
       "_dom_classes": [],
       "_model_module": "@jupyter-widgets/controls",
       "_model_module_version": "1.5.0",
       "_model_name": "HBoxModel",
       "_view_count": null,
       "_view_module": "@jupyter-widgets/controls",
       "_view_module_version": "1.5.0",
       "_view_name": "HBoxView",
       "box_style": "",
       "children": [
        "IPY_MODEL_ce5e391d2f2441b6ba68603e9f2b9939",
        "IPY_MODEL_f5997eec88b6428a9b019a40ce10b110",
        "IPY_MODEL_5d850970b8bb4b75aaae99a6b328224b"
       ],
       "layout": "IPY_MODEL_83e4c21dec6e43a8bc6071f819423238"
      }
     },
     "306c2e16dd164e91a2c286f6d92360f4": {
      "model_module": "@jupyter-widgets/controls",
      "model_module_version": "1.5.0",
      "model_name": "FloatProgressModel",
      "state": {
       "_dom_classes": [],
       "_model_module": "@jupyter-widgets/controls",
       "_model_module_version": "1.5.0",
       "_model_name": "FloatProgressModel",
       "_view_count": null,
       "_view_module": "@jupyter-widgets/controls",
       "_view_module_version": "1.5.0",
       "_view_name": "ProgressView",
       "bar_style": "success",
       "description": "",
       "description_tooltip": null,
       "layout": "IPY_MODEL_03bc12521a704a5c99d90b3c30f7c45e",
       "max": 150,
       "min": 0,
       "orientation": "horizontal",
       "style": "IPY_MODEL_1bb3dad94f9d4b3281f3a1238c02c2da",
       "value": 150
      }
     },
     "30f006d63db74e8bb7838b26a487663a": {
      "model_module": "@jupyter-widgets/controls",
      "model_module_version": "1.5.0",
      "model_name": "DescriptionStyleModel",
      "state": {
       "_model_module": "@jupyter-widgets/controls",
       "_model_module_version": "1.5.0",
       "_model_name": "DescriptionStyleModel",
       "_view_count": null,
       "_view_module": "@jupyter-widgets/base",
       "_view_module_version": "1.2.0",
       "_view_name": "StyleView",
       "description_width": ""
      }
     },
     "39b4968fd560416dad8dc62afbba8336": {
      "model_module": "@jupyter-widgets/controls",
      "model_module_version": "1.5.0",
      "model_name": "DescriptionStyleModel",
      "state": {
       "_model_module": "@jupyter-widgets/controls",
       "_model_module_version": "1.5.0",
       "_model_name": "DescriptionStyleModel",
       "_view_count": null,
       "_view_module": "@jupyter-widgets/base",
       "_view_module_version": "1.2.0",
       "_view_name": "StyleView",
       "description_width": ""
      }
     },
     "3a7f53c68f7e4370904be01ea3b97aa4": {
      "model_module": "@jupyter-widgets/base",
      "model_module_version": "1.2.0",
      "model_name": "LayoutModel",
      "state": {
       "_model_module": "@jupyter-widgets/base",
       "_model_module_version": "1.2.0",
       "_model_name": "LayoutModel",
       "_view_count": null,
       "_view_module": "@jupyter-widgets/base",
       "_view_module_version": "1.2.0",
       "_view_name": "LayoutView",
       "align_content": null,
       "align_items": null,
       "align_self": null,
       "border": null,
       "bottom": null,
       "display": null,
       "flex": null,
       "flex_flow": null,
       "grid_area": null,
       "grid_auto_columns": null,
       "grid_auto_flow": null,
       "grid_auto_rows": null,
       "grid_column": null,
       "grid_gap": null,
       "grid_row": null,
       "grid_template_areas": null,
       "grid_template_columns": null,
       "grid_template_rows": null,
       "height": null,
       "justify_content": null,
       "justify_items": null,
       "left": null,
       "margin": null,
       "max_height": null,
       "max_width": null,
       "min_height": null,
       "min_width": null,
       "object_fit": null,
       "object_position": null,
       "order": null,
       "overflow": null,
       "overflow_x": null,
       "overflow_y": null,
       "padding": null,
       "right": null,
       "top": null,
       "visibility": null,
       "width": null
      }
     },
     "3ea3749b5ad04f248843d59158744083": {
      "model_module": "@jupyter-widgets/controls",
      "model_module_version": "1.5.0",
      "model_name": "ProgressStyleModel",
      "state": {
       "_model_module": "@jupyter-widgets/controls",
       "_model_module_version": "1.5.0",
       "_model_name": "ProgressStyleModel",
       "_view_count": null,
       "_view_module": "@jupyter-widgets/base",
       "_view_module_version": "1.2.0",
       "_view_name": "StyleView",
       "bar_color": null,
       "description_width": ""
      }
     },
     "3ee3aafd1a5f460aae639b7abbe25f7f": {
      "model_module": "@jupyter-widgets/controls",
      "model_module_version": "1.5.0",
      "model_name": "DescriptionStyleModel",
      "state": {
       "_model_module": "@jupyter-widgets/controls",
       "_model_module_version": "1.5.0",
       "_model_name": "DescriptionStyleModel",
       "_view_count": null,
       "_view_module": "@jupyter-widgets/base",
       "_view_module_version": "1.2.0",
       "_view_name": "StyleView",
       "description_width": ""
      }
     },
     "404fc656f91549e39be40c96241d0984": {
      "model_module": "@jupyter-widgets/base",
      "model_module_version": "1.2.0",
      "model_name": "LayoutModel",
      "state": {
       "_model_module": "@jupyter-widgets/base",
       "_model_module_version": "1.2.0",
       "_model_name": "LayoutModel",
       "_view_count": null,
       "_view_module": "@jupyter-widgets/base",
       "_view_module_version": "1.2.0",
       "_view_name": "LayoutView",
       "align_content": null,
       "align_items": null,
       "align_self": null,
       "border": null,
       "bottom": null,
       "display": null,
       "flex": null,
       "flex_flow": null,
       "grid_area": null,
       "grid_auto_columns": null,
       "grid_auto_flow": null,
       "grid_auto_rows": null,
       "grid_column": null,
       "grid_gap": null,
       "grid_row": null,
       "grid_template_areas": null,
       "grid_template_columns": null,
       "grid_template_rows": null,
       "height": null,
       "justify_content": null,
       "justify_items": null,
       "left": null,
       "margin": null,
       "max_height": null,
       "max_width": null,
       "min_height": null,
       "min_width": null,
       "object_fit": null,
       "object_position": null,
       "order": null,
       "overflow": null,
       "overflow_x": null,
       "overflow_y": null,
       "padding": null,
       "right": null,
       "top": null,
       "visibility": null,
       "width": null
      }
     },
     "43c7ad49dc96486b951f999d47dbc8b7": {
      "model_module": "@jupyter-widgets/base",
      "model_module_version": "1.2.0",
      "model_name": "LayoutModel",
      "state": {
       "_model_module": "@jupyter-widgets/base",
       "_model_module_version": "1.2.0",
       "_model_name": "LayoutModel",
       "_view_count": null,
       "_view_module": "@jupyter-widgets/base",
       "_view_module_version": "1.2.0",
       "_view_name": "LayoutView",
       "align_content": null,
       "align_items": null,
       "align_self": null,
       "border": null,
       "bottom": null,
       "display": null,
       "flex": null,
       "flex_flow": null,
       "grid_area": null,
       "grid_auto_columns": null,
       "grid_auto_flow": null,
       "grid_auto_rows": null,
       "grid_column": null,
       "grid_gap": null,
       "grid_row": null,
       "grid_template_areas": null,
       "grid_template_columns": null,
       "grid_template_rows": null,
       "height": null,
       "justify_content": null,
       "justify_items": null,
       "left": null,
       "margin": null,
       "max_height": null,
       "max_width": null,
       "min_height": null,
       "min_width": null,
       "object_fit": null,
       "object_position": null,
       "order": null,
       "overflow": null,
       "overflow_x": null,
       "overflow_y": null,
       "padding": null,
       "right": null,
       "top": null,
       "visibility": null,
       "width": null
      }
     },
     "43e85e68a91b424d922925ab436073dc": {
      "model_module": "@jupyter-widgets/base",
      "model_module_version": "1.2.0",
      "model_name": "LayoutModel",
      "state": {
       "_model_module": "@jupyter-widgets/base",
       "_model_module_version": "1.2.0",
       "_model_name": "LayoutModel",
       "_view_count": null,
       "_view_module": "@jupyter-widgets/base",
       "_view_module_version": "1.2.0",
       "_view_name": "LayoutView",
       "align_content": null,
       "align_items": null,
       "align_self": null,
       "border": null,
       "bottom": null,
       "display": null,
       "flex": null,
       "flex_flow": null,
       "grid_area": null,
       "grid_auto_columns": null,
       "grid_auto_flow": null,
       "grid_auto_rows": null,
       "grid_column": null,
       "grid_gap": null,
       "grid_row": null,
       "grid_template_areas": null,
       "grid_template_columns": null,
       "grid_template_rows": null,
       "height": null,
       "justify_content": null,
       "justify_items": null,
       "left": null,
       "margin": null,
       "max_height": null,
       "max_width": null,
       "min_height": null,
       "min_width": null,
       "object_fit": null,
       "object_position": null,
       "order": null,
       "overflow": null,
       "overflow_x": null,
       "overflow_y": null,
       "padding": null,
       "right": null,
       "top": null,
       "visibility": null,
       "width": null
      }
     },
     "440103f836a540a08040fd77921f26b8": {
      "model_module": "@jupyter-widgets/controls",
      "model_module_version": "1.5.0",
      "model_name": "HTMLModel",
      "state": {
       "_dom_classes": [],
       "_model_module": "@jupyter-widgets/controls",
       "_model_module_version": "1.5.0",
       "_model_name": "HTMLModel",
       "_view_count": null,
       "_view_module": "@jupyter-widgets/controls",
       "_view_module_version": "1.5.0",
       "_view_name": "HTMLView",
       "description": "",
       "description_tooltip": null,
       "layout": "IPY_MODEL_912fc8006cff420aa9efe395694744d9",
       "placeholder": "​",
       "style": "IPY_MODEL_4473531d4a11432d877928d7b3fed395",
       "value": "100%"
      }
     },
     "4473531d4a11432d877928d7b3fed395": {
      "model_module": "@jupyter-widgets/controls",
      "model_module_version": "1.5.0",
      "model_name": "DescriptionStyleModel",
      "state": {
       "_model_module": "@jupyter-widgets/controls",
       "_model_module_version": "1.5.0",
       "_model_name": "DescriptionStyleModel",
       "_view_count": null,
       "_view_module": "@jupyter-widgets/base",
       "_view_module_version": "1.2.0",
       "_view_name": "StyleView",
       "description_width": ""
      }
     },
     "4ba1be5e007a41a5b022e49f7696afc8": {
      "model_module": "@jupyter-widgets/base",
      "model_module_version": "1.2.0",
      "model_name": "LayoutModel",
      "state": {
       "_model_module": "@jupyter-widgets/base",
       "_model_module_version": "1.2.0",
       "_model_name": "LayoutModel",
       "_view_count": null,
       "_view_module": "@jupyter-widgets/base",
       "_view_module_version": "1.2.0",
       "_view_name": "LayoutView",
       "align_content": null,
       "align_items": null,
       "align_self": null,
       "border": null,
       "bottom": null,
       "display": null,
       "flex": null,
       "flex_flow": null,
       "grid_area": null,
       "grid_auto_columns": null,
       "grid_auto_flow": null,
       "grid_auto_rows": null,
       "grid_column": null,
       "grid_gap": null,
       "grid_row": null,
       "grid_template_areas": null,
       "grid_template_columns": null,
       "grid_template_rows": null,
       "height": null,
       "justify_content": null,
       "justify_items": null,
       "left": null,
       "margin": null,
       "max_height": null,
       "max_width": null,
       "min_height": null,
       "min_width": null,
       "object_fit": null,
       "object_position": null,
       "order": null,
       "overflow": null,
       "overflow_x": null,
       "overflow_y": null,
       "padding": null,
       "right": null,
       "top": null,
       "visibility": null,
       "width": null
      }
     },
     "4fb9f6d98c124c8aa4c8669af05e4b84": {
      "model_module": "@jupyter-widgets/controls",
      "model_module_version": "1.5.0",
      "model_name": "ProgressStyleModel",
      "state": {
       "_model_module": "@jupyter-widgets/controls",
       "_model_module_version": "1.5.0",
       "_model_name": "ProgressStyleModel",
       "_view_count": null,
       "_view_module": "@jupyter-widgets/base",
       "_view_module_version": "1.2.0",
       "_view_name": "StyleView",
       "bar_color": null,
       "description_width": ""
      }
     },
     "539ad8e073124b90aa43f72d23fd9b36": {
      "model_module": "@jupyter-widgets/controls",
      "model_module_version": "1.5.0",
      "model_name": "ProgressStyleModel",
      "state": {
       "_model_module": "@jupyter-widgets/controls",
       "_model_module_version": "1.5.0",
       "_model_name": "ProgressStyleModel",
       "_view_count": null,
       "_view_module": "@jupyter-widgets/base",
       "_view_module_version": "1.2.0",
       "_view_name": "StyleView",
       "bar_color": null,
       "description_width": ""
      }
     },
     "544359c9ccc54f20adf529529e899108": {
      "model_module": "@jupyter-widgets/controls",
      "model_module_version": "1.5.0",
      "model_name": "HBoxModel",
      "state": {
       "_dom_classes": [],
       "_model_module": "@jupyter-widgets/controls",
       "_model_module_version": "1.5.0",
       "_model_name": "HBoxModel",
       "_view_count": null,
       "_view_module": "@jupyter-widgets/controls",
       "_view_module_version": "1.5.0",
       "_view_name": "HBoxView",
       "box_style": "",
       "children": [
        "IPY_MODEL_7ece8a2349744c2fabb53ead924b2de7",
        "IPY_MODEL_216976ca70c14c4fbd658ee74648ec3b",
        "IPY_MODEL_99b7269597094a509f25cb24440e7539"
       ],
       "layout": "IPY_MODEL_fc4cfdf24b2e467cb9896403af9c4b21"
      }
     },
     "58a3d792b4f34494a585eadf6764947f": {
      "model_module": "@jupyter-widgets/controls",
      "model_module_version": "1.5.0",
      "model_name": "DescriptionStyleModel",
      "state": {
       "_model_module": "@jupyter-widgets/controls",
       "_model_module_version": "1.5.0",
       "_model_name": "DescriptionStyleModel",
       "_view_count": null,
       "_view_module": "@jupyter-widgets/base",
       "_view_module_version": "1.2.0",
       "_view_name": "StyleView",
       "description_width": ""
      }
     },
     "5d850970b8bb4b75aaae99a6b328224b": {
      "model_module": "@jupyter-widgets/controls",
      "model_module_version": "1.5.0",
      "model_name": "HTMLModel",
      "state": {
       "_dom_classes": [],
       "_model_module": "@jupyter-widgets/controls",
       "_model_module_version": "1.5.0",
       "_model_name": "HTMLModel",
       "_view_count": null,
       "_view_module": "@jupyter-widgets/controls",
       "_view_module_version": "1.5.0",
       "_view_name": "HTMLView",
       "description": "",
       "description_tooltip": null,
       "layout": "IPY_MODEL_a36b7bd6cade4369b6ff13cd60587922",
       "placeholder": "​",
       "style": "IPY_MODEL_77e6a886c156475bbef927287cbf167d",
       "value": " 75/75 [07:20&lt;00:00,  5.82s/it]"
      }
     },
     "642bd564593345ddba1ff783adde5f99": {
      "model_module": "@jupyter-widgets/base",
      "model_module_version": "1.2.0",
      "model_name": "LayoutModel",
      "state": {
       "_model_module": "@jupyter-widgets/base",
       "_model_module_version": "1.2.0",
       "_model_name": "LayoutModel",
       "_view_count": null,
       "_view_module": "@jupyter-widgets/base",
       "_view_module_version": "1.2.0",
       "_view_name": "LayoutView",
       "align_content": null,
       "align_items": null,
       "align_self": null,
       "border": null,
       "bottom": null,
       "display": null,
       "flex": null,
       "flex_flow": null,
       "grid_area": null,
       "grid_auto_columns": null,
       "grid_auto_flow": null,
       "grid_auto_rows": null,
       "grid_column": null,
       "grid_gap": null,
       "grid_row": null,
       "grid_template_areas": null,
       "grid_template_columns": null,
       "grid_template_rows": null,
       "height": null,
       "justify_content": null,
       "justify_items": null,
       "left": null,
       "margin": null,
       "max_height": null,
       "max_width": null,
       "min_height": null,
       "min_width": null,
       "object_fit": null,
       "object_position": null,
       "order": null,
       "overflow": null,
       "overflow_x": null,
       "overflow_y": null,
       "padding": null,
       "right": null,
       "top": null,
       "visibility": null,
       "width": null
      }
     },
     "6452e3c167724524abdaac9d6bf0541d": {
      "model_module": "@jupyter-widgets/controls",
      "model_module_version": "1.5.0",
      "model_name": "ProgressStyleModel",
      "state": {
       "_model_module": "@jupyter-widgets/controls",
       "_model_module_version": "1.5.0",
       "_model_name": "ProgressStyleModel",
       "_view_count": null,
       "_view_module": "@jupyter-widgets/base",
       "_view_module_version": "1.2.0",
       "_view_name": "StyleView",
       "bar_color": null,
       "description_width": ""
      }
     },
     "64c5523565ca4269a62c1ff74c02f654": {
      "model_module": "@jupyter-widgets/base",
      "model_module_version": "1.2.0",
      "model_name": "LayoutModel",
      "state": {
       "_model_module": "@jupyter-widgets/base",
       "_model_module_version": "1.2.0",
       "_model_name": "LayoutModel",
       "_view_count": null,
       "_view_module": "@jupyter-widgets/base",
       "_view_module_version": "1.2.0",
       "_view_name": "LayoutView",
       "align_content": null,
       "align_items": null,
       "align_self": null,
       "border": null,
       "bottom": null,
       "display": null,
       "flex": null,
       "flex_flow": null,
       "grid_area": null,
       "grid_auto_columns": null,
       "grid_auto_flow": null,
       "grid_auto_rows": null,
       "grid_column": null,
       "grid_gap": null,
       "grid_row": null,
       "grid_template_areas": null,
       "grid_template_columns": null,
       "grid_template_rows": null,
       "height": null,
       "justify_content": null,
       "justify_items": null,
       "left": null,
       "margin": null,
       "max_height": null,
       "max_width": null,
       "min_height": null,
       "min_width": null,
       "object_fit": null,
       "object_position": null,
       "order": null,
       "overflow": null,
       "overflow_x": null,
       "overflow_y": null,
       "padding": null,
       "right": null,
       "top": null,
       "visibility": null,
       "width": null
      }
     },
     "64e02812ee924e4d87d4b406d902221e": {
      "model_module": "@jupyter-widgets/controls",
      "model_module_version": "1.5.0",
      "model_name": "HTMLModel",
      "state": {
       "_dom_classes": [],
       "_model_module": "@jupyter-widgets/controls",
       "_model_module_version": "1.5.0",
       "_model_name": "HTMLModel",
       "_view_count": null,
       "_view_module": "@jupyter-widgets/controls",
       "_view_module_version": "1.5.0",
       "_view_name": "HTMLView",
       "description": "",
       "description_tooltip": null,
       "layout": "IPY_MODEL_21ae42d10b2a4e03aa66bc40b0027f48",
       "placeholder": "​",
       "style": "IPY_MODEL_f4f47da4b5ae432eb2059a1dce3d1a02",
       "value": "100%"
      }
     },
     "6572e864809c4eecba0a434697832870": {
      "model_module": "@jupyter-widgets/base",
      "model_module_version": "1.2.0",
      "model_name": "LayoutModel",
      "state": {
       "_model_module": "@jupyter-widgets/base",
       "_model_module_version": "1.2.0",
       "_model_name": "LayoutModel",
       "_view_count": null,
       "_view_module": "@jupyter-widgets/base",
       "_view_module_version": "1.2.0",
       "_view_name": "LayoutView",
       "align_content": null,
       "align_items": null,
       "align_self": null,
       "border": null,
       "bottom": null,
       "display": null,
       "flex": null,
       "flex_flow": null,
       "grid_area": null,
       "grid_auto_columns": null,
       "grid_auto_flow": null,
       "grid_auto_rows": null,
       "grid_column": null,
       "grid_gap": null,
       "grid_row": null,
       "grid_template_areas": null,
       "grid_template_columns": null,
       "grid_template_rows": null,
       "height": null,
       "justify_content": null,
       "justify_items": null,
       "left": null,
       "margin": null,
       "max_height": null,
       "max_width": null,
       "min_height": null,
       "min_width": null,
       "object_fit": null,
       "object_position": null,
       "order": null,
       "overflow": null,
       "overflow_x": null,
       "overflow_y": null,
       "padding": null,
       "right": null,
       "top": null,
       "visibility": null,
       "width": null
      }
     },
     "68f1c6c7b846408e86014e20fe49353b": {
      "model_module": "@jupyter-widgets/controls",
      "model_module_version": "1.5.0",
      "model_name": "HTMLModel",
      "state": {
       "_dom_classes": [],
       "_model_module": "@jupyter-widgets/controls",
       "_model_module_version": "1.5.0",
       "_model_name": "HTMLModel",
       "_view_count": null,
       "_view_module": "@jupyter-widgets/controls",
       "_view_module_version": "1.5.0",
       "_view_name": "HTMLView",
       "description": "",
       "description_tooltip": null,
       "layout": "IPY_MODEL_404fc656f91549e39be40c96241d0984",
       "placeholder": "​",
       "style": "IPY_MODEL_30f006d63db74e8bb7838b26a487663a",
       "value": " 150/150 [05:18&lt;00:00,  1.18s/it]"
      }
     },
     "6b4a35978f9d4048823d534fc9820670": {
      "model_module": "@jupyter-widgets/base",
      "model_module_version": "1.2.0",
      "model_name": "LayoutModel",
      "state": {
       "_model_module": "@jupyter-widgets/base",
       "_model_module_version": "1.2.0",
       "_model_name": "LayoutModel",
       "_view_count": null,
       "_view_module": "@jupyter-widgets/base",
       "_view_module_version": "1.2.0",
       "_view_name": "LayoutView",
       "align_content": null,
       "align_items": null,
       "align_self": null,
       "border": null,
       "bottom": null,
       "display": null,
       "flex": null,
       "flex_flow": null,
       "grid_area": null,
       "grid_auto_columns": null,
       "grid_auto_flow": null,
       "grid_auto_rows": null,
       "grid_column": null,
       "grid_gap": null,
       "grid_row": null,
       "grid_template_areas": null,
       "grid_template_columns": null,
       "grid_template_rows": null,
       "height": null,
       "justify_content": null,
       "justify_items": null,
       "left": null,
       "margin": null,
       "max_height": null,
       "max_width": null,
       "min_height": null,
       "min_width": null,
       "object_fit": null,
       "object_position": null,
       "order": null,
       "overflow": null,
       "overflow_x": null,
       "overflow_y": null,
       "padding": null,
       "right": null,
       "top": null,
       "visibility": null,
       "width": null
      }
     },
     "6e92aa5364ad4b4dbd03c2eecf1d2404": {
      "model_module": "@jupyter-widgets/controls",
      "model_module_version": "1.5.0",
      "model_name": "HTMLModel",
      "state": {
       "_dom_classes": [],
       "_model_module": "@jupyter-widgets/controls",
       "_model_module_version": "1.5.0",
       "_model_name": "HTMLModel",
       "_view_count": null,
       "_view_module": "@jupyter-widgets/controls",
       "_view_module_version": "1.5.0",
       "_view_name": "HTMLView",
       "description": "",
       "description_tooltip": null,
       "layout": "IPY_MODEL_d388434117774276a8ef1ce1885cdc88",
       "placeholder": "​",
       "style": "IPY_MODEL_3ee3aafd1a5f460aae639b7abbe25f7f",
       "value": " 150/150 [00:11&lt;00:00, 12.91it/s]"
      }
     },
     "77d41f2506074e959ef3a4a4fb6cf924": {
      "model_module": "@jupyter-widgets/controls",
      "model_module_version": "1.5.0",
      "model_name": "HTMLModel",
      "state": {
       "_dom_classes": [],
       "_model_module": "@jupyter-widgets/controls",
       "_model_module_version": "1.5.0",
       "_model_name": "HTMLModel",
       "_view_count": null,
       "_view_module": "@jupyter-widgets/controls",
       "_view_module_version": "1.5.0",
       "_view_name": "HTMLView",
       "description": "",
       "description_tooltip": null,
       "layout": "IPY_MODEL_db4605a3750b45288d155c2ee3976e61",
       "placeholder": "​",
       "style": "IPY_MODEL_db335705b9084d2b9f598eca949b517b",
       "value": " 150/150 [04:53&lt;00:00,  1.74s/it]"
      }
     },
     "77e6a886c156475bbef927287cbf167d": {
      "model_module": "@jupyter-widgets/controls",
      "model_module_version": "1.5.0",
      "model_name": "DescriptionStyleModel",
      "state": {
       "_model_module": "@jupyter-widgets/controls",
       "_model_module_version": "1.5.0",
       "_model_name": "DescriptionStyleModel",
       "_view_count": null,
       "_view_module": "@jupyter-widgets/base",
       "_view_module_version": "1.2.0",
       "_view_name": "StyleView",
       "description_width": ""
      }
     },
     "7b7bc3c8eadc4f52a8d2abbd9673d761": {
      "model_module": "@jupyter-widgets/controls",
      "model_module_version": "1.5.0",
      "model_name": "ProgressStyleModel",
      "state": {
       "_model_module": "@jupyter-widgets/controls",
       "_model_module_version": "1.5.0",
       "_model_name": "ProgressStyleModel",
       "_view_count": null,
       "_view_module": "@jupyter-widgets/base",
       "_view_module_version": "1.2.0",
       "_view_name": "StyleView",
       "bar_color": null,
       "description_width": ""
      }
     },
     "7ece8a2349744c2fabb53ead924b2de7": {
      "model_module": "@jupyter-widgets/controls",
      "model_module_version": "1.5.0",
      "model_name": "HTMLModel",
      "state": {
       "_dom_classes": [],
       "_model_module": "@jupyter-widgets/controls",
       "_model_module_version": "1.5.0",
       "_model_name": "HTMLModel",
       "_view_count": null,
       "_view_module": "@jupyter-widgets/controls",
       "_view_module_version": "1.5.0",
       "_view_name": "HTMLView",
       "description": "",
       "description_tooltip": null,
       "layout": "IPY_MODEL_22e83f1d139748bfbc19f4f26cd8d767",
       "placeholder": "​",
       "style": "IPY_MODEL_0776ae5de5df4f5aab2145ce0fef902b",
       "value": "100%"
      }
     },
     "8198d4954490478d9fc8960e6ddb86b7": {
      "model_module": "@jupyter-widgets/controls",
      "model_module_version": "1.5.0",
      "model_name": "DescriptionStyleModel",
      "state": {
       "_model_module": "@jupyter-widgets/controls",
       "_model_module_version": "1.5.0",
       "_model_name": "DescriptionStyleModel",
       "_view_count": null,
       "_view_module": "@jupyter-widgets/base",
       "_view_module_version": "1.2.0",
       "_view_name": "StyleView",
       "description_width": ""
      }
     },
     "83e4c21dec6e43a8bc6071f819423238": {
      "model_module": "@jupyter-widgets/base",
      "model_module_version": "1.2.0",
      "model_name": "LayoutModel",
      "state": {
       "_model_module": "@jupyter-widgets/base",
       "_model_module_version": "1.2.0",
       "_model_name": "LayoutModel",
       "_view_count": null,
       "_view_module": "@jupyter-widgets/base",
       "_view_module_version": "1.2.0",
       "_view_name": "LayoutView",
       "align_content": null,
       "align_items": null,
       "align_self": null,
       "border": null,
       "bottom": null,
       "display": null,
       "flex": null,
       "flex_flow": null,
       "grid_area": null,
       "grid_auto_columns": null,
       "grid_auto_flow": null,
       "grid_auto_rows": null,
       "grid_column": null,
       "grid_gap": null,
       "grid_row": null,
       "grid_template_areas": null,
       "grid_template_columns": null,
       "grid_template_rows": null,
       "height": null,
       "justify_content": null,
       "justify_items": null,
       "left": null,
       "margin": null,
       "max_height": null,
       "max_width": null,
       "min_height": null,
       "min_width": null,
       "object_fit": null,
       "object_position": null,
       "order": null,
       "overflow": null,
       "overflow_x": null,
       "overflow_y": null,
       "padding": null,
       "right": null,
       "top": null,
       "visibility": null,
       "width": null
      }
     },
     "84518483db1b41668b2b9ecbed06a59d": {
      "model_module": "@jupyter-widgets/base",
      "model_module_version": "1.2.0",
      "model_name": "LayoutModel",
      "state": {
       "_model_module": "@jupyter-widgets/base",
       "_model_module_version": "1.2.0",
       "_model_name": "LayoutModel",
       "_view_count": null,
       "_view_module": "@jupyter-widgets/base",
       "_view_module_version": "1.2.0",
       "_view_name": "LayoutView",
       "align_content": null,
       "align_items": null,
       "align_self": null,
       "border": null,
       "bottom": null,
       "display": null,
       "flex": null,
       "flex_flow": null,
       "grid_area": null,
       "grid_auto_columns": null,
       "grid_auto_flow": null,
       "grid_auto_rows": null,
       "grid_column": null,
       "grid_gap": null,
       "grid_row": null,
       "grid_template_areas": null,
       "grid_template_columns": null,
       "grid_template_rows": null,
       "height": null,
       "justify_content": null,
       "justify_items": null,
       "left": null,
       "margin": null,
       "max_height": null,
       "max_width": null,
       "min_height": null,
       "min_width": null,
       "object_fit": null,
       "object_position": null,
       "order": null,
       "overflow": null,
       "overflow_x": null,
       "overflow_y": null,
       "padding": null,
       "right": null,
       "top": null,
       "visibility": null,
       "width": null
      }
     },
     "8676f6285d004788b8ec74fbc3113ba5": {
      "model_module": "@jupyter-widgets/controls",
      "model_module_version": "1.5.0",
      "model_name": "HTMLModel",
      "state": {
       "_dom_classes": [],
       "_model_module": "@jupyter-widgets/controls",
       "_model_module_version": "1.5.0",
       "_model_name": "HTMLModel",
       "_view_count": null,
       "_view_module": "@jupyter-widgets/controls",
       "_view_module_version": "1.5.0",
       "_view_name": "HTMLView",
       "description": "",
       "description_tooltip": null,
       "layout": "IPY_MODEL_6b4a35978f9d4048823d534fc9820670",
       "placeholder": "​",
       "style": "IPY_MODEL_58a3d792b4f34494a585eadf6764947f",
       "value": "100%"
      }
     },
     "8795bdeddb754a87a60a8f41ae33b6ed": {
      "model_module": "@jupyter-widgets/base",
      "model_module_version": "1.2.0",
      "model_name": "LayoutModel",
      "state": {
       "_model_module": "@jupyter-widgets/base",
       "_model_module_version": "1.2.0",
       "_model_name": "LayoutModel",
       "_view_count": null,
       "_view_module": "@jupyter-widgets/base",
       "_view_module_version": "1.2.0",
       "_view_name": "LayoutView",
       "align_content": null,
       "align_items": null,
       "align_self": null,
       "border": null,
       "bottom": null,
       "display": null,
       "flex": null,
       "flex_flow": null,
       "grid_area": null,
       "grid_auto_columns": null,
       "grid_auto_flow": null,
       "grid_auto_rows": null,
       "grid_column": null,
       "grid_gap": null,
       "grid_row": null,
       "grid_template_areas": null,
       "grid_template_columns": null,
       "grid_template_rows": null,
       "height": null,
       "justify_content": null,
       "justify_items": null,
       "left": null,
       "margin": null,
       "max_height": null,
       "max_width": null,
       "min_height": null,
       "min_width": null,
       "object_fit": null,
       "object_position": null,
       "order": null,
       "overflow": null,
       "overflow_x": null,
       "overflow_y": null,
       "padding": null,
       "right": null,
       "top": null,
       "visibility": null,
       "width": null
      }
     },
     "8eb644a22a5740789e90512bbff9f52f": {
      "model_module": "@jupyter-widgets/base",
      "model_module_version": "1.2.0",
      "model_name": "LayoutModel",
      "state": {
       "_model_module": "@jupyter-widgets/base",
       "_model_module_version": "1.2.0",
       "_model_name": "LayoutModel",
       "_view_count": null,
       "_view_module": "@jupyter-widgets/base",
       "_view_module_version": "1.2.0",
       "_view_name": "LayoutView",
       "align_content": null,
       "align_items": null,
       "align_self": null,
       "border": null,
       "bottom": null,
       "display": null,
       "flex": null,
       "flex_flow": null,
       "grid_area": null,
       "grid_auto_columns": null,
       "grid_auto_flow": null,
       "grid_auto_rows": null,
       "grid_column": null,
       "grid_gap": null,
       "grid_row": null,
       "grid_template_areas": null,
       "grid_template_columns": null,
       "grid_template_rows": null,
       "height": null,
       "justify_content": null,
       "justify_items": null,
       "left": null,
       "margin": null,
       "max_height": null,
       "max_width": null,
       "min_height": null,
       "min_width": null,
       "object_fit": null,
       "object_position": null,
       "order": null,
       "overflow": null,
       "overflow_x": null,
       "overflow_y": null,
       "padding": null,
       "right": null,
       "top": null,
       "visibility": null,
       "width": null
      }
     },
     "912fc8006cff420aa9efe395694744d9": {
      "model_module": "@jupyter-widgets/base",
      "model_module_version": "1.2.0",
      "model_name": "LayoutModel",
      "state": {
       "_model_module": "@jupyter-widgets/base",
       "_model_module_version": "1.2.0",
       "_model_name": "LayoutModel",
       "_view_count": null,
       "_view_module": "@jupyter-widgets/base",
       "_view_module_version": "1.2.0",
       "_view_name": "LayoutView",
       "align_content": null,
       "align_items": null,
       "align_self": null,
       "border": null,
       "bottom": null,
       "display": null,
       "flex": null,
       "flex_flow": null,
       "grid_area": null,
       "grid_auto_columns": null,
       "grid_auto_flow": null,
       "grid_auto_rows": null,
       "grid_column": null,
       "grid_gap": null,
       "grid_row": null,
       "grid_template_areas": null,
       "grid_template_columns": null,
       "grid_template_rows": null,
       "height": null,
       "justify_content": null,
       "justify_items": null,
       "left": null,
       "margin": null,
       "max_height": null,
       "max_width": null,
       "min_height": null,
       "min_width": null,
       "object_fit": null,
       "object_position": null,
       "order": null,
       "overflow": null,
       "overflow_x": null,
       "overflow_y": null,
       "padding": null,
       "right": null,
       "top": null,
       "visibility": null,
       "width": null
      }
     },
     "94b11fee06f042cdb106bd0ef87a1fdf": {
      "model_module": "@jupyter-widgets/base",
      "model_module_version": "1.2.0",
      "model_name": "LayoutModel",
      "state": {
       "_model_module": "@jupyter-widgets/base",
       "_model_module_version": "1.2.0",
       "_model_name": "LayoutModel",
       "_view_count": null,
       "_view_module": "@jupyter-widgets/base",
       "_view_module_version": "1.2.0",
       "_view_name": "LayoutView",
       "align_content": null,
       "align_items": null,
       "align_self": null,
       "border": null,
       "bottom": null,
       "display": null,
       "flex": null,
       "flex_flow": null,
       "grid_area": null,
       "grid_auto_columns": null,
       "grid_auto_flow": null,
       "grid_auto_rows": null,
       "grid_column": null,
       "grid_gap": null,
       "grid_row": null,
       "grid_template_areas": null,
       "grid_template_columns": null,
       "grid_template_rows": null,
       "height": null,
       "justify_content": null,
       "justify_items": null,
       "left": null,
       "margin": null,
       "max_height": null,
       "max_width": null,
       "min_height": null,
       "min_width": null,
       "object_fit": null,
       "object_position": null,
       "order": null,
       "overflow": null,
       "overflow_x": null,
       "overflow_y": null,
       "padding": null,
       "right": null,
       "top": null,
       "visibility": null,
       "width": null
      }
     },
     "99b7269597094a509f25cb24440e7539": {
      "model_module": "@jupyter-widgets/controls",
      "model_module_version": "1.5.0",
      "model_name": "HTMLModel",
      "state": {
       "_dom_classes": [],
       "_model_module": "@jupyter-widgets/controls",
       "_model_module_version": "1.5.0",
       "_model_name": "HTMLModel",
       "_view_count": null,
       "_view_module": "@jupyter-widgets/controls",
       "_view_module_version": "1.5.0",
       "_view_name": "HTMLView",
       "description": "",
       "description_tooltip": null,
       "layout": "IPY_MODEL_6572e864809c4eecba0a434697832870",
       "placeholder": "​",
       "style": "IPY_MODEL_2a0f1b11e5f44ba28131e1e7aacab689",
       "value": " 150/150 [00:11&lt;00:00, 12.13it/s]"
      }
     },
     "99e83d9d8d044f32ac37ab72a4711789": {
      "model_module": "@jupyter-widgets/base",
      "model_module_version": "1.2.0",
      "model_name": "LayoutModel",
      "state": {
       "_model_module": "@jupyter-widgets/base",
       "_model_module_version": "1.2.0",
       "_model_name": "LayoutModel",
       "_view_count": null,
       "_view_module": "@jupyter-widgets/base",
       "_view_module_version": "1.2.0",
       "_view_name": "LayoutView",
       "align_content": null,
       "align_items": null,
       "align_self": null,
       "border": null,
       "bottom": null,
       "display": null,
       "flex": null,
       "flex_flow": null,
       "grid_area": null,
       "grid_auto_columns": null,
       "grid_auto_flow": null,
       "grid_auto_rows": null,
       "grid_column": null,
       "grid_gap": null,
       "grid_row": null,
       "grid_template_areas": null,
       "grid_template_columns": null,
       "grid_template_rows": null,
       "height": null,
       "justify_content": null,
       "justify_items": null,
       "left": null,
       "margin": null,
       "max_height": null,
       "max_width": null,
       "min_height": null,
       "min_width": null,
       "object_fit": null,
       "object_position": null,
       "order": null,
       "overflow": null,
       "overflow_x": null,
       "overflow_y": null,
       "padding": null,
       "right": null,
       "top": null,
       "visibility": null,
       "width": null
      }
     },
     "9bc7c5be79974d4f8f61746e8380d935": {
      "model_module": "@jupyter-widgets/controls",
      "model_module_version": "1.5.0",
      "model_name": "DescriptionStyleModel",
      "state": {
       "_model_module": "@jupyter-widgets/controls",
       "_model_module_version": "1.5.0",
       "_model_name": "DescriptionStyleModel",
       "_view_count": null,
       "_view_module": "@jupyter-widgets/base",
       "_view_module_version": "1.2.0",
       "_view_name": "StyleView",
       "description_width": ""
      }
     },
     "a13ad1e1c8824be697a16c3d6b0bf4aa": {
      "model_module": "@jupyter-widgets/controls",
      "model_module_version": "1.5.0",
      "model_name": "DescriptionStyleModel",
      "state": {
       "_model_module": "@jupyter-widgets/controls",
       "_model_module_version": "1.5.0",
       "_model_name": "DescriptionStyleModel",
       "_view_count": null,
       "_view_module": "@jupyter-widgets/base",
       "_view_module_version": "1.2.0",
       "_view_name": "StyleView",
       "description_width": ""
      }
     },
     "a36b7bd6cade4369b6ff13cd60587922": {
      "model_module": "@jupyter-widgets/base",
      "model_module_version": "1.2.0",
      "model_name": "LayoutModel",
      "state": {
       "_model_module": "@jupyter-widgets/base",
       "_model_module_version": "1.2.0",
       "_model_name": "LayoutModel",
       "_view_count": null,
       "_view_module": "@jupyter-widgets/base",
       "_view_module_version": "1.2.0",
       "_view_name": "LayoutView",
       "align_content": null,
       "align_items": null,
       "align_self": null,
       "border": null,
       "bottom": null,
       "display": null,
       "flex": null,
       "flex_flow": null,
       "grid_area": null,
       "grid_auto_columns": null,
       "grid_auto_flow": null,
       "grid_auto_rows": null,
       "grid_column": null,
       "grid_gap": null,
       "grid_row": null,
       "grid_template_areas": null,
       "grid_template_columns": null,
       "grid_template_rows": null,
       "height": null,
       "justify_content": null,
       "justify_items": null,
       "left": null,
       "margin": null,
       "max_height": null,
       "max_width": null,
       "min_height": null,
       "min_width": null,
       "object_fit": null,
       "object_position": null,
       "order": null,
       "overflow": null,
       "overflow_x": null,
       "overflow_y": null,
       "padding": null,
       "right": null,
       "top": null,
       "visibility": null,
       "width": null
      }
     },
     "a371b6fdd3de46fdbe6837ea482113cb": {
      "model_module": "@jupyter-widgets/controls",
      "model_module_version": "1.5.0",
      "model_name": "HTMLModel",
      "state": {
       "_dom_classes": [],
       "_model_module": "@jupyter-widgets/controls",
       "_model_module_version": "1.5.0",
       "_model_name": "HTMLModel",
       "_view_count": null,
       "_view_module": "@jupyter-widgets/controls",
       "_view_module_version": "1.5.0",
       "_view_name": "HTMLView",
       "description": "",
       "description_tooltip": null,
       "layout": "IPY_MODEL_43e85e68a91b424d922925ab436073dc",
       "placeholder": "​",
       "style": "IPY_MODEL_8198d4954490478d9fc8960e6ddb86b7",
       "value": "100%"
      }
     },
     "a3d2465176654d25baf8926100676cb1": {
      "model_module": "@jupyter-widgets/controls",
      "model_module_version": "1.5.0",
      "model_name": "HBoxModel",
      "state": {
       "_dom_classes": [],
       "_model_module": "@jupyter-widgets/controls",
       "_model_module_version": "1.5.0",
       "_model_name": "HBoxModel",
       "_view_count": null,
       "_view_module": "@jupyter-widgets/controls",
       "_view_module_version": "1.5.0",
       "_view_name": "HBoxView",
       "box_style": "",
       "children": [
        "IPY_MODEL_a371b6fdd3de46fdbe6837ea482113cb",
        "IPY_MODEL_b2daa233fcfa488192ec69429d7fd70f",
        "IPY_MODEL_d8f7beac3e844cbb903ad07143a1a151"
       ],
       "layout": "IPY_MODEL_d24bfbcf7b454f9086f36e8fefb8069b"
      }
     },
     "a9024c4b07ca47ec8b51135ed8a64eaf": {
      "model_module": "@jupyter-widgets/controls",
      "model_module_version": "1.5.0",
      "model_name": "HBoxModel",
      "state": {
       "_dom_classes": [],
       "_model_module": "@jupyter-widgets/controls",
       "_model_module_version": "1.5.0",
       "_model_name": "HBoxModel",
       "_view_count": null,
       "_view_module": "@jupyter-widgets/controls",
       "_view_module_version": "1.5.0",
       "_view_name": "HBoxView",
       "box_style": "",
       "children": [
        "IPY_MODEL_8676f6285d004788b8ec74fbc3113ba5",
        "IPY_MODEL_f7415b32384141718e15f11436947ff3",
        "IPY_MODEL_cc4f0582b60245f09a2764aa5359f8a4"
       ],
       "layout": "IPY_MODEL_dd82428b17a446f3925034e17f449587"
      }
     },
     "b120166ad65b4d6cb977bb5dbffe9880": {
      "model_module": "@jupyter-widgets/controls",
      "model_module_version": "1.5.0",
      "model_name": "ProgressStyleModel",
      "state": {
       "_model_module": "@jupyter-widgets/controls",
       "_model_module_version": "1.5.0",
       "_model_name": "ProgressStyleModel",
       "_view_count": null,
       "_view_module": "@jupyter-widgets/base",
       "_view_module_version": "1.2.0",
       "_view_name": "StyleView",
       "bar_color": null,
       "description_width": ""
      }
     },
     "b2daa233fcfa488192ec69429d7fd70f": {
      "model_module": "@jupyter-widgets/controls",
      "model_module_version": "1.5.0",
      "model_name": "FloatProgressModel",
      "state": {
       "_dom_classes": [],
       "_model_module": "@jupyter-widgets/controls",
       "_model_module_version": "1.5.0",
       "_model_name": "FloatProgressModel",
       "_view_count": null,
       "_view_module": "@jupyter-widgets/controls",
       "_view_module_version": "1.5.0",
       "_view_name": "ProgressView",
       "bar_style": "success",
       "description": "",
       "description_tooltip": null,
       "layout": "IPY_MODEL_642bd564593345ddba1ff783adde5f99",
       "max": 150,
       "min": 0,
       "orientation": "horizontal",
       "style": "IPY_MODEL_3ea3749b5ad04f248843d59158744083",
       "value": 150
      }
     },
     "b3b070caeeda4007b3440fdd9e7d2932": {
      "model_module": "@jupyter-widgets/controls",
      "model_module_version": "1.5.0",
      "model_name": "DescriptionStyleModel",
      "state": {
       "_model_module": "@jupyter-widgets/controls",
       "_model_module_version": "1.5.0",
       "_model_name": "DescriptionStyleModel",
       "_view_count": null,
       "_view_module": "@jupyter-widgets/base",
       "_view_module_version": "1.2.0",
       "_view_name": "StyleView",
       "description_width": ""
      }
     },
     "bae698b1b01e4e9e9454a5195561bb79": {
      "model_module": "@jupyter-widgets/controls",
      "model_module_version": "1.5.0",
      "model_name": "HBoxModel",
      "state": {
       "_dom_classes": [],
       "_model_module": "@jupyter-widgets/controls",
       "_model_module_version": "1.5.0",
       "_model_name": "HBoxModel",
       "_view_count": null,
       "_view_module": "@jupyter-widgets/controls",
       "_view_module_version": "1.5.0",
       "_view_name": "HBoxView",
       "box_style": "",
       "children": [
        "IPY_MODEL_64e02812ee924e4d87d4b406d902221e",
        "IPY_MODEL_00465e01912d45b49f8a149763b9054d",
        "IPY_MODEL_77d41f2506074e959ef3a4a4fb6cf924"
       ],
       "layout": "IPY_MODEL_8eb644a22a5740789e90512bbff9f52f"
      }
     },
     "c39dece0904f41eb95f7571308822551": {
      "model_module": "@jupyter-widgets/controls",
      "model_module_version": "1.5.0",
      "model_name": "HBoxModel",
      "state": {
       "_dom_classes": [],
       "_model_module": "@jupyter-widgets/controls",
       "_model_module_version": "1.5.0",
       "_model_name": "HBoxModel",
       "_view_count": null,
       "_view_module": "@jupyter-widgets/controls",
       "_view_module_version": "1.5.0",
       "_view_name": "HBoxView",
       "box_style": "",
       "children": [
        "IPY_MODEL_10b214fa5faa40b4b3efa5d5c284ea63",
        "IPY_MODEL_051d8c262c874f99a998a68589d4d6de",
        "IPY_MODEL_6e92aa5364ad4b4dbd03c2eecf1d2404"
       ],
       "layout": "IPY_MODEL_f38e4a0286374c7e8ee9a34793b5fc1b"
      }
     },
     "cc4f0582b60245f09a2764aa5359f8a4": {
      "model_module": "@jupyter-widgets/controls",
      "model_module_version": "1.5.0",
      "model_name": "HTMLModel",
      "state": {
       "_dom_classes": [],
       "_model_module": "@jupyter-widgets/controls",
       "_model_module_version": "1.5.0",
       "_model_name": "HTMLModel",
       "_view_count": null,
       "_view_module": "@jupyter-widgets/controls",
       "_view_module_version": "1.5.0",
       "_view_name": "HTMLView",
       "description": "",
       "description_tooltip": null,
       "layout": "IPY_MODEL_3a7f53c68f7e4370904be01ea3b97aa4",
       "placeholder": "​",
       "style": "IPY_MODEL_9bc7c5be79974d4f8f61746e8380d935",
       "value": " 75/75 [07:33&lt;00:00,  7.60s/it]"
      }
     },
     "ce5e391d2f2441b6ba68603e9f2b9939": {
      "model_module": "@jupyter-widgets/controls",
      "model_module_version": "1.5.0",
      "model_name": "HTMLModel",
      "state": {
       "_dom_classes": [],
       "_model_module": "@jupyter-widgets/controls",
       "_model_module_version": "1.5.0",
       "_model_name": "HTMLModel",
       "_view_count": null,
       "_view_module": "@jupyter-widgets/controls",
       "_view_module_version": "1.5.0",
       "_view_name": "HTMLView",
       "description": "",
       "description_tooltip": null,
       "layout": "IPY_MODEL_0bf61992b5a949c4925cb4dc7b75824b",
       "placeholder": "​",
       "style": "IPY_MODEL_39b4968fd560416dad8dc62afbba8336",
       "value": "100%"
      }
     },
     "cf1c990cfa4943a193705298b53f92d0": {
      "model_module": "@jupyter-widgets/base",
      "model_module_version": "1.2.0",
      "model_name": "LayoutModel",
      "state": {
       "_model_module": "@jupyter-widgets/base",
       "_model_module_version": "1.2.0",
       "_model_name": "LayoutModel",
       "_view_count": null,
       "_view_module": "@jupyter-widgets/base",
       "_view_module_version": "1.2.0",
       "_view_name": "LayoutView",
       "align_content": null,
       "align_items": null,
       "align_self": null,
       "border": null,
       "bottom": null,
       "display": null,
       "flex": null,
       "flex_flow": null,
       "grid_area": null,
       "grid_auto_columns": null,
       "grid_auto_flow": null,
       "grid_auto_rows": null,
       "grid_column": null,
       "grid_gap": null,
       "grid_row": null,
       "grid_template_areas": null,
       "grid_template_columns": null,
       "grid_template_rows": null,
       "height": null,
       "justify_content": null,
       "justify_items": null,
       "left": null,
       "margin": null,
       "max_height": null,
       "max_width": null,
       "min_height": null,
       "min_width": null,
       "object_fit": null,
       "object_position": null,
       "order": null,
       "overflow": null,
       "overflow_x": null,
       "overflow_y": null,
       "padding": null,
       "right": null,
       "top": null,
       "visibility": null,
       "width": null
      }
     },
     "d24bfbcf7b454f9086f36e8fefb8069b": {
      "model_module": "@jupyter-widgets/base",
      "model_module_version": "1.2.0",
      "model_name": "LayoutModel",
      "state": {
       "_model_module": "@jupyter-widgets/base",
       "_model_module_version": "1.2.0",
       "_model_name": "LayoutModel",
       "_view_count": null,
       "_view_module": "@jupyter-widgets/base",
       "_view_module_version": "1.2.0",
       "_view_name": "LayoutView",
       "align_content": null,
       "align_items": null,
       "align_self": null,
       "border": null,
       "bottom": null,
       "display": null,
       "flex": null,
       "flex_flow": null,
       "grid_area": null,
       "grid_auto_columns": null,
       "grid_auto_flow": null,
       "grid_auto_rows": null,
       "grid_column": null,
       "grid_gap": null,
       "grid_row": null,
       "grid_template_areas": null,
       "grid_template_columns": null,
       "grid_template_rows": null,
       "height": null,
       "justify_content": null,
       "justify_items": null,
       "left": null,
       "margin": null,
       "max_height": null,
       "max_width": null,
       "min_height": null,
       "min_width": null,
       "object_fit": null,
       "object_position": null,
       "order": null,
       "overflow": null,
       "overflow_x": null,
       "overflow_y": null,
       "padding": null,
       "right": null,
       "top": null,
       "visibility": null,
       "width": null
      }
     },
     "d388434117774276a8ef1ce1885cdc88": {
      "model_module": "@jupyter-widgets/base",
      "model_module_version": "1.2.0",
      "model_name": "LayoutModel",
      "state": {
       "_model_module": "@jupyter-widgets/base",
       "_model_module_version": "1.2.0",
       "_model_name": "LayoutModel",
       "_view_count": null,
       "_view_module": "@jupyter-widgets/base",
       "_view_module_version": "1.2.0",
       "_view_name": "LayoutView",
       "align_content": null,
       "align_items": null,
       "align_self": null,
       "border": null,
       "bottom": null,
       "display": null,
       "flex": null,
       "flex_flow": null,
       "grid_area": null,
       "grid_auto_columns": null,
       "grid_auto_flow": null,
       "grid_auto_rows": null,
       "grid_column": null,
       "grid_gap": null,
       "grid_row": null,
       "grid_template_areas": null,
       "grid_template_columns": null,
       "grid_template_rows": null,
       "height": null,
       "justify_content": null,
       "justify_items": null,
       "left": null,
       "margin": null,
       "max_height": null,
       "max_width": null,
       "min_height": null,
       "min_width": null,
       "object_fit": null,
       "object_position": null,
       "order": null,
       "overflow": null,
       "overflow_x": null,
       "overflow_y": null,
       "padding": null,
       "right": null,
       "top": null,
       "visibility": null,
       "width": null
      }
     },
     "d8f7beac3e844cbb903ad07143a1a151": {
      "model_module": "@jupyter-widgets/controls",
      "model_module_version": "1.5.0",
      "model_name": "HTMLModel",
      "state": {
       "_dom_classes": [],
       "_model_module": "@jupyter-widgets/controls",
       "_model_module_version": "1.5.0",
       "_model_name": "HTMLModel",
       "_view_count": null,
       "_view_module": "@jupyter-widgets/controls",
       "_view_module_version": "1.5.0",
       "_view_name": "HTMLView",
       "description": "",
       "description_tooltip": null,
       "layout": "IPY_MODEL_43c7ad49dc96486b951f999d47dbc8b7",
       "placeholder": "​",
       "style": "IPY_MODEL_1dbfced27a6846d4ac11680be8f9fb72",
       "value": " 150/150 [00:10&lt;00:00, 13.87it/s]"
      }
     },
     "db335705b9084d2b9f598eca949b517b": {
      "model_module": "@jupyter-widgets/controls",
      "model_module_version": "1.5.0",
      "model_name": "DescriptionStyleModel",
      "state": {
       "_model_module": "@jupyter-widgets/controls",
       "_model_module_version": "1.5.0",
       "_model_name": "DescriptionStyleModel",
       "_view_count": null,
       "_view_module": "@jupyter-widgets/base",
       "_view_module_version": "1.2.0",
       "_view_name": "StyleView",
       "description_width": ""
      }
     },
     "db4605a3750b45288d155c2ee3976e61": {
      "model_module": "@jupyter-widgets/base",
      "model_module_version": "1.2.0",
      "model_name": "LayoutModel",
      "state": {
       "_model_module": "@jupyter-widgets/base",
       "_model_module_version": "1.2.0",
       "_model_name": "LayoutModel",
       "_view_count": null,
       "_view_module": "@jupyter-widgets/base",
       "_view_module_version": "1.2.0",
       "_view_name": "LayoutView",
       "align_content": null,
       "align_items": null,
       "align_self": null,
       "border": null,
       "bottom": null,
       "display": null,
       "flex": null,
       "flex_flow": null,
       "grid_area": null,
       "grid_auto_columns": null,
       "grid_auto_flow": null,
       "grid_auto_rows": null,
       "grid_column": null,
       "grid_gap": null,
       "grid_row": null,
       "grid_template_areas": null,
       "grid_template_columns": null,
       "grid_template_rows": null,
       "height": null,
       "justify_content": null,
       "justify_items": null,
       "left": null,
       "margin": null,
       "max_height": null,
       "max_width": null,
       "min_height": null,
       "min_width": null,
       "object_fit": null,
       "object_position": null,
       "order": null,
       "overflow": null,
       "overflow_x": null,
       "overflow_y": null,
       "padding": null,
       "right": null,
       "top": null,
       "visibility": null,
       "width": null
      }
     },
     "dd82428b17a446f3925034e17f449587": {
      "model_module": "@jupyter-widgets/base",
      "model_module_version": "1.2.0",
      "model_name": "LayoutModel",
      "state": {
       "_model_module": "@jupyter-widgets/base",
       "_model_module_version": "1.2.0",
       "_model_name": "LayoutModel",
       "_view_count": null,
       "_view_module": "@jupyter-widgets/base",
       "_view_module_version": "1.2.0",
       "_view_name": "LayoutView",
       "align_content": null,
       "align_items": null,
       "align_self": null,
       "border": null,
       "bottom": null,
       "display": null,
       "flex": null,
       "flex_flow": null,
       "grid_area": null,
       "grid_auto_columns": null,
       "grid_auto_flow": null,
       "grid_auto_rows": null,
       "grid_column": null,
       "grid_gap": null,
       "grid_row": null,
       "grid_template_areas": null,
       "grid_template_columns": null,
       "grid_template_rows": null,
       "height": null,
       "justify_content": null,
       "justify_items": null,
       "left": null,
       "margin": null,
       "max_height": null,
       "max_width": null,
       "min_height": null,
       "min_width": null,
       "object_fit": null,
       "object_position": null,
       "order": null,
       "overflow": null,
       "overflow_x": null,
       "overflow_y": null,
       "padding": null,
       "right": null,
       "top": null,
       "visibility": null,
       "width": null
      }
     },
     "e06234ce96904a9b9bf4bdd1e2517ff7": {
      "model_module": "@jupyter-widgets/controls",
      "model_module_version": "1.5.0",
      "model_name": "FloatProgressModel",
      "state": {
       "_dom_classes": [],
       "_model_module": "@jupyter-widgets/controls",
       "_model_module_version": "1.5.0",
       "_model_name": "FloatProgressModel",
       "_view_count": null,
       "_view_module": "@jupyter-widgets/controls",
       "_view_module_version": "1.5.0",
       "_view_name": "ProgressView",
       "bar_style": "success",
       "description": "",
       "description_tooltip": null,
       "layout": "IPY_MODEL_cf1c990cfa4943a193705298b53f92d0",
       "max": 150,
       "min": 0,
       "orientation": "horizontal",
       "style": "IPY_MODEL_014a65e809c5491c8a75ebff92d4bc19",
       "value": 150
      }
     },
     "e11927a3bcc64a20b58f145b14f7d50b": {
      "model_module": "@jupyter-widgets/base",
      "model_module_version": "1.2.0",
      "model_name": "LayoutModel",
      "state": {
       "_model_module": "@jupyter-widgets/base",
       "_model_module_version": "1.2.0",
       "_model_name": "LayoutModel",
       "_view_count": null,
       "_view_module": "@jupyter-widgets/base",
       "_view_module_version": "1.2.0",
       "_view_name": "LayoutView",
       "align_content": null,
       "align_items": null,
       "align_self": null,
       "border": null,
       "bottom": null,
       "display": null,
       "flex": null,
       "flex_flow": null,
       "grid_area": null,
       "grid_auto_columns": null,
       "grid_auto_flow": null,
       "grid_auto_rows": null,
       "grid_column": null,
       "grid_gap": null,
       "grid_row": null,
       "grid_template_areas": null,
       "grid_template_columns": null,
       "grid_template_rows": null,
       "height": null,
       "justify_content": null,
       "justify_items": null,
       "left": null,
       "margin": null,
       "max_height": null,
       "max_width": null,
       "min_height": null,
       "min_width": null,
       "object_fit": null,
       "object_position": null,
       "order": null,
       "overflow": null,
       "overflow_x": null,
       "overflow_y": null,
       "padding": null,
       "right": null,
       "top": null,
       "visibility": null,
       "width": null
      }
     },
     "f38e4a0286374c7e8ee9a34793b5fc1b": {
      "model_module": "@jupyter-widgets/base",
      "model_module_version": "1.2.0",
      "model_name": "LayoutModel",
      "state": {
       "_model_module": "@jupyter-widgets/base",
       "_model_module_version": "1.2.0",
       "_model_name": "LayoutModel",
       "_view_count": null,
       "_view_module": "@jupyter-widgets/base",
       "_view_module_version": "1.2.0",
       "_view_name": "LayoutView",
       "align_content": null,
       "align_items": null,
       "align_self": null,
       "border": null,
       "bottom": null,
       "display": null,
       "flex": null,
       "flex_flow": null,
       "grid_area": null,
       "grid_auto_columns": null,
       "grid_auto_flow": null,
       "grid_auto_rows": null,
       "grid_column": null,
       "grid_gap": null,
       "grid_row": null,
       "grid_template_areas": null,
       "grid_template_columns": null,
       "grid_template_rows": null,
       "height": null,
       "justify_content": null,
       "justify_items": null,
       "left": null,
       "margin": null,
       "max_height": null,
       "max_width": null,
       "min_height": null,
       "min_width": null,
       "object_fit": null,
       "object_position": null,
       "order": null,
       "overflow": null,
       "overflow_x": null,
       "overflow_y": null,
       "padding": null,
       "right": null,
       "top": null,
       "visibility": null,
       "width": null
      }
     },
     "f4f47da4b5ae432eb2059a1dce3d1a02": {
      "model_module": "@jupyter-widgets/controls",
      "model_module_version": "1.5.0",
      "model_name": "DescriptionStyleModel",
      "state": {
       "_model_module": "@jupyter-widgets/controls",
       "_model_module_version": "1.5.0",
       "_model_name": "DescriptionStyleModel",
       "_view_count": null,
       "_view_module": "@jupyter-widgets/base",
       "_view_module_version": "1.2.0",
       "_view_name": "StyleView",
       "description_width": ""
      }
     },
     "f5997eec88b6428a9b019a40ce10b110": {
      "model_module": "@jupyter-widgets/controls",
      "model_module_version": "1.5.0",
      "model_name": "FloatProgressModel",
      "state": {
       "_dom_classes": [],
       "_model_module": "@jupyter-widgets/controls",
       "_model_module_version": "1.5.0",
       "_model_name": "FloatProgressModel",
       "_view_count": null,
       "_view_module": "@jupyter-widgets/controls",
       "_view_module_version": "1.5.0",
       "_view_name": "ProgressView",
       "bar_style": "success",
       "description": "",
       "description_tooltip": null,
       "layout": "IPY_MODEL_4ba1be5e007a41a5b022e49f7696afc8",
       "max": 75,
       "min": 0,
       "orientation": "horizontal",
       "style": "IPY_MODEL_4fb9f6d98c124c8aa4c8669af05e4b84",
       "value": 75
      }
     },
     "f7415b32384141718e15f11436947ff3": {
      "model_module": "@jupyter-widgets/controls",
      "model_module_version": "1.5.0",
      "model_name": "FloatProgressModel",
      "state": {
       "_dom_classes": [],
       "_model_module": "@jupyter-widgets/controls",
       "_model_module_version": "1.5.0",
       "_model_name": "FloatProgressModel",
       "_view_count": null,
       "_view_module": "@jupyter-widgets/controls",
       "_view_module_version": "1.5.0",
       "_view_name": "ProgressView",
       "bar_style": "success",
       "description": "",
       "description_tooltip": null,
       "layout": "IPY_MODEL_99e83d9d8d044f32ac37ab72a4711789",
       "max": 75,
       "min": 0,
       "orientation": "horizontal",
       "style": "IPY_MODEL_6452e3c167724524abdaac9d6bf0541d",
       "value": 75
      }
     },
     "fb00934b906b4869925b0a0e8cad1807": {
      "model_module": "@jupyter-widgets/controls",
      "model_module_version": "1.5.0",
      "model_name": "HTMLModel",
      "state": {
       "_dom_classes": [],
       "_model_module": "@jupyter-widgets/controls",
       "_model_module_version": "1.5.0",
       "_model_name": "HTMLModel",
       "_view_count": null,
       "_view_module": "@jupyter-widgets/controls",
       "_view_module_version": "1.5.0",
       "_view_name": "HTMLView",
       "description": "",
       "description_tooltip": null,
       "layout": "IPY_MODEL_94b11fee06f042cdb106bd0ef87a1fdf",
       "placeholder": "​",
       "style": "IPY_MODEL_0a0261e8cf714ed382a4399e89345de5",
       "value": " 150/150 [00:11&lt;00:00, 14.50it/s]"
      }
     },
     "fc31d079dcf54821a015ee68db2a32c1": {
      "model_module": "@jupyter-widgets/base",
      "model_module_version": "1.2.0",
      "model_name": "LayoutModel",
      "state": {
       "_model_module": "@jupyter-widgets/base",
       "_model_module_version": "1.2.0",
       "_model_name": "LayoutModel",
       "_view_count": null,
       "_view_module": "@jupyter-widgets/base",
       "_view_module_version": "1.2.0",
       "_view_name": "LayoutView",
       "align_content": null,
       "align_items": null,
       "align_self": null,
       "border": null,
       "bottom": null,
       "display": null,
       "flex": null,
       "flex_flow": null,
       "grid_area": null,
       "grid_auto_columns": null,
       "grid_auto_flow": null,
       "grid_auto_rows": null,
       "grid_column": null,
       "grid_gap": null,
       "grid_row": null,
       "grid_template_areas": null,
       "grid_template_columns": null,
       "grid_template_rows": null,
       "height": null,
       "justify_content": null,
       "justify_items": null,
       "left": null,
       "margin": null,
       "max_height": null,
       "max_width": null,
       "min_height": null,
       "min_width": null,
       "object_fit": null,
       "object_position": null,
       "order": null,
       "overflow": null,
       "overflow_x": null,
       "overflow_y": null,
       "padding": null,
       "right": null,
       "top": null,
       "visibility": null,
       "width": null
      }
     },
     "fc4cfdf24b2e467cb9896403af9c4b21": {
      "model_module": "@jupyter-widgets/base",
      "model_module_version": "1.2.0",
      "model_name": "LayoutModel",
      "state": {
       "_model_module": "@jupyter-widgets/base",
       "_model_module_version": "1.2.0",
       "_model_name": "LayoutModel",
       "_view_count": null,
       "_view_module": "@jupyter-widgets/base",
       "_view_module_version": "1.2.0",
       "_view_name": "LayoutView",
       "align_content": null,
       "align_items": null,
       "align_self": null,
       "border": null,
       "bottom": null,
       "display": null,
       "flex": null,
       "flex_flow": null,
       "grid_area": null,
       "grid_auto_columns": null,
       "grid_auto_flow": null,
       "grid_auto_rows": null,
       "grid_column": null,
       "grid_gap": null,
       "grid_row": null,
       "grid_template_areas": null,
       "grid_template_columns": null,
       "grid_template_rows": null,
       "height": null,
       "justify_content": null,
       "justify_items": null,
       "left": null,
       "margin": null,
       "max_height": null,
       "max_width": null,
       "min_height": null,
       "min_width": null,
       "object_fit": null,
       "object_position": null,
       "order": null,
       "overflow": null,
       "overflow_x": null,
       "overflow_y": null,
       "padding": null,
       "right": null,
       "top": null,
       "visibility": null,
       "width": null
      }
     },
     "fc92d760171d4be093e16091e7aa9b44": {
      "model_module": "@jupyter-widgets/controls",
      "model_module_version": "1.5.0",
      "model_name": "HBoxModel",
      "state": {
       "_dom_classes": [],
       "_model_module": "@jupyter-widgets/controls",
       "_model_module_version": "1.5.0",
       "_model_name": "HBoxModel",
       "_view_count": null,
       "_view_module": "@jupyter-widgets/controls",
       "_view_module_version": "1.5.0",
       "_view_name": "HBoxView",
       "box_style": "",
       "children": [
        "IPY_MODEL_0f95ff84a81a4feba1855cc3b454f198",
        "IPY_MODEL_e06234ce96904a9b9bf4bdd1e2517ff7",
        "IPY_MODEL_68f1c6c7b846408e86014e20fe49353b"
       ],
       "layout": "IPY_MODEL_0cde7d20f5284248867c7b5fec2195bf"
      }
     }
    },
    "version_major": 2,
    "version_minor": 0
   }
  }
 },
 "nbformat": 4,
 "nbformat_minor": 5
}
