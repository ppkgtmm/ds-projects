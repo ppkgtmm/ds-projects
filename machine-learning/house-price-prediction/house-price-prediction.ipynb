{
 "cells": [
  {
   "cell_type": "code",
   "execution_count": 1,
   "id": "73c54a10",
   "metadata": {
    "execution": {
     "iopub.execute_input": "2021-12-05T18:29:55.836262Z",
     "iopub.status.busy": "2021-12-05T18:29:55.835136Z",
     "iopub.status.idle": "2021-12-05T18:30:10.131024Z",
     "shell.execute_reply": "2021-12-05T18:30:10.131588Z",
     "shell.execute_reply.started": "2021-12-05T17:50:26.648506Z"
    },
    "papermill": {
     "duration": 14.334569,
     "end_time": "2021-12-05T18:30:10.131970",
     "exception": false,
     "start_time": "2021-12-05T18:29:55.797401",
     "status": "completed"
    },
    "tags": []
   },
   "outputs": [
    {
     "name": "stdout",
     "output_type": "stream",
     "text": [
      "\u001b[33mWARNING: Running pip as the 'root' user can result in broken permissions and conflicting behaviour with the system package manager. It is recommended to use a virtual environment instead: https://pip.pypa.io/warnings/venv\u001b[0m\r\n"
     ]
    }
   ],
   "source": [
    "!pip install --upgrade -q git+https://github.com/MaxHalford/xam optuna"
   ]
  },
  {
   "cell_type": "code",
   "execution_count": 2,
   "id": "65a89c05",
   "metadata": {
    "execution": {
     "iopub.execute_input": "2021-12-05T18:30:10.206948Z",
     "iopub.status.busy": "2021-12-05T18:30:10.206249Z",
     "iopub.status.idle": "2021-12-05T18:30:10.209175Z",
     "shell.execute_reply": "2021-12-05T18:30:10.209660Z",
     "shell.execute_reply.started": "2021-12-05T17:50:40.211722Z"
    },
    "papermill": {
     "duration": 0.041435,
     "end_time": "2021-12-05T18:30:10.209841",
     "exception": false,
     "start_time": "2021-12-05T18:30:10.168406",
     "status": "completed"
    },
    "tags": []
   },
   "outputs": [],
   "source": [
    "train_path = \"../input/house-prices-advanced-regression-techniques/train.csv\"\n",
    "test_path = \"../input/house-prices-advanced-regression-techniques/test.csv\"\n",
    "\n",
    "train_path_rf = \"../input/imputedhousepricedata/train.csv\"\n",
    "test_path_rf = \"../input/imputedhousepricedata/test.csv\""
   ]
  },
  {
   "cell_type": "code",
   "execution_count": 3,
   "id": "f6b37cc0",
   "metadata": {
    "execution": {
     "iopub.execute_input": "2021-12-05T18:30:10.282788Z",
     "iopub.status.busy": "2021-12-05T18:30:10.282092Z",
     "iopub.status.idle": "2021-12-05T18:30:11.567025Z",
     "shell.execute_reply": "2021-12-05T18:30:11.566337Z",
     "shell.execute_reply.started": "2021-12-05T17:50:40.218680Z"
    },
    "papermill": {
     "duration": 1.324913,
     "end_time": "2021-12-05T18:30:11.567167",
     "exception": false,
     "start_time": "2021-12-05T18:30:10.242254",
     "status": "completed"
    },
    "tags": []
   },
   "outputs": [],
   "source": [
    "import pandas as pd\n",
    "import numpy as np\n",
    "import matplotlib.pyplot as plt\n",
    "from sklearn.model_selection import train_test_split\n",
    "import seaborn as sns\n",
    "import pickle\n",
    "from IPython.display import display"
   ]
  },
  {
   "cell_type": "code",
   "execution_count": 4,
   "id": "255ac977",
   "metadata": {
    "execution": {
     "iopub.execute_input": "2021-12-05T18:30:11.641476Z",
     "iopub.status.busy": "2021-12-05T18:30:11.640671Z",
     "iopub.status.idle": "2021-12-05T18:30:11.909293Z",
     "shell.execute_reply": "2021-12-05T18:30:11.908778Z",
     "shell.execute_reply.started": "2021-12-05T17:50:41.359327Z"
    },
    "papermill": {
     "duration": 0.309007,
     "end_time": "2021-12-05T18:30:11.909483",
     "exception": false,
     "start_time": "2021-12-05T18:30:11.600476",
     "status": "completed"
    },
    "tags": []
   },
   "outputs": [
    {
     "data": {
      "text/html": [
       "<div>\n",
       "<style scoped>\n",
       "    .dataframe tbody tr th:only-of-type {\n",
       "        vertical-align: middle;\n",
       "    }\n",
       "\n",
       "    .dataframe tbody tr th {\n",
       "        vertical-align: top;\n",
       "    }\n",
       "\n",
       "    .dataframe thead th {\n",
       "        text-align: right;\n",
       "    }\n",
       "</style>\n",
       "<table border=\"1\" class=\"dataframe\">\n",
       "  <thead>\n",
       "    <tr style=\"text-align: right;\">\n",
       "      <th></th>\n",
       "      <th>MSSubClass</th>\n",
       "      <th>MSZoning</th>\n",
       "      <th>LotFrontage</th>\n",
       "      <th>LotArea</th>\n",
       "      <th>Street</th>\n",
       "      <th>Alley</th>\n",
       "      <th>LotShape</th>\n",
       "      <th>LandContour</th>\n",
       "      <th>Utilities</th>\n",
       "      <th>LotConfig</th>\n",
       "      <th>...</th>\n",
       "      <th>PoolArea</th>\n",
       "      <th>PoolQC</th>\n",
       "      <th>Fence</th>\n",
       "      <th>MiscFeature</th>\n",
       "      <th>MiscVal</th>\n",
       "      <th>MoSold</th>\n",
       "      <th>YrSold</th>\n",
       "      <th>SaleType</th>\n",
       "      <th>SaleCondition</th>\n",
       "      <th>SalePrice</th>\n",
       "    </tr>\n",
       "    <tr>\n",
       "      <th>Id</th>\n",
       "      <th></th>\n",
       "      <th></th>\n",
       "      <th></th>\n",
       "      <th></th>\n",
       "      <th></th>\n",
       "      <th></th>\n",
       "      <th></th>\n",
       "      <th></th>\n",
       "      <th></th>\n",
       "      <th></th>\n",
       "      <th></th>\n",
       "      <th></th>\n",
       "      <th></th>\n",
       "      <th></th>\n",
       "      <th></th>\n",
       "      <th></th>\n",
       "      <th></th>\n",
       "      <th></th>\n",
       "      <th></th>\n",
       "      <th></th>\n",
       "      <th></th>\n",
       "    </tr>\n",
       "  </thead>\n",
       "  <tbody>\n",
       "    <tr>\n",
       "      <th>1</th>\n",
       "      <td>60</td>\n",
       "      <td>RL</td>\n",
       "      <td>65.0</td>\n",
       "      <td>8450</td>\n",
       "      <td>Pave</td>\n",
       "      <td>NaN</td>\n",
       "      <td>Reg</td>\n",
       "      <td>Lvl</td>\n",
       "      <td>AllPub</td>\n",
       "      <td>Inside</td>\n",
       "      <td>...</td>\n",
       "      <td>0</td>\n",
       "      <td>NaN</td>\n",
       "      <td>NaN</td>\n",
       "      <td>NaN</td>\n",
       "      <td>0</td>\n",
       "      <td>2</td>\n",
       "      <td>2008</td>\n",
       "      <td>WD</td>\n",
       "      <td>Normal</td>\n",
       "      <td>208500</td>\n",
       "    </tr>\n",
       "    <tr>\n",
       "      <th>2</th>\n",
       "      <td>20</td>\n",
       "      <td>RL</td>\n",
       "      <td>80.0</td>\n",
       "      <td>9600</td>\n",
       "      <td>Pave</td>\n",
       "      <td>NaN</td>\n",
       "      <td>Reg</td>\n",
       "      <td>Lvl</td>\n",
       "      <td>AllPub</td>\n",
       "      <td>FR2</td>\n",
       "      <td>...</td>\n",
       "      <td>0</td>\n",
       "      <td>NaN</td>\n",
       "      <td>NaN</td>\n",
       "      <td>NaN</td>\n",
       "      <td>0</td>\n",
       "      <td>5</td>\n",
       "      <td>2007</td>\n",
       "      <td>WD</td>\n",
       "      <td>Normal</td>\n",
       "      <td>181500</td>\n",
       "    </tr>\n",
       "    <tr>\n",
       "      <th>3</th>\n",
       "      <td>60</td>\n",
       "      <td>RL</td>\n",
       "      <td>68.0</td>\n",
       "      <td>11250</td>\n",
       "      <td>Pave</td>\n",
       "      <td>NaN</td>\n",
       "      <td>IR1</td>\n",
       "      <td>Lvl</td>\n",
       "      <td>AllPub</td>\n",
       "      <td>Inside</td>\n",
       "      <td>...</td>\n",
       "      <td>0</td>\n",
       "      <td>NaN</td>\n",
       "      <td>NaN</td>\n",
       "      <td>NaN</td>\n",
       "      <td>0</td>\n",
       "      <td>9</td>\n",
       "      <td>2008</td>\n",
       "      <td>WD</td>\n",
       "      <td>Normal</td>\n",
       "      <td>223500</td>\n",
       "    </tr>\n",
       "    <tr>\n",
       "      <th>4</th>\n",
       "      <td>70</td>\n",
       "      <td>RL</td>\n",
       "      <td>60.0</td>\n",
       "      <td>9550</td>\n",
       "      <td>Pave</td>\n",
       "      <td>NaN</td>\n",
       "      <td>IR1</td>\n",
       "      <td>Lvl</td>\n",
       "      <td>AllPub</td>\n",
       "      <td>Corner</td>\n",
       "      <td>...</td>\n",
       "      <td>0</td>\n",
       "      <td>NaN</td>\n",
       "      <td>NaN</td>\n",
       "      <td>NaN</td>\n",
       "      <td>0</td>\n",
       "      <td>2</td>\n",
       "      <td>2006</td>\n",
       "      <td>WD</td>\n",
       "      <td>Abnorml</td>\n",
       "      <td>140000</td>\n",
       "    </tr>\n",
       "    <tr>\n",
       "      <th>5</th>\n",
       "      <td>60</td>\n",
       "      <td>RL</td>\n",
       "      <td>84.0</td>\n",
       "      <td>14260</td>\n",
       "      <td>Pave</td>\n",
       "      <td>NaN</td>\n",
       "      <td>IR1</td>\n",
       "      <td>Lvl</td>\n",
       "      <td>AllPub</td>\n",
       "      <td>FR2</td>\n",
       "      <td>...</td>\n",
       "      <td>0</td>\n",
       "      <td>NaN</td>\n",
       "      <td>NaN</td>\n",
       "      <td>NaN</td>\n",
       "      <td>0</td>\n",
       "      <td>12</td>\n",
       "      <td>2008</td>\n",
       "      <td>WD</td>\n",
       "      <td>Normal</td>\n",
       "      <td>250000</td>\n",
       "    </tr>\n",
       "  </tbody>\n",
       "</table>\n",
       "<p>5 rows × 80 columns</p>\n",
       "</div>"
      ],
      "text/plain": [
       "    MSSubClass MSZoning  LotFrontage  LotArea Street Alley LotShape  \\\n",
       "Id                                                                    \n",
       "1           60       RL         65.0     8450   Pave   NaN      Reg   \n",
       "2           20       RL         80.0     9600   Pave   NaN      Reg   \n",
       "3           60       RL         68.0    11250   Pave   NaN      IR1   \n",
       "4           70       RL         60.0     9550   Pave   NaN      IR1   \n",
       "5           60       RL         84.0    14260   Pave   NaN      IR1   \n",
       "\n",
       "   LandContour Utilities LotConfig  ... PoolArea PoolQC Fence MiscFeature  \\\n",
       "Id                                  ...                                     \n",
       "1          Lvl    AllPub    Inside  ...        0    NaN   NaN         NaN   \n",
       "2          Lvl    AllPub       FR2  ...        0    NaN   NaN         NaN   \n",
       "3          Lvl    AllPub    Inside  ...        0    NaN   NaN         NaN   \n",
       "4          Lvl    AllPub    Corner  ...        0    NaN   NaN         NaN   \n",
       "5          Lvl    AllPub       FR2  ...        0    NaN   NaN         NaN   \n",
       "\n",
       "   MiscVal MoSold  YrSold  SaleType  SaleCondition  SalePrice  \n",
       "Id                                                             \n",
       "1        0      2    2008        WD         Normal     208500  \n",
       "2        0      5    2007        WD         Normal     181500  \n",
       "3        0      9    2008        WD         Normal     223500  \n",
       "4        0      2    2006        WD        Abnorml     140000  \n",
       "5        0     12    2008        WD         Normal     250000  \n",
       "\n",
       "[5 rows x 80 columns]"
      ]
     },
     "metadata": {},
     "output_type": "display_data"
    },
    {
     "data": {
      "text/html": [
       "<div>\n",
       "<style scoped>\n",
       "    .dataframe tbody tr th:only-of-type {\n",
       "        vertical-align: middle;\n",
       "    }\n",
       "\n",
       "    .dataframe tbody tr th {\n",
       "        vertical-align: top;\n",
       "    }\n",
       "\n",
       "    .dataframe thead th {\n",
       "        text-align: right;\n",
       "    }\n",
       "</style>\n",
       "<table border=\"1\" class=\"dataframe\">\n",
       "  <thead>\n",
       "    <tr style=\"text-align: right;\">\n",
       "      <th></th>\n",
       "      <th>MSSubClass</th>\n",
       "      <th>MSZoning</th>\n",
       "      <th>LotFrontage</th>\n",
       "      <th>LotArea</th>\n",
       "      <th>Street</th>\n",
       "      <th>Alley</th>\n",
       "      <th>LotShape</th>\n",
       "      <th>LandContour</th>\n",
       "      <th>Utilities</th>\n",
       "      <th>LotConfig</th>\n",
       "      <th>...</th>\n",
       "      <th>PoolArea</th>\n",
       "      <th>PoolQC</th>\n",
       "      <th>Fence</th>\n",
       "      <th>MiscFeature</th>\n",
       "      <th>MiscVal</th>\n",
       "      <th>MoSold</th>\n",
       "      <th>YrSold</th>\n",
       "      <th>SaleType</th>\n",
       "      <th>SaleCondition</th>\n",
       "      <th>SalePrice</th>\n",
       "    </tr>\n",
       "    <tr>\n",
       "      <th>Id</th>\n",
       "      <th></th>\n",
       "      <th></th>\n",
       "      <th></th>\n",
       "      <th></th>\n",
       "      <th></th>\n",
       "      <th></th>\n",
       "      <th></th>\n",
       "      <th></th>\n",
       "      <th></th>\n",
       "      <th></th>\n",
       "      <th></th>\n",
       "      <th></th>\n",
       "      <th></th>\n",
       "      <th></th>\n",
       "      <th></th>\n",
       "      <th></th>\n",
       "      <th></th>\n",
       "      <th></th>\n",
       "      <th></th>\n",
       "      <th></th>\n",
       "      <th></th>\n",
       "    </tr>\n",
       "  </thead>\n",
       "  <tbody>\n",
       "    <tr>\n",
       "      <th>1</th>\n",
       "      <td>60</td>\n",
       "      <td>RL</td>\n",
       "      <td>65.0</td>\n",
       "      <td>8450</td>\n",
       "      <td>Pave</td>\n",
       "      <td>None</td>\n",
       "      <td>Reg</td>\n",
       "      <td>Lvl</td>\n",
       "      <td>AllPub</td>\n",
       "      <td>Inside</td>\n",
       "      <td>...</td>\n",
       "      <td>0</td>\n",
       "      <td>None</td>\n",
       "      <td>None</td>\n",
       "      <td>None</td>\n",
       "      <td>0</td>\n",
       "      <td>2</td>\n",
       "      <td>2008</td>\n",
       "      <td>WD</td>\n",
       "      <td>Normal</td>\n",
       "      <td>208500</td>\n",
       "    </tr>\n",
       "    <tr>\n",
       "      <th>2</th>\n",
       "      <td>20</td>\n",
       "      <td>RL</td>\n",
       "      <td>80.0</td>\n",
       "      <td>9600</td>\n",
       "      <td>Pave</td>\n",
       "      <td>None</td>\n",
       "      <td>Reg</td>\n",
       "      <td>Lvl</td>\n",
       "      <td>AllPub</td>\n",
       "      <td>FR2</td>\n",
       "      <td>...</td>\n",
       "      <td>0</td>\n",
       "      <td>None</td>\n",
       "      <td>None</td>\n",
       "      <td>None</td>\n",
       "      <td>0</td>\n",
       "      <td>5</td>\n",
       "      <td>2007</td>\n",
       "      <td>WD</td>\n",
       "      <td>Normal</td>\n",
       "      <td>181500</td>\n",
       "    </tr>\n",
       "    <tr>\n",
       "      <th>3</th>\n",
       "      <td>60</td>\n",
       "      <td>RL</td>\n",
       "      <td>68.0</td>\n",
       "      <td>11250</td>\n",
       "      <td>Pave</td>\n",
       "      <td>None</td>\n",
       "      <td>IR1</td>\n",
       "      <td>Lvl</td>\n",
       "      <td>AllPub</td>\n",
       "      <td>Inside</td>\n",
       "      <td>...</td>\n",
       "      <td>0</td>\n",
       "      <td>None</td>\n",
       "      <td>None</td>\n",
       "      <td>None</td>\n",
       "      <td>0</td>\n",
       "      <td>9</td>\n",
       "      <td>2008</td>\n",
       "      <td>WD</td>\n",
       "      <td>Normal</td>\n",
       "      <td>223500</td>\n",
       "    </tr>\n",
       "    <tr>\n",
       "      <th>4</th>\n",
       "      <td>70</td>\n",
       "      <td>RL</td>\n",
       "      <td>60.0</td>\n",
       "      <td>9550</td>\n",
       "      <td>Pave</td>\n",
       "      <td>None</td>\n",
       "      <td>IR1</td>\n",
       "      <td>Lvl</td>\n",
       "      <td>AllPub</td>\n",
       "      <td>Corner</td>\n",
       "      <td>...</td>\n",
       "      <td>0</td>\n",
       "      <td>None</td>\n",
       "      <td>None</td>\n",
       "      <td>None</td>\n",
       "      <td>0</td>\n",
       "      <td>2</td>\n",
       "      <td>2006</td>\n",
       "      <td>WD</td>\n",
       "      <td>Abnorml</td>\n",
       "      <td>140000</td>\n",
       "    </tr>\n",
       "    <tr>\n",
       "      <th>5</th>\n",
       "      <td>60</td>\n",
       "      <td>RL</td>\n",
       "      <td>84.0</td>\n",
       "      <td>14260</td>\n",
       "      <td>Pave</td>\n",
       "      <td>None</td>\n",
       "      <td>IR1</td>\n",
       "      <td>Lvl</td>\n",
       "      <td>AllPub</td>\n",
       "      <td>FR2</td>\n",
       "      <td>...</td>\n",
       "      <td>0</td>\n",
       "      <td>None</td>\n",
       "      <td>None</td>\n",
       "      <td>None</td>\n",
       "      <td>0</td>\n",
       "      <td>12</td>\n",
       "      <td>2008</td>\n",
       "      <td>WD</td>\n",
       "      <td>Normal</td>\n",
       "      <td>250000</td>\n",
       "    </tr>\n",
       "  </tbody>\n",
       "</table>\n",
       "<p>5 rows × 80 columns</p>\n",
       "</div>"
      ],
      "text/plain": [
       "    MSSubClass MSZoning  LotFrontage  LotArea Street Alley LotShape  \\\n",
       "Id                                                                    \n",
       "1           60       RL         65.0     8450   Pave  None      Reg   \n",
       "2           20       RL         80.0     9600   Pave  None      Reg   \n",
       "3           60       RL         68.0    11250   Pave  None      IR1   \n",
       "4           70       RL         60.0     9550   Pave  None      IR1   \n",
       "5           60       RL         84.0    14260   Pave  None      IR1   \n",
       "\n",
       "   LandContour Utilities LotConfig  ... PoolArea PoolQC Fence MiscFeature  \\\n",
       "Id                                  ...                                     \n",
       "1          Lvl    AllPub    Inside  ...        0   None  None        None   \n",
       "2          Lvl    AllPub       FR2  ...        0   None  None        None   \n",
       "3          Lvl    AllPub    Inside  ...        0   None  None        None   \n",
       "4          Lvl    AllPub    Corner  ...        0   None  None        None   \n",
       "5          Lvl    AllPub       FR2  ...        0   None  None        None   \n",
       "\n",
       "   MiscVal MoSold  YrSold  SaleType  SaleCondition  SalePrice  \n",
       "Id                                                             \n",
       "1        0      2    2008        WD         Normal     208500  \n",
       "2        0      5    2007        WD         Normal     181500  \n",
       "3        0      9    2008        WD         Normal     223500  \n",
       "4        0      2    2006        WD        Abnorml     140000  \n",
       "5        0     12    2008        WD         Normal     250000  \n",
       "\n",
       "[5 rows x 80 columns]"
      ]
     },
     "metadata": {},
     "output_type": "display_data"
    },
    {
     "data": {
      "text/html": [
       "<div>\n",
       "<style scoped>\n",
       "    .dataframe tbody tr th:only-of-type {\n",
       "        vertical-align: middle;\n",
       "    }\n",
       "\n",
       "    .dataframe tbody tr th {\n",
       "        vertical-align: top;\n",
       "    }\n",
       "\n",
       "    .dataframe thead th {\n",
       "        text-align: right;\n",
       "    }\n",
       "</style>\n",
       "<table border=\"1\" class=\"dataframe\">\n",
       "  <thead>\n",
       "    <tr style=\"text-align: right;\">\n",
       "      <th></th>\n",
       "      <th>MSSubClass</th>\n",
       "      <th>MSZoning</th>\n",
       "      <th>LotFrontage</th>\n",
       "      <th>LotArea</th>\n",
       "      <th>Street</th>\n",
       "      <th>Alley</th>\n",
       "      <th>LotShape</th>\n",
       "      <th>LandContour</th>\n",
       "      <th>Utilities</th>\n",
       "      <th>LotConfig</th>\n",
       "      <th>...</th>\n",
       "      <th>ScreenPorch</th>\n",
       "      <th>PoolArea</th>\n",
       "      <th>PoolQC</th>\n",
       "      <th>Fence</th>\n",
       "      <th>MiscFeature</th>\n",
       "      <th>MiscVal</th>\n",
       "      <th>MoSold</th>\n",
       "      <th>YrSold</th>\n",
       "      <th>SaleType</th>\n",
       "      <th>SaleCondition</th>\n",
       "    </tr>\n",
       "    <tr>\n",
       "      <th>Id</th>\n",
       "      <th></th>\n",
       "      <th></th>\n",
       "      <th></th>\n",
       "      <th></th>\n",
       "      <th></th>\n",
       "      <th></th>\n",
       "      <th></th>\n",
       "      <th></th>\n",
       "      <th></th>\n",
       "      <th></th>\n",
       "      <th></th>\n",
       "      <th></th>\n",
       "      <th></th>\n",
       "      <th></th>\n",
       "      <th></th>\n",
       "      <th></th>\n",
       "      <th></th>\n",
       "      <th></th>\n",
       "      <th></th>\n",
       "      <th></th>\n",
       "      <th></th>\n",
       "    </tr>\n",
       "  </thead>\n",
       "  <tbody>\n",
       "    <tr>\n",
       "      <th>1461</th>\n",
       "      <td>20</td>\n",
       "      <td>RH</td>\n",
       "      <td>80.0</td>\n",
       "      <td>11622</td>\n",
       "      <td>Pave</td>\n",
       "      <td>NaN</td>\n",
       "      <td>Reg</td>\n",
       "      <td>Lvl</td>\n",
       "      <td>AllPub</td>\n",
       "      <td>Inside</td>\n",
       "      <td>...</td>\n",
       "      <td>120</td>\n",
       "      <td>0</td>\n",
       "      <td>NaN</td>\n",
       "      <td>MnPrv</td>\n",
       "      <td>NaN</td>\n",
       "      <td>0</td>\n",
       "      <td>6</td>\n",
       "      <td>2010</td>\n",
       "      <td>WD</td>\n",
       "      <td>Normal</td>\n",
       "    </tr>\n",
       "    <tr>\n",
       "      <th>1462</th>\n",
       "      <td>20</td>\n",
       "      <td>RL</td>\n",
       "      <td>81.0</td>\n",
       "      <td>14267</td>\n",
       "      <td>Pave</td>\n",
       "      <td>NaN</td>\n",
       "      <td>IR1</td>\n",
       "      <td>Lvl</td>\n",
       "      <td>AllPub</td>\n",
       "      <td>Corner</td>\n",
       "      <td>...</td>\n",
       "      <td>0</td>\n",
       "      <td>0</td>\n",
       "      <td>NaN</td>\n",
       "      <td>NaN</td>\n",
       "      <td>Gar2</td>\n",
       "      <td>12500</td>\n",
       "      <td>6</td>\n",
       "      <td>2010</td>\n",
       "      <td>WD</td>\n",
       "      <td>Normal</td>\n",
       "    </tr>\n",
       "    <tr>\n",
       "      <th>1463</th>\n",
       "      <td>60</td>\n",
       "      <td>RL</td>\n",
       "      <td>74.0</td>\n",
       "      <td>13830</td>\n",
       "      <td>Pave</td>\n",
       "      <td>NaN</td>\n",
       "      <td>IR1</td>\n",
       "      <td>Lvl</td>\n",
       "      <td>AllPub</td>\n",
       "      <td>Inside</td>\n",
       "      <td>...</td>\n",
       "      <td>0</td>\n",
       "      <td>0</td>\n",
       "      <td>NaN</td>\n",
       "      <td>MnPrv</td>\n",
       "      <td>NaN</td>\n",
       "      <td>0</td>\n",
       "      <td>3</td>\n",
       "      <td>2010</td>\n",
       "      <td>WD</td>\n",
       "      <td>Normal</td>\n",
       "    </tr>\n",
       "    <tr>\n",
       "      <th>1464</th>\n",
       "      <td>60</td>\n",
       "      <td>RL</td>\n",
       "      <td>78.0</td>\n",
       "      <td>9978</td>\n",
       "      <td>Pave</td>\n",
       "      <td>NaN</td>\n",
       "      <td>IR1</td>\n",
       "      <td>Lvl</td>\n",
       "      <td>AllPub</td>\n",
       "      <td>Inside</td>\n",
       "      <td>...</td>\n",
       "      <td>0</td>\n",
       "      <td>0</td>\n",
       "      <td>NaN</td>\n",
       "      <td>NaN</td>\n",
       "      <td>NaN</td>\n",
       "      <td>0</td>\n",
       "      <td>6</td>\n",
       "      <td>2010</td>\n",
       "      <td>WD</td>\n",
       "      <td>Normal</td>\n",
       "    </tr>\n",
       "    <tr>\n",
       "      <th>1465</th>\n",
       "      <td>120</td>\n",
       "      <td>RL</td>\n",
       "      <td>43.0</td>\n",
       "      <td>5005</td>\n",
       "      <td>Pave</td>\n",
       "      <td>NaN</td>\n",
       "      <td>IR1</td>\n",
       "      <td>HLS</td>\n",
       "      <td>AllPub</td>\n",
       "      <td>Inside</td>\n",
       "      <td>...</td>\n",
       "      <td>144</td>\n",
       "      <td>0</td>\n",
       "      <td>NaN</td>\n",
       "      <td>NaN</td>\n",
       "      <td>NaN</td>\n",
       "      <td>0</td>\n",
       "      <td>1</td>\n",
       "      <td>2010</td>\n",
       "      <td>WD</td>\n",
       "      <td>Normal</td>\n",
       "    </tr>\n",
       "  </tbody>\n",
       "</table>\n",
       "<p>5 rows × 79 columns</p>\n",
       "</div>"
      ],
      "text/plain": [
       "      MSSubClass MSZoning  LotFrontage  LotArea Street Alley LotShape  \\\n",
       "Id                                                                      \n",
       "1461          20       RH         80.0    11622   Pave   NaN      Reg   \n",
       "1462          20       RL         81.0    14267   Pave   NaN      IR1   \n",
       "1463          60       RL         74.0    13830   Pave   NaN      IR1   \n",
       "1464          60       RL         78.0     9978   Pave   NaN      IR1   \n",
       "1465         120       RL         43.0     5005   Pave   NaN      IR1   \n",
       "\n",
       "     LandContour Utilities LotConfig  ... ScreenPorch PoolArea PoolQC  Fence  \\\n",
       "Id                                    ...                                      \n",
       "1461         Lvl    AllPub    Inside  ...         120        0    NaN  MnPrv   \n",
       "1462         Lvl    AllPub    Corner  ...           0        0    NaN    NaN   \n",
       "1463         Lvl    AllPub    Inside  ...           0        0    NaN  MnPrv   \n",
       "1464         Lvl    AllPub    Inside  ...           0        0    NaN    NaN   \n",
       "1465         HLS    AllPub    Inside  ...         144        0    NaN    NaN   \n",
       "\n",
       "     MiscFeature MiscVal  MoSold  YrSold  SaleType  SaleCondition  \n",
       "Id                                                                 \n",
       "1461         NaN       0       6    2010        WD         Normal  \n",
       "1462        Gar2   12500       6    2010        WD         Normal  \n",
       "1463         NaN       0       3    2010        WD         Normal  \n",
       "1464         NaN       0       6    2010        WD         Normal  \n",
       "1465         NaN       0       1    2010        WD         Normal  \n",
       "\n",
       "[5 rows x 79 columns]"
      ]
     },
     "metadata": {},
     "output_type": "display_data"
    },
    {
     "data": {
      "text/html": [
       "<div>\n",
       "<style scoped>\n",
       "    .dataframe tbody tr th:only-of-type {\n",
       "        vertical-align: middle;\n",
       "    }\n",
       "\n",
       "    .dataframe tbody tr th {\n",
       "        vertical-align: top;\n",
       "    }\n",
       "\n",
       "    .dataframe thead th {\n",
       "        text-align: right;\n",
       "    }\n",
       "</style>\n",
       "<table border=\"1\" class=\"dataframe\">\n",
       "  <thead>\n",
       "    <tr style=\"text-align: right;\">\n",
       "      <th></th>\n",
       "      <th>MSSubClass</th>\n",
       "      <th>MSZoning</th>\n",
       "      <th>LotFrontage</th>\n",
       "      <th>LotArea</th>\n",
       "      <th>Street</th>\n",
       "      <th>Alley</th>\n",
       "      <th>LotShape</th>\n",
       "      <th>LandContour</th>\n",
       "      <th>Utilities</th>\n",
       "      <th>LotConfig</th>\n",
       "      <th>...</th>\n",
       "      <th>ScreenPorch</th>\n",
       "      <th>PoolArea</th>\n",
       "      <th>PoolQC</th>\n",
       "      <th>Fence</th>\n",
       "      <th>MiscFeature</th>\n",
       "      <th>MiscVal</th>\n",
       "      <th>MoSold</th>\n",
       "      <th>YrSold</th>\n",
       "      <th>SaleType</th>\n",
       "      <th>SaleCondition</th>\n",
       "    </tr>\n",
       "    <tr>\n",
       "      <th>Id</th>\n",
       "      <th></th>\n",
       "      <th></th>\n",
       "      <th></th>\n",
       "      <th></th>\n",
       "      <th></th>\n",
       "      <th></th>\n",
       "      <th></th>\n",
       "      <th></th>\n",
       "      <th></th>\n",
       "      <th></th>\n",
       "      <th></th>\n",
       "      <th></th>\n",
       "      <th></th>\n",
       "      <th></th>\n",
       "      <th></th>\n",
       "      <th></th>\n",
       "      <th></th>\n",
       "      <th></th>\n",
       "      <th></th>\n",
       "      <th></th>\n",
       "      <th></th>\n",
       "    </tr>\n",
       "  </thead>\n",
       "  <tbody>\n",
       "    <tr>\n",
       "      <th>1461</th>\n",
       "      <td>20</td>\n",
       "      <td>RH</td>\n",
       "      <td>80.0</td>\n",
       "      <td>11622</td>\n",
       "      <td>Pave</td>\n",
       "      <td>None</td>\n",
       "      <td>Reg</td>\n",
       "      <td>Lvl</td>\n",
       "      <td>AllPub</td>\n",
       "      <td>Inside</td>\n",
       "      <td>...</td>\n",
       "      <td>120</td>\n",
       "      <td>0</td>\n",
       "      <td>None</td>\n",
       "      <td>MnPrv</td>\n",
       "      <td>None</td>\n",
       "      <td>0</td>\n",
       "      <td>6</td>\n",
       "      <td>2010</td>\n",
       "      <td>WD</td>\n",
       "      <td>Normal</td>\n",
       "    </tr>\n",
       "    <tr>\n",
       "      <th>1462</th>\n",
       "      <td>20</td>\n",
       "      <td>RL</td>\n",
       "      <td>81.0</td>\n",
       "      <td>14267</td>\n",
       "      <td>Pave</td>\n",
       "      <td>None</td>\n",
       "      <td>IR1</td>\n",
       "      <td>Lvl</td>\n",
       "      <td>AllPub</td>\n",
       "      <td>Corner</td>\n",
       "      <td>...</td>\n",
       "      <td>0</td>\n",
       "      <td>0</td>\n",
       "      <td>None</td>\n",
       "      <td>None</td>\n",
       "      <td>Gar2</td>\n",
       "      <td>12500</td>\n",
       "      <td>6</td>\n",
       "      <td>2010</td>\n",
       "      <td>WD</td>\n",
       "      <td>Normal</td>\n",
       "    </tr>\n",
       "    <tr>\n",
       "      <th>1463</th>\n",
       "      <td>60</td>\n",
       "      <td>RL</td>\n",
       "      <td>74.0</td>\n",
       "      <td>13830</td>\n",
       "      <td>Pave</td>\n",
       "      <td>None</td>\n",
       "      <td>IR1</td>\n",
       "      <td>Lvl</td>\n",
       "      <td>AllPub</td>\n",
       "      <td>Inside</td>\n",
       "      <td>...</td>\n",
       "      <td>0</td>\n",
       "      <td>0</td>\n",
       "      <td>None</td>\n",
       "      <td>MnPrv</td>\n",
       "      <td>None</td>\n",
       "      <td>0</td>\n",
       "      <td>3</td>\n",
       "      <td>2010</td>\n",
       "      <td>WD</td>\n",
       "      <td>Normal</td>\n",
       "    </tr>\n",
       "    <tr>\n",
       "      <th>1464</th>\n",
       "      <td>60</td>\n",
       "      <td>RL</td>\n",
       "      <td>78.0</td>\n",
       "      <td>9978</td>\n",
       "      <td>Pave</td>\n",
       "      <td>None</td>\n",
       "      <td>IR1</td>\n",
       "      <td>Lvl</td>\n",
       "      <td>AllPub</td>\n",
       "      <td>Inside</td>\n",
       "      <td>...</td>\n",
       "      <td>0</td>\n",
       "      <td>0</td>\n",
       "      <td>None</td>\n",
       "      <td>None</td>\n",
       "      <td>None</td>\n",
       "      <td>0</td>\n",
       "      <td>6</td>\n",
       "      <td>2010</td>\n",
       "      <td>WD</td>\n",
       "      <td>Normal</td>\n",
       "    </tr>\n",
       "    <tr>\n",
       "      <th>1465</th>\n",
       "      <td>120</td>\n",
       "      <td>RL</td>\n",
       "      <td>43.0</td>\n",
       "      <td>5005</td>\n",
       "      <td>Pave</td>\n",
       "      <td>None</td>\n",
       "      <td>IR1</td>\n",
       "      <td>HLS</td>\n",
       "      <td>AllPub</td>\n",
       "      <td>Inside</td>\n",
       "      <td>...</td>\n",
       "      <td>144</td>\n",
       "      <td>0</td>\n",
       "      <td>None</td>\n",
       "      <td>None</td>\n",
       "      <td>None</td>\n",
       "      <td>0</td>\n",
       "      <td>1</td>\n",
       "      <td>2010</td>\n",
       "      <td>WD</td>\n",
       "      <td>Normal</td>\n",
       "    </tr>\n",
       "  </tbody>\n",
       "</table>\n",
       "<p>5 rows × 79 columns</p>\n",
       "</div>"
      ],
      "text/plain": [
       "      MSSubClass MSZoning  LotFrontage  LotArea Street Alley LotShape  \\\n",
       "Id                                                                      \n",
       "1461          20       RH         80.0    11622   Pave  None      Reg   \n",
       "1462          20       RL         81.0    14267   Pave  None      IR1   \n",
       "1463          60       RL         74.0    13830   Pave  None      IR1   \n",
       "1464          60       RL         78.0     9978   Pave  None      IR1   \n",
       "1465         120       RL         43.0     5005   Pave  None      IR1   \n",
       "\n",
       "     LandContour Utilities LotConfig  ... ScreenPorch PoolArea PoolQC  Fence  \\\n",
       "Id                                    ...                                      \n",
       "1461         Lvl    AllPub    Inside  ...         120        0   None  MnPrv   \n",
       "1462         Lvl    AllPub    Corner  ...           0        0   None   None   \n",
       "1463         Lvl    AllPub    Inside  ...           0        0   None  MnPrv   \n",
       "1464         Lvl    AllPub    Inside  ...           0        0   None   None   \n",
       "1465         HLS    AllPub    Inside  ...         144        0   None   None   \n",
       "\n",
       "     MiscFeature MiscVal  MoSold  YrSold  SaleType  SaleCondition  \n",
       "Id                                                                 \n",
       "1461        None       0       6    2010        WD         Normal  \n",
       "1462        Gar2   12500       6    2010        WD         Normal  \n",
       "1463        None       0       3    2010        WD         Normal  \n",
       "1464        None       0       6    2010        WD         Normal  \n",
       "1465        None       0       1    2010        WD         Normal  \n",
       "\n",
       "[5 rows x 79 columns]"
      ]
     },
     "metadata": {},
     "output_type": "display_data"
    }
   ],
   "source": [
    "# import train, test data\n",
    "X = pd.read_csv(train_path, index_col='Id')\n",
    "X_test_full = pd.read_csv(test_path, index_col='Id')\n",
    "\n",
    "X_rf = pd.read_csv(train_path_rf)\n",
    "X_rf.columns = ['Id'] + list(X_rf.columns)[1:]\n",
    "X_rf.set_index('Id', inplace=True)\n",
    "\n",
    "X_test_full_rf = pd.read_csv(test_path_rf)\n",
    "X_test_full_rf.columns = ['Id'] + list(X_test_full_rf.columns)[1:]\n",
    "X_test_full_rf.set_index('Id', inplace=True)\n",
    "\n",
    "display(X.head())\n",
    "display(X_rf.head())\n",
    "display(X_test_full.head())\n",
    "display(X_test_full_rf.head())"
   ]
  },
  {
   "cell_type": "code",
   "execution_count": 5,
   "id": "46f07a08",
   "metadata": {
    "execution": {
     "iopub.execute_input": "2021-12-05T18:30:11.991058Z",
     "iopub.status.busy": "2021-12-05T18:30:11.990402Z",
     "iopub.status.idle": "2021-12-05T18:30:12.009513Z",
     "shell.execute_reply": "2021-12-05T18:30:12.008851Z",
     "shell.execute_reply.started": "2021-12-05T17:50:41.610734Z"
    },
    "papermill": {
     "duration": 0.06497,
     "end_time": "2021-12-05T18:30:12.009687",
     "exception": false,
     "start_time": "2021-12-05T18:30:11.944717",
     "status": "completed"
    },
    "tags": []
   },
   "outputs": [
    {
     "name": "stdout",
     "output_type": "stream",
     "text": [
      "data type value count\n",
      "object     43\n",
      "int64      34\n",
      "float64     3\n",
      "dtype: int64\n",
      "\n",
      "imputed data type value count\n",
      "object     43\n",
      "int64      35\n",
      "float64     2\n",
      "dtype: int64\n"
     ]
    }
   ],
   "source": [
    "features = X.drop(columns=['SalePrice'])\n",
    "target = X['SalePrice']\n",
    "\n",
    "features_rf = X_rf.drop(columns=['SalePrice'])\n",
    "target_rf = X_rf['SalePrice']\n",
    "\n",
    "print(f'data type value count\\n{X.dtypes.value_counts()}\\n')\n",
    "print(f'imputed data type value count\\n{X_rf.dtypes.value_counts()}')\n",
    "\n",
    "num_cols = features.select_dtypes(exclude=['object']).columns\n",
    "cat_cols = features.select_dtypes(include=['object']).columns\n",
    "num_cols_rf = features_rf.select_dtypes(exclude=['object']).columns\n",
    "cat_cols_rf = features_rf.select_dtypes(include=['object']).columns"
   ]
  },
  {
   "cell_type": "code",
   "execution_count": 6,
   "id": "21981952",
   "metadata": {
    "execution": {
     "iopub.execute_input": "2021-12-05T18:30:12.091380Z",
     "iopub.status.busy": "2021-12-05T18:30:12.090592Z",
     "iopub.status.idle": "2021-12-05T18:30:12.092362Z",
     "shell.execute_reply": "2021-12-05T18:30:12.092814Z",
     "shell.execute_reply.started": "2021-12-05T17:50:41.633411Z"
    },
    "papermill": {
     "duration": 0.045881,
     "end_time": "2021-12-05T18:30:12.093012",
     "exception": false,
     "start_time": "2021-12-05T18:30:12.047131",
     "status": "completed"
    },
    "tags": []
   },
   "outputs": [],
   "source": [
    "# seperate features by type according to data description\n",
    "ordinal = ['OverallQual', 'OverallCond']\n",
    "ordinal_rf = ordinal\n",
    "nominal = list(set(['MSSubClass', 'MoSold'] + list(cat_cols)) - set(ordinal))\n",
    "nominal_rf = list(set(['MSSubClass', 'MoSold'] + list(cat_cols_rf)) - set(ordinal_rf))\n",
    "numeric = list(set(num_cols) - set(ordinal) - set(nominal))\n",
    "numeric_rf = list(set(num_cols_rf) - set(ordinal_rf) - set(nominal_rf))"
   ]
  },
  {
   "cell_type": "code",
   "execution_count": 7,
   "id": "2d5b508e",
   "metadata": {
    "execution": {
     "iopub.execute_input": "2021-12-05T18:30:12.176958Z",
     "iopub.status.busy": "2021-12-05T18:30:12.171383Z",
     "iopub.status.idle": "2021-12-05T18:30:12.179277Z",
     "shell.execute_reply": "2021-12-05T18:30:12.178689Z",
     "shell.execute_reply.started": "2021-12-05T17:50:41.640106Z"
    },
    "papermill": {
     "duration": 0.048543,
     "end_time": "2021-12-05T18:30:12.179488",
     "exception": false,
     "start_time": "2021-12-05T18:30:12.130945",
     "status": "completed"
    },
    "tags": []
   },
   "outputs": [],
   "source": [
    "def plot_na_count(features, title='NA count', figsize=(9,6), palette='Paired'):\n",
    "    na_count = features.isna().sum()\n",
    "    na_count = (na_count[na_count > 0] / na_count.sum()).sort_values(ascending=False)\n",
    "    plt.figure(figsize=figsize)\n",
    "    sns.barplot(y=na_count.index, x=na_count, palette=palette, orient='h')\n",
    "    plt.title(title)\n",
    "    plt.ylabel('proportion of count')\n",
    "    plt.xlabel('column name')\n",
    "    plt.show()"
   ]
  },
  {
   "cell_type": "code",
   "execution_count": 8,
   "id": "6da81efe",
   "metadata": {
    "execution": {
     "iopub.execute_input": "2021-12-05T18:30:12.263243Z",
     "iopub.status.busy": "2021-12-05T18:30:12.262150Z",
     "iopub.status.idle": "2021-12-05T18:30:13.085181Z",
     "shell.execute_reply": "2021-12-05T18:30:13.084674Z",
     "shell.execute_reply.started": "2021-12-05T17:50:41.652148Z"
    },
    "papermill": {
     "duration": 0.869971,
     "end_time": "2021-12-05T18:30:13.085338",
     "exception": false,
     "start_time": "2021-12-05T18:30:12.215367",
     "status": "completed"
    },
    "tags": []
   },
   "outputs": [
    {
     "data": {
      "image/png": "[encoded data removed]",
      "text/plain": [
       "<Figure size 648x432 with 1 Axes>"
      ]
     },
     "metadata": {
      "needs_background": "light"
     },
     "output_type": "display_data"
    },
    {
     "data": {
      "image/png": "[encoded data removed]",
      "text/plain": [
       "<Figure size 648x648 with 1 Axes>"
      ]
     },
     "metadata": {
      "needs_background": "light"
     },
     "output_type": "display_data"
    }
   ],
   "source": [
    "plot_na_count(features, title='NA count on train set')\n",
    "plot_na_count(X_test_full, figsize=(9,9), title='NA count on test set')"
   ]
  },
  {
   "cell_type": "code",
   "execution_count": 9,
   "id": "3b0ec3da",
   "metadata": {
    "execution": {
     "iopub.execute_input": "2021-12-05T18:30:13.171937Z",
     "iopub.status.busy": "2021-12-05T18:30:13.170884Z",
     "iopub.status.idle": "2021-12-05T18:30:13.208774Z",
     "shell.execute_reply": "2021-12-05T18:30:13.208145Z",
     "shell.execute_reply.started": "2021-12-05T17:50:42.463618Z"
    },
    "papermill": {
     "duration": 0.085108,
     "end_time": "2021-12-05T18:30:13.208921",
     "exception": false,
     "start_time": "2021-12-05T18:30:13.123813",
     "status": "completed"
    },
    "tags": []
   },
   "outputs": [],
   "source": [
    "none_list = ['PoolQC', 'MiscFeature', 'Alley', 'Fence', 'FireplaceQu', 'GarageType', 'GarageFinish',\n",
    "             'GarageQual', 'GarageCond', 'BsmtExposure', 'BsmtFinType2', 'BsmtFinType1', 'BsmtCond',\n",
    "             'BsmtQual', 'MasVnrType']\n",
    "zero_list =  ['MasVnrArea', 'BsmtHalfBath', 'BsmtFullBath', 'TotalBsmtSF', 'BsmtFinSF2', 'BsmtFinSF1', 'GarageCars', 'GarageArea', 'BsmtUnfSF']\n",
    "mode_list = ['Electrical', 'MSZoning', 'Functional', 'Utilities', 'KitchenQual', 'Exterior1st', 'Exterior2nd']\n",
    "median_list = ['LotFrontage']\n",
    "\n",
    "# fill empty value according to data description\n",
    "features.fillna({col: 'None' for col in none_list}, inplace=True)\n",
    "X_test_full.fillna({col: 'None' for col in none_list}, inplace=True)\n",
    "\n",
    "features.fillna({col: 0 for col in zero_list}, inplace=True)\n",
    "X_test_full.fillna({col: 0 for col in zero_list}, inplace=True)\n",
    "\n",
    "# filling with mode due to unprovided missing value description\n",
    "features.fillna({col: features[col].mode()[0] for col in mode_list}, inplace=True)\n",
    "X_test_full.fillna({col: X_test_full[col].mode()[0] for col in mode_list}, inplace=True)\n",
    "\n",
    "# make missing Sale type = Other\n",
    "features['SaleType']  = features['SaleType'].fillna('Oth')\n",
    "X_test_full['SaleType'] = X_test_full['SaleType'].fillna('Oth')"
   ]
  },
  {
   "cell_type": "code",
   "execution_count": 10,
   "id": "bfacbe29",
   "metadata": {
    "execution": {
     "iopub.execute_input": "2021-12-05T18:30:13.293838Z",
     "iopub.status.busy": "2021-12-05T18:30:13.293139Z",
     "iopub.status.idle": "2021-12-05T18:30:13.295004Z",
     "shell.execute_reply": "2021-12-05T18:30:13.295592Z",
     "shell.execute_reply.started": "2021-12-05T17:50:42.511302Z"
    },
    "papermill": {
     "duration": 0.048261,
     "end_time": "2021-12-05T18:30:13.295771",
     "exception": false,
     "start_time": "2021-12-05T18:30:13.247510",
     "status": "completed"
    },
    "tags": []
   },
   "outputs": [],
   "source": [
    "log_target = np.log1p(target) # log transform target for ease of evaluation\n",
    "log_target_rf = np.log1p(target_rf)"
   ]
  },
  {
   "cell_type": "code",
   "execution_count": 11,
   "id": "abbdbbd5",
   "metadata": {
    "execution": {
     "iopub.execute_input": "2021-12-05T18:30:13.374566Z",
     "iopub.status.busy": "2021-12-05T18:30:13.373923Z",
     "iopub.status.idle": "2021-12-05T18:30:13.748535Z",
     "shell.execute_reply": "2021-12-05T18:30:13.747885Z",
     "shell.execute_reply.started": "2021-12-05T17:50:42.520388Z"
    },
    "papermill": {
     "duration": 0.41505,
     "end_time": "2021-12-05T18:30:13.748702",
     "exception": false,
     "start_time": "2021-12-05T18:30:13.333652",
     "status": "completed"
    },
    "tags": []
   },
   "outputs": [
    {
     "name": "stdout",
     "output_type": "stream",
     "text": [
      "skewness of lot frontage: 2.163569142324884 \n",
      "\n"
     ]
    },
    {
     "data": {
      "image/png": "[encoded data removed]",
      "text/plain": [
       "<Figure size 648x288 with 1 Axes>"
      ]
     },
     "metadata": {
      "needs_background": "light"
     },
     "output_type": "display_data"
    }
   ],
   "source": [
    "print('skewness of lot frontage:', features['LotFrontage'].skew(), '\\n')\n",
    "plt.figure(figsize=(9,4))\n",
    "plt.title('Lot frontage distribution')\n",
    "sns.histplot(features['LotFrontage'], kde=True)\n",
    "plt.show()"
   ]
  },
  {
   "cell_type": "code",
   "execution_count": 12,
   "id": "19e63158",
   "metadata": {
    "execution": {
     "iopub.execute_input": "2021-12-05T18:30:13.832345Z",
     "iopub.status.busy": "2021-12-05T18:30:13.831698Z",
     "iopub.status.idle": "2021-12-05T18:30:13.844439Z",
     "shell.execute_reply": "2021-12-05T18:30:13.844897Z",
     "shell.execute_reply.started": "2021-12-05T17:50:42.887924Z"
    },
    "papermill": {
     "duration": 0.055858,
     "end_time": "2021-12-05T18:30:13.845069",
     "exception": false,
     "start_time": "2021-12-05T18:30:13.789211",
     "status": "completed"
    },
    "tags": []
   },
   "outputs": [],
   "source": [
    "# filling with street group median due to non-normality\n",
    "features['LotFrontage'] = features.groupby('Street')['LotFrontage'].transform(lambda x: x.fillna(x.median()))\n",
    "X_test_full['LotFrontage'] = X_test_full.groupby('Street')['LotFrontage'].transform(lambda x: x.fillna(x.median()))"
   ]
  },
  {
   "cell_type": "code",
   "execution_count": 13,
   "id": "864a0993",
   "metadata": {
    "execution": {
     "iopub.execute_input": "2021-12-05T18:30:13.935118Z",
     "iopub.status.busy": "2021-12-05T18:30:13.934240Z",
     "iopub.status.idle": "2021-12-05T18:30:15.724470Z",
     "shell.execute_reply": "2021-12-05T18:30:15.724960Z",
     "shell.execute_reply.started": "2021-12-05T17:50:42.901364Z"
    },
    "papermill": {
     "duration": 1.838696,
     "end_time": "2021-12-05T18:30:15.725125",
     "exception": false,
     "start_time": "2021-12-05T18:30:13.886429",
     "status": "completed"
    },
    "tags": []
   },
   "outputs": [
    {
     "data": {
      "image/png": "[encoded data removed]",
      "text/plain": [
       "<Figure size 720x576 with 2 Axes>"
      ]
     },
     "metadata": {
      "needs_background": "light"
     },
     "output_type": "display_data"
    },
    {
     "data": {
      "image/png": "[encoded data removed]",
      "text/plain": [
       "<Figure size 720x576 with 2 Axes>"
      ]
     },
     "metadata": {
      "needs_background": "light"
     },
     "output_type": "display_data"
    }
   ],
   "source": [
    "# plot correlation heat map\n",
    "corr = X[numeric + ['SalePrice']].corr()\n",
    "corr_rf = X_rf[numeric_rf + ['SalePrice']].corr()\n",
    "\n",
    "plt.figure(figsize=(10,8))\n",
    "plt.title('Correlation heatmap of median/mode imputed feature')\n",
    "sns.heatmap(corr)\n",
    "plt.show()\n",
    "\n",
    "plt.figure(figsize=(10,8))\n",
    "plt.title('Correlation heatmap of random forest imputed feature')\n",
    "sns.heatmap(corr_rf)\n",
    "plt.show()"
   ]
  },
  {
   "cell_type": "code",
   "execution_count": 14,
   "id": "fe06e9b8",
   "metadata": {
    "execution": {
     "iopub.execute_input": "2021-12-05T18:30:15.820465Z",
     "iopub.status.busy": "2021-12-05T18:30:15.819797Z",
     "iopub.status.idle": "2021-12-05T18:30:15.830194Z",
     "shell.execute_reply": "2021-12-05T18:30:15.831064Z",
     "shell.execute_reply.started": "2021-12-05T17:50:44.673286Z"
    },
    "papermill": {
     "duration": 0.061468,
     "end_time": "2021-12-05T18:30:15.831338",
     "exception": false,
     "start_time": "2021-12-05T18:30:15.769870",
     "status": "completed"
    },
    "tags": []
   },
   "outputs": [
    {
     "data": {
      "text/plain": [
       "GrLivArea       2\n",
       "1stFlrSF        1\n",
       "GarageYrBlt     1\n",
       "TotRmsAbvGrd    1\n",
       "GarageCars      1\n",
       "YearBuilt       1\n",
       "GarageArea      1\n",
       "TotalBsmtSF     1\n",
       "SalePrice       1\n",
       "dtype: int64"
      ]
     },
     "metadata": {},
     "output_type": "display_data"
    },
    {
     "name": "stdout",
     "output_type": "stream",
     "text": [
      "\n",
      "\n"
     ]
    },
    {
     "data": {
      "text/plain": [
       "GrLivArea       2\n",
       "GarageYrBlt     1\n",
       "TotRmsAbvGrd    1\n",
       "GarageCars      1\n",
       "YearBuilt       1\n",
       "X1stFlrSF       1\n",
       "GarageArea      1\n",
       "TotalBsmtSF     1\n",
       "SalePrice       1\n",
       "dtype: int64"
      ]
     },
     "metadata": {},
     "output_type": "display_data"
    }
   ],
   "source": [
    "_ = (np.abs(corr) >= 0.7).sum() - 1\n",
    "display(_[_>0].sort_values(ascending=False))\n",
    "print('\\n')\n",
    "_ = (np.abs(corr_rf) >= 0.7).sum() - 1\n",
    "display(_[_>0].sort_values(ascending=False))"
   ]
  },
  {
   "cell_type": "code",
   "execution_count": 15,
   "id": "652fb273",
   "metadata": {
    "execution": {
     "iopub.execute_input": "2021-12-05T18:30:15.928638Z",
     "iopub.status.busy": "2021-12-05T18:30:15.927947Z",
     "iopub.status.idle": "2021-12-05T18:30:15.944754Z",
     "shell.execute_reply": "2021-12-05T18:30:15.945289Z",
     "shell.execute_reply.started": "2021-12-05T17:50:44.691728Z"
    },
    "papermill": {
     "duration": 0.066066,
     "end_time": "2021-12-05T18:30:15.945474",
     "exception": false,
     "start_time": "2021-12-05T18:30:15.879408",
     "status": "completed"
    },
    "tags": []
   },
   "outputs": [
    {
     "data": {
      "text/plain": [
       "Index(['YearRemodAdd', 'BsmtFinSF2', 'BsmtFinSF1', 'PoolArea', 'EnclosedPorch',\n",
       "       'YrSold', 'TotRmsAbvGrd', 'LowQualFinSF', '2ndFlrSF', 'HalfBath',\n",
       "       'Fireplaces', 'KitchenAbvGr', 'BsmtUnfSF', 'FullBath', 'WoodDeckSF',\n",
       "       'BedroomAbvGr', 'LotArea', 'YearBuilt', 'MiscVal', 'MasVnrArea',\n",
       "       'GarageArea', 'ScreenPorch', 'TotalBsmtSF', '3SsnPorch', 'BsmtHalfBath',\n",
       "       'OpenPorchSF', 'LotFrontage', 'GrLivArea'],\n",
       "      dtype='object')"
      ]
     },
     "execution_count": 15,
     "metadata": {},
     "output_type": "execute_result"
    }
   ],
   "source": [
    "copy = features[numeric].copy()\n",
    "copy_t = X_test_full[numeric].copy()\n",
    "copy_rf = features_rf[numeric_rf].copy()\n",
    "copy_t_rf = X_test_full_rf[numeric_rf].copy()\n",
    "\n",
    "# drop highly correlated features\n",
    "for df in [copy, copy_t]:\n",
    "    df.drop(columns=['1stFlrSF', 'GarageCars', 'BsmtFullBath', 'GarageYrBlt'], inplace=True)\n",
    "    \n",
    "for df in [copy_rf, copy_t_rf]:\n",
    "    df.drop(columns=['X1stFlrSF', 'GarageCars', 'BsmtFullBath', 'GarageYrBlt'], inplace=True)\n",
    "\n",
    "copy.columns"
   ]
  },
  {
   "cell_type": "code",
   "execution_count": 16,
   "id": "1abbf5e2",
   "metadata": {
    "execution": {
     "iopub.execute_input": "2021-12-05T18:30:16.044396Z",
     "iopub.status.busy": "2021-12-05T18:30:16.043703Z",
     "iopub.status.idle": "2021-12-05T18:30:17.685415Z",
     "shell.execute_reply": "2021-12-05T18:30:17.685867Z",
     "shell.execute_reply.started": "2021-12-05T17:50:44.712640Z"
    },
    "papermill": {
     "duration": 1.69108,
     "end_time": "2021-12-05T18:30:17.686040",
     "exception": false,
     "start_time": "2021-12-05T18:30:15.994960",
     "status": "completed"
    },
    "tags": []
   },
   "outputs": [
    {
     "data": {
      "image/png": "[encoded data removed]",
      "text/plain": [
       "<Figure size 720x576 with 2 Axes>"
      ]
     },
     "metadata": {
      "needs_background": "light"
     },
     "output_type": "display_data"
    },
    {
     "data": {
      "image/png": "[encoded data removed]",
      "text/plain": [
       "<Figure size 720x576 with 2 Axes>"
      ]
     },
     "metadata": {
      "needs_background": "light"
     },
     "output_type": "display_data"
    }
   ],
   "source": [
    "copy['FrontPerArea'] = copy['LotFrontage'] / copy['LotArea']\n",
    "copy_t['FrontPerArea'] = copy_t['LotFrontage'] / copy_t['LotArea']\n",
    "copy_rf['FrontPerArea'] = copy_rf['LotFrontage'] / copy_rf['LotArea']\n",
    "copy_t_rf['FrontPerArea'] = copy_t_rf['LotFrontage'] / copy_t_rf['LotArea']\n",
    "\n",
    "copy['KitchRate'] = copy['KitchenAbvGr'] / copy['TotRmsAbvGrd']\n",
    "copy_t['KitchRate'] = copy_t['KitchenAbvGr'] / copy_t['TotRmsAbvGrd']\n",
    "copy_rf['KitchRate'] = copy_rf['KitchenAbvGr'] / copy_rf['TotRmsAbvGrd']\n",
    "copy_t_rf['KitchRate'] = copy_t_rf['KitchenAbvGr'] / copy_t_rf['TotRmsAbvGrd']\n",
    "\n",
    "copy['BedRRate'] = copy['BedroomAbvGr'] / copy['TotRmsAbvGrd']\n",
    "copy_t['BedRRate'] = copy_t['BedroomAbvGr'] / copy_t['TotRmsAbvGrd']\n",
    "copy_rf['BedRRate'] = copy_rf['BedroomAbvGr'] / copy_rf['TotRmsAbvGrd']\n",
    "copy_t_rf['BedRRate'] = copy_t_rf['BedroomAbvGr'] / copy_t_rf['TotRmsAbvGrd']\n",
    "\n",
    "for df in [copy, copy_t, copy_rf, copy_t_rf]:\n",
    "    df.drop(columns=['TotRmsAbvGrd'], inplace=True)\n",
    "\n",
    "plt.figure(figsize=(10,8))\n",
    "plt.title('Correlation heatmap of median/mode imputed feature')\n",
    "sns.heatmap(pd.concat([copy, X['SalePrice']], axis=1).corr())\n",
    "plt.show()\n",
    "plt.figure(figsize=(10,8))\n",
    "plt.title('Correlation heatmap of random forest imputed feature')\n",
    "sns.heatmap(pd.concat([copy_rf, X_rf['SalePrice']], axis=1).corr())\n",
    "plt.show()"
   ]
  },
  {
   "cell_type": "code",
   "execution_count": 17,
   "id": "23fca940",
   "metadata": {
    "execution": {
     "iopub.execute_input": "2021-12-05T18:30:17.790661Z",
     "iopub.status.busy": "2021-12-05T18:30:17.789987Z",
     "iopub.status.idle": "2021-12-05T18:30:17.811184Z",
     "shell.execute_reply": "2021-12-05T18:30:17.811727Z",
     "shell.execute_reply.started": "2021-12-05T17:50:46.336758Z"
    },
    "papermill": {
     "duration": 0.07664,
     "end_time": "2021-12-05T18:30:17.811891",
     "exception": false,
     "start_time": "2021-12-05T18:30:17.735251",
     "status": "completed"
    },
    "tags": []
   },
   "outputs": [
    {
     "data": {
      "text/plain": [
       "Series([], dtype: int64)"
      ]
     },
     "metadata": {},
     "output_type": "display_data"
    },
    {
     "name": "stdout",
     "output_type": "stream",
     "text": [
      "\n",
      "\n"
     ]
    },
    {
     "data": {
      "text/plain": [
       "Series([], dtype: int64)"
      ]
     },
     "metadata": {},
     "output_type": "display_data"
    }
   ],
   "source": [
    "# verify no colinearity\n",
    "_ = (np.abs(copy.corr()) >= 0.7).sum() - 1\n",
    "display(_[_>0].sort_values(ascending=False))\n",
    "print('\\n')\n",
    "_ = (np.abs(copy_rf.corr()) >= 0.7).sum() - 1\n",
    "display(_[_>0].sort_values(ascending=False))"
   ]
  },
  {
   "cell_type": "code",
   "execution_count": 18,
   "id": "193ceeef",
   "metadata": {
    "execution": {
     "iopub.execute_input": "2021-12-05T18:30:17.920727Z",
     "iopub.status.busy": "2021-12-05T18:30:17.920010Z",
     "iopub.status.idle": "2021-12-05T18:30:19.388993Z",
     "shell.execute_reply": "2021-12-05T18:30:19.388431Z",
     "shell.execute_reply.started": "2021-12-05T17:50:46.363911Z"
    },
    "papermill": {
     "duration": 1.52672,
     "end_time": "2021-12-05T18:30:19.389133",
     "exception": false,
     "start_time": "2021-12-05T18:30:17.862413",
     "status": "completed"
    },
    "tags": []
   },
   "outputs": [
    {
     "data": {
      "text/html": [
       "<style type='text/css'>\n",
       ".datatable table.frame { margin-bottom: 0; }\n",
       ".datatable table.frame thead { border-bottom: none; }\n",
       ".datatable table.frame tr.coltypes td {  color: #FFFFFF;  line-height: 6px;  padding: 0 0.5em;}\n",
       ".datatable .bool    { background: #DDDD99; }\n",
       ".datatable .object  { background: #565656; }\n",
       ".datatable .int     { background: #5D9E5D; }\n",
       ".datatable .float   { background: #4040CC; }\n",
       ".datatable .str     { background: #CC4040; }\n",
       ".datatable .time    { background: #40CC40; }\n",
       ".datatable .row_index {  background: var(--jp-border-color3);  border-right: 1px solid var(--jp-border-color0);  color: var(--jp-ui-font-color3);  font-size: 9px;}\n",
       ".datatable .frame tbody td { text-align: left; }\n",
       ".datatable .frame tr.coltypes .row_index {  background: var(--jp-border-color0);}\n",
       ".datatable th:nth-child(2) { padding-left: 12px; }\n",
       ".datatable .hellipsis {  color: var(--jp-cell-editor-border-color);}\n",
       ".datatable .vellipsis {  background: var(--jp-layout-color0);  color: var(--jp-cell-editor-border-color);}\n",
       ".datatable .na {  color: var(--jp-cell-editor-border-color);  font-size: 80%;}\n",
       ".datatable .sp {  opacity: 0.25;}\n",
       ".datatable .footer { font-size: 9px; }\n",
       ".datatable .frame_dimensions {  background: var(--jp-border-color3);  border-top: 1px solid var(--jp-border-color0);  color: var(--jp-ui-font-color3);  display: inline-block;  opacity: 0.6;  padding: 1px 10px 1px 5px;}\n",
       ".datatable .frame thead tr.colnames {  background-image: url('data:image/png;base64,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');  background-repeat: repeat-x;  background-size: 14px;  height: 28px;}\n",
       "</style>\n"
      ],
      "text/plain": [
       "<IPython.core.display.HTML object>"
      ]
     },
     "metadata": {},
     "output_type": "display_data"
    }
   ],
   "source": [
    "from xam.feature_extraction import BayesianTargetEncoder\n",
    "\n",
    "# encode categorical variable using target group mean\n",
    "enc = BayesianTargetEncoder(\n",
    "    columns=nominal,\n",
    "    prior_weight=5, # smoothing to prevent overfitting\n",
    "    suffix=''\n",
    "    )\n",
    "\n",
    "nom_train = enc.fit_transform(features.loc[:,nominal], log_target)\n",
    "nom_test = enc.transform(X_test_full.loc[:,nominal])\n",
    "\n",
    "# encode categorical variable using target group mean\n",
    "enc_rf = BayesianTargetEncoder(\n",
    "    columns=nominal_rf,\n",
    "    prior_weight=5, # smoothing to prevent overfitting\n",
    "    suffix=''\n",
    "    )\n",
    "\n",
    "nom_train_rf = enc_rf.fit_transform(features_rf.loc[:,nominal_rf], log_target_rf)\n",
    "nom_test_rf = enc_rf.transform(X_test_full_rf.loc[:,nominal_rf])"
   ]
  },
  {
   "cell_type": "code",
   "execution_count": 19,
   "id": "38973bdf",
   "metadata": {
    "execution": {
     "iopub.execute_input": "2021-12-05T18:30:19.495161Z",
     "iopub.status.busy": "2021-12-05T18:30:19.494570Z",
     "iopub.status.idle": "2021-12-05T18:30:19.507425Z",
     "shell.execute_reply": "2021-12-05T18:30:19.508001Z",
     "shell.execute_reply.started": "2021-12-05T17:50:47.811416Z"
    },
    "papermill": {
     "duration": 0.067826,
     "end_time": "2021-12-05T18:30:19.508176",
     "exception": false,
     "start_time": "2021-12-05T18:30:19.440350",
     "status": "completed"
    },
    "tags": []
   },
   "outputs": [],
   "source": [
    "copy_cat = pd.concat([features[ordinal], nom_train], axis=1)\n",
    "copy_catt = pd.concat([X_test_full[ordinal], nom_test], axis=1)\n",
    "\n",
    "copy_cat_rf = pd.concat([features_rf[ordinal_rf], nom_train_rf], axis=1)\n",
    "copy_catt_rf = pd.concat([X_test_full_rf[ordinal_rf], nom_test_rf], axis=1)"
   ]
  },
  {
   "cell_type": "code",
   "execution_count": 20,
   "id": "522ca749",
   "metadata": {
    "execution": {
     "iopub.execute_input": "2021-12-05T18:30:19.620393Z",
     "iopub.status.busy": "2021-12-05T18:30:19.619156Z",
     "iopub.status.idle": "2021-12-05T18:30:19.634282Z",
     "shell.execute_reply": "2021-12-05T18:30:19.634847Z",
     "shell.execute_reply.started": "2021-12-05T17:50:47.826378Z"
    },
    "papermill": {
     "duration": 0.075048,
     "end_time": "2021-12-05T18:30:19.635011",
     "exception": false,
     "start_time": "2021-12-05T18:30:19.559963",
     "status": "completed"
    },
    "tags": []
   },
   "outputs": [],
   "source": [
    "from sklearn.preprocessing import StandardScaler\n",
    "# feature standardization\n",
    "scaler = StandardScaler()\n",
    "num_scaled = pd.DataFrame(scaler.fit_transform(copy), index=features.index, columns=copy.columns)\n",
    "num_scaled_test = pd.DataFrame(scaler.transform(copy_t), index=X_test_full.index, columns=copy.columns)\n",
    "\n",
    "scaler_rf = StandardScaler()\n",
    "num_scaled_rf = pd.DataFrame(scaler_rf.fit_transform(copy_rf), index=features_rf.index, columns=copy_rf.columns)\n",
    "num_scaled_test_rf = pd.DataFrame(scaler_rf.transform(copy_t_rf), index=X_test_full_rf.index, columns=copy_rf.columns)"
   ]
  },
  {
   "cell_type": "code",
   "execution_count": 21,
   "id": "a65241ec",
   "metadata": {
    "execution": {
     "iopub.execute_input": "2021-12-05T18:30:19.740891Z",
     "iopub.status.busy": "2021-12-05T18:30:19.739909Z",
     "iopub.status.idle": "2021-12-05T18:30:19.753064Z",
     "shell.execute_reply": "2021-12-05T18:30:19.753638Z",
     "shell.execute_reply.started": "2021-12-05T17:50:47.846466Z"
    },
    "papermill": {
     "duration": 0.067996,
     "end_time": "2021-12-05T18:30:19.753806",
     "exception": false,
     "start_time": "2021-12-05T18:30:19.685810",
     "status": "completed"
    },
    "tags": []
   },
   "outputs": [],
   "source": [
    "X_train = pd.concat([num_scaled, copy_cat], axis=1)\n",
    "X_test = pd.concat([num_scaled_test, copy_catt], axis=1)\n",
    "\n",
    "X_train_rf = pd.concat([num_scaled_rf, copy_cat_rf], axis=1)\n",
    "X_test_rf = pd.concat([num_scaled_test_rf, copy_catt_rf], axis=1)"
   ]
  },
  {
   "cell_type": "code",
   "execution_count": 22,
   "id": "295ba3c2",
   "metadata": {
    "execution": {
     "iopub.execute_input": "2021-12-05T18:30:19.859476Z",
     "iopub.status.busy": "2021-12-05T18:30:19.858469Z",
     "iopub.status.idle": "2021-12-05T18:30:19.866033Z",
     "shell.execute_reply": "2021-12-05T18:30:19.866596Z",
     "shell.execute_reply.started": "2021-12-05T17:50:47.859898Z"
    },
    "papermill": {
     "duration": 0.062225,
     "end_time": "2021-12-05T18:30:19.866765",
     "exception": false,
     "start_time": "2021-12-05T18:30:19.804540",
     "status": "completed"
    },
    "tags": []
   },
   "outputs": [],
   "source": [
    "from sklearn.model_selection import KFold\n",
    "from sklearn.metrics import mean_squared_error\n",
    "n_splits = 3\n",
    "def do_cv(X, y, clf):\n",
    "    means = []\n",
    "    kf = KFold(n_splits=n_splits, shuffle=True)\n",
    "    for train_index, test_index in kf.split(X):\n",
    "        X_train, X_test = X.iloc[train_index], X.iloc[test_index]\n",
    "        y_train, y_test = y.iloc[train_index], y.iloc[test_index]\n",
    "        model = clf.fit(X_train, y_train)\n",
    "        rmsle = mean_squared_error(y_test, model.predict(X_test), squared=False)\n",
    "        means.append(rmsle)\n",
    "    return np.average(means)"
   ]
  },
  {
   "cell_type": "code",
   "execution_count": 23,
   "id": "9b530eb2",
   "metadata": {
    "execution": {
     "iopub.execute_input": "2021-12-05T18:30:19.972520Z",
     "iopub.status.busy": "2021-12-05T18:30:19.971559Z",
     "iopub.status.idle": "2021-12-05T18:30:34.797499Z",
     "shell.execute_reply": "2021-12-05T18:30:34.798853Z",
     "shell.execute_reply.started": "2021-12-05T17:50:47.867732Z"
    },
    "papermill": {
     "duration": 14.880957,
     "end_time": "2021-12-05T18:30:34.799130",
     "exception": false,
     "start_time": "2021-12-05T18:30:19.918173",
     "status": "completed"
    },
    "tags": []
   },
   "outputs": [
    {
     "name": "stderr",
     "output_type": "stream",
     "text": [
      "/opt/conda/lib/python3.7/site-packages/optuna/progress_bar.py:47: ExperimentalWarning: Progress bar is experimental (supported from v1.2.0). The interface can change in the future.\n",
      "  self._init_valid()\n"
     ]
    },
    {
     "data": {
      "application/vnd.jupyter.widget-view+json": {
       "model_id": "540e5897ebc343f8a2c973f7a335466f",
       "version_major": 2,
       "version_minor": 0
      },
      "text/plain": [
       "  0%|          | 0/150 [00:00<?, ?it/s]"
      ]
     },
     "metadata": {},
     "output_type": "display_data"
    },
    {
     "name": "stderr",
     "output_type": "stream",
     "text": [
      "/opt/conda/lib/python3.7/site-packages/optuna/progress_bar.py:47: ExperimentalWarning: Progress bar is experimental (supported from v1.2.0). The interface can change in the future.\n",
      "  self._init_valid()\n"
     ]
    },
    {
     "data": {
      "application/vnd.jupyter.widget-view+json": {
       "model_id": "13494faf22c946869a74d6d53e105e7a",
       "version_major": 2,
       "version_minor": 0
      },
      "text/plain": [
       "  0%|          | 0/150 [00:00<?, ?it/s]"
      ]
     },
     "metadata": {},
     "output_type": "display_data"
    }
   ],
   "source": [
    "import optuna\n",
    "from sklearn.linear_model import Lasso, Ridge\n",
    "\n",
    "def objective_lasso(trial):\n",
    "    params = dict(\n",
    "           alpha=trial.suggest_float('alpha', 1e-6, 1e1)\n",
    "    )\n",
    "    model = Lasso(**params, max_iter = 10000000)\n",
    "    return do_cv(X_train, log_target, model)\n",
    "\n",
    "def objective_lasso_rf(trial):\n",
    "    params = dict(\n",
    "           alpha=trial.suggest_float('alpha', 1e-6, 1e1)\n",
    "    )\n",
    "    model = Lasso(**params, max_iter = 10000000)\n",
    "    return do_cv(X_train_rf, log_target_rf, model)\n",
    "\n",
    "optuna.logging.set_verbosity(optuna.logging.ERROR)\n",
    "study_lasso = optuna.create_study(direction='minimize')\n",
    "study_lasso.optimize(objective_lasso, n_trials=150, show_progress_bar=True)\n",
    "\n",
    "study_lasso_rf = optuna.create_study(direction='minimize')\n",
    "study_lasso_rf.optimize(objective_lasso_rf, n_trials=150, show_progress_bar=True)"
   ]
  },
  {
   "cell_type": "code",
   "execution_count": 24,
   "id": "c05c3629",
   "metadata": {
    "execution": {
     "iopub.execute_input": "2021-12-05T18:30:34.960666Z",
     "iopub.status.busy": "2021-12-05T18:30:34.959855Z",
     "iopub.status.idle": "2021-12-05T18:30:34.963145Z",
     "shell.execute_reply": "2021-12-05T18:30:34.963674Z",
     "shell.execute_reply.started": "2021-12-05T17:51:01.284037Z"
    },
    "papermill": {
     "duration": 0.062903,
     "end_time": "2021-12-05T18:30:34.963843",
     "exception": false,
     "start_time": "2021-12-05T18:30:34.900940",
     "status": "completed"
    },
    "tags": []
   },
   "outputs": [
    {
     "name": "stdout",
     "output_type": "stream",
     "text": [
      "best lasso regression rmsle score: 0.14788693205680523\n",
      "best random forest imputed lasso regression rmsle score: 0.14116379965773337\n"
     ]
    }
   ],
   "source": [
    "print('best lasso regression rmsle score:', study_lasso.best_value)\n",
    "print('best random forest imputed lasso regression rmsle score:', study_lasso_rf.best_value)"
   ]
  },
  {
   "cell_type": "code",
   "execution_count": 25,
   "id": "5da61a7a",
   "metadata": {
    "execution": {
     "iopub.execute_input": "2021-12-05T18:30:35.074284Z",
     "iopub.status.busy": "2021-12-05T18:30:35.073294Z",
     "iopub.status.idle": "2021-12-05T18:30:35.108270Z",
     "shell.execute_reply": "2021-12-05T18:30:35.109336Z",
     "shell.execute_reply.started": "2021-12-05T17:51:01.293100Z"
    },
    "papermill": {
     "duration": 0.092973,
     "end_time": "2021-12-05T18:30:35.109605",
     "exception": false,
     "start_time": "2021-12-05T18:30:35.016632",
     "status": "completed"
    },
    "tags": []
   },
   "outputs": [
    {
     "data": {
      "text/plain": [
       "array([121248.07020682, 153032.08009552, 177322.68932448, ...,\n",
       "       170686.21198253, 120288.19421493, 213601.72683813])"
      ]
     },
     "execution_count": 25,
     "metadata": {},
     "output_type": "execute_result"
    }
   ],
   "source": [
    "lasso_model = Lasso(**study_lasso_rf.best_params).fit(X_train_rf, log_target_rf)\n",
    "np.expm1(lasso_model.predict(X_test_rf))"
   ]
  },
  {
   "cell_type": "code",
   "execution_count": 26,
   "id": "54618b28",
   "metadata": {
    "execution": {
     "iopub.execute_input": "2021-12-05T18:30:35.278440Z",
     "iopub.status.busy": "2021-12-05T18:30:35.277462Z",
     "iopub.status.idle": "2021-12-05T18:30:49.077854Z",
     "shell.execute_reply": "2021-12-05T18:30:49.078883Z",
     "shell.execute_reply.started": "2021-12-05T17:51:01.346121Z"
    },
    "papermill": {
     "duration": 13.868487,
     "end_time": "2021-12-05T18:30:49.079189",
     "exception": false,
     "start_time": "2021-12-05T18:30:35.210702",
     "status": "completed"
    },
    "tags": []
   },
   "outputs": [
    {
     "name": "stderr",
     "output_type": "stream",
     "text": [
      "/opt/conda/lib/python3.7/site-packages/optuna/progress_bar.py:47: ExperimentalWarning: Progress bar is experimental (supported from v1.2.0). The interface can change in the future.\n",
      "  self._init_valid()\n"
     ]
    },
    {
     "data": {
      "application/vnd.jupyter.widget-view+json": {
       "model_id": "a09c0564cd33414e98099ea122cbf5a3",
       "version_major": 2,
       "version_minor": 0
      },
      "text/plain": [
       "  0%|          | 0/150 [00:00<?, ?it/s]"
      ]
     },
     "metadata": {},
     "output_type": "display_data"
    },
    {
     "name": "stderr",
     "output_type": "stream",
     "text": [
      "/opt/conda/lib/python3.7/site-packages/optuna/progress_bar.py:47: ExperimentalWarning: Progress bar is experimental (supported from v1.2.0). The interface can change in the future.\n",
      "  self._init_valid()\n"
     ]
    },
    {
     "data": {
      "application/vnd.jupyter.widget-view+json": {
       "model_id": "3df800ea140b45dc8352bf8a3f7e5283",
       "version_major": 2,
       "version_minor": 0
      },
      "text/plain": [
       "  0%|          | 0/150 [00:00<?, ?it/s]"
      ]
     },
     "metadata": {},
     "output_type": "display_data"
    }
   ],
   "source": [
    "def objective_ridge(trial):\n",
    "    params = dict(\n",
    "           alpha=trial.suggest_float('alpha', 1e-4, 1e2)\n",
    "    )\n",
    "    model = Ridge(**params, max_iter = 10000000)\n",
    "    return do_cv(X_train, log_target, model)\n",
    "\n",
    "def objective_ridge_rf(trial):\n",
    "    params = dict(\n",
    "           alpha=trial.suggest_float('alpha', 1e-4, 1e2)\n",
    "    )\n",
    "    model = Ridge(**params, max_iter = 10000000)\n",
    "    return do_cv(X_train_rf, log_target_rf, model)\n",
    "\n",
    "optuna.logging.set_verbosity(optuna.logging.ERROR)\n",
    "study_ridge = optuna.create_study(direction='minimize')\n",
    "study_ridge.optimize(objective_ridge, n_trials=150, show_progress_bar=True)\n",
    "\n",
    "study_ridge_rf = optuna.create_study(direction='minimize')\n",
    "study_ridge_rf.optimize(objective_ridge_rf, n_trials=150, show_progress_bar=True)"
   ]
  },
  {
   "cell_type": "code",
   "execution_count": 27,
   "id": "35f64e60",
   "metadata": {
    "execution": {
     "iopub.execute_input": "2021-12-05T18:30:49.248275Z",
     "iopub.status.busy": "2021-12-05T18:30:49.247046Z",
     "iopub.status.idle": "2021-12-05T18:30:49.250000Z",
     "shell.execute_reply": "2021-12-05T18:30:49.250478Z",
     "shell.execute_reply.started": "2021-12-05T17:51:13.990022Z"
    },
    "papermill": {
     "duration": 0.066535,
     "end_time": "2021-12-05T18:30:49.250640",
     "exception": false,
     "start_time": "2021-12-05T18:30:49.184105",
     "status": "completed"
    },
    "tags": []
   },
   "outputs": [
    {
     "name": "stdout",
     "output_type": "stream",
     "text": [
      "best ridge regression rmsle score: 0.13843616624043495\n",
      "best random forest imputed ridge regression rmsle score: 0.1391910434451607\n"
     ]
    }
   ],
   "source": [
    "print('best ridge regression rmsle score:', study_ridge.best_value)\n",
    "print('best random forest imputed ridge regression rmsle score:', study_ridge_rf.best_value)"
   ]
  },
  {
   "cell_type": "code",
   "execution_count": 28,
   "id": "e49c65f6",
   "metadata": {
    "execution": {
     "iopub.execute_input": "2021-12-05T18:30:49.366699Z",
     "iopub.status.busy": "2021-12-05T18:30:49.366041Z",
     "iopub.status.idle": "2021-12-05T18:30:49.379053Z",
     "shell.execute_reply": "2021-12-05T18:30:49.380501Z",
     "shell.execute_reply.started": "2021-12-05T17:51:14.011506Z"
    },
    "papermill": {
     "duration": 0.075611,
     "end_time": "2021-12-05T18:30:49.380818",
     "exception": false,
     "start_time": "2021-12-05T18:30:49.305207",
     "status": "completed"
    },
    "tags": []
   },
   "outputs": [
    {
     "data": {
      "text/plain": [
       "array([123047.56401028, 151718.20540856, 177229.89974224, ...,\n",
       "       172220.67871301, 119018.60087433, 215298.68224557])"
      ]
     },
     "execution_count": 28,
     "metadata": {},
     "output_type": "execute_result"
    }
   ],
   "source": [
    "ridge_model = Ridge(**study_ridge_rf.best_params).fit(X_train_rf, log_target_rf)\n",
    "np.expm1(ridge_model.predict(X_test_rf))"
   ]
  },
  {
   "cell_type": "code",
   "execution_count": 29,
   "id": "45424f34",
   "metadata": {
    "execution": {
     "iopub.execute_input": "2021-12-05T18:30:49.552172Z",
     "iopub.status.busy": "2021-12-05T18:30:49.551195Z",
     "iopub.status.idle": "2021-12-05T18:32:40.035101Z",
     "shell.execute_reply": "2021-12-05T18:32:40.034439Z",
     "shell.execute_reply.started": "2021-12-05T17:51:14.046072Z"
    },
    "papermill": {
     "duration": 110.549723,
     "end_time": "2021-12-05T18:32:40.035255",
     "exception": false,
     "start_time": "2021-12-05T18:30:49.485532",
     "status": "completed"
    },
    "tags": []
   },
   "outputs": [
    {
     "name": "stderr",
     "output_type": "stream",
     "text": [
      "/opt/conda/lib/python3.7/site-packages/optuna/progress_bar.py:47: ExperimentalWarning: Progress bar is experimental (supported from v1.2.0). The interface can change in the future.\n",
      "  self._init_valid()\n"
     ]
    },
    {
     "data": {
      "application/vnd.jupyter.widget-view+json": {
       "model_id": "3eec52e7dd5245c996acbe22ce833351",
       "version_major": 2,
       "version_minor": 0
      },
      "text/plain": [
       "  0%|          | 0/150 [00:00<?, ?it/s]"
      ]
     },
     "metadata": {},
     "output_type": "display_data"
    }
   ],
   "source": [
    "from sklearn.svm import SVR\n",
    "\n",
    "def objective_svr(trial):\n",
    "    params = dict(\n",
    "            C=trial.suggest_float('C', 1e-3, 1e3)\n",
    "    )\n",
    "    model = SVR(**params)\n",
    "    return do_cv(X_train, log_target, model)\n",
    "\n",
    "optuna.logging.set_verbosity(optuna.logging.ERROR)\n",
    "study_svr = optuna.create_study(direction='minimize')\n",
    "study_svr.optimize(objective_svr, n_trials=150, show_progress_bar=True)"
   ]
  },
  {
   "cell_type": "code",
   "execution_count": 30,
   "id": "b3e42511",
   "metadata": {
    "execution": {
     "iopub.execute_input": "2021-12-05T18:32:40.190029Z",
     "iopub.status.busy": "2021-12-05T18:32:40.189134Z",
     "iopub.status.idle": "2021-12-05T18:34:51.063187Z",
     "shell.execute_reply": "2021-12-05T18:34:51.063725Z",
     "shell.execute_reply.started": "2021-12-05T17:53:20.087315Z"
    },
    "papermill": {
     "duration": 130.961967,
     "end_time": "2021-12-05T18:34:51.063918",
     "exception": false,
     "start_time": "2021-12-05T18:32:40.101951",
     "status": "completed"
    },
    "tags": []
   },
   "outputs": [
    {
     "name": "stderr",
     "output_type": "stream",
     "text": [
      "/opt/conda/lib/python3.7/site-packages/optuna/progress_bar.py:47: ExperimentalWarning: Progress bar is experimental (supported from v1.2.0). The interface can change in the future.\n",
      "  self._init_valid()\n"
     ]
    },
    {
     "data": {
      "application/vnd.jupyter.widget-view+json": {
       "model_id": "8de8e2a72158499eafbac124a22745e1",
       "version_major": 2,
       "version_minor": 0
      },
      "text/plain": [
       "  0%|          | 0/150 [00:00<?, ?it/s]"
      ]
     },
     "metadata": {},
     "output_type": "display_data"
    }
   ],
   "source": [
    "def objective_svr_rf(trial):\n",
    "    params = dict(\n",
    "            C=trial.suggest_float('C', 1e-3, 1e3)\n",
    "    )\n",
    "    model = SVR(**params)\n",
    "    return do_cv(X_train_rf, log_target_rf, model)\n",
    "\n",
    "optuna.logging.set_verbosity(optuna.logging.ERROR)\n",
    "study_svr_rf = optuna.create_study(direction='minimize')\n",
    "study_svr_rf.optimize(objective_svr_rf, n_trials=150, show_progress_bar=True)"
   ]
  },
  {
   "cell_type": "code",
   "execution_count": 31,
   "id": "dcd7f2f0",
   "metadata": {
    "execution": {
     "iopub.execute_input": "2021-12-05T18:34:51.181380Z",
     "iopub.status.busy": "2021-12-05T18:34:51.180700Z",
     "iopub.status.idle": "2021-12-05T18:34:51.185916Z",
     "shell.execute_reply": "2021-12-05T18:34:51.186481Z",
     "shell.execute_reply.started": "2021-12-05T17:55:27.230386Z"
    },
    "papermill": {
     "duration": 0.065749,
     "end_time": "2021-12-05T18:34:51.186652",
     "exception": false,
     "start_time": "2021-12-05T18:34:51.120903",
     "status": "completed"
    },
    "tags": []
   },
   "outputs": [
    {
     "name": "stdout",
     "output_type": "stream",
     "text": [
      "best svr rmsle score: 0.12469911659250173\n",
      "best random forest imputed svr rmsle score: 0.1235851476457892\n"
     ]
    }
   ],
   "source": [
    "print('best svr rmsle score:', study_svr.best_value)\n",
    "print('best random forest imputed svr rmsle score:', study_svr_rf.best_value)"
   ]
  },
  {
   "cell_type": "code",
   "execution_count": 32,
   "id": "d1840960",
   "metadata": {
    "execution": {
     "iopub.execute_input": "2021-12-05T18:34:51.306223Z",
     "iopub.status.busy": "2021-12-05T18:34:51.305573Z",
     "iopub.status.idle": "2021-12-05T18:34:51.758629Z",
     "shell.execute_reply": "2021-12-05T18:34:51.759114Z",
     "shell.execute_reply.started": "2021-12-05T17:55:27.237398Z"
    },
    "papermill": {
     "duration": 0.513527,
     "end_time": "2021-12-05T18:34:51.759280",
     "exception": false,
     "start_time": "2021-12-05T18:34:51.245753",
     "status": "completed"
    },
    "tags": []
   },
   "outputs": [
    {
     "data": {
      "text/plain": [
       "array([117888.9187313 , 158809.13752933, 183985.44313877, ...,\n",
       "       168674.94399803, 116478.17400503, 221322.60103271])"
      ]
     },
     "execution_count": 32,
     "metadata": {},
     "output_type": "execute_result"
    }
   ],
   "source": [
    "svr_model = SVR(**study_svr_rf.best_params).fit(X_train_rf, log_target_rf)\n",
    "np.expm1(svr_model.predict(X_test_rf))"
   ]
  },
  {
   "cell_type": "code",
   "execution_count": 33,
   "id": "8ad44d0a",
   "metadata": {
    "execution": {
     "iopub.execute_input": "2021-12-05T18:34:51.878297Z",
     "iopub.status.busy": "2021-12-05T18:34:51.877666Z",
     "iopub.status.idle": "2021-12-05T18:38:54.441744Z",
     "shell.execute_reply": "2021-12-05T18:38:54.442256Z",
     "shell.execute_reply.started": "2021-12-05T18:08:54.897728Z"
    },
    "papermill": {
     "duration": 242.624916,
     "end_time": "2021-12-05T18:38:54.442675",
     "exception": false,
     "start_time": "2021-12-05T18:34:51.817759",
     "status": "completed"
    },
    "tags": []
   },
   "outputs": [
    {
     "name": "stderr",
     "output_type": "stream",
     "text": [
      "/opt/conda/lib/python3.7/site-packages/optuna/progress_bar.py:47: ExperimentalWarning: Progress bar is experimental (supported from v1.2.0). The interface can change in the future.\n",
      "  self._init_valid()\n"
     ]
    },
    {
     "data": {
      "application/vnd.jupyter.widget-view+json": {
       "model_id": "6047af440af54690a8cbfeba75d9d1cc",
       "version_major": 2,
       "version_minor": 0
      },
      "text/plain": [
       "  0%|          | 0/100 [00:00<?, ?it/s]"
      ]
     },
     "metadata": {},
     "output_type": "display_data"
    }
   ],
   "source": [
    "from sklearn.ensemble import GradientBoostingRegressor\n",
    "def objective_gdb(trial):\n",
    "    params = dict(\n",
    "        n_estimators=trial.suggest_int('n_estimators', 50, 200),\n",
    "        learning_rate=trial.suggest_float('learning_rate', 5e-2, 5e-1),\n",
    "        max_depth=trial.suggest_int('max_depth', 2, 6)\n",
    "    )\n",
    "    model = GradientBoostingRegressor(**params)\n",
    "    return do_cv(X_train, log_target, model)\n",
    "\n",
    "optuna.logging.set_verbosity(optuna.logging.ERROR)\n",
    "study_gdb = optuna.create_study(direction='minimize')\n",
    "study_gdb.optimize(objective_gdb, n_trials=100, show_progress_bar=True)"
   ]
  },
  {
   "cell_type": "code",
   "execution_count": 34,
   "id": "dc82dadd",
   "metadata": {
    "execution": {
     "iopub.execute_input": "2021-12-05T18:38:54.570367Z",
     "iopub.status.busy": "2021-12-05T18:38:54.569647Z",
     "iopub.status.idle": "2021-12-05T18:47:40.753884Z",
     "shell.execute_reply": "2021-12-05T18:47:40.753287Z",
     "shell.execute_reply.started": "2021-12-05T18:14:23.853521Z"
    },
    "papermill": {
     "duration": 526.251284,
     "end_time": "2021-12-05T18:47:40.754092",
     "exception": false,
     "start_time": "2021-12-05T18:38:54.502808",
     "status": "completed"
    },
    "tags": []
   },
   "outputs": [
    {
     "name": "stderr",
     "output_type": "stream",
     "text": [
      "/opt/conda/lib/python3.7/site-packages/optuna/progress_bar.py:47: ExperimentalWarning: Progress bar is experimental (supported from v1.2.0). The interface can change in the future.\n",
      "  self._init_valid()\n"
     ]
    },
    {
     "data": {
      "application/vnd.jupyter.widget-view+json": {
       "model_id": "cf0404528b7c4ea0bd656036ce797767",
       "version_major": 2,
       "version_minor": 0
      },
      "text/plain": [
       "  0%|          | 0/150 [00:00<?, ?it/s]"
      ]
     },
     "metadata": {},
     "output_type": "display_data"
    }
   ],
   "source": [
    "def objective_gdb_rf(trial):\n",
    "    params = dict(\n",
    "        n_estimators=trial.suggest_int('n_estimators', 50, 200),\n",
    "        learning_rate=trial.suggest_float('learning_rate', 5e-2, 5e-1),\n",
    "        max_depth=trial.suggest_int('max_depth', 2, 6)\n",
    "    )\n",
    "    model = GradientBoostingRegressor(**params)\n",
    "    return do_cv(X_train_rf, log_target_rf, model)\n",
    "study_gdb_rf = optuna.create_study(direction='minimize')\n",
    "study_gdb_rf.optimize(objective_gdb_rf, n_trials=150, show_progress_bar=True)"
   ]
  },
  {
   "cell_type": "code",
   "execution_count": 35,
   "id": "286e3380",
   "metadata": {
    "execution": {
     "iopub.execute_input": "2021-12-05T18:47:40.878790Z",
     "iopub.status.busy": "2021-12-05T18:47:40.878128Z",
     "iopub.status.idle": "2021-12-05T18:47:40.882425Z",
     "shell.execute_reply": "2021-12-05T18:47:40.882995Z",
     "shell.execute_reply.started": "2021-12-05T18:20:37.423403Z"
    },
    "papermill": {
     "duration": 0.069588,
     "end_time": "2021-12-05T18:47:40.883174",
     "exception": false,
     "start_time": "2021-12-05T18:47:40.813586",
     "status": "completed"
    },
    "tags": []
   },
   "outputs": [
    {
     "name": "stdout",
     "output_type": "stream",
     "text": [
      "best gdb rmsle score: 0.12499088381717265\n",
      "best random forest imputed gdb rmsle score: 0.12282304834249036\n"
     ]
    }
   ],
   "source": [
    "print('best gdb rmsle score:', study_gdb.best_value)\n",
    "print('best random forest imputed gdb rmsle score:', study_gdb_rf.best_value)"
   ]
  },
  {
   "cell_type": "code",
   "execution_count": 36,
   "id": "bcedafdf",
   "metadata": {
    "execution": {
     "iopub.execute_input": "2021-12-05T18:47:41.015045Z",
     "iopub.status.busy": "2021-12-05T18:47:41.014399Z",
     "iopub.status.idle": "2021-12-05T18:47:42.994518Z",
     "shell.execute_reply": "2021-12-05T18:47:42.995006Z",
     "shell.execute_reply.started": "2021-12-05T18:21:42.249898Z"
    },
    "papermill": {
     "duration": 2.052021,
     "end_time": "2021-12-05T18:47:42.995171",
     "exception": false,
     "start_time": "2021-12-05T18:47:40.943150",
     "status": "completed"
    },
    "tags": []
   },
   "outputs": [
    {
     "data": {
      "text/plain": [
       "array([128590.28950896, 159523.654464  , 190161.44807811, ...,\n",
       "       156875.96112027, 118790.36253819, 203767.83700417])"
      ]
     },
     "execution_count": 36,
     "metadata": {},
     "output_type": "execute_result"
    }
   ],
   "source": [
    "gdb_model = GradientBoostingRegressor(**study_gdb_rf.best_params).fit(X_train_rf, log_target_rf)\n",
    "np.expm1(gdb_model.predict(X_test_rf))"
   ]
  },
  {
   "cell_type": "code",
   "execution_count": 37,
   "id": "36571bda",
   "metadata": {
    "execution": {
     "iopub.execute_input": "2021-12-05T18:47:43.120823Z",
     "iopub.status.busy": "2021-12-05T18:47:43.120162Z",
     "iopub.status.idle": "2021-12-05T18:47:43.202634Z",
     "shell.execute_reply": "2021-12-05T18:47:43.203152Z",
     "shell.execute_reply.started": "2021-12-05T18:25:34.270192Z"
    },
    "papermill": {
     "duration": 0.146364,
     "end_time": "2021-12-05T18:47:43.203348",
     "exception": false,
     "start_time": "2021-12-05T18:47:43.056984",
     "status": "completed"
    },
    "tags": []
   },
   "outputs": [
    {
     "data": {
      "text/plain": [
       "array([121003.27734789, 159024.15591926, 185817.88151958, ...,\n",
       "       165045.98159737, 117168.06472114, 215904.02534674])"
      ]
     },
     "execution_count": 37,
     "metadata": {},
     "output_type": "execute_result"
    }
   ],
   "source": [
    "combined = 0.7 * svr_model.predict(X_test_rf) + 0.3 * gdb_model.predict(X_test_rf)\n",
    "np.exp(combined)"
   ]
  },
  {
   "cell_type": "code",
   "execution_count": 38,
   "id": "91b59d8d",
   "metadata": {
    "execution": {
     "iopub.execute_input": "2021-12-05T18:47:43.329187Z",
     "iopub.status.busy": "2021-12-05T18:47:43.328525Z",
     "iopub.status.idle": "2021-12-05T18:47:43.341190Z",
     "shell.execute_reply": "2021-12-05T18:47:43.341766Z",
     "shell.execute_reply.started": "2021-12-02T17:11:26.936407Z"
    },
    "papermill": {
     "duration": 0.077918,
     "end_time": "2021-12-05T18:47:43.341942",
     "exception": false,
     "start_time": "2021-12-05T18:47:43.264024",
     "status": "completed"
    },
    "tags": []
   },
   "outputs": [],
   "source": [
    "pd.DataFrame({\n",
    "    'Id': X_test_rf.index,\n",
    "    'SalePrice': np.expm1(combined)\n",
    "}).to_csv('submission.csv', index=False)"
   ]
  },
  {
   "cell_type": "code",
   "execution_count": 39,
   "id": "04e8ae34",
   "metadata": {
    "execution": {
     "iopub.execute_input": "2021-12-05T18:47:43.467731Z",
     "iopub.status.busy": "2021-12-05T18:47:43.466971Z",
     "iopub.status.idle": "2021-12-05T18:47:43.477591Z",
     "shell.execute_reply": "2021-12-05T18:47:43.478179Z",
     "shell.execute_reply.started": "2021-12-02T17:11:56.155747Z"
    },
    "papermill": {
     "duration": 0.076234,
     "end_time": "2021-12-05T18:47:43.478376",
     "exception": false,
     "start_time": "2021-12-05T18:47:43.402142",
     "status": "completed"
    },
    "tags": []
   },
   "outputs": [],
   "source": [
    "# export models\n",
    "with open('svr.pkl', 'wb') as fp:\n",
    "    pickle.dump(svr_model, fp)\n",
    "    \n",
    "with open('gdb.pkl', 'wb') as fp:\n",
    "    pickle.dump(gdb_model, fp)"
   ]
  }
 ],
 "metadata": {
  "kernelspec": {
   "display_name": "Python 3",
   "language": "python",
   "name": "python3"
  },
  "language_info": {
   "codemirror_mode": {
    "name": "ipython",
    "version": 3
   },
   "file_extension": ".py",
   "mimetype": "text/x-python",
   "name": "python",
   "nbconvert_exporter": "python",
   "pygments_lexer": "ipython3",
   "version": "3.7.12"
  },
  "papermill": {
   "default_parameters": {},
   "duration": 1078.616685,
   "end_time": "2021-12-05T18:47:44.455986",
   "environment_variables": {},
   "exception": null,
   "input_path": "__notebook__.ipynb",
   "output_path": "__notebook__.ipynb",
   "parameters": {},
   "start_time": "2021-12-05T18:29:45.839301",
   "version": "2.3.3"
  },
  "widgets": {
   "application/vnd.jupyter.widget-state+json": {
    "state": {
     "0412e1a522c343d681c900c7cc75f8b4": {
      "model_module": "@jupyter-widgets/base",
      "model_module_version": "1.2.0",
      "model_name": "LayoutModel",
      "state": {
       "_model_module": "@jupyter-widgets/base",
       "_model_module_version": "1.2.0",
       "_model_name": "LayoutModel",
       "_view_count": null,
       "_view_module": "@jupyter-widgets/base",
       "_view_module_version": "1.2.0",
       "_view_name": "LayoutView",
       "align_content": null,
       "align_items": null,
       "align_self": null,
       "border": null,
       "bottom": null,
       "display": null,
       "flex": null,
       "flex_flow": null,
       "grid_area": null,
       "grid_auto_columns": null,
       "grid_auto_flow": null,
       "grid_auto_rows": null,
       "grid_column": null,
       "grid_gap": null,
       "grid_row": null,
       "grid_template_areas": null,
       "grid_template_columns": null,
       "grid_template_rows": null,
       "height": null,
       "justify_content": null,
       "justify_items": null,
       "left": null,
       "margin": null,
       "max_height": null,
       "max_width": null,
       "min_height": null,
       "min_width": null,
       "object_fit": null,
       "object_position": null,
       "order": null,
       "overflow": null,
       "overflow_x": null,
       "overflow_y": null,
       "padding": null,
       "right": null,
       "top": null,
       "visibility": null,
       "width": null
      }
     },
     "0866ea040bd1489c8d9a1c6445de3316": {
      "model_module": "@jupyter-widgets/base",
      "model_module_version": "1.2.0",
      "model_name": "LayoutModel",
      "state": {
       "_model_module": "@jupyter-widgets/base",
       "_model_module_version": "1.2.0",
       "_model_name": "LayoutModel",
       "_view_count": null,
       "_view_module": "@jupyter-widgets/base",
       "_view_module_version": "1.2.0",
       "_view_name": "LayoutView",
       "align_content": null,
       "align_items": null,
       "align_self": null,
       "border": null,
       "bottom": null,
       "display": null,
       "flex": null,
       "flex_flow": null,
       "grid_area": null,
       "grid_auto_columns": null,
       "grid_auto_flow": null,
       "grid_auto_rows": null,
       "grid_column": null,
       "grid_gap": null,
       "grid_row": null,
       "grid_template_areas": null,
       "grid_template_columns": null,
       "grid_template_rows": null,
       "height": null,
       "justify_content": null,
       "justify_items": null,
       "left": null,
       "margin": null,
       "max_height": null,
       "max_width": null,
       "min_height": null,
       "min_width": null,
       "object_fit": null,
       "object_position": null,
       "order": null,
       "overflow": null,
       "overflow_x": null,
       "overflow_y": null,
       "padding": null,
       "right": null,
       "top": null,
       "visibility": null,
       "width": null
      }
     },
     "091ec0da3f174e61aa45868f6ebde181": {
      "model_module": "@jupyter-widgets/controls",
      "model_module_version": "1.5.0",
      "model_name": "DescriptionStyleModel",
      "state": {
       "_model_module": "@jupyter-widgets/controls",
       "_model_module_version": "1.5.0",
       "_model_name": "DescriptionStyleModel",
       "_view_count": null,
       "_view_module": "@jupyter-widgets/base",
       "_view_module_version": "1.2.0",
       "_view_name": "StyleView",
       "description_width": ""
      }
     },
     "0fba8250c020421291e12997e76dc05f": {
      "model_module": "@jupyter-widgets/controls",
      "model_module_version": "1.5.0",
      "model_name": "DescriptionStyleModel",
      "state": {
       "_model_module": "@jupyter-widgets/controls",
       "_model_module_version": "1.5.0",
       "_model_name": "DescriptionStyleModel",
       "_view_count": null,
       "_view_module": "@jupyter-widgets/base",
       "_view_module_version": "1.2.0",
       "_view_name": "StyleView",
       "description_width": ""
      }
     },
     "13494faf22c946869a74d6d53e105e7a": {
      "model_module": "@jupyter-widgets/controls",
      "model_module_version": "1.5.0",
      "model_name": "HBoxModel",
      "state": {
       "_dom_classes": [],
       "_model_module": "@jupyter-widgets/controls",
       "_model_module_version": "1.5.0",
       "_model_name": "HBoxModel",
       "_view_count": null,
       "_view_module": "@jupyter-widgets/controls",
       "_view_module_version": "1.5.0",
       "_view_name": "HBoxView",
       "box_style": "",
       "children": [
        "IPY_MODEL_14cd4fbcd6cc48c5b8997313e54e4326",
        "IPY_MODEL_a4be8589cada4024a4167db94f5e9487",
        "IPY_MODEL_bff1f5b487b84b429cd5963606150ed3"
       ],
       "layout": "IPY_MODEL_2bb59d99dcba43118ac213902a3c88f1"
      }
     },
     "137ad0cfd088483c9ea8ab816e975c50": {
      "model_module": "@jupyter-widgets/base",
      "model_module_version": "1.2.0",
      "model_name": "LayoutModel",
      "state": {
       "_model_module": "@jupyter-widgets/base",
       "_model_module_version": "1.2.0",
       "_model_name": "LayoutModel",
       "_view_count": null,
       "_view_module": "@jupyter-widgets/base",
       "_view_module_version": "1.2.0",
       "_view_name": "LayoutView",
       "align_content": null,
       "align_items": null,
       "align_self": null,
       "border": null,
       "bottom": null,
       "display": null,
       "flex": null,
       "flex_flow": null,
       "grid_area": null,
       "grid_auto_columns": null,
       "grid_auto_flow": null,
       "grid_auto_rows": null,
       "grid_column": null,
       "grid_gap": null,
       "grid_row": null,
       "grid_template_areas": null,
       "grid_template_columns": null,
       "grid_template_rows": null,
       "height": null,
       "justify_content": null,
       "justify_items": null,
       "left": null,
       "margin": null,
       "max_height": null,
       "max_width": null,
       "min_height": null,
       "min_width": null,
       "object_fit": null,
       "object_position": null,
       "order": null,
       "overflow": null,
       "overflow_x": null,
       "overflow_y": null,
       "padding": null,
       "right": null,
       "top": null,
       "visibility": null,
       "width": null
      }
     },
     "14cd4fbcd6cc48c5b8997313e54e4326": {
      "model_module": "@jupyter-widgets/controls",
      "model_module_version": "1.5.0",
      "model_name": "HTMLModel",
      "state": {
       "_dom_classes": [],
       "_model_module": "@jupyter-widgets/controls",
       "_model_module_version": "1.5.0",
       "_model_name": "HTMLModel",
       "_view_count": null,
       "_view_module": "@jupyter-widgets/controls",
       "_view_module_version": "1.5.0",
       "_view_name": "HTMLView",
       "description": "",
       "description_tooltip": null,
       "layout": "IPY_MODEL_b03d900d262f4699ac9598511dafea3f",
       "placeholder": "​",
       "style": "IPY_MODEL_555323f7a76a4eb592e3d81c95143231",
       "value": "100%"
      }
     },
     "16cc196982e849f7a46975c79880ec95": {
      "model_module": "@jupyter-widgets/controls",
      "model_module_version": "1.5.0",
      "model_name": "HTMLModel",
      "state": {
       "_dom_classes": [],
       "_model_module": "@jupyter-widgets/controls",
       "_model_module_version": "1.5.0",
       "_model_name": "HTMLModel",
       "_view_count": null,
       "_view_module": "@jupyter-widgets/controls",
       "_view_module_version": "1.5.0",
       "_view_name": "HTMLView",
       "description": "",
       "description_tooltip": null,
       "layout": "IPY_MODEL_ce2f52e813294732a486c955f2b6489a",
       "placeholder": "​",
       "style": "IPY_MODEL_091ec0da3f174e61aa45868f6ebde181",
       "value": " 100/100 [04:02&lt;00:00,  4.26s/it]"
      }
     },
     "1738eecbb12b4cd6a8af25bfc9e3808a": {
      "model_module": "@jupyter-widgets/base",
      "model_module_version": "1.2.0",
      "model_name": "LayoutModel",
      "state": {
       "_model_module": "@jupyter-widgets/base",
       "_model_module_version": "1.2.0",
       "_model_name": "LayoutModel",
       "_view_count": null,
       "_view_module": "@jupyter-widgets/base",
       "_view_module_version": "1.2.0",
       "_view_name": "LayoutView",
       "align_content": null,
       "align_items": null,
       "align_self": null,
       "border": null,
       "bottom": null,
       "display": null,
       "flex": null,
       "flex_flow": null,
       "grid_area": null,
       "grid_auto_columns": null,
       "grid_auto_flow": null,
       "grid_auto_rows": null,
       "grid_column": null,
       "grid_gap": null,
       "grid_row": null,
       "grid_template_areas": null,
       "grid_template_columns": null,
       "grid_template_rows": null,
       "height": null,
       "justify_content": null,
       "justify_items": null,
       "left": null,
       "margin": null,
       "max_height": null,
       "max_width": null,
       "min_height": null,
       "min_width": null,
       "object_fit": null,
       "object_position": null,
       "order": null,
       "overflow": null,
       "overflow_x": null,
       "overflow_y": null,
       "padding": null,
       "right": null,
       "top": null,
       "visibility": null,
       "width": null
      }
     },
     "1b06d48b3fed43449d31c5357162c75e": {
      "model_module": "@jupyter-widgets/base",
      "model_module_version": "1.2.0",
      "model_name": "LayoutModel",
      "state": {
       "_model_module": "@jupyter-widgets/base",
       "_model_module_version": "1.2.0",
       "_model_name": "LayoutModel",
       "_view_count": null,
       "_view_module": "@jupyter-widgets/base",
       "_view_module_version": "1.2.0",
       "_view_name": "LayoutView",
       "align_content": null,
       "align_items": null,
       "align_self": null,
       "border": null,
       "bottom": null,
       "display": null,
       "flex": null,
       "flex_flow": null,
       "grid_area": null,
       "grid_auto_columns": null,
       "grid_auto_flow": null,
       "grid_auto_rows": null,
       "grid_column": null,
       "grid_gap": null,
       "grid_row": null,
       "grid_template_areas": null,
       "grid_template_columns": null,
       "grid_template_rows": null,
       "height": null,
       "justify_content": null,
       "justify_items": null,
       "left": null,
       "margin": null,
       "max_height": null,
       "max_width": null,
       "min_height": null,
       "min_width": null,
       "object_fit": null,
       "object_position": null,
       "order": null,
       "overflow": null,
       "overflow_x": null,
       "overflow_y": null,
       "padding": null,
       "right": null,
       "top": null,
       "visibility": null,
       "width": null
      }
     },
     "1d16ba59b5bb4e8d9271dee97d2db855": {
      "model_module": "@jupyter-widgets/base",
      "model_module_version": "1.2.0",
      "model_name": "LayoutModel",
      "state": {
       "_model_module": "@jupyter-widgets/base",
       "_model_module_version": "1.2.0",
       "_model_name": "LayoutModel",
       "_view_count": null,
       "_view_module": "@jupyter-widgets/base",
       "_view_module_version": "1.2.0",
       "_view_name": "LayoutView",
       "align_content": null,
       "align_items": null,
       "align_self": null,
       "border": null,
       "bottom": null,
       "display": null,
       "flex": null,
       "flex_flow": null,
       "grid_area": null,
       "grid_auto_columns": null,
       "grid_auto_flow": null,
       "grid_auto_rows": null,
       "grid_column": null,
       "grid_gap": null,
       "grid_row": null,
       "grid_template_areas": null,
       "grid_template_columns": null,
       "grid_template_rows": null,
       "height": null,
       "justify_content": null,
       "justify_items": null,
       "left": null,
       "margin": null,
       "max_height": null,
       "max_width": null,
       "min_height": null,
       "min_width": null,
       "object_fit": null,
       "object_position": null,
       "order": null,
       "overflow": null,
       "overflow_x": null,
       "overflow_y": null,
       "padding": null,
       "right": null,
       "top": null,
       "visibility": null,
       "width": null
      }
     },
     "1f2655a844b143968a2f81358b2f4bb0": {
      "model_module": "@jupyter-widgets/controls",
      "model_module_version": "1.5.0",
      "model_name": "DescriptionStyleModel",
      "state": {
       "_model_module": "@jupyter-widgets/controls",
       "_model_module_version": "1.5.0",
       "_model_name": "DescriptionStyleModel",
       "_view_count": null,
       "_view_module": "@jupyter-widgets/base",
       "_view_module_version": "1.2.0",
       "_view_name": "StyleView",
       "description_width": ""
      }
     },
     "2136fbd24b9748c18af8055e4e241bb0": {
      "model_module": "@jupyter-widgets/base",
      "model_module_version": "1.2.0",
      "model_name": "LayoutModel",
      "state": {
       "_model_module": "@jupyter-widgets/base",
       "_model_module_version": "1.2.0",
       "_model_name": "LayoutModel",
       "_view_count": null,
       "_view_module": "@jupyter-widgets/base",
       "_view_module_version": "1.2.0",
       "_view_name": "LayoutView",
       "align_content": null,
       "align_items": null,
       "align_self": null,
       "border": null,
       "bottom": null,
       "display": null,
       "flex": null,
       "flex_flow": null,
       "grid_area": null,
       "grid_auto_columns": null,
       "grid_auto_flow": null,
       "grid_auto_rows": null,
       "grid_column": null,
       "grid_gap": null,
       "grid_row": null,
       "grid_template_areas": null,
       "grid_template_columns": null,
       "grid_template_rows": null,
       "height": null,
       "justify_content": null,
       "justify_items": null,
       "left": null,
       "margin": null,
       "max_height": null,
       "max_width": null,
       "min_height": null,
       "min_width": null,
       "object_fit": null,
       "object_position": null,
       "order": null,
       "overflow": null,
       "overflow_x": null,
       "overflow_y": null,
       "padding": null,
       "right": null,
       "top": null,
       "visibility": null,
       "width": null
      }
     },
     "21a40f14a5d1412f8ef8f50027ef04b1": {
      "model_module": "@jupyter-widgets/controls",
      "model_module_version": "1.5.0",
      "model_name": "FloatProgressModel",
      "state": {
       "_dom_classes": [],
       "_model_module": "@jupyter-widgets/controls",
       "_model_module_version": "1.5.0",
       "_model_name": "FloatProgressModel",
       "_view_count": null,
       "_view_module": "@jupyter-widgets/controls",
       "_view_module_version": "1.5.0",
       "_view_name": "ProgressView",
       "bar_style": "success",
       "description": "",
       "description_tooltip": null,
       "layout": "IPY_MODEL_d5d9117770a74d728c20abb44598dd9d",
       "max": 150.0,
       "min": 0.0,
       "orientation": "horizontal",
       "style": "IPY_MODEL_f02b3cf81cda45fa9774a4b8fbb67fbe",
       "value": 150.0
      }
     },
     "277cee7403f347949594b5effcb660a7": {
      "model_module": "@jupyter-widgets/controls",
      "model_module_version": "1.5.0",
      "model_name": "FloatProgressModel",
      "state": {
       "_dom_classes": [],
       "_model_module": "@jupyter-widgets/controls",
       "_model_module_version": "1.5.0",
       "_model_name": "FloatProgressModel",
       "_view_count": null,
       "_view_module": "@jupyter-widgets/controls",
       "_view_module_version": "1.5.0",
       "_view_name": "ProgressView",
       "bar_style": "success",
       "description": "",
       "description_tooltip": null,
       "layout": "IPY_MODEL_a022f7a2cd0f4db192ad6f485fd376f4",
       "max": 150.0,
       "min": 0.0,
       "orientation": "horizontal",
       "style": "IPY_MODEL_764b4b5228ce41bca196acd025d88e31",
       "value": 150.0
      }
     },
     "28ce8548a138492a9f783498cc07e95b": {
      "model_module": "@jupyter-widgets/controls",
      "model_module_version": "1.5.0",
      "model_name": "ProgressStyleModel",
      "state": {
       "_model_module": "@jupyter-widgets/controls",
       "_model_module_version": "1.5.0",
       "_model_name": "ProgressStyleModel",
       "_view_count": null,
       "_view_module": "@jupyter-widgets/base",
       "_view_module_version": "1.2.0",
       "_view_name": "StyleView",
       "bar_color": null,
       "description_width": ""
      }
     },
     "2a42b3a690bf4425b329c9e773f4b5b2": {
      "model_module": "@jupyter-widgets/base",
      "model_module_version": "1.2.0",
      "model_name": "LayoutModel",
      "state": {
       "_model_module": "@jupyter-widgets/base",
       "_model_module_version": "1.2.0",
       "_model_name": "LayoutModel",
       "_view_count": null,
       "_view_module": "@jupyter-widgets/base",
       "_view_module_version": "1.2.0",
       "_view_name": "LayoutView",
       "align_content": null,
       "align_items": null,
       "align_self": null,
       "border": null,
       "bottom": null,
       "display": null,
       "flex": null,
       "flex_flow": null,
       "grid_area": null,
       "grid_auto_columns": null,
       "grid_auto_flow": null,
       "grid_auto_rows": null,
       "grid_column": null,
       "grid_gap": null,
       "grid_row": null,
       "grid_template_areas": null,
       "grid_template_columns": null,
       "grid_template_rows": null,
       "height": null,
       "justify_content": null,
       "justify_items": null,
       "left": null,
       "margin": null,
       "max_height": null,
       "max_width": null,
       "min_height": null,
       "min_width": null,
       "object_fit": null,
       "object_position": null,
       "order": null,
       "overflow": null,
       "overflow_x": null,
       "overflow_y": null,
       "padding": null,
       "right": null,
       "top": null,
       "visibility": null,
       "width": null
      }
     },
     "2a91d2ed61cb4173b37fd02e28c995e1": {
      "model_module": "@jupyter-widgets/base",
      "model_module_version": "1.2.0",
      "model_name": "LayoutModel",
      "state": {
       "_model_module": "@jupyter-widgets/base",
       "_model_module_version": "1.2.0",
       "_model_name": "LayoutModel",
       "_view_count": null,
       "_view_module": "@jupyter-widgets/base",
       "_view_module_version": "1.2.0",
       "_view_name": "LayoutView",
       "align_content": null,
       "align_items": null,
       "align_self": null,
       "border": null,
       "bottom": null,
       "display": null,
       "flex": null,
       "flex_flow": null,
       "grid_area": null,
       "grid_auto_columns": null,
       "grid_auto_flow": null,
       "grid_auto_rows": null,
       "grid_column": null,
       "grid_gap": null,
       "grid_row": null,
       "grid_template_areas": null,
       "grid_template_columns": null,
       "grid_template_rows": null,
       "height": null,
       "justify_content": null,
       "justify_items": null,
       "left": null,
       "margin": null,
       "max_height": null,
       "max_width": null,
       "min_height": null,
       "min_width": null,
       "object_fit": null,
       "object_position": null,
       "order": null,
       "overflow": null,
       "overflow_x": null,
       "overflow_y": null,
       "padding": null,
       "right": null,
       "top": null,
       "visibility": null,
       "width": null
      }
     },
     "2bb59d99dcba43118ac213902a3c88f1": {
      "model_module": "@jupyter-widgets/base",
      "model_module_version": "1.2.0",
      "model_name": "LayoutModel",
      "state": {
       "_model_module": "@jupyter-widgets/base",
       "_model_module_version": "1.2.0",
       "_model_name": "LayoutModel",
       "_view_count": null,
       "_view_module": "@jupyter-widgets/base",
       "_view_module_version": "1.2.0",
       "_view_name": "LayoutView",
       "align_content": null,
       "align_items": null,
       "align_self": null,
       "border": null,
       "bottom": null,
       "display": null,
       "flex": null,
       "flex_flow": null,
       "grid_area": null,
       "grid_auto_columns": null,
       "grid_auto_flow": null,
       "grid_auto_rows": null,
       "grid_column": null,
       "grid_gap": null,
       "grid_row": null,
       "grid_template_areas": null,
       "grid_template_columns": null,
       "grid_template_rows": null,
       "height": null,
       "justify_content": null,
       "justify_items": null,
       "left": null,
       "margin": null,
       "max_height": null,
       "max_width": null,
       "min_height": null,
       "min_width": null,
       "object_fit": null,
       "object_position": null,
       "order": null,
       "overflow": null,
       "overflow_x": null,
       "overflow_y": null,
       "padding": null,
       "right": null,
       "top": null,
       "visibility": null,
       "width": null
      }
     },
     "2e746a3a7751478eb197c9bf4a7e4492": {
      "model_module": "@jupyter-widgets/controls",
      "model_module_version": "1.5.0",
      "model_name": "HTMLModel",
      "state": {
       "_dom_classes": [],
       "_model_module": "@jupyter-widgets/controls",
       "_model_module_version": "1.5.0",
       "_model_name": "HTMLModel",
       "_view_count": null,
       "_view_module": "@jupyter-widgets/controls",
       "_view_module_version": "1.5.0",
       "_view_name": "HTMLView",
       "description": "",
       "description_tooltip": null,
       "layout": "IPY_MODEL_c66a3c79c7c847bdb5c4e1c7c0dcc308",
       "placeholder": "​",
       "style": "IPY_MODEL_bcdf5d6902d94784a538471c563e0720",
       "value": "100%"
      }
     },
     "3525414cbbfa4e65a7aba827fd89ec8f": {
      "model_module": "@jupyter-widgets/controls",
      "model_module_version": "1.5.0",
      "model_name": "HTMLModel",
      "state": {
       "_dom_classes": [],
       "_model_module": "@jupyter-widgets/controls",
       "_model_module_version": "1.5.0",
       "_model_name": "HTMLModel",
       "_view_count": null,
       "_view_module": "@jupyter-widgets/controls",
       "_view_module_version": "1.5.0",
       "_view_name": "HTMLView",
       "description": "",
       "description_tooltip": null,
       "layout": "IPY_MODEL_0866ea040bd1489c8d9a1c6445de3316",
       "placeholder": "​",
       "style": "IPY_MODEL_57ce1e9c81d44065baa4684e1107856f",
       "value": " 150/150 [00:07&lt;00:00, 20.90it/s]"
      }
     },
     "3553012f70414531ba844251549a7efb": {
      "model_module": "@jupyter-widgets/controls",
      "model_module_version": "1.5.0",
      "model_name": "HTMLModel",
      "state": {
       "_dom_classes": [],
       "_model_module": "@jupyter-widgets/controls",
       "_model_module_version": "1.5.0",
       "_model_name": "HTMLModel",
       "_view_count": null,
       "_view_module": "@jupyter-widgets/controls",
       "_view_module_version": "1.5.0",
       "_view_name": "HTMLView",
       "description": "",
       "description_tooltip": null,
       "layout": "IPY_MODEL_b2295e650a0c458a816d858df55cb980",
       "placeholder": "​",
       "style": "IPY_MODEL_ff847d4d651f45378df3c8f60afa4d29",
       "value": " 150/150 [00:06&lt;00:00, 20.41it/s]"
      }
     },
     "35b4fef4b07947839d4f76928d216edd": {
      "model_module": "@jupyter-widgets/controls",
      "model_module_version": "1.5.0",
      "model_name": "DescriptionStyleModel",
      "state": {
       "_model_module": "@jupyter-widgets/controls",
       "_model_module_version": "1.5.0",
       "_model_name": "DescriptionStyleModel",
       "_view_count": null,
       "_view_module": "@jupyter-widgets/base",
       "_view_module_version": "1.2.0",
       "_view_name": "StyleView",
       "description_width": ""
      }
     },
     "3df800ea140b45dc8352bf8a3f7e5283": {
      "model_module": "@jupyter-widgets/controls",
      "model_module_version": "1.5.0",
      "model_name": "HBoxModel",
      "state": {
       "_dom_classes": [],
       "_model_module": "@jupyter-widgets/controls",
       "_model_module_version": "1.5.0",
       "_model_name": "HBoxModel",
       "_view_count": null,
       "_view_module": "@jupyter-widgets/controls",
       "_view_module_version": "1.5.0",
       "_view_name": "HBoxView",
       "box_style": "",
       "children": [
        "IPY_MODEL_fdf15dc2efcb4552b8c6445521f303e3",
        "IPY_MODEL_21a40f14a5d1412f8ef8f50027ef04b1",
        "IPY_MODEL_d69b953de7ca4b19bef4d908627cb20b"
       ],
       "layout": "IPY_MODEL_aa41b43e835a44c6ae9b51ab71c1f7cc"
      }
     },
     "3eec52e7dd5245c996acbe22ce833351": {
      "model_module": "@jupyter-widgets/controls",
      "model_module_version": "1.5.0",
      "model_name": "HBoxModel",
      "state": {
       "_dom_classes": [],
       "_model_module": "@jupyter-widgets/controls",
       "_model_module_version": "1.5.0",
       "_model_name": "HBoxModel",
       "_view_count": null,
       "_view_module": "@jupyter-widgets/controls",
       "_view_module_version": "1.5.0",
       "_view_name": "HBoxView",
       "box_style": "",
       "children": [
        "IPY_MODEL_caef6d27c58c4c4e924243753ad6040a",
        "IPY_MODEL_ec8bb87f89b94caf96fb9f0a790eeb1a",
        "IPY_MODEL_d3e62cedee0a4f52b3c84f26f9be6632"
       ],
       "layout": "IPY_MODEL_5287b74b3f854357819153d30c30eada"
      }
     },
     "4322c5c024014824a82822f33c302aef": {
      "model_module": "@jupyter-widgets/controls",
      "model_module_version": "1.5.0",
      "model_name": "DescriptionStyleModel",
      "state": {
       "_model_module": "@jupyter-widgets/controls",
       "_model_module_version": "1.5.0",
       "_model_name": "DescriptionStyleModel",
       "_view_count": null,
       "_view_module": "@jupyter-widgets/base",
       "_view_module_version": "1.2.0",
       "_view_name": "StyleView",
       "description_width": ""
      }
     },
     "46c3e4fcb5214b3b8988c11ea46abaae": {
      "model_module": "@jupyter-widgets/base",
      "model_module_version": "1.2.0",
      "model_name": "LayoutModel",
      "state": {
       "_model_module": "@jupyter-widgets/base",
       "_model_module_version": "1.2.0",
       "_model_name": "LayoutModel",
       "_view_count": null,
       "_view_module": "@jupyter-widgets/base",
       "_view_module_version": "1.2.0",
       "_view_name": "LayoutView",
       "align_content": null,
       "align_items": null,
       "align_self": null,
       "border": null,
       "bottom": null,
       "display": null,
       "flex": null,
       "flex_flow": null,
       "grid_area": null,
       "grid_auto_columns": null,
       "grid_auto_flow": null,
       "grid_auto_rows": null,
       "grid_column": null,
       "grid_gap": null,
       "grid_row": null,
       "grid_template_areas": null,
       "grid_template_columns": null,
       "grid_template_rows": null,
       "height": null,
       "justify_content": null,
       "justify_items": null,
       "left": null,
       "margin": null,
       "max_height": null,
       "max_width": null,
       "min_height": null,
       "min_width": null,
       "object_fit": null,
       "object_position": null,
       "order": null,
       "overflow": null,
       "overflow_x": null,
       "overflow_y": null,
       "padding": null,
       "right": null,
       "top": null,
       "visibility": null,
       "width": null
      }
     },
     "5287b74b3f854357819153d30c30eada": {
      "model_module": "@jupyter-widgets/base",
      "model_module_version": "1.2.0",
      "model_name": "LayoutModel",
      "state": {
       "_model_module": "@jupyter-widgets/base",
       "_model_module_version": "1.2.0",
       "_model_name": "LayoutModel",
       "_view_count": null,
       "_view_module": "@jupyter-widgets/base",
       "_view_module_version": "1.2.0",
       "_view_name": "LayoutView",
       "align_content": null,
       "align_items": null,
       "align_self": null,
       "border": null,
       "bottom": null,
       "display": null,
       "flex": null,
       "flex_flow": null,
       "grid_area": null,
       "grid_auto_columns": null,
       "grid_auto_flow": null,
       "grid_auto_rows": null,
       "grid_column": null,
       "grid_gap": null,
       "grid_row": null,
       "grid_template_areas": null,
       "grid_template_columns": null,
       "grid_template_rows": null,
       "height": null,
       "justify_content": null,
       "justify_items": null,
       "left": null,
       "margin": null,
       "max_height": null,
       "max_width": null,
       "min_height": null,
       "min_width": null,
       "object_fit": null,
       "object_position": null,
       "order": null,
       "overflow": null,
       "overflow_x": null,
       "overflow_y": null,
       "padding": null,
       "right": null,
       "top": null,
       "visibility": null,
       "width": null
      }
     },
     "540e5897ebc343f8a2c973f7a335466f": {
      "model_module": "@jupyter-widgets/controls",
      "model_module_version": "1.5.0",
      "model_name": "HBoxModel",
      "state": {
       "_dom_classes": [],
       "_model_module": "@jupyter-widgets/controls",
       "_model_module_version": "1.5.0",
       "_model_name": "HBoxModel",
       "_view_count": null,
       "_view_module": "@jupyter-widgets/controls",
       "_view_module_version": "1.5.0",
       "_view_name": "HBoxView",
       "box_style": "",
       "children": [
        "IPY_MODEL_2e746a3a7751478eb197c9bf4a7e4492",
        "IPY_MODEL_277cee7403f347949594b5effcb660a7",
        "IPY_MODEL_3553012f70414531ba844251549a7efb"
       ],
       "layout": "IPY_MODEL_6ea6d195f8644bf6a79540fea47568a9"
      }
     },
     "555323f7a76a4eb592e3d81c95143231": {
      "model_module": "@jupyter-widgets/controls",
      "model_module_version": "1.5.0",
      "model_name": "DescriptionStyleModel",
      "state": {
       "_model_module": "@jupyter-widgets/controls",
       "_model_module_version": "1.5.0",
       "_model_name": "DescriptionStyleModel",
       "_view_count": null,
       "_view_module": "@jupyter-widgets/base",
       "_view_module_version": "1.2.0",
       "_view_name": "StyleView",
       "description_width": ""
      }
     },
     "57ce1e9c81d44065baa4684e1107856f": {
      "model_module": "@jupyter-widgets/controls",
      "model_module_version": "1.5.0",
      "model_name": "DescriptionStyleModel",
      "state": {
       "_model_module": "@jupyter-widgets/controls",
       "_model_module_version": "1.5.0",
       "_model_name": "DescriptionStyleModel",
       "_view_count": null,
       "_view_module": "@jupyter-widgets/base",
       "_view_module_version": "1.2.0",
       "_view_name": "StyleView",
       "description_width": ""
      }
     },
     "5f33260786bd4e15a5a5f20009fb3781": {
      "model_module": "@jupyter-widgets/controls",
      "model_module_version": "1.5.0",
      "model_name": "FloatProgressModel",
      "state": {
       "_dom_classes": [],
       "_model_module": "@jupyter-widgets/controls",
       "_model_module_version": "1.5.0",
       "_model_name": "FloatProgressModel",
       "_view_count": null,
       "_view_module": "@jupyter-widgets/controls",
       "_view_module_version": "1.5.0",
       "_view_name": "ProgressView",
       "bar_style": "success",
       "description": "",
       "description_tooltip": null,
       "layout": "IPY_MODEL_1b06d48b3fed43449d31c5357162c75e",
       "max": 150.0,
       "min": 0.0,
       "orientation": "horizontal",
       "style": "IPY_MODEL_9bed8ecfc1a54fdbaa82ea9dd0447ec1",
       "value": 150.0
      }
     },
     "6047af440af54690a8cbfeba75d9d1cc": {
      "model_module": "@jupyter-widgets/controls",
      "model_module_version": "1.5.0",
      "model_name": "HBoxModel",
      "state": {
       "_dom_classes": [],
       "_model_module": "@jupyter-widgets/controls",
       "_model_module_version": "1.5.0",
       "_model_name": "HBoxModel",
       "_view_count": null,
       "_view_module": "@jupyter-widgets/controls",
       "_view_module_version": "1.5.0",
       "_view_name": "HBoxView",
       "box_style": "",
       "children": [
        "IPY_MODEL_dbb045cd81104ed889e4366ca2060be0",
        "IPY_MODEL_9042a8b6f36440b19de2a40e2f016d10",
        "IPY_MODEL_16cc196982e849f7a46975c79880ec95"
       ],
       "layout": "IPY_MODEL_0412e1a522c343d681c900c7cc75f8b4"
      }
     },
     "6ea6d195f8644bf6a79540fea47568a9": {
      "model_module": "@jupyter-widgets/base",
      "model_module_version": "1.2.0",
      "model_name": "LayoutModel",
      "state": {
       "_model_module": "@jupyter-widgets/base",
       "_model_module_version": "1.2.0",
       "_model_name": "LayoutModel",
       "_view_count": null,
       "_view_module": "@jupyter-widgets/base",
       "_view_module_version": "1.2.0",
       "_view_name": "LayoutView",
       "align_content": null,
       "align_items": null,
       "align_self": null,
       "border": null,
       "bottom": null,
       "display": null,
       "flex": null,
       "flex_flow": null,
       "grid_area": null,
       "grid_auto_columns": null,
       "grid_auto_flow": null,
       "grid_auto_rows": null,
       "grid_column": null,
       "grid_gap": null,
       "grid_row": null,
       "grid_template_areas": null,
       "grid_template_columns": null,
       "grid_template_rows": null,
       "height": null,
       "justify_content": null,
       "justify_items": null,
       "left": null,
       "margin": null,
       "max_height": null,
       "max_width": null,
       "min_height": null,
       "min_width": null,
       "object_fit": null,
       "object_position": null,
       "order": null,
       "overflow": null,
       "overflow_x": null,
       "overflow_y": null,
       "padding": null,
       "right": null,
       "top": null,
       "visibility": null,
       "width": null
      }
     },
     "72dc6c49c74546bf8b5af92bb9d9e187": {
      "model_module": "@jupyter-widgets/controls",
      "model_module_version": "1.5.0",
      "model_name": "DescriptionStyleModel",
      "state": {
       "_model_module": "@jupyter-widgets/controls",
       "_model_module_version": "1.5.0",
       "_model_name": "DescriptionStyleModel",
       "_view_count": null,
       "_view_module": "@jupyter-widgets/base",
       "_view_module_version": "1.2.0",
       "_view_name": "StyleView",
       "description_width": ""
      }
     },
     "764b4b5228ce41bca196acd025d88e31": {
      "model_module": "@jupyter-widgets/controls",
      "model_module_version": "1.5.0",
      "model_name": "ProgressStyleModel",
      "state": {
       "_model_module": "@jupyter-widgets/controls",
       "_model_module_version": "1.5.0",
       "_model_name": "ProgressStyleModel",
       "_view_count": null,
       "_view_module": "@jupyter-widgets/base",
       "_view_module_version": "1.2.0",
       "_view_name": "StyleView",
       "bar_color": null,
       "description_width": ""
      }
     },
     "76e46e9275f64fdf94d364b14a473eb4": {
      "model_module": "@jupyter-widgets/base",
      "model_module_version": "1.2.0",
      "model_name": "LayoutModel",
      "state": {
       "_model_module": "@jupyter-widgets/base",
       "_model_module_version": "1.2.0",
       "_model_name": "LayoutModel",
       "_view_count": null,
       "_view_module": "@jupyter-widgets/base",
       "_view_module_version": "1.2.0",
       "_view_name": "LayoutView",
       "align_content": null,
       "align_items": null,
       "align_self": null,
       "border": null,
       "bottom": null,
       "display": null,
       "flex": null,
       "flex_flow": null,
       "grid_area": null,
       "grid_auto_columns": null,
       "grid_auto_flow": null,
       "grid_auto_rows": null,
       "grid_column": null,
       "grid_gap": null,
       "grid_row": null,
       "grid_template_areas": null,
       "grid_template_columns": null,
       "grid_template_rows": null,
       "height": null,
       "justify_content": null,
       "justify_items": null,
       "left": null,
       "margin": null,
       "max_height": null,
       "max_width": null,
       "min_height": null,
       "min_width": null,
       "object_fit": null,
       "object_position": null,
       "order": null,
       "overflow": null,
       "overflow_x": null,
       "overflow_y": null,
       "padding": null,
       "right": null,
       "top": null,
       "visibility": null,
       "width": null
      }
     },
     "7740b1a505d7418daa01378850563801": {
      "model_module": "@jupyter-widgets/base",
      "model_module_version": "1.2.0",
      "model_name": "LayoutModel",
      "state": {
       "_model_module": "@jupyter-widgets/base",
       "_model_module_version": "1.2.0",
       "_model_name": "LayoutModel",
       "_view_count": null,
       "_view_module": "@jupyter-widgets/base",
       "_view_module_version": "1.2.0",
       "_view_name": "LayoutView",
       "align_content": null,
       "align_items": null,
       "align_self": null,
       "border": null,
       "bottom": null,
       "display": null,
       "flex": null,
       "flex_flow": null,
       "grid_area": null,
       "grid_auto_columns": null,
       "grid_auto_flow": null,
       "grid_auto_rows": null,
       "grid_column": null,
       "grid_gap": null,
       "grid_row": null,
       "grid_template_areas": null,
       "grid_template_columns": null,
       "grid_template_rows": null,
       "height": null,
       "justify_content": null,
       "justify_items": null,
       "left": null,
       "margin": null,
       "max_height": null,
       "max_width": null,
       "min_height": null,
       "min_width": null,
       "object_fit": null,
       "object_position": null,
       "order": null,
       "overflow": null,
       "overflow_x": null,
       "overflow_y": null,
       "padding": null,
       "right": null,
       "top": null,
       "visibility": null,
       "width": null
      }
     },
     "7c2a72d706d8414fa1850e3c96acaff8": {
      "model_module": "@jupyter-widgets/controls",
      "model_module_version": "1.5.0",
      "model_name": "DescriptionStyleModel",
      "state": {
       "_model_module": "@jupyter-widgets/controls",
       "_model_module_version": "1.5.0",
       "_model_name": "DescriptionStyleModel",
       "_view_count": null,
       "_view_module": "@jupyter-widgets/base",
       "_view_module_version": "1.2.0",
       "_view_name": "StyleView",
       "description_width": ""
      }
     },
     "7f4dd882d1704aabb1d3d9541cee29f4": {
      "model_module": "@jupyter-widgets/controls",
      "model_module_version": "1.5.0",
      "model_name": "ProgressStyleModel",
      "state": {
       "_model_module": "@jupyter-widgets/controls",
       "_model_module_version": "1.5.0",
       "_model_name": "ProgressStyleModel",
       "_view_count": null,
       "_view_module": "@jupyter-widgets/base",
       "_view_module_version": "1.2.0",
       "_view_name": "StyleView",
       "bar_color": null,
       "description_width": ""
      }
     },
     "7fc3da9e3b7745869043f6ed50563cf1": {
      "model_module": "@jupyter-widgets/base",
      "model_module_version": "1.2.0",
      "model_name": "LayoutModel",
      "state": {
       "_model_module": "@jupyter-widgets/base",
       "_model_module_version": "1.2.0",
       "_model_name": "LayoutModel",
       "_view_count": null,
       "_view_module": "@jupyter-widgets/base",
       "_view_module_version": "1.2.0",
       "_view_name": "LayoutView",
       "align_content": null,
       "align_items": null,
       "align_self": null,
       "border": null,
       "bottom": null,
       "display": null,
       "flex": null,
       "flex_flow": null,
       "grid_area": null,
       "grid_auto_columns": null,
       "grid_auto_flow": null,
       "grid_auto_rows": null,
       "grid_column": null,
       "grid_gap": null,
       "grid_row": null,
       "grid_template_areas": null,
       "grid_template_columns": null,
       "grid_template_rows": null,
       "height": null,
       "justify_content": null,
       "justify_items": null,
       "left": null,
       "margin": null,
       "max_height": null,
       "max_width": null,
       "min_height": null,
       "min_width": null,
       "object_fit": null,
       "object_position": null,
       "order": null,
       "overflow": null,
       "overflow_x": null,
       "overflow_y": null,
       "padding": null,
       "right": null,
       "top": null,
       "visibility": null,
       "width": null
      }
     },
     "8665f5e563d94fee970548c8e4673c18": {
      "model_module": "@jupyter-widgets/controls",
      "model_module_version": "1.5.0",
      "model_name": "HTMLModel",
      "state": {
       "_dom_classes": [],
       "_model_module": "@jupyter-widgets/controls",
       "_model_module_version": "1.5.0",
       "_model_name": "HTMLModel",
       "_view_count": null,
       "_view_module": "@jupyter-widgets/controls",
       "_view_module_version": "1.5.0",
       "_view_name": "HTMLView",
       "description": "",
       "description_tooltip": null,
       "layout": "IPY_MODEL_cfa6ea9c2c76434aa1e0ba1da453090c",
       "placeholder": "​",
       "style": "IPY_MODEL_1f2655a844b143968a2f81358b2f4bb0",
       "value": "100%"
      }
     },
     "8c40e89273414047b17aa661da65dc8a": {
      "model_module": "@jupyter-widgets/controls",
      "model_module_version": "1.5.0",
      "model_name": "ProgressStyleModel",
      "state": {
       "_model_module": "@jupyter-widgets/controls",
       "_model_module_version": "1.5.0",
       "_model_name": "ProgressStyleModel",
       "_view_count": null,
       "_view_module": "@jupyter-widgets/base",
       "_view_module_version": "1.2.0",
       "_view_name": "StyleView",
       "bar_color": null,
       "description_width": ""
      }
     },
     "8de8e2a72158499eafbac124a22745e1": {
      "model_module": "@jupyter-widgets/controls",
      "model_module_version": "1.5.0",
      "model_name": "HBoxModel",
      "state": {
       "_dom_classes": [],
       "_model_module": "@jupyter-widgets/controls",
       "_model_module_version": "1.5.0",
       "_model_name": "HBoxModel",
       "_view_count": null,
       "_view_module": "@jupyter-widgets/controls",
       "_view_module_version": "1.5.0",
       "_view_name": "HBoxView",
       "box_style": "",
       "children": [
        "IPY_MODEL_eb03a247d2d648de81a2a23770a2bd37",
        "IPY_MODEL_b10128cda6d644df922547767e669b36",
        "IPY_MODEL_f6b7050fc31644c6bf787bb8483e1a84"
       ],
       "layout": "IPY_MODEL_a77972a2e87640c7b6bdf4e18023f1ca"
      }
     },
     "9042a8b6f36440b19de2a40e2f016d10": {
      "model_module": "@jupyter-widgets/controls",
      "model_module_version": "1.5.0",
      "model_name": "FloatProgressModel",
      "state": {
       "_dom_classes": [],
       "_model_module": "@jupyter-widgets/controls",
       "_model_module_version": "1.5.0",
       "_model_name": "FloatProgressModel",
       "_view_count": null,
       "_view_module": "@jupyter-widgets/controls",
       "_view_module_version": "1.5.0",
       "_view_name": "ProgressView",
       "bar_style": "success",
       "description": "",
       "description_tooltip": null,
       "layout": "IPY_MODEL_76e46e9275f64fdf94d364b14a473eb4",
       "max": 100.0,
       "min": 0.0,
       "orientation": "horizontal",
       "style": "IPY_MODEL_8c40e89273414047b17aa661da65dc8a",
       "value": 100.0
      }
     },
     "927f95ef38034f0c9cbe912d3100de61": {
      "model_module": "@jupyter-widgets/base",
      "model_module_version": "1.2.0",
      "model_name": "LayoutModel",
      "state": {
       "_model_module": "@jupyter-widgets/base",
       "_model_module_version": "1.2.0",
       "_model_name": "LayoutModel",
       "_view_count": null,
       "_view_module": "@jupyter-widgets/base",
       "_view_module_version": "1.2.0",
       "_view_name": "LayoutView",
       "align_content": null,
       "align_items": null,
       "align_self": null,
       "border": null,
       "bottom": null,
       "display": null,
       "flex": null,
       "flex_flow": null,
       "grid_area": null,
       "grid_auto_columns": null,
       "grid_auto_flow": null,
       "grid_auto_rows": null,
       "grid_column": null,
       "grid_gap": null,
       "grid_row": null,
       "grid_template_areas": null,
       "grid_template_columns": null,
       "grid_template_rows": null,
       "height": null,
       "justify_content": null,
       "justify_items": null,
       "left": null,
       "margin": null,
       "max_height": null,
       "max_width": null,
       "min_height": null,
       "min_width": null,
       "object_fit": null,
       "object_position": null,
       "order": null,
       "overflow": null,
       "overflow_x": null,
       "overflow_y": null,
       "padding": null,
       "right": null,
       "top": null,
       "visibility": null,
       "width": null
      }
     },
     "9b1909a1bfef466686e521c82cb22082": {
      "model_module": "@jupyter-widgets/controls",
      "model_module_version": "1.5.0",
      "model_name": "ProgressStyleModel",
      "state": {
       "_model_module": "@jupyter-widgets/controls",
       "_model_module_version": "1.5.0",
       "_model_name": "ProgressStyleModel",
       "_view_count": null,
       "_view_module": "@jupyter-widgets/base",
       "_view_module_version": "1.2.0",
       "_view_name": "StyleView",
       "bar_color": null,
       "description_width": ""
      }
     },
     "9bed8ecfc1a54fdbaa82ea9dd0447ec1": {
      "model_module": "@jupyter-widgets/controls",
      "model_module_version": "1.5.0",
      "model_name": "ProgressStyleModel",
      "state": {
       "_model_module": "@jupyter-widgets/controls",
       "_model_module_version": "1.5.0",
       "_model_name": "ProgressStyleModel",
       "_view_count": null,
       "_view_module": "@jupyter-widgets/base",
       "_view_module_version": "1.2.0",
       "_view_name": "StyleView",
       "bar_color": null,
       "description_width": ""
      }
     },
     "a022f7a2cd0f4db192ad6f485fd376f4": {
      "model_module": "@jupyter-widgets/base",
      "model_module_version": "1.2.0",
      "model_name": "LayoutModel",
      "state": {
       "_model_module": "@jupyter-widgets/base",
       "_model_module_version": "1.2.0",
       "_model_name": "LayoutModel",
       "_view_count": null,
       "_view_module": "@jupyter-widgets/base",
       "_view_module_version": "1.2.0",
       "_view_name": "LayoutView",
       "align_content": null,
       "align_items": null,
       "align_self": null,
       "border": null,
       "bottom": null,
       "display": null,
       "flex": null,
       "flex_flow": null,
       "grid_area": null,
       "grid_auto_columns": null,
       "grid_auto_flow": null,
       "grid_auto_rows": null,
       "grid_column": null,
       "grid_gap": null,
       "grid_row": null,
       "grid_template_areas": null,
       "grid_template_columns": null,
       "grid_template_rows": null,
       "height": null,
       "justify_content": null,
       "justify_items": null,
       "left": null,
       "margin": null,
       "max_height": null,
       "max_width": null,
       "min_height": null,
       "min_width": null,
       "object_fit": null,
       "object_position": null,
       "order": null,
       "overflow": null,
       "overflow_x": null,
       "overflow_y": null,
       "padding": null,
       "right": null,
       "top": null,
       "visibility": null,
       "width": null
      }
     },
     "a09c0564cd33414e98099ea122cbf5a3": {
      "model_module": "@jupyter-widgets/controls",
      "model_module_version": "1.5.0",
      "model_name": "HBoxModel",
      "state": {
       "_dom_classes": [],
       "_model_module": "@jupyter-widgets/controls",
       "_model_module_version": "1.5.0",
       "_model_name": "HBoxModel",
       "_view_count": null,
       "_view_module": "@jupyter-widgets/controls",
       "_view_module_version": "1.5.0",
       "_view_name": "HBoxView",
       "box_style": "",
       "children": [
        "IPY_MODEL_8665f5e563d94fee970548c8e4673c18",
        "IPY_MODEL_5f33260786bd4e15a5a5f20009fb3781",
        "IPY_MODEL_3525414cbbfa4e65a7aba827fd89ec8f"
       ],
       "layout": "IPY_MODEL_a32d56e59ec9429e95ffad90122e4e29"
      }
     },
     "a32d56e59ec9429e95ffad90122e4e29": {
      "model_module": "@jupyter-widgets/base",
      "model_module_version": "1.2.0",
      "model_name": "LayoutModel",
      "state": {
       "_model_module": "@jupyter-widgets/base",
       "_model_module_version": "1.2.0",
       "_model_name": "LayoutModel",
       "_view_count": null,
       "_view_module": "@jupyter-widgets/base",
       "_view_module_version": "1.2.0",
       "_view_name": "LayoutView",
       "align_content": null,
       "align_items": null,
       "align_self": null,
       "border": null,
       "bottom": null,
       "display": null,
       "flex": null,
       "flex_flow": null,
       "grid_area": null,
       "grid_auto_columns": null,
       "grid_auto_flow": null,
       "grid_auto_rows": null,
       "grid_column": null,
       "grid_gap": null,
       "grid_row": null,
       "grid_template_areas": null,
       "grid_template_columns": null,
       "grid_template_rows": null,
       "height": null,
       "justify_content": null,
       "justify_items": null,
       "left": null,
       "margin": null,
       "max_height": null,
       "max_width": null,
       "min_height": null,
       "min_width": null,
       "object_fit": null,
       "object_position": null,
       "order": null,
       "overflow": null,
       "overflow_x": null,
       "overflow_y": null,
       "padding": null,
       "right": null,
       "top": null,
       "visibility": null,
       "width": null
      }
     },
     "a4be8589cada4024a4167db94f5e9487": {
      "model_module": "@jupyter-widgets/controls",
      "model_module_version": "1.5.0",
      "model_name": "FloatProgressModel",
      "state": {
       "_dom_classes": [],
       "_model_module": "@jupyter-widgets/controls",
       "_model_module_version": "1.5.0",
       "_model_name": "FloatProgressModel",
       "_view_count": null,
       "_view_module": "@jupyter-widgets/controls",
       "_view_module_version": "1.5.0",
       "_view_name": "ProgressView",
       "bar_style": "success",
       "description": "",
       "description_tooltip": null,
       "layout": "IPY_MODEL_137ad0cfd088483c9ea8ab816e975c50",
       "max": 150.0,
       "min": 0.0,
       "orientation": "horizontal",
       "style": "IPY_MODEL_9b1909a1bfef466686e521c82cb22082",
       "value": 150.0
      }
     },
     "a77972a2e87640c7b6bdf4e18023f1ca": {
      "model_module": "@jupyter-widgets/base",
      "model_module_version": "1.2.0",
      "model_name": "LayoutModel",
      "state": {
       "_model_module": "@jupyter-widgets/base",
       "_model_module_version": "1.2.0",
       "_model_name": "LayoutModel",
       "_view_count": null,
       "_view_module": "@jupyter-widgets/base",
       "_view_module_version": "1.2.0",
       "_view_name": "LayoutView",
       "align_content": null,
       "align_items": null,
       "align_self": null,
       "border": null,
       "bottom": null,
       "display": null,
       "flex": null,
       "flex_flow": null,
       "grid_area": null,
       "grid_auto_columns": null,
       "grid_auto_flow": null,
       "grid_auto_rows": null,
       "grid_column": null,
       "grid_gap": null,
       "grid_row": null,
       "grid_template_areas": null,
       "grid_template_columns": null,
       "grid_template_rows": null,
       "height": null,
       "justify_content": null,
       "justify_items": null,
       "left": null,
       "margin": null,
       "max_height": null,
       "max_width": null,
       "min_height": null,
       "min_width": null,
       "object_fit": null,
       "object_position": null,
       "order": null,
       "overflow": null,
       "overflow_x": null,
       "overflow_y": null,
       "padding": null,
       "right": null,
       "top": null,
       "visibility": null,
       "width": null
      }
     },
     "aa41b43e835a44c6ae9b51ab71c1f7cc": {
      "model_module": "@jupyter-widgets/base",
      "model_module_version": "1.2.0",
      "model_name": "LayoutModel",
      "state": {
       "_model_module": "@jupyter-widgets/base",
       "_model_module_version": "1.2.0",
       "_model_name": "LayoutModel",
       "_view_count": null,
       "_view_module": "@jupyter-widgets/base",
       "_view_module_version": "1.2.0",
       "_view_name": "LayoutView",
       "align_content": null,
       "align_items": null,
       "align_self": null,
       "border": null,
       "bottom": null,
       "display": null,
       "flex": null,
       "flex_flow": null,
       "grid_area": null,
       "grid_auto_columns": null,
       "grid_auto_flow": null,
       "grid_auto_rows": null,
       "grid_column": null,
       "grid_gap": null,
       "grid_row": null,
       "grid_template_areas": null,
       "grid_template_columns": null,
       "grid_template_rows": null,
       "height": null,
       "justify_content": null,
       "justify_items": null,
       "left": null,
       "margin": null,
       "max_height": null,
       "max_width": null,
       "min_height": null,
       "min_width": null,
       "object_fit": null,
       "object_position": null,
       "order": null,
       "overflow": null,
       "overflow_x": null,
       "overflow_y": null,
       "padding": null,
       "right": null,
       "top": null,
       "visibility": null,
       "width": null
      }
     },
     "b03d900d262f4699ac9598511dafea3f": {
      "model_module": "@jupyter-widgets/base",
      "model_module_version": "1.2.0",
      "model_name": "LayoutModel",
      "state": {
       "_model_module": "@jupyter-widgets/base",
       "_model_module_version": "1.2.0",
       "_model_name": "LayoutModel",
       "_view_count": null,
       "_view_module": "@jupyter-widgets/base",
       "_view_module_version": "1.2.0",
       "_view_name": "LayoutView",
       "align_content": null,
       "align_items": null,
       "align_self": null,
       "border": null,
       "bottom": null,
       "display": null,
       "flex": null,
       "flex_flow": null,
       "grid_area": null,
       "grid_auto_columns": null,
       "grid_auto_flow": null,
       "grid_auto_rows": null,
       "grid_column": null,
       "grid_gap": null,
       "grid_row": null,
       "grid_template_areas": null,
       "grid_template_columns": null,
       "grid_template_rows": null,
       "height": null,
       "justify_content": null,
       "justify_items": null,
       "left": null,
       "margin": null,
       "max_height": null,
       "max_width": null,
       "min_height": null,
       "min_width": null,
       "object_fit": null,
       "object_position": null,
       "order": null,
       "overflow": null,
       "overflow_x": null,
       "overflow_y": null,
       "padding": null,
       "right": null,
       "top": null,
       "visibility": null,
       "width": null
      }
     },
     "b10128cda6d644df922547767e669b36": {
      "model_module": "@jupyter-widgets/controls",
      "model_module_version": "1.5.0",
      "model_name": "FloatProgressModel",
      "state": {
       "_dom_classes": [],
       "_model_module": "@jupyter-widgets/controls",
       "_model_module_version": "1.5.0",
       "_model_name": "FloatProgressModel",
       "_view_count": null,
       "_view_module": "@jupyter-widgets/controls",
       "_view_module_version": "1.5.0",
       "_view_name": "ProgressView",
       "bar_style": "success",
       "description": "",
       "description_tooltip": null,
       "layout": "IPY_MODEL_46c3e4fcb5214b3b8988c11ea46abaae",
       "max": 150.0,
       "min": 0.0,
       "orientation": "horizontal",
       "style": "IPY_MODEL_28ce8548a138492a9f783498cc07e95b",
       "value": 150.0
      }
     },
     "b2295e650a0c458a816d858df55cb980": {
      "model_module": "@jupyter-widgets/base",
      "model_module_version": "1.2.0",
      "model_name": "LayoutModel",
      "state": {
       "_model_module": "@jupyter-widgets/base",
       "_model_module_version": "1.2.0",
       "_model_name": "LayoutModel",
       "_view_count": null,
       "_view_module": "@jupyter-widgets/base",
       "_view_module_version": "1.2.0",
       "_view_name": "LayoutView",
       "align_content": null,
       "align_items": null,
       "align_self": null,
       "border": null,
       "bottom": null,
       "display": null,
       "flex": null,
       "flex_flow": null,
       "grid_area": null,
       "grid_auto_columns": null,
       "grid_auto_flow": null,
       "grid_auto_rows": null,
       "grid_column": null,
       "grid_gap": null,
       "grid_row": null,
       "grid_template_areas": null,
       "grid_template_columns": null,
       "grid_template_rows": null,
       "height": null,
       "justify_content": null,
       "justify_items": null,
       "left": null,
       "margin": null,
       "max_height": null,
       "max_width": null,
       "min_height": null,
       "min_width": null,
       "object_fit": null,
       "object_position": null,
       "order": null,
       "overflow": null,
       "overflow_x": null,
       "overflow_y": null,
       "padding": null,
       "right": null,
       "top": null,
       "visibility": null,
       "width": null
      }
     },
     "b2483b975337424f911d70cddc5f619f": {
      "model_module": "@jupyter-widgets/base",
      "model_module_version": "1.2.0",
      "model_name": "LayoutModel",
      "state": {
       "_model_module": "@jupyter-widgets/base",
       "_model_module_version": "1.2.0",
       "_model_name": "LayoutModel",
       "_view_count": null,
       "_view_module": "@jupyter-widgets/base",
       "_view_module_version": "1.2.0",
       "_view_name": "LayoutView",
       "align_content": null,
       "align_items": null,
       "align_self": null,
       "border": null,
       "bottom": null,
       "display": null,
       "flex": null,
       "flex_flow": null,
       "grid_area": null,
       "grid_auto_columns": null,
       "grid_auto_flow": null,
       "grid_auto_rows": null,
       "grid_column": null,
       "grid_gap": null,
       "grid_row": null,
       "grid_template_areas": null,
       "grid_template_columns": null,
       "grid_template_rows": null,
       "height": null,
       "justify_content": null,
       "justify_items": null,
       "left": null,
       "margin": null,
       "max_height": null,
       "max_width": null,
       "min_height": null,
       "min_width": null,
       "object_fit": null,
       "object_position": null,
       "order": null,
       "overflow": null,
       "overflow_x": null,
       "overflow_y": null,
       "padding": null,
       "right": null,
       "top": null,
       "visibility": null,
       "width": null
      }
     },
     "b823fb16857248cf88b6d02891ebe384": {
      "model_module": "@jupyter-widgets/controls",
      "model_module_version": "1.5.0",
      "model_name": "HTMLModel",
      "state": {
       "_dom_classes": [],
       "_model_module": "@jupyter-widgets/controls",
       "_model_module_version": "1.5.0",
       "_model_name": "HTMLModel",
       "_view_count": null,
       "_view_module": "@jupyter-widgets/controls",
       "_view_module_version": "1.5.0",
       "_view_name": "HTMLView",
       "description": "",
       "description_tooltip": null,
       "layout": "IPY_MODEL_927f95ef38034f0c9cbe912d3100de61",
       "placeholder": "​",
       "style": "IPY_MODEL_4322c5c024014824a82822f33c302aef",
       "value": " 150/150 [08:46&lt;00:00,  4.00s/it]"
      }
     },
     "bcdf5d6902d94784a538471c563e0720": {
      "model_module": "@jupyter-widgets/controls",
      "model_module_version": "1.5.0",
      "model_name": "DescriptionStyleModel",
      "state": {
       "_model_module": "@jupyter-widgets/controls",
       "_model_module_version": "1.5.0",
       "_model_name": "DescriptionStyleModel",
       "_view_count": null,
       "_view_module": "@jupyter-widgets/base",
       "_view_module_version": "1.2.0",
       "_view_name": "StyleView",
       "description_width": ""
      }
     },
     "bff1f5b487b84b429cd5963606150ed3": {
      "model_module": "@jupyter-widgets/controls",
      "model_module_version": "1.5.0",
      "model_name": "HTMLModel",
      "state": {
       "_dom_classes": [],
       "_model_module": "@jupyter-widgets/controls",
       "_model_module_version": "1.5.0",
       "_model_name": "HTMLModel",
       "_view_count": null,
       "_view_module": "@jupyter-widgets/controls",
       "_view_module_version": "1.5.0",
       "_view_name": "HTMLView",
       "description": "",
       "description_tooltip": null,
       "layout": "IPY_MODEL_2a42b3a690bf4425b329c9e773f4b5b2",
       "placeholder": "​",
       "style": "IPY_MODEL_ddb91806ad0e495d8423c9be931dca39",
       "value": " 150/150 [00:07&lt;00:00, 21.54it/s]"
      }
     },
     "c2dfbb3bef5c4341a740c06917b08c82": {
      "model_module": "@jupyter-widgets/controls",
      "model_module_version": "1.5.0",
      "model_name": "DescriptionStyleModel",
      "state": {
       "_model_module": "@jupyter-widgets/controls",
       "_model_module_version": "1.5.0",
       "_model_name": "DescriptionStyleModel",
       "_view_count": null,
       "_view_module": "@jupyter-widgets/base",
       "_view_module_version": "1.2.0",
       "_view_name": "StyleView",
       "description_width": ""
      }
     },
     "c66a3c79c7c847bdb5c4e1c7c0dcc308": {
      "model_module": "@jupyter-widgets/base",
      "model_module_version": "1.2.0",
      "model_name": "LayoutModel",
      "state": {
       "_model_module": "@jupyter-widgets/base",
       "_model_module_version": "1.2.0",
       "_model_name": "LayoutModel",
       "_view_count": null,
       "_view_module": "@jupyter-widgets/base",
       "_view_module_version": "1.2.0",
       "_view_name": "LayoutView",
       "align_content": null,
       "align_items": null,
       "align_self": null,
       "border": null,
       "bottom": null,
       "display": null,
       "flex": null,
       "flex_flow": null,
       "grid_area": null,
       "grid_auto_columns": null,
       "grid_auto_flow": null,
       "grid_auto_rows": null,
       "grid_column": null,
       "grid_gap": null,
       "grid_row": null,
       "grid_template_areas": null,
       "grid_template_columns": null,
       "grid_template_rows": null,
       "height": null,
       "justify_content": null,
       "justify_items": null,
       "left": null,
       "margin": null,
       "max_height": null,
       "max_width": null,
       "min_height": null,
       "min_width": null,
       "object_fit": null,
       "object_position": null,
       "order": null,
       "overflow": null,
       "overflow_x": null,
       "overflow_y": null,
       "padding": null,
       "right": null,
       "top": null,
       "visibility": null,
       "width": null
      }
     },
     "caef6d27c58c4c4e924243753ad6040a": {
      "model_module": "@jupyter-widgets/controls",
      "model_module_version": "1.5.0",
      "model_name": "HTMLModel",
      "state": {
       "_dom_classes": [],
       "_model_module": "@jupyter-widgets/controls",
       "_model_module_version": "1.5.0",
       "_model_name": "HTMLModel",
       "_view_count": null,
       "_view_module": "@jupyter-widgets/controls",
       "_view_module_version": "1.5.0",
       "_view_name": "HTMLView",
       "description": "",
       "description_tooltip": null,
       "layout": "IPY_MODEL_1738eecbb12b4cd6a8af25bfc9e3808a",
       "placeholder": "​",
       "style": "IPY_MODEL_d8b8e2142a674e3b9cf2fc6864669d74",
       "value": "100%"
      }
     },
     "cbb2388e1d124742bc595bc7eba9b714": {
      "model_module": "@jupyter-widgets/controls",
      "model_module_version": "1.5.0",
      "model_name": "DescriptionStyleModel",
      "state": {
       "_model_module": "@jupyter-widgets/controls",
       "_model_module_version": "1.5.0",
       "_model_name": "DescriptionStyleModel",
       "_view_count": null,
       "_view_module": "@jupyter-widgets/base",
       "_view_module_version": "1.2.0",
       "_view_name": "StyleView",
       "description_width": ""
      }
     },
     "ce2f52e813294732a486c955f2b6489a": {
      "model_module": "@jupyter-widgets/base",
      "model_module_version": "1.2.0",
      "model_name": "LayoutModel",
      "state": {
       "_model_module": "@jupyter-widgets/base",
       "_model_module_version": "1.2.0",
       "_model_name": "LayoutModel",
       "_view_count": null,
       "_view_module": "@jupyter-widgets/base",
       "_view_module_version": "1.2.0",
       "_view_name": "LayoutView",
       "align_content": null,
       "align_items": null,
       "align_self": null,
       "border": null,
       "bottom": null,
       "display": null,
       "flex": null,
       "flex_flow": null,
       "grid_area": null,
       "grid_auto_columns": null,
       "grid_auto_flow": null,
       "grid_auto_rows": null,
       "grid_column": null,
       "grid_gap": null,
       "grid_row": null,
       "grid_template_areas": null,
       "grid_template_columns": null,
       "grid_template_rows": null,
       "height": null,
       "justify_content": null,
       "justify_items": null,
       "left": null,
       "margin": null,
       "max_height": null,
       "max_width": null,
       "min_height": null,
       "min_width": null,
       "object_fit": null,
       "object_position": null,
       "order": null,
       "overflow": null,
       "overflow_x": null,
       "overflow_y": null,
       "padding": null,
       "right": null,
       "top": null,
       "visibility": null,
       "width": null
      }
     },
     "cf0404528b7c4ea0bd656036ce797767": {
      "model_module": "@jupyter-widgets/controls",
      "model_module_version": "1.5.0",
      "model_name": "HBoxModel",
      "state": {
       "_dom_classes": [],
       "_model_module": "@jupyter-widgets/controls",
       "_model_module_version": "1.5.0",
       "_model_name": "HBoxModel",
       "_view_count": null,
       "_view_module": "@jupyter-widgets/controls",
       "_view_module_version": "1.5.0",
       "_view_name": "HBoxView",
       "box_style": "",
       "children": [
        "IPY_MODEL_f040d8de2ea54ffcb5df654b0bf25268",
        "IPY_MODEL_e4bf7b53493f4517a51e9fedca8a1b9d",
        "IPY_MODEL_b823fb16857248cf88b6d02891ebe384"
       ],
       "layout": "IPY_MODEL_7fc3da9e3b7745869043f6ed50563cf1"
      }
     },
     "cfa6ea9c2c76434aa1e0ba1da453090c": {
      "model_module": "@jupyter-widgets/base",
      "model_module_version": "1.2.0",
      "model_name": "LayoutModel",
      "state": {
       "_model_module": "@jupyter-widgets/base",
       "_model_module_version": "1.2.0",
       "_model_name": "LayoutModel",
       "_view_count": null,
       "_view_module": "@jupyter-widgets/base",
       "_view_module_version": "1.2.0",
       "_view_name": "LayoutView",
       "align_content": null,
       "align_items": null,
       "align_self": null,
       "border": null,
       "bottom": null,
       "display": null,
       "flex": null,
       "flex_flow": null,
       "grid_area": null,
       "grid_auto_columns": null,
       "grid_auto_flow": null,
       "grid_auto_rows": null,
       "grid_column": null,
       "grid_gap": null,
       "grid_row": null,
       "grid_template_areas": null,
       "grid_template_columns": null,
       "grid_template_rows": null,
       "height": null,
       "justify_content": null,
       "justify_items": null,
       "left": null,
       "margin": null,
       "max_height": null,
       "max_width": null,
       "min_height": null,
       "min_width": null,
       "object_fit": null,
       "object_position": null,
       "order": null,
       "overflow": null,
       "overflow_x": null,
       "overflow_y": null,
       "padding": null,
       "right": null,
       "top": null,
       "visibility": null,
       "width": null
      }
     },
     "d3e62cedee0a4f52b3c84f26f9be6632": {
      "model_module": "@jupyter-widgets/controls",
      "model_module_version": "1.5.0",
      "model_name": "HTMLModel",
      "state": {
       "_dom_classes": [],
       "_model_module": "@jupyter-widgets/controls",
       "_model_module_version": "1.5.0",
       "_model_name": "HTMLModel",
       "_view_count": null,
       "_view_module": "@jupyter-widgets/controls",
       "_view_module_version": "1.5.0",
       "_view_name": "HTMLView",
       "description": "",
       "description_tooltip": null,
       "layout": "IPY_MODEL_b2483b975337424f911d70cddc5f619f",
       "placeholder": "​",
       "style": "IPY_MODEL_72dc6c49c74546bf8b5af92bb9d9e187",
       "value": " 150/150 [01:50&lt;00:00,  1.22it/s]"
      }
     },
     "d5d9117770a74d728c20abb44598dd9d": {
      "model_module": "@jupyter-widgets/base",
      "model_module_version": "1.2.0",
      "model_name": "LayoutModel",
      "state": {
       "_model_module": "@jupyter-widgets/base",
       "_model_module_version": "1.2.0",
       "_model_name": "LayoutModel",
       "_view_count": null,
       "_view_module": "@jupyter-widgets/base",
       "_view_module_version": "1.2.0",
       "_view_name": "LayoutView",
       "align_content": null,
       "align_items": null,
       "align_self": null,
       "border": null,
       "bottom": null,
       "display": null,
       "flex": null,
       "flex_flow": null,
       "grid_area": null,
       "grid_auto_columns": null,
       "grid_auto_flow": null,
       "grid_auto_rows": null,
       "grid_column": null,
       "grid_gap": null,
       "grid_row": null,
       "grid_template_areas": null,
       "grid_template_columns": null,
       "grid_template_rows": null,
       "height": null,
       "justify_content": null,
       "justify_items": null,
       "left": null,
       "margin": null,
       "max_height": null,
       "max_width": null,
       "min_height": null,
       "min_width": null,
       "object_fit": null,
       "object_position": null,
       "order": null,
       "overflow": null,
       "overflow_x": null,
       "overflow_y": null,
       "padding": null,
       "right": null,
       "top": null,
       "visibility": null,
       "width": null
      }
     },
     "d61a0a6e2d79474293fcc3526a197fa4": {
      "model_module": "@jupyter-widgets/controls",
      "model_module_version": "1.5.0",
      "model_name": "DescriptionStyleModel",
      "state": {
       "_model_module": "@jupyter-widgets/controls",
       "_model_module_version": "1.5.0",
       "_model_name": "DescriptionStyleModel",
       "_view_count": null,
       "_view_module": "@jupyter-widgets/base",
       "_view_module_version": "1.2.0",
       "_view_name": "StyleView",
       "description_width": ""
      }
     },
     "d69b953de7ca4b19bef4d908627cb20b": {
      "model_module": "@jupyter-widgets/controls",
      "model_module_version": "1.5.0",
      "model_name": "HTMLModel",
      "state": {
       "_dom_classes": [],
       "_model_module": "@jupyter-widgets/controls",
       "_model_module_version": "1.5.0",
       "_model_name": "HTMLModel",
       "_view_count": null,
       "_view_module": "@jupyter-widgets/controls",
       "_view_module_version": "1.5.0",
       "_view_name": "HTMLView",
       "description": "",
       "description_tooltip": null,
       "layout": "IPY_MODEL_2136fbd24b9748c18af8055e4e241bb0",
       "placeholder": "​",
       "style": "IPY_MODEL_d61a0a6e2d79474293fcc3526a197fa4",
       "value": " 150/150 [00:06&lt;00:00, 22.52it/s]"
      }
     },
     "d8b8e2142a674e3b9cf2fc6864669d74": {
      "model_module": "@jupyter-widgets/controls",
      "model_module_version": "1.5.0",
      "model_name": "DescriptionStyleModel",
      "state": {
       "_model_module": "@jupyter-widgets/controls",
       "_model_module_version": "1.5.0",
       "_model_name": "DescriptionStyleModel",
       "_view_count": null,
       "_view_module": "@jupyter-widgets/base",
       "_view_module_version": "1.2.0",
       "_view_name": "StyleView",
       "description_width": ""
      }
     },
     "d9b2658d44b04850b30835c94784fe06": {
      "model_module": "@jupyter-widgets/base",
      "model_module_version": "1.2.0",
      "model_name": "LayoutModel",
      "state": {
       "_model_module": "@jupyter-widgets/base",
       "_model_module_version": "1.2.0",
       "_model_name": "LayoutModel",
       "_view_count": null,
       "_view_module": "@jupyter-widgets/base",
       "_view_module_version": "1.2.0",
       "_view_name": "LayoutView",
       "align_content": null,
       "align_items": null,
       "align_self": null,
       "border": null,
       "bottom": null,
       "display": null,
       "flex": null,
       "flex_flow": null,
       "grid_area": null,
       "grid_auto_columns": null,
       "grid_auto_flow": null,
       "grid_auto_rows": null,
       "grid_column": null,
       "grid_gap": null,
       "grid_row": null,
       "grid_template_areas": null,
       "grid_template_columns": null,
       "grid_template_rows": null,
       "height": null,
       "justify_content": null,
       "justify_items": null,
       "left": null,
       "margin": null,
       "max_height": null,
       "max_width": null,
       "min_height": null,
       "min_width": null,
       "object_fit": null,
       "object_position": null,
       "order": null,
       "overflow": null,
       "overflow_x": null,
       "overflow_y": null,
       "padding": null,
       "right": null,
       "top": null,
       "visibility": null,
       "width": null
      }
     },
     "dbb045cd81104ed889e4366ca2060be0": {
      "model_module": "@jupyter-widgets/controls",
      "model_module_version": "1.5.0",
      "model_name": "HTMLModel",
      "state": {
       "_dom_classes": [],
       "_model_module": "@jupyter-widgets/controls",
       "_model_module_version": "1.5.0",
       "_model_name": "HTMLModel",
       "_view_count": null,
       "_view_module": "@jupyter-widgets/controls",
       "_view_module_version": "1.5.0",
       "_view_name": "HTMLView",
       "description": "",
       "description_tooltip": null,
       "layout": "IPY_MODEL_e83fd85c2647429caea8b32cb5e021e6",
       "placeholder": "​",
       "style": "IPY_MODEL_7c2a72d706d8414fa1850e3c96acaff8",
       "value": "100%"
      }
     },
     "dcc5427fad2d489bb35b90d575fc91d2": {
      "model_module": "@jupyter-widgets/base",
      "model_module_version": "1.2.0",
      "model_name": "LayoutModel",
      "state": {
       "_model_module": "@jupyter-widgets/base",
       "_model_module_version": "1.2.0",
       "_model_name": "LayoutModel",
       "_view_count": null,
       "_view_module": "@jupyter-widgets/base",
       "_view_module_version": "1.2.0",
       "_view_name": "LayoutView",
       "align_content": null,
       "align_items": null,
       "align_self": null,
       "border": null,
       "bottom": null,
       "display": null,
       "flex": null,
       "flex_flow": null,
       "grid_area": null,
       "grid_auto_columns": null,
       "grid_auto_flow": null,
       "grid_auto_rows": null,
       "grid_column": null,
       "grid_gap": null,
       "grid_row": null,
       "grid_template_areas": null,
       "grid_template_columns": null,
       "grid_template_rows": null,
       "height": null,
       "justify_content": null,
       "justify_items": null,
       "left": null,
       "margin": null,
       "max_height": null,
       "max_width": null,
       "min_height": null,
       "min_width": null,
       "object_fit": null,
       "object_position": null,
       "order": null,
       "overflow": null,
       "overflow_x": null,
       "overflow_y": null,
       "padding": null,
       "right": null,
       "top": null,
       "visibility": null,
       "width": null
      }
     },
     "ddb91806ad0e495d8423c9be931dca39": {
      "model_module": "@jupyter-widgets/controls",
      "model_module_version": "1.5.0",
      "model_name": "DescriptionStyleModel",
      "state": {
       "_model_module": "@jupyter-widgets/controls",
       "_model_module_version": "1.5.0",
       "_model_name": "DescriptionStyleModel",
       "_view_count": null,
       "_view_module": "@jupyter-widgets/base",
       "_view_module_version": "1.2.0",
       "_view_name": "StyleView",
       "description_width": ""
      }
     },
     "e37385abe88b4234a0591b662b3b0604": {
      "model_module": "@jupyter-widgets/base",
      "model_module_version": "1.2.0",
      "model_name": "LayoutModel",
      "state": {
       "_model_module": "@jupyter-widgets/base",
       "_model_module_version": "1.2.0",
       "_model_name": "LayoutModel",
       "_view_count": null,
       "_view_module": "@jupyter-widgets/base",
       "_view_module_version": "1.2.0",
       "_view_name": "LayoutView",
       "align_content": null,
       "align_items": null,
       "align_self": null,
       "border": null,
       "bottom": null,
       "display": null,
       "flex": null,
       "flex_flow": null,
       "grid_area": null,
       "grid_auto_columns": null,
       "grid_auto_flow": null,
       "grid_auto_rows": null,
       "grid_column": null,
       "grid_gap": null,
       "grid_row": null,
       "grid_template_areas": null,
       "grid_template_columns": null,
       "grid_template_rows": null,
       "height": null,
       "justify_content": null,
       "justify_items": null,
       "left": null,
       "margin": null,
       "max_height": null,
       "max_width": null,
       "min_height": null,
       "min_width": null,
       "object_fit": null,
       "object_position": null,
       "order": null,
       "overflow": null,
       "overflow_x": null,
       "overflow_y": null,
       "padding": null,
       "right": null,
       "top": null,
       "visibility": null,
       "width": null
      }
     },
     "e4bf7b53493f4517a51e9fedca8a1b9d": {
      "model_module": "@jupyter-widgets/controls",
      "model_module_version": "1.5.0",
      "model_name": "FloatProgressModel",
      "state": {
       "_dom_classes": [],
       "_model_module": "@jupyter-widgets/controls",
       "_model_module_version": "1.5.0",
       "_model_name": "FloatProgressModel",
       "_view_count": null,
       "_view_module": "@jupyter-widgets/controls",
       "_view_module_version": "1.5.0",
       "_view_name": "ProgressView",
       "bar_style": "success",
       "description": "",
       "description_tooltip": null,
       "layout": "IPY_MODEL_7740b1a505d7418daa01378850563801",
       "max": 150.0,
       "min": 0.0,
       "orientation": "horizontal",
       "style": "IPY_MODEL_fe0ee3c3d2304843aeb648c955508fa8",
       "value": 150.0
      }
     },
     "e83fd85c2647429caea8b32cb5e021e6": {
      "model_module": "@jupyter-widgets/base",
      "model_module_version": "1.2.0",
      "model_name": "LayoutModel",
      "state": {
       "_model_module": "@jupyter-widgets/base",
       "_model_module_version": "1.2.0",
       "_model_name": "LayoutModel",
       "_view_count": null,
       "_view_module": "@jupyter-widgets/base",
       "_view_module_version": "1.2.0",
       "_view_name": "LayoutView",
       "align_content": null,
       "align_items": null,
       "align_self": null,
       "border": null,
       "bottom": null,
       "display": null,
       "flex": null,
       "flex_flow": null,
       "grid_area": null,
       "grid_auto_columns": null,
       "grid_auto_flow": null,
       "grid_auto_rows": null,
       "grid_column": null,
       "grid_gap": null,
       "grid_row": null,
       "grid_template_areas": null,
       "grid_template_columns": null,
       "grid_template_rows": null,
       "height": null,
       "justify_content": null,
       "justify_items": null,
       "left": null,
       "margin": null,
       "max_height": null,
       "max_width": null,
       "min_height": null,
       "min_width": null,
       "object_fit": null,
       "object_position": null,
       "order": null,
       "overflow": null,
       "overflow_x": null,
       "overflow_y": null,
       "padding": null,
       "right": null,
       "top": null,
       "visibility": null,
       "width": null
      }
     },
     "eb03a247d2d648de81a2a23770a2bd37": {
      "model_module": "@jupyter-widgets/controls",
      "model_module_version": "1.5.0",
      "model_name": "HTMLModel",
      "state": {
       "_dom_classes": [],
       "_model_module": "@jupyter-widgets/controls",
       "_model_module_version": "1.5.0",
       "_model_name": "HTMLModel",
       "_view_count": null,
       "_view_module": "@jupyter-widgets/controls",
       "_view_module_version": "1.5.0",
       "_view_name": "HTMLView",
       "description": "",
       "description_tooltip": null,
       "layout": "IPY_MODEL_2a91d2ed61cb4173b37fd02e28c995e1",
       "placeholder": "​",
       "style": "IPY_MODEL_cbb2388e1d124742bc595bc7eba9b714",
       "value": "100%"
      }
     },
     "ec8bb87f89b94caf96fb9f0a790eeb1a": {
      "model_module": "@jupyter-widgets/controls",
      "model_module_version": "1.5.0",
      "model_name": "FloatProgressModel",
      "state": {
       "_dom_classes": [],
       "_model_module": "@jupyter-widgets/controls",
       "_model_module_version": "1.5.0",
       "_model_name": "FloatProgressModel",
       "_view_count": null,
       "_view_module": "@jupyter-widgets/controls",
       "_view_module_version": "1.5.0",
       "_view_name": "ProgressView",
       "bar_style": "success",
       "description": "",
       "description_tooltip": null,
       "layout": "IPY_MODEL_dcc5427fad2d489bb35b90d575fc91d2",
       "max": 150.0,
       "min": 0.0,
       "orientation": "horizontal",
       "style": "IPY_MODEL_7f4dd882d1704aabb1d3d9541cee29f4",
       "value": 150.0
      }
     },
     "f02b3cf81cda45fa9774a4b8fbb67fbe": {
      "model_module": "@jupyter-widgets/controls",
      "model_module_version": "1.5.0",
      "model_name": "ProgressStyleModel",
      "state": {
       "_model_module": "@jupyter-widgets/controls",
       "_model_module_version": "1.5.0",
       "_model_name": "ProgressStyleModel",
       "_view_count": null,
       "_view_module": "@jupyter-widgets/base",
       "_view_module_version": "1.2.0",
       "_view_name": "StyleView",
       "bar_color": null,
       "description_width": ""
      }
     },
     "f040d8de2ea54ffcb5df654b0bf25268": {
      "model_module": "@jupyter-widgets/controls",
      "model_module_version": "1.5.0",
      "model_name": "HTMLModel",
      "state": {
       "_dom_classes": [],
       "_model_module": "@jupyter-widgets/controls",
       "_model_module_version": "1.5.0",
       "_model_name": "HTMLModel",
       "_view_count": null,
       "_view_module": "@jupyter-widgets/controls",
       "_view_module_version": "1.5.0",
       "_view_name": "HTMLView",
       "description": "",
       "description_tooltip": null,
       "layout": "IPY_MODEL_1d16ba59b5bb4e8d9271dee97d2db855",
       "placeholder": "​",
       "style": "IPY_MODEL_35b4fef4b07947839d4f76928d216edd",
       "value": "100%"
      }
     },
     "f6b7050fc31644c6bf787bb8483e1a84": {
      "model_module": "@jupyter-widgets/controls",
      "model_module_version": "1.5.0",
      "model_name": "HTMLModel",
      "state": {
       "_dom_classes": [],
       "_model_module": "@jupyter-widgets/controls",
       "_model_module_version": "1.5.0",
       "_model_name": "HTMLModel",
       "_view_count": null,
       "_view_module": "@jupyter-widgets/controls",
       "_view_module_version": "1.5.0",
       "_view_name": "HTMLView",
       "description": "",
       "description_tooltip": null,
       "layout": "IPY_MODEL_d9b2658d44b04850b30835c94784fe06",
       "placeholder": "​",
       "style": "IPY_MODEL_0fba8250c020421291e12997e76dc05f",
       "value": " 150/150 [02:10&lt;00:00,  1.50it/s]"
      }
     },
     "fdf15dc2efcb4552b8c6445521f303e3": {
      "model_module": "@jupyter-widgets/controls",
      "model_module_version": "1.5.0",
      "model_name": "HTMLModel",
      "state": {
       "_dom_classes": [],
       "_model_module": "@jupyter-widgets/controls",
       "_model_module_version": "1.5.0",
       "_model_name": "HTMLModel",
       "_view_count": null,
       "_view_module": "@jupyter-widgets/controls",
       "_view_module_version": "1.5.0",
       "_view_name": "HTMLView",
       "description": "",
       "description_tooltip": null,
       "layout": "IPY_MODEL_e37385abe88b4234a0591b662b3b0604",
       "placeholder": "​",
       "style": "IPY_MODEL_c2dfbb3bef5c4341a740c06917b08c82",
       "value": "100%"
      }
     },
     "fe0ee3c3d2304843aeb648c955508fa8": {
      "model_module": "@jupyter-widgets/controls",
      "model_module_version": "1.5.0",
      "model_name": "ProgressStyleModel",
      "state": {
       "_model_module": "@jupyter-widgets/controls",
       "_model_module_version": "1.5.0",
       "_model_name": "ProgressStyleModel",
       "_view_count": null,
       "_view_module": "@jupyter-widgets/base",
       "_view_module_version": "1.2.0",
       "_view_name": "StyleView",
       "bar_color": null,
       "description_width": ""
      }
     },
     "ff847d4d651f45378df3c8f60afa4d29": {
      "model_module": "@jupyter-widgets/controls",
      "model_module_version": "1.5.0",
      "model_name": "DescriptionStyleModel",
      "state": {
       "_model_module": "@jupyter-widgets/controls",
       "_model_module_version": "1.5.0",
       "_model_name": "DescriptionStyleModel",
       "_view_count": null,
       "_view_module": "@jupyter-widgets/base",
       "_view_module_version": "1.2.0",
       "_view_name": "StyleView",
       "description_width": ""
      }
     }
    },
    "version_major": 2,
    "version_minor": 0
   }
  }
 },
 "nbformat": 4,
 "nbformat_minor": 5
}
