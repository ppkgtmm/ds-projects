{
 "cells": [
  {
   "cell_type": "code",
   "execution_count": 1,
   "id": "limited-tobacco",
   "metadata": {
    "_cell_guid": "b1076dfc-b9ad-4769-8c92-a6c4dae69d19",
    "_uuid": "8f2839f25d086af736a60e9eeb907d3b93b6e0e5",
    "execution": {
     "iopub.execute_input": "2021-09-13T07:36:55.667889Z",
     "iopub.status.busy": "2021-09-13T07:36:55.666244Z",
     "iopub.status.idle": "2021-09-13T07:37:00.618551Z",
     "shell.execute_reply": "2021-09-13T07:37:00.617911Z",
     "shell.execute_reply.started": "2021-09-13T07:26:14.134059Z"
    },
    "papermill": {
     "duration": 4.971884,
     "end_time": "2021-09-13T07:37:00.618709",
     "exception": false,
     "start_time": "2021-09-13T07:36:55.646825",
     "status": "completed"
    },
    "tags": []
   },
   "outputs": [],
   "source": [
    "import pandas as pd\n",
    "import numpy as np\n",
    "import matplotlib.pyplot as plt\n",
    "from keras.models import Sequential\n",
    "from keras.layers import Conv2D, BatchNormalization, Activation, Dropout\n",
    "from keras.layers import MaxPooling2D\n",
    "from keras.layers import Dense\n",
    "from keras.layers import Flatten\n",
    "from keras.preprocessing.image import ImageDataGenerator\n",
    "from keras.utils import to_categorical\n",
    "from sklearn.model_selection import train_test_split\n",
    "from keras.optimizers import Adam, SGD, RMSprop\n",
    "from keras.activations import relu, selu, elu\n",
    "from keras.callbacks import ModelCheckpoint\n",
    "plt.style.use('ggplot')\n",
    "plt.rcParams['font.size'] = 12\n",
    "plt.rcParams['lines.color'] ='#000000'\n",
    "np.random.seed(1234567)"
   ]
  },
  {
   "cell_type": "code",
   "execution_count": 2,
   "id": "faced-laundry",
   "metadata": {
    "execution": {
     "iopub.execute_input": "2021-09-13T07:37:00.653874Z",
     "iopub.status.busy": "2021-09-13T07:37:00.653339Z",
     "iopub.status.idle": "2021-09-13T07:37:00.656984Z",
     "shell.execute_reply": "2021-09-13T07:37:00.657477Z",
     "shell.execute_reply.started": "2021-09-13T07:26:19.140014Z"
    },
    "papermill": {
     "duration": 0.023536,
     "end_time": "2021-09-13T07:37:00.657601",
     "exception": false,
     "start_time": "2021-09-13T07:37:00.634065",
     "status": "completed"
    },
    "tags": []
   },
   "outputs": [],
   "source": [
    "train_path = '../input/sign-language-mnist/sign_mnist_train/sign_mnist_train.csv'\n",
    "test_path = '../input/sign-language-mnist/sign_mnist_test/sign_mnist_test.csv'"
   ]
  },
  {
   "cell_type": "code",
   "execution_count": 3,
   "id": "identified-falls",
   "metadata": {
    "execution": {
     "iopub.execute_input": "2021-09-13T07:37:00.695815Z",
     "iopub.status.busy": "2021-09-13T07:37:00.695302Z",
     "iopub.status.idle": "2021-09-13T07:37:04.062853Z",
     "shell.execute_reply": "2021-09-13T07:37:04.062389Z",
     "shell.execute_reply.started": "2021-09-13T07:26:19.146328Z"
    },
    "papermill": {
     "duration": 3.391185,
     "end_time": "2021-09-13T07:37:04.062987",
     "exception": false,
     "start_time": "2021-09-13T07:37:00.671802",
     "status": "completed"
    },
    "tags": []
   },
   "outputs": [
    {
     "data": {
      "text/html": [
       "<div>\n",
       "<style scoped>\n",
       "    .dataframe tbody tr th:only-of-type {\n",
       "        vertical-align: middle;\n",
       "    }\n",
       "\n",
       "    .dataframe tbody tr th {\n",
       "        vertical-align: top;\n",
       "    }\n",
       "\n",
       "    .dataframe thead th {\n",
       "        text-align: right;\n",
       "    }\n",
       "</style>\n",
       "<table border=\"1\" class=\"dataframe\">\n",
       "  <thead>\n",
       "    <tr style=\"text-align: right;\">\n",
       "      <th></th>\n",
       "      <th>label</th>\n",
       "      <th>pixel1</th>\n",
       "      <th>pixel2</th>\n",
       "      <th>pixel3</th>\n",
       "      <th>pixel4</th>\n",
       "      <th>pixel5</th>\n",
       "      <th>pixel6</th>\n",
       "      <th>pixel7</th>\n",
       "      <th>pixel8</th>\n",
       "      <th>pixel9</th>\n",
       "      <th>...</th>\n",
       "      <th>pixel775</th>\n",
       "      <th>pixel776</th>\n",
       "      <th>pixel777</th>\n",
       "      <th>pixel778</th>\n",
       "      <th>pixel779</th>\n",
       "      <th>pixel780</th>\n",
       "      <th>pixel781</th>\n",
       "      <th>pixel782</th>\n",
       "      <th>pixel783</th>\n",
       "      <th>pixel784</th>\n",
       "    </tr>\n",
       "  </thead>\n",
       "  <tbody>\n",
       "    <tr>\n",
       "      <th>0</th>\n",
       "      <td>3</td>\n",
       "      <td>107</td>\n",
       "      <td>118</td>\n",
       "      <td>127</td>\n",
       "      <td>134</td>\n",
       "      <td>139</td>\n",
       "      <td>143</td>\n",
       "      <td>146</td>\n",
       "      <td>150</td>\n",
       "      <td>153</td>\n",
       "      <td>...</td>\n",
       "      <td>207</td>\n",
       "      <td>207</td>\n",
       "      <td>207</td>\n",
       "      <td>207</td>\n",
       "      <td>206</td>\n",
       "      <td>206</td>\n",
       "      <td>206</td>\n",
       "      <td>204</td>\n",
       "      <td>203</td>\n",
       "      <td>202</td>\n",
       "    </tr>\n",
       "    <tr>\n",
       "      <th>1</th>\n",
       "      <td>6</td>\n",
       "      <td>155</td>\n",
       "      <td>157</td>\n",
       "      <td>156</td>\n",
       "      <td>156</td>\n",
       "      <td>156</td>\n",
       "      <td>157</td>\n",
       "      <td>156</td>\n",
       "      <td>158</td>\n",
       "      <td>158</td>\n",
       "      <td>...</td>\n",
       "      <td>69</td>\n",
       "      <td>149</td>\n",
       "      <td>128</td>\n",
       "      <td>87</td>\n",
       "      <td>94</td>\n",
       "      <td>163</td>\n",
       "      <td>175</td>\n",
       "      <td>103</td>\n",
       "      <td>135</td>\n",
       "      <td>149</td>\n",
       "    </tr>\n",
       "    <tr>\n",
       "      <th>2</th>\n",
       "      <td>2</td>\n",
       "      <td>187</td>\n",
       "      <td>188</td>\n",
       "      <td>188</td>\n",
       "      <td>187</td>\n",
       "      <td>187</td>\n",
       "      <td>186</td>\n",
       "      <td>187</td>\n",
       "      <td>188</td>\n",
       "      <td>187</td>\n",
       "      <td>...</td>\n",
       "      <td>202</td>\n",
       "      <td>201</td>\n",
       "      <td>200</td>\n",
       "      <td>199</td>\n",
       "      <td>198</td>\n",
       "      <td>199</td>\n",
       "      <td>198</td>\n",
       "      <td>195</td>\n",
       "      <td>194</td>\n",
       "      <td>195</td>\n",
       "    </tr>\n",
       "    <tr>\n",
       "      <th>3</th>\n",
       "      <td>2</td>\n",
       "      <td>211</td>\n",
       "      <td>211</td>\n",
       "      <td>212</td>\n",
       "      <td>212</td>\n",
       "      <td>211</td>\n",
       "      <td>210</td>\n",
       "      <td>211</td>\n",
       "      <td>210</td>\n",
       "      <td>210</td>\n",
       "      <td>...</td>\n",
       "      <td>235</td>\n",
       "      <td>234</td>\n",
       "      <td>233</td>\n",
       "      <td>231</td>\n",
       "      <td>230</td>\n",
       "      <td>226</td>\n",
       "      <td>225</td>\n",
       "      <td>222</td>\n",
       "      <td>229</td>\n",
       "      <td>163</td>\n",
       "    </tr>\n",
       "    <tr>\n",
       "      <th>4</th>\n",
       "      <td>13</td>\n",
       "      <td>164</td>\n",
       "      <td>167</td>\n",
       "      <td>170</td>\n",
       "      <td>172</td>\n",
       "      <td>176</td>\n",
       "      <td>179</td>\n",
       "      <td>180</td>\n",
       "      <td>184</td>\n",
       "      <td>185</td>\n",
       "      <td>...</td>\n",
       "      <td>92</td>\n",
       "      <td>105</td>\n",
       "      <td>105</td>\n",
       "      <td>108</td>\n",
       "      <td>133</td>\n",
       "      <td>163</td>\n",
       "      <td>157</td>\n",
       "      <td>163</td>\n",
       "      <td>164</td>\n",
       "      <td>179</td>\n",
       "    </tr>\n",
       "  </tbody>\n",
       "</table>\n",
       "<p>5 rows × 785 columns</p>\n",
       "</div>"
      ],
      "text/plain": [
       "   label  pixel1  pixel2  pixel3  pixel4  pixel5  pixel6  pixel7  pixel8  \\\n",
       "0      3     107     118     127     134     139     143     146     150   \n",
       "1      6     155     157     156     156     156     157     156     158   \n",
       "2      2     187     188     188     187     187     186     187     188   \n",
       "3      2     211     211     212     212     211     210     211     210   \n",
       "4     13     164     167     170     172     176     179     180     184   \n",
       "\n",
       "   pixel9  ...  pixel775  pixel776  pixel777  pixel778  pixel779  pixel780  \\\n",
       "0     153  ...       207       207       207       207       206       206   \n",
       "1     158  ...        69       149       128        87        94       163   \n",
       "2     187  ...       202       201       200       199       198       199   \n",
       "3     210  ...       235       234       233       231       230       226   \n",
       "4     185  ...        92       105       105       108       133       163   \n",
       "\n",
       "   pixel781  pixel782  pixel783  pixel784  \n",
       "0       206       204       203       202  \n",
       "1       175       103       135       149  \n",
       "2       198       195       194       195  \n",
       "3       225       222       229       163  \n",
       "4       157       163       164       179  \n",
       "\n",
       "[5 rows x 785 columns]"
      ]
     },
     "execution_count": 3,
     "metadata": {},
     "output_type": "execute_result"
    }
   ],
   "source": [
    "# read data from CSV file\n",
    "train = pd.read_csv(train_path)\n",
    "train.head()"
   ]
  },
  {
   "cell_type": "code",
   "execution_count": 4,
   "id": "consistent-wichita",
   "metadata": {
    "execution": {
     "iopub.execute_input": "2021-09-13T07:37:04.098545Z",
     "iopub.status.busy": "2021-09-13T07:37:04.097230Z",
     "iopub.status.idle": "2021-09-13T07:37:06.456789Z",
     "shell.execute_reply": "2021-09-13T07:37:06.456288Z",
     "shell.execute_reply.started": "2021-09-13T07:26:22.438808Z"
    },
    "papermill": {
     "duration": 2.378236,
     "end_time": "2021-09-13T07:37:06.456948",
     "exception": false,
     "start_time": "2021-09-13T07:37:04.078712",
     "status": "completed"
    },
    "tags": []
   },
   "outputs": [
    {
     "data": {
      "text/html": [
       "<div>\n",
       "<style scoped>\n",
       "    .dataframe tbody tr th:only-of-type {\n",
       "        vertical-align: middle;\n",
       "    }\n",
       "\n",
       "    .dataframe tbody tr th {\n",
       "        vertical-align: top;\n",
       "    }\n",
       "\n",
       "    .dataframe thead th {\n",
       "        text-align: right;\n",
       "    }\n",
       "</style>\n",
       "<table border=\"1\" class=\"dataframe\">\n",
       "  <thead>\n",
       "    <tr style=\"text-align: right;\">\n",
       "      <th></th>\n",
       "      <th>label</th>\n",
       "      <th>pixel1</th>\n",
       "      <th>pixel2</th>\n",
       "      <th>pixel3</th>\n",
       "      <th>pixel4</th>\n",
       "      <th>pixel5</th>\n",
       "      <th>pixel6</th>\n",
       "      <th>pixel7</th>\n",
       "      <th>pixel8</th>\n",
       "      <th>pixel9</th>\n",
       "      <th>...</th>\n",
       "      <th>pixel775</th>\n",
       "      <th>pixel776</th>\n",
       "      <th>pixel777</th>\n",
       "      <th>pixel778</th>\n",
       "      <th>pixel779</th>\n",
       "      <th>pixel780</th>\n",
       "      <th>pixel781</th>\n",
       "      <th>pixel782</th>\n",
       "      <th>pixel783</th>\n",
       "      <th>pixel784</th>\n",
       "    </tr>\n",
       "  </thead>\n",
       "  <tbody>\n",
       "    <tr>\n",
       "      <th>count</th>\n",
       "      <td>27455.000000</td>\n",
       "      <td>27455.000000</td>\n",
       "      <td>27455.000000</td>\n",
       "      <td>27455.000000</td>\n",
       "      <td>27455.000000</td>\n",
       "      <td>27455.000000</td>\n",
       "      <td>27455.000000</td>\n",
       "      <td>27455.000000</td>\n",
       "      <td>27455.000000</td>\n",
       "      <td>27455.000000</td>\n",
       "      <td>...</td>\n",
       "      <td>27455.000000</td>\n",
       "      <td>27455.000000</td>\n",
       "      <td>27455.000000</td>\n",
       "      <td>27455.000000</td>\n",
       "      <td>27455.000000</td>\n",
       "      <td>27455.000000</td>\n",
       "      <td>27455.000000</td>\n",
       "      <td>27455.000000</td>\n",
       "      <td>27455.000000</td>\n",
       "      <td>27455.000000</td>\n",
       "    </tr>\n",
       "    <tr>\n",
       "      <th>mean</th>\n",
       "      <td>12.318813</td>\n",
       "      <td>145.419377</td>\n",
       "      <td>148.500273</td>\n",
       "      <td>151.247714</td>\n",
       "      <td>153.546531</td>\n",
       "      <td>156.210891</td>\n",
       "      <td>158.411255</td>\n",
       "      <td>160.472154</td>\n",
       "      <td>162.339683</td>\n",
       "      <td>163.954799</td>\n",
       "      <td>...</td>\n",
       "      <td>141.104863</td>\n",
       "      <td>147.495611</td>\n",
       "      <td>153.325806</td>\n",
       "      <td>159.125332</td>\n",
       "      <td>161.969259</td>\n",
       "      <td>162.736696</td>\n",
       "      <td>162.906137</td>\n",
       "      <td>161.966454</td>\n",
       "      <td>161.137898</td>\n",
       "      <td>159.824731</td>\n",
       "    </tr>\n",
       "    <tr>\n",
       "      <th>std</th>\n",
       "      <td>7.287552</td>\n",
       "      <td>41.358555</td>\n",
       "      <td>39.942152</td>\n",
       "      <td>39.056286</td>\n",
       "      <td>38.595247</td>\n",
       "      <td>37.111165</td>\n",
       "      <td>36.125579</td>\n",
       "      <td>35.016392</td>\n",
       "      <td>33.661998</td>\n",
       "      <td>32.651607</td>\n",
       "      <td>...</td>\n",
       "      <td>63.751194</td>\n",
       "      <td>65.512894</td>\n",
       "      <td>64.427412</td>\n",
       "      <td>63.708507</td>\n",
       "      <td>63.738316</td>\n",
       "      <td>63.444008</td>\n",
       "      <td>63.509210</td>\n",
       "      <td>63.298721</td>\n",
       "      <td>63.610415</td>\n",
       "      <td>64.396846</td>\n",
       "    </tr>\n",
       "    <tr>\n",
       "      <th>min</th>\n",
       "      <td>0.000000</td>\n",
       "      <td>0.000000</td>\n",
       "      <td>0.000000</td>\n",
       "      <td>0.000000</td>\n",
       "      <td>0.000000</td>\n",
       "      <td>0.000000</td>\n",
       "      <td>0.000000</td>\n",
       "      <td>0.000000</td>\n",
       "      <td>0.000000</td>\n",
       "      <td>0.000000</td>\n",
       "      <td>...</td>\n",
       "      <td>0.000000</td>\n",
       "      <td>0.000000</td>\n",
       "      <td>0.000000</td>\n",
       "      <td>0.000000</td>\n",
       "      <td>0.000000</td>\n",
       "      <td>0.000000</td>\n",
       "      <td>0.000000</td>\n",
       "      <td>0.000000</td>\n",
       "      <td>0.000000</td>\n",
       "      <td>0.000000</td>\n",
       "    </tr>\n",
       "    <tr>\n",
       "      <th>25%</th>\n",
       "      <td>6.000000</td>\n",
       "      <td>121.000000</td>\n",
       "      <td>126.000000</td>\n",
       "      <td>130.000000</td>\n",
       "      <td>133.000000</td>\n",
       "      <td>137.000000</td>\n",
       "      <td>140.000000</td>\n",
       "      <td>142.000000</td>\n",
       "      <td>144.000000</td>\n",
       "      <td>146.000000</td>\n",
       "      <td>...</td>\n",
       "      <td>92.000000</td>\n",
       "      <td>96.000000</td>\n",
       "      <td>103.000000</td>\n",
       "      <td>112.000000</td>\n",
       "      <td>120.000000</td>\n",
       "      <td>125.000000</td>\n",
       "      <td>128.000000</td>\n",
       "      <td>128.000000</td>\n",
       "      <td>128.000000</td>\n",
       "      <td>125.500000</td>\n",
       "    </tr>\n",
       "    <tr>\n",
       "      <th>50%</th>\n",
       "      <td>13.000000</td>\n",
       "      <td>150.000000</td>\n",
       "      <td>153.000000</td>\n",
       "      <td>156.000000</td>\n",
       "      <td>158.000000</td>\n",
       "      <td>160.000000</td>\n",
       "      <td>162.000000</td>\n",
       "      <td>164.000000</td>\n",
       "      <td>165.000000</td>\n",
       "      <td>166.000000</td>\n",
       "      <td>...</td>\n",
       "      <td>144.000000</td>\n",
       "      <td>162.000000</td>\n",
       "      <td>172.000000</td>\n",
       "      <td>180.000000</td>\n",
       "      <td>183.000000</td>\n",
       "      <td>184.000000</td>\n",
       "      <td>184.000000</td>\n",
       "      <td>182.000000</td>\n",
       "      <td>182.000000</td>\n",
       "      <td>182.000000</td>\n",
       "    </tr>\n",
       "    <tr>\n",
       "      <th>75%</th>\n",
       "      <td>19.000000</td>\n",
       "      <td>174.000000</td>\n",
       "      <td>176.000000</td>\n",
       "      <td>178.000000</td>\n",
       "      <td>179.000000</td>\n",
       "      <td>181.000000</td>\n",
       "      <td>182.000000</td>\n",
       "      <td>183.000000</td>\n",
       "      <td>184.000000</td>\n",
       "      <td>185.000000</td>\n",
       "      <td>...</td>\n",
       "      <td>196.000000</td>\n",
       "      <td>202.000000</td>\n",
       "      <td>205.000000</td>\n",
       "      <td>207.000000</td>\n",
       "      <td>208.000000</td>\n",
       "      <td>207.000000</td>\n",
       "      <td>207.000000</td>\n",
       "      <td>206.000000</td>\n",
       "      <td>204.000000</td>\n",
       "      <td>204.000000</td>\n",
       "    </tr>\n",
       "    <tr>\n",
       "      <th>max</th>\n",
       "      <td>24.000000</td>\n",
       "      <td>255.000000</td>\n",
       "      <td>255.000000</td>\n",
       "      <td>255.000000</td>\n",
       "      <td>255.000000</td>\n",
       "      <td>255.000000</td>\n",
       "      <td>255.000000</td>\n",
       "      <td>255.000000</td>\n",
       "      <td>255.000000</td>\n",
       "      <td>255.000000</td>\n",
       "      <td>...</td>\n",
       "      <td>255.000000</td>\n",
       "      <td>255.000000</td>\n",
       "      <td>255.000000</td>\n",
       "      <td>255.000000</td>\n",
       "      <td>255.000000</td>\n",
       "      <td>255.000000</td>\n",
       "      <td>255.000000</td>\n",
       "      <td>255.000000</td>\n",
       "      <td>255.000000</td>\n",
       "      <td>255.000000</td>\n",
       "    </tr>\n",
       "  </tbody>\n",
       "</table>\n",
       "<p>8 rows × 785 columns</p>\n",
       "</div>"
      ],
      "text/plain": [
       "              label        pixel1        pixel2        pixel3        pixel4  \\\n",
       "count  27455.000000  27455.000000  27455.000000  27455.000000  27455.000000   \n",
       "mean      12.318813    145.419377    148.500273    151.247714    153.546531   \n",
       "std        7.287552     41.358555     39.942152     39.056286     38.595247   \n",
       "min        0.000000      0.000000      0.000000      0.000000      0.000000   \n",
       "25%        6.000000    121.000000    126.000000    130.000000    133.000000   \n",
       "50%       13.000000    150.000000    153.000000    156.000000    158.000000   \n",
       "75%       19.000000    174.000000    176.000000    178.000000    179.000000   \n",
       "max       24.000000    255.000000    255.000000    255.000000    255.000000   \n",
       "\n",
       "             pixel5        pixel6        pixel7        pixel8        pixel9  \\\n",
       "count  27455.000000  27455.000000  27455.000000  27455.000000  27455.000000   \n",
       "mean     156.210891    158.411255    160.472154    162.339683    163.954799   \n",
       "std       37.111165     36.125579     35.016392     33.661998     32.651607   \n",
       "min        0.000000      0.000000      0.000000      0.000000      0.000000   \n",
       "25%      137.000000    140.000000    142.000000    144.000000    146.000000   \n",
       "50%      160.000000    162.000000    164.000000    165.000000    166.000000   \n",
       "75%      181.000000    182.000000    183.000000    184.000000    185.000000   \n",
       "max      255.000000    255.000000    255.000000    255.000000    255.000000   \n",
       "\n",
       "       ...      pixel775      pixel776      pixel777      pixel778  \\\n",
       "count  ...  27455.000000  27455.000000  27455.000000  27455.000000   \n",
       "mean   ...    141.104863    147.495611    153.325806    159.125332   \n",
       "std    ...     63.751194     65.512894     64.427412     63.708507   \n",
       "min    ...      0.000000      0.000000      0.000000      0.000000   \n",
       "25%    ...     92.000000     96.000000    103.000000    112.000000   \n",
       "50%    ...    144.000000    162.000000    172.000000    180.000000   \n",
       "75%    ...    196.000000    202.000000    205.000000    207.000000   \n",
       "max    ...    255.000000    255.000000    255.000000    255.000000   \n",
       "\n",
       "           pixel779      pixel780      pixel781      pixel782      pixel783  \\\n",
       "count  27455.000000  27455.000000  27455.000000  27455.000000  27455.000000   \n",
       "mean     161.969259    162.736696    162.906137    161.966454    161.137898   \n",
       "std       63.738316     63.444008     63.509210     63.298721     63.610415   \n",
       "min        0.000000      0.000000      0.000000      0.000000      0.000000   \n",
       "25%      120.000000    125.000000    128.000000    128.000000    128.000000   \n",
       "50%      183.000000    184.000000    184.000000    182.000000    182.000000   \n",
       "75%      208.000000    207.000000    207.000000    206.000000    204.000000   \n",
       "max      255.000000    255.000000    255.000000    255.000000    255.000000   \n",
       "\n",
       "           pixel784  \n",
       "count  27455.000000  \n",
       "mean     159.824731  \n",
       "std       64.396846  \n",
       "min        0.000000  \n",
       "25%      125.500000  \n",
       "50%      182.000000  \n",
       "75%      204.000000  \n",
       "max      255.000000  \n",
       "\n",
       "[8 rows x 785 columns]"
      ]
     },
     "execution_count": 4,
     "metadata": {},
     "output_type": "execute_result"
    }
   ],
   "source": [
    "# high level summary\n",
    "train.describe()"
   ]
  },
  {
   "cell_type": "code",
   "execution_count": 5,
   "id": "textile-assurance",
   "metadata": {
    "execution": {
     "iopub.execute_input": "2021-09-13T07:37:06.498694Z",
     "iopub.status.busy": "2021-09-13T07:37:06.497406Z",
     "iopub.status.idle": "2021-09-13T07:37:06.531913Z",
     "shell.execute_reply": "2021-09-13T07:37:06.532506Z",
     "shell.execute_reply.started": "2021-09-13T07:26:24.999146Z"
    },
    "papermill": {
     "duration": 0.058433,
     "end_time": "2021-09-13T07:37:06.532731",
     "exception": false,
     "start_time": "2021-09-13T07:37:06.474298",
     "status": "completed"
    },
    "tags": []
   },
   "outputs": [
    {
     "name": "stdout",
     "output_type": "stream",
     "text": [
      "total empty values: 0\n"
     ]
    }
   ],
   "source": [
    "# empty(null) value inspection\n",
    "# inner sum, sums over rows. outer sum, sums over columns\n",
    "print(f\"total empty values: {train.isna().sum().sum()}\")"
   ]
  },
  {
   "cell_type": "code",
   "execution_count": 6,
   "id": "becoming-uganda",
   "metadata": {
    "execution": {
     "iopub.execute_input": "2021-09-13T07:37:06.637372Z",
     "iopub.status.busy": "2021-09-13T07:37:06.636531Z",
     "iopub.status.idle": "2021-09-13T07:37:06.639354Z",
     "shell.execute_reply": "2021-09-13T07:37:06.639793Z",
     "shell.execute_reply.started": "2021-09-13T07:26:25.049258Z"
    },
    "papermill": {
     "duration": 0.078583,
     "end_time": "2021-09-13T07:37:06.639965",
     "exception": false,
     "start_time": "2021-09-13T07:37:06.561382",
     "status": "completed"
    },
    "tags": []
   },
   "outputs": [],
   "source": [
    "X = train.drop('label', axis=1) # features\n",
    "y = to_categorical(train['label']) # one-hot encoded target"
   ]
  },
  {
   "cell_type": "code",
   "execution_count": 7,
   "id": "working-tiffany",
   "metadata": {
    "execution": {
     "iopub.execute_input": "2021-09-13T07:37:06.678550Z",
     "iopub.status.busy": "2021-09-13T07:37:06.677214Z",
     "iopub.status.idle": "2021-09-13T07:37:06.679715Z",
     "shell.execute_reply": "2021-09-13T07:37:06.680123Z",
     "shell.execute_reply.started": "2021-09-13T07:26:25.116426Z"
    },
    "papermill": {
     "duration": 0.022808,
     "end_time": "2021-09-13T07:37:06.680262",
     "exception": false,
     "start_time": "2021-09-13T07:37:06.657454",
     "status": "completed"
    },
    "tags": []
   },
   "outputs": [],
   "source": [
    "# utility function to reshape square black and white image\n",
    "# assumes that image has equal width and height in pixels and image is a black and white image\n",
    "def reshape_bw(X):\n",
    "    samples, width, channel = X.shape[0], int(X.shape[1] ** (1/2)) ,1\n",
    "    return X.values.reshape(samples, width, width, channel)  "
   ]
  },
  {
   "cell_type": "code",
   "execution_count": 8,
   "id": "challenging-decision",
   "metadata": {
    "execution": {
     "iopub.execute_input": "2021-09-13T07:37:06.715408Z",
     "iopub.status.busy": "2021-09-13T07:37:06.714230Z",
     "iopub.status.idle": "2021-09-13T07:37:06.716588Z",
     "shell.execute_reply": "2021-09-13T07:37:06.716957Z",
     "shell.execute_reply.started": "2021-09-13T07:26:25.131351Z"
    },
    "papermill": {
     "duration": 0.021458,
     "end_time": "2021-09-13T07:37:06.717078",
     "exception": false,
     "start_time": "2021-09-13T07:37:06.695620",
     "status": "completed"
    },
    "tags": []
   },
   "outputs": [],
   "source": [
    "X = reshape_bw(X)\n",
    "width, height, channel = X.shape[1], X.shape[2], X.shape[3]"
   ]
  },
  {
   "cell_type": "code",
   "execution_count": 9,
   "id": "unable-girlfriend",
   "metadata": {
    "execution": {
     "iopub.execute_input": "2021-09-13T07:37:06.765162Z",
     "iopub.status.busy": "2021-09-13T07:37:06.764627Z",
     "iopub.status.idle": "2021-09-13T07:37:06.803577Z",
     "shell.execute_reply": "2021-09-13T07:37:06.803160Z",
     "shell.execute_reply.started": "2021-09-13T07:26:25.144178Z"
    },
    "papermill": {
     "duration": 0.071001,
     "end_time": "2021-09-13T07:37:06.803685",
     "exception": false,
     "start_time": "2021-09-13T07:37:06.732684",
     "status": "completed"
    },
    "tags": []
   },
   "outputs": [
    {
     "data": {
      "image/png": "[encoded data removed]",
      "text/plain": [
       "<Figure size 432x288 with 1 Axes>"
      ]
     },
     "metadata": {},
     "output_type": "display_data"
    }
   ],
   "source": [
    "# helper function to help plotting image\n",
    "def plot_image(X):\n",
    "    _ = plt.imshow(X, cmap='gray')\n",
    "    plt.axis('off')\n",
    "    plt.show()\n",
    "    \n",
    "plot_image(X[0]) # plot sample image"
   ]
  },
  {
   "cell_type": "code",
   "execution_count": 10,
   "id": "level-speaking",
   "metadata": {
    "execution": {
     "iopub.execute_input": "2021-09-13T07:37:06.840570Z",
     "iopub.status.busy": "2021-09-13T07:37:06.839681Z",
     "iopub.status.idle": "2021-09-13T07:37:07.800637Z",
     "shell.execute_reply": "2021-09-13T07:37:07.800150Z",
     "shell.execute_reply.started": "2021-09-13T07:26:25.232105Z"
    },
    "papermill": {
     "duration": 0.980756,
     "end_time": "2021-09-13T07:37:07.800770",
     "exception": false,
     "start_time": "2021-09-13T07:37:06.820014",
     "status": "completed"
    },
    "tags": []
   },
   "outputs": [],
   "source": [
    "# split data into train and validation set with same target distribution as before splitiing\n",
    "X_train, X_val, y_train, y_val = train_test_split(X,y, stratify=y, test_size=0.15)"
   ]
  },
  {
   "cell_type": "code",
   "execution_count": 11,
   "id": "rural-calibration",
   "metadata": {
    "execution": {
     "iopub.execute_input": "2021-09-13T07:37:07.837603Z",
     "iopub.status.busy": "2021-09-13T07:37:07.836702Z",
     "iopub.status.idle": "2021-09-13T07:37:07.959214Z",
     "shell.execute_reply": "2021-09-13T07:37:07.958724Z",
     "shell.execute_reply.started": "2021-09-13T07:26:26.235267Z"
    },
    "papermill": {
     "duration": 0.142449,
     "end_time": "2021-09-13T07:37:07.959352",
     "exception": false,
     "start_time": "2021-09-13T07:37:07.816903",
     "status": "completed"
    },
    "tags": []
   },
   "outputs": [],
   "source": [
    "# create data preprocessor and fit on train set\n",
    "generator = ImageDataGenerator(\n",
    "    featurewise_center=True, \n",
    "    featurewise_std_normalization=True, \n",
    ")\n",
    "generator.fit(X_train)"
   ]
  },
  {
   "cell_type": "code",
   "execution_count": 12,
   "id": "boxed-track",
   "metadata": {
    "execution": {
     "iopub.execute_input": "2021-09-13T07:37:08.001432Z",
     "iopub.status.busy": "2021-09-13T07:37:08.000812Z",
     "iopub.status.idle": "2021-09-13T07:37:10.167384Z",
     "shell.execute_reply": "2021-09-13T07:37:10.166748Z",
     "shell.execute_reply.started": "2021-09-13T07:26:26.360687Z"
    },
    "papermill": {
     "duration": 2.191312,
     "end_time": "2021-09-13T07:37:10.167599",
     "exception": false,
     "start_time": "2021-09-13T07:37:07.976287",
     "status": "completed"
    },
    "tags": []
   },
   "outputs": [],
   "source": [
    "# initialize model\n",
    "model = Sequential()\n",
    "model.add(Conv2D(32, (5, 5), padding=\"same\", input_shape=(width, height, channel)))\n",
    "model.add(BatchNormalization())\n",
    "model.add(Activation(relu))\n",
    "model.add(MaxPooling2D((2, 2)))\n",
    "model.add(Conv2D(64, (5, 5), padding=\"same\"))\n",
    "model.add(BatchNormalization())\n",
    "model.add(Activation(relu))\n",
    "model.add(MaxPooling2D((2, 2)))\n",
    "model.add(Conv2D(128, (5, 5),padding=\"same\"))\n",
    "model.add(BatchNormalization())\n",
    "model.add(Activation(relu))\n",
    "model.add(MaxPooling2D((2, 2)))\n",
    "model.add(Flatten())\n",
    "model.add(Dropout(0.4))\n",
    "model.add(Dense(64))\n",
    "model.add(BatchNormalization())\n",
    "model.add(Activation(relu))\n",
    "model.add(Dropout(0.25))\n",
    "model.add(Dense(y.shape[1], activation='softmax'))"
   ]
  },
  {
   "cell_type": "code",
   "execution_count": 13,
   "id": "chronic-pixel",
   "metadata": {
    "execution": {
     "iopub.execute_input": "2021-09-13T07:37:10.212235Z",
     "iopub.status.busy": "2021-09-13T07:37:10.209102Z",
     "iopub.status.idle": "2021-09-13T07:37:10.217936Z",
     "shell.execute_reply": "2021-09-13T07:37:10.217507Z",
     "shell.execute_reply.started": "2021-09-13T07:26:28.338115Z"
    },
    "papermill": {
     "duration": 0.03396,
     "end_time": "2021-09-13T07:37:10.218054",
     "exception": false,
     "start_time": "2021-09-13T07:37:10.184094",
     "status": "completed"
    },
    "tags": []
   },
   "outputs": [],
   "source": [
    "model.compile(optimizer=Adam(), loss='categorical_crossentropy', metrics=['accuracy'])"
   ]
  },
  {
   "cell_type": "code",
   "execution_count": 14,
   "id": "quiet-transaction",
   "metadata": {
    "execution": {
     "iopub.execute_input": "2021-09-13T07:37:10.257102Z",
     "iopub.status.busy": "2021-09-13T07:37:10.256497Z",
     "iopub.status.idle": "2021-09-13T07:37:10.260956Z",
     "shell.execute_reply": "2021-09-13T07:37:10.260464Z",
     "shell.execute_reply.started": "2021-09-13T07:26:28.356124Z"
    },
    "papermill": {
     "duration": 0.025228,
     "end_time": "2021-09-13T07:37:10.261087",
     "exception": false,
     "start_time": "2021-09-13T07:37:10.235859",
     "status": "completed"
    },
    "tags": []
   },
   "outputs": [],
   "source": [
    "# initialize callback to save best model so far\n",
    "cb = [ModelCheckpoint('model.h5', monitor='val_loss', mode='min',save_best_only=True)]"
   ]
  },
  {
   "cell_type": "code",
   "execution_count": 15,
   "id": "possible-germany",
   "metadata": {
    "execution": {
     "iopub.execute_input": "2021-09-13T07:37:10.299903Z",
     "iopub.status.busy": "2021-09-13T07:37:10.298987Z",
     "iopub.status.idle": "2021-09-13T07:38:55.653066Z",
     "shell.execute_reply": "2021-09-13T07:38:55.653761Z",
     "shell.execute_reply.started": "2021-09-13T07:26:28.362931Z"
    },
    "papermill": {
     "duration": 105.375607,
     "end_time": "2021-09-13T07:38:55.653948",
     "exception": false,
     "start_time": "2021-09-13T07:37:10.278341",
     "status": "completed"
    },
    "tags": []
   },
   "outputs": [
    {
     "name": "stderr",
     "output_type": "stream",
     "text": [
      "/opt/conda/lib/python3.7/site-packages/tensorflow/python/keras/engine/training.py:1844: UserWarning: `Model.fit_generator` is deprecated and will be removed in a future version. Please use `Model.fit`, which supports generators.\n",
      "  warnings.warn('`Model.fit_generator` is deprecated and '\n"
     ]
    },
    {
     "name": "stdout",
     "output_type": "stream",
     "text": [
      "Epoch 1/25\n",
      "730/730 [==============================] - 9s 6ms/step - loss: 1.3734 - accuracy: 0.6523 - val_loss: 0.0193 - val_accuracy: 1.0000\n",
      "Epoch 2/25\n",
      "730/730 [==============================] - 4s 6ms/step - loss: 0.0374 - accuracy: 0.9981 - val_loss: 0.0029 - val_accuracy: 1.0000\n",
      "Epoch 3/25\n",
      "730/730 [==============================] - 4s 5ms/step - loss: 0.0265 - accuracy: 0.9975 - val_loss: 0.0014 - val_accuracy: 1.0000\n",
      "Epoch 4/25\n",
      "730/730 [==============================] - 4s 5ms/step - loss: 0.0243 - accuracy: 0.9955 - val_loss: 4.2431e-04 - val_accuracy: 1.0000\n",
      "Epoch 5/25\n",
      "730/730 [==============================] - 4s 6ms/step - loss: 0.0081 - accuracy: 0.9993 - val_loss: 0.0040 - val_accuracy: 0.9993\n",
      "Epoch 6/25\n",
      "730/730 [==============================] - 4s 6ms/step - loss: 0.0221 - accuracy: 0.9946 - val_loss: 1.1352e-04 - val_accuracy: 1.0000\n",
      "Epoch 7/25\n",
      "730/730 [==============================] - 4s 6ms/step - loss: 0.0082 - accuracy: 0.9977 - val_loss: 2.0957e-04 - val_accuracy: 1.0000\n",
      "Epoch 8/25\n",
      "730/730 [==============================] - 4s 5ms/step - loss: 0.0030 - accuracy: 0.9998 - val_loss: 3.2129e-04 - val_accuracy: 1.0000\n",
      "Epoch 9/25\n",
      "730/730 [==============================] - 4s 5ms/step - loss: 0.0199 - accuracy: 0.9947 - val_loss: 2.5168e-04 - val_accuracy: 1.0000\n",
      "Epoch 10/25\n",
      "730/730 [==============================] - 4s 5ms/step - loss: 0.0048 - accuracy: 0.9986 - val_loss: 2.7957e-05 - val_accuracy: 1.0000\n",
      "Epoch 11/25\n",
      "730/730 [==============================] - 4s 5ms/step - loss: 0.0049 - accuracy: 0.9987 - val_loss: 0.0014 - val_accuracy: 1.0000\n",
      "Epoch 12/25\n",
      "730/730 [==============================] - 4s 5ms/step - loss: 0.0129 - accuracy: 0.9967 - val_loss: 3.4685e-05 - val_accuracy: 1.0000\n",
      "Epoch 13/25\n",
      "730/730 [==============================] - 4s 6ms/step - loss: 0.0034 - accuracy: 0.9990 - val_loss: 8.1793e-05 - val_accuracy: 1.0000\n",
      "Epoch 14/25\n",
      "730/730 [==============================] - 4s 6ms/step - loss: 0.0078 - accuracy: 0.9975 - val_loss: 2.7249e-06 - val_accuracy: 1.0000\n",
      "Epoch 15/25\n",
      "730/730 [==============================] - 4s 5ms/step - loss: 0.0061 - accuracy: 0.9981 - val_loss: 6.9792e-05 - val_accuracy: 1.0000\n",
      "Epoch 16/25\n",
      "730/730 [==============================] - 4s 5ms/step - loss: 0.0031 - accuracy: 0.9990 - val_loss: 3.8246e-05 - val_accuracy: 1.0000\n",
      "Epoch 17/25\n",
      "730/730 [==============================] - 4s 5ms/step - loss: 0.0029 - accuracy: 0.9995 - val_loss: 1.1138e-05 - val_accuracy: 1.0000\n",
      "Epoch 18/25\n",
      "730/730 [==============================] - 4s 6ms/step - loss: 0.0053 - accuracy: 0.9985 - val_loss: 3.9124e-05 - val_accuracy: 1.0000\n",
      "Epoch 19/25\n",
      "730/730 [==============================] - 4s 5ms/step - loss: 0.0057 - accuracy: 0.9986 - val_loss: 6.6100e-06 - val_accuracy: 1.0000\n",
      "Epoch 20/25\n",
      "730/730 [==============================] - 4s 5ms/step - loss: 0.0027 - accuracy: 0.9995 - val_loss: 2.1998e-06 - val_accuracy: 1.0000\n",
      "Epoch 21/25\n",
      "730/730 [==============================] - 4s 5ms/step - loss: 0.0040 - accuracy: 0.9987 - val_loss: 5.2314e-05 - val_accuracy: 1.0000\n",
      "Epoch 22/25\n",
      "730/730 [==============================] - 4s 6ms/step - loss: 0.0065 - accuracy: 0.9985 - val_loss: 3.0285e-05 - val_accuracy: 1.0000\n",
      "Epoch 23/25\n",
      "730/730 [==============================] - 4s 5ms/step - loss: 0.0018 - accuracy: 0.9995 - val_loss: 1.5041e-05 - val_accuracy: 1.0000\n",
      "Epoch 24/25\n",
      "730/730 [==============================] - 4s 5ms/step - loss: 0.0040 - accuracy: 0.9987 - val_loss: 2.2381e-06 - val_accuracy: 1.0000\n",
      "Epoch 25/25\n",
      "730/730 [==============================] - 4s 5ms/step - loss: 0.0013 - accuracy: 0.9996 - val_loss: 3.9687e-07 - val_accuracy: 1.0000\n"
     ]
    }
   ],
   "source": [
    "# train model\n",
    "history = model.fit_generator(generator.flow(X_train, y_train, batch_size=32), \\\n",
    "                              epochs=25, \\\n",
    "                              validation_data=generator.flow(X_val,y_val,batch_size=32), \\\n",
    "                              callbacks=cb)"
   ]
  },
  {
   "cell_type": "code",
   "execution_count": 16,
   "id": "skilled-hazard",
   "metadata": {
    "execution": {
     "iopub.execute_input": "2021-09-13T07:38:56.575747Z",
     "iopub.status.busy": "2021-09-13T07:38:56.575135Z",
     "iopub.status.idle": "2021-09-13T07:38:56.764170Z",
     "shell.execute_reply": "2021-09-13T07:38:56.764589Z",
     "shell.execute_reply.started": "2021-09-13T07:28:11.438431Z"
    },
    "papermill": {
     "duration": 0.65845,
     "end_time": "2021-09-13T07:38:56.764728",
     "exception": false,
     "start_time": "2021-09-13T07:38:56.106278",
     "status": "completed"
    },
    "tags": []
   },
   "outputs": [
    {
     "data": {
      "image/png": "[encoded data removed]",
      "text/plain": [
       "<Figure size 576x576 with 1 Axes>"
      ]
     },
     "metadata": {},
     "output_type": "display_data"
    }
   ],
   "source": [
    "# observe model performance during training\n",
    "_ = pd.DataFrame(history.history).plot(figsize=(8,8))"
   ]
  },
  {
   "cell_type": "code",
   "execution_count": 17,
   "id": "metallic-vampire",
   "metadata": {
    "execution": {
     "iopub.execute_input": "2021-09-13T07:38:57.695007Z",
     "iopub.status.busy": "2021-09-13T07:38:57.694453Z",
     "iopub.status.idle": "2021-09-13T07:38:58.613923Z",
     "shell.execute_reply": "2021-09-13T07:38:58.614564Z",
     "shell.execute_reply.started": "2021-09-13T07:28:11.633690Z"
    },
    "papermill": {
     "duration": 1.398513,
     "end_time": "2021-09-13T07:38:58.614717",
     "exception": false,
     "start_time": "2021-09-13T07:38:57.216204",
     "status": "completed"
    },
    "tags": []
   },
   "outputs": [
    {
     "data": {
      "text/html": [
       "<div>\n",
       "<style scoped>\n",
       "    .dataframe tbody tr th:only-of-type {\n",
       "        vertical-align: middle;\n",
       "    }\n",
       "\n",
       "    .dataframe tbody tr th {\n",
       "        vertical-align: top;\n",
       "    }\n",
       "\n",
       "    .dataframe thead th {\n",
       "        text-align: right;\n",
       "    }\n",
       "</style>\n",
       "<table border=\"1\" class=\"dataframe\">\n",
       "  <thead>\n",
       "    <tr style=\"text-align: right;\">\n",
       "      <th></th>\n",
       "      <th>label</th>\n",
       "      <th>pixel1</th>\n",
       "      <th>pixel2</th>\n",
       "      <th>pixel3</th>\n",
       "      <th>pixel4</th>\n",
       "      <th>pixel5</th>\n",
       "      <th>pixel6</th>\n",
       "      <th>pixel7</th>\n",
       "      <th>pixel8</th>\n",
       "      <th>pixel9</th>\n",
       "      <th>...</th>\n",
       "      <th>pixel775</th>\n",
       "      <th>pixel776</th>\n",
       "      <th>pixel777</th>\n",
       "      <th>pixel778</th>\n",
       "      <th>pixel779</th>\n",
       "      <th>pixel780</th>\n",
       "      <th>pixel781</th>\n",
       "      <th>pixel782</th>\n",
       "      <th>pixel783</th>\n",
       "      <th>pixel784</th>\n",
       "    </tr>\n",
       "  </thead>\n",
       "  <tbody>\n",
       "    <tr>\n",
       "      <th>0</th>\n",
       "      <td>6</td>\n",
       "      <td>149</td>\n",
       "      <td>149</td>\n",
       "      <td>150</td>\n",
       "      <td>150</td>\n",
       "      <td>150</td>\n",
       "      <td>151</td>\n",
       "      <td>151</td>\n",
       "      <td>150</td>\n",
       "      <td>151</td>\n",
       "      <td>...</td>\n",
       "      <td>138</td>\n",
       "      <td>148</td>\n",
       "      <td>127</td>\n",
       "      <td>89</td>\n",
       "      <td>82</td>\n",
       "      <td>96</td>\n",
       "      <td>106</td>\n",
       "      <td>112</td>\n",
       "      <td>120</td>\n",
       "      <td>107</td>\n",
       "    </tr>\n",
       "    <tr>\n",
       "      <th>1</th>\n",
       "      <td>5</td>\n",
       "      <td>126</td>\n",
       "      <td>128</td>\n",
       "      <td>131</td>\n",
       "      <td>132</td>\n",
       "      <td>133</td>\n",
       "      <td>134</td>\n",
       "      <td>135</td>\n",
       "      <td>135</td>\n",
       "      <td>136</td>\n",
       "      <td>...</td>\n",
       "      <td>47</td>\n",
       "      <td>104</td>\n",
       "      <td>194</td>\n",
       "      <td>183</td>\n",
       "      <td>186</td>\n",
       "      <td>184</td>\n",
       "      <td>184</td>\n",
       "      <td>184</td>\n",
       "      <td>182</td>\n",
       "      <td>180</td>\n",
       "    </tr>\n",
       "    <tr>\n",
       "      <th>2</th>\n",
       "      <td>10</td>\n",
       "      <td>85</td>\n",
       "      <td>88</td>\n",
       "      <td>92</td>\n",
       "      <td>96</td>\n",
       "      <td>105</td>\n",
       "      <td>123</td>\n",
       "      <td>135</td>\n",
       "      <td>143</td>\n",
       "      <td>147</td>\n",
       "      <td>...</td>\n",
       "      <td>68</td>\n",
       "      <td>166</td>\n",
       "      <td>242</td>\n",
       "      <td>227</td>\n",
       "      <td>230</td>\n",
       "      <td>227</td>\n",
       "      <td>226</td>\n",
       "      <td>225</td>\n",
       "      <td>224</td>\n",
       "      <td>222</td>\n",
       "    </tr>\n",
       "    <tr>\n",
       "      <th>3</th>\n",
       "      <td>0</td>\n",
       "      <td>203</td>\n",
       "      <td>205</td>\n",
       "      <td>207</td>\n",
       "      <td>206</td>\n",
       "      <td>207</td>\n",
       "      <td>209</td>\n",
       "      <td>210</td>\n",
       "      <td>209</td>\n",
       "      <td>210</td>\n",
       "      <td>...</td>\n",
       "      <td>154</td>\n",
       "      <td>248</td>\n",
       "      <td>247</td>\n",
       "      <td>248</td>\n",
       "      <td>253</td>\n",
       "      <td>236</td>\n",
       "      <td>230</td>\n",
       "      <td>240</td>\n",
       "      <td>253</td>\n",
       "      <td>255</td>\n",
       "    </tr>\n",
       "    <tr>\n",
       "      <th>4</th>\n",
       "      <td>3</td>\n",
       "      <td>188</td>\n",
       "      <td>191</td>\n",
       "      <td>193</td>\n",
       "      <td>195</td>\n",
       "      <td>199</td>\n",
       "      <td>201</td>\n",
       "      <td>202</td>\n",
       "      <td>203</td>\n",
       "      <td>203</td>\n",
       "      <td>...</td>\n",
       "      <td>26</td>\n",
       "      <td>40</td>\n",
       "      <td>64</td>\n",
       "      <td>48</td>\n",
       "      <td>29</td>\n",
       "      <td>46</td>\n",
       "      <td>49</td>\n",
       "      <td>46</td>\n",
       "      <td>46</td>\n",
       "      <td>53</td>\n",
       "    </tr>\n",
       "  </tbody>\n",
       "</table>\n",
       "<p>5 rows × 785 columns</p>\n",
       "</div>"
      ],
      "text/plain": [
       "   label  pixel1  pixel2  pixel3  pixel4  pixel5  pixel6  pixel7  pixel8  \\\n",
       "0      6     149     149     150     150     150     151     151     150   \n",
       "1      5     126     128     131     132     133     134     135     135   \n",
       "2     10      85      88      92      96     105     123     135     143   \n",
       "3      0     203     205     207     206     207     209     210     209   \n",
       "4      3     188     191     193     195     199     201     202     203   \n",
       "\n",
       "   pixel9  ...  pixel775  pixel776  pixel777  pixel778  pixel779  pixel780  \\\n",
       "0     151  ...       138       148       127        89        82        96   \n",
       "1     136  ...        47       104       194       183       186       184   \n",
       "2     147  ...        68       166       242       227       230       227   \n",
       "3     210  ...       154       248       247       248       253       236   \n",
       "4     203  ...        26        40        64        48        29        46   \n",
       "\n",
       "   pixel781  pixel782  pixel783  pixel784  \n",
       "0       106       112       120       107  \n",
       "1       184       184       182       180  \n",
       "2       226       225       224       222  \n",
       "3       230       240       253       255  \n",
       "4        49        46        46        53  \n",
       "\n",
       "[5 rows x 785 columns]"
      ]
     },
     "execution_count": 17,
     "metadata": {},
     "output_type": "execute_result"
    }
   ],
   "source": [
    "# evaluate model on unseen data\n",
    "test = pd.read_csv(test_path)\n",
    "test.head()"
   ]
  },
  {
   "cell_type": "code",
   "execution_count": 18,
   "id": "subsequent-washer",
   "metadata": {
    "execution": {
     "iopub.execute_input": "2021-09-13T07:38:59.551282Z",
     "iopub.status.busy": "2021-09-13T07:38:59.548749Z",
     "iopub.status.idle": "2021-09-13T07:38:59.566332Z",
     "shell.execute_reply": "2021-09-13T07:38:59.567241Z",
     "shell.execute_reply.started": "2021-09-13T07:28:12.541591Z"
    },
    "papermill": {
     "duration": 0.495112,
     "end_time": "2021-09-13T07:38:59.567557",
     "exception": false,
     "start_time": "2021-09-13T07:38:59.072445",
     "status": "completed"
    },
    "tags": []
   },
   "outputs": [
    {
     "data": {
      "text/plain": [
       "(7172, 28, 28, 1)"
      ]
     },
     "execution_count": 18,
     "metadata": {},
     "output_type": "execute_result"
    }
   ],
   "source": [
    "X_test = test.drop('label', axis=1)\n",
    "y_test = test['label']\n",
    "X_test = reshape_bw(X_test)\n",
    "y_test = to_categorical(y_test)\n",
    "X_test.shape"
   ]
  },
  {
   "cell_type": "code",
   "execution_count": 19,
   "id": "monetary-control",
   "metadata": {
    "execution": {
     "iopub.execute_input": "2021-09-13T07:39:00.744161Z",
     "iopub.status.busy": "2021-09-13T07:39:00.743381Z",
     "iopub.status.idle": "2021-09-13T07:39:00.956506Z",
     "shell.execute_reply": "2021-09-13T07:39:00.957074Z",
     "shell.execute_reply.started": "2021-09-13T07:28:12.565639Z"
    },
    "papermill": {
     "duration": 0.710591,
     "end_time": "2021-09-13T07:39:00.957266",
     "exception": false,
     "start_time": "2021-09-13T07:39:00.246675",
     "status": "completed"
    },
    "tags": []
   },
   "outputs": [
    {
     "name": "stdout",
     "output_type": "stream",
     "text": [
      "label: 6\n"
     ]
    },
    {
     "data": {
      "image/png": "[encoded data removed]",
      "text/plain": [
       "<Figure size 432x288 with 1 Axes>"
      ]
     },
     "metadata": {},
     "output_type": "display_data"
    }
   ],
   "source": [
    "print(f\"label: {np.argmax(model.predict(np.expand_dims([X_test[0]], axis=-1), verbose=0))}\")\n",
    "plot_image(X_test[0])"
   ]
  },
  {
   "cell_type": "code",
   "execution_count": 20,
   "id": "interpreted-package",
   "metadata": {
    "execution": {
     "iopub.execute_input": "2021-09-13T07:39:01.871119Z",
     "iopub.status.busy": "2021-09-13T07:39:01.870293Z",
     "iopub.status.idle": "2021-09-13T07:39:02.645331Z",
     "shell.execute_reply": "2021-09-13T07:39:02.645924Z",
     "shell.execute_reply.started": "2021-09-13T07:28:12.788315Z"
    },
    "papermill": {
     "duration": 1.23522,
     "end_time": "2021-09-13T07:39:02.646136",
     "exception": false,
     "start_time": "2021-09-13T07:39:01.410916",
     "status": "completed"
    },
    "tags": []
   },
   "outputs": [
    {
     "name": "stdout",
     "output_type": "stream",
     "text": [
      "225/225 [==============================] - 1s 3ms/step - loss: 0.0215 - accuracy: 0.9930\n",
      "\n",
      "model loss: 0.021509403362870216\n",
      "model accuracy:99.3 %\n"
     ]
    }
   ],
   "source": [
    "loss, acc = model.evaluate(generator.flow(X_test,y_test,batch_size=32))\n",
    "print()\n",
    "print(f\"model loss: {loss}\")\n",
    "print(f\"model accuracy:{round(acc*100,2)} %\")"
   ]
  }
 ],
 "metadata": {
  "kernelspec": {
   "display_name": "Python 3",
   "language": "python",
   "name": "python3"
  },
  "language_info": {
   "codemirror_mode": {
    "name": "ipython",
    "version": 3
   },
   "file_extension": ".py",
   "mimetype": "text/x-python",
   "name": "python",
   "nbconvert_exporter": "python",
   "pygments_lexer": "ipython3",
   "version": "3.7.10"
  },
  "papermill": {
   "default_parameters": {},
   "duration": 136.727498,
   "end_time": "2021-09-13T07:39:05.506941",
   "environment_variables": {},
   "exception": null,
   "input_path": "__notebook__.ipynb",
   "output_path": "__notebook__.ipynb",
   "parameters": {},
   "start_time": "2021-09-13T07:36:48.779443",
   "version": "2.3.3"
  }
 },
 "nbformat": 4,
 "nbformat_minor": 5
}
