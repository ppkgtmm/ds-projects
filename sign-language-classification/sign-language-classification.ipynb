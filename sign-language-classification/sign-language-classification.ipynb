{
  "nbformat": 4,
  "nbformat_minor": 5,
  "metadata": {
    "kernelspec": {
      "display_name": "Python 3",
      "language": "python",
      "name": "python3"
    },
    "language_info": {
      "codemirror_mode": {
        "name": "ipython",
        "version": 3
      },
      "file_extension": ".py",
      "mimetype": "text/x-python",
      "name": "python",
      "nbconvert_exporter": "python",
      "pygments_lexer": "ipython3",
      "version": "3.7.10"
    },
    "papermill": {
      "default_parameters": {},
      "duration": 552.799366,
      "end_time": "2021-10-09T10:43:21.888368",
      "environment_variables": {},
      "exception": null,
      "input_path": "__notebook__.ipynb",
      "output_path": "__notebook__.ipynb",
      "parameters": {},
      "start_time": "2021-10-09T10:34:09.089002",
      "version": "2.3.3"
    },
    "colab": {
      "name": "sign_language_classification.ipynb",
      "provenance": [],
      "collapsed_sections": []
    },
    "accelerator": "GPU"
  },
  "cells": [
    {
      "cell_type": "code",
      "metadata": {
        "colab": {
          "base_uri": "https://localhost:8080/"
        },
        "id": "ZE1drG19nqGK",
        "outputId": "d9698bf9-88f2-4a60-ff58-b598799dc77f"
      },
      "source": [
        "from google.colab import drive\n",
        "drive.mount('/content/drive')"
      ],
      "id": "ZE1drG19nqGK",
      "execution_count": 1,
      "outputs": [
        {
          "output_type": "stream",
          "name": "stdout",
          "text": [
            "Mounted at /content/drive\n"
          ]
        }
      ]
    },
    {
      "cell_type": "code",
      "metadata": {
        "colab": {
          "base_uri": "https://localhost:8080/"
        },
        "id": "5jtTlqJooG6Q",
        "outputId": "5c49fa61-8147-4ad2-f810-d65d7d1b6625"
      },
      "source": [
        "import os\n",
        "os.environ['KAGGLE_CONFIG_DIR'] = '/content/drive/MyDrive'\n",
        "!kaggle datasets download -d datamunge/sign-language-mnist\n",
        "!unzip ./sign-language-mnist.zip"
      ],
      "id": "5jtTlqJooG6Q",
      "execution_count": 2,
      "outputs": [
        {
          "output_type": "stream",
          "name": "stdout",
          "text": [
            "Downloading sign-language-mnist.zip to /content\n",
            " 97% 61.0M/62.6M [00:00<00:00, 127MB/s]\n",
            "100% 62.6M/62.6M [00:00<00:00, 116MB/s]\n",
            "Archive:  ./sign-language-mnist.zip\n",
            "  inflating: amer_sign2.png          \n",
            "  inflating: amer_sign3.png          \n",
            "  inflating: american_sign_language.PNG  \n",
            "  inflating: sign_mnist_test.csv     \n",
            "  inflating: sign_mnist_test/sign_mnist_test.csv  \n",
            "  inflating: sign_mnist_train.csv    \n",
            "  inflating: sign_mnist_train/sign_mnist_train.csv  \n"
          ]
        }
      ]
    },
    {
      "cell_type": "code",
      "metadata": {
        "_cell_guid": "b1076dfc-b9ad-4769-8c92-a6c4dae69d19",
        "_uuid": "8f2839f25d086af736a60e9eeb907d3b93b6e0e5",
        "execution": {
          "iopub.execute_input": "2021-10-09T10:34:16.095131Z",
          "iopub.status.busy": "2021-10-09T10:34:16.094305Z",
          "iopub.status.idle": "2021-10-09T10:34:21.291164Z",
          "shell.execute_reply": "2021-10-09T10:34:21.290550Z",
          "shell.execute_reply.started": "2021-10-09T10:08:30.125305Z"
        },
        "papermill": {
          "duration": 5.236213,
          "end_time": "2021-10-09T10:34:21.291334",
          "exception": false,
          "start_time": "2021-10-09T10:34:16.055121",
          "status": "completed"
        },
        "tags": [],
        "id": "located-coach"
      },
      "source": [
        "%matplotlib inline\n",
        "import pandas as pd\n",
        "import numpy as np\n",
        "import matplotlib.pyplot as plt\n",
        "import tensorflow.keras as keras\n",
        "from sklearn.model_selection import train_test_split\n",
        "import seaborn as sns\n",
        "plt.rcParams['font.size'] = 12\n",
        "plt.rcParams['lines.color'] ='#000000'\n",
        "np.random.seed(42)"
      ],
      "id": "located-coach",
      "execution_count": 3,
      "outputs": []
    },
    {
      "cell_type": "code",
      "metadata": {
        "execution": {
          "iopub.execute_input": "2021-10-09T10:34:21.337426Z",
          "iopub.status.busy": "2021-10-09T10:34:21.336603Z",
          "iopub.status.idle": "2021-10-09T10:34:21.339054Z",
          "shell.execute_reply": "2021-10-09T10:34:21.339488Z",
          "shell.execute_reply.started": "2021-10-09T10:08:35.685467Z"
        },
        "papermill": {
          "duration": 0.026416,
          "end_time": "2021-10-09T10:34:21.339629",
          "exception": false,
          "start_time": "2021-10-09T10:34:21.313213",
          "status": "completed"
        },
        "tags": [],
        "id": "unexpected-development"
      },
      "source": [
        "train_path = './sign_mnist_train/sign_mnist_train.csv'\n",
        "test_path = './sign_mnist_test/sign_mnist_test.csv'"
      ],
      "id": "unexpected-development",
      "execution_count": 4,
      "outputs": []
    },
    {
      "cell_type": "code",
      "metadata": {
        "execution": {
          "iopub.execute_input": "2021-10-09T10:34:21.391325Z",
          "iopub.status.busy": "2021-10-09T10:34:21.390792Z",
          "iopub.status.idle": "2021-10-09T10:34:24.770887Z",
          "shell.execute_reply": "2021-10-09T10:34:24.771324Z",
          "shell.execute_reply.started": "2021-10-09T10:08:35.692760Z"
        },
        "papermill": {
          "duration": 3.412123,
          "end_time": "2021-10-09T10:34:24.771482",
          "exception": false,
          "start_time": "2021-10-09T10:34:21.359359",
          "status": "completed"
        },
        "tags": [],
        "colab": {
          "base_uri": "https://localhost:8080/",
          "height": 253
        },
        "id": "rational-foundation",
        "outputId": "b840ee00-29cc-411f-e0cf-7af19bee0aa2"
      },
      "source": [
        "train = pd.read_csv(train_path) # import training data\n",
        "train.head()"
      ],
      "id": "rational-foundation",
      "execution_count": 6,
      "outputs": [
        {
          "output_type": "execute_result",
          "data": {
            "text/html": [
              "<div>\n",
              "<style scoped>\n",
              "    .dataframe tbody tr th:only-of-type {\n",
              "        vertical-align: middle;\n",
              "    }\n",
              "\n",
              "    .dataframe tbody tr th {\n",
              "        vertical-align: top;\n",
              "    }\n",
              "\n",
              "    .dataframe thead th {\n",
              "        text-align: right;\n",
              "    }\n",
              "</style>\n",
              "<table border=\"1\" class=\"dataframe\">\n",
              "  <thead>\n",
              "    <tr style=\"text-align: right;\">\n",
              "      <th></th>\n",
              "      <th>label</th>\n",
              "      <th>pixel1</th>\n",
              "      <th>pixel2</th>\n",
              "      <th>pixel3</th>\n",
              "      <th>pixel4</th>\n",
              "      <th>pixel5</th>\n",
              "      <th>pixel6</th>\n",
              "      <th>pixel7</th>\n",
              "      <th>pixel8</th>\n",
              "      <th>pixel9</th>\n",
              "      <th>pixel10</th>\n",
              "      <th>pixel11</th>\n",
              "      <th>pixel12</th>\n",
              "      <th>pixel13</th>\n",
              "      <th>pixel14</th>\n",
              "      <th>pixel15</th>\n",
              "      <th>pixel16</th>\n",
              "      <th>pixel17</th>\n",
              "      <th>pixel18</th>\n",
              "      <th>pixel19</th>\n",
              "      <th>pixel20</th>\n",
              "      <th>pixel21</th>\n",
              "      <th>pixel22</th>\n",
              "      <th>pixel23</th>\n",
              "      <th>pixel24</th>\n",
              "      <th>pixel25</th>\n",
              "      <th>pixel26</th>\n",
              "      <th>pixel27</th>\n",
              "      <th>pixel28</th>\n",
              "      <th>pixel29</th>\n",
              "      <th>pixel30</th>\n",
              "      <th>pixel31</th>\n",
              "      <th>pixel32</th>\n",
              "      <th>pixel33</th>\n",
              "      <th>pixel34</th>\n",
              "      <th>pixel35</th>\n",
              "      <th>pixel36</th>\n",
              "      <th>pixel37</th>\n",
              "      <th>pixel38</th>\n",
              "      <th>pixel39</th>\n",
              "      <th>...</th>\n",
              "      <th>pixel745</th>\n",
              "      <th>pixel746</th>\n",
              "      <th>pixel747</th>\n",
              "      <th>pixel748</th>\n",
              "      <th>pixel749</th>\n",
              "      <th>pixel750</th>\n",
              "      <th>pixel751</th>\n",
              "      <th>pixel752</th>\n",
              "      <th>pixel753</th>\n",
              "      <th>pixel754</th>\n",
              "      <th>pixel755</th>\n",
              "      <th>pixel756</th>\n",
              "      <th>pixel757</th>\n",
              "      <th>pixel758</th>\n",
              "      <th>pixel759</th>\n",
              "      <th>pixel760</th>\n",
              "      <th>pixel761</th>\n",
              "      <th>pixel762</th>\n",
              "      <th>pixel763</th>\n",
              "      <th>pixel764</th>\n",
              "      <th>pixel765</th>\n",
              "      <th>pixel766</th>\n",
              "      <th>pixel767</th>\n",
              "      <th>pixel768</th>\n",
              "      <th>pixel769</th>\n",
              "      <th>pixel770</th>\n",
              "      <th>pixel771</th>\n",
              "      <th>pixel772</th>\n",
              "      <th>pixel773</th>\n",
              "      <th>pixel774</th>\n",
              "      <th>pixel775</th>\n",
              "      <th>pixel776</th>\n",
              "      <th>pixel777</th>\n",
              "      <th>pixel778</th>\n",
              "      <th>pixel779</th>\n",
              "      <th>pixel780</th>\n",
              "      <th>pixel781</th>\n",
              "      <th>pixel782</th>\n",
              "      <th>pixel783</th>\n",
              "      <th>pixel784</th>\n",
              "    </tr>\n",
              "  </thead>\n",
              "  <tbody>\n",
              "    <tr>\n",
              "      <th>0</th>\n",
              "      <td>3</td>\n",
              "      <td>107</td>\n",
              "      <td>118</td>\n",
              "      <td>127</td>\n",
              "      <td>134</td>\n",
              "      <td>139</td>\n",
              "      <td>143</td>\n",
              "      <td>146</td>\n",
              "      <td>150</td>\n",
              "      <td>153</td>\n",
              "      <td>156</td>\n",
              "      <td>158</td>\n",
              "      <td>160</td>\n",
              "      <td>163</td>\n",
              "      <td>165</td>\n",
              "      <td>159</td>\n",
              "      <td>166</td>\n",
              "      <td>168</td>\n",
              "      <td>170</td>\n",
              "      <td>170</td>\n",
              "      <td>171</td>\n",
              "      <td>171</td>\n",
              "      <td>171</td>\n",
              "      <td>172</td>\n",
              "      <td>171</td>\n",
              "      <td>171</td>\n",
              "      <td>170</td>\n",
              "      <td>170</td>\n",
              "      <td>169</td>\n",
              "      <td>111</td>\n",
              "      <td>121</td>\n",
              "      <td>129</td>\n",
              "      <td>135</td>\n",
              "      <td>141</td>\n",
              "      <td>144</td>\n",
              "      <td>148</td>\n",
              "      <td>151</td>\n",
              "      <td>154</td>\n",
              "      <td>157</td>\n",
              "      <td>160</td>\n",
              "      <td>...</td>\n",
              "      <td>205</td>\n",
              "      <td>206</td>\n",
              "      <td>206</td>\n",
              "      <td>207</td>\n",
              "      <td>207</td>\n",
              "      <td>206</td>\n",
              "      <td>206</td>\n",
              "      <td>204</td>\n",
              "      <td>205</td>\n",
              "      <td>204</td>\n",
              "      <td>203</td>\n",
              "      <td>202</td>\n",
              "      <td>142</td>\n",
              "      <td>151</td>\n",
              "      <td>160</td>\n",
              "      <td>172</td>\n",
              "      <td>196</td>\n",
              "      <td>188</td>\n",
              "      <td>188</td>\n",
              "      <td>190</td>\n",
              "      <td>135</td>\n",
              "      <td>96</td>\n",
              "      <td>86</td>\n",
              "      <td>77</td>\n",
              "      <td>77</td>\n",
              "      <td>79</td>\n",
              "      <td>176</td>\n",
              "      <td>205</td>\n",
              "      <td>207</td>\n",
              "      <td>207</td>\n",
              "      <td>207</td>\n",
              "      <td>207</td>\n",
              "      <td>207</td>\n",
              "      <td>207</td>\n",
              "      <td>206</td>\n",
              "      <td>206</td>\n",
              "      <td>206</td>\n",
              "      <td>204</td>\n",
              "      <td>203</td>\n",
              "      <td>202</td>\n",
              "    </tr>\n",
              "    <tr>\n",
              "      <th>1</th>\n",
              "      <td>6</td>\n",
              "      <td>155</td>\n",
              "      <td>157</td>\n",
              "      <td>156</td>\n",
              "      <td>156</td>\n",
              "      <td>156</td>\n",
              "      <td>157</td>\n",
              "      <td>156</td>\n",
              "      <td>158</td>\n",
              "      <td>158</td>\n",
              "      <td>157</td>\n",
              "      <td>158</td>\n",
              "      <td>156</td>\n",
              "      <td>154</td>\n",
              "      <td>154</td>\n",
              "      <td>153</td>\n",
              "      <td>152</td>\n",
              "      <td>151</td>\n",
              "      <td>149</td>\n",
              "      <td>149</td>\n",
              "      <td>148</td>\n",
              "      <td>147</td>\n",
              "      <td>146</td>\n",
              "      <td>144</td>\n",
              "      <td>142</td>\n",
              "      <td>143</td>\n",
              "      <td>138</td>\n",
              "      <td>92</td>\n",
              "      <td>108</td>\n",
              "      <td>158</td>\n",
              "      <td>159</td>\n",
              "      <td>159</td>\n",
              "      <td>159</td>\n",
              "      <td>160</td>\n",
              "      <td>160</td>\n",
              "      <td>160</td>\n",
              "      <td>160</td>\n",
              "      <td>160</td>\n",
              "      <td>160</td>\n",
              "      <td>160</td>\n",
              "      <td>...</td>\n",
              "      <td>100</td>\n",
              "      <td>78</td>\n",
              "      <td>120</td>\n",
              "      <td>157</td>\n",
              "      <td>168</td>\n",
              "      <td>107</td>\n",
              "      <td>99</td>\n",
              "      <td>121</td>\n",
              "      <td>133</td>\n",
              "      <td>97</td>\n",
              "      <td>95</td>\n",
              "      <td>120</td>\n",
              "      <td>135</td>\n",
              "      <td>116</td>\n",
              "      <td>95</td>\n",
              "      <td>79</td>\n",
              "      <td>69</td>\n",
              "      <td>86</td>\n",
              "      <td>139</td>\n",
              "      <td>173</td>\n",
              "      <td>200</td>\n",
              "      <td>185</td>\n",
              "      <td>175</td>\n",
              "      <td>198</td>\n",
              "      <td>124</td>\n",
              "      <td>118</td>\n",
              "      <td>94</td>\n",
              "      <td>140</td>\n",
              "      <td>133</td>\n",
              "      <td>84</td>\n",
              "      <td>69</td>\n",
              "      <td>149</td>\n",
              "      <td>128</td>\n",
              "      <td>87</td>\n",
              "      <td>94</td>\n",
              "      <td>163</td>\n",
              "      <td>175</td>\n",
              "      <td>103</td>\n",
              "      <td>135</td>\n",
              "      <td>149</td>\n",
              "    </tr>\n",
              "    <tr>\n",
              "      <th>2</th>\n",
              "      <td>2</td>\n",
              "      <td>187</td>\n",
              "      <td>188</td>\n",
              "      <td>188</td>\n",
              "      <td>187</td>\n",
              "      <td>187</td>\n",
              "      <td>186</td>\n",
              "      <td>187</td>\n",
              "      <td>188</td>\n",
              "      <td>187</td>\n",
              "      <td>186</td>\n",
              "      <td>185</td>\n",
              "      <td>185</td>\n",
              "      <td>185</td>\n",
              "      <td>184</td>\n",
              "      <td>184</td>\n",
              "      <td>184</td>\n",
              "      <td>181</td>\n",
              "      <td>181</td>\n",
              "      <td>179</td>\n",
              "      <td>179</td>\n",
              "      <td>179</td>\n",
              "      <td>178</td>\n",
              "      <td>178</td>\n",
              "      <td>109</td>\n",
              "      <td>52</td>\n",
              "      <td>66</td>\n",
              "      <td>77</td>\n",
              "      <td>83</td>\n",
              "      <td>188</td>\n",
              "      <td>189</td>\n",
              "      <td>189</td>\n",
              "      <td>188</td>\n",
              "      <td>188</td>\n",
              "      <td>189</td>\n",
              "      <td>188</td>\n",
              "      <td>188</td>\n",
              "      <td>188</td>\n",
              "      <td>188</td>\n",
              "      <td>187</td>\n",
              "      <td>...</td>\n",
              "      <td>203</td>\n",
              "      <td>204</td>\n",
              "      <td>203</td>\n",
              "      <td>201</td>\n",
              "      <td>200</td>\n",
              "      <td>200</td>\n",
              "      <td>199</td>\n",
              "      <td>198</td>\n",
              "      <td>196</td>\n",
              "      <td>195</td>\n",
              "      <td>194</td>\n",
              "      <td>193</td>\n",
              "      <td>198</td>\n",
              "      <td>166</td>\n",
              "      <td>132</td>\n",
              "      <td>114</td>\n",
              "      <td>89</td>\n",
              "      <td>74</td>\n",
              "      <td>79</td>\n",
              "      <td>77</td>\n",
              "      <td>74</td>\n",
              "      <td>78</td>\n",
              "      <td>132</td>\n",
              "      <td>188</td>\n",
              "      <td>210</td>\n",
              "      <td>209</td>\n",
              "      <td>206</td>\n",
              "      <td>205</td>\n",
              "      <td>204</td>\n",
              "      <td>203</td>\n",
              "      <td>202</td>\n",
              "      <td>201</td>\n",
              "      <td>200</td>\n",
              "      <td>199</td>\n",
              "      <td>198</td>\n",
              "      <td>199</td>\n",
              "      <td>198</td>\n",
              "      <td>195</td>\n",
              "      <td>194</td>\n",
              "      <td>195</td>\n",
              "    </tr>\n",
              "    <tr>\n",
              "      <th>3</th>\n",
              "      <td>2</td>\n",
              "      <td>211</td>\n",
              "      <td>211</td>\n",
              "      <td>212</td>\n",
              "      <td>212</td>\n",
              "      <td>211</td>\n",
              "      <td>210</td>\n",
              "      <td>211</td>\n",
              "      <td>210</td>\n",
              "      <td>210</td>\n",
              "      <td>211</td>\n",
              "      <td>209</td>\n",
              "      <td>207</td>\n",
              "      <td>208</td>\n",
              "      <td>207</td>\n",
              "      <td>206</td>\n",
              "      <td>203</td>\n",
              "      <td>202</td>\n",
              "      <td>201</td>\n",
              "      <td>200</td>\n",
              "      <td>198</td>\n",
              "      <td>197</td>\n",
              "      <td>195</td>\n",
              "      <td>192</td>\n",
              "      <td>197</td>\n",
              "      <td>171</td>\n",
              "      <td>51</td>\n",
              "      <td>52</td>\n",
              "      <td>54</td>\n",
              "      <td>212</td>\n",
              "      <td>213</td>\n",
              "      <td>215</td>\n",
              "      <td>215</td>\n",
              "      <td>212</td>\n",
              "      <td>212</td>\n",
              "      <td>213</td>\n",
              "      <td>212</td>\n",
              "      <td>212</td>\n",
              "      <td>211</td>\n",
              "      <td>211</td>\n",
              "      <td>...</td>\n",
              "      <td>247</td>\n",
              "      <td>242</td>\n",
              "      <td>233</td>\n",
              "      <td>231</td>\n",
              "      <td>230</td>\n",
              "      <td>229</td>\n",
              "      <td>227</td>\n",
              "      <td>225</td>\n",
              "      <td>223</td>\n",
              "      <td>221</td>\n",
              "      <td>220</td>\n",
              "      <td>216</td>\n",
              "      <td>58</td>\n",
              "      <td>51</td>\n",
              "      <td>49</td>\n",
              "      <td>50</td>\n",
              "      <td>57</td>\n",
              "      <td>60</td>\n",
              "      <td>17</td>\n",
              "      <td>15</td>\n",
              "      <td>18</td>\n",
              "      <td>17</td>\n",
              "      <td>19</td>\n",
              "      <td>1</td>\n",
              "      <td>159</td>\n",
              "      <td>255</td>\n",
              "      <td>237</td>\n",
              "      <td>239</td>\n",
              "      <td>237</td>\n",
              "      <td>236</td>\n",
              "      <td>235</td>\n",
              "      <td>234</td>\n",
              "      <td>233</td>\n",
              "      <td>231</td>\n",
              "      <td>230</td>\n",
              "      <td>226</td>\n",
              "      <td>225</td>\n",
              "      <td>222</td>\n",
              "      <td>229</td>\n",
              "      <td>163</td>\n",
              "    </tr>\n",
              "    <tr>\n",
              "      <th>4</th>\n",
              "      <td>13</td>\n",
              "      <td>164</td>\n",
              "      <td>167</td>\n",
              "      <td>170</td>\n",
              "      <td>172</td>\n",
              "      <td>176</td>\n",
              "      <td>179</td>\n",
              "      <td>180</td>\n",
              "      <td>184</td>\n",
              "      <td>185</td>\n",
              "      <td>186</td>\n",
              "      <td>188</td>\n",
              "      <td>189</td>\n",
              "      <td>189</td>\n",
              "      <td>190</td>\n",
              "      <td>191</td>\n",
              "      <td>189</td>\n",
              "      <td>190</td>\n",
              "      <td>190</td>\n",
              "      <td>187</td>\n",
              "      <td>190</td>\n",
              "      <td>192</td>\n",
              "      <td>193</td>\n",
              "      <td>191</td>\n",
              "      <td>191</td>\n",
              "      <td>192</td>\n",
              "      <td>192</td>\n",
              "      <td>194</td>\n",
              "      <td>194</td>\n",
              "      <td>166</td>\n",
              "      <td>169</td>\n",
              "      <td>172</td>\n",
              "      <td>174</td>\n",
              "      <td>177</td>\n",
              "      <td>180</td>\n",
              "      <td>182</td>\n",
              "      <td>185</td>\n",
              "      <td>186</td>\n",
              "      <td>187</td>\n",
              "      <td>190</td>\n",
              "      <td>...</td>\n",
              "      <td>90</td>\n",
              "      <td>77</td>\n",
              "      <td>88</td>\n",
              "      <td>117</td>\n",
              "      <td>123</td>\n",
              "      <td>127</td>\n",
              "      <td>129</td>\n",
              "      <td>134</td>\n",
              "      <td>145</td>\n",
              "      <td>152</td>\n",
              "      <td>156</td>\n",
              "      <td>179</td>\n",
              "      <td>105</td>\n",
              "      <td>106</td>\n",
              "      <td>105</td>\n",
              "      <td>104</td>\n",
              "      <td>104</td>\n",
              "      <td>104</td>\n",
              "      <td>175</td>\n",
              "      <td>199</td>\n",
              "      <td>178</td>\n",
              "      <td>152</td>\n",
              "      <td>136</td>\n",
              "      <td>130</td>\n",
              "      <td>136</td>\n",
              "      <td>150</td>\n",
              "      <td>118</td>\n",
              "      <td>92</td>\n",
              "      <td>85</td>\n",
              "      <td>76</td>\n",
              "      <td>92</td>\n",
              "      <td>105</td>\n",
              "      <td>105</td>\n",
              "      <td>108</td>\n",
              "      <td>133</td>\n",
              "      <td>163</td>\n",
              "      <td>157</td>\n",
              "      <td>163</td>\n",
              "      <td>164</td>\n",
              "      <td>179</td>\n",
              "    </tr>\n",
              "  </tbody>\n",
              "</table>\n",
              "<p>5 rows × 785 columns</p>\n",
              "</div>"
            ],
            "text/plain": [
              "   label  pixel1  pixel2  pixel3  ...  pixel781  pixel782  pixel783  pixel784\n",
              "0      3     107     118     127  ...       206       204       203       202\n",
              "1      6     155     157     156  ...       175       103       135       149\n",
              "2      2     187     188     188  ...       198       195       194       195\n",
              "3      2     211     211     212  ...       225       222       229       163\n",
              "4     13     164     167     170  ...       157       163       164       179\n",
              "\n",
              "[5 rows x 785 columns]"
            ]
          },
          "metadata": {},
          "execution_count": 6
        }
      ]
    },
    {
      "cell_type": "code",
      "metadata": {
        "colab": {
          "base_uri": "https://localhost:8080/",
          "height": 253
        },
        "id": "fsgRvNSYDtDt",
        "outputId": "78d16961-e0be-4f34-bd43-b4ca7f1b9004"
      },
      "source": [
        "test = pd.read_csv(test_path) # import test set\n",
        "test.head()"
      ],
      "id": "fsgRvNSYDtDt",
      "execution_count": 7,
      "outputs": [
        {
          "output_type": "execute_result",
          "data": {
            "text/html": [
              "<div>\n",
              "<style scoped>\n",
              "    .dataframe tbody tr th:only-of-type {\n",
              "        vertical-align: middle;\n",
              "    }\n",
              "\n",
              "    .dataframe tbody tr th {\n",
              "        vertical-align: top;\n",
              "    }\n",
              "\n",
              "    .dataframe thead th {\n",
              "        text-align: right;\n",
              "    }\n",
              "</style>\n",
              "<table border=\"1\" class=\"dataframe\">\n",
              "  <thead>\n",
              "    <tr style=\"text-align: right;\">\n",
              "      <th></th>\n",
              "      <th>label</th>\n",
              "      <th>pixel1</th>\n",
              "      <th>pixel2</th>\n",
              "      <th>pixel3</th>\n",
              "      <th>pixel4</th>\n",
              "      <th>pixel5</th>\n",
              "      <th>pixel6</th>\n",
              "      <th>pixel7</th>\n",
              "      <th>pixel8</th>\n",
              "      <th>pixel9</th>\n",
              "      <th>pixel10</th>\n",
              "      <th>pixel11</th>\n",
              "      <th>pixel12</th>\n",
              "      <th>pixel13</th>\n",
              "      <th>pixel14</th>\n",
              "      <th>pixel15</th>\n",
              "      <th>pixel16</th>\n",
              "      <th>pixel17</th>\n",
              "      <th>pixel18</th>\n",
              "      <th>pixel19</th>\n",
              "      <th>pixel20</th>\n",
              "      <th>pixel21</th>\n",
              "      <th>pixel22</th>\n",
              "      <th>pixel23</th>\n",
              "      <th>pixel24</th>\n",
              "      <th>pixel25</th>\n",
              "      <th>pixel26</th>\n",
              "      <th>pixel27</th>\n",
              "      <th>pixel28</th>\n",
              "      <th>pixel29</th>\n",
              "      <th>pixel30</th>\n",
              "      <th>pixel31</th>\n",
              "      <th>pixel32</th>\n",
              "      <th>pixel33</th>\n",
              "      <th>pixel34</th>\n",
              "      <th>pixel35</th>\n",
              "      <th>pixel36</th>\n",
              "      <th>pixel37</th>\n",
              "      <th>pixel38</th>\n",
              "      <th>pixel39</th>\n",
              "      <th>...</th>\n",
              "      <th>pixel745</th>\n",
              "      <th>pixel746</th>\n",
              "      <th>pixel747</th>\n",
              "      <th>pixel748</th>\n",
              "      <th>pixel749</th>\n",
              "      <th>pixel750</th>\n",
              "      <th>pixel751</th>\n",
              "      <th>pixel752</th>\n",
              "      <th>pixel753</th>\n",
              "      <th>pixel754</th>\n",
              "      <th>pixel755</th>\n",
              "      <th>pixel756</th>\n",
              "      <th>pixel757</th>\n",
              "      <th>pixel758</th>\n",
              "      <th>pixel759</th>\n",
              "      <th>pixel760</th>\n",
              "      <th>pixel761</th>\n",
              "      <th>pixel762</th>\n",
              "      <th>pixel763</th>\n",
              "      <th>pixel764</th>\n",
              "      <th>pixel765</th>\n",
              "      <th>pixel766</th>\n",
              "      <th>pixel767</th>\n",
              "      <th>pixel768</th>\n",
              "      <th>pixel769</th>\n",
              "      <th>pixel770</th>\n",
              "      <th>pixel771</th>\n",
              "      <th>pixel772</th>\n",
              "      <th>pixel773</th>\n",
              "      <th>pixel774</th>\n",
              "      <th>pixel775</th>\n",
              "      <th>pixel776</th>\n",
              "      <th>pixel777</th>\n",
              "      <th>pixel778</th>\n",
              "      <th>pixel779</th>\n",
              "      <th>pixel780</th>\n",
              "      <th>pixel781</th>\n",
              "      <th>pixel782</th>\n",
              "      <th>pixel783</th>\n",
              "      <th>pixel784</th>\n",
              "    </tr>\n",
              "  </thead>\n",
              "  <tbody>\n",
              "    <tr>\n",
              "      <th>0</th>\n",
              "      <td>6</td>\n",
              "      <td>149</td>\n",
              "      <td>149</td>\n",
              "      <td>150</td>\n",
              "      <td>150</td>\n",
              "      <td>150</td>\n",
              "      <td>151</td>\n",
              "      <td>151</td>\n",
              "      <td>150</td>\n",
              "      <td>151</td>\n",
              "      <td>152</td>\n",
              "      <td>152</td>\n",
              "      <td>152</td>\n",
              "      <td>152</td>\n",
              "      <td>152</td>\n",
              "      <td>153</td>\n",
              "      <td>153</td>\n",
              "      <td>151</td>\n",
              "      <td>152</td>\n",
              "      <td>152</td>\n",
              "      <td>153</td>\n",
              "      <td>152</td>\n",
              "      <td>152</td>\n",
              "      <td>151</td>\n",
              "      <td>151</td>\n",
              "      <td>150</td>\n",
              "      <td>150</td>\n",
              "      <td>150</td>\n",
              "      <td>149</td>\n",
              "      <td>150</td>\n",
              "      <td>150</td>\n",
              "      <td>150</td>\n",
              "      <td>152</td>\n",
              "      <td>152</td>\n",
              "      <td>151</td>\n",
              "      <td>152</td>\n",
              "      <td>152</td>\n",
              "      <td>152</td>\n",
              "      <td>152</td>\n",
              "      <td>152</td>\n",
              "      <td>...</td>\n",
              "      <td>131</td>\n",
              "      <td>134</td>\n",
              "      <td>144</td>\n",
              "      <td>147</td>\n",
              "      <td>125</td>\n",
              "      <td>87</td>\n",
              "      <td>87</td>\n",
              "      <td>103</td>\n",
              "      <td>107</td>\n",
              "      <td>110</td>\n",
              "      <td>116</td>\n",
              "      <td>113</td>\n",
              "      <td>75</td>\n",
              "      <td>74</td>\n",
              "      <td>74</td>\n",
              "      <td>74</td>\n",
              "      <td>76</td>\n",
              "      <td>74</td>\n",
              "      <td>82</td>\n",
              "      <td>134</td>\n",
              "      <td>168</td>\n",
              "      <td>155</td>\n",
              "      <td>146</td>\n",
              "      <td>137</td>\n",
              "      <td>145</td>\n",
              "      <td>146</td>\n",
              "      <td>149</td>\n",
              "      <td>135</td>\n",
              "      <td>124</td>\n",
              "      <td>125</td>\n",
              "      <td>138</td>\n",
              "      <td>148</td>\n",
              "      <td>127</td>\n",
              "      <td>89</td>\n",
              "      <td>82</td>\n",
              "      <td>96</td>\n",
              "      <td>106</td>\n",
              "      <td>112</td>\n",
              "      <td>120</td>\n",
              "      <td>107</td>\n",
              "    </tr>\n",
              "    <tr>\n",
              "      <th>1</th>\n",
              "      <td>5</td>\n",
              "      <td>126</td>\n",
              "      <td>128</td>\n",
              "      <td>131</td>\n",
              "      <td>132</td>\n",
              "      <td>133</td>\n",
              "      <td>134</td>\n",
              "      <td>135</td>\n",
              "      <td>135</td>\n",
              "      <td>136</td>\n",
              "      <td>138</td>\n",
              "      <td>137</td>\n",
              "      <td>137</td>\n",
              "      <td>138</td>\n",
              "      <td>138</td>\n",
              "      <td>139</td>\n",
              "      <td>137</td>\n",
              "      <td>142</td>\n",
              "      <td>140</td>\n",
              "      <td>138</td>\n",
              "      <td>139</td>\n",
              "      <td>137</td>\n",
              "      <td>137</td>\n",
              "      <td>136</td>\n",
              "      <td>135</td>\n",
              "      <td>134</td>\n",
              "      <td>133</td>\n",
              "      <td>134</td>\n",
              "      <td>132</td>\n",
              "      <td>129</td>\n",
              "      <td>132</td>\n",
              "      <td>134</td>\n",
              "      <td>135</td>\n",
              "      <td>135</td>\n",
              "      <td>137</td>\n",
              "      <td>139</td>\n",
              "      <td>139</td>\n",
              "      <td>139</td>\n",
              "      <td>140</td>\n",
              "      <td>141</td>\n",
              "      <td>...</td>\n",
              "      <td>114</td>\n",
              "      <td>112</td>\n",
              "      <td>89</td>\n",
              "      <td>48</td>\n",
              "      <td>133</td>\n",
              "      <td>194</td>\n",
              "      <td>182</td>\n",
              "      <td>185</td>\n",
              "      <td>184</td>\n",
              "      <td>184</td>\n",
              "      <td>182</td>\n",
              "      <td>181</td>\n",
              "      <td>172</td>\n",
              "      <td>174</td>\n",
              "      <td>177</td>\n",
              "      <td>178</td>\n",
              "      <td>178</td>\n",
              "      <td>179</td>\n",
              "      <td>181</td>\n",
              "      <td>183</td>\n",
              "      <td>187</td>\n",
              "      <td>175</td>\n",
              "      <td>165</td>\n",
              "      <td>154</td>\n",
              "      <td>118</td>\n",
              "      <td>107</td>\n",
              "      <td>100</td>\n",
              "      <td>75</td>\n",
              "      <td>96</td>\n",
              "      <td>83</td>\n",
              "      <td>47</td>\n",
              "      <td>104</td>\n",
              "      <td>194</td>\n",
              "      <td>183</td>\n",
              "      <td>186</td>\n",
              "      <td>184</td>\n",
              "      <td>184</td>\n",
              "      <td>184</td>\n",
              "      <td>182</td>\n",
              "      <td>180</td>\n",
              "    </tr>\n",
              "    <tr>\n",
              "      <th>2</th>\n",
              "      <td>10</td>\n",
              "      <td>85</td>\n",
              "      <td>88</td>\n",
              "      <td>92</td>\n",
              "      <td>96</td>\n",
              "      <td>105</td>\n",
              "      <td>123</td>\n",
              "      <td>135</td>\n",
              "      <td>143</td>\n",
              "      <td>147</td>\n",
              "      <td>152</td>\n",
              "      <td>157</td>\n",
              "      <td>163</td>\n",
              "      <td>168</td>\n",
              "      <td>171</td>\n",
              "      <td>182</td>\n",
              "      <td>172</td>\n",
              "      <td>175</td>\n",
              "      <td>185</td>\n",
              "      <td>183</td>\n",
              "      <td>184</td>\n",
              "      <td>185</td>\n",
              "      <td>185</td>\n",
              "      <td>185</td>\n",
              "      <td>183</td>\n",
              "      <td>183</td>\n",
              "      <td>182</td>\n",
              "      <td>181</td>\n",
              "      <td>178</td>\n",
              "      <td>86</td>\n",
              "      <td>88</td>\n",
              "      <td>93</td>\n",
              "      <td>96</td>\n",
              "      <td>108</td>\n",
              "      <td>125</td>\n",
              "      <td>137</td>\n",
              "      <td>145</td>\n",
              "      <td>149</td>\n",
              "      <td>154</td>\n",
              "      <td>160</td>\n",
              "      <td>...</td>\n",
              "      <td>145</td>\n",
              "      <td>123</td>\n",
              "      <td>78</td>\n",
              "      <td>162</td>\n",
              "      <td>239</td>\n",
              "      <td>227</td>\n",
              "      <td>229</td>\n",
              "      <td>226</td>\n",
              "      <td>226</td>\n",
              "      <td>225</td>\n",
              "      <td>224</td>\n",
              "      <td>222</td>\n",
              "      <td>89</td>\n",
              "      <td>91</td>\n",
              "      <td>94</td>\n",
              "      <td>111</td>\n",
              "      <td>136</td>\n",
              "      <td>154</td>\n",
              "      <td>167</td>\n",
              "      <td>184</td>\n",
              "      <td>125</td>\n",
              "      <td>3</td>\n",
              "      <td>166</td>\n",
              "      <td>225</td>\n",
              "      <td>195</td>\n",
              "      <td>188</td>\n",
              "      <td>172</td>\n",
              "      <td>185</td>\n",
              "      <td>161</td>\n",
              "      <td>122</td>\n",
              "      <td>68</td>\n",
              "      <td>166</td>\n",
              "      <td>242</td>\n",
              "      <td>227</td>\n",
              "      <td>230</td>\n",
              "      <td>227</td>\n",
              "      <td>226</td>\n",
              "      <td>225</td>\n",
              "      <td>224</td>\n",
              "      <td>222</td>\n",
              "    </tr>\n",
              "    <tr>\n",
              "      <th>3</th>\n",
              "      <td>0</td>\n",
              "      <td>203</td>\n",
              "      <td>205</td>\n",
              "      <td>207</td>\n",
              "      <td>206</td>\n",
              "      <td>207</td>\n",
              "      <td>209</td>\n",
              "      <td>210</td>\n",
              "      <td>209</td>\n",
              "      <td>210</td>\n",
              "      <td>209</td>\n",
              "      <td>208</td>\n",
              "      <td>207</td>\n",
              "      <td>207</td>\n",
              "      <td>209</td>\n",
              "      <td>208</td>\n",
              "      <td>210</td>\n",
              "      <td>210</td>\n",
              "      <td>207</td>\n",
              "      <td>209</td>\n",
              "      <td>209</td>\n",
              "      <td>208</td>\n",
              "      <td>209</td>\n",
              "      <td>210</td>\n",
              "      <td>209</td>\n",
              "      <td>207</td>\n",
              "      <td>208</td>\n",
              "      <td>209</td>\n",
              "      <td>207</td>\n",
              "      <td>206</td>\n",
              "      <td>208</td>\n",
              "      <td>209</td>\n",
              "      <td>208</td>\n",
              "      <td>208</td>\n",
              "      <td>210</td>\n",
              "      <td>211</td>\n",
              "      <td>210</td>\n",
              "      <td>211</td>\n",
              "      <td>209</td>\n",
              "      <td>209</td>\n",
              "      <td>...</td>\n",
              "      <td>85</td>\n",
              "      <td>80</td>\n",
              "      <td>84</td>\n",
              "      <td>151</td>\n",
              "      <td>238</td>\n",
              "      <td>255</td>\n",
              "      <td>255</td>\n",
              "      <td>250</td>\n",
              "      <td>237</td>\n",
              "      <td>245</td>\n",
              "      <td>250</td>\n",
              "      <td>232</td>\n",
              "      <td>103</td>\n",
              "      <td>101</td>\n",
              "      <td>102</td>\n",
              "      <td>103</td>\n",
              "      <td>95</td>\n",
              "      <td>208</td>\n",
              "      <td>231</td>\n",
              "      <td>227</td>\n",
              "      <td>209</td>\n",
              "      <td>190</td>\n",
              "      <td>179</td>\n",
              "      <td>182</td>\n",
              "      <td>152</td>\n",
              "      <td>150</td>\n",
              "      <td>159</td>\n",
              "      <td>119</td>\n",
              "      <td>83</td>\n",
              "      <td>63</td>\n",
              "      <td>154</td>\n",
              "      <td>248</td>\n",
              "      <td>247</td>\n",
              "      <td>248</td>\n",
              "      <td>253</td>\n",
              "      <td>236</td>\n",
              "      <td>230</td>\n",
              "      <td>240</td>\n",
              "      <td>253</td>\n",
              "      <td>255</td>\n",
              "    </tr>\n",
              "    <tr>\n",
              "      <th>4</th>\n",
              "      <td>3</td>\n",
              "      <td>188</td>\n",
              "      <td>191</td>\n",
              "      <td>193</td>\n",
              "      <td>195</td>\n",
              "      <td>199</td>\n",
              "      <td>201</td>\n",
              "      <td>202</td>\n",
              "      <td>203</td>\n",
              "      <td>203</td>\n",
              "      <td>203</td>\n",
              "      <td>204</td>\n",
              "      <td>204</td>\n",
              "      <td>204</td>\n",
              "      <td>203</td>\n",
              "      <td>202</td>\n",
              "      <td>198</td>\n",
              "      <td>216</td>\n",
              "      <td>217</td>\n",
              "      <td>135</td>\n",
              "      <td>181</td>\n",
              "      <td>200</td>\n",
              "      <td>195</td>\n",
              "      <td>194</td>\n",
              "      <td>193</td>\n",
              "      <td>190</td>\n",
              "      <td>189</td>\n",
              "      <td>187</td>\n",
              "      <td>185</td>\n",
              "      <td>190</td>\n",
              "      <td>194</td>\n",
              "      <td>196</td>\n",
              "      <td>197</td>\n",
              "      <td>200</td>\n",
              "      <td>202</td>\n",
              "      <td>204</td>\n",
              "      <td>206</td>\n",
              "      <td>207</td>\n",
              "      <td>207</td>\n",
              "      <td>206</td>\n",
              "      <td>...</td>\n",
              "      <td>93</td>\n",
              "      <td>52</td>\n",
              "      <td>24</td>\n",
              "      <td>53</td>\n",
              "      <td>63</td>\n",
              "      <td>33</td>\n",
              "      <td>41</td>\n",
              "      <td>51</td>\n",
              "      <td>48</td>\n",
              "      <td>45</td>\n",
              "      <td>49</td>\n",
              "      <td>55</td>\n",
              "      <td>149</td>\n",
              "      <td>150</td>\n",
              "      <td>150</td>\n",
              "      <td>148</td>\n",
              "      <td>147</td>\n",
              "      <td>151</td>\n",
              "      <td>124</td>\n",
              "      <td>82</td>\n",
              "      <td>84</td>\n",
              "      <td>81</td>\n",
              "      <td>69</td>\n",
              "      <td>81</td>\n",
              "      <td>111</td>\n",
              "      <td>103</td>\n",
              "      <td>84</td>\n",
              "      <td>75</td>\n",
              "      <td>53</td>\n",
              "      <td>28</td>\n",
              "      <td>26</td>\n",
              "      <td>40</td>\n",
              "      <td>64</td>\n",
              "      <td>48</td>\n",
              "      <td>29</td>\n",
              "      <td>46</td>\n",
              "      <td>49</td>\n",
              "      <td>46</td>\n",
              "      <td>46</td>\n",
              "      <td>53</td>\n",
              "    </tr>\n",
              "  </tbody>\n",
              "</table>\n",
              "<p>5 rows × 785 columns</p>\n",
              "</div>"
            ],
            "text/plain": [
              "   label  pixel1  pixel2  pixel3  ...  pixel781  pixel782  pixel783  pixel784\n",
              "0      6     149     149     150  ...       106       112       120       107\n",
              "1      5     126     128     131  ...       184       184       182       180\n",
              "2     10      85      88      92  ...       226       225       224       222\n",
              "3      0     203     205     207  ...       230       240       253       255\n",
              "4      3     188     191     193  ...        49        46        46        53\n",
              "\n",
              "[5 rows x 785 columns]"
            ]
          },
          "metadata": {},
          "execution_count": 7
        }
      ]
    },
    {
      "cell_type": "code",
      "metadata": {
        "execution": {
          "iopub.execute_input": "2021-10-09T10:34:24.819733Z",
          "iopub.status.busy": "2021-10-09T10:34:24.818511Z",
          "iopub.status.idle": "2021-10-09T10:34:24.848438Z",
          "shell.execute_reply": "2021-10-09T10:34:24.847808Z",
          "shell.execute_reply.started": "2021-10-09T10:08:38.990725Z"
        },
        "papermill": {
          "duration": 0.055794,
          "end_time": "2021-10-09T10:34:24.848593",
          "exception": false,
          "start_time": "2021-10-09T10:34:24.792799",
          "status": "completed"
        },
        "tags": [],
        "colab": {
          "base_uri": "https://localhost:8080/"
        },
        "id": "varied-canon",
        "outputId": "0482e6cf-5522-4123-d0a6-02a3c601bb76"
      },
      "source": [
        "print('shape of training data:', train.shape) # (nrow, ncolumn)\n",
        "print('shape of testing data:', test.shape) # (nrow, ncolumn)\n",
        "\n",
        "''' na count over all rows and columns\n",
        "first sum = sums over rows, last sum = sums over columns\n",
        "'''\n",
        "print('na count train:', train.isna().sum().sum())\n",
        "print('na count test:', test.isna().sum().sum())"
      ],
      "id": "varied-canon",
      "execution_count": 8,
      "outputs": [
        {
          "output_type": "stream",
          "name": "stdout",
          "text": [
            "shape of training data: (27455, 785)\n",
            "shape of testing data: (7172, 785)\n",
            "na count train: 0\n",
            "na count test: 0\n"
          ]
        }
      ]
    },
    {
      "cell_type": "code",
      "metadata": {
        "execution": {
          "iopub.execute_input": "2021-10-09T10:34:24.899116Z",
          "iopub.status.busy": "2021-10-09T10:34:24.898453Z",
          "iopub.status.idle": "2021-10-09T10:34:25.168559Z",
          "shell.execute_reply": "2021-10-09T10:34:25.168983Z",
          "shell.execute_reply.started": "2021-10-09T10:08:39.028013Z"
        },
        "papermill": {
          "duration": 0.298442,
          "end_time": "2021-10-09T10:34:25.169131",
          "exception": false,
          "start_time": "2021-10-09T10:34:24.870689",
          "status": "completed"
        },
        "tags": [],
        "colab": {
          "base_uri": "https://localhost:8080/",
          "height": 340
        },
        "id": "english-board",
        "outputId": "a16fb8e1-88cd-4e6d-d836-82ad3e4dc95c"
      },
      "source": [
        "fig = plt.figure(figsize=(10,5))\n",
        "ax = sns.countplot(x=train['label'], palette='Accent') # plot train label distribution\n",
        "plt.show()"
      ],
      "id": "english-board",
      "execution_count": 27,
      "outputs": [
        {
          "output_type": "display_data",
          "data": {
            "image/png": "[encoded data removed]",
            "text/plain": [
              "<Figure size 720x360 with 1 Axes>"
            ]
          },
          "metadata": {
            "needs_background": "light"
          }
        }
      ]
    },
    {
      "cell_type": "code",
      "metadata": {
        "colab": {
          "base_uri": "https://localhost:8080/",
          "height": 340
        },
        "id": "ZPRiwj_tEVV7",
        "outputId": "f655df63-e3f6-4138-a1b5-ab1657615588"
      },
      "source": [
        "fig = plt.figure(figsize=(10,5))\n",
        "ax = sns.countplot(x=test['label'], palette='Accent') # plot test label distribution\n",
        "plt.show()"
      ],
      "id": "ZPRiwj_tEVV7",
      "execution_count": 29,
      "outputs": [
        {
          "output_type": "display_data",
          "data": {
            "image/png": "[encoded data removed]",
            "text/plain": [
              "<Figure size 720x360 with 1 Axes>"
            ]
          },
          "metadata": {
            "needs_background": "light"
          }
        }
      ]
    },
    {
      "cell_type": "markdown",
      "metadata": {
        "id": "rZ3NyIFKbldV"
      },
      "source": [
        "we could notice that there are no example in both train set and test set with label 9"
      ],
      "id": "rZ3NyIFKbldV"
    },
    {
      "cell_type": "code",
      "metadata": {
        "execution": {
          "iopub.execute_input": "2021-10-09T10:34:25.338266Z",
          "iopub.status.busy": "2021-10-09T10:34:25.337467Z",
          "iopub.status.idle": "2021-10-09T10:34:25.340941Z",
          "shell.execute_reply": "2021-10-09T10:34:25.340507Z",
          "shell.execute_reply.started": "2021-10-09T10:08:39.336578Z"
        },
        "papermill": {
          "duration": 0.082119,
          "end_time": "2021-10-09T10:34:25.341077",
          "exception": false,
          "start_time": "2021-10-09T10:34:25.258958",
          "status": "completed"
        },
        "tags": [],
        "id": "virgin-eight"
      },
      "source": [
        "X = train.drop('label', axis=1) # features\n",
        "y = keras.utils.to_categorical(train['label']) # encode target\n",
        "\n",
        "X_test = test.drop('label', axis=1)\n",
        "y_test = keras.utils.to_categorical(test['label'])"
      ],
      "id": "virgin-eight",
      "execution_count": 159,
      "outputs": []
    },
    {
      "cell_type": "code",
      "metadata": {
        "execution": {
          "iopub.execute_input": "2021-10-09T10:34:25.388734Z",
          "iopub.status.busy": "2021-10-09T10:34:25.388230Z",
          "iopub.status.idle": "2021-10-09T10:34:25.391985Z",
          "shell.execute_reply": "2021-10-09T10:34:25.391539Z",
          "shell.execute_reply.started": "2021-10-09T10:08:39.401231Z"
        },
        "papermill": {
          "duration": 0.029381,
          "end_time": "2021-10-09T10:34:25.392092",
          "exception": false,
          "start_time": "2021-10-09T10:34:25.362711",
          "status": "completed"
        },
        "tags": [],
        "id": "domestic-regard"
      },
      "source": [
        "# reshape square black and white images\n",
        "def reshape_bw(X):\n",
        "    samples, width, channel = X.shape[0], int(X.shape[1] ** (1/2)) , 1\n",
        "    return X.values.reshape(samples, width, width, channel)  "
      ],
      "id": "domestic-regard",
      "execution_count": 160,
      "outputs": []
    },
    {
      "cell_type": "code",
      "metadata": {
        "execution": {
          "iopub.execute_input": "2021-10-09T10:34:25.438642Z",
          "iopub.status.busy": "2021-10-09T10:34:25.438121Z",
          "iopub.status.idle": "2021-10-09T10:34:25.441971Z",
          "shell.execute_reply": "2021-10-09T10:34:25.441556Z",
          "shell.execute_reply.started": "2021-10-09T10:08:39.409343Z"
        },
        "papermill": {
          "duration": 0.028709,
          "end_time": "2021-10-09T10:34:25.442079",
          "exception": false,
          "start_time": "2021-10-09T10:34:25.413370",
          "status": "completed"
        },
        "tags": [],
        "id": "bright-progress"
      },
      "source": [
        "X = reshape_bw(X)\n",
        "X_test = reshape_bw(X_test)\n",
        "width, height, channel = X.shape[1], X.shape[2], X.shape[3]"
      ],
      "id": "bright-progress",
      "execution_count": 161,
      "outputs": []
    },
    {
      "cell_type": "code",
      "metadata": {
        "execution": {
          "iopub.execute_input": "2021-10-09T10:34:25.514270Z",
          "iopub.status.busy": "2021-10-09T10:34:25.513322Z",
          "iopub.status.idle": "2021-10-09T10:34:25.609723Z",
          "shell.execute_reply": "2021-10-09T10:34:25.609298Z",
          "shell.execute_reply.started": "2021-10-09T10:08:39.417045Z"
        },
        "papermill": {
          "duration": 0.146046,
          "end_time": "2021-10-09T10:34:25.609829",
          "exception": false,
          "start_time": "2021-10-09T10:34:25.463783",
          "status": "completed"
        },
        "tags": [],
        "colab": {
          "base_uri": "https://localhost:8080/",
          "height": 555
        },
        "id": "private-aggregate",
        "outputId": "c938c729-1e2f-407a-8c02-452da915fc2d"
      },
      "source": [
        "# plot a square black and white image\n",
        "def plot_image(X, width):\n",
        "    _ = plt.imshow(X.reshape(width, width), cmap='gray')\n",
        "    plt.show()\n",
        "\n",
        "# plot sample image\n",
        "print('label:', y[0].argmax())    \n",
        "plot_image(X[0], width)\n",
        "print('label:', y_test[0].argmax())    \n",
        "plot_image(X_test[0], width)"
      ],
      "id": "private-aggregate",
      "execution_count": 163,
      "outputs": [
        {
          "output_type": "stream",
          "name": "stdout",
          "text": [
            "label: 3\n"
          ]
        },
        {
          "output_type": "display_data",
          "data": {
            "image/png": "[encoded data removed]",
            "text/plain": [
              "<Figure size 432x288 with 1 Axes>"
            ]
          },
          "metadata": {
            "needs_background": "light"
          }
        },
        {
          "output_type": "stream",
          "name": "stdout",
          "text": [
            "label: 6\n"
          ]
        },
        {
          "output_type": "display_data",
          "data": {
            "image/png": "[encoded data removed]",
            "text/plain": [
              "<Figure size 432x288 with 1 Axes>"
            ]
          },
          "metadata": {
            "needs_background": "light"
          }
        }
      ]
    },
    {
      "cell_type": "code",
      "metadata": {
        "execution": {
          "iopub.execute_input": "2021-10-09T10:34:25.658684Z",
          "iopub.status.busy": "2021-10-09T10:34:25.657796Z",
          "iopub.status.idle": "2021-10-09T10:34:26.617938Z",
          "shell.execute_reply": "2021-10-09T10:34:26.617428Z",
          "shell.execute_reply.started": "2021-10-09T10:08:39.543735Z"
        },
        "papermill": {
          "duration": 0.986071,
          "end_time": "2021-10-09T10:34:26.618081",
          "exception": false,
          "start_time": "2021-10-09T10:34:25.632010",
          "status": "completed"
        },
        "tags": [],
        "id": "imposed-rolling"
      },
      "source": [
        "# split data into train and validation set with same target distribution as before spliting\n",
        "X_train, X_val, y_train, y_val = train_test_split(X, y, stratify=y, test_size=0.2, random_state=42)"
      ],
      "id": "imposed-rolling",
      "execution_count": 164,
      "outputs": []
    },
    {
      "cell_type": "code",
      "metadata": {
        "execution": {
          "iopub.execute_input": "2021-10-09T10:34:26.671351Z",
          "iopub.status.busy": "2021-10-09T10:34:26.670391Z",
          "iopub.status.idle": "2021-10-09T10:34:26.794470Z",
          "shell.execute_reply": "2021-10-09T10:34:26.794914Z",
          "shell.execute_reply.started": "2021-10-09T10:08:40.542010Z"
        },
        "papermill": {
          "duration": 0.152868,
          "end_time": "2021-10-09T10:34:26.795085",
          "exception": false,
          "start_time": "2021-10-09T10:34:26.642217",
          "status": "completed"
        },
        "tags": [],
        "id": "diagnostic-protocol"
      },
      "source": [
        "# create data augmentor and fit it on train set\n",
        "generator = keras.preprocessing.image.ImageDataGenerator(\n",
        "    featurewise_center=True, # make pixel intensity mean = 0 pixel-wise\n",
        "    featurewise_std_normalization=True, # make pixel intensity s.d. = 1 pixel-wise\n",
        "    height_shift_range=0.15, # shift image vertically (up or down) by 0.15 * 28 pixel\n",
        "    width_shift_range=0.15, # shift image horizontally (left or right) by 0.15 * 28 pixel\n",
        "    fill_mode='nearest'\n",
        ")\n",
        "generator.fit(X_train)"
      ],
      "id": "diagnostic-protocol",
      "execution_count": 165,
      "outputs": []
    },
    {
      "cell_type": "code",
      "metadata": {
        "execution": {
          "iopub.execute_input": "2021-10-09T10:34:26.998688Z",
          "iopub.status.busy": "2021-10-09T10:34:26.993755Z",
          "iopub.status.idle": "2021-10-09T10:34:27.001390Z",
          "shell.execute_reply": "2021-10-09T10:34:27.000979Z",
          "shell.execute_reply.started": "2021-10-09T10:09:08.975868Z"
        },
        "papermill": {
          "duration": 0.18348,
          "end_time": "2021-10-09T10:34:27.001511",
          "exception": false,
          "start_time": "2021-10-09T10:34:26.818031",
          "status": "completed"
        },
        "tags": [],
        "id": "graduate-picnic"
      },
      "source": [
        "# build neural network as finalized by performance on test set\n",
        "def build_model(func, init):\n",
        "    keras.backend.clear_session()\n",
        "    model = keras.models.Sequential()\n",
        "    model.add(keras.layers.Conv2D(64, (5, 5), padding=\"same\", kernel_initializer=init(), input_shape=X_train.shape[1:]))\n",
        "    model.add(keras.layers.BatchNormalization())\n",
        "    model.add(keras.layers.Activation(func))\n",
        "    model.add(keras.layers.MaxPooling2D((2, 2)))\n",
        "    model.add(keras.layers.Conv2D(128, (5, 5), padding=\"same\", kernel_initializer=init()))\n",
        "    model.add(keras.layers.BatchNormalization())\n",
        "    model.add(keras.layers.Activation(func))\n",
        "    model.add(keras.layers.MaxPooling2D((2, 2)))\n",
        "    model.add(keras.layers.Conv2D(256, (5, 5), padding=\"same\", kernel_initializer=init()))\n",
        "    model.add(keras.layers.BatchNormalization())\n",
        "    model.add(keras.layers.Activation(func))\n",
        "    model.add(keras.layers.MaxPooling2D((2, 2)))\n",
        "    model.add(keras.layers.Flatten())\n",
        "    model.add(keras.layers.Dense(y.shape[1], activation='softmax', kernel_initializer=init()))\n",
        "    return model"
      ],
      "id": "graduate-picnic",
      "execution_count": 178,
      "outputs": []
    },
    {
      "cell_type": "code",
      "metadata": {
        "execution": {
          "iopub.execute_input": "2021-10-09T10:34:27.051208Z",
          "iopub.status.busy": "2021-10-09T10:34:27.050663Z",
          "iopub.status.idle": "2021-10-09T10:34:29.245330Z",
          "shell.execute_reply": "2021-10-09T10:34:29.244793Z",
          "shell.execute_reply.started": "2021-10-09T10:09:10.962420Z"
        },
        "papermill": {
          "duration": 2.221624,
          "end_time": "2021-10-09T10:34:29.245487",
          "exception": false,
          "start_time": "2021-10-09T10:34:27.023863",
          "status": "completed"
        },
        "tags": [],
        "id": "found-outreach"
      },
      "source": [
        "# use elu activation as an alternative to avoid dead relu problem\n",
        "model_elu = build_model(keras.activations.elu, keras.initializers.glorot_uniform)\n",
        "# compile model\n",
        "model_elu.compile(\n",
        "    optimizer=keras.optimizers.Adam(learning_rate=0.005),\n",
        "    loss=keras.losses.CategoricalCrossentropy(),\n",
        "    metrics=['accuracy', keras.metrics.Precision(), keras.metrics.Recall(), keras.metrics.AUC(name='auc')]\n",
        ")"
      ],
      "id": "found-outreach",
      "execution_count": 202,
      "outputs": []
    },
    {
      "cell_type": "code",
      "metadata": {
        "execution": {
          "iopub.execute_input": "2021-10-09T10:34:29.296258Z",
          "iopub.status.busy": "2021-10-09T10:34:29.295517Z",
          "iopub.status.idle": "2021-10-09T10:34:29.299611Z",
          "shell.execute_reply": "2021-10-09T10:34:29.299026Z",
          "shell.execute_reply.started": "2021-10-09T10:10:52.252420Z"
        },
        "papermill": {
          "duration": 0.031317,
          "end_time": "2021-10-09T10:34:29.299743",
          "exception": false,
          "start_time": "2021-10-09T10:34:29.268426",
          "status": "completed"
        },
        "tags": [],
        "id": "integral-nursery"
      },
      "source": [
        "# deine callbacks, use AUC to minimize missclassification\n",
        "cb_elu = [keras.callbacks.ModelCheckpoint('model_elu_base.h5', monitor='val_auc', mode='max',save_best_only=True), \n",
        "          keras.callbacks.ReduceLROnPlateau(monitor='val_auc', mode='max', factor=0.3, patience=2, min_lr=0.00001)]"
      ],
      "id": "integral-nursery",
      "execution_count": 203,
      "outputs": []
    },
    {
      "cell_type": "code",
      "metadata": {
        "execution": {
          "iopub.execute_input": "2021-10-09T10:38:50.584817Z",
          "iopub.status.busy": "2021-10-09T10:38:50.583950Z",
          "iopub.status.idle": "2021-10-09T10:43:07.488192Z",
          "shell.execute_reply": "2021-10-09T10:43:07.486483Z",
          "shell.execute_reply.started": "2021-10-09T10:15:43.946774Z"
        },
        "papermill": {
          "duration": 256.943329,
          "end_time": "2021-10-09T10:43:07.488342",
          "exception": false,
          "start_time": "2021-10-09T10:38:50.545013",
          "status": "completed"
        },
        "tags": [],
        "colab": {
          "base_uri": "https://localhost:8080/"
        },
        "id": "iraqi-textbook",
        "outputId": "88285400-62d8-4bf9-f684-29da670481fb"
      },
      "source": [
        "history_elu = model_elu.fit(generator.flow(X_train, y_train, batch_size=32), \\\n",
        "                    epochs=20, \\\n",
        "                    validation_data=generator.flow(X_val, y_val, batch_size=32), \\\n",
        "                    callbacks=cb_elu,\n",
        "                    verbose=2)"
      ],
      "id": "iraqi-textbook",
      "execution_count": 204,
      "outputs": [
        {
          "output_type": "stream",
          "name": "stdout",
          "text": [
            "Epoch 1/20\n",
            "687/687 - 18s - loss: 1.2513 - accuracy: 0.6840 - precision: 0.7945 - recall: 0.6334 - auc: 0.9531 - val_loss: 0.2464 - val_accuracy: 0.9170 - val_precision: 0.9296 - val_recall: 0.9048 - val_auc: 0.9962\n",
            "Epoch 2/20\n",
            "687/687 - 16s - loss: 0.1329 - accuracy: 0.9570 - precision: 0.9636 - recall: 0.9521 - auc: 0.9984 - val_loss: 0.1536 - val_accuracy: 0.9497 - val_precision: 0.9551 - val_recall: 0.9461 - val_auc: 0.9973\n",
            "Epoch 3/20\n",
            "687/687 - 16s - loss: 0.0773 - accuracy: 0.9761 - precision: 0.9780 - recall: 0.9738 - auc: 0.9989 - val_loss: 0.1070 - val_accuracy: 0.9687 - val_precision: 0.9706 - val_recall: 0.9678 - val_auc: 0.9980\n",
            "Epoch 4/20\n",
            "687/687 - 16s - loss: 0.0890 - accuracy: 0.9738 - precision: 0.9759 - recall: 0.9724 - auc: 0.9981 - val_loss: 0.0440 - val_accuracy: 0.9849 - val_precision: 0.9858 - val_recall: 0.9842 - val_auc: 0.9990\n",
            "Epoch 5/20\n",
            "687/687 - 16s - loss: 0.0748 - accuracy: 0.9781 - precision: 0.9796 - recall: 0.9772 - auc: 0.9983 - val_loss: 0.1362 - val_accuracy: 0.9665 - val_precision: 0.9678 - val_recall: 0.9645 - val_auc: 0.9961\n",
            "Epoch 6/20\n",
            "687/687 - 16s - loss: 0.0692 - accuracy: 0.9817 - precision: 0.9825 - recall: 0.9812 - auc: 0.9981 - val_loss: 0.0711 - val_accuracy: 0.9829 - val_precision: 0.9838 - val_recall: 0.9825 - val_auc: 0.9979\n",
            "Epoch 7/20\n",
            "687/687 - 16s - loss: 0.0067 - accuracy: 0.9978 - precision: 0.9979 - recall: 0.9977 - auc: 0.9999 - val_loss: 0.0018 - val_accuracy: 0.9996 - val_precision: 0.9996 - val_recall: 0.9995 - val_auc: 1.0000\n",
            "Epoch 8/20\n",
            "687/687 - 16s - loss: 0.0015 - accuracy: 0.9995 - precision: 0.9995 - recall: 0.9994 - auc: 1.0000 - val_loss: 0.0014 - val_accuracy: 0.9993 - val_precision: 0.9995 - val_recall: 0.9993 - val_auc: 1.0000\n",
            "Epoch 9/20\n",
            "687/687 - 16s - loss: 5.9933e-04 - accuracy: 0.9999 - precision: 0.9999 - recall: 0.9999 - auc: 1.0000 - val_loss: 4.6688e-04 - val_accuracy: 0.9998 - val_precision: 0.9998 - val_recall: 0.9998 - val_auc: 1.0000\n",
            "Epoch 10/20\n",
            "687/687 - 16s - loss: 8.0309e-04 - accuracy: 0.9998 - precision: 0.9998 - recall: 0.9998 - auc: 1.0000 - val_loss: 4.6392e-04 - val_accuracy: 0.9998 - val_precision: 0.9998 - val_recall: 0.9998 - val_auc: 1.0000\n",
            "Epoch 11/20\n",
            "687/687 - 16s - loss: 3.9465e-04 - accuracy: 1.0000 - precision: 1.0000 - recall: 0.9999 - auc: 1.0000 - val_loss: 4.1740e-04 - val_accuracy: 0.9998 - val_precision: 0.9998 - val_recall: 0.9998 - val_auc: 1.0000\n",
            "Epoch 12/20\n",
            "687/687 - 16s - loss: 5.3330e-04 - accuracy: 1.0000 - precision: 1.0000 - recall: 1.0000 - auc: 1.0000 - val_loss: 1.6938e-04 - val_accuracy: 1.0000 - val_precision: 1.0000 - val_recall: 1.0000 - val_auc: 1.0000\n",
            "Epoch 13/20\n",
            "687/687 - 16s - loss: 3.3953e-04 - accuracy: 1.0000 - precision: 1.0000 - recall: 1.0000 - auc: 1.0000 - val_loss: 2.4820e-04 - val_accuracy: 1.0000 - val_precision: 1.0000 - val_recall: 1.0000 - val_auc: 1.0000\n",
            "Epoch 14/20\n",
            "687/687 - 16s - loss: 2.7893e-04 - accuracy: 1.0000 - precision: 1.0000 - recall: 1.0000 - auc: 1.0000 - val_loss: 7.8342e-05 - val_accuracy: 1.0000 - val_precision: 1.0000 - val_recall: 1.0000 - val_auc: 1.0000\n",
            "Epoch 15/20\n",
            "687/687 - 16s - loss: 4.0711e-04 - accuracy: 0.9998 - precision: 0.9998 - recall: 0.9998 - auc: 1.0000 - val_loss: 5.0501e-05 - val_accuracy: 1.0000 - val_precision: 1.0000 - val_recall: 1.0000 - val_auc: 1.0000\n",
            "Epoch 16/20\n",
            "687/687 - 16s - loss: 1.8889e-04 - accuracy: 1.0000 - precision: 1.0000 - recall: 1.0000 - auc: 1.0000 - val_loss: 1.9163e-04 - val_accuracy: 0.9998 - val_precision: 0.9998 - val_recall: 0.9998 - val_auc: 1.0000\n",
            "Epoch 17/20\n",
            "687/687 - 16s - loss: 2.2010e-04 - accuracy: 0.9999 - precision: 0.9999 - recall: 0.9999 - auc: 1.0000 - val_loss: 1.7946e-04 - val_accuracy: 1.0000 - val_precision: 1.0000 - val_recall: 1.0000 - val_auc: 1.0000\n",
            "Epoch 18/20\n",
            "687/687 - 16s - loss: 1.5037e-04 - accuracy: 1.0000 - precision: 1.0000 - recall: 1.0000 - auc: 1.0000 - val_loss: 9.9270e-05 - val_accuracy: 1.0000 - val_precision: 1.0000 - val_recall: 1.0000 - val_auc: 1.0000\n",
            "Epoch 19/20\n",
            "687/687 - 16s - loss: 1.1069e-04 - accuracy: 1.0000 - precision: 1.0000 - recall: 1.0000 - auc: 1.0000 - val_loss: 2.7754e-04 - val_accuracy: 0.9998 - val_precision: 0.9998 - val_recall: 0.9998 - val_auc: 1.0000\n",
            "Epoch 20/20\n",
            "687/687 - 16s - loss: 3.0471e-04 - accuracy: 0.9999 - precision: 0.9999 - recall: 0.9999 - auc: 1.0000 - val_loss: 3.1612e-04 - val_accuracy: 0.9998 - val_precision: 1.0000 - val_recall: 0.9998 - val_auc: 1.0000\n"
          ]
        }
      ]
    },
    {
      "cell_type": "code",
      "metadata": {
        "execution": {
          "iopub.execute_input": "2021-10-09T10:43:07.595139Z",
          "iopub.status.busy": "2021-10-09T10:43:07.593631Z",
          "iopub.status.idle": "2021-10-09T10:43:07.596345Z",
          "shell.execute_reply": "2021-10-09T10:43:07.596812Z",
          "shell.execute_reply.started": "2021-10-09T10:19:55.375020Z"
        },
        "papermill": {
          "duration": 0.058005,
          "end_time": "2021-10-09T10:43:07.596981",
          "exception": false,
          "start_time": "2021-10-09T10:43:07.538976",
          "status": "completed"
        },
        "tags": [],
        "id": "focused-showcase"
      },
      "source": [
        "def plot_learning_curve(history):\n",
        "    ephs = np.arange(0, len(history.history['loss'])) + 1\n",
        "    fig = plt.figure(figsize=(12, 5))\n",
        "    plt.subplot(1,2,1)\n",
        "    plt.plot(ephs, history.history['accuracy'], '--')\n",
        "    plt.plot(ephs, history.history['val_accuracy'], '--')\n",
        "    plt.legend(['accuracy', 'val_accuracy'])\n",
        "    plt.subplot(1,2,2)\n",
        "    plt.plot(ephs, history.history['loss'], '--')\n",
        "    plt.plot(ephs, history.history['val_loss'], '--')\n",
        "    plt.legend(['loss', 'val_loss'])\n",
        "    plt.show()"
      ],
      "id": "focused-showcase",
      "execution_count": 205,
      "outputs": []
    },
    {
      "cell_type": "code",
      "metadata": {
        "execution": {
          "iopub.execute_input": "2021-10-09T10:43:08.052514Z",
          "iopub.status.busy": "2021-10-09T10:43:08.051681Z",
          "iopub.status.idle": "2021-10-09T10:43:08.308705Z",
          "shell.execute_reply": "2021-10-09T10:43:08.309125Z",
          "shell.execute_reply.started": "2021-10-09T10:20:00.285448Z"
        },
        "papermill": {
          "duration": 0.313666,
          "end_time": "2021-10-09T10:43:08.309263",
          "exception": false,
          "start_time": "2021-10-09T10:43:07.995597",
          "status": "completed"
        },
        "tags": [],
        "colab": {
          "base_uri": "https://localhost:8080/",
          "height": 340
        },
        "id": "mexican-kuwait",
        "outputId": "203b5020-8b2b-42c3-ee24-dda1d3311f61"
      },
      "source": [
        "print(f\"learning curve of glorot uniform model\")\n",
        "plot_learning_curve(history_elu)"
      ],
      "id": "mexican-kuwait",
      "execution_count": 206,
      "outputs": [
        {
          "output_type": "stream",
          "name": "stdout",
          "text": [
            "learning curve of glorot uniform model\n"
          ]
        },
        {
          "output_type": "display_data",
          "data": {
            "image/png": "[encoded data removed]",
            "text/plain": [
              "<Figure size 864x360 with 2 Axes>"
            ]
          },
          "metadata": {
            "needs_background": "light"
          }
        }
      ]
    },
    {
      "cell_type": "markdown",
      "metadata": {
        "id": "p3akoVbD5B6B"
      },
      "source": [
        "from the learning curve, model converge after 5 th epoch"
      ],
      "id": "p3akoVbD5B6B"
    },
    {
      "cell_type": "code",
      "metadata": {
        "execution": {
          "iopub.execute_input": "2021-10-09T10:43:10.124326Z",
          "iopub.status.busy": "2021-10-09T10:43:10.123651Z",
          "iopub.status.idle": "2021-10-09T10:43:10.127137Z",
          "shell.execute_reply": "2021-10-09T10:43:10.126700Z",
          "shell.execute_reply.started": "2021-10-09T10:23:30.686656Z"
        },
        "papermill": {
          "duration": 0.058899,
          "end_time": "2021-10-09T10:43:10.127243",
          "exception": false,
          "start_time": "2021-10-09T10:43:10.068344",
          "status": "completed"
        },
        "tags": [],
        "id": "alpine-recipe"
      },
      "source": [
        "def evaluate(model):\n",
        "    loss, acc, pre, rec, auc = model.evaluate(generator.flow(X_test, y_test, batch_size=32))\n",
        "    print()\n",
        "    print(f\"test loss: {loss}\")\n",
        "    print(f\"test accuracy: {round(acc*100,2)} %\")\n",
        "    print(f\"test precision: {pre}\")\n",
        "    print(f\"test recall: {rec}\")\n",
        "    print(f\"test AUC: {auc}\")\n",
        "    print()\n",
        "    index = int(input(\"Enter image index: \")) % X_test.shape[0]\n",
        "    print(f\"label: {np.argmax(model.predict(np.expand_dims([X_test[index]], axis=-1), verbose=0))}\")\n",
        "    print(f\"actual label: {y_test[index].argmax()}\")\n",
        "    plot_image(X_test[index], width)"
      ],
      "id": "alpine-recipe",
      "execution_count": 207,
      "outputs": []
    },
    {
      "cell_type": "code",
      "metadata": {
        "execution": {
          "iopub.execute_input": "2021-10-09T10:43:13.383484Z",
          "iopub.status.busy": "2021-10-09T10:43:13.382580Z",
          "iopub.status.idle": "2021-10-09T10:43:16.343392Z",
          "shell.execute_reply": "2021-10-09T10:43:16.342586Z",
          "shell.execute_reply.started": "2021-10-09T10:23:36.665648Z"
        },
        "papermill": {
          "duration": 3.028081,
          "end_time": "2021-10-09T10:43:16.343530",
          "exception": false,
          "start_time": "2021-10-09T10:43:13.315449",
          "status": "completed"
        },
        "tags": [],
        "colab": {
          "base_uri": "https://localhost:8080/",
          "height": 476
        },
        "id": "herbal-enclosure",
        "outputId": "0aec6f25-b0e6-41ec-9621-d5bb7bb52fcc"
      },
      "source": [
        "evaluate(model_elu)"
      ],
      "id": "herbal-enclosure",
      "execution_count": 208,
      "outputs": [
        {
          "output_type": "stream",
          "name": "stdout",
          "text": [
            "225/225 [==============================] - 4s 19ms/step - loss: 0.0221 - accuracy: 0.9943 - precision: 0.9947 - recall: 0.9941 - auc: 0.9993\n",
            "\n",
            "test loss: 0.022074230015277863\n",
            "test accuracy: 99.43 %\n",
            "test precision: 0.9946986436843872\n",
            "test recall: 0.9941439032554626\n",
            "test AUC: 0.9992859959602356\n",
            "\n",
            "Enter image index: 467298\n",
            "label: 3\n",
            "actual label: 3\n"
          ]
        },
        {
          "output_type": "display_data",
          "data": {
            "image/png": "[encoded data removed]",
            "text/plain": [
              "<Figure size 432x288 with 1 Axes>"
            ]
          },
          "metadata": {
            "needs_background": "light"
          }
        }
      ]
    },
    {
      "cell_type": "code",
      "metadata": {
        "execution": {
          "iopub.execute_input": "2021-10-09T10:43:16.508005Z",
          "iopub.status.busy": "2021-10-09T10:43:16.507461Z",
          "iopub.status.idle": "2021-10-09T10:43:16.510924Z",
          "shell.execute_reply": "2021-10-09T10:43:16.511429Z",
          "shell.execute_reply.started": "2021-10-09T10:32:53.501012Z"
        },
        "papermill": {
          "duration": 0.087593,
          "end_time": "2021-10-09T10:43:16.511566",
          "exception": false,
          "start_time": "2021-10-09T10:43:16.423973",
          "status": "completed"
        },
        "tags": [],
        "id": "lesser-lawrence"
      },
      "source": [
        "from sklearn.metrics import confusion_matrix\n",
        "def plot_confmat(model):   \n",
        "    cm = confusion_matrix(test['label'], model.predict(X_test).argmax(-1))\n",
        "    plt.figure(figsize=(10,8))\n",
        "    sns.heatmap(cm, cmap=plt.cm.Purples)\n",
        "    plt.ylabel('actual')\n",
        "    plt.xlabel('predicted')\n",
        "    plt.show()"
      ],
      "id": "lesser-lawrence",
      "execution_count": 209,
      "outputs": []
    },
    {
      "cell_type": "code",
      "metadata": {
        "execution": {
          "iopub.execute_input": "2021-10-09T10:43:16.670931Z",
          "iopub.status.busy": "2021-10-09T10:43:16.669214Z",
          "iopub.status.idle": "2021-10-09T10:43:17.679407Z",
          "shell.execute_reply": "2021-10-09T10:43:17.678953Z",
          "shell.execute_reply.started": "2021-10-09T10:33:03.659765Z"
        },
        "papermill": {
          "duration": 1.090138,
          "end_time": "2021-10-09T10:43:17.679533",
          "exception": false,
          "start_time": "2021-10-09T10:43:16.589395",
          "status": "completed"
        },
        "tags": [],
        "colab": {
          "base_uri": "https://localhost:8080/",
          "height": 520
        },
        "id": "entire-clause",
        "outputId": "cf1c3498-10bf-4480-ce25-65b7acbcfe7a"
      },
      "source": [
        "print(f\"confusion matrix of glorot uniform model\")\n",
        "plot_confmat(model_elu)"
      ],
      "id": "entire-clause",
      "execution_count": 213,
      "outputs": [
        {
          "output_type": "stream",
          "name": "stdout",
          "text": [
            "confusion matrix of glorot uniform model\n"
          ]
        },
        {
          "output_type": "display_data",
          "data": {
            "image/png": "[encoded data removed]",
            "text/plain": [
              "<Figure size 720x576 with 2 Axes>"
            ]
          },
          "metadata": {
            "needs_background": "light"
          }
        }
      ]
    },
    {
      "cell_type": "code",
      "metadata": {
        "id": "XKgwqtZ6y4cD"
      },
      "source": [
        "from sklearn.metrics import classification_report\n",
        "def print_report(model):\n",
        "  print(classification_report(test['label'],  model.predict(X_test).argmax(-1)))"
      ],
      "id": "XKgwqtZ6y4cD",
      "execution_count": 212,
      "outputs": []
    },
    {
      "cell_type": "code",
      "metadata": {
        "id": "nR6BGATG1RhV",
        "colab": {
          "base_uri": "https://localhost:8080/"
        },
        "outputId": "38862413-eb15-4c29-dc07-5f037d344c2a"
      },
      "source": [
        "print(\"classification report of glorot uniform model\")\n",
        "print_report(model_elu)"
      ],
      "id": "nR6BGATG1RhV",
      "execution_count": 227,
      "outputs": [
        {
          "output_type": "stream",
          "name": "stdout",
          "text": [
            "classification report of glorot uniform model\n",
            "              precision    recall  f1-score   support\n",
            "\n",
            "           0       1.00      0.95      0.98       331\n",
            "           1       1.00      0.63      0.77       432\n",
            "           2       1.00      0.83      0.91       310\n",
            "           3       1.00      0.92      0.96       245\n",
            "           4       0.97      0.89      0.93       498\n",
            "           5       1.00      1.00      1.00       247\n",
            "           6       1.00      0.78      0.88       348\n",
            "           7       1.00      0.77      0.87       436\n",
            "           8       0.95      1.00      0.97       288\n",
            "          10       0.87      0.99      0.92       331\n",
            "          11       0.78      1.00      0.88       209\n",
            "          12       1.00      0.99      1.00       394\n",
            "          13       1.00      0.81      0.90       291\n",
            "          14       0.48      1.00      0.65       246\n",
            "          15       0.95      0.94      0.94       347\n",
            "          16       0.49      1.00      0.65       164\n",
            "          17       1.00      0.62      0.77       144\n",
            "          18       0.76      1.00      0.86       246\n",
            "          19       1.00      0.54      0.70       248\n",
            "          20       1.00      1.00      1.00       266\n",
            "          21       1.00      0.97      0.98       346\n",
            "          22       1.00      1.00      1.00       206\n",
            "          23       0.77      1.00      0.87       267\n",
            "          24       1.00      1.00      1.00       332\n",
            "\n",
            "    accuracy                           0.90      7172\n",
            "   macro avg       0.92      0.90      0.89      7172\n",
            "weighted avg       0.94      0.90      0.90      7172\n",
            "\n"
          ]
        }
      ]
    },
    {
      "cell_type": "code",
      "metadata": {
        "id": "_Q0Uos4R482z"
      },
      "source": [
        "# same architecture but different initializer\n",
        "model_elu_2 = build_model(keras.activations.elu, keras.initializers.he_uniform)\n",
        "# compile model\n",
        "model_elu_2.compile(\n",
        "    optimizer=keras.optimizers.Adam(learning_rate=0.005),\n",
        "    loss=keras.losses.CategoricalCrossentropy(),\n",
        "    metrics=['accuracy', keras.metrics.Precision(), keras.metrics.Recall(), keras.metrics.AUC(name='auc')]\n",
        ")"
      ],
      "id": "_Q0Uos4R482z",
      "execution_count": 219,
      "outputs": []
    },
    {
      "cell_type": "code",
      "metadata": {
        "id": "BVkKbRRT6JMg"
      },
      "source": [
        "cb_elu_2 = [keras.callbacks.ModelCheckpoint('model_elu2_base.h5', monitor='val_auc', mode='max',save_best_only=True), \n",
        "          keras.callbacks.ReduceLROnPlateau(monitor='val_auc', mode='max', factor=0.3, patience=2, min_lr=0.00001)]"
      ],
      "id": "BVkKbRRT6JMg",
      "execution_count": 220,
      "outputs": []
    },
    {
      "cell_type": "code",
      "metadata": {
        "colab": {
          "base_uri": "https://localhost:8080/"
        },
        "id": "nKQomvSn6rkr",
        "outputId": "8ccc459d-d016-4498-a447-718727769ef7"
      },
      "source": [
        "history_elu_2 = model_elu_2.fit(generator.flow(X_train, y_train, batch_size=32), \\\n",
        "                    epochs=20, \\\n",
        "                    validation_data=generator.flow(X_val,y_val,batch_size=32), \\\n",
        "                    callbacks=cb_elu_2,\n",
        "                    verbose=2)"
      ],
      "id": "nKQomvSn6rkr",
      "execution_count": 222,
      "outputs": [
        {
          "output_type": "stream",
          "name": "stdout",
          "text": [
            "Epoch 1/20\n",
            "687/687 - 16s - loss: 0.5074 - accuracy: 0.8428 - precision: 0.8872 - recall: 0.8135 - auc: 0.9893 - val_loss: 0.2000 - val_accuracy: 0.9326 - val_precision: 0.9409 - val_recall: 0.9270 - val_auc: 0.9967\n",
            "Epoch 2/20\n",
            "687/687 - 16s - loss: 0.0947 - accuracy: 0.9706 - precision: 0.9745 - recall: 0.9677 - auc: 0.9987 - val_loss: 0.0600 - val_accuracy: 0.9805 - val_precision: 0.9825 - val_recall: 0.9791 - val_auc: 0.9993\n",
            "Epoch 3/20\n",
            "687/687 - 16s - loss: 0.0731 - accuracy: 0.9775 - precision: 0.9794 - recall: 0.9761 - auc: 0.9988 - val_loss: 0.1629 - val_accuracy: 0.9536 - val_precision: 0.9568 - val_recall: 0.9510 - val_auc: 0.9959\n",
            "Epoch 4/20\n",
            "687/687 - 16s - loss: 0.0841 - accuracy: 0.9777 - precision: 0.9791 - recall: 0.9768 - auc: 0.9977 - val_loss: 0.0364 - val_accuracy: 0.9896 - val_precision: 0.9900 - val_recall: 0.9891 - val_auc: 0.9993\n",
            "Epoch 5/20\n",
            "687/687 - 16s - loss: 0.0061 - accuracy: 0.9981 - precision: 0.9983 - recall: 0.9980 - auc: 1.0000 - val_loss: 0.0029 - val_accuracy: 0.9989 - val_precision: 0.9991 - val_recall: 0.9989 - val_auc: 1.0000\n",
            "Epoch 6/20\n",
            "687/687 - 16s - loss: 0.0021 - accuracy: 0.9995 - precision: 0.9995 - recall: 0.9995 - auc: 1.0000 - val_loss: 0.0036 - val_accuracy: 0.9993 - val_precision: 0.9993 - val_recall: 0.9993 - val_auc: 0.9999\n",
            "Epoch 7/20\n",
            "687/687 - 16s - loss: 0.0014 - accuracy: 0.9996 - precision: 0.9996 - recall: 0.9996 - auc: 1.0000 - val_loss: 0.0030 - val_accuracy: 0.9989 - val_precision: 0.9991 - val_recall: 0.9989 - val_auc: 1.0000\n",
            "Epoch 8/20\n",
            "687/687 - 16s - loss: 6.6471e-04 - accuracy: 0.9999 - precision: 0.9999 - recall: 0.9999 - auc: 1.0000 - val_loss: 6.7894e-04 - val_accuracy: 0.9996 - val_precision: 0.9996 - val_recall: 0.9996 - val_auc: 1.0000\n",
            "Epoch 9/20\n",
            "687/687 - 16s - loss: 7.8338e-04 - accuracy: 0.9997 - precision: 0.9998 - recall: 0.9997 - auc: 1.0000 - val_loss: 3.9661e-04 - val_accuracy: 1.0000 - val_precision: 1.0000 - val_recall: 0.9998 - val_auc: 1.0000\n",
            "Epoch 10/20\n",
            "687/687 - 16s - loss: 6.1693e-04 - accuracy: 0.9999 - precision: 0.9999 - recall: 0.9999 - auc: 1.0000 - val_loss: 3.5392e-04 - val_accuracy: 1.0000 - val_precision: 1.0000 - val_recall: 1.0000 - val_auc: 1.0000\n",
            "Epoch 11/20\n",
            "687/687 - 16s - loss: 5.1357e-04 - accuracy: 1.0000 - precision: 1.0000 - recall: 0.9999 - auc: 1.0000 - val_loss: 2.9205e-04 - val_accuracy: 1.0000 - val_precision: 1.0000 - val_recall: 1.0000 - val_auc: 1.0000\n",
            "Epoch 12/20\n",
            "687/687 - 16s - loss: 4.8670e-04 - accuracy: 0.9999 - precision: 1.0000 - recall: 0.9999 - auc: 1.0000 - val_loss: 2.4213e-04 - val_accuracy: 1.0000 - val_precision: 1.0000 - val_recall: 1.0000 - val_auc: 1.0000\n",
            "Epoch 13/20\n",
            "687/687 - 16s - loss: 3.6873e-04 - accuracy: 1.0000 - precision: 1.0000 - recall: 1.0000 - auc: 1.0000 - val_loss: 2.2247e-04 - val_accuracy: 1.0000 - val_precision: 1.0000 - val_recall: 1.0000 - val_auc: 1.0000\n",
            "Epoch 14/20\n",
            "687/687 - 16s - loss: 4.2657e-04 - accuracy: 1.0000 - precision: 1.0000 - recall: 1.0000 - auc: 1.0000 - val_loss: 1.4630e-04 - val_accuracy: 1.0000 - val_precision: 1.0000 - val_recall: 1.0000 - val_auc: 1.0000\n",
            "Epoch 15/20\n",
            "687/687 - 16s - loss: 4.0033e-04 - accuracy: 0.9999 - precision: 0.9999 - recall: 0.9999 - auc: 1.0000 - val_loss: 2.5339e-04 - val_accuracy: 1.0000 - val_precision: 1.0000 - val_recall: 1.0000 - val_auc: 1.0000\n",
            "Epoch 16/20\n",
            "687/687 - 16s - loss: 3.8821e-04 - accuracy: 1.0000 - precision: 1.0000 - recall: 1.0000 - auc: 1.0000 - val_loss: 2.7066e-04 - val_accuracy: 1.0000 - val_precision: 1.0000 - val_recall: 1.0000 - val_auc: 1.0000\n",
            "Epoch 17/20\n",
            "687/687 - 16s - loss: 2.7577e-04 - accuracy: 1.0000 - precision: 1.0000 - recall: 0.9999 - auc: 1.0000 - val_loss: 2.2912e-04 - val_accuracy: 1.0000 - val_precision: 1.0000 - val_recall: 1.0000 - val_auc: 1.0000\n",
            "Epoch 18/20\n",
            "687/687 - 16s - loss: 3.5220e-04 - accuracy: 1.0000 - precision: 1.0000 - recall: 1.0000 - auc: 1.0000 - val_loss: 2.9178e-04 - val_accuracy: 1.0000 - val_precision: 1.0000 - val_recall: 1.0000 - val_auc: 1.0000\n",
            "Epoch 19/20\n",
            "687/687 - 16s - loss: 2.6996e-04 - accuracy: 1.0000 - precision: 1.0000 - recall: 1.0000 - auc: 1.0000 - val_loss: 1.4800e-04 - val_accuracy: 1.0000 - val_precision: 1.0000 - val_recall: 1.0000 - val_auc: 1.0000\n",
            "Epoch 20/20\n",
            "687/687 - 16s - loss: 3.1195e-04 - accuracy: 1.0000 - precision: 1.0000 - recall: 1.0000 - auc: 1.0000 - val_loss: 1.5211e-04 - val_accuracy: 1.0000 - val_precision: 1.0000 - val_recall: 1.0000 - val_auc: 1.0000\n"
          ]
        }
      ]
    },
    {
      "cell_type": "code",
      "metadata": {
        "colab": {
          "base_uri": "https://localhost:8080/",
          "height": 340
        },
        "id": "KSsDpbuE60Lg",
        "outputId": "6a992788-57ed-4b33-abbc-e4447f7b5382"
      },
      "source": [
        "print(f\"learning curve of he uniform model\")\n",
        "plot_learning_curve(history_elu_2)"
      ],
      "id": "KSsDpbuE60Lg",
      "execution_count": 226,
      "outputs": [
        {
          "output_type": "stream",
          "name": "stdout",
          "text": [
            "learning curve of he uniform model\n"
          ]
        },
        {
          "output_type": "display_data",
          "data": {
            "image/png": "[encoded data removed]",
            "text/plain": [
              "<Figure size 864x360 with 2 Axes>"
            ]
          },
          "metadata": {
            "needs_background": "light"
          }
        }
      ]
    },
    {
      "cell_type": "markdown",
      "metadata": {
        "id": "yhWBkyrT5l86"
      },
      "source": [
        "model took shorter to converge than the one with glorot uniform"
      ],
      "id": "yhWBkyrT5l86"
    },
    {
      "cell_type": "code",
      "metadata": {
        "colab": {
          "base_uri": "https://localhost:8080/",
          "height": 476
        },
        "id": "H2zW_mwH7Js_",
        "outputId": "51164e2c-221a-4cdb-a7ad-025f0993f5cf"
      },
      "source": [
        "evaluate(model_elu_2)"
      ],
      "id": "H2zW_mwH7Js_",
      "execution_count": 224,
      "outputs": [
        {
          "output_type": "stream",
          "name": "stdout",
          "text": [
            "225/225 [==============================] - 4s 19ms/step - loss: 0.0091 - accuracy: 0.9971 - precision: 0.9973 - recall: 0.9965 - auc: 1.0000\n",
            "\n",
            "test loss: 0.00912280660122633\n",
            "test accuracy: 99.71 %\n",
            "test precision: 0.9973486065864563\n",
            "test recall: 0.9965142011642456\n",
            "test AUC: 0.9999982714653015\n",
            "\n",
            "Enter image index: 1162398\n",
            "label: 14\n",
            "actual label: 14\n"
          ]
        },
        {
          "output_type": "display_data",
          "data": {
            "image/png": "[encoded data removed]",
            "text/plain": [
              "<Figure size 432x288 with 1 Axes>"
            ]
          },
          "metadata": {
            "needs_background": "light"
          }
        }
      ]
    },
    {
      "cell_type": "code",
      "metadata": {
        "colab": {
          "base_uri": "https://localhost:8080/",
          "height": 520
        },
        "id": "cH9WQuhG7Ydb",
        "outputId": "8665009e-d667-45bf-a2e2-473b36a24516"
      },
      "source": [
        "print(f\"confusion matrix of he uniform model\")\n",
        "plot_confmat(model_elu_2)"
      ],
      "id": "cH9WQuhG7Ydb",
      "execution_count": 228,
      "outputs": [
        {
          "output_type": "stream",
          "name": "stdout",
          "text": [
            "confusion matrix of he uniform model\n"
          ]
        },
        {
          "output_type": "display_data",
          "data": {
            "image/png": "[encoded data removed]",
            "text/plain": [
              "<Figure size 720x576 with 2 Axes>"
            ]
          },
          "metadata": {
            "needs_background": "light"
          }
        }
      ]
    },
    {
      "cell_type": "code",
      "metadata": {
        "id": "OBK678DR3HQl",
        "colab": {
          "base_uri": "https://localhost:8080/"
        },
        "outputId": "0887c006-aa8c-41ed-91ad-daeacb5801df"
      },
      "source": [
        "print(f\"classification report of he uniform model\")\n",
        "print_report(model_elu_2)"
      ],
      "id": "OBK678DR3HQl",
      "execution_count": 229,
      "outputs": [
        {
          "output_type": "stream",
          "name": "stdout",
          "text": [
            "classification report of he uniform model\n",
            "              precision    recall  f1-score   support\n",
            "\n",
            "           0       1.00      0.70      0.82       331\n",
            "           1       1.00      1.00      1.00       432\n",
            "           2       0.78      0.96      0.86       310\n",
            "           3       0.96      1.00      0.98       245\n",
            "           4       1.00      0.86      0.92       498\n",
            "           5       1.00      1.00      1.00       247\n",
            "           6       1.00      0.65      0.79       348\n",
            "           7       1.00      0.68      0.81       436\n",
            "           8       1.00      0.99      0.99       288\n",
            "          10       0.99      0.99      0.99       331\n",
            "          11       0.77      0.88      0.82       209\n",
            "          12       1.00      0.88      0.94       394\n",
            "          13       1.00      0.95      0.97       291\n",
            "          14       0.92      0.95      0.93       246\n",
            "          15       1.00      0.60      0.75       347\n",
            "          16       0.26      1.00      0.41       164\n",
            "          17       1.00      0.55      0.71       144\n",
            "          18       0.35      1.00      0.52       246\n",
            "          19       1.00      0.52      0.69       248\n",
            "          20       1.00      1.00      1.00       266\n",
            "          21       1.00      0.45      0.62       346\n",
            "          22       1.00      0.86      0.92       206\n",
            "          23       0.96      0.92      0.94       267\n",
            "          24       0.96      0.99      0.98       332\n",
            "\n",
            "    accuracy                           0.84      7172\n",
            "   macro avg       0.91      0.85      0.85      7172\n",
            "weighted avg       0.94      0.84      0.86      7172\n",
            "\n"
          ]
        }
      ]
    },
    {
      "cell_type": "markdown",
      "metadata": {
        "id": "TiFBBPCx54cW"
      },
      "source": [
        "use class weight to increase emphasis of correctly predicting on classes with less data"
      ],
      "id": "TiFBBPCx54cW"
    },
    {
      "cell_type": "code",
      "metadata": {
        "id": "lbsc863BB4Df"
      },
      "source": [
        "from sklearn.utils import class_weight\n",
        "w = class_weight.compute_class_weight('balanced', np.unique(y_train.argmax(axis=1)), y_train.argmax(axis=1))"
      ],
      "id": "lbsc863BB4Df",
      "execution_count": 235,
      "outputs": []
    },
    {
      "cell_type": "code",
      "metadata": {
        "id": "_Pg_ApgBCdcA"
      },
      "source": [
        "# same architecture but trained with class weights\n",
        "elu_3 = build_model(keras.activations.elu, keras.initializers.glorot_uniform)\n",
        "# compile model\n",
        "elu_3.compile(\n",
        "    optimizer=keras.optimizers.Adam(learning_rate=0.005),\n",
        "    loss=keras.losses.CategoricalCrossentropy(),\n",
        "    metrics=['accuracy', keras.metrics.Precision(), keras.metrics.Recall(), keras.metrics.AUC(name='auc')]\n",
        ")"
      ],
      "id": "_Pg_ApgBCdcA",
      "execution_count": 236,
      "outputs": []
    },
    {
      "cell_type": "code",
      "metadata": {
        "id": "GsqfXJ0eC9jn"
      },
      "source": [
        "cb_elu_3 = [keras.callbacks.ModelCheckpoint('model_elu3_base.h5', monitor='val_auc', mode='max',save_best_only=True), \n",
        "          keras.callbacks.ReduceLROnPlateau(monitor='val_auc', mode='max', factor=0.3, patience=2, min_lr=0.00001)]"
      ],
      "id": "GsqfXJ0eC9jn",
      "execution_count": 237,
      "outputs": []
    },
    {
      "cell_type": "code",
      "metadata": {
        "id": "63ywXIOiDMep",
        "colab": {
          "base_uri": "https://localhost:8080/"
        },
        "outputId": "10a17dc5-64a3-4932-8a0c-70eb12ed1b4a"
      },
      "source": [
        "history_elu3 = elu_3.fit(generator.flow(X_train, y_train, batch_size=32), \\\n",
        "                    epochs=20, \\\n",
        "                    validation_data=generator.flow(X_val, y_val, batch_size=32), \\\n",
        "                    callbacks=cb_elu_3,\n",
        "                    verbose=2,\n",
        "                    class_weight=dict(enumerate([*w[0:9],0,*w[9:]])))"
      ],
      "id": "63ywXIOiDMep",
      "execution_count": 238,
      "outputs": [
        {
          "output_type": "stream",
          "name": "stdout",
          "text": [
            "Epoch 1/20\n",
            "687/687 - 18s - loss: 1.2437 - accuracy: 0.6917 - precision: 0.8014 - recall: 0.6401 - auc: 0.9532 - val_loss: 0.2953 - val_accuracy: 0.9049 - val_precision: 0.9203 - val_recall: 0.8911 - val_auc: 0.9949\n",
            "Epoch 2/20\n",
            "687/687 - 16s - loss: 0.1468 - accuracy: 0.9542 - precision: 0.9601 - recall: 0.9495 - auc: 0.9980 - val_loss: 0.2010 - val_accuracy: 0.9472 - val_precision: 0.9519 - val_recall: 0.9445 - val_auc: 0.9949\n",
            "Epoch 3/20\n",
            "687/687 - 16s - loss: 0.0731 - accuracy: 0.9778 - precision: 0.9801 - recall: 0.9759 - auc: 0.9989 - val_loss: 0.0805 - val_accuracy: 0.9743 - val_precision: 0.9761 - val_recall: 0.9732 - val_auc: 0.9984\n",
            "Epoch 4/20\n",
            "687/687 - 16s - loss: 0.0839 - accuracy: 0.9751 - precision: 0.9768 - recall: 0.9740 - auc: 0.9982 - val_loss: 0.0986 - val_accuracy: 0.9714 - val_precision: 0.9735 - val_recall: 0.9709 - val_auc: 0.9979\n",
            "Epoch 5/20\n",
            "687/687 - 16s - loss: 0.0792 - accuracy: 0.9781 - precision: 0.9794 - recall: 0.9775 - auc: 0.9982 - val_loss: 0.0320 - val_accuracy: 0.9896 - val_precision: 0.9903 - val_recall: 0.9893 - val_auc: 0.9991\n",
            "Epoch 6/20\n",
            "687/687 - 16s - loss: 0.0418 - accuracy: 0.9884 - precision: 0.9889 - recall: 0.9879 - auc: 0.9989 - val_loss: 0.0565 - val_accuracy: 0.9852 - val_precision: 0.9861 - val_recall: 0.9852 - val_auc: 0.9984\n",
            "Epoch 7/20\n",
            "687/687 - 16s - loss: 0.0788 - accuracy: 0.9806 - precision: 0.9815 - recall: 0.9801 - auc: 0.9976 - val_loss: 0.1288 - val_accuracy: 0.9709 - val_precision: 0.9717 - val_recall: 0.9703 - val_auc: 0.9957\n",
            "Epoch 8/20\n",
            "687/687 - 16s - loss: 0.0123 - accuracy: 0.9964 - precision: 0.9964 - recall: 0.9963 - auc: 0.9997 - val_loss: 0.0069 - val_accuracy: 0.9967 - val_precision: 0.9967 - val_recall: 0.9967 - val_auc: 1.0000\n",
            "Epoch 9/20\n",
            "687/687 - 16s - loss: 0.0040 - accuracy: 0.9987 - precision: 0.9989 - recall: 0.9987 - auc: 0.9999 - val_loss: 0.0021 - val_accuracy: 0.9991 - val_precision: 0.9991 - val_recall: 0.9989 - val_auc: 1.0000\n",
            "Epoch 10/20\n",
            "687/687 - 16s - loss: 0.0015 - accuracy: 0.9993 - precision: 0.9994 - recall: 0.9993 - auc: 1.0000 - val_loss: 3.9093e-04 - val_accuracy: 1.0000 - val_precision: 1.0000 - val_recall: 1.0000 - val_auc: 1.0000\n",
            "Epoch 11/20\n",
            "687/687 - 16s - loss: 9.5597e-04 - accuracy: 0.9997 - precision: 0.9997 - recall: 0.9997 - auc: 1.0000 - val_loss: 6.3008e-04 - val_accuracy: 0.9996 - val_precision: 0.9996 - val_recall: 0.9996 - val_auc: 1.0000\n",
            "Epoch 12/20\n",
            "687/687 - 16s - loss: 2.6458e-04 - accuracy: 1.0000 - precision: 1.0000 - recall: 1.0000 - auc: 1.0000 - val_loss: 4.9712e-04 - val_accuracy: 0.9998 - val_precision: 0.9998 - val_recall: 0.9998 - val_auc: 1.0000\n",
            "Epoch 13/20\n",
            "687/687 - 16s - loss: 2.8955e-04 - accuracy: 1.0000 - precision: 1.0000 - recall: 1.0000 - auc: 1.0000 - val_loss: 1.9634e-04 - val_accuracy: 1.0000 - val_precision: 1.0000 - val_recall: 1.0000 - val_auc: 1.0000\n",
            "Epoch 14/20\n",
            "687/687 - 16s - loss: 2.3262e-04 - accuracy: 0.9999 - precision: 0.9999 - recall: 0.9999 - auc: 1.0000 - val_loss: 1.9523e-04 - val_accuracy: 1.0000 - val_precision: 1.0000 - val_recall: 1.0000 - val_auc: 1.0000\n",
            "Epoch 15/20\n",
            "687/687 - 16s - loss: 4.8102e-04 - accuracy: 0.9998 - precision: 0.9998 - recall: 0.9998 - auc: 1.0000 - val_loss: 6.4302e-05 - val_accuracy: 1.0000 - val_precision: 1.0000 - val_recall: 1.0000 - val_auc: 1.0000\n",
            "Epoch 16/20\n",
            "687/687 - 16s - loss: 4.6014e-04 - accuracy: 0.9999 - precision: 0.9999 - recall: 0.9999 - auc: 1.0000 - val_loss: 8.3658e-05 - val_accuracy: 1.0000 - val_precision: 1.0000 - val_recall: 1.0000 - val_auc: 1.0000\n",
            "Epoch 17/20\n",
            "687/687 - 16s - loss: 1.3453e-04 - accuracy: 1.0000 - precision: 1.0000 - recall: 1.0000 - auc: 1.0000 - val_loss: 5.8235e-05 - val_accuracy: 1.0000 - val_precision: 1.0000 - val_recall: 1.0000 - val_auc: 1.0000\n",
            "Epoch 18/20\n",
            "687/687 - 16s - loss: 2.0816e-04 - accuracy: 0.9999 - precision: 1.0000 - recall: 0.9999 - auc: 1.0000 - val_loss: 1.1386e-04 - val_accuracy: 1.0000 - val_precision: 1.0000 - val_recall: 1.0000 - val_auc: 1.0000\n",
            "Epoch 19/20\n",
            "687/687 - 16s - loss: 1.8997e-04 - accuracy: 1.0000 - precision: 1.0000 - recall: 0.9999 - auc: 1.0000 - val_loss: 6.7362e-05 - val_accuracy: 1.0000 - val_precision: 1.0000 - val_recall: 1.0000 - val_auc: 1.0000\n",
            "Epoch 20/20\n",
            "687/687 - 16s - loss: 2.0142e-04 - accuracy: 1.0000 - precision: 1.0000 - recall: 1.0000 - auc: 1.0000 - val_loss: 9.2322e-05 - val_accuracy: 1.0000 - val_precision: 1.0000 - val_recall: 1.0000 - val_auc: 1.0000\n"
          ]
        }
      ]
    },
    {
      "cell_type": "code",
      "metadata": {
        "colab": {
          "base_uri": "https://localhost:8080/",
          "height": 340
        },
        "id": "vgM3nzS_uSIo",
        "outputId": "1d611b61-9d47-4682-8de9-aa3e8ca2c07b"
      },
      "source": [
        "print(f\"learning curve of glorot uniform model with class weight\")\n",
        "plot_learning_curve(history_elu3)"
      ],
      "id": "vgM3nzS_uSIo",
      "execution_count": 239,
      "outputs": [
        {
          "output_type": "stream",
          "name": "stdout",
          "text": [
            "learning curve of glorot uniform model with class weight\n"
          ]
        },
        {
          "output_type": "display_data",
          "data": {
            "image/png": "[encoded data removed]",
            "text/plain": [
              "<Figure size 864x360 with 2 Axes>"
            ]
          },
          "metadata": {
            "needs_background": "light"
          }
        }
      ]
    },
    {
      "cell_type": "markdown",
      "metadata": {
        "id": "x3MZULsv6n4X"
      },
      "source": [
        "using class weight make the model take more time to converge than previous models"
      ],
      "id": "x3MZULsv6n4X"
    },
    {
      "cell_type": "code",
      "metadata": {
        "colab": {
          "base_uri": "https://localhost:8080/",
          "height": 476
        },
        "id": "7_LSElqSufRJ",
        "outputId": "305f5340-012f-40fa-fbc6-ae778621e772"
      },
      "source": [
        "evaluate(elu_3)"
      ],
      "id": "7_LSElqSufRJ",
      "execution_count": 240,
      "outputs": [
        {
          "output_type": "stream",
          "name": "stdout",
          "text": [
            "225/225 [==============================] - 4s 19ms/step - loss: 0.0151 - accuracy: 0.9961 - precision: 0.9962 - recall: 0.9960 - auc: 0.9996\n",
            "\n",
            "test loss: 0.01514306478202343\n",
            "test accuracy: 99.61 %\n",
            "test precision: 0.9962342977523804\n",
            "test recall: 0.9959564805030823\n",
            "test AUC: 0.9995643496513367\n",
            "\n",
            "Enter image index: 49920\n",
            "label: 24\n",
            "actual label: 24\n"
          ]
        },
        {
          "output_type": "display_data",
          "data": {
            "image/png": "[encoded data removed]",
            "text/plain": [
              "<Figure size 432x288 with 1 Axes>"
            ]
          },
          "metadata": {
            "needs_background": "light"
          }
        }
      ]
    },
    {
      "cell_type": "code",
      "metadata": {
        "colab": {
          "base_uri": "https://localhost:8080/",
          "height": 520
        },
        "id": "8QFZaOyoup1y",
        "outputId": "bc5b52a2-56d9-4392-a634-bdc19387056f"
      },
      "source": [
        "print(f\"confusion matrix of glorot uniform model with class weight\")\n",
        "plot_confmat(elu_3)"
      ],
      "id": "8QFZaOyoup1y",
      "execution_count": 241,
      "outputs": [
        {
          "output_type": "stream",
          "name": "stdout",
          "text": [
            "confusion matrix of glorot uniform model with class weight\n"
          ]
        },
        {
          "output_type": "display_data",
          "data": {
            "image/png": "[encoded data removed]",
            "text/plain": [
              "<Figure size 720x576 with 2 Axes>"
            ]
          },
          "metadata": {
            "needs_background": "light"
          }
        }
      ]
    },
    {
      "cell_type": "code",
      "metadata": {
        "colab": {
          "base_uri": "https://localhost:8080/"
        },
        "id": "y0ebqg5VvBss",
        "outputId": "ee1d61dc-3ea8-47e2-ba64-5856d5c4599b"
      },
      "source": [
        "print(f\"classification report of glorot uniform model with class weight\")\n",
        "print_report(elu_3)"
      ],
      "id": "y0ebqg5VvBss",
      "execution_count": 255,
      "outputs": [
        {
          "output_type": "stream",
          "name": "stdout",
          "text": [
            "classification report of glorot uniform model with class weight\n",
            "              precision    recall  f1-score   support\n",
            "\n",
            "           0       0.99      0.99      0.99       331\n",
            "           1       1.00      0.60      0.75       432\n",
            "           2       0.58      1.00      0.74       310\n",
            "           3       1.00      0.76      0.86       245\n",
            "           4       1.00      0.76      0.87       498\n",
            "           5       1.00      1.00      1.00       247\n",
            "           6       1.00      0.65      0.79       348\n",
            "           7       1.00      0.72      0.84       436\n",
            "           8       1.00      0.86      0.92       288\n",
            "          10       1.00      0.72      0.84       331\n",
            "          11       0.75      0.96      0.84       209\n",
            "          12       0.96      0.97      0.96       394\n",
            "          13       1.00      0.82      0.90       291\n",
            "          14       0.66      0.93      0.77       246\n",
            "          15       0.74      0.97      0.84       347\n",
            "          16       0.22      1.00      0.36       164\n",
            "          17       0.77      0.73      0.75       144\n",
            "          18       1.00      0.71      0.83       246\n",
            "          19       1.00      0.37      0.54       248\n",
            "          20       1.00      0.61      0.75       266\n",
            "          21       1.00      0.87      0.93       346\n",
            "          22       1.00      0.98      0.99       206\n",
            "          23       0.74      1.00      0.85       267\n",
            "          24       1.00      0.98      0.99       332\n",
            "\n",
            "    accuracy                           0.83      7172\n",
            "   macro avg       0.89      0.83      0.83      7172\n",
            "weighted avg       0.92      0.83      0.84      7172\n",
            "\n"
          ]
        }
      ]
    },
    {
      "cell_type": "code",
      "metadata": {
        "id": "RnnC1eHhELN1"
      },
      "source": [
        "def build_dropout_model(func, init, drop_rate=0.4):\n",
        "    keras.backend.clear_session()\n",
        "    model = build_model(func, init)\n",
        "    model.pop()\n",
        "    model.add(keras.layers.Dense(128, kernel_initializer=init()))\n",
        "    model.add(keras.layers.Dropout(drop_rate))\n",
        "    model.add(keras.layers.Dense(y.shape[1], activation='softmax', kernel_initializer=init()))\n",
        "    return model"
      ],
      "id": "RnnC1eHhELN1",
      "execution_count": 247,
      "outputs": []
    },
    {
      "cell_type": "code",
      "metadata": {
        "id": "VIu-InIiv5rR"
      },
      "source": [
        "# added extra dense layer to prevent underfitting and drop out to prevent overfitting\n",
        "drop_elu = build_dropout_model(keras.activations.elu, keras.initializers.glorot_uniform)\n",
        "# compile model\n",
        "drop_elu.compile(\n",
        "    optimizer=keras.optimizers.Adam(learning_rate=0.005),\n",
        "    loss=keras.losses.CategoricalCrossentropy(),\n",
        "    metrics=['accuracy', keras.metrics.Precision(), keras.metrics.Recall(), keras.metrics.AUC(name='auc')]\n",
        ")"
      ],
      "id": "VIu-InIiv5rR",
      "execution_count": 248,
      "outputs": []
    },
    {
      "cell_type": "code",
      "metadata": {
        "id": "zbI9gCiSWvR2"
      },
      "source": [
        "# deine model callback\n",
        "cb_elu_dropout = [keras.callbacks.ModelCheckpoint('model_dropout_elu.h5', monitor='val_auc', mode='max',save_best_only=True), \n",
        "          keras.callbacks.ReduceLROnPlateau(monitor='val_auc', mode='max', factor=0.3, patience=2, min_lr=0.00001)]"
      ],
      "id": "zbI9gCiSWvR2",
      "execution_count": 249,
      "outputs": []
    },
    {
      "cell_type": "code",
      "metadata": {
        "id": "RnJyCN2CW-1q",
        "colab": {
          "base_uri": "https://localhost:8080/"
        },
        "outputId": "ec50e48d-24a0-4173-a3b0-80cbbad53c8b"
      },
      "source": [
        "history_dropout_elu = drop_elu.fit(generator.flow(X_train, y_train, batch_size=32), \\\n",
        "                    epochs=20, \\\n",
        "                    validation_data=generator.flow(X_val,y_val,batch_size=32), \\\n",
        "                    callbacks=cb_elu_dropout,\n",
        "                    verbose=2)"
      ],
      "id": "RnJyCN2CW-1q",
      "execution_count": 250,
      "outputs": [
        {
          "output_type": "stream",
          "name": "stdout",
          "text": [
            "Epoch 1/20\n",
            "687/687 - 28s - loss: 2.3127 - accuracy: 0.5642 - precision: 0.6567 - recall: 0.5013 - auc: 0.9095 - val_loss: 0.4422 - val_accuracy: 0.8563 - val_precision: 0.8805 - val_recall: 0.8363 - val_auc: 0.9910\n",
            "Epoch 2/20\n",
            "687/687 - 17s - loss: 0.3842 - accuracy: 0.8784 - precision: 0.8938 - recall: 0.8658 - auc: 0.9918 - val_loss: 0.2613 - val_accuracy: 0.9237 - val_precision: 0.9273 - val_recall: 0.9182 - val_auc: 0.9935\n",
            "Epoch 3/20\n",
            "687/687 - 17s - loss: 0.2584 - accuracy: 0.9267 - precision: 0.9322 - recall: 0.9234 - auc: 0.9933 - val_loss: 0.1826 - val_accuracy: 0.9503 - val_precision: 0.9530 - val_recall: 0.9492 - val_auc: 0.9956\n",
            "Epoch 4/20\n",
            "687/687 - 17s - loss: 0.2901 - accuracy: 0.9330 - precision: 0.9359 - recall: 0.9315 - auc: 0.9903 - val_loss: 0.2803 - val_accuracy: 0.9370 - val_precision: 0.9385 - val_recall: 0.9366 - val_auc: 0.9901\n",
            "Epoch 5/20\n",
            "687/687 - 17s - loss: 0.2746 - accuracy: 0.9464 - precision: 0.9479 - recall: 0.9456 - auc: 0.9903 - val_loss: 0.1340 - val_accuracy: 0.9743 - val_precision: 0.9752 - val_recall: 0.9734 - val_auc: 0.9955\n",
            "Epoch 6/20\n",
            "687/687 - 17s - loss: 0.0473 - accuracy: 0.9888 - precision: 0.9892 - recall: 0.9887 - auc: 0.9986 - val_loss: 0.0036 - val_accuracy: 0.9987 - val_precision: 0.9987 - val_recall: 0.9987 - val_auc: 0.9999\n",
            "Epoch 7/20\n",
            "687/687 - 17s - loss: 0.0144 - accuracy: 0.9958 - precision: 0.9959 - recall: 0.9958 - auc: 0.9997 - val_loss: 0.0031 - val_accuracy: 0.9991 - val_precision: 0.9991 - val_recall: 0.9991 - val_auc: 0.9999\n",
            "Epoch 8/20\n",
            "687/687 - 17s - loss: 0.0170 - accuracy: 0.9953 - precision: 0.9954 - recall: 0.9952 - auc: 0.9996 - val_loss: 0.0072 - val_accuracy: 0.9976 - val_precision: 0.9976 - val_recall: 0.9976 - val_auc: 1.0000\n",
            "Epoch 9/20\n",
            "687/687 - 17s - loss: 0.0098 - accuracy: 0.9968 - precision: 0.9968 - recall: 0.9967 - auc: 0.9998 - val_loss: 9.4021e-04 - val_accuracy: 0.9995 - val_precision: 0.9995 - val_recall: 0.9995 - val_auc: 1.0000\n",
            "Epoch 10/20\n",
            "687/687 - 17s - loss: 0.0049 - accuracy: 0.9981 - precision: 0.9981 - recall: 0.9981 - auc: 1.0000 - val_loss: 1.3583e-04 - val_accuracy: 1.0000 - val_precision: 1.0000 - val_recall: 1.0000 - val_auc: 1.0000\n",
            "Epoch 11/20\n",
            "687/687 - 17s - loss: 0.0048 - accuracy: 0.9986 - precision: 0.9986 - recall: 0.9986 - auc: 0.9999 - val_loss: 1.8730e-04 - val_accuracy: 1.0000 - val_precision: 1.0000 - val_recall: 1.0000 - val_auc: 1.0000\n",
            "Epoch 12/20\n",
            "687/687 - 17s - loss: 0.0025 - accuracy: 0.9991 - precision: 0.9992 - recall: 0.9991 - auc: 1.0000 - val_loss: 1.5897e-04 - val_accuracy: 1.0000 - val_precision: 1.0000 - val_recall: 1.0000 - val_auc: 1.0000\n",
            "Epoch 13/20\n",
            "687/687 - 17s - loss: 0.0024 - accuracy: 0.9990 - precision: 0.9991 - recall: 0.9990 - auc: 1.0000 - val_loss: 3.9616e-04 - val_accuracy: 0.9996 - val_precision: 0.9996 - val_recall: 0.9996 - val_auc: 1.0000\n",
            "Epoch 14/20\n",
            "687/687 - 17s - loss: 0.0021 - accuracy: 0.9994 - precision: 0.9994 - recall: 0.9994 - auc: 1.0000 - val_loss: 6.6926e-05 - val_accuracy: 1.0000 - val_precision: 1.0000 - val_recall: 1.0000 - val_auc: 1.0000\n",
            "Epoch 15/20\n",
            "687/687 - 17s - loss: 0.0023 - accuracy: 0.9993 - precision: 0.9993 - recall: 0.9993 - auc: 1.0000 - val_loss: 2.1833e-04 - val_accuracy: 1.0000 - val_precision: 1.0000 - val_recall: 1.0000 - val_auc: 1.0000\n",
            "Epoch 16/20\n",
            "687/687 - 17s - loss: 0.0017 - accuracy: 0.9994 - precision: 0.9994 - recall: 0.9994 - auc: 1.0000 - val_loss: 0.0015 - val_accuracy: 0.9996 - val_precision: 0.9996 - val_recall: 0.9996 - val_auc: 0.9999\n",
            "Epoch 17/20\n",
            "687/687 - 17s - loss: 0.0012 - accuracy: 0.9994 - precision: 0.9995 - recall: 0.9994 - auc: 1.0000 - val_loss: 2.6804e-05 - val_accuracy: 1.0000 - val_precision: 1.0000 - val_recall: 1.0000 - val_auc: 1.0000\n",
            "Epoch 18/20\n",
            "687/687 - 17s - loss: 0.0014 - accuracy: 0.9995 - precision: 0.9995 - recall: 0.9995 - auc: 1.0000 - val_loss: 5.2789e-05 - val_accuracy: 1.0000 - val_precision: 1.0000 - val_recall: 1.0000 - val_auc: 1.0000\n",
            "Epoch 19/20\n",
            "687/687 - 17s - loss: 0.0024 - accuracy: 0.9992 - precision: 0.9992 - recall: 0.9992 - auc: 1.0000 - val_loss: 3.3513e-04 - val_accuracy: 0.9998 - val_precision: 0.9998 - val_recall: 0.9998 - val_auc: 1.0000\n",
            "Epoch 20/20\n",
            "687/687 - 17s - loss: 0.0022 - accuracy: 0.9994 - precision: 0.9994 - recall: 0.9994 - auc: 1.0000 - val_loss: 1.7655e-05 - val_accuracy: 1.0000 - val_precision: 1.0000 - val_recall: 1.0000 - val_auc: 1.0000\n"
          ]
        }
      ]
    },
    {
      "cell_type": "code",
      "metadata": {
        "id": "3u-DkUOgXUqe",
        "colab": {
          "base_uri": "https://localhost:8080/",
          "height": 340
        },
        "outputId": "3d905239-be47-4240-ec79-b3c73bbe5435"
      },
      "source": [
        "print(f\"learning curve of glorot uniform model with dropout\")\n",
        "plot_learning_curve(history_dropout_elu)"
      ],
      "id": "3u-DkUOgXUqe",
      "execution_count": 251,
      "outputs": [
        {
          "output_type": "stream",
          "name": "stdout",
          "text": [
            "learning curve of glorot uniform model with dropout\n"
          ]
        },
        {
          "output_type": "display_data",
          "data": {
            "image/png": "[encoded data removed]",
            "text/plain": [
              "<Figure size 864x360 with 2 Axes>"
            ]
          },
          "metadata": {
            "needs_background": "light"
          }
        }
      ]
    },
    {
      "cell_type": "markdown",
      "metadata": {
        "id": "RE3sIGTT76Tk"
      },
      "source": [
        "model took nearly long as first glorot uniform model to converge"
      ],
      "id": "RE3sIGTT76Tk"
    },
    {
      "cell_type": "code",
      "metadata": {
        "id": "4QU3Ly8dZLj-",
        "colab": {
          "base_uri": "https://localhost:8080/",
          "height": 476
        },
        "outputId": "ca87aa91-8723-49cf-a04c-6f5f8baa3a4a"
      },
      "source": [
        "evaluate(drop_elu)"
      ],
      "id": "4QU3Ly8dZLj-",
      "execution_count": 260,
      "outputs": [
        {
          "output_type": "stream",
          "name": "stdout",
          "text": [
            "225/225 [==============================] - 5s 20ms/step - loss: 0.0167 - accuracy: 0.9961 - precision: 0.9962 - recall: 0.9961 - auc: 0.9995\n",
            "\n",
            "test loss: 0.016699105501174927\n",
            "test accuracy: 99.61 %\n",
            "test precision: 0.9962348341941833\n",
            "test recall: 0.9960959553718567\n",
            "test AUC: 0.9995009303092957\n",
            "\n",
            "Enter image index: 995\n",
            "label: 5\n",
            "actual label: 5\n"
          ]
        },
        {
          "output_type": "display_data",
          "data": {
            "image/png": "[encoded data removed]",
            "text/plain": [
              "<Figure size 432x288 with 1 Axes>"
            ]
          },
          "metadata": {
            "needs_background": "light"
          }
        }
      ]
    },
    {
      "cell_type": "code",
      "metadata": {
        "id": "rReEZVqqZadY",
        "colab": {
          "base_uri": "https://localhost:8080/",
          "height": 520
        },
        "outputId": "1af08432-c790-4346-9f95-ff0f444ad4e5"
      },
      "source": [
        "print(f\"confusion matrix of glorot uniform model with dropout\")\n",
        "plot_confmat(drop_elu)"
      ],
      "id": "rReEZVqqZadY",
      "execution_count": 253,
      "outputs": [
        {
          "output_type": "stream",
          "name": "stdout",
          "text": [
            "confusion matrix of glorot uniform model with dropout\n"
          ]
        },
        {
          "output_type": "display_data",
          "data": {
            "image/png": "[encoded data removed]",
            "text/plain": [
              "<Figure size 720x576 with 2 Axes>"
            ]
          },
          "metadata": {
            "needs_background": "light"
          }
        }
      ]
    },
    {
      "cell_type": "code",
      "metadata": {
        "id": "v2_DIg125CjA",
        "colab": {
          "base_uri": "https://localhost:8080/"
        },
        "outputId": "f16ba812-2517-4ad0-8905-580be746ed80"
      },
      "source": [
        "print(f\"classification report of glorot uniform model with dropout\")\n",
        "print_report(drop_elu)"
      ],
      "id": "v2_DIg125CjA",
      "execution_count": 254,
      "outputs": [
        {
          "output_type": "stream",
          "name": "stdout",
          "text": [
            "classification report of glorot uniform model with dropout\n",
            "              precision    recall  f1-score   support\n",
            "\n",
            "           0       1.00      0.88      0.93       331\n",
            "           1       0.99      1.00      1.00       432\n",
            "           2       0.97      0.99      0.98       310\n",
            "           3       1.00      0.94      0.97       245\n",
            "           4       1.00      1.00      1.00       498\n",
            "           5       1.00      1.00      1.00       247\n",
            "           6       1.00      0.66      0.80       348\n",
            "           7       1.00      0.67      0.80       436\n",
            "           8       1.00      0.83      0.91       288\n",
            "          10       0.67      1.00      0.80       331\n",
            "          11       1.00      0.99      1.00       209\n",
            "          12       0.95      0.98      0.96       394\n",
            "          13       1.00      0.82      0.90       291\n",
            "          14       0.98      1.00      0.99       246\n",
            "          15       0.93      1.00      0.96       347\n",
            "          16       0.50      1.00      0.66       164\n",
            "          17       1.00      0.38      0.55       144\n",
            "          18       0.91      1.00      0.96       246\n",
            "          19       1.00      0.83      0.91       248\n",
            "          20       1.00      0.87      0.93       266\n",
            "          21       1.00      0.72      0.84       346\n",
            "          22       0.92      1.00      0.96       206\n",
            "          23       0.64      1.00      0.78       267\n",
            "          24       0.76      1.00      0.86       332\n",
            "\n",
            "    accuracy                           0.90      7172\n",
            "   macro avg       0.92      0.90      0.89      7172\n",
            "weighted avg       0.93      0.90      0.90      7172\n",
            "\n"
          ]
        }
      ]
    }
  ]
}