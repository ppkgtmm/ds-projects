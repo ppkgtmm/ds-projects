{
  "nbformat": 4,
  "nbformat_minor": 5,
  "metadata": {
    "kernelspec": {
      "display_name": "Python 3",
      "language": "python",
      "name": "python3"
    },
    "language_info": {
      "codemirror_mode": {
        "name": "ipython",
        "version": 3
      },
      "file_extension": ".py",
      "mimetype": "text/x-python",
      "name": "python",
      "nbconvert_exporter": "python",
      "pygments_lexer": "ipython3",
      "version": "3.7.10"
    },
    "papermill": {
      "default_parameters": {},
      "duration": 552.799366,
      "end_time": "2021-10-09T10:43:21.888368",
      "environment_variables": {},
      "exception": null,
      "input_path": "__notebook__.ipynb",
      "output_path": "__notebook__.ipynb",
      "parameters": {},
      "start_time": "2021-10-09T10:34:09.089002",
      "version": "2.3.3"
    },
    "colab": {
      "name": "Copy of sign_language_classification.ipynb",
      "provenance": [],
      "collapsed_sections": []
    },
    "accelerator": "GPU"
  },
  "cells": [
    {
      "cell_type": "code",
      "metadata": {
        "colab": {
          "base_uri": "https://localhost:8080/"
        },
        "id": "ZE1drG19nqGK",
        "outputId": "c0fad089-b098-4456-f1e0-c8dfe1e183b6"
      },
      "source": [
        "from google.colab import drive\n",
        "drive.mount('/content/drive')\n",
        "\n",
        "!pip install -q kaggle"
      ],
      "id": "ZE1drG19nqGK",
      "execution_count": 1,
      "outputs": [
        {
          "output_type": "stream",
          "name": "stdout",
          "text": [
            "Mounted at /content/drive\n"
          ]
        }
      ]
    },
    {
      "cell_type": "code",
      "metadata": {
        "colab": {
          "base_uri": "https://localhost:8080/"
        },
        "id": "5jtTlqJooG6Q",
        "outputId": "49412baa-5258-44cf-ad92-1c733509f564"
      },
      "source": [
        "import os\n",
        "os.environ['KAGGLE_CONFIG_DIR'] = '/content/drive/MyDrive'\n",
        "!kaggle datasets download -d datamunge/sign-language-mnist\n",
        "!unzip ./sign-language-mnist.zip"
      ],
      "id": "5jtTlqJooG6Q",
      "execution_count": 2,
      "outputs": [
        {
          "output_type": "stream",
          "name": "stdout",
          "text": [
            "Downloading sign-language-mnist.zip to /content\n",
            "100% 62.6M/62.6M [00:00<00:00, 145MB/s]\n",
            "\n",
            "Archive:  ./sign-language-mnist.zip\n",
            "  inflating: amer_sign2.png          \n",
            "  inflating: amer_sign3.png          \n",
            "  inflating: american_sign_language.PNG  \n",
            "  inflating: sign_mnist_test.csv     \n",
            "  inflating: sign_mnist_test/sign_mnist_test.csv  \n",
            "  inflating: sign_mnist_train.csv    \n",
            "  inflating: sign_mnist_train/sign_mnist_train.csv  \n"
          ]
        }
      ]
    },
    {
      "cell_type": "code",
      "metadata": {
        "_cell_guid": "b1076dfc-b9ad-4769-8c92-a6c4dae69d19",
        "_uuid": "8f2839f25d086af736a60e9eeb907d3b93b6e0e5",
        "execution": {
          "iopub.execute_input": "2021-10-09T10:34:16.095131Z",
          "iopub.status.busy": "2021-10-09T10:34:16.094305Z",
          "iopub.status.idle": "2021-10-09T10:34:21.291164Z",
          "shell.execute_reply": "2021-10-09T10:34:21.290550Z",
          "shell.execute_reply.started": "2021-10-09T10:08:30.125305Z"
        },
        "papermill": {
          "duration": 5.236213,
          "end_time": "2021-10-09T10:34:21.291334",
          "exception": false,
          "start_time": "2021-10-09T10:34:16.055121",
          "status": "completed"
        },
        "tags": [],
        "id": "located-coach"
      },
      "source": [
        "%matplotlib inline\n",
        "import pandas as pd\n",
        "import numpy as np\n",
        "import matplotlib.pyplot as plt\n",
        "import tensorflow.keras as keras\n",
        "from sklearn.model_selection import train_test_split\n",
        "import seaborn as sns\n",
        "import cv2 as cv\n",
        "import urllib\n",
        "plt.rcParams['font.size'] = 12\n",
        "plt.rcParams['lines.color'] ='#000000'\n",
        "np.random.seed(42)"
      ],
      "id": "located-coach",
      "execution_count": 66,
      "outputs": []
    },
    {
      "cell_type": "code",
      "metadata": {
        "execution": {
          "iopub.execute_input": "2021-10-09T10:34:21.337426Z",
          "iopub.status.busy": "2021-10-09T10:34:21.336603Z",
          "iopub.status.idle": "2021-10-09T10:34:21.339054Z",
          "shell.execute_reply": "2021-10-09T10:34:21.339488Z",
          "shell.execute_reply.started": "2021-10-09T10:08:35.685467Z"
        },
        "papermill": {
          "duration": 0.026416,
          "end_time": "2021-10-09T10:34:21.339629",
          "exception": false,
          "start_time": "2021-10-09T10:34:21.313213",
          "status": "completed"
        },
        "tags": [],
        "id": "unexpected-development"
      },
      "source": [
        "train_path = './sign_mnist_train/sign_mnist_train.csv'\n",
        "test_path = './sign_mnist_test/sign_mnist_test.csv'"
      ],
      "id": "unexpected-development",
      "execution_count": 4,
      "outputs": []
    },
    {
      "cell_type": "code",
      "metadata": {
        "execution": {
          "iopub.execute_input": "2021-10-09T10:34:21.391325Z",
          "iopub.status.busy": "2021-10-09T10:34:21.390792Z",
          "iopub.status.idle": "2021-10-09T10:34:24.770887Z",
          "shell.execute_reply": "2021-10-09T10:34:24.771324Z",
          "shell.execute_reply.started": "2021-10-09T10:08:35.692760Z"
        },
        "papermill": {
          "duration": 3.412123,
          "end_time": "2021-10-09T10:34:24.771482",
          "exception": false,
          "start_time": "2021-10-09T10:34:21.359359",
          "status": "completed"
        },
        "tags": [],
        "colab": {
          "base_uri": "https://localhost:8080/",
          "height": 253
        },
        "id": "rational-foundation",
        "outputId": "8edf194f-3491-4f7f-c435-a74111bb5098"
      },
      "source": [
        "train = pd.read_csv(train_path) # import training data\n",
        "train.head()"
      ],
      "id": "rational-foundation",
      "execution_count": 5,
      "outputs": [
        {
          "output_type": "execute_result",
          "data": {
            "text/html": [
              "<div>\n",
              "<style scoped>\n",
              "    .dataframe tbody tr th:only-of-type {\n",
              "        vertical-align: middle;\n",
              "    }\n",
              "\n",
              "    .dataframe tbody tr th {\n",
              "        vertical-align: top;\n",
              "    }\n",
              "\n",
              "    .dataframe thead th {\n",
              "        text-align: right;\n",
              "    }\n",
              "</style>\n",
              "<table border=\"1\" class=\"dataframe\">\n",
              "  <thead>\n",
              "    <tr style=\"text-align: right;\">\n",
              "      <th></th>\n",
              "      <th>label</th>\n",
              "      <th>pixel1</th>\n",
              "      <th>pixel2</th>\n",
              "      <th>pixel3</th>\n",
              "      <th>pixel4</th>\n",
              "      <th>pixel5</th>\n",
              "      <th>pixel6</th>\n",
              "      <th>pixel7</th>\n",
              "      <th>pixel8</th>\n",
              "      <th>pixel9</th>\n",
              "      <th>pixel10</th>\n",
              "      <th>pixel11</th>\n",
              "      <th>pixel12</th>\n",
              "      <th>pixel13</th>\n",
              "      <th>pixel14</th>\n",
              "      <th>pixel15</th>\n",
              "      <th>pixel16</th>\n",
              "      <th>pixel17</th>\n",
              "      <th>pixel18</th>\n",
              "      <th>pixel19</th>\n",
              "      <th>pixel20</th>\n",
              "      <th>pixel21</th>\n",
              "      <th>pixel22</th>\n",
              "      <th>pixel23</th>\n",
              "      <th>pixel24</th>\n",
              "      <th>pixel25</th>\n",
              "      <th>pixel26</th>\n",
              "      <th>pixel27</th>\n",
              "      <th>pixel28</th>\n",
              "      <th>pixel29</th>\n",
              "      <th>pixel30</th>\n",
              "      <th>pixel31</th>\n",
              "      <th>pixel32</th>\n",
              "      <th>pixel33</th>\n",
              "      <th>pixel34</th>\n",
              "      <th>pixel35</th>\n",
              "      <th>pixel36</th>\n",
              "      <th>pixel37</th>\n",
              "      <th>pixel38</th>\n",
              "      <th>pixel39</th>\n",
              "      <th>...</th>\n",
              "      <th>pixel745</th>\n",
              "      <th>pixel746</th>\n",
              "      <th>pixel747</th>\n",
              "      <th>pixel748</th>\n",
              "      <th>pixel749</th>\n",
              "      <th>pixel750</th>\n",
              "      <th>pixel751</th>\n",
              "      <th>pixel752</th>\n",
              "      <th>pixel753</th>\n",
              "      <th>pixel754</th>\n",
              "      <th>pixel755</th>\n",
              "      <th>pixel756</th>\n",
              "      <th>pixel757</th>\n",
              "      <th>pixel758</th>\n",
              "      <th>pixel759</th>\n",
              "      <th>pixel760</th>\n",
              "      <th>pixel761</th>\n",
              "      <th>pixel762</th>\n",
              "      <th>pixel763</th>\n",
              "      <th>pixel764</th>\n",
              "      <th>pixel765</th>\n",
              "      <th>pixel766</th>\n",
              "      <th>pixel767</th>\n",
              "      <th>pixel768</th>\n",
              "      <th>pixel769</th>\n",
              "      <th>pixel770</th>\n",
              "      <th>pixel771</th>\n",
              "      <th>pixel772</th>\n",
              "      <th>pixel773</th>\n",
              "      <th>pixel774</th>\n",
              "      <th>pixel775</th>\n",
              "      <th>pixel776</th>\n",
              "      <th>pixel777</th>\n",
              "      <th>pixel778</th>\n",
              "      <th>pixel779</th>\n",
              "      <th>pixel780</th>\n",
              "      <th>pixel781</th>\n",
              "      <th>pixel782</th>\n",
              "      <th>pixel783</th>\n",
              "      <th>pixel784</th>\n",
              "    </tr>\n",
              "  </thead>\n",
              "  <tbody>\n",
              "    <tr>\n",
              "      <th>0</th>\n",
              "      <td>3</td>\n",
              "      <td>107</td>\n",
              "      <td>118</td>\n",
              "      <td>127</td>\n",
              "      <td>134</td>\n",
              "      <td>139</td>\n",
              "      <td>143</td>\n",
              "      <td>146</td>\n",
              "      <td>150</td>\n",
              "      <td>153</td>\n",
              "      <td>156</td>\n",
              "      <td>158</td>\n",
              "      <td>160</td>\n",
              "      <td>163</td>\n",
              "      <td>165</td>\n",
              "      <td>159</td>\n",
              "      <td>166</td>\n",
              "      <td>168</td>\n",
              "      <td>170</td>\n",
              "      <td>170</td>\n",
              "      <td>171</td>\n",
              "      <td>171</td>\n",
              "      <td>171</td>\n",
              "      <td>172</td>\n",
              "      <td>171</td>\n",
              "      <td>171</td>\n",
              "      <td>170</td>\n",
              "      <td>170</td>\n",
              "      <td>169</td>\n",
              "      <td>111</td>\n",
              "      <td>121</td>\n",
              "      <td>129</td>\n",
              "      <td>135</td>\n",
              "      <td>141</td>\n",
              "      <td>144</td>\n",
              "      <td>148</td>\n",
              "      <td>151</td>\n",
              "      <td>154</td>\n",
              "      <td>157</td>\n",
              "      <td>160</td>\n",
              "      <td>...</td>\n",
              "      <td>205</td>\n",
              "      <td>206</td>\n",
              "      <td>206</td>\n",
              "      <td>207</td>\n",
              "      <td>207</td>\n",
              "      <td>206</td>\n",
              "      <td>206</td>\n",
              "      <td>204</td>\n",
              "      <td>205</td>\n",
              "      <td>204</td>\n",
              "      <td>203</td>\n",
              "      <td>202</td>\n",
              "      <td>142</td>\n",
              "      <td>151</td>\n",
              "      <td>160</td>\n",
              "      <td>172</td>\n",
              "      <td>196</td>\n",
              "      <td>188</td>\n",
              "      <td>188</td>\n",
              "      <td>190</td>\n",
              "      <td>135</td>\n",
              "      <td>96</td>\n",
              "      <td>86</td>\n",
              "      <td>77</td>\n",
              "      <td>77</td>\n",
              "      <td>79</td>\n",
              "      <td>176</td>\n",
              "      <td>205</td>\n",
              "      <td>207</td>\n",
              "      <td>207</td>\n",
              "      <td>207</td>\n",
              "      <td>207</td>\n",
              "      <td>207</td>\n",
              "      <td>207</td>\n",
              "      <td>206</td>\n",
              "      <td>206</td>\n",
              "      <td>206</td>\n",
              "      <td>204</td>\n",
              "      <td>203</td>\n",
              "      <td>202</td>\n",
              "    </tr>\n",
              "    <tr>\n",
              "      <th>1</th>\n",
              "      <td>6</td>\n",
              "      <td>155</td>\n",
              "      <td>157</td>\n",
              "      <td>156</td>\n",
              "      <td>156</td>\n",
              "      <td>156</td>\n",
              "      <td>157</td>\n",
              "      <td>156</td>\n",
              "      <td>158</td>\n",
              "      <td>158</td>\n",
              "      <td>157</td>\n",
              "      <td>158</td>\n",
              "      <td>156</td>\n",
              "      <td>154</td>\n",
              "      <td>154</td>\n",
              "      <td>153</td>\n",
              "      <td>152</td>\n",
              "      <td>151</td>\n",
              "      <td>149</td>\n",
              "      <td>149</td>\n",
              "      <td>148</td>\n",
              "      <td>147</td>\n",
              "      <td>146</td>\n",
              "      <td>144</td>\n",
              "      <td>142</td>\n",
              "      <td>143</td>\n",
              "      <td>138</td>\n",
              "      <td>92</td>\n",
              "      <td>108</td>\n",
              "      <td>158</td>\n",
              "      <td>159</td>\n",
              "      <td>159</td>\n",
              "      <td>159</td>\n",
              "      <td>160</td>\n",
              "      <td>160</td>\n",
              "      <td>160</td>\n",
              "      <td>160</td>\n",
              "      <td>160</td>\n",
              "      <td>160</td>\n",
              "      <td>160</td>\n",
              "      <td>...</td>\n",
              "      <td>100</td>\n",
              "      <td>78</td>\n",
              "      <td>120</td>\n",
              "      <td>157</td>\n",
              "      <td>168</td>\n",
              "      <td>107</td>\n",
              "      <td>99</td>\n",
              "      <td>121</td>\n",
              "      <td>133</td>\n",
              "      <td>97</td>\n",
              "      <td>95</td>\n",
              "      <td>120</td>\n",
              "      <td>135</td>\n",
              "      <td>116</td>\n",
              "      <td>95</td>\n",
              "      <td>79</td>\n",
              "      <td>69</td>\n",
              "      <td>86</td>\n",
              "      <td>139</td>\n",
              "      <td>173</td>\n",
              "      <td>200</td>\n",
              "      <td>185</td>\n",
              "      <td>175</td>\n",
              "      <td>198</td>\n",
              "      <td>124</td>\n",
              "      <td>118</td>\n",
              "      <td>94</td>\n",
              "      <td>140</td>\n",
              "      <td>133</td>\n",
              "      <td>84</td>\n",
              "      <td>69</td>\n",
              "      <td>149</td>\n",
              "      <td>128</td>\n",
              "      <td>87</td>\n",
              "      <td>94</td>\n",
              "      <td>163</td>\n",
              "      <td>175</td>\n",
              "      <td>103</td>\n",
              "      <td>135</td>\n",
              "      <td>149</td>\n",
              "    </tr>\n",
              "    <tr>\n",
              "      <th>2</th>\n",
              "      <td>2</td>\n",
              "      <td>187</td>\n",
              "      <td>188</td>\n",
              "      <td>188</td>\n",
              "      <td>187</td>\n",
              "      <td>187</td>\n",
              "      <td>186</td>\n",
              "      <td>187</td>\n",
              "      <td>188</td>\n",
              "      <td>187</td>\n",
              "      <td>186</td>\n",
              "      <td>185</td>\n",
              "      <td>185</td>\n",
              "      <td>185</td>\n",
              "      <td>184</td>\n",
              "      <td>184</td>\n",
              "      <td>184</td>\n",
              "      <td>181</td>\n",
              "      <td>181</td>\n",
              "      <td>179</td>\n",
              "      <td>179</td>\n",
              "      <td>179</td>\n",
              "      <td>178</td>\n",
              "      <td>178</td>\n",
              "      <td>109</td>\n",
              "      <td>52</td>\n",
              "      <td>66</td>\n",
              "      <td>77</td>\n",
              "      <td>83</td>\n",
              "      <td>188</td>\n",
              "      <td>189</td>\n",
              "      <td>189</td>\n",
              "      <td>188</td>\n",
              "      <td>188</td>\n",
              "      <td>189</td>\n",
              "      <td>188</td>\n",
              "      <td>188</td>\n",
              "      <td>188</td>\n",
              "      <td>188</td>\n",
              "      <td>187</td>\n",
              "      <td>...</td>\n",
              "      <td>203</td>\n",
              "      <td>204</td>\n",
              "      <td>203</td>\n",
              "      <td>201</td>\n",
              "      <td>200</td>\n",
              "      <td>200</td>\n",
              "      <td>199</td>\n",
              "      <td>198</td>\n",
              "      <td>196</td>\n",
              "      <td>195</td>\n",
              "      <td>194</td>\n",
              "      <td>193</td>\n",
              "      <td>198</td>\n",
              "      <td>166</td>\n",
              "      <td>132</td>\n",
              "      <td>114</td>\n",
              "      <td>89</td>\n",
              "      <td>74</td>\n",
              "      <td>79</td>\n",
              "      <td>77</td>\n",
              "      <td>74</td>\n",
              "      <td>78</td>\n",
              "      <td>132</td>\n",
              "      <td>188</td>\n",
              "      <td>210</td>\n",
              "      <td>209</td>\n",
              "      <td>206</td>\n",
              "      <td>205</td>\n",
              "      <td>204</td>\n",
              "      <td>203</td>\n",
              "      <td>202</td>\n",
              "      <td>201</td>\n",
              "      <td>200</td>\n",
              "      <td>199</td>\n",
              "      <td>198</td>\n",
              "      <td>199</td>\n",
              "      <td>198</td>\n",
              "      <td>195</td>\n",
              "      <td>194</td>\n",
              "      <td>195</td>\n",
              "    </tr>\n",
              "    <tr>\n",
              "      <th>3</th>\n",
              "      <td>2</td>\n",
              "      <td>211</td>\n",
              "      <td>211</td>\n",
              "      <td>212</td>\n",
              "      <td>212</td>\n",
              "      <td>211</td>\n",
              "      <td>210</td>\n",
              "      <td>211</td>\n",
              "      <td>210</td>\n",
              "      <td>210</td>\n",
              "      <td>211</td>\n",
              "      <td>209</td>\n",
              "      <td>207</td>\n",
              "      <td>208</td>\n",
              "      <td>207</td>\n",
              "      <td>206</td>\n",
              "      <td>203</td>\n",
              "      <td>202</td>\n",
              "      <td>201</td>\n",
              "      <td>200</td>\n",
              "      <td>198</td>\n",
              "      <td>197</td>\n",
              "      <td>195</td>\n",
              "      <td>192</td>\n",
              "      <td>197</td>\n",
              "      <td>171</td>\n",
              "      <td>51</td>\n",
              "      <td>52</td>\n",
              "      <td>54</td>\n",
              "      <td>212</td>\n",
              "      <td>213</td>\n",
              "      <td>215</td>\n",
              "      <td>215</td>\n",
              "      <td>212</td>\n",
              "      <td>212</td>\n",
              "      <td>213</td>\n",
              "      <td>212</td>\n",
              "      <td>212</td>\n",
              "      <td>211</td>\n",
              "      <td>211</td>\n",
              "      <td>...</td>\n",
              "      <td>247</td>\n",
              "      <td>242</td>\n",
              "      <td>233</td>\n",
              "      <td>231</td>\n",
              "      <td>230</td>\n",
              "      <td>229</td>\n",
              "      <td>227</td>\n",
              "      <td>225</td>\n",
              "      <td>223</td>\n",
              "      <td>221</td>\n",
              "      <td>220</td>\n",
              "      <td>216</td>\n",
              "      <td>58</td>\n",
              "      <td>51</td>\n",
              "      <td>49</td>\n",
              "      <td>50</td>\n",
              "      <td>57</td>\n",
              "      <td>60</td>\n",
              "      <td>17</td>\n",
              "      <td>15</td>\n",
              "      <td>18</td>\n",
              "      <td>17</td>\n",
              "      <td>19</td>\n",
              "      <td>1</td>\n",
              "      <td>159</td>\n",
              "      <td>255</td>\n",
              "      <td>237</td>\n",
              "      <td>239</td>\n",
              "      <td>237</td>\n",
              "      <td>236</td>\n",
              "      <td>235</td>\n",
              "      <td>234</td>\n",
              "      <td>233</td>\n",
              "      <td>231</td>\n",
              "      <td>230</td>\n",
              "      <td>226</td>\n",
              "      <td>225</td>\n",
              "      <td>222</td>\n",
              "      <td>229</td>\n",
              "      <td>163</td>\n",
              "    </tr>\n",
              "    <tr>\n",
              "      <th>4</th>\n",
              "      <td>13</td>\n",
              "      <td>164</td>\n",
              "      <td>167</td>\n",
              "      <td>170</td>\n",
              "      <td>172</td>\n",
              "      <td>176</td>\n",
              "      <td>179</td>\n",
              "      <td>180</td>\n",
              "      <td>184</td>\n",
              "      <td>185</td>\n",
              "      <td>186</td>\n",
              "      <td>188</td>\n",
              "      <td>189</td>\n",
              "      <td>189</td>\n",
              "      <td>190</td>\n",
              "      <td>191</td>\n",
              "      <td>189</td>\n",
              "      <td>190</td>\n",
              "      <td>190</td>\n",
              "      <td>187</td>\n",
              "      <td>190</td>\n",
              "      <td>192</td>\n",
              "      <td>193</td>\n",
              "      <td>191</td>\n",
              "      <td>191</td>\n",
              "      <td>192</td>\n",
              "      <td>192</td>\n",
              "      <td>194</td>\n",
              "      <td>194</td>\n",
              "      <td>166</td>\n",
              "      <td>169</td>\n",
              "      <td>172</td>\n",
              "      <td>174</td>\n",
              "      <td>177</td>\n",
              "      <td>180</td>\n",
              "      <td>182</td>\n",
              "      <td>185</td>\n",
              "      <td>186</td>\n",
              "      <td>187</td>\n",
              "      <td>190</td>\n",
              "      <td>...</td>\n",
              "      <td>90</td>\n",
              "      <td>77</td>\n",
              "      <td>88</td>\n",
              "      <td>117</td>\n",
              "      <td>123</td>\n",
              "      <td>127</td>\n",
              "      <td>129</td>\n",
              "      <td>134</td>\n",
              "      <td>145</td>\n",
              "      <td>152</td>\n",
              "      <td>156</td>\n",
              "      <td>179</td>\n",
              "      <td>105</td>\n",
              "      <td>106</td>\n",
              "      <td>105</td>\n",
              "      <td>104</td>\n",
              "      <td>104</td>\n",
              "      <td>104</td>\n",
              "      <td>175</td>\n",
              "      <td>199</td>\n",
              "      <td>178</td>\n",
              "      <td>152</td>\n",
              "      <td>136</td>\n",
              "      <td>130</td>\n",
              "      <td>136</td>\n",
              "      <td>150</td>\n",
              "      <td>118</td>\n",
              "      <td>92</td>\n",
              "      <td>85</td>\n",
              "      <td>76</td>\n",
              "      <td>92</td>\n",
              "      <td>105</td>\n",
              "      <td>105</td>\n",
              "      <td>108</td>\n",
              "      <td>133</td>\n",
              "      <td>163</td>\n",
              "      <td>157</td>\n",
              "      <td>163</td>\n",
              "      <td>164</td>\n",
              "      <td>179</td>\n",
              "    </tr>\n",
              "  </tbody>\n",
              "</table>\n",
              "<p>5 rows × 785 columns</p>\n",
              "</div>"
            ],
            "text/plain": [
              "   label  pixel1  pixel2  pixel3  ...  pixel781  pixel782  pixel783  pixel784\n",
              "0      3     107     118     127  ...       206       204       203       202\n",
              "1      6     155     157     156  ...       175       103       135       149\n",
              "2      2     187     188     188  ...       198       195       194       195\n",
              "3      2     211     211     212  ...       225       222       229       163\n",
              "4     13     164     167     170  ...       157       163       164       179\n",
              "\n",
              "[5 rows x 785 columns]"
            ]
          },
          "metadata": {},
          "execution_count": 5
        }
      ]
    },
    {
      "cell_type": "code",
      "metadata": {
        "colab": {
          "base_uri": "https://localhost:8080/",
          "height": 253
        },
        "id": "fsgRvNSYDtDt",
        "outputId": "20798cf7-b989-48bd-8be0-64c59ed8b602"
      },
      "source": [
        "test = pd.read_csv(test_path) # import test set\n",
        "test.head()"
      ],
      "id": "fsgRvNSYDtDt",
      "execution_count": 6,
      "outputs": [
        {
          "output_type": "execute_result",
          "data": {
            "text/html": [
              "<div>\n",
              "<style scoped>\n",
              "    .dataframe tbody tr th:only-of-type {\n",
              "        vertical-align: middle;\n",
              "    }\n",
              "\n",
              "    .dataframe tbody tr th {\n",
              "        vertical-align: top;\n",
              "    }\n",
              "\n",
              "    .dataframe thead th {\n",
              "        text-align: right;\n",
              "    }\n",
              "</style>\n",
              "<table border=\"1\" class=\"dataframe\">\n",
              "  <thead>\n",
              "    <tr style=\"text-align: right;\">\n",
              "      <th></th>\n",
              "      <th>label</th>\n",
              "      <th>pixel1</th>\n",
              "      <th>pixel2</th>\n",
              "      <th>pixel3</th>\n",
              "      <th>pixel4</th>\n",
              "      <th>pixel5</th>\n",
              "      <th>pixel6</th>\n",
              "      <th>pixel7</th>\n",
              "      <th>pixel8</th>\n",
              "      <th>pixel9</th>\n",
              "      <th>pixel10</th>\n",
              "      <th>pixel11</th>\n",
              "      <th>pixel12</th>\n",
              "      <th>pixel13</th>\n",
              "      <th>pixel14</th>\n",
              "      <th>pixel15</th>\n",
              "      <th>pixel16</th>\n",
              "      <th>pixel17</th>\n",
              "      <th>pixel18</th>\n",
              "      <th>pixel19</th>\n",
              "      <th>pixel20</th>\n",
              "      <th>pixel21</th>\n",
              "      <th>pixel22</th>\n",
              "      <th>pixel23</th>\n",
              "      <th>pixel24</th>\n",
              "      <th>pixel25</th>\n",
              "      <th>pixel26</th>\n",
              "      <th>pixel27</th>\n",
              "      <th>pixel28</th>\n",
              "      <th>pixel29</th>\n",
              "      <th>pixel30</th>\n",
              "      <th>pixel31</th>\n",
              "      <th>pixel32</th>\n",
              "      <th>pixel33</th>\n",
              "      <th>pixel34</th>\n",
              "      <th>pixel35</th>\n",
              "      <th>pixel36</th>\n",
              "      <th>pixel37</th>\n",
              "      <th>pixel38</th>\n",
              "      <th>pixel39</th>\n",
              "      <th>...</th>\n",
              "      <th>pixel745</th>\n",
              "      <th>pixel746</th>\n",
              "      <th>pixel747</th>\n",
              "      <th>pixel748</th>\n",
              "      <th>pixel749</th>\n",
              "      <th>pixel750</th>\n",
              "      <th>pixel751</th>\n",
              "      <th>pixel752</th>\n",
              "      <th>pixel753</th>\n",
              "      <th>pixel754</th>\n",
              "      <th>pixel755</th>\n",
              "      <th>pixel756</th>\n",
              "      <th>pixel757</th>\n",
              "      <th>pixel758</th>\n",
              "      <th>pixel759</th>\n",
              "      <th>pixel760</th>\n",
              "      <th>pixel761</th>\n",
              "      <th>pixel762</th>\n",
              "      <th>pixel763</th>\n",
              "      <th>pixel764</th>\n",
              "      <th>pixel765</th>\n",
              "      <th>pixel766</th>\n",
              "      <th>pixel767</th>\n",
              "      <th>pixel768</th>\n",
              "      <th>pixel769</th>\n",
              "      <th>pixel770</th>\n",
              "      <th>pixel771</th>\n",
              "      <th>pixel772</th>\n",
              "      <th>pixel773</th>\n",
              "      <th>pixel774</th>\n",
              "      <th>pixel775</th>\n",
              "      <th>pixel776</th>\n",
              "      <th>pixel777</th>\n",
              "      <th>pixel778</th>\n",
              "      <th>pixel779</th>\n",
              "      <th>pixel780</th>\n",
              "      <th>pixel781</th>\n",
              "      <th>pixel782</th>\n",
              "      <th>pixel783</th>\n",
              "      <th>pixel784</th>\n",
              "    </tr>\n",
              "  </thead>\n",
              "  <tbody>\n",
              "    <tr>\n",
              "      <th>0</th>\n",
              "      <td>6</td>\n",
              "      <td>149</td>\n",
              "      <td>149</td>\n",
              "      <td>150</td>\n",
              "      <td>150</td>\n",
              "      <td>150</td>\n",
              "      <td>151</td>\n",
              "      <td>151</td>\n",
              "      <td>150</td>\n",
              "      <td>151</td>\n",
              "      <td>152</td>\n",
              "      <td>152</td>\n",
              "      <td>152</td>\n",
              "      <td>152</td>\n",
              "      <td>152</td>\n",
              "      <td>153</td>\n",
              "      <td>153</td>\n",
              "      <td>151</td>\n",
              "      <td>152</td>\n",
              "      <td>152</td>\n",
              "      <td>153</td>\n",
              "      <td>152</td>\n",
              "      <td>152</td>\n",
              "      <td>151</td>\n",
              "      <td>151</td>\n",
              "      <td>150</td>\n",
              "      <td>150</td>\n",
              "      <td>150</td>\n",
              "      <td>149</td>\n",
              "      <td>150</td>\n",
              "      <td>150</td>\n",
              "      <td>150</td>\n",
              "      <td>152</td>\n",
              "      <td>152</td>\n",
              "      <td>151</td>\n",
              "      <td>152</td>\n",
              "      <td>152</td>\n",
              "      <td>152</td>\n",
              "      <td>152</td>\n",
              "      <td>152</td>\n",
              "      <td>...</td>\n",
              "      <td>131</td>\n",
              "      <td>134</td>\n",
              "      <td>144</td>\n",
              "      <td>147</td>\n",
              "      <td>125</td>\n",
              "      <td>87</td>\n",
              "      <td>87</td>\n",
              "      <td>103</td>\n",
              "      <td>107</td>\n",
              "      <td>110</td>\n",
              "      <td>116</td>\n",
              "      <td>113</td>\n",
              "      <td>75</td>\n",
              "      <td>74</td>\n",
              "      <td>74</td>\n",
              "      <td>74</td>\n",
              "      <td>76</td>\n",
              "      <td>74</td>\n",
              "      <td>82</td>\n",
              "      <td>134</td>\n",
              "      <td>168</td>\n",
              "      <td>155</td>\n",
              "      <td>146</td>\n",
              "      <td>137</td>\n",
              "      <td>145</td>\n",
              "      <td>146</td>\n",
              "      <td>149</td>\n",
              "      <td>135</td>\n",
              "      <td>124</td>\n",
              "      <td>125</td>\n",
              "      <td>138</td>\n",
              "      <td>148</td>\n",
              "      <td>127</td>\n",
              "      <td>89</td>\n",
              "      <td>82</td>\n",
              "      <td>96</td>\n",
              "      <td>106</td>\n",
              "      <td>112</td>\n",
              "      <td>120</td>\n",
              "      <td>107</td>\n",
              "    </tr>\n",
              "    <tr>\n",
              "      <th>1</th>\n",
              "      <td>5</td>\n",
              "      <td>126</td>\n",
              "      <td>128</td>\n",
              "      <td>131</td>\n",
              "      <td>132</td>\n",
              "      <td>133</td>\n",
              "      <td>134</td>\n",
              "      <td>135</td>\n",
              "      <td>135</td>\n",
              "      <td>136</td>\n",
              "      <td>138</td>\n",
              "      <td>137</td>\n",
              "      <td>137</td>\n",
              "      <td>138</td>\n",
              "      <td>138</td>\n",
              "      <td>139</td>\n",
              "      <td>137</td>\n",
              "      <td>142</td>\n",
              "      <td>140</td>\n",
              "      <td>138</td>\n",
              "      <td>139</td>\n",
              "      <td>137</td>\n",
              "      <td>137</td>\n",
              "      <td>136</td>\n",
              "      <td>135</td>\n",
              "      <td>134</td>\n",
              "      <td>133</td>\n",
              "      <td>134</td>\n",
              "      <td>132</td>\n",
              "      <td>129</td>\n",
              "      <td>132</td>\n",
              "      <td>134</td>\n",
              "      <td>135</td>\n",
              "      <td>135</td>\n",
              "      <td>137</td>\n",
              "      <td>139</td>\n",
              "      <td>139</td>\n",
              "      <td>139</td>\n",
              "      <td>140</td>\n",
              "      <td>141</td>\n",
              "      <td>...</td>\n",
              "      <td>114</td>\n",
              "      <td>112</td>\n",
              "      <td>89</td>\n",
              "      <td>48</td>\n",
              "      <td>133</td>\n",
              "      <td>194</td>\n",
              "      <td>182</td>\n",
              "      <td>185</td>\n",
              "      <td>184</td>\n",
              "      <td>184</td>\n",
              "      <td>182</td>\n",
              "      <td>181</td>\n",
              "      <td>172</td>\n",
              "      <td>174</td>\n",
              "      <td>177</td>\n",
              "      <td>178</td>\n",
              "      <td>178</td>\n",
              "      <td>179</td>\n",
              "      <td>181</td>\n",
              "      <td>183</td>\n",
              "      <td>187</td>\n",
              "      <td>175</td>\n",
              "      <td>165</td>\n",
              "      <td>154</td>\n",
              "      <td>118</td>\n",
              "      <td>107</td>\n",
              "      <td>100</td>\n",
              "      <td>75</td>\n",
              "      <td>96</td>\n",
              "      <td>83</td>\n",
              "      <td>47</td>\n",
              "      <td>104</td>\n",
              "      <td>194</td>\n",
              "      <td>183</td>\n",
              "      <td>186</td>\n",
              "      <td>184</td>\n",
              "      <td>184</td>\n",
              "      <td>184</td>\n",
              "      <td>182</td>\n",
              "      <td>180</td>\n",
              "    </tr>\n",
              "    <tr>\n",
              "      <th>2</th>\n",
              "      <td>10</td>\n",
              "      <td>85</td>\n",
              "      <td>88</td>\n",
              "      <td>92</td>\n",
              "      <td>96</td>\n",
              "      <td>105</td>\n",
              "      <td>123</td>\n",
              "      <td>135</td>\n",
              "      <td>143</td>\n",
              "      <td>147</td>\n",
              "      <td>152</td>\n",
              "      <td>157</td>\n",
              "      <td>163</td>\n",
              "      <td>168</td>\n",
              "      <td>171</td>\n",
              "      <td>182</td>\n",
              "      <td>172</td>\n",
              "      <td>175</td>\n",
              "      <td>185</td>\n",
              "      <td>183</td>\n",
              "      <td>184</td>\n",
              "      <td>185</td>\n",
              "      <td>185</td>\n",
              "      <td>185</td>\n",
              "      <td>183</td>\n",
              "      <td>183</td>\n",
              "      <td>182</td>\n",
              "      <td>181</td>\n",
              "      <td>178</td>\n",
              "      <td>86</td>\n",
              "      <td>88</td>\n",
              "      <td>93</td>\n",
              "      <td>96</td>\n",
              "      <td>108</td>\n",
              "      <td>125</td>\n",
              "      <td>137</td>\n",
              "      <td>145</td>\n",
              "      <td>149</td>\n",
              "      <td>154</td>\n",
              "      <td>160</td>\n",
              "      <td>...</td>\n",
              "      <td>145</td>\n",
              "      <td>123</td>\n",
              "      <td>78</td>\n",
              "      <td>162</td>\n",
              "      <td>239</td>\n",
              "      <td>227</td>\n",
              "      <td>229</td>\n",
              "      <td>226</td>\n",
              "      <td>226</td>\n",
              "      <td>225</td>\n",
              "      <td>224</td>\n",
              "      <td>222</td>\n",
              "      <td>89</td>\n",
              "      <td>91</td>\n",
              "      <td>94</td>\n",
              "      <td>111</td>\n",
              "      <td>136</td>\n",
              "      <td>154</td>\n",
              "      <td>167</td>\n",
              "      <td>184</td>\n",
              "      <td>125</td>\n",
              "      <td>3</td>\n",
              "      <td>166</td>\n",
              "      <td>225</td>\n",
              "      <td>195</td>\n",
              "      <td>188</td>\n",
              "      <td>172</td>\n",
              "      <td>185</td>\n",
              "      <td>161</td>\n",
              "      <td>122</td>\n",
              "      <td>68</td>\n",
              "      <td>166</td>\n",
              "      <td>242</td>\n",
              "      <td>227</td>\n",
              "      <td>230</td>\n",
              "      <td>227</td>\n",
              "      <td>226</td>\n",
              "      <td>225</td>\n",
              "      <td>224</td>\n",
              "      <td>222</td>\n",
              "    </tr>\n",
              "    <tr>\n",
              "      <th>3</th>\n",
              "      <td>0</td>\n",
              "      <td>203</td>\n",
              "      <td>205</td>\n",
              "      <td>207</td>\n",
              "      <td>206</td>\n",
              "      <td>207</td>\n",
              "      <td>209</td>\n",
              "      <td>210</td>\n",
              "      <td>209</td>\n",
              "      <td>210</td>\n",
              "      <td>209</td>\n",
              "      <td>208</td>\n",
              "      <td>207</td>\n",
              "      <td>207</td>\n",
              "      <td>209</td>\n",
              "      <td>208</td>\n",
              "      <td>210</td>\n",
              "      <td>210</td>\n",
              "      <td>207</td>\n",
              "      <td>209</td>\n",
              "      <td>209</td>\n",
              "      <td>208</td>\n",
              "      <td>209</td>\n",
              "      <td>210</td>\n",
              "      <td>209</td>\n",
              "      <td>207</td>\n",
              "      <td>208</td>\n",
              "      <td>209</td>\n",
              "      <td>207</td>\n",
              "      <td>206</td>\n",
              "      <td>208</td>\n",
              "      <td>209</td>\n",
              "      <td>208</td>\n",
              "      <td>208</td>\n",
              "      <td>210</td>\n",
              "      <td>211</td>\n",
              "      <td>210</td>\n",
              "      <td>211</td>\n",
              "      <td>209</td>\n",
              "      <td>209</td>\n",
              "      <td>...</td>\n",
              "      <td>85</td>\n",
              "      <td>80</td>\n",
              "      <td>84</td>\n",
              "      <td>151</td>\n",
              "      <td>238</td>\n",
              "      <td>255</td>\n",
              "      <td>255</td>\n",
              "      <td>250</td>\n",
              "      <td>237</td>\n",
              "      <td>245</td>\n",
              "      <td>250</td>\n",
              "      <td>232</td>\n",
              "      <td>103</td>\n",
              "      <td>101</td>\n",
              "      <td>102</td>\n",
              "      <td>103</td>\n",
              "      <td>95</td>\n",
              "      <td>208</td>\n",
              "      <td>231</td>\n",
              "      <td>227</td>\n",
              "      <td>209</td>\n",
              "      <td>190</td>\n",
              "      <td>179</td>\n",
              "      <td>182</td>\n",
              "      <td>152</td>\n",
              "      <td>150</td>\n",
              "      <td>159</td>\n",
              "      <td>119</td>\n",
              "      <td>83</td>\n",
              "      <td>63</td>\n",
              "      <td>154</td>\n",
              "      <td>248</td>\n",
              "      <td>247</td>\n",
              "      <td>248</td>\n",
              "      <td>253</td>\n",
              "      <td>236</td>\n",
              "      <td>230</td>\n",
              "      <td>240</td>\n",
              "      <td>253</td>\n",
              "      <td>255</td>\n",
              "    </tr>\n",
              "    <tr>\n",
              "      <th>4</th>\n",
              "      <td>3</td>\n",
              "      <td>188</td>\n",
              "      <td>191</td>\n",
              "      <td>193</td>\n",
              "      <td>195</td>\n",
              "      <td>199</td>\n",
              "      <td>201</td>\n",
              "      <td>202</td>\n",
              "      <td>203</td>\n",
              "      <td>203</td>\n",
              "      <td>203</td>\n",
              "      <td>204</td>\n",
              "      <td>204</td>\n",
              "      <td>204</td>\n",
              "      <td>203</td>\n",
              "      <td>202</td>\n",
              "      <td>198</td>\n",
              "      <td>216</td>\n",
              "      <td>217</td>\n",
              "      <td>135</td>\n",
              "      <td>181</td>\n",
              "      <td>200</td>\n",
              "      <td>195</td>\n",
              "      <td>194</td>\n",
              "      <td>193</td>\n",
              "      <td>190</td>\n",
              "      <td>189</td>\n",
              "      <td>187</td>\n",
              "      <td>185</td>\n",
              "      <td>190</td>\n",
              "      <td>194</td>\n",
              "      <td>196</td>\n",
              "      <td>197</td>\n",
              "      <td>200</td>\n",
              "      <td>202</td>\n",
              "      <td>204</td>\n",
              "      <td>206</td>\n",
              "      <td>207</td>\n",
              "      <td>207</td>\n",
              "      <td>206</td>\n",
              "      <td>...</td>\n",
              "      <td>93</td>\n",
              "      <td>52</td>\n",
              "      <td>24</td>\n",
              "      <td>53</td>\n",
              "      <td>63</td>\n",
              "      <td>33</td>\n",
              "      <td>41</td>\n",
              "      <td>51</td>\n",
              "      <td>48</td>\n",
              "      <td>45</td>\n",
              "      <td>49</td>\n",
              "      <td>55</td>\n",
              "      <td>149</td>\n",
              "      <td>150</td>\n",
              "      <td>150</td>\n",
              "      <td>148</td>\n",
              "      <td>147</td>\n",
              "      <td>151</td>\n",
              "      <td>124</td>\n",
              "      <td>82</td>\n",
              "      <td>84</td>\n",
              "      <td>81</td>\n",
              "      <td>69</td>\n",
              "      <td>81</td>\n",
              "      <td>111</td>\n",
              "      <td>103</td>\n",
              "      <td>84</td>\n",
              "      <td>75</td>\n",
              "      <td>53</td>\n",
              "      <td>28</td>\n",
              "      <td>26</td>\n",
              "      <td>40</td>\n",
              "      <td>64</td>\n",
              "      <td>48</td>\n",
              "      <td>29</td>\n",
              "      <td>46</td>\n",
              "      <td>49</td>\n",
              "      <td>46</td>\n",
              "      <td>46</td>\n",
              "      <td>53</td>\n",
              "    </tr>\n",
              "  </tbody>\n",
              "</table>\n",
              "<p>5 rows × 785 columns</p>\n",
              "</div>"
            ],
            "text/plain": [
              "   label  pixel1  pixel2  pixel3  ...  pixel781  pixel782  pixel783  pixel784\n",
              "0      6     149     149     150  ...       106       112       120       107\n",
              "1      5     126     128     131  ...       184       184       182       180\n",
              "2     10      85      88      92  ...       226       225       224       222\n",
              "3      0     203     205     207  ...       230       240       253       255\n",
              "4      3     188     191     193  ...        49        46        46        53\n",
              "\n",
              "[5 rows x 785 columns]"
            ]
          },
          "metadata": {},
          "execution_count": 6
        }
      ]
    },
    {
      "cell_type": "code",
      "metadata": {
        "execution": {
          "iopub.execute_input": "2021-10-09T10:34:24.819733Z",
          "iopub.status.busy": "2021-10-09T10:34:24.818511Z",
          "iopub.status.idle": "2021-10-09T10:34:24.848438Z",
          "shell.execute_reply": "2021-10-09T10:34:24.847808Z",
          "shell.execute_reply.started": "2021-10-09T10:08:38.990725Z"
        },
        "papermill": {
          "duration": 0.055794,
          "end_time": "2021-10-09T10:34:24.848593",
          "exception": false,
          "start_time": "2021-10-09T10:34:24.792799",
          "status": "completed"
        },
        "tags": [],
        "colab": {
          "base_uri": "https://localhost:8080/"
        },
        "id": "varied-canon",
        "outputId": "224a36d0-0bf9-4ee4-dcb7-a21c155be0e7"
      },
      "source": [
        "print('shape of training data:', train.shape) # (nrow, ncolumn)\n",
        "print('shape of testing data:', test.shape) # (nrow, ncolumn)\n",
        "\n",
        "''' na count over all rows and columns\n",
        "first sum = sums over rows, last sum = sums over columns\n",
        "'''\n",
        "print('na count train:', train.isna().sum().sum())\n",
        "print('na count test:', test.isna().sum().sum())"
      ],
      "id": "varied-canon",
      "execution_count": 7,
      "outputs": [
        {
          "output_type": "stream",
          "name": "stdout",
          "text": [
            "shape of training data: (27455, 785)\n",
            "shape of testing data: (7172, 785)\n",
            "na count train: 0\n",
            "na count test: 0\n"
          ]
        }
      ]
    },
    {
      "cell_type": "code",
      "metadata": {
        "execution": {
          "iopub.execute_input": "2021-10-09T10:34:24.899116Z",
          "iopub.status.busy": "2021-10-09T10:34:24.898453Z",
          "iopub.status.idle": "2021-10-09T10:34:25.168559Z",
          "shell.execute_reply": "2021-10-09T10:34:25.168983Z",
          "shell.execute_reply.started": "2021-10-09T10:08:39.028013Z"
        },
        "papermill": {
          "duration": 0.298442,
          "end_time": "2021-10-09T10:34:25.169131",
          "exception": false,
          "start_time": "2021-10-09T10:34:24.870689",
          "status": "completed"
        },
        "tags": [],
        "colab": {
          "base_uri": "https://localhost:8080/",
          "height": 357
        },
        "id": "english-board",
        "outputId": "f3eea754-1346-4358-e435-d9aa68573a02"
      },
      "source": [
        "fig = plt.figure(figsize=(10,5))\n",
        "ax = sns.countplot(x=train['label'], palette='Accent') # plot train label distribution\n",
        "plt.title('Target distribution on train set')\n",
        "plt.show()"
      ],
      "id": "english-board",
      "execution_count": 9,
      "outputs": [
        {
          "output_type": "display_data",
          "data": {
            "image/png": "[encoded data removed]",
            "text/plain": [
              "<Figure size 720x360 with 1 Axes>"
            ]
          },
          "metadata": {
            "needs_background": "light"
          }
        }
      ]
    },
    {
      "cell_type": "code",
      "metadata": {
        "colab": {
          "base_uri": "https://localhost:8080/",
          "height": 357
        },
        "id": "ZPRiwj_tEVV7",
        "outputId": "d760b906-c602-48b2-f443-abde2aaf6b43"
      },
      "source": [
        "fig = plt.figure(figsize=(10,5))\n",
        "ax = sns.countplot(x=test['label'], palette='Accent') # plot test label distribution\n",
        "plt.title('Target distribution on test set')\n",
        "plt.show()"
      ],
      "id": "ZPRiwj_tEVV7",
      "execution_count": 10,
      "outputs": [
        {
          "output_type": "display_data",
          "data": {
            "image/png": "[encoded data removed]",
            "text/plain": [
              "<Figure size 720x360 with 1 Axes>"
            ]
          },
          "metadata": {
            "needs_background": "light"
          }
        }
      ]
    },
    {
      "cell_type": "markdown",
      "metadata": {
        "id": "rZ3NyIFKbldV"
      },
      "source": [
        "we could notice that there are no example in both train set and test set with label 9"
      ],
      "id": "rZ3NyIFKbldV"
    },
    {
      "cell_type": "code",
      "metadata": {
        "execution": {
          "iopub.execute_input": "2021-10-09T10:34:25.338266Z",
          "iopub.status.busy": "2021-10-09T10:34:25.337467Z",
          "iopub.status.idle": "2021-10-09T10:34:25.340941Z",
          "shell.execute_reply": "2021-10-09T10:34:25.340507Z",
          "shell.execute_reply.started": "2021-10-09T10:08:39.336578Z"
        },
        "papermill": {
          "duration": 0.082119,
          "end_time": "2021-10-09T10:34:25.341077",
          "exception": false,
          "start_time": "2021-10-09T10:34:25.258958",
          "status": "completed"
        },
        "tags": [],
        "id": "virgin-eight"
      },
      "source": [
        "X = train.drop('label', axis=1) # features\n",
        "y = keras.utils.to_categorical(train['label']) # encode target\n",
        "\n",
        "X_test = test.drop('label', axis=1)\n",
        "y_test = keras.utils.to_categorical(test['label'])"
      ],
      "id": "virgin-eight",
      "execution_count": 11,
      "outputs": []
    },
    {
      "cell_type": "code",
      "metadata": {
        "execution": {
          "iopub.execute_input": "2021-10-09T10:34:25.388734Z",
          "iopub.status.busy": "2021-10-09T10:34:25.388230Z",
          "iopub.status.idle": "2021-10-09T10:34:25.391985Z",
          "shell.execute_reply": "2021-10-09T10:34:25.391539Z",
          "shell.execute_reply.started": "2021-10-09T10:08:39.401231Z"
        },
        "papermill": {
          "duration": 0.029381,
          "end_time": "2021-10-09T10:34:25.392092",
          "exception": false,
          "start_time": "2021-10-09T10:34:25.362711",
          "status": "completed"
        },
        "tags": [],
        "id": "domestic-regard"
      },
      "source": [
        "# reshape square black and white images\n",
        "def reshape_bw(X):\n",
        "    samples, width, channel = X.shape[0], int(X.shape[1] ** (1/2)) , 1\n",
        "    return X.values.reshape(samples, width, width, channel)  "
      ],
      "id": "domestic-regard",
      "execution_count": 12,
      "outputs": []
    },
    {
      "cell_type": "code",
      "metadata": {
        "execution": {
          "iopub.execute_input": "2021-10-09T10:34:25.438642Z",
          "iopub.status.busy": "2021-10-09T10:34:25.438121Z",
          "iopub.status.idle": "2021-10-09T10:34:25.441971Z",
          "shell.execute_reply": "2021-10-09T10:34:25.441556Z",
          "shell.execute_reply.started": "2021-10-09T10:08:39.409343Z"
        },
        "papermill": {
          "duration": 0.028709,
          "end_time": "2021-10-09T10:34:25.442079",
          "exception": false,
          "start_time": "2021-10-09T10:34:25.413370",
          "status": "completed"
        },
        "tags": [],
        "id": "bright-progress"
      },
      "source": [
        "X = reshape_bw(X)\n",
        "X_test = reshape_bw(X_test)\n",
        "width, height, channel = X.shape[1], X.shape[2], X.shape[3]"
      ],
      "id": "bright-progress",
      "execution_count": 13,
      "outputs": []
    },
    {
      "cell_type": "code",
      "metadata": {
        "execution": {
          "iopub.execute_input": "2021-10-09T10:34:25.514270Z",
          "iopub.status.busy": "2021-10-09T10:34:25.513322Z",
          "iopub.status.idle": "2021-10-09T10:34:25.609723Z",
          "shell.execute_reply": "2021-10-09T10:34:25.609298Z",
          "shell.execute_reply.started": "2021-10-09T10:08:39.417045Z"
        },
        "papermill": {
          "duration": 0.146046,
          "end_time": "2021-10-09T10:34:25.609829",
          "exception": false,
          "start_time": "2021-10-09T10:34:25.463783",
          "status": "completed"
        },
        "tags": [],
        "colab": {
          "base_uri": "https://localhost:8080/",
          "height": 555
        },
        "id": "private-aggregate",
        "outputId": "8659d1bf-6d68-4d7c-df00-f61c387b3748"
      },
      "source": [
        "# plot a square black and white image\n",
        "def plot_image(X, width):\n",
        "    _ = plt.imshow(X.reshape(width, width), cmap='gray')\n",
        "    plt.show()\n",
        "\n",
        "# plot sample image\n",
        "print('label:', y[0].argmax())    \n",
        "plot_image(X[0], width)\n",
        "print('label:', y_test[0].argmax())    \n",
        "plot_image(X_test[0], width)"
      ],
      "id": "private-aggregate",
      "execution_count": 14,
      "outputs": [
        {
          "output_type": "stream",
          "name": "stdout",
          "text": [
            "label: 3\n"
          ]
        },
        {
          "output_type": "display_data",
          "data": {
            "image/png": "[encoded data removed]",
            "text/plain": [
              "<Figure size 432x288 with 1 Axes>"
            ]
          },
          "metadata": {
            "needs_background": "light"
          }
        },
        {
          "output_type": "stream",
          "name": "stdout",
          "text": [
            "label: 6\n"
          ]
        },
        {
          "output_type": "display_data",
          "data": {
            "image/png": "[encoded data removed]",
            "text/plain": [
              "<Figure size 432x288 with 1 Axes>"
            ]
          },
          "metadata": {
            "needs_background": "light"
          }
        }
      ]
    },
    {
      "cell_type": "code",
      "metadata": {
        "id": "FQAuUlWmCcm1",
        "colab": {
          "base_uri": "https://localhost:8080/",
          "height": 269
        },
        "outputId": "ada57eb9-f4c8-4e3c-cc22-cb205ff121a8"
      },
      "source": [
        "def preprocess(image_url):\n",
        "  conn = urllib.request.urlopen(image_url) # connect\n",
        "  # read image into 1D numpy array\n",
        "  array = np.asarray(bytearray(conn.read()), dtype=np.uint8)\n",
        "  # convert the 1D numpy array to image matrix\n",
        "  img = cv.imdecode(array, -1)\n",
        "  # convert to gray scale and resize image\n",
        "  img = cv.resize(cv.cvtColor(img, cv.COLOR_RGB2GRAY), (28,28))\n",
        "  return img.reshape(28,28,1)\n",
        "test_image = preprocess('https://drive.google.com/uc?export=download&id=1iW8TmxwKOcQK4P85S2waAkC5SumpEIEv')\n",
        "plot_image(test_image, width)"
      ],
      "id": "FQAuUlWmCcm1",
      "execution_count": 67,
      "outputs": [
        {
          "output_type": "display_data",
          "data": {
            "image/png": "[encoded data removed]",
            "text/plain": [
              "<Figure size 432x288 with 1 Axes>"
            ]
          },
          "metadata": {
            "needs_background": "light"
          }
        }
      ]
    },
    {
      "cell_type": "markdown",
      "metadata": {
        "id": "1nKc1SCuVtCx"
      },
      "source": [
        "test image conversion makes image distorted to some extent. images that have size similar to test image should be used for training."
      ],
      "id": "1nKc1SCuVtCx"
    },
    {
      "cell_type": "code",
      "metadata": {
        "execution": {
          "iopub.execute_input": "2021-10-09T10:34:25.658684Z",
          "iopub.status.busy": "2021-10-09T10:34:25.657796Z",
          "iopub.status.idle": "2021-10-09T10:34:26.617938Z",
          "shell.execute_reply": "2021-10-09T10:34:26.617428Z",
          "shell.execute_reply.started": "2021-10-09T10:08:39.543735Z"
        },
        "papermill": {
          "duration": 0.986071,
          "end_time": "2021-10-09T10:34:26.618081",
          "exception": false,
          "start_time": "2021-10-09T10:34:25.632010",
          "status": "completed"
        },
        "tags": [],
        "id": "imposed-rolling"
      },
      "source": [
        "# split data into train and validation set with same target distribution as before spliting\n",
        "X_train, X_val, y_train, y_val = train_test_split(X, y, stratify=y, test_size=0.2, random_state=42)"
      ],
      "id": "imposed-rolling",
      "execution_count": 68,
      "outputs": []
    },
    {
      "cell_type": "code",
      "metadata": {
        "execution": {
          "iopub.execute_input": "2021-10-09T10:34:26.671351Z",
          "iopub.status.busy": "2021-10-09T10:34:26.670391Z",
          "iopub.status.idle": "2021-10-09T10:34:26.794470Z",
          "shell.execute_reply": "2021-10-09T10:34:26.794914Z",
          "shell.execute_reply.started": "2021-10-09T10:08:40.542010Z"
        },
        "papermill": {
          "duration": 0.152868,
          "end_time": "2021-10-09T10:34:26.795085",
          "exception": false,
          "start_time": "2021-10-09T10:34:26.642217",
          "status": "completed"
        },
        "tags": [],
        "id": "diagnostic-protocol"
      },
      "source": [
        "# create data augmentor and fit it on train set\n",
        "generator = keras.preprocessing.image.ImageDataGenerator(\n",
        "    featurewise_center=True, # make pixel intensity mean = 0 pixel-wise\n",
        "    featurewise_std_normalization=True, # make pixel intensity s.d. = 1 pixel-wise\n",
        "    height_shift_range=0.2, # shift image vertically (up or down) by 0.2 * 28 pixel\n",
        "    width_shift_range=0.2, # shift image horizontally (left or right) by 0.2 * 28 pixel\n",
        "    fill_mode='nearest'\n",
        ")\n",
        "generator.fit(X_train)"
      ],
      "id": "diagnostic-protocol",
      "execution_count": 69,
      "outputs": []
    },
    {
      "cell_type": "code",
      "metadata": {
        "id": "J5J9kx47aLxA"
      },
      "source": [
        "def plot_learning_curve(history):\n",
        "    ephs = np.arange(0, len(history.history['loss'])) + 1\n",
        "    fig = plt.figure(figsize=(12, 5))\n",
        "    plt.subplot(1,2,1)\n",
        "    plt.plot(ephs, history.history['accuracy'], '--')\n",
        "    plt.plot(ephs, history.history['val_accuracy'], '--')\n",
        "    plt.legend(['accuracy', 'val_accuracy'])\n",
        "    plt.subplot(1,2,2)\n",
        "    plt.plot(ephs, history.history['loss'], '--')\n",
        "    plt.plot(ephs, history.history['val_loss'], '--')\n",
        "    plt.legend(['loss', 'val_loss'])\n",
        "    plt.show()"
      ],
      "id": "J5J9kx47aLxA",
      "execution_count": 70,
      "outputs": []
    },
    {
      "cell_type": "code",
      "metadata": {
        "execution": {
          "iopub.execute_input": "2021-10-09T10:43:10.124326Z",
          "iopub.status.busy": "2021-10-09T10:43:10.123651Z",
          "iopub.status.idle": "2021-10-09T10:43:10.127137Z",
          "shell.execute_reply": "2021-10-09T10:43:10.126700Z",
          "shell.execute_reply.started": "2021-10-09T10:23:30.686656Z"
        },
        "papermill": {
          "duration": 0.058899,
          "end_time": "2021-10-09T10:43:10.127243",
          "exception": false,
          "start_time": "2021-10-09T10:43:10.068344",
          "status": "completed"
        },
        "tags": [],
        "id": "alpine-recipe"
      },
      "source": [
        "def evaluate(model):\n",
        "    loss_t, acc_t, pre_t, rec_t, auc_t = model.evaluate(generator.flow(X_train, y_train, batch_size=32))\n",
        "    loss, acc, pre, rec, auc = model.evaluate(generator.flow(X_test, y_test, batch_size=32))\n",
        "    print()\n",
        "    print(f\"train loss: {loss_t}\")\n",
        "    print(f\"train accuracy: {round(acc_t*100,2)} %\")\n",
        "    print(f\"train precision: {pre_t}\")\n",
        "    print(f\"train recall: {rec_t}\")\n",
        "    print(f\"train AUC: {auc_t}\")\n",
        "    print(f\"test loss: {loss}\")\n",
        "    print(f\"test accuracy: {round(acc*100,2)} %\")\n",
        "    print(f\"test precision: {pre}\")\n",
        "    print(f\"test recall: {rec}\")\n",
        "    print(f\"test AUC: {auc}\")\n",
        "    print()\n",
        "    index = int(input(\"Enter image index: \")) % X_test.shape[0]\n",
        "    print(f\"label: {np.argmax(model.predict(np.expand_dims([X_test[index]], axis=-1), verbose=0))}\")\n",
        "    print(f\"actual label: {y_test[index].argmax()}\")\n",
        "    plot_image(X_test[index], width)"
      ],
      "id": "alpine-recipe",
      "execution_count": 71,
      "outputs": []
    },
    {
      "cell_type": "code",
      "metadata": {
        "id": "DzY_bK_HW8CT"
      },
      "source": [
        "def build_base_model(func, init):\n",
        "    keras.backend.clear_session()\n",
        "    model = keras.models.Sequential()\n",
        "    model.add(keras.layers.Conv2D(64, (5, 5), padding=\"same\", kernel_initializer=init(), input_shape=X_train.shape[1:]))\n",
        "    model.add(keras.layers.Activation(func))\n",
        "    model.add(keras.layers.MaxPooling2D((2, 2)))\n",
        "    model.add(keras.layers.Conv2D(128, (5, 5), padding=\"same\", kernel_initializer=init()))\n",
        "    model.add(keras.layers.Activation(func))\n",
        "    model.add(keras.layers.MaxPooling2D((2, 2)))\n",
        "    model.add(keras.layers.Conv2D(256, (5, 5), padding=\"same\", kernel_initializer=init()))\n",
        "    model.add(keras.layers.Activation(func))\n",
        "    model.add(keras.layers.MaxPooling2D((2, 2)))\n",
        "    model.add(keras.layers.Flatten())\n",
        "    model.add(keras.layers.Dense(y.shape[1], activation='softmax', kernel_initializer=init()))\n",
        "    return model"
      ],
      "id": "DzY_bK_HW8CT",
      "execution_count": 72,
      "outputs": []
    },
    {
      "cell_type": "code",
      "metadata": {
        "id": "cj8LMBuKXKjZ"
      },
      "source": [
        "'''\n",
        "use elu activation as an alternative to avoid dead relu problem\n",
        "he initialization is good for relu like activations\n",
        "'''\n",
        "model_base_uni = build_base_model(keras.activations.elu, keras.initializers.he_uniform)\n",
        "# compile model\n",
        "model_base_uni.compile(\n",
        "    optimizer=keras.optimizers.Adam(learning_rate=0.005),\n",
        "    loss=keras.losses.CategoricalCrossentropy(),\n",
        "    metrics=['accuracy', keras.metrics.Precision(), keras.metrics.Recall(), keras.metrics.AUC(name='auc')]\n",
        ")\n",
        "\n",
        "model_base_norm = build_base_model(keras.activations.elu, keras.initializers.he_normal)\n",
        "# compile model\n",
        "model_base_norm.compile(\n",
        "    optimizer=keras.optimizers.Adam(learning_rate=0.005),\n",
        "    loss=keras.losses.CategoricalCrossentropy(),\n",
        "    metrics=['accuracy', keras.metrics.Precision(), keras.metrics.Recall(), keras.metrics.AUC(name='auc')]\n",
        ")"
      ],
      "id": "cj8LMBuKXKjZ",
      "execution_count": 73,
      "outputs": []
    },
    {
      "cell_type": "code",
      "metadata": {
        "colab": {
          "base_uri": "https://localhost:8080/",
          "height": 285
        },
        "id": "CeJcpRm5GFTN",
        "outputId": "20cbfffb-281f-4f12-a467-49a8f14035e5"
      },
      "source": [
        "uni_dense_w = model_base_uni.layers[-1].get_weights()[0].ravel()\n",
        "norm_dense_w = model_base_norm.layers[-1].get_weights()[0].ravel()\n",
        "plt.figure(figsize=(12,4))\n",
        "plt.subplot(1,2,1)\n",
        "sns.kdeplot(x=uni_dense_w, fill=True)\n",
        "plt.title('Layer weight uniform distribution')\n",
        "plt.subplot(1,2,2)\n",
        "sns.kdeplot(x=norm_dense_w, fill=True)\n",
        "plt.title('Layer weight normal distribution')\n",
        "plt.show()"
      ],
      "id": "CeJcpRm5GFTN",
      "execution_count": 119,
      "outputs": [
        {
          "output_type": "display_data",
          "data": {
            "image/png": "[encoded data removed]",
            "text/plain": [
              "<Figure size 864x288 with 2 Axes>"
            ]
          },
          "metadata": {
            "needs_background": "light"
          }
        }
      ]
    },
    {
      "cell_type": "code",
      "metadata": {
        "colab": {
          "base_uri": "https://localhost:8080/"
        },
        "id": "B18uO0EYKPFG",
        "outputId": "f2a095e7-fcc2-4309-9488-febaa899a9ea"
      },
      "source": [
        "r,c = model_base_uni.layers[-1].get_weights()[0].shape # get_weights give (weight, bias)\n",
        "print('uniform weights should be between', -np.sqrt(6/c), 'and', np.sqrt(6/c)) # limit = sqrt(6 / fan_in)\n",
        "print('uniform weights are between', min(uni_dense_w), 'and', max(uni_dense_w))\n",
        "print()\n",
        "# weights are randomly drawn from truncated normal distribution for model_base_norm with mean 0 and s.d. sqrt(2 / fan_in)"
      ],
      "id": "B18uO0EYKPFG",
      "execution_count": 132,
      "outputs": [
        {
          "output_type": "stream",
          "name": "stdout",
          "text": [
            "uniform weights should be between -0.4898979485566356 and 0.4898979485566356\n",
            "uniform weights are between -0.051029954 and 0.051030055\n",
            "\n"
          ]
        }
      ]
    },
    {
      "cell_type": "code",
      "metadata": {
        "id": "yiBcIPRaZ20U"
      },
      "source": [
        "cb_base = keras.callbacks.ReduceLROnPlateau(monitor='val_auc', mode='max', factor=0.3, patience=2, min_lr=0.00001)"
      ],
      "id": "yiBcIPRaZ20U",
      "execution_count": 141,
      "outputs": []
    },
    {
      "cell_type": "code",
      "metadata": {
        "id": "W4Dm7ipxaHAh",
        "colab": {
          "base_uri": "https://localhost:8080/"
        },
        "outputId": "243a140a-39af-4ca1-91b1-ad1932d9a0db"
      },
      "source": [
        "history_base_uni = model_base_uni.fit(generator.flow(X_train, y_train, batch_size=32), \\\n",
        "                    epochs=20, \\\n",
        "                    validation_data=generator.flow(X_val, y_val, batch_size=32), \\\n",
        "                    callbacks=[cb_base],\n",
        "                    verbose=2)"
      ],
      "id": "W4Dm7ipxaHAh",
      "execution_count": 142,
      "outputs": [
        {
          "output_type": "stream",
          "name": "stdout",
          "text": [
            "Epoch 1/20\n",
            "687/687 - 50s - loss: 5.1358 - accuracy: 0.1404 - precision: 0.2119 - recall: 0.0822 - auc: 0.6749 - val_loss: 3.9634 - val_accuracy: 0.2783 - val_precision: 0.3091 - val_recall: 0.2419 - val_auc: 0.7663\n",
            "Epoch 2/20\n",
            "687/687 - 16s - loss: 3.5626 - accuracy: 0.3214 - precision: 0.3595 - recall: 0.2846 - auc: 0.8155 - val_loss: 3.3448 - val_accuracy: 0.4114 - val_precision: 0.4360 - val_recall: 0.3903 - val_auc: 0.8519\n",
            "Epoch 3/20\n",
            "687/687 - 16s - loss: 3.1909 - accuracy: 0.4650 - precision: 0.4844 - recall: 0.4484 - auc: 0.8562 - val_loss: 2.3757 - val_accuracy: 0.5514 - val_precision: 0.5632 - val_recall: 0.5414 - val_auc: 0.8981\n",
            "Epoch 4/20\n",
            "687/687 - 16s - loss: 8.1595 - accuracy: 0.1468 - precision: 0.2192 - recall: 0.1171 - auc: 0.6343 - val_loss: 3.6769 - val_accuracy: 0.2519 - val_precision: 0.3828 - val_recall: 0.1668 - val_auc: 0.7749\n",
            "Epoch 5/20\n",
            "687/687 - 16s - loss: 3.0668 - accuracy: 0.4678 - precision: 0.4921 - recall: 0.4496 - auc: 0.8602 - val_loss: 2.6280 - val_accuracy: 0.5742 - val_precision: 0.5838 - val_recall: 0.5613 - val_auc: 0.8857\n",
            "Epoch 6/20\n",
            "687/687 - 16s - loss: 0.9722 - accuracy: 0.7374 - precision: 0.7544 - recall: 0.7209 - auc: 0.9679 - val_loss: 0.8433 - val_accuracy: 0.7596 - val_precision: 0.7770 - val_recall: 0.7470 - val_auc: 0.9722\n",
            "Epoch 7/20\n",
            "687/687 - 16s - loss: 0.6614 - accuracy: 0.8155 - precision: 0.8264 - recall: 0.8050 - auc: 0.9794 - val_loss: 0.6895 - val_accuracy: 0.8283 - val_precision: 0.8373 - val_recall: 0.8226 - val_auc: 0.9770\n",
            "Epoch 8/20\n",
            "687/687 - 16s - loss: 0.5884 - accuracy: 0.8549 - precision: 0.8621 - recall: 0.8493 - auc: 0.9809 - val_loss: 0.5847 - val_accuracy: 0.8505 - val_precision: 0.8561 - val_recall: 0.8459 - val_auc: 0.9812\n",
            "Epoch 9/20\n",
            "687/687 - 16s - loss: 0.5210 - accuracy: 0.8791 - precision: 0.8839 - recall: 0.8759 - auc: 0.9821 - val_loss: 0.5283 - val_accuracy: 0.8887 - val_precision: 0.8923 - val_recall: 0.8869 - val_auc: 0.9811\n",
            "Epoch 10/20\n",
            "687/687 - 16s - loss: 0.4998 - accuracy: 0.8986 - precision: 0.9014 - recall: 0.8970 - auc: 0.9828 - val_loss: 0.5319 - val_accuracy: 0.8998 - val_precision: 0.9016 - val_recall: 0.8993 - val_auc: 0.9812\n",
            "Epoch 11/20\n",
            "687/687 - 16s - loss: 0.1726 - accuracy: 0.9585 - precision: 0.9597 - recall: 0.9577 - auc: 0.9950 - val_loss: 0.1205 - val_accuracy: 0.9654 - val_precision: 0.9675 - val_recall: 0.9650 - val_auc: 0.9973\n",
            "Epoch 12/20\n",
            "687/687 - 16s - loss: 0.1412 - accuracy: 0.9640 - precision: 0.9649 - recall: 0.9634 - auc: 0.9959 - val_loss: 0.1232 - val_accuracy: 0.9669 - val_precision: 0.9682 - val_recall: 0.9658 - val_auc: 0.9965\n",
            "Epoch 13/20\n",
            "687/687 - 16s - loss: 0.1224 - accuracy: 0.9674 - precision: 0.9680 - recall: 0.9669 - auc: 0.9970 - val_loss: 0.0792 - val_accuracy: 0.9758 - val_precision: 0.9774 - val_recall: 0.9751 - val_auc: 0.9983\n",
            "Epoch 14/20\n",
            "687/687 - 16s - loss: 0.1149 - accuracy: 0.9697 - precision: 0.9707 - recall: 0.9693 - auc: 0.9968 - val_loss: 0.1253 - val_accuracy: 0.9694 - val_precision: 0.9701 - val_recall: 0.9689 - val_auc: 0.9970\n",
            "Epoch 15/20\n",
            "687/687 - 16s - loss: 0.1164 - accuracy: 0.9701 - precision: 0.9711 - recall: 0.9695 - auc: 0.9967 - val_loss: 0.1010 - val_accuracy: 0.9747 - val_precision: 0.9754 - val_recall: 0.9738 - val_auc: 0.9979\n",
            "Epoch 16/20\n",
            "687/687 - 16s - loss: 0.0644 - accuracy: 0.9829 - precision: 0.9833 - recall: 0.9824 - auc: 0.9985 - val_loss: 0.0511 - val_accuracy: 0.9836 - val_precision: 0.9852 - val_recall: 0.9832 - val_auc: 0.9987\n",
            "Epoch 17/20\n",
            "687/687 - 16s - loss: 0.0494 - accuracy: 0.9860 - precision: 0.9863 - recall: 0.9857 - auc: 0.9990 - val_loss: 0.0456 - val_accuracy: 0.9873 - val_precision: 0.9882 - val_recall: 0.9873 - val_auc: 0.9989\n",
            "Epoch 18/20\n",
            "687/687 - 16s - loss: 0.0508 - accuracy: 0.9850 - precision: 0.9856 - recall: 0.9847 - auc: 0.9990 - val_loss: 0.0562 - val_accuracy: 0.9863 - val_precision: 0.9865 - val_recall: 0.9862 - val_auc: 0.9986\n",
            "Epoch 19/20\n",
            "687/687 - 16s - loss: 0.0493 - accuracy: 0.9859 - precision: 0.9861 - recall: 0.9857 - auc: 0.9989 - val_loss: 0.0534 - val_accuracy: 0.9847 - val_precision: 0.9849 - val_recall: 0.9843 - val_auc: 0.9985\n",
            "Epoch 20/20\n",
            "687/687 - 16s - loss: 0.0360 - accuracy: 0.9894 - precision: 0.9900 - recall: 0.9893 - auc: 0.9993 - val_loss: 0.0374 - val_accuracy: 0.9885 - val_precision: 0.9887 - val_recall: 0.9882 - val_auc: 0.9993\n"
          ]
        }
      ]
    },
    {
      "cell_type": "code",
      "metadata": {
        "id": "ZB6gxg1OaUl-",
        "colab": {
          "base_uri": "https://localhost:8080/"
        },
        "outputId": "87254a87-9184-4e60-9d78-038abb0f5ac3"
      },
      "source": [
        "history_base_norm = model_base_norm.fit(generator.flow(X_train, y_train, batch_size=32), \\\n",
        "                    epochs=20, \\\n",
        "                    validation_data=generator.flow(X_val, y_val, batch_size=32), \\\n",
        "                    callbacks=[cb_base],\n",
        "                    verbose=2)"
      ],
      "id": "ZB6gxg1OaUl-",
      "execution_count": 143,
      "outputs": [
        {
          "output_type": "stream",
          "name": "stdout",
          "text": [
            "Epoch 1/20\n",
            "687/687 - 17s - loss: 3.6679 - accuracy: 0.4022 - precision: 0.4986 - recall: 0.3693 - auc: 0.8250 - val_loss: 2.0348 - val_accuracy: 0.6780 - val_precision: 0.6935 - val_recall: 0.6720 - val_auc: 0.9212\n",
            "Epoch 2/20\n",
            "687/687 - 16s - loss: 8.0882 - accuracy: 0.1656 - precision: 0.3084 - recall: 0.1417 - auc: 0.6134 - val_loss: 4.5749 - val_accuracy: 0.0435 - val_precision: 0.0000e+00 - val_recall: 0.0000e+00 - val_auc: 0.5153\n",
            "Epoch 3/20\n",
            "687/687 - 16s - loss: 5.6596 - accuracy: 0.0427 - precision: 0.0375 - recall: 0.0038 - auc: 0.5117 - val_loss: 5.5460 - val_accuracy: 0.0424 - val_precision: 0.0000e+00 - val_recall: 0.0000e+00 - val_auc: 0.5068\n",
            "Epoch 4/20\n",
            "687/687 - 16s - loss: 3.6118 - accuracy: 0.0394 - precision: 0.0000e+00 - recall: 0.0000e+00 - auc: 0.5187 - val_loss: 3.5862 - val_accuracy: 0.0419 - val_precision: 0.0000e+00 - val_recall: 0.0000e+00 - val_auc: 0.5258\n",
            "Epoch 5/20\n",
            "687/687 - 16s - loss: 3.6267 - accuracy: 0.0431 - precision: 0.0000e+00 - recall: 0.0000e+00 - auc: 0.5184 - val_loss: 3.6658 - val_accuracy: 0.0419 - val_precision: 0.0000e+00 - val_recall: 0.0000e+00 - val_auc: 0.5174\n",
            "Epoch 6/20\n",
            "687/687 - 16s - loss: 3.3222 - accuracy: 0.0417 - precision: 0.0000e+00 - recall: 0.0000e+00 - auc: 0.5224 - val_loss: 3.2569 - val_accuracy: 0.0423 - val_precision: 0.0000e+00 - val_recall: 0.0000e+00 - val_auc: 0.5277\n",
            "Epoch 7/20\n",
            "687/687 - 15s - loss: 3.3304 - accuracy: 0.0415 - precision: 0.0000e+00 - recall: 0.0000e+00 - auc: 0.5239 - val_loss: 3.3381 - val_accuracy: 0.0393 - val_precision: 0.0000e+00 - val_recall: 0.0000e+00 - val_auc: 0.5294\n",
            "Epoch 8/20\n",
            "687/687 - 15s - loss: 3.2299 - accuracy: 0.0421 - precision: 0.0000e+00 - recall: 0.0000e+00 - auc: 0.5235 - val_loss: 3.2421 - val_accuracy: 0.0446 - val_precision: 0.0000e+00 - val_recall: 0.0000e+00 - val_auc: 0.5227\n",
            "Epoch 9/20\n",
            "687/687 - 15s - loss: 3.2303 - accuracy: 0.0421 - precision: 0.0000e+00 - recall: 0.0000e+00 - auc: 0.5252 - val_loss: 3.2370 - val_accuracy: 0.0419 - val_precision: 0.0000e+00 - val_recall: 0.0000e+00 - val_auc: 0.5269\n",
            "Epoch 10/20\n",
            "687/687 - 16s - loss: 3.1949 - accuracy: 0.0423 - precision: 0.0000e+00 - recall: 0.0000e+00 - auc: 0.5276 - val_loss: 3.1953 - val_accuracy: 0.0423 - val_precision: 0.0000e+00 - val_recall: 0.0000e+00 - val_auc: 0.5247\n",
            "Epoch 11/20\n",
            "687/687 - 16s - loss: 3.1943 - accuracy: 0.0413 - precision: 0.0000e+00 - recall: 0.0000e+00 - auc: 0.5261 - val_loss: 3.1948 - val_accuracy: 0.0408 - val_precision: 0.0000e+00 - val_recall: 0.0000e+00 - val_auc: 0.5264\n",
            "Epoch 12/20\n",
            "687/687 - 15s - loss: 3.1824 - accuracy: 0.0427 - precision: 0.0000e+00 - recall: 0.0000e+00 - auc: 0.5288 - val_loss: 3.1794 - val_accuracy: 0.0466 - val_precision: 0.0000e+00 - val_recall: 0.0000e+00 - val_auc: 0.5337\n",
            "Epoch 13/20\n",
            "687/687 - 15s - loss: 3.1818 - accuracy: 0.0432 - precision: 0.0000e+00 - recall: 0.0000e+00 - auc: 0.5293 - val_loss: 3.1809 - val_accuracy: 0.0410 - val_precision: 0.0000e+00 - val_recall: 0.0000e+00 - val_auc: 0.5317\n",
            "Epoch 14/20\n",
            "687/687 - 15s - loss: 3.1809 - accuracy: 0.0449 - precision: 0.0000e+00 - recall: 0.0000e+00 - auc: 0.5303 - val_loss: 3.1785 - val_accuracy: 0.0435 - val_precision: 0.0000e+00 - val_recall: 0.0000e+00 - val_auc: 0.5319\n",
            "Epoch 15/20\n",
            "687/687 - 15s - loss: 3.1812 - accuracy: 0.0433 - precision: 0.0000e+00 - recall: 0.0000e+00 - auc: 0.5290 - val_loss: 3.1789 - val_accuracy: 0.0446 - val_precision: 0.0000e+00 - val_recall: 0.0000e+00 - val_auc: 0.5320\n",
            "Epoch 16/20\n",
            "687/687 - 15s - loss: 3.1804 - accuracy: 0.0452 - precision: 0.0000e+00 - recall: 0.0000e+00 - auc: 0.5322 - val_loss: 3.1823 - val_accuracy: 0.0417 - val_precision: 0.0000e+00 - val_recall: 0.0000e+00 - val_auc: 0.5253\n",
            "Epoch 17/20\n",
            "687/687 - 15s - loss: 3.1805 - accuracy: 0.0410 - precision: 0.0000e+00 - recall: 0.0000e+00 - auc: 0.5310 - val_loss: 3.1801 - val_accuracy: 0.0452 - val_precision: 0.0000e+00 - val_recall: 0.0000e+00 - val_auc: 0.5325\n",
            "Epoch 18/20\n",
            "687/687 - 16s - loss: 3.1806 - accuracy: 0.0447 - precision: 0.0000e+00 - recall: 0.0000e+00 - auc: 0.5311 - val_loss: 3.1784 - val_accuracy: 0.0452 - val_precision: 0.0000e+00 - val_recall: 0.0000e+00 - val_auc: 0.5340\n",
            "Epoch 19/20\n",
            "687/687 - 16s - loss: 3.1804 - accuracy: 0.0416 - precision: 0.0000e+00 - recall: 0.0000e+00 - auc: 0.5322 - val_loss: 3.1800 - val_accuracy: 0.0435 - val_precision: 0.0000e+00 - val_recall: 0.0000e+00 - val_auc: 0.5309\n",
            "Epoch 20/20\n",
            "687/687 - 15s - loss: 3.1809 - accuracy: 0.0441 - precision: 0.0000e+00 - recall: 0.0000e+00 - auc: 0.5291 - val_loss: 3.1783 - val_accuracy: 0.0466 - val_precision: 0.0000e+00 - val_recall: 0.0000e+00 - val_auc: 0.5362\n"
          ]
        }
      ]
    },
    {
      "cell_type": "code",
      "metadata": {
        "id": "SeMk8Mcgaycx",
        "colab": {
          "base_uri": "https://localhost:8080/",
          "height": 664
        },
        "outputId": "0170b98d-0fdc-42e1-a0ef-9923ff2aec3f"
      },
      "source": [
        "print(\"learning curve of he uniform model\")\n",
        "plot_learning_curve(history_base_uni)\n",
        "print(\"learning curve of he normal model\")\n",
        "plot_learning_curve(history_base_norm)"
      ],
      "id": "SeMk8Mcgaycx",
      "execution_count": 144,
      "outputs": [
        {
          "output_type": "stream",
          "name": "stdout",
          "text": [
            "learning curve of he uniform model\n"
          ]
        },
        {
          "output_type": "display_data",
          "data": {
            "image/png": "[encoded data removed]",
            "text/plain": [
              "<Figure size 864x360 with 2 Axes>"
            ]
          },
          "metadata": {
            "needs_background": "light"
          }
        },
        {
          "output_type": "stream",
          "name": "stdout",
          "text": [
            "learning curve of he normal model\n"
          ]
        },
        {
          "output_type": "display_data",
          "data": {
            "image/png": "[encoded data removed]",
            "text/plain": [
              "<Figure size 864x360 with 2 Axes>"
            ]
          },
          "metadata": {
            "needs_background": "light"
          }
        }
      ]
    },
    {
      "cell_type": "code",
      "metadata": {
        "id": "MXrD_NbSeK-J",
        "colab": {
          "base_uri": "https://localhost:8080/",
          "height": 578
        },
        "outputId": "e12889ba-9134-40b0-8edf-8e87a9231ec1"
      },
      "source": [
        "evaluate(model_base_uni)"
      ],
      "id": "MXrD_NbSeK-J",
      "execution_count": 150,
      "outputs": [
        {
          "output_type": "stream",
          "name": "stdout",
          "text": [
            "687/687 [==============================] - 13s 19ms/step - loss: 0.0399 - accuracy: 0.9890 - precision: 0.9892 - recall: 0.9888 - auc: 0.9992\n",
            "225/225 [==============================] - 4s 20ms/step - loss: 0.1521 - accuracy: 0.9644 - precision: 0.9647 - recall: 0.9639 - auc: 0.9956\n",
            "\n",
            "train loss: 0.03986889123916626\n",
            "train accuracy: 98.9 %\n",
            "train precision: 0.9891601204872131\n",
            "train recall: 0.9887998700141907\n",
            "train AUC: 0.9992303848266602\n",
            "test loss: 0.15212661027908325\n",
            "test accuracy: 96.44 %\n",
            "test precision: 0.9646943807601929\n",
            "test recall: 0.9638873338699341\n",
            "test AUC: 0.9955559968948364\n",
            "\n",
            "Enter image index: 22643\n",
            "label: 2\n",
            "actual label: 2\n"
          ]
        },
        {
          "output_type": "display_data",
          "data": {
            "image/png": "[encoded data removed]",
            "text/plain": [
              "<Figure size 432x288 with 1 Axes>"
            ]
          },
          "metadata": {
            "needs_background": "light"
          }
        }
      ]
    },
    {
      "cell_type": "code",
      "metadata": {
        "id": "_5KKD_4beNyv",
        "colab": {
          "base_uri": "https://localhost:8080/",
          "height": 286
        },
        "outputId": "e77190d1-2330-4008-dc02-9ead7f9c0338"
      },
      "source": [
        "plot_image(test_image, width)\n",
        "print('label:', np.argmax(model_base_uni.predict(np.array([test_image]))))"
      ],
      "id": "_5KKD_4beNyv",
      "execution_count": 172,
      "outputs": [
        {
          "output_type": "display_data",
          "data": {
            "image/png": "[encoded data removed]",
            "text/plain": [
              "<Figure size 432x288 with 1 Axes>"
            ]
          },
          "metadata": {
            "needs_background": "light"
          }
        },
        {
          "output_type": "stream",
          "name": "stdout",
          "text": [
            "label: 1\n"
          ]
        }
      ]
    },
    {
      "cell_type": "code",
      "metadata": {
        "id": "CeSRenReTLZ8"
      },
      "source": [
        "# export model\n",
        "model_base_uni.save('model_base.h5')"
      ],
      "id": "CeSRenReTLZ8",
      "execution_count": 160,
      "outputs": []
    },
    {
      "cell_type": "code",
      "metadata": {
        "execution": {
          "iopub.execute_input": "2021-10-09T10:34:26.998688Z",
          "iopub.status.busy": "2021-10-09T10:34:26.993755Z",
          "iopub.status.idle": "2021-10-09T10:34:27.001390Z",
          "shell.execute_reply": "2021-10-09T10:34:27.000979Z",
          "shell.execute_reply.started": "2021-10-09T10:09:08.975868Z"
        },
        "papermill": {
          "duration": 0.18348,
          "end_time": "2021-10-09T10:34:27.001511",
          "exception": false,
          "start_time": "2021-10-09T10:34:26.818031",
          "status": "completed"
        },
        "tags": [],
        "id": "graduate-picnic"
      },
      "source": [
        "# inserted batch normalization layer before convolutional layers' activation\n",
        "def build_model(func, init):\n",
        "    keras.backend.clear_session()\n",
        "    model = keras.models.Sequential()\n",
        "    model.add(keras.layers.Conv2D(64, (5, 5), padding=\"same\", kernel_initializer=init(), input_shape=X_train.shape[1:]))\n",
        "    model.add(keras.layers.BatchNormalization())\n",
        "    model.add(keras.layers.Activation(func))\n",
        "    model.add(keras.layers.MaxPooling2D((2, 2)))\n",
        "    model.add(keras.layers.Conv2D(128, (5, 5), padding=\"same\", kernel_initializer=init()))\n",
        "    model.add(keras.layers.BatchNormalization())\n",
        "    model.add(keras.layers.Activation(func))\n",
        "    model.add(keras.layers.MaxPooling2D((2, 2)))\n",
        "    model.add(keras.layers.Conv2D(256, (5, 5), padding=\"same\", kernel_initializer=init()))\n",
        "    model.add(keras.layers.BatchNormalization())\n",
        "    model.add(keras.layers.Activation(func))\n",
        "    model.add(keras.layers.MaxPooling2D((2, 2)))\n",
        "    model.add(keras.layers.Flatten())\n",
        "    model.add(keras.layers.Dense(y.shape[1], activation='softmax', kernel_initializer=init()))\n",
        "    return model"
      ],
      "id": "graduate-picnic",
      "execution_count": 158,
      "outputs": []
    },
    {
      "cell_type": "code",
      "metadata": {
        "execution": {
          "iopub.execute_input": "2021-10-09T10:34:27.051208Z",
          "iopub.status.busy": "2021-10-09T10:34:27.050663Z",
          "iopub.status.idle": "2021-10-09T10:34:29.245330Z",
          "shell.execute_reply": "2021-10-09T10:34:29.244793Z",
          "shell.execute_reply.started": "2021-10-09T10:09:10.962420Z"
        },
        "papermill": {
          "duration": 2.221624,
          "end_time": "2021-10-09T10:34:29.245487",
          "exception": false,
          "start_time": "2021-10-09T10:34:27.023863",
          "status": "completed"
        },
        "tags": [],
        "id": "found-outreach"
      },
      "source": [
        "model_elu = build_model(keras.activations.elu, keras.initializers.he_uniform)\n",
        "# compile model\n",
        "model_elu.compile(\n",
        "    optimizer=keras.optimizers.Adam(learning_rate=0.005),\n",
        "    loss=keras.losses.CategoricalCrossentropy(),\n",
        "    metrics=['accuracy', keras.metrics.Precision(), keras.metrics.Recall(), keras.metrics.AUC(name='auc')]\n",
        ")"
      ],
      "id": "found-outreach",
      "execution_count": 159,
      "outputs": []
    },
    {
      "cell_type": "code",
      "metadata": {
        "execution": {
          "iopub.execute_input": "2021-10-09T10:34:29.296258Z",
          "iopub.status.busy": "2021-10-09T10:34:29.295517Z",
          "iopub.status.idle": "2021-10-09T10:34:29.299611Z",
          "shell.execute_reply": "2021-10-09T10:34:29.299026Z",
          "shell.execute_reply.started": "2021-10-09T10:10:52.252420Z"
        },
        "papermill": {
          "duration": 0.031317,
          "end_time": "2021-10-09T10:34:29.299743",
          "exception": false,
          "start_time": "2021-10-09T10:34:29.268426",
          "status": "completed"
        },
        "tags": [],
        "id": "integral-nursery"
      },
      "source": [
        "# deine callbacks, use AUC to minimize missclassification\n",
        "cb_elu = [keras.callbacks.ModelCheckpoint('model_elu.h5', monitor='val_auc', mode='max',save_best_only=True), \n",
        "          keras.callbacks.ReduceLROnPlateau(monitor='val_auc', mode='max', factor=0.3, patience=2, min_lr=0.00001)]"
      ],
      "id": "integral-nursery",
      "execution_count": 161,
      "outputs": []
    },
    {
      "cell_type": "code",
      "metadata": {
        "execution": {
          "iopub.execute_input": "2021-10-09T10:38:50.584817Z",
          "iopub.status.busy": "2021-10-09T10:38:50.583950Z",
          "iopub.status.idle": "2021-10-09T10:43:07.488192Z",
          "shell.execute_reply": "2021-10-09T10:43:07.486483Z",
          "shell.execute_reply.started": "2021-10-09T10:15:43.946774Z"
        },
        "papermill": {
          "duration": 256.943329,
          "end_time": "2021-10-09T10:43:07.488342",
          "exception": false,
          "start_time": "2021-10-09T10:38:50.545013",
          "status": "completed"
        },
        "tags": [],
        "colab": {
          "base_uri": "https://localhost:8080/"
        },
        "id": "iraqi-textbook",
        "outputId": "cb004db6-399d-42f0-b2ad-9ac91f33d4ba"
      },
      "source": [
        "history_elu = model_elu.fit(generator.flow(X_train, y_train, batch_size=32), \\\n",
        "                    epochs=15, \\\n",
        "                    validation_data=generator.flow(X_val, y_val, batch_size=32), \\\n",
        "                    callbacks=cb_elu,\n",
        "                    verbose=2)"
      ],
      "id": "iraqi-textbook",
      "execution_count": 170,
      "outputs": [
        {
          "output_type": "stream",
          "name": "stdout",
          "text": [
            "Epoch 1/15\n",
            "687/687 - 19s - loss: 1.3186 - accuracy: 0.6686 - precision: 0.8009 - recall: 0.6131 - auc: 0.9492 - val_loss: 0.3201 - val_accuracy: 0.9009 - val_precision: 0.9172 - val_recall: 0.8920 - val_auc: 0.9936\n",
            "Epoch 2/15\n",
            "687/687 - 17s - loss: 0.1659 - accuracy: 0.9486 - precision: 0.9569 - recall: 0.9409 - auc: 0.9978 - val_loss: 0.2664 - val_accuracy: 0.9173 - val_precision: 0.9255 - val_recall: 0.9119 - val_auc: 0.9951\n",
            "Epoch 3/15\n",
            "687/687 - 17s - loss: 0.1050 - accuracy: 0.9668 - precision: 0.9703 - recall: 0.9636 - auc: 0.9984 - val_loss: 0.1254 - val_accuracy: 0.9652 - val_precision: 0.9678 - val_recall: 0.9639 - val_auc: 0.9973\n",
            "Epoch 4/15\n",
            "687/687 - 17s - loss: 0.0963 - accuracy: 0.9717 - precision: 0.9738 - recall: 0.9698 - auc: 0.9981 - val_loss: 0.1438 - val_accuracy: 0.9601 - val_precision: 0.9623 - val_recall: 0.9588 - val_auc: 0.9962\n",
            "Epoch 5/15\n",
            "687/687 - 17s - loss: 0.0819 - accuracy: 0.9755 - precision: 0.9768 - recall: 0.9744 - auc: 0.9982 - val_loss: 0.0798 - val_accuracy: 0.9787 - val_precision: 0.9799 - val_recall: 0.9780 - val_auc: 0.9979\n",
            "Epoch 6/15\n",
            "687/687 - 17s - loss: 0.1035 - accuracy: 0.9733 - precision: 0.9745 - recall: 0.9727 - auc: 0.9974 - val_loss: 0.0508 - val_accuracy: 0.9869 - val_precision: 0.9872 - val_recall: 0.9862 - val_auc: 0.9985\n",
            "Epoch 7/15\n",
            "687/687 - 16s - loss: 0.0500 - accuracy: 0.9864 - precision: 0.9870 - recall: 0.9862 - auc: 0.9988 - val_loss: 0.0742 - val_accuracy: 0.9809 - val_precision: 0.9810 - val_recall: 0.9805 - val_auc: 0.9981\n",
            "Epoch 8/15\n",
            "687/687 - 17s - loss: 0.0845 - accuracy: 0.9811 - precision: 0.9815 - recall: 0.9805 - auc: 0.9975 - val_loss: 0.1489 - val_accuracy: 0.9678 - val_precision: 0.9690 - val_recall: 0.9670 - val_auc: 0.9941\n",
            "Epoch 9/15\n",
            "687/687 - 16s - loss: 0.0132 - accuracy: 0.9966 - precision: 0.9967 - recall: 0.9963 - auc: 0.9996 - val_loss: 0.0052 - val_accuracy: 0.9980 - val_precision: 0.9982 - val_recall: 0.9980 - val_auc: 0.9999\n",
            "Epoch 10/15\n",
            "687/687 - 16s - loss: 0.0051 - accuracy: 0.9984 - precision: 0.9985 - recall: 0.9983 - auc: 0.9999 - val_loss: 0.0039 - val_accuracy: 0.9984 - val_precision: 0.9984 - val_recall: 0.9984 - val_auc: 1.0000\n",
            "Epoch 11/15\n",
            "687/687 - 17s - loss: 0.0037 - accuracy: 0.9988 - precision: 0.9989 - recall: 0.9988 - auc: 1.0000 - val_loss: 0.0028 - val_accuracy: 0.9991 - val_precision: 0.9991 - val_recall: 0.9991 - val_auc: 1.0000\n",
            "Epoch 12/15\n",
            "687/687 - 17s - loss: 0.0026 - accuracy: 0.9990 - precision: 0.9991 - recall: 0.9990 - auc: 1.0000 - val_loss: 0.0016 - val_accuracy: 0.9991 - val_precision: 0.9991 - val_recall: 0.9991 - val_auc: 1.0000\n",
            "Epoch 13/15\n",
            "687/687 - 16s - loss: 0.0016 - accuracy: 0.9994 - precision: 0.9994 - recall: 0.9994 - auc: 1.0000 - val_loss: 0.0013 - val_accuracy: 0.9996 - val_precision: 0.9996 - val_recall: 0.9996 - val_auc: 1.0000\n",
            "Epoch 14/15\n",
            "687/687 - 16s - loss: 8.1665e-04 - accuracy: 0.9998 - precision: 0.9998 - recall: 0.9998 - auc: 1.0000 - val_loss: 3.4461e-04 - val_accuracy: 1.0000 - val_precision: 1.0000 - val_recall: 1.0000 - val_auc: 1.0000\n",
            "Epoch 15/15\n",
            "687/687 - 16s - loss: 9.1682e-04 - accuracy: 0.9998 - precision: 0.9999 - recall: 0.9997 - auc: 1.0000 - val_loss: 3.0871e-04 - val_accuracy: 1.0000 - val_precision: 1.0000 - val_recall: 1.0000 - val_auc: 1.0000\n"
          ]
        }
      ]
    },
    {
      "cell_type": "code",
      "metadata": {
        "execution": {
          "iopub.execute_input": "2021-10-09T10:43:08.052514Z",
          "iopub.status.busy": "2021-10-09T10:43:08.051681Z",
          "iopub.status.idle": "2021-10-09T10:43:08.308705Z",
          "shell.execute_reply": "2021-10-09T10:43:08.309125Z",
          "shell.execute_reply.started": "2021-10-09T10:20:00.285448Z"
        },
        "papermill": {
          "duration": 0.313666,
          "end_time": "2021-10-09T10:43:08.309263",
          "exception": false,
          "start_time": "2021-10-09T10:43:07.995597",
          "status": "completed"
        },
        "tags": [],
        "colab": {
          "base_uri": "https://localhost:8080/",
          "height": 340
        },
        "id": "mexican-kuwait",
        "outputId": "377d60e8-ece0-4630-f25d-51474c355d07"
      },
      "source": [
        "print(f\"learning curve of he uniform model with batch normalization\")\n",
        "plot_learning_curve(history_elu)"
      ],
      "id": "mexican-kuwait",
      "execution_count": 171,
      "outputs": [
        {
          "output_type": "stream",
          "name": "stdout",
          "text": [
            "learning curve of he uniform model with batch normalization\n"
          ]
        },
        {
          "output_type": "display_data",
          "data": {
            "image/png": "[encoded data removed]",
            "text/plain": [
              "<Figure size 864x360 with 2 Axes>"
            ]
          },
          "metadata": {
            "needs_background": "light"
          }
        }
      ]
    },
    {
      "cell_type": "code",
      "metadata": {
        "execution": {
          "iopub.execute_input": "2021-10-09T10:43:13.383484Z",
          "iopub.status.busy": "2021-10-09T10:43:13.382580Z",
          "iopub.status.idle": "2021-10-09T10:43:16.343392Z",
          "shell.execute_reply": "2021-10-09T10:43:16.342586Z",
          "shell.execute_reply.started": "2021-10-09T10:23:36.665648Z"
        },
        "papermill": {
          "duration": 3.028081,
          "end_time": "2021-10-09T10:43:16.343530",
          "exception": false,
          "start_time": "2021-10-09T10:43:13.315449",
          "status": "completed"
        },
        "tags": [],
        "colab": {
          "base_uri": "https://localhost:8080/",
          "height": 578
        },
        "id": "herbal-enclosure",
        "outputId": "44cbc98a-f6a1-4b4c-dfdc-3cb48f8f28d0"
      },
      "source": [
        "evaluate(model_elu)"
      ],
      "id": "herbal-enclosure",
      "execution_count": 174,
      "outputs": [
        {
          "output_type": "stream",
          "name": "stdout",
          "text": [
            "687/687 [==============================] - 14s 20ms/step - loss: 5.9231e-04 - accuracy: 0.9998 - precision: 0.9998 - recall: 0.9998 - auc: 1.0000\n",
            "225/225 [==============================] - 5s 20ms/step - loss: 0.0171 - accuracy: 0.9950 - precision: 0.9951 - recall: 0.9948 - auc: 0.9994\n",
            "\n",
            "train loss: 0.0005923126009292901\n",
            "train accuracy: 99.98 %\n",
            "train precision: 0.9998179078102112\n",
            "train recall: 0.9998179078102112\n",
            "train AUC: 1.0\n",
            "test loss: 0.017055220901966095\n",
            "test accuracy: 99.5 %\n",
            "test precision: 0.9951185584068298\n",
            "test recall: 0.9948410391807556\n",
            "test AUC: 0.9994190335273743\n",
            "\n",
            "Enter image index: 12419621\n",
            "label: 2\n",
            "actual label: 2\n"
          ]
        },
        {
          "output_type": "display_data",
          "data": {
            "image/png": "[encoded data removed]",
            "text/plain": [
              "<Figure size 432x288 with 1 Axes>"
            ]
          },
          "metadata": {
            "needs_background": "light"
          }
        }
      ]
    },
    {
      "cell_type": "code",
      "metadata": {
        "colab": {
          "base_uri": "https://localhost:8080/",
          "height": 286
        },
        "id": "vp-UlNxbWM-9",
        "outputId": "3c236272-fe1f-4646-f440-562864ee7cb6"
      },
      "source": [
        "plot_image(test_image, width)\n",
        "print('label: ', np.argmax(model_elu.predict(np.array([test_image]))))"
      ],
      "id": "vp-UlNxbWM-9",
      "execution_count": 175,
      "outputs": [
        {
          "output_type": "display_data",
          "data": {
            "image/png": "[encoded data removed]",
            "text/plain": [
              "<Figure size 432x288 with 1 Axes>"
            ]
          },
          "metadata": {
            "needs_background": "light"
          }
        },
        {
          "output_type": "stream",
          "name": "stdout",
          "text": [
            "label:  16\n"
          ]
        }
      ]
    },
    {
      "cell_type": "code",
      "metadata": {
        "id": "RnnC1eHhELN1"
      },
      "source": [
        "def build_dropout_model(func, init, drop_rate=0.4):\n",
        "    keras.backend.clear_session()\n",
        "    model = build_model(func, init)\n",
        "    model.pop()\n",
        "    # model.add(keras.layers.Dense(128, kernel_initializer=init()))\n",
        "    model.add(keras.layers.Dropout(drop_rate))\n",
        "    model.add(keras.layers.Dense(y.shape[1], activation='softmax', kernel_initializer=init()))\n",
        "    return model"
      ],
      "id": "RnnC1eHhELN1",
      "execution_count": 191,
      "outputs": []
    },
    {
      "cell_type": "code",
      "metadata": {
        "id": "VIu-InIiv5rR"
      },
      "source": [
        "# added extra drop out layer to prevent overfitting\n",
        "drop_elu = build_dropout_model(keras.activations.elu, keras.initializers.he_uniform)\n",
        "# compile model\n",
        "drop_elu.compile(\n",
        "    optimizer=keras.optimizers.Adam(learning_rate=0.005),\n",
        "    loss=keras.losses.CategoricalCrossentropy(),\n",
        "    metrics=['accuracy', keras.metrics.Precision(), keras.metrics.Recall(), keras.metrics.AUC(name='auc')]\n",
        ")"
      ],
      "id": "VIu-InIiv5rR",
      "execution_count": 192,
      "outputs": []
    },
    {
      "cell_type": "code",
      "metadata": {
        "id": "zbI9gCiSWvR2"
      },
      "source": [
        "# deine model callback\n",
        "cb_elu_dropout = [keras.callbacks.ModelCheckpoint('model_dropout_elu.h5', monitor='val_auc', mode='max',save_best_only=True), \n",
        "          keras.callbacks.ReduceLROnPlateau(monitor='val_auc', mode='max', factor=0.3, patience=2, min_lr=0.00001)]"
      ],
      "id": "zbI9gCiSWvR2",
      "execution_count": 193,
      "outputs": []
    },
    {
      "cell_type": "code",
      "metadata": {
        "id": "RnJyCN2CW-1q",
        "colab": {
          "base_uri": "https://localhost:8080/"
        },
        "outputId": "c98ec5f1-4b76-498f-bd7f-aa6dad54d967"
      },
      "source": [
        "history_dropout_elu = drop_elu.fit(generator.flow(X_train, y_train, batch_size=32), \\\n",
        "                    epochs=20, \\\n",
        "                    validation_data=generator.flow(X_val,y_val,batch_size=32), \\\n",
        "                    callbacks=cb_elu_dropout,\n",
        "                    verbose=2)"
      ],
      "id": "RnJyCN2CW-1q",
      "execution_count": 194,
      "outputs": [
        {
          "output_type": "stream",
          "name": "stdout",
          "text": [
            "Epoch 1/20\n",
            "687/687 - 19s - loss: 1.4450 - accuracy: 0.6371 - precision: 0.7499 - recall: 0.5828 - auc: 0.9401 - val_loss: 0.3665 - val_accuracy: 0.8869 - val_precision: 0.9073 - val_recall: 0.8649 - val_auc: 0.9931\n",
            "Epoch 2/20\n",
            "687/687 - 17s - loss: 0.2656 - accuracy: 0.9145 - precision: 0.9293 - recall: 0.9031 - auc: 0.9955 - val_loss: 0.0872 - val_accuracy: 0.9720 - val_precision: 0.9769 - val_recall: 0.9692 - val_auc: 0.9995\n",
            "Epoch 3/20\n",
            "687/687 - 16s - loss: 0.1615 - accuracy: 0.9487 - precision: 0.9546 - recall: 0.9445 - auc: 0.9973 - val_loss: 0.1294 - val_accuracy: 0.9588 - val_precision: 0.9640 - val_recall: 0.9570 - val_auc: 0.9976\n",
            "Epoch 4/20\n",
            "687/687 - 16s - loss: 0.1500 - accuracy: 0.9568 - precision: 0.9609 - recall: 0.9541 - auc: 0.9969 - val_loss: 0.1395 - val_accuracy: 0.9588 - val_precision: 0.9620 - val_recall: 0.9577 - val_auc: 0.9979\n",
            "Epoch 5/20\n",
            "687/687 - 17s - loss: 0.0384 - accuracy: 0.9883 - precision: 0.9895 - recall: 0.9875 - auc: 0.9994 - val_loss: 0.0138 - val_accuracy: 0.9958 - val_precision: 0.9964 - val_recall: 0.9956 - val_auc: 0.9999\n",
            "Epoch 6/20\n",
            "687/687 - 16s - loss: 0.0177 - accuracy: 0.9939 - precision: 0.9944 - recall: 0.9934 - auc: 0.9998 - val_loss: 0.0162 - val_accuracy: 0.9947 - val_precision: 0.9947 - val_recall: 0.9944 - val_auc: 0.9997\n",
            "Epoch 7/20\n",
            "687/687 - 17s - loss: 0.0202 - accuracy: 0.9943 - precision: 0.9948 - recall: 0.9938 - auc: 0.9997 - val_loss: 0.0097 - val_accuracy: 0.9969 - val_precision: 0.9973 - val_recall: 0.9967 - val_auc: 1.0000\n",
            "Epoch 8/20\n",
            "687/687 - 17s - loss: 0.0109 - accuracy: 0.9968 - precision: 0.9970 - recall: 0.9965 - auc: 0.9999 - val_loss: 0.0023 - val_accuracy: 0.9993 - val_precision: 0.9995 - val_recall: 0.9991 - val_auc: 1.0000\n",
            "Epoch 9/20\n",
            "687/687 - 16s - loss: 0.0064 - accuracy: 0.9983 - precision: 0.9984 - recall: 0.9981 - auc: 1.0000 - val_loss: 0.0017 - val_accuracy: 0.9995 - val_precision: 0.9995 - val_recall: 0.9993 - val_auc: 1.0000\n",
            "Epoch 10/20\n",
            "687/687 - 17s - loss: 0.0063 - accuracy: 0.9983 - precision: 0.9984 - recall: 0.9981 - auc: 1.0000 - val_loss: 6.1962e-04 - val_accuracy: 1.0000 - val_precision: 1.0000 - val_recall: 1.0000 - val_auc: 1.0000\n",
            "Epoch 11/20\n",
            "687/687 - 17s - loss: 0.0050 - accuracy: 0.9984 - precision: 0.9985 - recall: 0.9981 - auc: 1.0000 - val_loss: 0.0012 - val_accuracy: 0.9995 - val_precision: 0.9996 - val_recall: 0.9995 - val_auc: 1.0000\n",
            "Epoch 12/20\n",
            "687/687 - 17s - loss: 0.0047 - accuracy: 0.9988 - precision: 0.9989 - recall: 0.9987 - auc: 1.0000 - val_loss: 3.3075e-04 - val_accuracy: 1.0000 - val_precision: 1.0000 - val_recall: 1.0000 - val_auc: 1.0000\n",
            "Epoch 13/20\n",
            "687/687 - 17s - loss: 0.0048 - accuracy: 0.9986 - precision: 0.9987 - recall: 0.9985 - auc: 1.0000 - val_loss: 0.0015 - val_accuracy: 0.9995 - val_precision: 0.9995 - val_recall: 0.9993 - val_auc: 1.0000\n",
            "Epoch 14/20\n",
            "687/687 - 16s - loss: 0.0034 - accuracy: 0.9993 - precision: 0.9993 - recall: 0.9992 - auc: 1.0000 - val_loss: 8.3835e-04 - val_accuracy: 1.0000 - val_precision: 1.0000 - val_recall: 1.0000 - val_auc: 1.0000\n",
            "Epoch 15/20\n",
            "687/687 - 16s - loss: 0.0044 - accuracy: 0.9986 - precision: 0.9988 - recall: 0.9985 - auc: 1.0000 - val_loss: 8.0078e-04 - val_accuracy: 0.9998 - val_precision: 0.9998 - val_recall: 0.9996 - val_auc: 1.0000\n",
            "Epoch 16/20\n",
            "687/687 - 17s - loss: 0.0050 - accuracy: 0.9983 - precision: 0.9983 - recall: 0.9982 - auc: 1.0000 - val_loss: 4.9128e-04 - val_accuracy: 1.0000 - val_precision: 1.0000 - val_recall: 1.0000 - val_auc: 1.0000\n",
            "Epoch 17/20\n",
            "687/687 - 17s - loss: 0.0044 - accuracy: 0.9986 - precision: 0.9988 - recall: 0.9985 - auc: 1.0000 - val_loss: 5.4409e-04 - val_accuracy: 1.0000 - val_precision: 1.0000 - val_recall: 1.0000 - val_auc: 1.0000\n",
            "Epoch 18/20\n",
            "687/687 - 16s - loss: 0.0042 - accuracy: 0.9987 - precision: 0.9988 - recall: 0.9986 - auc: 1.0000 - val_loss: 4.8163e-04 - val_accuracy: 0.9998 - val_precision: 1.0000 - val_recall: 0.9998 - val_auc: 1.0000\n",
            "Epoch 19/20\n",
            "687/687 - 17s - loss: 0.0031 - accuracy: 0.9992 - precision: 0.9992 - recall: 0.9990 - auc: 1.0000 - val_loss: 5.5749e-04 - val_accuracy: 1.0000 - val_precision: 1.0000 - val_recall: 1.0000 - val_auc: 1.0000\n",
            "Epoch 20/20\n",
            "687/687 - 17s - loss: 0.0038 - accuracy: 0.9987 - precision: 0.9987 - recall: 0.9987 - auc: 1.0000 - val_loss: 6.8689e-04 - val_accuracy: 0.9998 - val_precision: 0.9998 - val_recall: 0.9998 - val_auc: 1.0000\n"
          ]
        }
      ]
    },
    {
      "cell_type": "code",
      "metadata": {
        "id": "3u-DkUOgXUqe",
        "colab": {
          "base_uri": "https://localhost:8080/",
          "height": 340
        },
        "outputId": "58a350ef-d380-4ad6-ae85-6da70c84fb55"
      },
      "source": [
        "print(f\"learning curve of he uniform model with dropout and batch norm\")\n",
        "plot_learning_curve(history_dropout_elu)"
      ],
      "id": "3u-DkUOgXUqe",
      "execution_count": 206,
      "outputs": [
        {
          "output_type": "stream",
          "name": "stdout",
          "text": [
            "learning curve of he uniform model with dropout and batch norm\n"
          ]
        },
        {
          "output_type": "display_data",
          "data": {
            "image/png": "[encoded data removed]",
            "text/plain": [
              "<Figure size 864x360 with 2 Axes>"
            ]
          },
          "metadata": {
            "needs_background": "light"
          }
        }
      ]
    },
    {
      "cell_type": "code",
      "metadata": {
        "id": "4QU3Ly8dZLj-",
        "colab": {
          "base_uri": "https://localhost:8080/",
          "height": 578
        },
        "outputId": "477f2618-32cf-4703-9069-159d93a714c7"
      },
      "source": [
        "evaluate(drop_elu)"
      ],
      "id": "4QU3Ly8dZLj-",
      "execution_count": 196,
      "outputs": [
        {
          "output_type": "stream",
          "name": "stdout",
          "text": [
            "687/687 [==============================] - 13s 19ms/step - loss: 4.1522e-04 - accuracy: 1.0000 - precision: 1.0000 - recall: 1.0000 - auc: 1.0000\n",
            "225/225 [==============================] - 4s 20ms/step - loss: 0.0121 - accuracy: 0.9954 - precision: 0.9957 - recall: 0.9948 - auc: 1.0000\n",
            "\n",
            "train loss: 0.0004152224282734096\n",
            "train accuracy: 100.0 %\n",
            "train precision: 0.9999544620513916\n",
            "train recall: 0.9999544620513916\n",
            "train AUC: 1.0\n",
            "test loss: 0.012104406952857971\n",
            "test accuracy: 99.54 %\n",
            "test precision: 0.9956740140914917\n",
            "test recall: 0.9948410391807556\n",
            "test AUC: 0.9999967217445374\n",
            "\n",
            "Enter image index: 687140\n",
            "label: 21\n",
            "actual label: 21\n"
          ]
        },
        {
          "output_type": "display_data",
          "data": {
            "image/png": "[encoded data removed]",
            "text/plain": [
              "<Figure size 432x288 with 1 Axes>"
            ]
          },
          "metadata": {
            "needs_background": "light"
          }
        }
      ]
    },
    {
      "cell_type": "code",
      "metadata": {
        "colab": {
          "base_uri": "https://localhost:8080/",
          "height": 286
        },
        "id": "_m6vJhgGZT4G",
        "outputId": "ec6c7daa-b565-462d-da15-8b2d919c7c3c"
      },
      "source": [
        "plot_image(test_image, width)\n",
        "print('label: ', np.argmax(drop_elu.predict(np.array([test_image]))))"
      ],
      "id": "_m6vJhgGZT4G",
      "execution_count": 197,
      "outputs": [
        {
          "output_type": "display_data",
          "data": {
            "image/png": "[encoded data removed]",
            "text/plain": [
              "<Figure size 432x288 with 1 Axes>"
            ]
          },
          "metadata": {
            "needs_background": "light"
          }
        },
        {
          "output_type": "stream",
          "name": "stdout",
          "text": [
            "label:  16\n"
          ]
        }
      ]
    },
    {
      "cell_type": "code",
      "metadata": {
        "id": "lbsc863BB4Df"
      },
      "source": [
        "from sklearn.utils import class_weight\n",
        "w = class_weight.compute_class_weight('balanced', np.unique(y_train.argmax(axis=1)), y_train.argmax(axis=1))"
      ],
      "id": "lbsc863BB4Df",
      "execution_count": 199,
      "outputs": []
    },
    {
      "cell_type": "code",
      "metadata": {
        "id": "_Pg_ApgBCdcA"
      },
      "source": [
        "# to train with class weights\n",
        "elu_3 = build_model(keras.activations.elu, keras.initializers.he_uniform)\n",
        "# compile model\n",
        "elu_3.compile(\n",
        "    optimizer=keras.optimizers.Adam(learning_rate=0.005),\n",
        "    loss=keras.losses.CategoricalCrossentropy(),\n",
        "    metrics=['accuracy', keras.metrics.Precision(), keras.metrics.Recall(), keras.metrics.AUC(name='auc')]\n",
        ")"
      ],
      "id": "_Pg_ApgBCdcA",
      "execution_count": 200,
      "outputs": []
    },
    {
      "cell_type": "code",
      "metadata": {
        "id": "GsqfXJ0eC9jn"
      },
      "source": [
        "cb_elu_3 = [keras.callbacks.ModelCheckpoint('model_elu3_base.h5', monitor='val_auc', mode='max',save_best_only=True), \n",
        "          keras.callbacks.ReduceLROnPlateau(monitor='val_auc', mode='max', factor=0.3, patience=2, min_lr=0.00001)]"
      ],
      "id": "GsqfXJ0eC9jn",
      "execution_count": 201,
      "outputs": []
    },
    {
      "cell_type": "code",
      "metadata": {
        "id": "63ywXIOiDMep",
        "colab": {
          "base_uri": "https://localhost:8080/"
        },
        "outputId": "487064df-7e78-433c-a993-c9412cb26bb1"
      },
      "source": [
        "history_elu3 = elu_3.fit(generator.flow(X_train, y_train, batch_size=32), \\\n",
        "                    epochs=20, \\\n",
        "                    validation_data=generator.flow(X_val, y_val, batch_size=32), \\\n",
        "                    callbacks=cb_elu_3,\n",
        "                    verbose=2,\n",
        "                    class_weight=dict(enumerate([*w[0:9],0,*w[9:]])))"
      ],
      "id": "63ywXIOiDMep",
      "execution_count": 202,
      "outputs": [
        {
          "output_type": "stream",
          "name": "stdout",
          "text": [
            "Epoch 1/20\n",
            "687/687 - 18s - loss: 1.3590 - accuracy: 0.6592 - precision: 0.7969 - recall: 0.5993 - auc: 0.9469 - val_loss: 0.2820 - val_accuracy: 0.9131 - val_precision: 0.9290 - val_recall: 0.9026 - val_auc: 0.9947\n",
            "Epoch 2/20\n",
            "687/687 - 16s - loss: 0.1737 - accuracy: 0.9445 - precision: 0.9534 - recall: 0.9372 - auc: 0.9978 - val_loss: 0.1295 - val_accuracy: 0.9587 - val_precision: 0.9643 - val_recall: 0.9537 - val_auc: 0.9979\n",
            "Epoch 3/20\n",
            "687/687 - 16s - loss: 0.1061 - accuracy: 0.9676 - precision: 0.9712 - recall: 0.9643 - auc: 0.9982 - val_loss: 0.0916 - val_accuracy: 0.9725 - val_precision: 0.9746 - val_recall: 0.9701 - val_auc: 0.9985\n",
            "Epoch 4/20\n",
            "687/687 - 16s - loss: 0.0863 - accuracy: 0.9733 - precision: 0.9755 - recall: 0.9716 - auc: 0.9984 - val_loss: 0.1256 - val_accuracy: 0.9687 - val_precision: 0.9706 - val_recall: 0.9669 - val_auc: 0.9974\n",
            "Epoch 5/20\n",
            "687/687 - 16s - loss: 0.0798 - accuracy: 0.9761 - precision: 0.9779 - recall: 0.9749 - auc: 0.9984 - val_loss: 0.1219 - val_accuracy: 0.9672 - val_precision: 0.9681 - val_recall: 0.9658 - val_auc: 0.9968\n",
            "Epoch 6/20\n",
            "687/687 - 16s - loss: 0.0161 - accuracy: 0.9944 - precision: 0.9946 - recall: 0.9944 - auc: 0.9998 - val_loss: 0.0115 - val_accuracy: 0.9967 - val_precision: 0.9967 - val_recall: 0.9965 - val_auc: 0.9999\n",
            "Epoch 7/20\n",
            "687/687 - 16s - loss: 0.0057 - accuracy: 0.9985 - precision: 0.9985 - recall: 0.9983 - auc: 1.0000 - val_loss: 0.0020 - val_accuracy: 0.9995 - val_precision: 0.9996 - val_recall: 0.9993 - val_auc: 1.0000\n",
            "Epoch 8/20\n",
            "687/687 - 16s - loss: 0.0064 - accuracy: 0.9982 - precision: 0.9983 - recall: 0.9982 - auc: 0.9999 - val_loss: 0.0070 - val_accuracy: 0.9982 - val_precision: 0.9984 - val_recall: 0.9975 - val_auc: 0.9999\n",
            "Epoch 9/20\n",
            "687/687 - 16s - loss: 0.0025 - accuracy: 0.9991 - precision: 0.9991 - recall: 0.9990 - auc: 1.0000 - val_loss: 0.0012 - val_accuracy: 0.9996 - val_precision: 0.9996 - val_recall: 0.9996 - val_auc: 1.0000\n",
            "Epoch 10/20\n",
            "687/687 - 16s - loss: 0.0015 - accuracy: 0.9996 - precision: 0.9997 - recall: 0.9996 - auc: 1.0000 - val_loss: 6.3822e-04 - val_accuracy: 1.0000 - val_precision: 1.0000 - val_recall: 1.0000 - val_auc: 1.0000\n",
            "Epoch 11/20\n",
            "687/687 - 16s - loss: 0.0011 - accuracy: 0.9997 - precision: 0.9997 - recall: 0.9997 - auc: 1.0000 - val_loss: 9.8899e-04 - val_accuracy: 0.9995 - val_precision: 0.9995 - val_recall: 0.9995 - val_auc: 1.0000\n",
            "Epoch 12/20\n",
            "687/687 - 16s - loss: 7.6580e-04 - accuracy: 0.9998 - precision: 0.9998 - recall: 0.9998 - auc: 1.0000 - val_loss: 5.6433e-04 - val_accuracy: 1.0000 - val_precision: 1.0000 - val_recall: 0.9998 - val_auc: 1.0000\n",
            "Epoch 13/20\n",
            "687/687 - 16s - loss: 9.8135e-04 - accuracy: 0.9997 - precision: 0.9998 - recall: 0.9997 - auc: 1.0000 - val_loss: 4.1433e-04 - val_accuracy: 0.9998 - val_precision: 0.9998 - val_recall: 0.9998 - val_auc: 1.0000\n",
            "Epoch 14/20\n",
            "687/687 - 16s - loss: 6.6994e-04 - accuracy: 0.9998 - precision: 0.9998 - recall: 0.9998 - auc: 1.0000 - val_loss: 4.9383e-04 - val_accuracy: 1.0000 - val_precision: 1.0000 - val_recall: 1.0000 - val_auc: 1.0000\n",
            "Epoch 15/20\n",
            "687/687 - 16s - loss: 5.2763e-04 - accuracy: 0.9999 - precision: 1.0000 - recall: 0.9999 - auc: 1.0000 - val_loss: 5.0415e-04 - val_accuracy: 0.9998 - val_precision: 0.9998 - val_recall: 0.9998 - val_auc: 1.0000\n",
            "Epoch 16/20\n",
            "687/687 - 16s - loss: 5.7079e-04 - accuracy: 0.9999 - precision: 0.9999 - recall: 0.9999 - auc: 1.0000 - val_loss: 2.2082e-04 - val_accuracy: 1.0000 - val_precision: 1.0000 - val_recall: 1.0000 - val_auc: 1.0000\n",
            "Epoch 17/20\n",
            "687/687 - 16s - loss: 7.1514e-04 - accuracy: 1.0000 - precision: 1.0000 - recall: 0.9999 - auc: 1.0000 - val_loss: 6.6655e-04 - val_accuracy: 0.9998 - val_precision: 0.9998 - val_recall: 0.9998 - val_auc: 1.0000\n",
            "Epoch 18/20\n",
            "687/687 - 16s - loss: 6.2721e-04 - accuracy: 0.9998 - precision: 0.9998 - recall: 0.9998 - auc: 1.0000 - val_loss: 4.6164e-04 - val_accuracy: 1.0000 - val_precision: 1.0000 - val_recall: 1.0000 - val_auc: 1.0000\n",
            "Epoch 19/20\n",
            "687/687 - 16s - loss: 4.3964e-04 - accuracy: 1.0000 - precision: 1.0000 - recall: 1.0000 - auc: 1.0000 - val_loss: 7.3163e-04 - val_accuracy: 0.9998 - val_precision: 0.9998 - val_recall: 0.9998 - val_auc: 1.0000\n",
            "Epoch 20/20\n",
            "687/687 - 16s - loss: 6.7889e-04 - accuracy: 1.0000 - precision: 1.0000 - recall: 0.9999 - auc: 1.0000 - val_loss: 2.6600e-04 - val_accuracy: 1.0000 - val_precision: 1.0000 - val_recall: 1.0000 - val_auc: 1.0000\n"
          ]
        }
      ]
    },
    {
      "cell_type": "code",
      "metadata": {
        "colab": {
          "base_uri": "https://localhost:8080/",
          "height": 340
        },
        "id": "vgM3nzS_uSIo",
        "outputId": "00a38036-5985-4253-e199-52655f7c1e79"
      },
      "source": [
        "print(f\"learning curve of he uniform model with batch norm class weight\")\n",
        "plot_learning_curve(history_elu3)"
      ],
      "id": "vgM3nzS_uSIo",
      "execution_count": 207,
      "outputs": [
        {
          "output_type": "stream",
          "name": "stdout",
          "text": [
            "learning curve of he uniform model with batch norm class weight\n"
          ]
        },
        {
          "output_type": "display_data",
          "data": {
            "image/png": "[encoded data removed]",
            "text/plain": [
              "<Figure size 864x360 with 2 Axes>"
            ]
          },
          "metadata": {
            "needs_background": "light"
          }
        }
      ]
    },
    {
      "cell_type": "code",
      "metadata": {
        "colab": {
          "base_uri": "https://localhost:8080/",
          "height": 578
        },
        "id": "7_LSElqSufRJ",
        "outputId": "174e8b26-5683-4a27-deb3-7cd67047e1ea"
      },
      "source": [
        "evaluate(elu_3)"
      ],
      "id": "7_LSElqSufRJ",
      "execution_count": 204,
      "outputs": [
        {
          "output_type": "stream",
          "name": "stdout",
          "text": [
            "687/687 [==============================] - 13s 19ms/step - loss: 2.4764e-04 - accuracy: 1.0000 - precision: 1.0000 - recall: 1.0000 - auc: 1.0000\n",
            "225/225 [==============================] - 5s 20ms/step - loss: 0.0110 - accuracy: 0.9962 - precision: 0.9962 - recall: 0.9961 - auc: 0.9999\n",
            "\n",
            "train loss: 0.0002476437948644161\n",
            "train accuracy: 100.0 %\n",
            "train precision: 1.0\n",
            "train recall: 1.0\n",
            "train AUC: 0.9999999403953552\n",
            "test loss: 0.010958658531308174\n",
            "test accuracy: 99.62 %\n",
            "test precision: 0.9962348341941833\n",
            "test recall: 0.9960959553718567\n",
            "test AUC: 0.9999275207519531\n",
            "\n",
            "Enter image index: 7162498\n",
            "label: 6\n",
            "actual label: 6\n"
          ]
        },
        {
          "output_type": "display_data",
          "data": {
            "image/png": "[encoded data removed]",
            "text/plain": [
              "<Figure size 432x288 with 1 Axes>"
            ]
          },
          "metadata": {
            "needs_background": "light"
          }
        }
      ]
    },
    {
      "cell_type": "code",
      "metadata": {
        "colab": {
          "base_uri": "https://localhost:8080/",
          "height": 286
        },
        "id": "YUsEQnMHfy9L",
        "outputId": "b76a6740-97d7-44c8-91ca-98b1b3985dd3"
      },
      "source": [
        "plot_image(test_image, width)\n",
        "print('label: ', np.argmax(elu_3.predict(np.array([test_image]))))"
      ],
      "id": "YUsEQnMHfy9L",
      "execution_count": 208,
      "outputs": [
        {
          "output_type": "display_data",
          "data": {
            "image/png": "[encoded data removed]",
            "text/plain": [
              "<Figure size 432x288 with 1 Axes>"
            ]
          },
          "metadata": {
            "needs_background": "light"
          }
        },
        {
          "output_type": "stream",
          "name": "stdout",
          "text": [
            "label:  1\n"
          ]
        }
      ]
    }
  ]
}