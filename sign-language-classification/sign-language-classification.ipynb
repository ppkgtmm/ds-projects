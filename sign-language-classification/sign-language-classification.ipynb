{
 "cells": [
  {
   "cell_type": "code",
   "execution_count": 1,
   "id": "located-coach",
   "metadata": {
    "_cell_guid": "b1076dfc-b9ad-4769-8c92-a6c4dae69d19",
    "_uuid": "8f2839f25d086af736a60e9eeb907d3b93b6e0e5",
    "execution": {
     "iopub.execute_input": "2021-10-09T10:34:16.095131Z",
     "iopub.status.busy": "2021-10-09T10:34:16.094305Z",
     "iopub.status.idle": "2021-10-09T10:34:21.291164Z",
     "shell.execute_reply": "2021-10-09T10:34:21.290550Z",
     "shell.execute_reply.started": "2021-10-09T10:08:30.125305Z"
    },
    "papermill": {
     "duration": 5.236213,
     "end_time": "2021-10-09T10:34:21.291334",
     "exception": false,
     "start_time": "2021-10-09T10:34:16.055121",
     "status": "completed"
    },
    "tags": []
   },
   "outputs": [],
   "source": [
    "%matplotlib inline\n",
    "import pandas as pd\n",
    "import numpy as np\n",
    "import matplotlib.pyplot as plt\n",
    "from keras.models import Sequential\n",
    "from keras.layers import Conv2D, BatchNormalization, Activation, Dropout\n",
    "from keras.layers import MaxPooling2D\n",
    "from keras.layers import Dense\n",
    "from keras.layers import Flatten\n",
    "from keras.preprocessing.image import ImageDataGenerator\n",
    "from keras.utils import to_categorical\n",
    "from sklearn.model_selection import train_test_split\n",
    "from keras.optimizers import Adam, SGD, RMSprop\n",
    "from keras.activations import relu, selu, elu\n",
    "from keras.callbacks import ModelCheckpoint, ReduceLROnPlateau\n",
    "import seaborn as sns\n",
    "plt.rcParams['font.size'] = 12\n",
    "plt.rcParams['lines.color'] ='#000000'\n",
    "np.random.seed(1234567)"
   ]
  },
  {
   "cell_type": "code",
   "execution_count": 2,
   "id": "unexpected-development",
   "metadata": {
    "execution": {
     "iopub.execute_input": "2021-10-09T10:34:21.337426Z",
     "iopub.status.busy": "2021-10-09T10:34:21.336603Z",
     "iopub.status.idle": "2021-10-09T10:34:21.339054Z",
     "shell.execute_reply": "2021-10-09T10:34:21.339488Z",
     "shell.execute_reply.started": "2021-10-09T10:08:35.685467Z"
    },
    "papermill": {
     "duration": 0.026416,
     "end_time": "2021-10-09T10:34:21.339629",
     "exception": false,
     "start_time": "2021-10-09T10:34:21.313213",
     "status": "completed"
    },
    "tags": []
   },
   "outputs": [],
   "source": [
    "train_path = '../input/sign-language-mnist/sign_mnist_train/sign_mnist_train.csv'\n",
    "test_path = '../input/sign-language-mnist/sign_mnist_test/sign_mnist_test.csv'"
   ]
  },
  {
   "cell_type": "code",
   "execution_count": 3,
   "id": "rational-foundation",
   "metadata": {
    "execution": {
     "iopub.execute_input": "2021-10-09T10:34:21.391325Z",
     "iopub.status.busy": "2021-10-09T10:34:21.390792Z",
     "iopub.status.idle": "2021-10-09T10:34:24.770887Z",
     "shell.execute_reply": "2021-10-09T10:34:24.771324Z",
     "shell.execute_reply.started": "2021-10-09T10:08:35.692760Z"
    },
    "papermill": {
     "duration": 3.412123,
     "end_time": "2021-10-09T10:34:24.771482",
     "exception": false,
     "start_time": "2021-10-09T10:34:21.359359",
     "status": "completed"
    },
    "tags": []
   },
   "outputs": [
    {
     "data": {
      "text/html": [
       "<div>\n",
       "<style scoped>\n",
       "    .dataframe tbody tr th:only-of-type {\n",
       "        vertical-align: middle;\n",
       "    }\n",
       "\n",
       "    .dataframe tbody tr th {\n",
       "        vertical-align: top;\n",
       "    }\n",
       "\n",
       "    .dataframe thead th {\n",
       "        text-align: right;\n",
       "    }\n",
       "</style>\n",
       "<table border=\"1\" class=\"dataframe\">\n",
       "  <thead>\n",
       "    <tr style=\"text-align: right;\">\n",
       "      <th></th>\n",
       "      <th>label</th>\n",
       "      <th>pixel1</th>\n",
       "      <th>pixel2</th>\n",
       "      <th>pixel3</th>\n",
       "      <th>pixel4</th>\n",
       "      <th>pixel5</th>\n",
       "      <th>pixel6</th>\n",
       "      <th>pixel7</th>\n",
       "      <th>pixel8</th>\n",
       "      <th>pixel9</th>\n",
       "      <th>...</th>\n",
       "      <th>pixel775</th>\n",
       "      <th>pixel776</th>\n",
       "      <th>pixel777</th>\n",
       "      <th>pixel778</th>\n",
       "      <th>pixel779</th>\n",
       "      <th>pixel780</th>\n",
       "      <th>pixel781</th>\n",
       "      <th>pixel782</th>\n",
       "      <th>pixel783</th>\n",
       "      <th>pixel784</th>\n",
       "    </tr>\n",
       "  </thead>\n",
       "  <tbody>\n",
       "    <tr>\n",
       "      <th>0</th>\n",
       "      <td>3</td>\n",
       "      <td>107</td>\n",
       "      <td>118</td>\n",
       "      <td>127</td>\n",
       "      <td>134</td>\n",
       "      <td>139</td>\n",
       "      <td>143</td>\n",
       "      <td>146</td>\n",
       "      <td>150</td>\n",
       "      <td>153</td>\n",
       "      <td>...</td>\n",
       "      <td>207</td>\n",
       "      <td>207</td>\n",
       "      <td>207</td>\n",
       "      <td>207</td>\n",
       "      <td>206</td>\n",
       "      <td>206</td>\n",
       "      <td>206</td>\n",
       "      <td>204</td>\n",
       "      <td>203</td>\n",
       "      <td>202</td>\n",
       "    </tr>\n",
       "    <tr>\n",
       "      <th>1</th>\n",
       "      <td>6</td>\n",
       "      <td>155</td>\n",
       "      <td>157</td>\n",
       "      <td>156</td>\n",
       "      <td>156</td>\n",
       "      <td>156</td>\n",
       "      <td>157</td>\n",
       "      <td>156</td>\n",
       "      <td>158</td>\n",
       "      <td>158</td>\n",
       "      <td>...</td>\n",
       "      <td>69</td>\n",
       "      <td>149</td>\n",
       "      <td>128</td>\n",
       "      <td>87</td>\n",
       "      <td>94</td>\n",
       "      <td>163</td>\n",
       "      <td>175</td>\n",
       "      <td>103</td>\n",
       "      <td>135</td>\n",
       "      <td>149</td>\n",
       "    </tr>\n",
       "    <tr>\n",
       "      <th>2</th>\n",
       "      <td>2</td>\n",
       "      <td>187</td>\n",
       "      <td>188</td>\n",
       "      <td>188</td>\n",
       "      <td>187</td>\n",
       "      <td>187</td>\n",
       "      <td>186</td>\n",
       "      <td>187</td>\n",
       "      <td>188</td>\n",
       "      <td>187</td>\n",
       "      <td>...</td>\n",
       "      <td>202</td>\n",
       "      <td>201</td>\n",
       "      <td>200</td>\n",
       "      <td>199</td>\n",
       "      <td>198</td>\n",
       "      <td>199</td>\n",
       "      <td>198</td>\n",
       "      <td>195</td>\n",
       "      <td>194</td>\n",
       "      <td>195</td>\n",
       "    </tr>\n",
       "    <tr>\n",
       "      <th>3</th>\n",
       "      <td>2</td>\n",
       "      <td>211</td>\n",
       "      <td>211</td>\n",
       "      <td>212</td>\n",
       "      <td>212</td>\n",
       "      <td>211</td>\n",
       "      <td>210</td>\n",
       "      <td>211</td>\n",
       "      <td>210</td>\n",
       "      <td>210</td>\n",
       "      <td>...</td>\n",
       "      <td>235</td>\n",
       "      <td>234</td>\n",
       "      <td>233</td>\n",
       "      <td>231</td>\n",
       "      <td>230</td>\n",
       "      <td>226</td>\n",
       "      <td>225</td>\n",
       "      <td>222</td>\n",
       "      <td>229</td>\n",
       "      <td>163</td>\n",
       "    </tr>\n",
       "    <tr>\n",
       "      <th>4</th>\n",
       "      <td>13</td>\n",
       "      <td>164</td>\n",
       "      <td>167</td>\n",
       "      <td>170</td>\n",
       "      <td>172</td>\n",
       "      <td>176</td>\n",
       "      <td>179</td>\n",
       "      <td>180</td>\n",
       "      <td>184</td>\n",
       "      <td>185</td>\n",
       "      <td>...</td>\n",
       "      <td>92</td>\n",
       "      <td>105</td>\n",
       "      <td>105</td>\n",
       "      <td>108</td>\n",
       "      <td>133</td>\n",
       "      <td>163</td>\n",
       "      <td>157</td>\n",
       "      <td>163</td>\n",
       "      <td>164</td>\n",
       "      <td>179</td>\n",
       "    </tr>\n",
       "  </tbody>\n",
       "</table>\n",
       "<p>5 rows × 785 columns</p>\n",
       "</div>"
      ],
      "text/plain": [
       "   label  pixel1  pixel2  pixel3  pixel4  pixel5  pixel6  pixel7  pixel8  \\\n",
       "0      3     107     118     127     134     139     143     146     150   \n",
       "1      6     155     157     156     156     156     157     156     158   \n",
       "2      2     187     188     188     187     187     186     187     188   \n",
       "3      2     211     211     212     212     211     210     211     210   \n",
       "4     13     164     167     170     172     176     179     180     184   \n",
       "\n",
       "   pixel9  ...  pixel775  pixel776  pixel777  pixel778  pixel779  pixel780  \\\n",
       "0     153  ...       207       207       207       207       206       206   \n",
       "1     158  ...        69       149       128        87        94       163   \n",
       "2     187  ...       202       201       200       199       198       199   \n",
       "3     210  ...       235       234       233       231       230       226   \n",
       "4     185  ...        92       105       105       108       133       163   \n",
       "\n",
       "   pixel781  pixel782  pixel783  pixel784  \n",
       "0       206       204       203       202  \n",
       "1       175       103       135       149  \n",
       "2       198       195       194       195  \n",
       "3       225       222       229       163  \n",
       "4       157       163       164       179  \n",
       "\n",
       "[5 rows x 785 columns]"
      ]
     },
     "execution_count": 3,
     "metadata": {},
     "output_type": "execute_result"
    }
   ],
   "source": [
    "train = pd.read_csv(train_path) # import data\n",
    "train.head()"
   ]
  },
  {
   "cell_type": "code",
   "execution_count": 4,
   "id": "varied-canon",
   "metadata": {
    "execution": {
     "iopub.execute_input": "2021-10-09T10:34:24.819733Z",
     "iopub.status.busy": "2021-10-09T10:34:24.818511Z",
     "iopub.status.idle": "2021-10-09T10:34:24.848438Z",
     "shell.execute_reply": "2021-10-09T10:34:24.847808Z",
     "shell.execute_reply.started": "2021-10-09T10:08:38.990725Z"
    },
    "papermill": {
     "duration": 0.055794,
     "end_time": "2021-10-09T10:34:24.848593",
     "exception": false,
     "start_time": "2021-10-09T10:34:24.792799",
     "status": "completed"
    },
    "tags": []
   },
   "outputs": [
    {
     "name": "stdout",
     "output_type": "stream",
     "text": [
      "shape of training data: (27455, 785)\n",
      "na count: 0\n"
     ]
    }
   ],
   "source": [
    "print('shape of training data:', train.shape) # (nrow, ncolumn)\n",
    "\n",
    "''' na count over all rows and columns\n",
    "first sum = sums over rows, last sum = sums over columns\n",
    "'''\n",
    "print('na count:', train.isna().sum().sum())"
   ]
  },
  {
   "cell_type": "code",
   "execution_count": 5,
   "id": "english-board",
   "metadata": {
    "execution": {
     "iopub.execute_input": "2021-10-09T10:34:24.899116Z",
     "iopub.status.busy": "2021-10-09T10:34:24.898453Z",
     "iopub.status.idle": "2021-10-09T10:34:25.168559Z",
     "shell.execute_reply": "2021-10-09T10:34:25.168983Z",
     "shell.execute_reply.started": "2021-10-09T10:08:39.028013Z"
    },
    "papermill": {
     "duration": 0.298442,
     "end_time": "2021-10-09T10:34:25.169131",
     "exception": false,
     "start_time": "2021-10-09T10:34:24.870689",
     "status": "completed"
    },
    "tags": []
   },
   "outputs": [
    {
     "data": {
      "image/png": "[encoded data removed]",
      "text/plain": [
       "<Figure size 720x360 with 1 Axes>"
      ]
     },
     "metadata": {
      "needs_background": "light"
     },
     "output_type": "display_data"
    }
   ],
   "source": [
    "fig = plt.figure(figsize=(10,5))\n",
    "ax = sns.countplot(x='label', data=train, palette='Accent')\n",
    "plt.show()"
   ]
  },
  {
   "cell_type": "code",
   "execution_count": 6,
   "id": "pacific-miami",
   "metadata": {
    "execution": {
     "iopub.execute_input": "2021-10-09T10:34:25.216327Z",
     "iopub.status.busy": "2021-10-09T10:34:25.215543Z",
     "iopub.status.idle": "2021-10-09T10:34:25.233165Z",
     "shell.execute_reply": "2021-10-09T10:34:25.233810Z",
     "shell.execute_reply.started": "2021-10-09T10:08:39.313284Z"
    },
    "papermill": {
     "duration": 0.043457,
     "end_time": "2021-10-09T10:34:25.234024",
     "exception": false,
     "start_time": "2021-10-09T10:34:25.190567",
     "status": "completed"
    },
    "tags": []
   },
   "outputs": [
    {
     "name": "stdout",
     "output_type": "stream",
     "text": [
      "majority : minority class ratio = 5.0 : 3.0\n"
     ]
    }
   ],
   "source": [
    "target_counts = train['label'].value_counts()\n",
    "target_counts = round(target_counts * 100 / target_counts.sum())\n",
    "print('majority : minority class ratio =', target_counts.max(), ':', target_counts.min()) # no class imbalance"
   ]
  },
  {
   "cell_type": "code",
   "execution_count": 7,
   "id": "virgin-eight",
   "metadata": {
    "execution": {
     "iopub.execute_input": "2021-10-09T10:34:25.338266Z",
     "iopub.status.busy": "2021-10-09T10:34:25.337467Z",
     "iopub.status.idle": "2021-10-09T10:34:25.340941Z",
     "shell.execute_reply": "2021-10-09T10:34:25.340507Z",
     "shell.execute_reply.started": "2021-10-09T10:08:39.336578Z"
    },
    "papermill": {
     "duration": 0.082119,
     "end_time": "2021-10-09T10:34:25.341077",
     "exception": false,
     "start_time": "2021-10-09T10:34:25.258958",
     "status": "completed"
    },
    "tags": []
   },
   "outputs": [],
   "source": [
    "X = train.drop('label', axis=1) # features\n",
    "y = to_categorical(train['label']) # one-hot encoded target"
   ]
  },
  {
   "cell_type": "code",
   "execution_count": 8,
   "id": "domestic-regard",
   "metadata": {
    "execution": {
     "iopub.execute_input": "2021-10-09T10:34:25.388734Z",
     "iopub.status.busy": "2021-10-09T10:34:25.388230Z",
     "iopub.status.idle": "2021-10-09T10:34:25.391985Z",
     "shell.execute_reply": "2021-10-09T10:34:25.391539Z",
     "shell.execute_reply.started": "2021-10-09T10:08:39.401231Z"
    },
    "papermill": {
     "duration": 0.029381,
     "end_time": "2021-10-09T10:34:25.392092",
     "exception": false,
     "start_time": "2021-10-09T10:34:25.362711",
     "status": "completed"
    },
    "tags": []
   },
   "outputs": [],
   "source": [
    "# reshape square black and white images\n",
    "def reshape_bw(X):\n",
    "    samples, width, channel = X.shape[0], int(X.shape[1] ** (1/2)) , 1\n",
    "    return X.values.reshape(samples, width, width, channel)  "
   ]
  },
  {
   "cell_type": "code",
   "execution_count": 9,
   "id": "bright-progress",
   "metadata": {
    "execution": {
     "iopub.execute_input": "2021-10-09T10:34:25.438642Z",
     "iopub.status.busy": "2021-10-09T10:34:25.438121Z",
     "iopub.status.idle": "2021-10-09T10:34:25.441971Z",
     "shell.execute_reply": "2021-10-09T10:34:25.441556Z",
     "shell.execute_reply.started": "2021-10-09T10:08:39.409343Z"
    },
    "papermill": {
     "duration": 0.028709,
     "end_time": "2021-10-09T10:34:25.442079",
     "exception": false,
     "start_time": "2021-10-09T10:34:25.413370",
     "status": "completed"
    },
    "tags": []
   },
   "outputs": [],
   "source": [
    "X = reshape_bw(X)\n",
    "width, height, channel = X.shape[1], X.shape[2], X.shape[3]"
   ]
  },
  {
   "cell_type": "code",
   "execution_count": 10,
   "id": "private-aggregate",
   "metadata": {
    "execution": {
     "iopub.execute_input": "2021-10-09T10:34:25.514270Z",
     "iopub.status.busy": "2021-10-09T10:34:25.513322Z",
     "iopub.status.idle": "2021-10-09T10:34:25.609723Z",
     "shell.execute_reply": "2021-10-09T10:34:25.609298Z",
     "shell.execute_reply.started": "2021-10-09T10:08:39.417045Z"
    },
    "papermill": {
     "duration": 0.146046,
     "end_time": "2021-10-09T10:34:25.609829",
     "exception": false,
     "start_time": "2021-10-09T10:34:25.463783",
     "status": "completed"
    },
    "tags": []
   },
   "outputs": [
    {
     "data": {
      "image/png": "[encoded data removed]",
      "text/plain": [
       "<Figure size 432x288 with 1 Axes>"
      ]
     },
     "metadata": {
      "needs_background": "light"
     },
     "output_type": "display_data"
    }
   ],
   "source": [
    "# plot a square black and white image\n",
    "def plot_image(X, width):\n",
    "    _ = plt.imshow(X.reshape(width, width), cmap='gray')\n",
    "    plt.show()\n",
    "    \n",
    "plot_image(X[0], width) # plot sample image"
   ]
  },
  {
   "cell_type": "code",
   "execution_count": 11,
   "id": "imposed-rolling",
   "metadata": {
    "execution": {
     "iopub.execute_input": "2021-10-09T10:34:25.658684Z",
     "iopub.status.busy": "2021-10-09T10:34:25.657796Z",
     "iopub.status.idle": "2021-10-09T10:34:26.617938Z",
     "shell.execute_reply": "2021-10-09T10:34:26.617428Z",
     "shell.execute_reply.started": "2021-10-09T10:08:39.543735Z"
    },
    "papermill": {
     "duration": 0.986071,
     "end_time": "2021-10-09T10:34:26.618081",
     "exception": false,
     "start_time": "2021-10-09T10:34:25.632010",
     "status": "completed"
    },
    "tags": []
   },
   "outputs": [],
   "source": [
    "# split data into train and validation set with same target distribution as before spliting\n",
    "X_train, X_val, y_train, y_val = train_test_split(X, y, stratify=y, test_size=0.2, random_state=42)"
   ]
  },
  {
   "cell_type": "code",
   "execution_count": 12,
   "id": "diagnostic-protocol",
   "metadata": {
    "execution": {
     "iopub.execute_input": "2021-10-09T10:34:26.671351Z",
     "iopub.status.busy": "2021-10-09T10:34:26.670391Z",
     "iopub.status.idle": "2021-10-09T10:34:26.794470Z",
     "shell.execute_reply": "2021-10-09T10:34:26.794914Z",
     "shell.execute_reply.started": "2021-10-09T10:08:40.542010Z"
    },
    "papermill": {
     "duration": 0.152868,
     "end_time": "2021-10-09T10:34:26.795085",
     "exception": false,
     "start_time": "2021-10-09T10:34:26.642217",
     "status": "completed"
    },
    "tags": []
   },
   "outputs": [],
   "source": [
    "# create data preprocessor and fit on train set\n",
    "generator = ImageDataGenerator(\n",
    "    featurewise_center=True, \n",
    "    featurewise_std_normalization=True,\n",
    "    height_shift_range=0.15,\n",
    "    width_shift_range=0.15, \n",
    "    fill_mode='nearest'\n",
    ")\n",
    "generator.fit(X_train)"
   ]
  },
  {
   "cell_type": "code",
   "execution_count": 13,
   "id": "graduate-picnic",
   "metadata": {
    "execution": {
     "iopub.execute_input": "2021-10-09T10:34:26.998688Z",
     "iopub.status.busy": "2021-10-09T10:34:26.993755Z",
     "iopub.status.idle": "2021-10-09T10:34:27.001390Z",
     "shell.execute_reply": "2021-10-09T10:34:27.000979Z",
     "shell.execute_reply.started": "2021-10-09T10:09:08.975868Z"
    },
    "papermill": {
     "duration": 0.18348,
     "end_time": "2021-10-09T10:34:27.001511",
     "exception": false,
     "start_time": "2021-10-09T10:34:26.818031",
     "status": "completed"
    },
    "tags": []
   },
   "outputs": [],
   "source": [
    "# initialize model\n",
    "def build_model(func):\n",
    "    model = Sequential()\n",
    "    model.add(Conv2D(64, (5, 5), padding=\"same\", input_shape=(width, height, channel)))\n",
    "    model.add(BatchNormalization())\n",
    "    model.add(Activation(func))\n",
    "    model.add(MaxPooling2D((2, 2)))\n",
    "    model.add(Conv2D(128, (5, 5), padding=\"same\"))\n",
    "    model.add(BatchNormalization())\n",
    "    model.add(Activation(func))\n",
    "    model.add(MaxPooling2D((2, 2)))\n",
    "    model.add(Conv2D(256, (5, 5), padding=\"same\"))\n",
    "    model.add(BatchNormalization())\n",
    "    model.add(Activation(func))\n",
    "    model.add(MaxPooling2D((2, 2)))\n",
    "    model.add(Flatten())\n",
    "    model.add(Dropout(0.4))\n",
    "    model.add(Dense(64))\n",
    "    model.add(BatchNormalization())\n",
    "    model.add(Activation(func))\n",
    "    model.add(Dropout(0.25))\n",
    "    model.add(Dense(y.shape[1], activation='softmax'))\n",
    "    return model"
   ]
  },
  {
   "cell_type": "code",
   "execution_count": 14,
   "id": "found-outreach",
   "metadata": {
    "execution": {
     "iopub.execute_input": "2021-10-09T10:34:27.051208Z",
     "iopub.status.busy": "2021-10-09T10:34:27.050663Z",
     "iopub.status.idle": "2021-10-09T10:34:29.245330Z",
     "shell.execute_reply": "2021-10-09T10:34:29.244793Z",
     "shell.execute_reply.started": "2021-10-09T10:09:10.962420Z"
    },
    "papermill": {
     "duration": 2.221624,
     "end_time": "2021-10-09T10:34:29.245487",
     "exception": false,
     "start_time": "2021-10-09T10:34:27.023863",
     "status": "completed"
    },
    "tags": []
   },
   "outputs": [],
   "source": [
    "from keras.metrics import Precision, Recall, AUC\n",
    "\n",
    "model_relu = build_model(relu)\n",
    "model_elu = build_model(elu)\n",
    "\n",
    "# compile models\n",
    "model_relu.compile(\n",
    "    optimizer=Adam(learning_rate=0.009),\n",
    "    loss='categorical_crossentropy',\n",
    "    metrics=['accuracy', Precision(), Recall(), AUC(name='auc')]\n",
    ")\n",
    "\n",
    "model_elu.compile(\n",
    "    optimizer=Adam(learning_rate=0.009),\n",
    "    loss='categorical_crossentropy',\n",
    "    metrics=['accuracy', Precision(), Recall(), AUC(name='auc')]\n",
    ")"
   ]
  },
  {
   "cell_type": "code",
   "execution_count": 15,
   "id": "integral-nursery",
   "metadata": {
    "execution": {
     "iopub.execute_input": "2021-10-09T10:34:29.296258Z",
     "iopub.status.busy": "2021-10-09T10:34:29.295517Z",
     "iopub.status.idle": "2021-10-09T10:34:29.299611Z",
     "shell.execute_reply": "2021-10-09T10:34:29.299026Z",
     "shell.execute_reply.started": "2021-10-09T10:10:52.252420Z"
    },
    "papermill": {
     "duration": 0.031317,
     "end_time": "2021-10-09T10:34:29.299743",
     "exception": false,
     "start_time": "2021-10-09T10:34:29.268426",
     "status": "completed"
    },
    "tags": []
   },
   "outputs": [],
   "source": [
    "# deine model callnbaks\n",
    "cb_relu = [ModelCheckpoint('model_relu.h5', monitor='val_auc', mode='max',save_best_only=True), \n",
    "            ReduceLROnPlateau(monitor='val_auc', mode='max', factor=0.3, patience=2, min_lr=0.00001)]\n",
    "\n",
    "cb_elu = [ModelCheckpoint('model_elu.h5', monitor='val_auc', mode='max',save_best_only=True), \n",
    "            ReduceLROnPlateau(monitor='val_auc', mode='max', factor=0.3, patience=2, min_lr=0.00001)]"
   ]
  },
  {
   "cell_type": "code",
   "execution_count": 16,
   "id": "beginning-senator",
   "metadata": {
    "execution": {
     "iopub.execute_input": "2021-10-09T10:34:29.349551Z",
     "iopub.status.busy": "2021-10-09T10:34:29.348573Z",
     "iopub.status.idle": "2021-10-09T10:38:50.509640Z",
     "shell.execute_reply": "2021-10-09T10:38:50.508825Z",
     "shell.execute_reply.started": "2021-10-09T10:12:03.387959Z"
    },
    "papermill": {
     "duration": 261.187199,
     "end_time": "2021-10-09T10:38:50.509786",
     "exception": false,
     "start_time": "2021-10-09T10:34:29.322587",
     "status": "completed"
    },
    "tags": []
   },
   "outputs": [
    {
     "name": "stdout",
     "output_type": "stream",
     "text": [
      "Epoch 1/25\n",
      "687/687 - 16s - loss: 1.0344 - accuracy: 0.6697 - precision: 0.8595 - recall: 0.5630 - auc: 0.9732 - val_loss: 0.3222 - val_accuracy: 0.8882 - val_precision: 0.9084 - val_recall: 0.8689 - val_auc: 0.9967\n",
      "Epoch 2/25\n",
      "687/687 - 10s - loss: 0.1782 - accuracy: 0.9413 - precision: 0.9517 - recall: 0.9323 - auc: 0.9983 - val_loss: 0.0322 - val_accuracy: 0.9911 - val_precision: 0.9918 - val_recall: 0.9898 - val_auc: 0.9998\n",
      "Epoch 3/25\n",
      "687/687 - 10s - loss: 0.1020 - accuracy: 0.9674 - precision: 0.9724 - recall: 0.9634 - auc: 0.9989 - val_loss: 0.0499 - val_accuracy: 0.9836 - val_precision: 0.9847 - val_recall: 0.9820 - val_auc: 0.9995\n",
      "Epoch 4/25\n",
      "687/687 - 10s - loss: 0.0768 - accuracy: 0.9753 - precision: 0.9786 - recall: 0.9732 - auc: 0.9992 - val_loss: 0.0528 - val_accuracy: 0.9811 - val_precision: 0.9848 - val_recall: 0.9778 - val_auc: 0.9995\n",
      "Epoch 5/25\n",
      "687/687 - 11s - loss: 0.0175 - accuracy: 0.9940 - precision: 0.9946 - recall: 0.9934 - auc: 1.0000 - val_loss: 7.4681e-04 - val_accuracy: 0.9998 - val_precision: 0.9998 - val_recall: 0.9998 - val_auc: 1.0000\n",
      "Epoch 6/25\n",
      "687/687 - 10s - loss: 0.0118 - accuracy: 0.9964 - precision: 0.9969 - recall: 0.9959 - auc: 1.0000 - val_loss: 0.0059 - val_accuracy: 0.9984 - val_precision: 0.9984 - val_recall: 0.9984 - val_auc: 0.9998\n",
      "Epoch 7/25\n",
      "687/687 - 10s - loss: 0.0105 - accuracy: 0.9967 - precision: 0.9970 - recall: 0.9966 - auc: 1.0000 - val_loss: 0.0012 - val_accuracy: 0.9998 - val_precision: 0.9998 - val_recall: 0.9998 - val_auc: 1.0000\n",
      "Epoch 8/25\n",
      "687/687 - 11s - loss: 0.0081 - accuracy: 0.9974 - precision: 0.9976 - recall: 0.9972 - auc: 1.0000 - val_loss: 1.7351e-04 - val_accuracy: 1.0000 - val_precision: 1.0000 - val_recall: 1.0000 - val_auc: 1.0000\n",
      "Epoch 9/25\n",
      "687/687 - 10s - loss: 0.0059 - accuracy: 0.9984 - precision: 0.9985 - recall: 0.9984 - auc: 0.9999 - val_loss: 2.7268e-05 - val_accuracy: 1.0000 - val_precision: 1.0000 - val_recall: 1.0000 - val_auc: 1.0000\n",
      "Epoch 10/25\n",
      "687/687 - 10s - loss: 0.0040 - accuracy: 0.9988 - precision: 0.9990 - recall: 0.9987 - auc: 1.0000 - val_loss: 1.9285e-05 - val_accuracy: 1.0000 - val_precision: 1.0000 - val_recall: 1.0000 - val_auc: 1.0000\n",
      "Epoch 11/25\n",
      "687/687 - 11s - loss: 0.0041 - accuracy: 0.9989 - precision: 0.9990 - recall: 0.9988 - auc: 1.0000 - val_loss: 3.6517e-05 - val_accuracy: 1.0000 - val_precision: 1.0000 - val_recall: 1.0000 - val_auc: 1.0000\n",
      "Epoch 12/25\n",
      "687/687 - 10s - loss: 0.0032 - accuracy: 0.9993 - precision: 0.9993 - recall: 0.9991 - auc: 1.0000 - val_loss: 1.4270e-05 - val_accuracy: 1.0000 - val_precision: 1.0000 - val_recall: 1.0000 - val_auc: 1.0000\n",
      "Epoch 13/25\n",
      "687/687 - 10s - loss: 0.0036 - accuracy: 0.9991 - precision: 0.9992 - recall: 0.9990 - auc: 1.0000 - val_loss: 4.2872e-05 - val_accuracy: 1.0000 - val_precision: 1.0000 - val_recall: 1.0000 - val_auc: 1.0000\n",
      "Epoch 14/25\n",
      "687/687 - 11s - loss: 0.0028 - accuracy: 0.9995 - precision: 0.9996 - recall: 0.9995 - auc: 1.0000 - val_loss: 4.3161e-05 - val_accuracy: 1.0000 - val_precision: 1.0000 - val_recall: 1.0000 - val_auc: 1.0000\n",
      "Epoch 15/25\n",
      "687/687 - 10s - loss: 0.0033 - accuracy: 0.9993 - precision: 0.9994 - recall: 0.9992 - auc: 1.0000 - val_loss: 1.3009e-05 - val_accuracy: 1.0000 - val_precision: 1.0000 - val_recall: 1.0000 - val_auc: 1.0000\n",
      "Epoch 16/25\n",
      "687/687 - 10s - loss: 0.0030 - accuracy: 0.9993 - precision: 0.9994 - recall: 0.9993 - auc: 1.0000 - val_loss: 2.8647e-05 - val_accuracy: 1.0000 - val_precision: 1.0000 - val_recall: 1.0000 - val_auc: 1.0000\n",
      "Epoch 17/25\n",
      "687/687 - 10s - loss: 0.0036 - accuracy: 0.9992 - precision: 0.9992 - recall: 0.9992 - auc: 1.0000 - val_loss: 1.1047e-05 - val_accuracy: 1.0000 - val_precision: 1.0000 - val_recall: 1.0000 - val_auc: 1.0000\n",
      "Epoch 18/25\n",
      "687/687 - 10s - loss: 0.0033 - accuracy: 0.9989 - precision: 0.9990 - recall: 0.9989 - auc: 1.0000 - val_loss: 1.2114e-05 - val_accuracy: 1.0000 - val_precision: 1.0000 - val_recall: 1.0000 - val_auc: 1.0000\n",
      "Epoch 19/25\n",
      "687/687 - 10s - loss: 0.0024 - accuracy: 0.9995 - precision: 0.9995 - recall: 0.9995 - auc: 1.0000 - val_loss: 1.6677e-05 - val_accuracy: 1.0000 - val_precision: 1.0000 - val_recall: 1.0000 - val_auc: 1.0000\n",
      "Epoch 20/25\n",
      "687/687 - 10s - loss: 0.0033 - accuracy: 0.9992 - precision: 0.9992 - recall: 0.9991 - auc: 1.0000 - val_loss: 1.4626e-05 - val_accuracy: 1.0000 - val_precision: 1.0000 - val_recall: 1.0000 - val_auc: 1.0000\n",
      "Epoch 21/25\n",
      "687/687 - 10s - loss: 0.0032 - accuracy: 0.9992 - precision: 0.9993 - recall: 0.9992 - auc: 1.0000 - val_loss: 3.8895e-05 - val_accuracy: 1.0000 - val_precision: 1.0000 - val_recall: 1.0000 - val_auc: 1.0000\n",
      "Epoch 22/25\n",
      "687/687 - 10s - loss: 0.0026 - accuracy: 0.9995 - precision: 0.9995 - recall: 0.9993 - auc: 1.0000 - val_loss: 1.9861e-05 - val_accuracy: 1.0000 - val_precision: 1.0000 - val_recall: 1.0000 - val_auc: 1.0000\n",
      "Epoch 23/25\n",
      "687/687 - 10s - loss: 0.0027 - accuracy: 0.9996 - precision: 0.9997 - recall: 0.9994 - auc: 1.0000 - val_loss: 1.4881e-05 - val_accuracy: 1.0000 - val_precision: 1.0000 - val_recall: 1.0000 - val_auc: 1.0000\n",
      "Epoch 24/25\n",
      "687/687 - 11s - loss: 0.0029 - accuracy: 0.9992 - precision: 0.9993 - recall: 0.9990 - auc: 1.0000 - val_loss: 2.2856e-05 - val_accuracy: 1.0000 - val_precision: 1.0000 - val_recall: 1.0000 - val_auc: 1.0000\n",
      "Epoch 25/25\n",
      "687/687 - 10s - loss: 0.0025 - accuracy: 0.9993 - precision: 0.9993 - recall: 0.9992 - auc: 1.0000 - val_loss: 1.3993e-05 - val_accuracy: 1.0000 - val_precision: 1.0000 - val_recall: 1.0000 - val_auc: 1.0000\n"
     ]
    }
   ],
   "source": [
    "history_relu = model_relu.fit(generator.flow(X_train, y_train, batch_size=32), \\\n",
    "                    epochs=25, \\\n",
    "                    validation_data=generator.flow(X_val,y_val,batch_size=32), \\\n",
    "                    callbacks=cb_relu,\n",
    "                    verbose=2)"
   ]
  },
  {
   "cell_type": "code",
   "execution_count": 17,
   "id": "iraqi-textbook",
   "metadata": {
    "execution": {
     "iopub.execute_input": "2021-10-09T10:38:50.584817Z",
     "iopub.status.busy": "2021-10-09T10:38:50.583950Z",
     "iopub.status.idle": "2021-10-09T10:43:07.488192Z",
     "shell.execute_reply": "2021-10-09T10:43:07.486483Z",
     "shell.execute_reply.started": "2021-10-09T10:15:43.946774Z"
    },
    "papermill": {
     "duration": 256.943329,
     "end_time": "2021-10-09T10:43:07.488342",
     "exception": false,
     "start_time": "2021-10-09T10:38:50.545013",
     "status": "completed"
    },
    "tags": []
   },
   "outputs": [
    {
     "name": "stdout",
     "output_type": "stream",
     "text": [
      "Epoch 1/25\n",
      "687/687 - 12s - loss: 0.9540 - accuracy: 0.6943 - precision_1: 0.8609 - recall_1: 0.5914 - auc: 0.9772 - val_loss: 0.1652 - val_accuracy: 0.9432 - val_precision_1: 0.9519 - val_recall_1: 0.9377 - val_auc: 0.9988\n",
      "Epoch 2/25\n",
      "687/687 - 11s - loss: 0.1959 - accuracy: 0.9343 - precision_1: 0.9464 - recall_1: 0.9241 - auc: 0.9981 - val_loss: 0.0587 - val_accuracy: 0.9801 - val_precision_1: 0.9830 - val_recall_1: 0.9772 - val_auc: 0.9997\n",
      "Epoch 3/25\n",
      "687/687 - 10s - loss: 0.1081 - accuracy: 0.9627 - precision_1: 0.9684 - recall_1: 0.9587 - auc: 0.9989 - val_loss: 0.0172 - val_accuracy: 0.9940 - val_precision_1: 0.9949 - val_recall_1: 0.9934 - val_auc: 1.0000\n",
      "Epoch 4/25\n",
      "687/687 - 10s - loss: 0.0733 - accuracy: 0.9764 - precision_1: 0.9792 - recall_1: 0.9745 - auc: 0.9992 - val_loss: 0.0522 - val_accuracy: 0.9843 - val_precision_1: 0.9849 - val_recall_1: 0.9838 - val_auc: 0.9989\n",
      "Epoch 5/25\n",
      "687/687 - 11s - loss: 0.0691 - accuracy: 0.9773 - precision_1: 0.9798 - recall_1: 0.9759 - auc: 0.9992 - val_loss: 0.0485 - val_accuracy: 0.9827 - val_precision_1: 0.9829 - val_recall_1: 0.9818 - val_auc: 0.9995\n",
      "Epoch 6/25\n",
      "687/687 - 10s - loss: 0.0212 - accuracy: 0.9934 - precision_1: 0.9944 - recall_1: 0.9929 - auc: 0.9999 - val_loss: 0.0016 - val_accuracy: 0.9995 - val_precision_1: 0.9995 - val_recall_1: 0.9995 - val_auc: 1.0000\n",
      "Epoch 7/25\n",
      "687/687 - 10s - loss: 0.0141 - accuracy: 0.9955 - precision_1: 0.9959 - recall_1: 0.9953 - auc: 0.9999 - val_loss: 5.7460e-04 - val_accuracy: 1.0000 - val_precision_1: 1.0000 - val_recall_1: 1.0000 - val_auc: 1.0000\n",
      "Epoch 8/25\n",
      "687/687 - 11s - loss: 0.0072 - accuracy: 0.9979 - precision_1: 0.9980 - recall_1: 0.9978 - auc: 1.0000 - val_loss: 4.2070e-04 - val_accuracy: 1.0000 - val_precision_1: 1.0000 - val_recall_1: 0.9998 - val_auc: 1.0000\n",
      "Epoch 9/25\n",
      "687/687 - 10s - loss: 0.0060 - accuracy: 0.9981 - precision_1: 0.9984 - recall_1: 0.9980 - auc: 0.9999 - val_loss: 2.3488e-04 - val_accuracy: 1.0000 - val_precision_1: 1.0000 - val_recall_1: 1.0000 - val_auc: 1.0000\n",
      "Epoch 10/25\n",
      "687/687 - 10s - loss: 0.0046 - accuracy: 0.9988 - precision_1: 0.9988 - recall_1: 0.9986 - auc: 1.0000 - val_loss: 1.9097e-04 - val_accuracy: 1.0000 - val_precision_1: 1.0000 - val_recall_1: 1.0000 - val_auc: 1.0000\n",
      "Epoch 11/25\n",
      "687/687 - 11s - loss: 0.0049 - accuracy: 0.9986 - precision_1: 0.9988 - recall_1: 0.9985 - auc: 1.0000 - val_loss: 1.2183e-04 - val_accuracy: 1.0000 - val_precision_1: 1.0000 - val_recall_1: 1.0000 - val_auc: 1.0000\n",
      "Epoch 12/25\n",
      "687/687 - 10s - loss: 0.0043 - accuracy: 0.9989 - precision_1: 0.9989 - recall_1: 0.9989 - auc: 1.0000 - val_loss: 1.0915e-04 - val_accuracy: 1.0000 - val_precision_1: 1.0000 - val_recall_1: 1.0000 - val_auc: 1.0000\n",
      "Epoch 13/25\n",
      "687/687 - 10s - loss: 0.0040 - accuracy: 0.9987 - precision_1: 0.9988 - recall_1: 0.9986 - auc: 1.0000 - val_loss: 7.1197e-05 - val_accuracy: 1.0000 - val_precision_1: 1.0000 - val_recall_1: 1.0000 - val_auc: 1.0000\n",
      "Epoch 14/25\n",
      "687/687 - 10s - loss: 0.0040 - accuracy: 0.9990 - precision_1: 0.9992 - recall_1: 0.9990 - auc: 1.0000 - val_loss: 7.7292e-05 - val_accuracy: 1.0000 - val_precision_1: 1.0000 - val_recall_1: 1.0000 - val_auc: 1.0000\n",
      "Epoch 15/25\n",
      "687/687 - 10s - loss: 0.0032 - accuracy: 0.9993 - precision_1: 0.9994 - recall_1: 0.9992 - auc: 1.0000 - val_loss: 1.6002e-04 - val_accuracy: 1.0000 - val_precision_1: 1.0000 - val_recall_1: 1.0000 - val_auc: 1.0000\n",
      "Epoch 16/25\n",
      "687/687 - 10s - loss: 0.0038 - accuracy: 0.9990 - precision_1: 0.9990 - recall_1: 0.9990 - auc: 1.0000 - val_loss: 1.0532e-04 - val_accuracy: 1.0000 - val_precision_1: 1.0000 - val_recall_1: 1.0000 - val_auc: 1.0000\n",
      "Epoch 17/25\n",
      "687/687 - 10s - loss: 0.0037 - accuracy: 0.9992 - precision_1: 0.9993 - recall_1: 0.9991 - auc: 1.0000 - val_loss: 1.2163e-04 - val_accuracy: 1.0000 - val_precision_1: 1.0000 - val_recall_1: 1.0000 - val_auc: 1.0000\n",
      "Epoch 18/25\n",
      "687/687 - 11s - loss: 0.0042 - accuracy: 0.9987 - precision_1: 0.9989 - recall_1: 0.9987 - auc: 1.0000 - val_loss: 9.5221e-05 - val_accuracy: 1.0000 - val_precision_1: 1.0000 - val_recall_1: 1.0000 - val_auc: 1.0000\n",
      "Epoch 19/25\n",
      "687/687 - 10s - loss: 0.0033 - accuracy: 0.9993 - precision_1: 0.9994 - recall_1: 0.9992 - auc: 1.0000 - val_loss: 2.4573e-04 - val_accuracy: 0.9998 - val_precision_1: 0.9998 - val_recall_1: 0.9998 - val_auc: 1.0000\n",
      "Epoch 20/25\n",
      "687/687 - 10s - loss: 0.0041 - accuracy: 0.9986 - precision_1: 0.9987 - recall_1: 0.9985 - auc: 1.0000 - val_loss: 6.4895e-05 - val_accuracy: 1.0000 - val_precision_1: 1.0000 - val_recall_1: 1.0000 - val_auc: 1.0000\n",
      "Epoch 21/25\n",
      "687/687 - 11s - loss: 0.0033 - accuracy: 0.9991 - precision_1: 0.9992 - recall_1: 0.9991 - auc: 1.0000 - val_loss: 7.6326e-05 - val_accuracy: 1.0000 - val_precision_1: 1.0000 - val_recall_1: 1.0000 - val_auc: 1.0000\n",
      "Epoch 22/25\n",
      "687/687 - 10s - loss: 0.0036 - accuracy: 0.9991 - precision_1: 0.9991 - recall_1: 0.9990 - auc: 1.0000 - val_loss: 5.5552e-05 - val_accuracy: 1.0000 - val_precision_1: 1.0000 - val_recall_1: 1.0000 - val_auc: 1.0000\n",
      "Epoch 23/25\n",
      "687/687 - 10s - loss: 0.0039 - accuracy: 0.9990 - precision_1: 0.9991 - recall_1: 0.9989 - auc: 1.0000 - val_loss: 1.2213e-04 - val_accuracy: 1.0000 - val_precision_1: 1.0000 - val_recall_1: 1.0000 - val_auc: 1.0000\n",
      "Epoch 24/25\n",
      "687/687 - 10s - loss: 0.0040 - accuracy: 0.9987 - precision_1: 0.9988 - recall_1: 0.9986 - auc: 1.0000 - val_loss: 6.5142e-05 - val_accuracy: 1.0000 - val_precision_1: 1.0000 - val_recall_1: 1.0000 - val_auc: 1.0000\n",
      "Epoch 25/25\n",
      "687/687 - 10s - loss: 0.0035 - accuracy: 0.9990 - precision_1: 0.9991 - recall_1: 0.9990 - auc: 1.0000 - val_loss: 5.4309e-05 - val_accuracy: 1.0000 - val_precision_1: 1.0000 - val_recall_1: 1.0000 - val_auc: 1.0000\n"
     ]
    }
   ],
   "source": [
    "history_elu = model_elu.fit(generator.flow(X_train, y_train, batch_size=32), \\\n",
    "                    epochs=25, \\\n",
    "                    validation_data=generator.flow(X_val,y_val,batch_size=32), \\\n",
    "                    callbacks=cb_elu,\n",
    "                    verbose=2)"
   ]
  },
  {
   "cell_type": "code",
   "execution_count": 18,
   "id": "focused-showcase",
   "metadata": {
    "execution": {
     "iopub.execute_input": "2021-10-09T10:43:07.595139Z",
     "iopub.status.busy": "2021-10-09T10:43:07.593631Z",
     "iopub.status.idle": "2021-10-09T10:43:07.596345Z",
     "shell.execute_reply": "2021-10-09T10:43:07.596812Z",
     "shell.execute_reply.started": "2021-10-09T10:19:55.375020Z"
    },
    "papermill": {
     "duration": 0.058005,
     "end_time": "2021-10-09T10:43:07.596981",
     "exception": false,
     "start_time": "2021-10-09T10:43:07.538976",
     "status": "completed"
    },
    "tags": []
   },
   "outputs": [],
   "source": [
    "def plot_learning_curve(history, activation_func):\n",
    "    print(f\"learning curve of model with activation {activation_func}\")\n",
    "    fig = plt.figure(figsize=(12, 5))\n",
    "    plt.subplot(1,2,1)\n",
    "    plt.plot(history.history['accuracy'])\n",
    "    plt.plot(history.history['val_accuracy'])\n",
    "    plt.legend(['accuracy', 'val_accuracy'])\n",
    "    plt.subplot(1,2,2)\n",
    "    plt.plot(history.history['loss'])\n",
    "    plt.plot(history.history['val_loss'])\n",
    "    plt.legend(['loss', 'val_loss'])\n",
    "    plt.show()"
   ]
  },
  {
   "cell_type": "code",
   "execution_count": 19,
   "id": "similar-shell",
   "metadata": {
    "execution": {
     "iopub.execute_input": "2021-10-09T10:43:07.711135Z",
     "iopub.status.busy": "2021-10-09T10:43:07.710284Z",
     "iopub.status.idle": "2021-10-09T10:43:07.946819Z",
     "shell.execute_reply": "2021-10-09T10:43:07.947292Z",
     "shell.execute_reply.started": "2021-10-09T10:19:57.399985Z"
    },
    "papermill": {
     "duration": 0.30319,
     "end_time": "2021-10-09T10:43:07.947447",
     "exception": false,
     "start_time": "2021-10-09T10:43:07.644257",
     "status": "completed"
    },
    "tags": []
   },
   "outputs": [
    {
     "name": "stdout",
     "output_type": "stream",
     "text": [
      "learning curve of model with activation relu\n"
     ]
    },
    {
     "data": {
      "image/png": "[encoded data removed]",
      "text/plain": [
       "<Figure size 864x360 with 2 Axes>"
      ]
     },
     "metadata": {
      "needs_background": "light"
     },
     "output_type": "display_data"
    }
   ],
   "source": [
    "plot_learning_curve(history_relu, relu.__name__)"
   ]
  },
  {
   "cell_type": "code",
   "execution_count": 20,
   "id": "mexican-kuwait",
   "metadata": {
    "execution": {
     "iopub.execute_input": "2021-10-09T10:43:08.052514Z",
     "iopub.status.busy": "2021-10-09T10:43:08.051681Z",
     "iopub.status.idle": "2021-10-09T10:43:08.308705Z",
     "shell.execute_reply": "2021-10-09T10:43:08.309125Z",
     "shell.execute_reply.started": "2021-10-09T10:20:00.285448Z"
    },
    "papermill": {
     "duration": 0.313666,
     "end_time": "2021-10-09T10:43:08.309263",
     "exception": false,
     "start_time": "2021-10-09T10:43:07.995597",
     "status": "completed"
    },
    "tags": []
   },
   "outputs": [
    {
     "name": "stdout",
     "output_type": "stream",
     "text": [
      "learning curve of model with activation elu\n"
     ]
    },
    {
     "data": {
      "image/png": "[encoded data removed]",
      "text/plain": [
       "<Figure size 864x360 with 2 Axes>"
      ]
     },
     "metadata": {
      "needs_background": "light"
     },
     "output_type": "display_data"
    }
   ],
   "source": [
    "plot_learning_curve(history_elu, elu.__name__)"
   ]
  },
  {
   "cell_type": "code",
   "execution_count": 21,
   "id": "opened-beast",
   "metadata": {
    "execution": {
     "iopub.execute_input": "2021-10-09T10:43:08.421355Z",
     "iopub.status.busy": "2021-10-09T10:43:08.420685Z",
     "iopub.status.idle": "2021-10-09T10:43:09.364019Z",
     "shell.execute_reply": "2021-10-09T10:43:09.364724Z",
     "shell.execute_reply.started": "2021-10-09T10:20:08.709765Z"
    },
    "papermill": {
     "duration": 1.005943,
     "end_time": "2021-10-09T10:43:09.364906",
     "exception": false,
     "start_time": "2021-10-09T10:43:08.358963",
     "status": "completed"
    },
    "tags": []
   },
   "outputs": [
    {
     "data": {
      "text/html": [
       "<div>\n",
       "<style scoped>\n",
       "    .dataframe tbody tr th:only-of-type {\n",
       "        vertical-align: middle;\n",
       "    }\n",
       "\n",
       "    .dataframe tbody tr th {\n",
       "        vertical-align: top;\n",
       "    }\n",
       "\n",
       "    .dataframe thead th {\n",
       "        text-align: right;\n",
       "    }\n",
       "</style>\n",
       "<table border=\"1\" class=\"dataframe\">\n",
       "  <thead>\n",
       "    <tr style=\"text-align: right;\">\n",
       "      <th></th>\n",
       "      <th>label</th>\n",
       "      <th>pixel1</th>\n",
       "      <th>pixel2</th>\n",
       "      <th>pixel3</th>\n",
       "      <th>pixel4</th>\n",
       "      <th>pixel5</th>\n",
       "      <th>pixel6</th>\n",
       "      <th>pixel7</th>\n",
       "      <th>pixel8</th>\n",
       "      <th>pixel9</th>\n",
       "      <th>...</th>\n",
       "      <th>pixel775</th>\n",
       "      <th>pixel776</th>\n",
       "      <th>pixel777</th>\n",
       "      <th>pixel778</th>\n",
       "      <th>pixel779</th>\n",
       "      <th>pixel780</th>\n",
       "      <th>pixel781</th>\n",
       "      <th>pixel782</th>\n",
       "      <th>pixel783</th>\n",
       "      <th>pixel784</th>\n",
       "    </tr>\n",
       "  </thead>\n",
       "  <tbody>\n",
       "    <tr>\n",
       "      <th>0</th>\n",
       "      <td>6</td>\n",
       "      <td>149</td>\n",
       "      <td>149</td>\n",
       "      <td>150</td>\n",
       "      <td>150</td>\n",
       "      <td>150</td>\n",
       "      <td>151</td>\n",
       "      <td>151</td>\n",
       "      <td>150</td>\n",
       "      <td>151</td>\n",
       "      <td>...</td>\n",
       "      <td>138</td>\n",
       "      <td>148</td>\n",
       "      <td>127</td>\n",
       "      <td>89</td>\n",
       "      <td>82</td>\n",
       "      <td>96</td>\n",
       "      <td>106</td>\n",
       "      <td>112</td>\n",
       "      <td>120</td>\n",
       "      <td>107</td>\n",
       "    </tr>\n",
       "    <tr>\n",
       "      <th>1</th>\n",
       "      <td>5</td>\n",
       "      <td>126</td>\n",
       "      <td>128</td>\n",
       "      <td>131</td>\n",
       "      <td>132</td>\n",
       "      <td>133</td>\n",
       "      <td>134</td>\n",
       "      <td>135</td>\n",
       "      <td>135</td>\n",
       "      <td>136</td>\n",
       "      <td>...</td>\n",
       "      <td>47</td>\n",
       "      <td>104</td>\n",
       "      <td>194</td>\n",
       "      <td>183</td>\n",
       "      <td>186</td>\n",
       "      <td>184</td>\n",
       "      <td>184</td>\n",
       "      <td>184</td>\n",
       "      <td>182</td>\n",
       "      <td>180</td>\n",
       "    </tr>\n",
       "    <tr>\n",
       "      <th>2</th>\n",
       "      <td>10</td>\n",
       "      <td>85</td>\n",
       "      <td>88</td>\n",
       "      <td>92</td>\n",
       "      <td>96</td>\n",
       "      <td>105</td>\n",
       "      <td>123</td>\n",
       "      <td>135</td>\n",
       "      <td>143</td>\n",
       "      <td>147</td>\n",
       "      <td>...</td>\n",
       "      <td>68</td>\n",
       "      <td>166</td>\n",
       "      <td>242</td>\n",
       "      <td>227</td>\n",
       "      <td>230</td>\n",
       "      <td>227</td>\n",
       "      <td>226</td>\n",
       "      <td>225</td>\n",
       "      <td>224</td>\n",
       "      <td>222</td>\n",
       "    </tr>\n",
       "    <tr>\n",
       "      <th>3</th>\n",
       "      <td>0</td>\n",
       "      <td>203</td>\n",
       "      <td>205</td>\n",
       "      <td>207</td>\n",
       "      <td>206</td>\n",
       "      <td>207</td>\n",
       "      <td>209</td>\n",
       "      <td>210</td>\n",
       "      <td>209</td>\n",
       "      <td>210</td>\n",
       "      <td>...</td>\n",
       "      <td>154</td>\n",
       "      <td>248</td>\n",
       "      <td>247</td>\n",
       "      <td>248</td>\n",
       "      <td>253</td>\n",
       "      <td>236</td>\n",
       "      <td>230</td>\n",
       "      <td>240</td>\n",
       "      <td>253</td>\n",
       "      <td>255</td>\n",
       "    </tr>\n",
       "    <tr>\n",
       "      <th>4</th>\n",
       "      <td>3</td>\n",
       "      <td>188</td>\n",
       "      <td>191</td>\n",
       "      <td>193</td>\n",
       "      <td>195</td>\n",
       "      <td>199</td>\n",
       "      <td>201</td>\n",
       "      <td>202</td>\n",
       "      <td>203</td>\n",
       "      <td>203</td>\n",
       "      <td>...</td>\n",
       "      <td>26</td>\n",
       "      <td>40</td>\n",
       "      <td>64</td>\n",
       "      <td>48</td>\n",
       "      <td>29</td>\n",
       "      <td>46</td>\n",
       "      <td>49</td>\n",
       "      <td>46</td>\n",
       "      <td>46</td>\n",
       "      <td>53</td>\n",
       "    </tr>\n",
       "  </tbody>\n",
       "</table>\n",
       "<p>5 rows × 785 columns</p>\n",
       "</div>"
      ],
      "text/plain": [
       "   label  pixel1  pixel2  pixel3  pixel4  pixel5  pixel6  pixel7  pixel8  \\\n",
       "0      6     149     149     150     150     150     151     151     150   \n",
       "1      5     126     128     131     132     133     134     135     135   \n",
       "2     10      85      88      92      96     105     123     135     143   \n",
       "3      0     203     205     207     206     207     209     210     209   \n",
       "4      3     188     191     193     195     199     201     202     203   \n",
       "\n",
       "   pixel9  ...  pixel775  pixel776  pixel777  pixel778  pixel779  pixel780  \\\n",
       "0     151  ...       138       148       127        89        82        96   \n",
       "1     136  ...        47       104       194       183       186       184   \n",
       "2     147  ...        68       166       242       227       230       227   \n",
       "3     210  ...       154       248       247       248       253       236   \n",
       "4     203  ...        26        40        64        48        29        46   \n",
       "\n",
       "   pixel781  pixel782  pixel783  pixel784  \n",
       "0       106       112       120       107  \n",
       "1       184       184       182       180  \n",
       "2       226       225       224       222  \n",
       "3       230       240       253       255  \n",
       "4        49        46        46        53  \n",
       "\n",
       "[5 rows x 785 columns]"
      ]
     },
     "execution_count": 21,
     "metadata": {},
     "output_type": "execute_result"
    }
   ],
   "source": [
    "# evaluate model on unseen data\n",
    "test = pd.read_csv(test_path)\n",
    "test.head()"
   ]
  },
  {
   "cell_type": "code",
   "execution_count": 22,
   "id": "strange-coach",
   "metadata": {
    "execution": {
     "iopub.execute_input": "2021-10-09T10:43:09.471658Z",
     "iopub.status.busy": "2021-10-09T10:43:09.470885Z",
     "iopub.status.idle": "2021-10-09T10:43:09.897123Z",
     "shell.execute_reply": "2021-10-09T10:43:09.897540Z",
     "shell.execute_reply.started": "2021-10-09T10:20:11.775220Z"
    },
    "papermill": {
     "duration": 0.481819,
     "end_time": "2021-10-09T10:43:09.897689",
     "exception": false,
     "start_time": "2021-10-09T10:43:09.415870",
     "status": "completed"
    },
    "tags": []
   },
   "outputs": [
    {
     "data": {
      "image/png": "[encoded data removed]",
      "text/plain": [
       "<Figure size 720x360 with 1 Axes>"
      ]
     },
     "metadata": {
      "needs_background": "light"
     },
     "output_type": "display_data"
    }
   ],
   "source": [
    "fig = plt.figure(figsize=(10,5))\n",
    "ax = sns.countplot(x='label', data=test, palette='Accent')\n",
    "plt.show()"
   ]
  },
  {
   "cell_type": "code",
   "execution_count": 23,
   "id": "available-reviewer",
   "metadata": {
    "execution": {
     "iopub.execute_input": "2021-10-09T10:43:10.015637Z",
     "iopub.status.busy": "2021-10-09T10:43:10.014897Z",
     "iopub.status.idle": "2021-10-09T10:43:10.017792Z",
     "shell.execute_reply": "2021-10-09T10:43:10.017374Z",
     "shell.execute_reply.started": "2021-10-09T10:20:15.134105Z"
    },
    "papermill": {
     "duration": 0.069721,
     "end_time": "2021-10-09T10:43:10.017924",
     "exception": false,
     "start_time": "2021-10-09T10:43:09.948203",
     "status": "completed"
    },
    "tags": []
   },
   "outputs": [],
   "source": [
    "X_test = test.drop('label', axis=1)\n",
    "y_test = test['label']\n",
    "X_test = reshape_bw(X_test)\n",
    "y_test = to_categorical(y_test)"
   ]
  },
  {
   "cell_type": "code",
   "execution_count": 24,
   "id": "alpine-recipe",
   "metadata": {
    "execution": {
     "iopub.execute_input": "2021-10-09T10:43:10.124326Z",
     "iopub.status.busy": "2021-10-09T10:43:10.123651Z",
     "iopub.status.idle": "2021-10-09T10:43:10.127137Z",
     "shell.execute_reply": "2021-10-09T10:43:10.126700Z",
     "shell.execute_reply.started": "2021-10-09T10:23:30.686656Z"
    },
    "papermill": {
     "duration": 0.058899,
     "end_time": "2021-10-09T10:43:10.127243",
     "exception": false,
     "start_time": "2021-10-09T10:43:10.068344",
     "status": "completed"
    },
    "tags": []
   },
   "outputs": [],
   "source": [
    "def evaluate(model, activation_func):\n",
    "    print(f\"evaluating model with {activation_func} activation\")\n",
    "    loss, acc, pre, rec, auc = model.evaluate(generator.flow(X_test,y_test,batch_size=32))\n",
    "    print()\n",
    "    print(f\"test loss: {loss}\")\n",
    "    print(f\"test accuracy: {round(acc*100,2)} %\")\n",
    "    print(f\"test precision: {pre}\")\n",
    "    print(f\"test recall: {rec}\")\n",
    "    print(f\"test AUC: {auc}\")\n",
    "    print()\n",
    "    index = 2001\n",
    "    print(f\"label: {np.argmax(model.predict(np.expand_dims([X_test[index]], axis=-1), verbose=0))}\")\n",
    "    print(f\"actual label: {np.argmax(y_test[index], axis=-1)}\")\n",
    "    plot_image(X_test[index], width)"
   ]
  },
  {
   "cell_type": "code",
   "execution_count": 25,
   "id": "stretch-danish",
   "metadata": {
    "execution": {
     "iopub.execute_input": "2021-10-09T10:43:10.232455Z",
     "iopub.status.busy": "2021-10-09T10:43:10.231581Z",
     "iopub.status.idle": "2021-10-09T10:43:13.251472Z",
     "shell.execute_reply": "2021-10-09T10:43:13.250672Z",
     "shell.execute_reply.started": "2021-10-09T10:23:32.892591Z"
    },
    "papermill": {
     "duration": 3.074003,
     "end_time": "2021-10-09T10:43:13.251600",
     "exception": false,
     "start_time": "2021-10-09T10:43:10.177597",
     "status": "completed"
    },
    "tags": []
   },
   "outputs": [
    {
     "name": "stdout",
     "output_type": "stream",
     "text": [
      "evaluating model with relu activation\n",
      "225/225 [==============================] - 3s 12ms/step - loss: 8.8592e-04 - accuracy: 0.9997 - precision: 0.9999 - recall: 0.9996 - auc: 1.0000\n",
      "\n",
      "test loss: 0.0008859235676936805\n",
      "test accuracy: 99.97 %\n",
      "test precision: 0.9998605251312256\n",
      "test recall: 0.9995816946029663\n",
      "test AUC: 0.9999999403953552\n",
      "\n",
      "label: 2\n",
      "actual label: 2\n"
     ]
    },
    {
     "data": {
      "image/png": "[encoded data removed]",
      "text/plain": [
       "<Figure size 432x288 with 1 Axes>"
      ]
     },
     "metadata": {
      "needs_background": "light"
     },
     "output_type": "display_data"
    }
   ],
   "source": [
    "evaluate(model_relu, relu.__name__)"
   ]
  },
  {
   "cell_type": "code",
   "execution_count": 26,
   "id": "herbal-enclosure",
   "metadata": {
    "execution": {
     "iopub.execute_input": "2021-10-09T10:43:13.383484Z",
     "iopub.status.busy": "2021-10-09T10:43:13.382580Z",
     "iopub.status.idle": "2021-10-09T10:43:16.343392Z",
     "shell.execute_reply": "2021-10-09T10:43:16.342586Z",
     "shell.execute_reply.started": "2021-10-09T10:23:36.665648Z"
    },
    "papermill": {
     "duration": 3.028081,
     "end_time": "2021-10-09T10:43:16.343530",
     "exception": false,
     "start_time": "2021-10-09T10:43:13.315449",
     "status": "completed"
    },
    "tags": []
   },
   "outputs": [
    {
     "name": "stdout",
     "output_type": "stream",
     "text": [
      "evaluating model with elu activation\n",
      "225/225 [==============================] - 3s 12ms/step - loss: 0.0042 - accuracy: 0.9986 - precision_1: 0.9987 - recall_1: 0.9985 - auc: 0.9999\n",
      "\n",
      "test loss: 0.004163230769336224\n",
      "test accuracy: 99.86 %\n",
      "test precision: 0.998744785785675\n",
      "test recall: 0.9984662532806396\n",
      "test AUC: 0.9999299049377441\n",
      "\n",
      "label: 2\n",
      "actual label: 2\n"
     ]
    },
    {
     "data": {
      "image/png": "[encoded data removed]",
      "text/plain": [
       "<Figure size 432x288 with 1 Axes>"
      ]
     },
     "metadata": {
      "needs_background": "light"
     },
     "output_type": "display_data"
    }
   ],
   "source": [
    "evaluate(model_elu, elu.__name__)"
   ]
  },
  {
   "cell_type": "code",
   "execution_count": 27,
   "id": "lesser-lawrence",
   "metadata": {
    "execution": {
     "iopub.execute_input": "2021-10-09T10:43:16.508005Z",
     "iopub.status.busy": "2021-10-09T10:43:16.507461Z",
     "iopub.status.idle": "2021-10-09T10:43:16.510924Z",
     "shell.execute_reply": "2021-10-09T10:43:16.511429Z",
     "shell.execute_reply.started": "2021-10-09T10:32:53.501012Z"
    },
    "papermill": {
     "duration": 0.087593,
     "end_time": "2021-10-09T10:43:16.511566",
     "exception": false,
     "start_time": "2021-10-09T10:43:16.423973",
     "status": "completed"
    },
    "tags": []
   },
   "outputs": [],
   "source": [
    "from sklearn.metrics import confusion_matrix\n",
    "def plot_confmat(model, activation_func):   \n",
    "    print(f\"confusion matrix of model with {activation_func} activation\")\n",
    "    cm = confusion_matrix(test['label'], model.predict(X_test).argmax(-1))\n",
    "    plt.figure(figsize=(10,8))\n",
    "    sns.heatmap(cm, cmap=plt.cm.Purples)\n",
    "    plt.ylabel('actual')\n",
    "    plt.xlabel('predicted')\n",
    "    plt.show()"
   ]
  },
  {
   "cell_type": "code",
   "execution_count": 28,
   "id": "entire-clause",
   "metadata": {
    "execution": {
     "iopub.execute_input": "2021-10-09T10:43:16.670931Z",
     "iopub.status.busy": "2021-10-09T10:43:16.669214Z",
     "iopub.status.idle": "2021-10-09T10:43:17.679407Z",
     "shell.execute_reply": "2021-10-09T10:43:17.678953Z",
     "shell.execute_reply.started": "2021-10-09T10:33:03.659765Z"
    },
    "papermill": {
     "duration": 1.090138,
     "end_time": "2021-10-09T10:43:17.679533",
     "exception": false,
     "start_time": "2021-10-09T10:43:16.589395",
     "status": "completed"
    },
    "tags": []
   },
   "outputs": [
    {
     "name": "stdout",
     "output_type": "stream",
     "text": [
      "confusion matrix of model with relu activation\n"
     ]
    },
    {
     "data": {
      "image/png": "[encoded data removed]",
      "text/plain": [
       "<Figure size 720x576 with 2 Axes>"
      ]
     },
     "metadata": {
      "needs_background": "light"
     },
     "output_type": "display_data"
    }
   ],
   "source": [
    "plot_confmat(model_relu, relu.__name__)"
   ]
  },
  {
   "cell_type": "code",
   "execution_count": 29,
   "id": "boring-respect",
   "metadata": {
    "execution": {
     "iopub.execute_input": "2021-10-09T10:43:17.923953Z",
     "iopub.status.busy": "2021-10-09T10:43:17.922877Z",
     "iopub.status.idle": "2021-10-09T10:43:19.040329Z",
     "shell.execute_reply": "2021-10-09T10:43:19.039898Z",
     "shell.execute_reply.started": "2021-10-09T10:33:16.713956Z"
    },
    "papermill": {
     "duration": 1.259559,
     "end_time": "2021-10-09T10:43:19.040453",
     "exception": false,
     "start_time": "2021-10-09T10:43:17.780894",
     "status": "completed"
    },
    "tags": []
   },
   "outputs": [
    {
     "name": "stdout",
     "output_type": "stream",
     "text": [
      "confusion matrix of model with elu activation\n"
     ]
    },
    {
     "data": {
      "image/png": "[encoded data removed]",
      "text/plain": [
       "<Figure size 720x576 with 2 Axes>"
      ]
     },
     "metadata": {
      "needs_background": "light"
     },
     "output_type": "display_data"
    }
   ],
   "source": [
    "plot_confmat(model_elu, elu.__name__)"
   ]
  }
 ],
 "metadata": {
  "kernelspec": {
   "display_name": "Python 3",
   "language": "python",
   "name": "python3"
  },
  "language_info": {
   "codemirror_mode": {
    "name": "ipython",
    "version": 3
   },
   "file_extension": ".py",
   "mimetype": "text/x-python",
   "name": "python",
   "nbconvert_exporter": "python",
   "pygments_lexer": "ipython3",
   "version": "3.7.10"
  },
  "papermill": {
   "default_parameters": {},
   "duration": 552.799366,
   "end_time": "2021-10-09T10:43:21.888368",
   "environment_variables": {},
   "exception": null,
   "input_path": "__notebook__.ipynb",
   "output_path": "__notebook__.ipynb",
   "parameters": {},
   "start_time": "2021-10-09T10:34:09.089002",
   "version": "2.3.3"
  }
 },
 "nbformat": 4,
 "nbformat_minor": 5
}
