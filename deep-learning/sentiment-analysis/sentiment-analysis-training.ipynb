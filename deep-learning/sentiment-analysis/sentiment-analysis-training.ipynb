{
 "cells": [
  {
   "cell_type": "markdown",
   "id": "3cba2d40",
   "metadata": {},
   "source": [
    "### Amazon Product Review Sentiment Analysis\n",
    "- Perform Data Preparation, Create Sentiment Analysis Models and Evaluate Model Ability to Classify New Data\n",
    "- The purpose is to Build Sentiment Analysis Models using Multinomial Naive Bayes as well as LSTM Neural Network and to Assess the Models Prediction Capability"
   ]
  },
  {
   "cell_type": "markdown",
   "id": "142d972d",
   "metadata": {
    "papermill": {
     "duration": 0.038977,
     "end_time": "2022-01-21T08:33:33.650280",
     "exception": false,
     "start_time": "2022-01-21T08:33:33.611303",
     "status": "completed"
    },
    "tags": []
   },
   "source": [
    "#### Import Required Libraries"
   ]
  },
  {
   "cell_type": "code",
   "execution_count": 1,
   "id": "af6ee64a",
   "metadata": {
    "_cell_guid": "b1076dfc-b9ad-4769-8c92-a6c4dae69d19",
    "_uuid": "8f2839f25d086af736a60e9eeb907d3b93b6e0e5",
    "execution": {
     "iopub.execute_input": "2022-01-21T08:33:33.719766Z",
     "iopub.status.busy": "2022-01-21T08:33:33.718601Z",
     "iopub.status.idle": "2022-01-21T08:33:39.314242Z",
     "shell.execute_reply": "2022-01-21T08:33:39.313572Z",
     "shell.execute_reply.started": "2022-01-21T08:09:41.861840Z"
    },
    "papermill": {
     "duration": 5.630962,
     "end_time": "2022-01-21T08:33:39.314408",
     "exception": false,
     "start_time": "2022-01-21T08:33:33.683446",
     "status": "completed"
    },
    "tags": []
   },
   "outputs": [],
   "source": [
    "import pandas as pd\n",
    "import seaborn as sns\n",
    "import matplotlib.pyplot as plt\n",
    "import tensorflow as tf\n",
    "import numpy as np\n",
    "from sklearn.metrics import classification_report, confusion_matrix, roc_auc_score, roc_curve\n",
    "from sklearn.utils import compute_class_weight\n",
    "from sklearn.model_selection import train_test_split\n",
    "from sklearn.naive_bayes import MultinomialNB\n",
    "from sklearn.feature_extraction.text import CountVectorizer\n",
    "import pickle\n",
    "\n",
    "plt.style.use('fivethirtyeight')"
   ]
  },
  {
   "cell_type": "markdown",
   "id": "978fdc74",
   "metadata": {
    "papermill": {
     "duration": 0.030087,
     "end_time": "2022-01-21T08:33:39.375259",
     "exception": false,
     "start_time": "2022-01-21T08:33:39.345172",
     "status": "completed"
    },
    "tags": []
   },
   "source": [
    "#### Load Data\n",
    "- load train and test data that were previously cleaned and stored as CSV file format"
   ]
  },
  {
   "cell_type": "code",
   "execution_count": 2,
   "id": "458d17c6",
   "metadata": {
    "execution": {
     "iopub.execute_input": "2022-01-21T08:33:39.441344Z",
     "iopub.status.busy": "2022-01-21T08:33:39.440504Z",
     "iopub.status.idle": "2022-01-21T08:33:39.443211Z",
     "shell.execute_reply": "2022-01-21T08:33:39.442716Z",
     "shell.execute_reply.started": "2022-01-21T08:09:47.691190Z"
    },
    "papermill": {
     "duration": 0.037468,
     "end_time": "2022-01-21T08:33:39.443372",
     "exception": false,
     "start_time": "2022-01-21T08:33:39.405904",
     "status": "completed"
    },
    "tags": []
   },
   "outputs": [],
   "source": [
    "train_path = \"../input/amazon-cleaned-reviews/train.csv\"\n",
    "test_path = \"../input/amazon-cleaned-reviews/test.csv\"\n",
    "tokenizer_path = \"../input/amazon-cleaned-reviews/tokenizer.pkl\""
   ]
  },
  {
   "cell_type": "code",
   "execution_count": 3,
   "id": "0454fe1c",
   "metadata": {
    "execution": {
     "iopub.execute_input": "2022-01-21T08:33:39.507577Z",
     "iopub.status.busy": "2022-01-21T08:33:39.506966Z",
     "iopub.status.idle": "2022-01-21T08:33:40.656764Z",
     "shell.execute_reply": "2022-01-21T08:33:40.657231Z",
     "shell.execute_reply.started": "2022-01-21T08:09:47.696755Z"
    },
    "papermill": {
     "duration": 1.183244,
     "end_time": "2022-01-21T08:33:40.657399",
     "exception": false,
     "start_time": "2022-01-21T08:33:39.474155",
     "status": "completed"
    },
    "tags": []
   },
   "outputs": [
    {
     "data": {
      "text/html": [
       "<div>\n",
       "<style scoped>\n",
       "    .dataframe tbody tr th:only-of-type {\n",
       "        vertical-align: middle;\n",
       "    }\n",
       "\n",
       "    .dataframe tbody tr th {\n",
       "        vertical-align: top;\n",
       "    }\n",
       "\n",
       "    .dataframe thead th {\n",
       "        text-align: right;\n",
       "    }\n",
       "</style>\n",
       "<table border=\"1\" class=\"dataframe\">\n",
       "  <thead>\n",
       "    <tr style=\"text-align: right;\">\n",
       "      <th></th>\n",
       "      <th>target</th>\n",
       "      <th>text</th>\n",
       "    </tr>\n",
       "  </thead>\n",
       "  <tbody>\n",
       "    <tr>\n",
       "      <th>0</th>\n",
       "      <td>positive</td>\n",
       "      <td>stuning even for the non gamer this sound trac...</td>\n",
       "    </tr>\n",
       "    <tr>\n",
       "      <th>1</th>\n",
       "      <td>positive</td>\n",
       "      <td>the best soundtrack ever to anything i am read...</td>\n",
       "    </tr>\n",
       "    <tr>\n",
       "      <th>2</th>\n",
       "      <td>positive</td>\n",
       "      <td>amazing this soundtrack is my favorite music o...</td>\n",
       "    </tr>\n",
       "    <tr>\n",
       "      <th>3</th>\n",
       "      <td>positive</td>\n",
       "      <td>excellent soundtrack i truly like this soundtr...</td>\n",
       "    </tr>\n",
       "    <tr>\n",
       "      <th>4</th>\n",
       "      <td>positive</td>\n",
       "      <td>remember pull your jaw off the floor after hea...</td>\n",
       "    </tr>\n",
       "  </tbody>\n",
       "</table>\n",
       "</div>"
      ],
      "text/plain": [
       "     target                                               text\n",
       "0  positive  stuning even for the non gamer this sound trac...\n",
       "1  positive  the best soundtrack ever to anything i am read...\n",
       "2  positive  amazing this soundtrack is my favorite music o...\n",
       "3  positive  excellent soundtrack i truly like this soundtr...\n",
       "4  positive  remember pull your jaw off the floor after hea..."
      ]
     },
     "execution_count": 3,
     "metadata": {},
     "output_type": "execute_result"
    }
   ],
   "source": [
    "train = pd.read_csv(train_path)\n",
    "test = pd.read_csv(test_path)\n",
    "\n",
    "train.head()"
   ]
  },
  {
   "cell_type": "code",
   "execution_count": 4,
   "id": "5c9334fe",
   "metadata": {
    "execution": {
     "iopub.execute_input": "2022-01-21T08:33:40.731054Z",
     "iopub.status.busy": "2022-01-21T08:33:40.730344Z",
     "iopub.status.idle": "2022-01-21T08:33:40.734264Z",
     "shell.execute_reply": "2022-01-21T08:33:40.733717Z",
     "shell.execute_reply.started": "2022-01-21T08:09:51.783290Z"
    },
    "papermill": {
     "duration": 0.043801,
     "end_time": "2022-01-21T08:33:40.734397",
     "exception": false,
     "start_time": "2022-01-21T08:33:40.690596",
     "status": "completed"
    },
    "tags": []
   },
   "outputs": [
    {
     "data": {
      "text/html": [
       "<div>\n",
       "<style scoped>\n",
       "    .dataframe tbody tr th:only-of-type {\n",
       "        vertical-align: middle;\n",
       "    }\n",
       "\n",
       "    .dataframe tbody tr th {\n",
       "        vertical-align: top;\n",
       "    }\n",
       "\n",
       "    .dataframe thead th {\n",
       "        text-align: right;\n",
       "    }\n",
       "</style>\n",
       "<table border=\"1\" class=\"dataframe\">\n",
       "  <thead>\n",
       "    <tr style=\"text-align: right;\">\n",
       "      <th></th>\n",
       "      <th>target</th>\n",
       "      <th>text</th>\n",
       "    </tr>\n",
       "  </thead>\n",
       "  <tbody>\n",
       "    <tr>\n",
       "      <th>0</th>\n",
       "      <td>positive</td>\n",
       "      <td>great cd my lovely pat has one of the great vo...</td>\n",
       "    </tr>\n",
       "    <tr>\n",
       "      <th>1</th>\n",
       "      <td>positive</td>\n",
       "      <td>one of the best game music soundtracks for a g...</td>\n",
       "    </tr>\n",
       "    <tr>\n",
       "      <th>2</th>\n",
       "      <td>negative</td>\n",
       "      <td>batteries died within a year i bought this cha...</td>\n",
       "    </tr>\n",
       "    <tr>\n",
       "      <th>3</th>\n",
       "      <td>positive</td>\n",
       "      <td>works fine but maha energy is better check out...</td>\n",
       "    </tr>\n",
       "    <tr>\n",
       "      <th>4</th>\n",
       "      <td>positive</td>\n",
       "      <td>great for the non audiophile reviewed quite a ...</td>\n",
       "    </tr>\n",
       "  </tbody>\n",
       "</table>\n",
       "</div>"
      ],
      "text/plain": [
       "     target                                               text\n",
       "0  positive  great cd my lovely pat has one of the great vo...\n",
       "1  positive  one of the best game music soundtracks for a g...\n",
       "2  negative  batteries died within a year i bought this cha...\n",
       "3  positive  works fine but maha energy is better check out...\n",
       "4  positive  great for the non audiophile reviewed quite a ..."
      ]
     },
     "execution_count": 4,
     "metadata": {},
     "output_type": "execute_result"
    }
   ],
   "source": [
    "test.head()"
   ]
  },
  {
   "cell_type": "markdown",
   "id": "20e3259c",
   "metadata": {
    "papermill": {
     "duration": 0.030608,
     "end_time": "2022-01-21T08:33:40.796533",
     "exception": false,
     "start_time": "2022-01-21T08:33:40.765925",
     "status": "completed"
    },
    "tags": []
   },
   "source": [
    "#### Data Splitting\n",
    "- split data into train set for model training and validation set for model as well as hyperparameter selection"
   ]
  },
  {
   "cell_type": "code",
   "execution_count": 5,
   "id": "f45faab5",
   "metadata": {
    "execution": {
     "iopub.execute_input": "2022-01-21T08:33:40.877460Z",
     "iopub.status.busy": "2022-01-21T08:33:40.876806Z",
     "iopub.status.idle": "2022-01-21T08:33:41.058738Z",
     "shell.execute_reply": "2022-01-21T08:33:41.058105Z",
     "shell.execute_reply.started": "2022-01-21T08:18:30.390831Z"
    },
    "papermill": {
     "duration": 0.231358,
     "end_time": "2022-01-21T08:33:41.058880",
     "exception": false,
     "start_time": "2022-01-21T08:33:40.827522",
     "status": "completed"
    },
    "tags": []
   },
   "outputs": [
    {
     "name": "stdout",
     "output_type": "stream",
     "text": [
      "train input shape (90000,), train target shape (90000,)\n",
      "val input shape (10000,), val target shape (10000,)\n",
      "test input shape (3000,), test target shape (3000,)\n"
     ]
    }
   ],
   "source": [
    "train_text, val_text, train_target, val_target = train_test_split(train['text'], train['target'], test_size=0.1, random_state=42, stratify=train['target'])\n",
    "test_text, test_target = test['text'], test['target']\n",
    "\n",
    "print('train input shape {}, train target shape {}'.format(train_text.shape, train_target.shape))\n",
    "print('val input shape {}, val target shape {}'.format(val_text.shape, val_target.shape))\n",
    "print('test input shape {}, test target shape {}'.format(test_text.shape, test_target.shape))"
   ]
  },
  {
   "cell_type": "markdown",
   "id": "f510eb68",
   "metadata": {
    "papermill": {
     "duration": 0.03096,
     "end_time": "2022-01-21T08:33:41.121821",
     "exception": false,
     "start_time": "2022-01-21T08:33:41.090861",
     "status": "completed"
    },
    "tags": []
   },
   "source": [
    "#### Word Tokenization\n",
    "- load fitted tokenizer which is used to map text (sequence of words) into sequence of numbers\n",
    "- use tokenizer to label encode top 15K - 1 most common words\n",
    "- words that are unknown to tokenizer and model will be encoded as 1 because 0 is reserved to use for padding the transformed word sequences"
   ]
  },
  {
   "cell_type": "code",
   "execution_count": 6,
   "id": "0394b69d",
   "metadata": {
    "execution": {
     "iopub.execute_input": "2022-01-21T08:33:41.188421Z",
     "iopub.status.busy": "2022-01-21T08:33:41.187733Z",
     "iopub.status.idle": "2022-01-21T08:33:48.160491Z",
     "shell.execute_reply": "2022-01-21T08:33:48.159846Z",
     "shell.execute_reply.started": "2022-01-21T08:18:33.393945Z"
    },
    "papermill": {
     "duration": 7.007162,
     "end_time": "2022-01-21T08:33:48.160623",
     "exception": false,
     "start_time": "2022-01-21T08:33:41.153461",
     "status": "completed"
    },
    "tags": []
   },
   "outputs": [],
   "source": [
    "MAX_FEATURES = 15e3\n",
    "\n",
    "tokenizer = pickle.load(open(tokenizer_path, \"rb\"))\n",
    "\n",
    "train_tokens = tokenizer.texts_to_sequences(train_text)\n",
    "val_tokens = tokenizer.texts_to_sequences(val_text)\n",
    "test_tokens = tokenizer.texts_to_sequences(test_text)"
   ]
  },
  {
   "cell_type": "markdown",
   "id": "03752a5b",
   "metadata": {
    "papermill": {
     "duration": 0.031271,
     "end_time": "2022-01-21T08:33:48.223697",
     "exception": false,
     "start_time": "2022-01-21T08:33:48.192426",
     "status": "completed"
    },
    "tags": []
   },
   "source": [
    "#### Target Transformation\n",
    "- inverse transform labels from string to integer as model accepts numeric target"
   ]
  },
  {
   "cell_type": "code",
   "execution_count": 7,
   "id": "1e867a2a",
   "metadata": {
    "execution": {
     "iopub.execute_input": "2022-01-21T08:33:48.293036Z",
     "iopub.status.busy": "2022-01-21T08:33:48.292402Z",
     "iopub.status.idle": "2022-01-21T08:33:48.313665Z",
     "shell.execute_reply": "2022-01-21T08:33:48.314210Z",
     "shell.execute_reply.started": "2022-01-21T08:18:38.253847Z"
    },
    "papermill": {
     "duration": 0.059143,
     "end_time": "2022-01-21T08:33:48.314376",
     "exception": false,
     "start_time": "2022-01-21T08:33:48.255233",
     "status": "completed"
    },
    "tags": []
   },
   "outputs": [],
   "source": [
    "reverse_map = {\"positive\": 1, \"negative\": 0}\n",
    "\n",
    "encoded_train = train_target.map(reverse_map)\n",
    "encoded_val = val_target.map(reverse_map)\n",
    "encoded_test = test_target.map(reverse_map)"
   ]
  },
  {
   "cell_type": "markdown",
   "id": "82cc44d7",
   "metadata": {
    "papermill": {
     "duration": 0.031301,
     "end_time": "2022-01-21T08:33:48.377205",
     "exception": false,
     "start_time": "2022-01-21T08:33:48.345904",
     "status": "completed"
    },
    "tags": []
   },
   "source": [
    "#### Naive Bayes\n",
    "- use Multinomial Naive Bayes for text classification \n",
    "- in Multinomial Naive Bayes, probability of text input belonging each target class given words in the text is calculated\n",
    "- among the target classes, class with maximum probability is picked"
   ]
  },
  {
   "cell_type": "code",
   "execution_count": 8,
   "id": "91829405",
   "metadata": {
    "execution": {
     "iopub.execute_input": "2022-01-21T08:33:48.443989Z",
     "iopub.status.busy": "2022-01-21T08:33:48.443348Z",
     "iopub.status.idle": "2022-01-21T08:33:48.449555Z",
     "shell.execute_reply": "2022-01-21T08:33:48.450116Z",
     "shell.execute_reply.started": "2022-01-21T08:18:38.269104Z"
    },
    "papermill": {
     "duration": 0.041136,
     "end_time": "2022-01-21T08:33:48.450284",
     "exception": false,
     "start_time": "2022-01-21T08:33:48.409148",
     "status": "completed"
    },
    "tags": []
   },
   "outputs": [],
   "source": [
    "# plot confusion matrix\n",
    "def plot_confmat(y_true, predictions):\n",
    "    labels = ['negative', 'positive']\n",
    "\n",
    "    conf_mat = confusion_matrix(y_true, predictions, normalize='true')\n",
    "\n",
    "    plt.figure(figsize=(8,5))\n",
    "    sns.heatmap(pd.DataFrame(conf_mat, columns=labels, index=labels), annot=True, fmt='.2f')\n",
    "    plt.ylabel('Actual label')\n",
    "    plt.xlabel('Predicted label')\n",
    "    plt.title('Confusion matrix of test data')\n",
    "    plt.show()"
   ]
  },
  {
   "cell_type": "markdown",
   "id": "b482a360",
   "metadata": {
    "papermill": {
     "duration": 0.031547,
     "end_time": "2022-01-21T08:33:48.513615",
     "exception": false,
     "start_time": "2022-01-21T08:33:48.482068",
     "status": "completed"
    },
    "tags": []
   },
   "source": [
    "- use CountVectorizer to count occurrence of words in sentences\n",
    "- occurrence of word is later used by Naive Bayes to estimate probability"
   ]
  },
  {
   "cell_type": "code",
   "execution_count": 9,
   "id": "39c00911",
   "metadata": {
    "execution": {
     "iopub.execute_input": "2022-01-21T08:33:48.581158Z",
     "iopub.status.busy": "2022-01-21T08:33:48.580088Z",
     "iopub.status.idle": "2022-01-21T08:33:59.053171Z",
     "shell.execute_reply": "2022-01-21T08:33:59.052575Z",
     "shell.execute_reply.started": "2022-01-21T08:18:38.464305Z"
    },
    "papermill": {
     "duration": 10.508361,
     "end_time": "2022-01-21T08:33:59.053319",
     "exception": false,
     "start_time": "2022-01-21T08:33:48.544958",
     "status": "completed"
    },
    "tags": []
   },
   "outputs": [],
   "source": [
    "count_vec = CountVectorizer(analyzer='word', ngram_range=(1, 1))\n",
    "\n",
    "counts_train = count_vec.fit_transform(train_text)\n",
    "counts_val = count_vec.transform(val_text)\n",
    "counts_test = count_vec.transform(test_text)"
   ]
  },
  {
   "cell_type": "markdown",
   "id": "b6080595",
   "metadata": {},
   "source": [
    "#### Naive Bayes Training and Prediction"
   ]
  },
  {
   "cell_type": "code",
   "execution_count": 10,
   "id": "428ff834",
   "metadata": {
    "execution": {
     "iopub.execute_input": "2022-01-21T08:33:59.119874Z",
     "iopub.status.busy": "2022-01-21T08:33:59.119235Z",
     "iopub.status.idle": "2022-01-21T08:33:59.177461Z",
     "shell.execute_reply": "2022-01-21T08:33:59.178001Z",
     "shell.execute_reply.started": "2022-01-21T08:18:45.217883Z"
    },
    "papermill": {
     "duration": 0.092691,
     "end_time": "2022-01-21T08:33:59.178169",
     "exception": false,
     "start_time": "2022-01-21T08:33:59.085478",
     "status": "completed"
    },
    "tags": []
   },
   "outputs": [],
   "source": [
    "nb = MultinomialNB()\n",
    "nb.fit(counts_train, encoded_train)\n",
    "\n",
    "# predict and get probability of belonging to positive class\n",
    "preds_nb_val = nb.predict_proba(counts_val)[:,1]\n",
    "preds_nb_test = nb.predict_proba(counts_test)[:,1]"
   ]
  },
  {
   "cell_type": "markdown",
   "id": "9b25e239",
   "metadata": {
    "papermill": {
     "duration": 0.03119,
     "end_time": "2022-01-21T08:33:59.241241",
     "exception": false,
     "start_time": "2022-01-21T08:33:59.210051",
     "status": "completed"
    },
    "tags": []
   },
   "source": [
    "#### Naive Bayes Evaluation\n",
    "- ROC curve is curve of true positive rate (TPR) and false positive rate (FPR) at different classification cut off threshold\n",
    "    - true positive rate for class A : no. of correctly predicted examples in class A / no. of examples in class A\n",
    "    - false positive rate for class A : no. of examples incorrectly predicted as class A / no. of examples not belong to class A\n",
    "- ideal classification cut off threshold should give highest `TPR - FPR`"
   ]
  },
  {
   "cell_type": "markdown",
   "id": "0e398ede",
   "metadata": {},
   "source": [
    "- area under curve (ROC AUC score) which a value is between 0 and 1 will be used for model evaluation\n",
    "- the closer ROC AUC score is to 1, the better model can distinguish between classes at some proper threshold\n",
    "- here, classification cut off threshold will also be determined using validation set"
   ]
  },
  {
   "cell_type": "code",
   "execution_count": 11,
   "id": "e3b39aa3",
   "metadata": {
    "execution": {
     "iopub.execute_input": "2022-01-21T08:33:59.307026Z",
     "iopub.status.busy": "2022-01-21T08:33:59.306353Z",
     "iopub.status.idle": "2022-01-21T08:33:59.316932Z",
     "shell.execute_reply": "2022-01-21T08:33:59.317458Z",
     "shell.execute_reply.started": "2022-01-21T08:20:08.155685Z"
    },
    "papermill": {
     "duration": 0.044792,
     "end_time": "2022-01-21T08:33:59.317633",
     "exception": false,
     "start_time": "2022-01-21T08:33:59.272841",
     "status": "completed"
    },
    "tags": []
   },
   "outputs": [
    {
     "name": "stdout",
     "output_type": "stream",
     "text": [
      "ROC AUC score on test set: 0.9177\n",
      "Optimal threshold on validation set: 0.5294\n"
     ]
    }
   ],
   "source": [
    "print(\"ROC AUC score on test set: {0:.4}\".format(roc_auc_score(encoded_test, preds_nb_test)))\n",
    "\n",
    "fpr, tpr, thresholds = roc_curve(encoded_val, preds_nb_val)\n",
    "optimal_threshold_nb = thresholds[np.argmax(tpr - fpr, axis=0)]\n",
    "print(\"Optimal threshold on validation set: {0:.4}\".format(optimal_threshold_nb))"
   ]
  },
  {
   "cell_type": "code",
   "execution_count": 12,
   "id": "984abbbd",
   "metadata": {
    "execution": {
     "iopub.execute_input": "2022-01-21T08:33:59.384499Z",
     "iopub.status.busy": "2022-01-21T08:33:59.383891Z",
     "iopub.status.idle": "2022-01-21T08:33:59.396572Z",
     "shell.execute_reply": "2022-01-21T08:33:59.396089Z",
     "shell.execute_reply.started": "2022-01-21T08:20:32.302170Z"
    },
    "papermill": {
     "duration": 0.047302,
     "end_time": "2022-01-21T08:33:59.396729",
     "exception": false,
     "start_time": "2022-01-21T08:33:59.349427",
     "status": "completed"
    },
    "tags": []
   },
   "outputs": [
    {
     "name": "stdout",
     "output_type": "stream",
     "text": [
      "              precision    recall  f1-score   support\n",
      "\n",
      "           0       0.82      0.87      0.85      1437\n",
      "           1       0.87      0.83      0.85      1563\n",
      "\n",
      "    accuracy                           0.85      3000\n",
      "   macro avg       0.85      0.85      0.85      3000\n",
      "weighted avg       0.85      0.85      0.85      3000\n",
      "\n"
     ]
    }
   ],
   "source": [
    "print(classification_report(encoded_test, preds_nb_test >= optimal_threshold_nb))"
   ]
  },
  {
   "cell_type": "code",
   "execution_count": 13,
   "id": "faff9fd6",
   "metadata": {
    "execution": {
     "iopub.execute_input": "2022-01-21T08:33:59.464861Z",
     "iopub.status.busy": "2022-01-21T08:33:59.464182Z",
     "iopub.status.idle": "2022-01-21T08:33:59.740704Z",
     "shell.execute_reply": "2022-01-21T08:33:59.741227Z",
     "shell.execute_reply.started": "2022-01-21T08:20:35.956903Z"
    },
    "papermill": {
     "duration": 0.312608,
     "end_time": "2022-01-21T08:33:59.741404",
     "exception": false,
     "start_time": "2022-01-21T08:33:59.428796",
     "status": "completed"
    },
    "tags": []
   },
   "outputs": [
    {
     "data": {
      "image/png": "[encoded data removed]",
      "text/plain": [
       "<Figure size 576x360 with 2 Axes>"
      ]
     },
     "metadata": {},
     "output_type": "display_data"
    }
   ],
   "source": [
    "plot_confmat(encoded_test, preds_nb_test >= optimal_threshold_nb)"
   ]
  },
  {
   "cell_type": "markdown",
   "id": "8e9706b3",
   "metadata": {
    "papermill": {
     "duration": 0.033565,
     "end_time": "2022-01-21T08:33:59.808770",
     "exception": false,
     "start_time": "2022-01-21T08:33:59.775205",
     "status": "completed"
    },
    "tags": []
   },
   "source": [
    "- the F1 score from Naive Bayes model for both target classes turned out to be 0.85\n",
    "- the classification report says that some of positive texts are being predicted as negative\n",
    "- nevertheless, we should note that Naive Bayes does not take the order of words into account for classifying texts"
   ]
  },
  {
   "cell_type": "markdown",
   "id": "a9e12595",
   "metadata": {
    "papermill": {
     "duration": 0.033252,
     "end_time": "2022-01-21T08:33:59.875609",
     "exception": false,
     "start_time": "2022-01-21T08:33:59.842357",
     "status": "completed"
    },
    "tags": []
   },
   "source": [
    "#### Prepare Dataset\n",
    "- create tf dataset with batch size 128 to use with model\n",
    "    - small batch size take long to train\n",
    "    - large batch size i.e. small no. of steps reduce chance of getting optimal weights sometimes\n",
    "- from searching, it was recommended to use batch size not larger than 500\n",
    "- tokenized texts will be kept as ragged tensors because ragged tensor length can be flexible which means prediction can be made on text with any length as long as the text fit in memory"
   ]
  },
  {
   "cell_type": "code",
   "execution_count": 14,
   "id": "49fea979",
   "metadata": {
    "execution": {
     "iopub.execute_input": "2022-01-21T08:33:59.953348Z",
     "iopub.status.busy": "2022-01-21T08:33:59.952612Z",
     "iopub.status.idle": "2022-01-21T08:34:34.940650Z",
     "shell.execute_reply": "2022-01-21T08:34:34.940047Z",
     "shell.execute_reply.started": "2022-01-21T08:22:03.146590Z"
    },
    "papermill": {
     "duration": 35.031613,
     "end_time": "2022-01-21T08:34:34.940836",
     "exception": false,
     "start_time": "2022-01-21T08:33:59.909223",
     "status": "completed"
    },
    "tags": []
   },
   "outputs": [
    {
     "name": "stderr",
     "output_type": "stream",
     "text": [
      "\n",
      "User settings:\n",
      "\n",
      "   KMP_AFFINITY=granularity=fine,verbose,compact,1,0\n",
      "   KMP_BLOCKTIME=0\n",
      "   KMP_DUPLICATE_LIB_OK=True\n",
      "   KMP_INIT_AT_FORK=FALSE\n",
      "   KMP_SETTINGS=1\n",
      "   KMP_WARNINGS=0\n",
      "\n",
      "Effective settings:\n",
      "\n",
      "   KMP_ABORT_DELAY=0\n",
      "   KMP_ADAPTIVE_LOCK_PROPS='1,1024'\n",
      "   KMP_ALIGN_ALLOC=64\n",
      "   KMP_ALL_THREADPRIVATE=128\n",
      "   KMP_ATOMIC_MODE=2\n",
      "   KMP_BLOCKTIME=0\n",
      "   KMP_CPUINFO_FILE: value is not defined\n",
      "   KMP_DETERMINISTIC_REDUCTION=false\n",
      "   KMP_DEVICE_THREAD_LIMIT=2147483647\n",
      "   KMP_DISP_NUM_BUFFERS=7\n",
      "   KMP_DUPLICATE_LIB_OK=true\n",
      "   KMP_ENABLE_TASK_THROTTLING=true\n",
      "   KMP_FORCE_REDUCTION: value is not defined\n",
      "   KMP_FOREIGN_THREADS_THREADPRIVATE=true\n",
      "   KMP_FORKJOIN_BARRIER='2,2'\n",
      "   KMP_FORKJOIN_BARRIER_PATTERN='hyper,hyper'\n",
      "   KMP_GTID_MODE=3\n",
      "   KMP_HANDLE_SIGNALS=false\n",
      "   KMP_HOT_TEAMS_MAX_LEVEL=1\n",
      "   KMP_HOT_TEAMS_MODE=0\n",
      "   KMP_INIT_AT_FORK=true\n",
      "   KMP_LIBRARY=throughput\n",
      "   KMP_LOCK_KIND=queuing\n",
      "   KMP_MALLOC_POOL_INCR=1M\n",
      "   KMP_NUM_LOCKS_IN_BLOCK=1\n",
      "   KMP_PLAIN_BARRIER='2,2'\n",
      "   KMP_PLAIN_BARRIER_PATTERN='hyper,hyper'\n",
      "   KMP_REDUCTION_BARRIER='1,1'\n",
      "   KMP_REDUCTION_BARRIER_PATTERN='hyper,hyper'\n",
      "   KMP_SCHEDULE='static,balanced;guided,iterative'\n",
      "   KMP_SETTINGS=true\n",
      "   KMP_SPIN_BACKOFF_PARAMS='4096,100'\n",
      "   KMP_STACKOFFSET=64\n",
      "   KMP_STACKPAD=0\n",
      "   KMP_STACKSIZE=8M\n",
      "   KMP_STORAGE_MAP=false\n",
      "   KMP_TASKING=2\n",
      "   KMP_TASKLOOP_MIN_TASKS=0\n",
      "   KMP_TASK_STEALING_CONSTRAINT=1\n",
      "   KMP_TEAMS_THREAD_LIMIT=4\n",
      "   KMP_TOPOLOGY_METHOD=all\n",
      "   KMP_USE_YIELD=1\n",
      "   KMP_VERSION=false\n",
      "   KMP_WARNINGS=false\n",
      "   OMP_AFFINITY_FORMAT='OMP: pid %P tid %i thread %n bound to OS proc set {%A}'\n",
      "   OMP_ALLOCATOR=omp_default_mem_alloc\n",
      "   OMP_CANCELLATION=false\n",
      "   OMP_DEFAULT_DEVICE=0\n",
      "   OMP_DISPLAY_AFFINITY=false\n",
      "   OMP_DISPLAY_ENV=false\n",
      "   OMP_DYNAMIC=false\n",
      "   OMP_MAX_ACTIVE_LEVELS=1\n",
      "   OMP_MAX_TASK_PRIORITY=0\n",
      "   OMP_NESTED: deprecated; max-active-levels-var=1\n",
      "   OMP_NUM_THREADS: value is not defined\n",
      "   OMP_PLACES: value is not defined\n",
      "   OMP_PROC_BIND='intel'\n",
      "   OMP_SCHEDULE='static'\n",
      "   OMP_STACKSIZE=8M\n",
      "   OMP_TARGET_OFFLOAD=DEFAULT\n",
      "   OMP_THREAD_LIMIT=2147483647\n",
      "   OMP_WAIT_POLICY=PASSIVE\n",
      "   KMP_AFFINITY='verbose,warnings,respect,granularity=fine,compact,1,0'\n",
      "\n",
      "2022-01-21 08:34:30.255565: I tensorflow/core/common_runtime/process_util.cc:146] Creating new thread pool with default inter op setting: 2. Tune using inter_op_parallelism_threads for best performance.\n"
     ]
    }
   ],
   "source": [
    "train_data = tf.data.Dataset.from_tensor_slices((tf.ragged.constant(train_tokens), encoded_train)).batch(128)\n",
    "val_data = tf.data.Dataset.from_tensor_slices((tf.ragged.constant(val_tokens), encoded_val)).batch(128)\n",
    "test_data = tf.data.Dataset.from_tensor_slices((tf.ragged.constant(test_tokens), encoded_test)).batch(128)"
   ]
  },
  {
   "cell_type": "code",
   "execution_count": 15,
   "id": "8dc4a67a",
   "metadata": {
    "execution": {
     "iopub.execute_input": "2022-01-21T08:34:35.027075Z",
     "iopub.status.busy": "2022-01-21T08:34:35.026346Z",
     "iopub.status.idle": "2022-01-21T08:34:35.031411Z",
     "shell.execute_reply": "2022-01-21T08:34:35.031980Z",
     "shell.execute_reply.started": "2022-01-21T08:22:23.124020Z"
    },
    "papermill": {
     "duration": 0.049912,
     "end_time": "2022-01-21T08:34:35.032132",
     "exception": false,
     "start_time": "2022-01-21T08:34:34.982220",
     "status": "completed"
    },
    "tags": []
   },
   "outputs": [],
   "source": [
    "# returns a bunch of useful callbacks\n",
    "def get_callbacks(file_path):\n",
    "    return [\n",
    "        tf.keras.callbacks.ReduceLROnPlateau(monitor='val_loss', mode='min', factor=0.3, patience=1, min_lr=0.00001),\n",
    "        tf.keras.callbacks.ModelCheckpoint(filepath=file_path, monitor='val_loss', mode='min', save_best_only=True),\n",
    "        tf.keras.callbacks.EarlyStopping(monitor='val_loss', mode='min', restore_best_weights=True, min_delta=1e-8, patience=3)\n",
    "    ]"
   ]
  },
  {
   "cell_type": "code",
   "execution_count": 16,
   "id": "851247df",
   "metadata": {
    "execution": {
     "iopub.execute_input": "2022-01-21T08:34:35.103715Z",
     "iopub.status.busy": "2022-01-21T08:34:35.103034Z",
     "iopub.status.idle": "2022-01-21T08:34:35.109468Z",
     "shell.execute_reply": "2022-01-21T08:34:35.110067Z",
     "shell.execute_reply.started": "2022-01-21T08:22:23.132431Z"
    },
    "papermill": {
     "duration": 0.043757,
     "end_time": "2022-01-21T08:34:35.110244",
     "exception": false,
     "start_time": "2022-01-21T08:34:35.066487",
     "status": "completed"
    },
    "tags": []
   },
   "outputs": [],
   "source": [
    "# plot learning curve\n",
    "def plot_history(history):\n",
    "    get_plot_data = lambda metric: [np.arange(len(metric)) + 1, metric]\n",
    "\n",
    "    plt.figure(figsize=(10,5))\n",
    "\n",
    "    plt.plot(*get_plot_data(history.history['loss']))\n",
    "    plt.plot(*get_plot_data(history.history['accuracy']))\n",
    "    plt.plot(*get_plot_data(history.history['val_loss']))\n",
    "    plt.plot(*get_plot_data(history.history['val_accuracy']))\n",
    "\n",
    "    plt.title('Model performance')\n",
    "    plt.legend(list(history.history.keys())[:-1]) # skip learning rate\n",
    "    plt.xlabel('Epoch')\n",
    "    plt.ylabel('Value')\n",
    "    plt.show()"
   ]
  },
  {
   "cell_type": "markdown",
   "id": "aa1f5cd6",
   "metadata": {
    "papermill": {
     "duration": 0.033779,
     "end_time": "2022-01-21T08:34:35.177912",
     "exception": false,
     "start_time": "2022-01-21T08:34:35.144133",
     "status": "completed"
    },
    "tags": []
   },
   "source": [
    "#### Model Building and Training\n",
    "- use balanced class weight to charge higher for incorrect predictions on minority class which could make model performance nearly even on both classes"
   ]
  },
  {
   "cell_type": "code",
   "execution_count": 17,
   "id": "9ad42113",
   "metadata": {
    "execution": {
     "iopub.execute_input": "2022-01-21T08:34:35.248721Z",
     "iopub.status.busy": "2022-01-21T08:34:35.248108Z",
     "iopub.status.idle": "2022-01-21T08:34:35.391781Z",
     "shell.execute_reply": "2022-01-21T08:34:35.392284Z",
     "shell.execute_reply.started": "2022-01-21T08:22:23.148305Z"
    },
    "papermill": {
     "duration": 0.180691,
     "end_time": "2022-01-21T08:34:35.392493",
     "exception": false,
     "start_time": "2022-01-21T08:34:35.211802",
     "status": "completed"
    },
    "tags": []
   },
   "outputs": [],
   "source": [
    "class_weight = compute_class_weight(class_weight='balanced', classes=np.unique(train['target']), y=train['target'])\n",
    "class_weight = dict(enumerate(class_weight))"
   ]
  },
  {
   "cell_type": "markdown",
   "id": "6d09e785",
   "metadata": {
    "papermill": {
     "duration": 0.03384,
     "end_time": "2022-01-21T08:34:35.462315",
     "exception": false,
     "start_time": "2022-01-21T08:34:35.428475",
     "status": "completed"
    },
    "tags": []
   },
   "source": [
    "- model uses Embedding Layer to learn to represent words inside texts in form of aspects\n",
    "- LSTM is used to help accumulate information from previous parts of sentence while throwing away unimportant information in order to predict sentiment at the end\n",
    "- LSTMs can use information from words encountered in the sentence long ago to make prediction as opposed to vanilla RNNs"
   ]
  },
  {
   "cell_type": "code",
   "execution_count": 18,
   "id": "f0edcdec",
   "metadata": {
    "execution": {
     "iopub.execute_input": "2022-01-21T08:34:35.532584Z",
     "iopub.status.busy": "2022-01-21T08:34:35.532037Z",
     "iopub.status.idle": "2022-01-21T08:34:36.797689Z",
     "shell.execute_reply": "2022-01-21T08:34:36.798340Z",
     "shell.execute_reply.started": "2022-01-21T08:22:23.237755Z"
    },
    "papermill": {
     "duration": 1.302394,
     "end_time": "2022-01-21T08:34:36.798515",
     "exception": false,
     "start_time": "2022-01-21T08:34:35.496121",
     "status": "completed"
    },
    "tags": []
   },
   "outputs": [],
   "source": [
    "LSTM_model = tf.keras.Sequential([\n",
    "    tf.keras.layers.Input(shape=[None], dtype=tf.int32, ragged=True),\n",
    "    tf.keras.layers.Embedding(int(MAX_FEATURES), 128),\n",
    "    tf.keras.layers.LSTM(2),\n",
    "    tf.keras.layers.Dense(1, activation='sigmoid')\n",
    "])\n",
    "\n",
    "LSTM_model.compile(optimizer='rmsprop', loss='binary_crossentropy', metrics=['accuracy'])"
   ]
  },
  {
   "cell_type": "code",
   "execution_count": 19,
   "id": "39e3bef8",
   "metadata": {
    "execution": {
     "iopub.execute_input": "2022-01-21T08:34:36.872457Z",
     "iopub.status.busy": "2022-01-21T08:34:36.871523Z",
     "iopub.status.idle": "2022-01-21T08:53:01.822441Z",
     "shell.execute_reply": "2022-01-21T08:53:01.822989Z",
     "shell.execute_reply.started": "2022-01-21T08:23:20.500991Z"
    },
    "papermill": {
     "duration": 1104.990259,
     "end_time": "2022-01-21T08:53:01.823217",
     "exception": false,
     "start_time": "2022-01-21T08:34:36.832958",
     "status": "completed"
    },
    "tags": []
   },
   "outputs": [
    {
     "name": "stderr",
     "output_type": "stream",
     "text": [
      "2022-01-21 08:34:36.935909: I tensorflow/compiler/mlir/mlir_graph_optimization_pass.cc:185] None of the MLIR Optimization Passes are enabled (registered 2)\n"
     ]
    },
    {
     "name": "stdout",
     "output_type": "stream",
     "text": [
      "Epoch 1/15\n"
     ]
    },
    {
     "name": "stderr",
     "output_type": "stream",
     "text": [
      "/opt/conda/lib/python3.7/site-packages/tensorflow/python/framework/indexed_slices.py:449: UserWarning: Converting sparse IndexedSlices(IndexedSlices(indices=Tensor(\"gradient_tape/sequential/lstm/RaggedToTensor/boolean_mask_1/GatherV2:0\", shape=(None,), dtype=int32), values=Tensor(\"gradient_tape/sequential/lstm/RaggedToTensor/boolean_mask/GatherV2:0\", shape=(None, 128), dtype=float32), dense_shape=Tensor(\"gradient_tape/sequential/lstm/RaggedToTensor/Shape:0\", shape=(2,), dtype=int32))) to a dense Tensor of unknown shape. This may consume a large amount of memory.\n",
      "  \"shape. This may consume a large amount of memory.\" % value)\n"
     ]
    },
    {
     "name": "stdout",
     "output_type": "stream",
     "text": [
      "704/704 [==============================] - 116s 161ms/step - loss: 0.4848 - accuracy: 0.8280 - val_loss: 0.3626 - val_accuracy: 0.8697\n",
      "Epoch 2/15\n",
      "704/704 [==============================] - 113s 161ms/step - loss: 0.2842 - accuracy: 0.8990 - val_loss: 0.2948 - val_accuracy: 0.8838\n",
      "Epoch 3/15\n",
      "704/704 [==============================] - 110s 157ms/step - loss: 0.2306 - accuracy: 0.9166 - val_loss: 0.2688 - val_accuracy: 0.9045\n",
      "Epoch 4/15\n",
      "704/704 [==============================] - 109s 154ms/step - loss: 0.2076 - accuracy: 0.9240 - val_loss: 0.2601 - val_accuracy: 0.9064\n",
      "Epoch 5/15\n",
      "704/704 [==============================] - 110s 156ms/step - loss: 0.1916 - accuracy: 0.9305 - val_loss: 0.2442 - val_accuracy: 0.9089\n",
      "Epoch 6/15\n",
      "704/704 [==============================] - 109s 155ms/step - loss: 0.1801 - accuracy: 0.9346 - val_loss: 0.2516 - val_accuracy: 0.9076\n",
      "Epoch 7/15\n",
      "704/704 [==============================] - 109s 155ms/step - loss: 0.1565 - accuracy: 0.9445 - val_loss: 0.2478 - val_accuracy: 0.9094\n",
      "Epoch 8/15\n",
      "704/704 [==============================] - 109s 155ms/step - loss: 0.1475 - accuracy: 0.9484 - val_loss: 0.2472 - val_accuracy: 0.9098\n"
     ]
    }
   ],
   "source": [
    "LSTM_history = LSTM_model.fit(train_data, epochs=15, validation_data=val_data, callbacks=get_callbacks('LSTM_model.h5'), class_weight=class_weight)"
   ]
  },
  {
   "cell_type": "code",
   "execution_count": 20,
   "id": "6b0677e2",
   "metadata": {
    "execution": {
     "iopub.execute_input": "2022-01-21T08:53:05.244916Z",
     "iopub.status.busy": "2022-01-21T08:53:05.244272Z",
     "iopub.status.idle": "2022-01-21T08:53:05.497104Z",
     "shell.execute_reply": "2022-01-21T08:53:05.496478Z",
     "shell.execute_reply.started": "2022-01-21T05:39:45.948394Z"
    },
    "papermill": {
     "duration": 1.946118,
     "end_time": "2022-01-21T08:53:05.497237",
     "exception": false,
     "start_time": "2022-01-21T08:53:03.551119",
     "status": "completed"
    },
    "tags": []
   },
   "outputs": [
    {
     "data": {
      "image/png": "[encoded data removed]",
      "text/plain": [
       "<Figure size 720x360 with 1 Axes>"
      ]
     },
     "metadata": {},
     "output_type": "display_data"
    }
   ],
   "source": [
    "plot_history(LSTM_history)"
   ]
  },
  {
   "cell_type": "markdown",
   "id": "8d86c5b7",
   "metadata": {
    "papermill": {
     "duration": 1.72104,
     "end_time": "2022-01-21T08:53:08.918291",
     "exception": false,
     "start_time": "2022-01-21T08:53:07.197251",
     "status": "completed"
    },
    "tags": []
   },
   "source": [
    "- the validation loss has decreased by more than 0.06 in 2 nd epoch and began to slowly decrease after that until 5 th epoch\n",
    "- from epoch 6 onwards, validation accuracy seems to still improve but the loss has not improve though after decreasing learning rate which made the model early stopped"
   ]
  },
  {
   "cell_type": "markdown",
   "id": "2bb51c27",
   "metadata": {
    "papermill": {
     "duration": 1.756222,
     "end_time": "2022-01-21T08:53:12.400265",
     "exception": false,
     "start_time": "2022-01-21T08:53:10.644043",
     "status": "completed"
    },
    "tags": []
   },
   "source": [
    "- embedding dimension was increased to 128 from 32 as it helped to better predict sentiment of test data\n",
    "- increasing the no. of hidden layers in LSTM did not make much improvement in test score\n",
    "- thus, the no. of LSTM hidden layers is decided to kept small in order to reduce the model complexity and prediction time\n",
    "- originally, adam optimizer was used but the validation loss did not improved much after first few epochs"
   ]
  },
  {
   "cell_type": "code",
   "execution_count": 21,
   "id": "0ab5698f",
   "metadata": {
    "execution": {
     "iopub.execute_input": "2022-01-21T08:53:15.814867Z",
     "iopub.status.busy": "2022-01-21T08:53:15.814216Z",
     "iopub.status.idle": "2022-01-21T08:53:15.914818Z",
     "shell.execute_reply": "2022-01-21T08:53:15.914281Z",
     "shell.execute_reply.started": "2022-01-21T08:26:11.035893Z"
    },
    "papermill": {
     "duration": 1.809794,
     "end_time": "2022-01-21T08:53:15.914962",
     "exception": false,
     "start_time": "2022-01-21T08:53:14.105168",
     "status": "completed"
    },
    "tags": []
   },
   "outputs": [],
   "source": [
    "LSTM_model2 = tf.keras.Sequential([\n",
    "    tf.keras.layers.Input(shape=[None], dtype=tf.int32, ragged=True),\n",
    "    tf.keras.layers.Embedding(int(MAX_FEATURES), 128),\n",
    "    tf.keras.layers.LSTM(2),\n",
    "    tf.keras.layers.Dense(128, activation='elu'),\n",
    "#     tf.keras.layers.Dropout(0.3),\n",
    "    tf.keras.layers.Dense(1, activation='sigmoid')\n",
    "])\n",
    "\n",
    "LSTM_model2.compile(optimizer='rmsprop', loss='binary_crossentropy', metrics=['accuracy'])"
   ]
  },
  {
   "cell_type": "code",
   "execution_count": 22,
   "id": "9a6c1121",
   "metadata": {
    "execution": {
     "iopub.execute_input": "2022-01-21T08:53:19.357227Z",
     "iopub.status.busy": "2022-01-21T08:53:19.356521Z",
     "iopub.status.idle": "2022-01-21T09:18:01.239243Z",
     "shell.execute_reply": "2022-01-21T09:18:01.239738Z",
     "shell.execute_reply.started": "2022-01-21T08:26:12.483847Z"
    },
    "papermill": {
     "duration": 1483.634344,
     "end_time": "2022-01-21T09:18:01.239933",
     "exception": false,
     "start_time": "2022-01-21T08:53:17.605589",
     "status": "completed"
    },
    "tags": []
   },
   "outputs": [
    {
     "name": "stdout",
     "output_type": "stream",
     "text": [
      "Epoch 1/15\n"
     ]
    },
    {
     "name": "stderr",
     "output_type": "stream",
     "text": [
      "/opt/conda/lib/python3.7/site-packages/tensorflow/python/framework/indexed_slices.py:449: UserWarning: Converting sparse IndexedSlices(IndexedSlices(indices=Tensor(\"gradient_tape/sequential_1/lstm_1/RaggedToTensor/boolean_mask_1/GatherV2:0\", shape=(None,), dtype=int32), values=Tensor(\"gradient_tape/sequential_1/lstm_1/RaggedToTensor/boolean_mask/GatherV2:0\", shape=(None, 128), dtype=float32), dense_shape=Tensor(\"gradient_tape/sequential_1/lstm_1/RaggedToTensor/Shape:0\", shape=(2,), dtype=int32))) to a dense Tensor of unknown shape. This may consume a large amount of memory.\n",
      "  \"shape. This may consume a large amount of memory.\" % value)\n"
     ]
    },
    {
     "name": "stdout",
     "output_type": "stream",
     "text": [
      "704/704 [==============================] - 114s 159ms/step - loss: 0.3645 - accuracy: 0.8505 - val_loss: 0.3709 - val_accuracy: 0.8588\n",
      "Epoch 2/15\n",
      "704/704 [==============================] - 111s 158ms/step - loss: 0.2688 - accuracy: 0.8997 - val_loss: 0.3023 - val_accuracy: 0.8871\n",
      "Epoch 3/15\n",
      "704/704 [==============================] - 112s 159ms/step - loss: 0.2358 - accuracy: 0.9134 - val_loss: 0.2845 - val_accuracy: 0.8953\n",
      "Epoch 4/15\n",
      "704/704 [==============================] - 112s 159ms/step - loss: 0.2089 - accuracy: 0.9234 - val_loss: 0.2701 - val_accuracy: 0.9005\n",
      "Epoch 5/15\n",
      "704/704 [==============================] - 111s 157ms/step - loss: 0.1863 - accuracy: 0.9336 - val_loss: 0.2636 - val_accuracy: 0.9057\n",
      "Epoch 6/15\n",
      "704/704 [==============================] - 111s 158ms/step - loss: 0.1679 - accuracy: 0.9406 - val_loss: 0.2522 - val_accuracy: 0.9093\n",
      "Epoch 7/15\n",
      "704/704 [==============================] - 111s 157ms/step - loss: 0.1557 - accuracy: 0.9456 - val_loss: 0.2551 - val_accuracy: 0.9099\n",
      "Epoch 8/15\n",
      "704/704 [==============================] - 111s 158ms/step - loss: 0.1298 - accuracy: 0.9557 - val_loss: 0.2522 - val_accuracy: 0.9131\n",
      "Epoch 9/15\n",
      "704/704 [==============================] - 111s 157ms/step - loss: 0.1189 - accuracy: 0.9600 - val_loss: 0.2497 - val_accuracy: 0.9142\n",
      "Epoch 10/15\n",
      "704/704 [==============================] - 112s 160ms/step - loss: 0.1166 - accuracy: 0.9608 - val_loss: 0.2490 - val_accuracy: 0.9154\n",
      "Epoch 11/15\n",
      "704/704 [==============================] - 111s 158ms/step - loss: 0.1147 - accuracy: 0.9617 - val_loss: 0.2491 - val_accuracy: 0.9157\n",
      "Epoch 12/15\n",
      "704/704 [==============================] - 111s 158ms/step - loss: 0.1118 - accuracy: 0.9628 - val_loss: 0.2495 - val_accuracy: 0.9152\n",
      "Epoch 13/15\n",
      "704/704 [==============================] - 112s 159ms/step - loss: 0.1109 - accuracy: 0.9635 - val_loss: 0.2491 - val_accuracy: 0.9155\n"
     ]
    }
   ],
   "source": [
    "LSTM2_history = LSTM_model2.fit(train_data, epochs=15, validation_data=val_data, callbacks=get_callbacks('LSTM_model2.h5'), class_weight=class_weight)"
   ]
  },
  {
   "cell_type": "code",
   "execution_count": 23,
   "id": "3f269589",
   "metadata": {
    "execution": {
     "iopub.execute_input": "2022-01-21T09:18:10.211272Z",
     "iopub.status.busy": "2022-01-21T09:18:10.210253Z",
     "iopub.status.idle": "2022-01-21T09:18:10.437716Z",
     "shell.execute_reply": "2022-01-21T09:18:10.437171Z",
     "shell.execute_reply.started": "2022-01-21T05:41:36.745093Z"
    },
    "papermill": {
     "duration": 4.693243,
     "end_time": "2022-01-21T09:18:10.437868",
     "exception": false,
     "start_time": "2022-01-21T09:18:05.744625",
     "status": "completed"
    },
    "tags": []
   },
   "outputs": [
    {
     "data": {
      "image/png": "[encoded data removed]",
      "text/plain": [
       "<Figure size 720x360 with 1 Axes>"
      ]
     },
     "metadata": {},
     "output_type": "display_data"
    }
   ],
   "source": [
    "plot_history(LSTM2_history)"
   ]
  },
  {
   "cell_type": "markdown",
   "id": "60017760",
   "metadata": {
    "papermill": {
     "duration": 4.410463,
     "end_time": "2022-01-21T09:18:19.367531",
     "exception": false,
     "start_time": "2022-01-21T09:18:14.957068",
     "status": "completed"
    },
    "tags": []
   },
   "source": [
    "- a fully connected layer has been added to see if it could greaten model prediction ability on test data\n",
    "- the 10 th epoch seems to provide best validation loss which is higher than the best loss of first architecture\n",
    "- again the validation accuracy enhanced after the best validation loss epoch but it was not the objective"
   ]
  },
  {
   "cell_type": "markdown",
   "id": "95acd565",
   "metadata": {
    "papermill": {
     "duration": 4.390423,
     "end_time": "2022-01-21T09:18:28.279834",
     "exception": false,
     "start_time": "2022-01-21T09:18:23.889411",
     "status": "completed"
    },
    "tags": []
   },
   "source": [
    "#### Evaluation"
   ]
  },
  {
   "cell_type": "code",
   "execution_count": 24,
   "id": "f3c2082f",
   "metadata": {
    "execution": {
     "iopub.execute_input": "2022-01-21T09:18:37.099791Z",
     "iopub.status.busy": "2022-01-21T09:18:37.095001Z",
     "iopub.status.idle": "2022-01-21T09:18:46.800068Z",
     "shell.execute_reply": "2022-01-21T09:18:46.799504Z",
     "shell.execute_reply.started": "2022-01-21T08:32:29.900031Z"
    },
    "papermill": {
     "duration": 14.080678,
     "end_time": "2022-01-21T09:18:46.800221",
     "exception": false,
     "start_time": "2022-01-21T09:18:32.719543",
     "status": "completed"
    },
    "tags": []
   },
   "outputs": [
    {
     "name": "stdout",
     "output_type": "stream",
     "text": [
      "ROC AUC score on test set: 0.9644\n",
      "Optimal threshold on validation set: 0.5658\n"
     ]
    }
   ],
   "source": [
    "best_model = tf.keras.models.load_model(\"./LSTM_model2.h5\")\n",
    "\n",
    "predictions = best_model.predict(tf.ragged.constant(test_tokens))\n",
    "val_predictions = best_model.predict(tf.ragged.constant(val_tokens))\n",
    "print(\"ROC AUC score on test set: {0:.4}\".format(roc_auc_score(encoded_test, predictions)))\n",
    "\n",
    "fpr, tpr, thresholds = roc_curve(encoded_val, val_predictions)\n",
    "optimal_threshold = thresholds[np.argmax(tpr - fpr, axis=0)]\n",
    "print(\"Optimal threshold on validation set: {0:.4}\".format(optimal_threshold))"
   ]
  },
  {
   "cell_type": "code",
   "execution_count": 25,
   "id": "00eb6a86",
   "metadata": {
    "execution": {
     "iopub.execute_input": "2022-01-21T09:18:55.750370Z",
     "iopub.status.busy": "2022-01-21T09:18:55.749295Z",
     "iopub.status.idle": "2022-01-21T09:18:55.760985Z",
     "shell.execute_reply": "2022-01-21T09:18:55.761484Z",
     "shell.execute_reply.started": "2022-01-21T08:32:51.302597Z"
    },
    "papermill": {
     "duration": 4.456282,
     "end_time": "2022-01-21T09:18:55.761643",
     "exception": false,
     "start_time": "2022-01-21T09:18:51.305361",
     "status": "completed"
    },
    "tags": []
   },
   "outputs": [
    {
     "name": "stdout",
     "output_type": "stream",
     "text": [
      "              precision    recall  f1-score   support\n",
      "\n",
      "           0       0.90      0.92      0.91      1437\n",
      "           1       0.92      0.91      0.92      1563\n",
      "\n",
      "    accuracy                           0.91      3000\n",
      "   macro avg       0.91      0.91      0.91      3000\n",
      "weighted avg       0.91      0.91      0.91      3000\n",
      "\n"
     ]
    }
   ],
   "source": [
    "print(classification_report(encoded_test, predictions >= optimal_threshold))"
   ]
  },
  {
   "cell_type": "code",
   "execution_count": 26,
   "id": "6cc63959",
   "metadata": {
    "execution": {
     "iopub.execute_input": "2022-01-21T09:19:04.692287Z",
     "iopub.status.busy": "2022-01-21T09:19:04.691657Z",
     "iopub.status.idle": "2022-01-21T09:19:04.895979Z",
     "shell.execute_reply": "2022-01-21T09:19:04.895402Z",
     "shell.execute_reply.started": "2022-01-21T08:32:53.022415Z"
    },
    "papermill": {
     "duration": 4.705094,
     "end_time": "2022-01-21T09:19:04.896115",
     "exception": false,
     "start_time": "2022-01-21T09:19:00.191021",
     "status": "completed"
    },
    "tags": []
   },
   "outputs": [
    {
     "data": {
      "image/png": "[encoded data removed]",
      "text/plain": [
       "<Figure size 576x360 with 2 Axes>"
      ]
     },
     "metadata": {},
     "output_type": "display_data"
    }
   ],
   "source": [
    "plot_confmat(encoded_test,  predictions >= optimal_threshold)"
   ]
  },
  {
   "cell_type": "markdown",
   "id": "7e4e6561",
   "metadata": {
    "papermill": {
     "duration": 4.492773,
     "end_time": "2022-01-21T09:19:13.839889",
     "exception": false,
     "start_time": "2022-01-21T09:19:09.347116",
     "status": "completed"
    },
    "tags": []
   },
   "source": [
    "- from the classification report, the F1 score of both classes are nearly the same\n",
    "- the evaluation result also tell that model tend to predict some of positive texts as negative"
   ]
  },
  {
   "cell_type": "markdown",
   "id": "6ab5831b",
   "metadata": {
    "papermill": {
     "duration": 4.456239,
     "end_time": "2022-01-21T09:19:22.808461",
     "exception": false,
     "start_time": "2022-01-21T09:19:18.352222",
     "status": "completed"
    },
    "tags": []
   },
   "source": [
    "#### Prediction\n",
    "- provide 2 sentences of opposite polarity to model and see if model predict them correctly\n",
    "- the prediction for each text input is the probability of of text belonging to positive polarity"
   ]
  },
  {
   "cell_type": "code",
   "execution_count": 27,
   "id": "83ef1d5f",
   "metadata": {
    "execution": {
     "iopub.execute_input": "2022-01-21T09:19:31.826766Z",
     "iopub.status.busy": "2022-01-21T09:19:31.825806Z",
     "iopub.status.idle": "2022-01-21T09:19:31.847299Z",
     "shell.execute_reply": "2022-01-21T09:19:31.848251Z",
     "shell.execute_reply.started": "2022-01-21T08:33:02.643084Z"
    },
    "papermill": {
     "duration": 4.538713,
     "end_time": "2022-01-21T09:19:31.848435",
     "exception": false,
     "start_time": "2022-01-21T09:19:27.309722",
     "status": "completed"
    },
    "tags": []
   },
   "outputs": [
    {
     "data": {
      "text/plain": [
       "array([[0.8910035],\n",
       "       [0.2308566]], dtype=float32)"
      ]
     },
     "execution_count": 27,
     "metadata": {},
     "output_type": "execute_result"
    }
   ],
   "source": [
    "best_model.predict(\n",
    "    tf.ragged.constant(\n",
    "        tokenizer.texts_to_sequences([\n",
    "            \"it s begin to look a lot like xmas, snow everywhere\",\n",
    "            \"so inappropriate i will go some where else that is more suitable\"\n",
    "        ])\n",
    "    )\n",
    ")"
   ]
  }
 ],
 "metadata": {
  "kernelspec": {
   "display_name": "Python 3",
   "language": "python",
   "name": "python3"
  },
  "language_info": {
   "codemirror_mode": {
    "name": "ipython",
    "version": 3
   },
   "file_extension": ".py",
   "mimetype": "text/x-python",
   "name": "python",
   "nbconvert_exporter": "python",
   "pygments_lexer": "ipython3",
   "version": "3.7.12"
  },
  "papermill": {
   "default_parameters": {},
   "duration": 2775.402402,
   "end_time": "2022-01-21T09:19:39.477036",
   "environment_variables": {},
   "exception": null,
   "input_path": "__notebook__.ipynb",
   "output_path": "__notebook__.ipynb",
   "parameters": {},
   "start_time": "2022-01-21T08:33:24.074634",
   "version": "2.3.3"
  }
 },
 "nbformat": 4,
 "nbformat_minor": 5
}
