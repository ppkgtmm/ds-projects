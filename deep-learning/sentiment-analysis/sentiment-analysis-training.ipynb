{
 "cells": [
  {
   "cell_type": "code",
   "execution_count": 1,
   "id": "f373a1d6",
   "metadata": {
    "_cell_guid": "b1076dfc-b9ad-4769-8c92-a6c4dae69d19",
    "_uuid": "8f2839f25d086af736a60e9eeb907d3b93b6e0e5",
    "execution": {
     "iopub.execute_input": "2021-12-25T10:29:05.616162Z",
     "iopub.status.busy": "2021-12-25T10:29:05.615513Z",
     "iopub.status.idle": "2021-12-25T10:29:11.796342Z",
     "shell.execute_reply": "2021-12-25T10:29:11.795504Z",
     "shell.execute_reply.started": "2021-12-25T09:46:26.987268Z"
    },
    "papermill": {
     "duration": 6.208423,
     "end_time": "2021-12-25T10:29:11.796500",
     "exception": false,
     "start_time": "2021-12-25T10:29:05.588077",
     "status": "completed"
    },
    "tags": []
   },
   "outputs": [],
   "source": [
    "import pandas as pd\n",
    "import seaborn as sns\n",
    "import matplotlib.pyplot as plt\n",
    "import tensorflow as tf\n",
    "import numpy as np\n",
    "from sklearn.metrics import classification_report, confusion_matrix, roc_auc_score, roc_curve\n",
    "from sklearn.utils import compute_class_weight\n",
    "from sklearn.model_selection import train_test_split\n",
    "import pickle\n",
    "\n",
    "plt.style.use('fivethirtyeight')"
   ]
  },
  {
   "cell_type": "code",
   "execution_count": 2,
   "id": "f9ae204a",
   "metadata": {
    "execution": {
     "iopub.execute_input": "2021-12-25T10:29:11.833649Z",
     "iopub.status.busy": "2021-12-25T10:29:11.832800Z",
     "iopub.status.idle": "2021-12-25T10:29:11.835788Z",
     "shell.execute_reply": "2021-12-25T10:29:11.835258Z",
     "shell.execute_reply.started": "2021-12-25T09:14:01.443677Z"
    },
    "papermill": {
     "duration": 0.022984,
     "end_time": "2021-12-25T10:29:11.835927",
     "exception": false,
     "start_time": "2021-12-25T10:29:11.812943",
     "status": "completed"
    },
    "tags": []
   },
   "outputs": [],
   "source": [
    "train_path = \"../input/amazon-cleaned-reviews/train.csv\"\n",
    "test_path = \"../input/amazon-cleaned-reviews/test.csv\"\n",
    "tokenizer_path = \"../input/amazon-cleaned-reviews/tokenizer.pkl\""
   ]
  },
  {
   "cell_type": "code",
   "execution_count": 3,
   "id": "07dcb1bf",
   "metadata": {
    "execution": {
     "iopub.execute_input": "2021-12-25T10:29:11.873059Z",
     "iopub.status.busy": "2021-12-25T10:29:11.872400Z",
     "iopub.status.idle": "2021-12-25T10:29:12.400177Z",
     "shell.execute_reply": "2021-12-25T10:29:12.400698Z",
     "shell.execute_reply.started": "2021-12-25T09:14:01.452300Z"
    },
    "papermill": {
     "duration": 0.548958,
     "end_time": "2021-12-25T10:29:12.400860",
     "exception": false,
     "start_time": "2021-12-25T10:29:11.851902",
     "status": "completed"
    },
    "tags": []
   },
   "outputs": [
    {
     "data": {
      "text/html": [
       "<div>\n",
       "<style scoped>\n",
       "    .dataframe tbody tr th:only-of-type {\n",
       "        vertical-align: middle;\n",
       "    }\n",
       "\n",
       "    .dataframe tbody tr th {\n",
       "        vertical-align: top;\n",
       "    }\n",
       "\n",
       "    .dataframe thead th {\n",
       "        text-align: right;\n",
       "    }\n",
       "</style>\n",
       "<table border=\"1\" class=\"dataframe\">\n",
       "  <thead>\n",
       "    <tr style=\"text-align: right;\">\n",
       "      <th></th>\n",
       "      <th>text</th>\n",
       "      <th>target</th>\n",
       "    </tr>\n",
       "  </thead>\n",
       "  <tbody>\n",
       "    <tr>\n",
       "      <th>0</th>\n",
       "      <td>stuning even for the non gamer this sound trac...</td>\n",
       "      <td>1</td>\n",
       "    </tr>\n",
       "    <tr>\n",
       "      <th>1</th>\n",
       "      <td>the best soundtrack ever to anything i am read...</td>\n",
       "      <td>1</td>\n",
       "    </tr>\n",
       "    <tr>\n",
       "      <th>2</th>\n",
       "      <td>amazing this soundtrack is my favorite music o...</td>\n",
       "      <td>1</td>\n",
       "    </tr>\n",
       "    <tr>\n",
       "      <th>3</th>\n",
       "      <td>excellent soundtrack i truly like this soundtr...</td>\n",
       "      <td>1</td>\n",
       "    </tr>\n",
       "    <tr>\n",
       "      <th>4</th>\n",
       "      <td>remember pull your jaw off the floor after hea...</td>\n",
       "      <td>1</td>\n",
       "    </tr>\n",
       "  </tbody>\n",
       "</table>\n",
       "</div>"
      ],
      "text/plain": [
       "                                                text  target\n",
       "0  stuning even for the non gamer this sound trac...       1\n",
       "1  the best soundtrack ever to anything i am read...       1\n",
       "2  amazing this soundtrack is my favorite music o...       1\n",
       "3  excellent soundtrack i truly like this soundtr...       1\n",
       "4  remember pull your jaw off the floor after hea...       1"
      ]
     },
     "execution_count": 3,
     "metadata": {},
     "output_type": "execute_result"
    }
   ],
   "source": [
    "train = pd.read_csv(train_path)\n",
    "test = pd.read_csv(test_path)\n",
    "\n",
    "train.head()"
   ]
  },
  {
   "cell_type": "code",
   "execution_count": 4,
   "id": "1affce32",
   "metadata": {
    "execution": {
     "iopub.execute_input": "2021-12-25T10:29:12.439993Z",
     "iopub.status.busy": "2021-12-25T10:29:12.439274Z",
     "iopub.status.idle": "2021-12-25T10:29:15.588179Z",
     "shell.execute_reply": "2021-12-25T10:29:15.587463Z",
     "shell.execute_reply.started": "2021-12-25T09:14:02.043253Z"
    },
    "papermill": {
     "duration": 3.170825,
     "end_time": "2021-12-25T10:29:15.588323",
     "exception": false,
     "start_time": "2021-12-25T10:29:12.417498",
     "status": "completed"
    },
    "tags": []
   },
   "outputs": [],
   "source": [
    "MAX_FEATURES = 12000\n",
    "\n",
    "tokenizer = pickle.load(open(tokenizer_path, \"rb\"))\n",
    "\n",
    "train_tokens = tokenizer.texts_to_sequences(train['text'].values)\n",
    "test_tokens = tokenizer.texts_to_sequences(test['text'].values)"
   ]
  },
  {
   "cell_type": "code",
   "execution_count": 5,
   "id": "cb473194",
   "metadata": {
    "execution": {
     "iopub.execute_input": "2021-12-25T10:29:15.630116Z",
     "iopub.status.busy": "2021-12-25T10:29:15.629390Z",
     "iopub.status.idle": "2021-12-25T10:29:34.272288Z",
     "shell.execute_reply": "2021-12-25T10:29:34.271574Z",
     "shell.execute_reply.started": "2021-12-25T09:14:04.635250Z"
    },
    "papermill": {
     "duration": 18.667717,
     "end_time": "2021-12-25T10:29:34.272437",
     "exception": false,
     "start_time": "2021-12-25T10:29:15.604720",
     "status": "completed"
    },
    "tags": []
   },
   "outputs": [
    {
     "name": "stderr",
     "output_type": "stream",
     "text": [
      "\n",
      "User settings:\n",
      "\n",
      "   KMP_AFFINITY=granularity=fine,verbose,compact,1,0\n",
      "   KMP_BLOCKTIME=0\n",
      "   KMP_DUPLICATE_LIB_OK=True\n",
      "   KMP_INIT_AT_FORK=FALSE\n",
      "   KMP_SETTINGS=1\n",
      "   KMP_WARNINGS=0\n",
      "\n",
      "Effective settings:\n",
      "\n",
      "   KMP_ABORT_DELAY=0\n",
      "   KMP_ADAPTIVE_LOCK_PROPS='1,1024'\n",
      "   KMP_ALIGN_ALLOC=64\n",
      "   KMP_ALL_THREADPRIVATE=128\n",
      "   KMP_ATOMIC_MODE=2\n",
      "   KMP_BLOCKTIME=0\n",
      "   KMP_CPUINFO_FILE: value is not defined\n",
      "   KMP_DETERMINISTIC_REDUCTION=false\n",
      "   KMP_DEVICE_THREAD_LIMIT=2147483647\n",
      "   KMP_DISP_NUM_BUFFERS=7\n",
      "   KMP_DUPLICATE_LIB_OK=true\n",
      "   KMP_ENABLE_TASK_THROTTLING=true\n",
      "   KMP_FORCE_REDUCTION: value is not defined\n",
      "   KMP_FOREIGN_THREADS_THREADPRIVATE=true\n",
      "   KMP_FORKJOIN_BARRIER='2,2'\n",
      "   KMP_FORKJOIN_BARRIER_PATTERN='hyper,hyper'\n",
      "   KMP_GTID_MODE=3\n",
      "   KMP_HANDLE_SIGNALS=false\n",
      "   KMP_HOT_TEAMS_MAX_LEVEL=1\n",
      "   KMP_HOT_TEAMS_MODE=0\n",
      "   KMP_INIT_AT_FORK=true\n",
      "   KMP_LIBRARY=throughput\n",
      "   KMP_LOCK_KIND=queuing\n",
      "   KMP_MALLOC_POOL_INCR=1M\n",
      "   KMP_NUM_LOCKS_IN_BLOCK=1\n",
      "   KMP_PLAIN_BARRIER='2,2'\n",
      "   KMP_PLAIN_BARRIER_PATTERN='hyper,hyper'\n",
      "   KMP_REDUCTION_BARRIER='1,1'\n",
      "   KMP_REDUCTION_BARRIER_PATTERN='hyper,hyper'\n",
      "   KMP_SCHEDULE='static,balanced;guided,iterative'\n",
      "   KMP_SETTINGS=true\n",
      "   KMP_SPIN_BACKOFF_PARAMS='4096,100'\n",
      "   KMP_STACKOFFSET=64\n",
      "   KMP_STACKPAD=0\n",
      "   KMP_STACKSIZE=8M\n",
      "   KMP_STORAGE_MAP=false\n",
      "   KMP_TASKING=2\n",
      "   KMP_TASKLOOP_MIN_TASKS=0\n",
      "   KMP_TASK_STEALING_CONSTRAINT=1\n",
      "   KMP_TEAMS_THREAD_LIMIT=4\n",
      "   KMP_TOPOLOGY_METHOD=all\n",
      "   KMP_USE_YIELD=1\n",
      "   KMP_VERSION=false\n",
      "   KMP_WARNINGS=false\n",
      "   OMP_AFFINITY_FORMAT='OMP: pid %P tid %i thread %n bound to OS proc set {%A}'\n",
      "   OMP_ALLOCATOR=omp_default_mem_alloc\n",
      "   OMP_CANCELLATION=false\n",
      "   OMP_DEFAULT_DEVICE=0\n",
      "   OMP_DISPLAY_AFFINITY=false\n",
      "   OMP_DISPLAY_ENV=false\n",
      "   OMP_DYNAMIC=false\n",
      "   OMP_MAX_ACTIVE_LEVELS=1\n",
      "   OMP_MAX_TASK_PRIORITY=0\n",
      "   OMP_NESTED: deprecated; max-active-levels-var=1\n",
      "   OMP_NUM_THREADS: value is not defined\n",
      "   OMP_PLACES: value is not defined\n",
      "   OMP_PROC_BIND='intel'\n",
      "   OMP_SCHEDULE='static'\n",
      "   OMP_STACKSIZE=8M\n",
      "   OMP_TARGET_OFFLOAD=DEFAULT\n",
      "   OMP_THREAD_LIMIT=2147483647\n",
      "   OMP_WAIT_POLICY=PASSIVE\n",
      "   KMP_AFFINITY='verbose,warnings,respect,granularity=fine,compact,1,0'\n",
      "\n",
      "2021-12-25 10:29:29.048788: I tensorflow/core/common_runtime/process_util.cc:146] Creating new thread pool with default inter op setting: 2. Tune using inter_op_parallelism_threads for best performance.\n"
     ]
    }
   ],
   "source": [
    "train_text, val_text, train_target, val_target = train_test_split(train_tokens, train['target'], test_size=0.2, random_state=42, stratify= train['target'])\n",
    "\n",
    "train_data = tf.data.Dataset.from_tensor_slices((tf.ragged.constant(train_text), train_target)).batch(128)\n",
    "val_data = tf.data.Dataset.from_tensor_slices((tf.ragged.constant(val_text), val_target)).batch(128)\n",
    "test_data = tf.data.Dataset.from_tensor_slices((tf.ragged.constant(test_tokens), test['target'])).batch(128)"
   ]
  },
  {
   "cell_type": "code",
   "execution_count": 6,
   "id": "f106fa46",
   "metadata": {
    "execution": {
     "iopub.execute_input": "2021-12-25T10:29:34.313504Z",
     "iopub.status.busy": "2021-12-25T10:29:34.312470Z",
     "iopub.status.idle": "2021-12-25T10:29:34.315463Z",
     "shell.execute_reply": "2021-12-25T10:29:34.314917Z",
     "shell.execute_reply.started": "2021-12-25T09:14:15.662041Z"
    },
    "papermill": {
     "duration": 0.026109,
     "end_time": "2021-12-25T10:29:34.315603",
     "exception": false,
     "start_time": "2021-12-25T10:29:34.289494",
     "status": "completed"
    },
    "tags": []
   },
   "outputs": [],
   "source": [
    "def get_callbacks(file_path):\n",
    "    return [\n",
    "        tf.keras.callbacks.ReduceLROnPlateau(monitor='val_loss', mode='min', factor=0.3, patience=1, min_lr=0.00001),\n",
    "        tf.keras.callbacks.ModelCheckpoint(filepath=file_path, monitor='val_loss', mode='min', save_best_only=True),\n",
    "        tf.keras.callbacks.EarlyStopping(monitor='val_loss', mode='min', restore_best_weights=True, min_delta=1e-8, patience=3)\n",
    "    ]"
   ]
  },
  {
   "cell_type": "code",
   "execution_count": 7,
   "id": "70f17fe7",
   "metadata": {
    "execution": {
     "iopub.execute_input": "2021-12-25T10:29:34.352134Z",
     "iopub.status.busy": "2021-12-25T10:29:34.351518Z",
     "iopub.status.idle": "2021-12-25T10:29:34.357826Z",
     "shell.execute_reply": "2021-12-25T10:29:34.358325Z",
     "shell.execute_reply.started": "2021-12-25T09:14:15.669642Z"
    },
    "papermill": {
     "duration": 0.026258,
     "end_time": "2021-12-25T10:29:34.358480",
     "exception": false,
     "start_time": "2021-12-25T10:29:34.332222",
     "status": "completed"
    },
    "tags": []
   },
   "outputs": [],
   "source": [
    "def plot_history(history):\n",
    "    get_plot_data = lambda metric: [np.arange(len(metric)) + 1, metric]\n",
    "\n",
    "    plt.figure(figsize=(10,5))\n",
    "\n",
    "    plt.plot(*get_plot_data(history.history['loss']))\n",
    "    plt.plot(*get_plot_data(history.history['accuracy']))\n",
    "    plt.plot(*get_plot_data(history.history['val_loss']))\n",
    "    plt.plot(*get_plot_data(history.history['val_accuracy']))\n",
    "\n",
    "    plt.title('Model performance')\n",
    "    plt.legend(list(history.history.keys())[:-1])\n",
    "    plt.xlabel('Epoch')\n",
    "    plt.ylabel('Value')\n",
    "    plt.show()"
   ]
  },
  {
   "cell_type": "code",
   "execution_count": 8,
   "id": "5b727e21",
   "metadata": {
    "execution": {
     "iopub.execute_input": "2021-12-25T10:29:34.398666Z",
     "iopub.status.busy": "2021-12-25T10:29:34.394889Z",
     "iopub.status.idle": "2021-12-25T10:29:34.401452Z",
     "shell.execute_reply": "2021-12-25T10:29:34.400915Z",
     "shell.execute_reply.started": "2021-12-25T09:37:58.958608Z"
    },
    "papermill": {
     "duration": 0.026342,
     "end_time": "2021-12-25T10:29:34.401589",
     "exception": false,
     "start_time": "2021-12-25T10:29:34.375247",
     "status": "completed"
    },
    "tags": []
   },
   "outputs": [],
   "source": [
    "def plot_confmat(y_true, predictions):\n",
    "    labels = ['negative', 'positive']\n",
    "\n",
    "    conf_mat = confusion_matrix(y_true, predictions, normalize='true')\n",
    "\n",
    "    plt.figure(figsize=(8,5))\n",
    "    sns.heatmap(pd.DataFrame(conf_mat, columns=labels, index=labels), annot=True, fmt='.2f')\n",
    "    plt.ylabel('Actual label')\n",
    "    plt.xlabel('Predicted label')\n",
    "    plt.title('Confusion matrix of test data')\n",
    "    plt.show()"
   ]
  },
  {
   "cell_type": "code",
   "execution_count": 9,
   "id": "73eb4ed3",
   "metadata": {
    "execution": {
     "iopub.execute_input": "2021-12-25T10:29:34.440047Z",
     "iopub.status.busy": "2021-12-25T10:29:34.439404Z",
     "iopub.status.idle": "2021-12-25T10:29:34.452508Z",
     "shell.execute_reply": "2021-12-25T10:29:34.451990Z",
     "shell.execute_reply.started": "2021-12-25T09:14:15.700409Z"
    },
    "papermill": {
     "duration": 0.034146,
     "end_time": "2021-12-25T10:29:34.452638",
     "exception": false,
     "start_time": "2021-12-25T10:29:34.418492",
     "status": "completed"
    },
    "tags": []
   },
   "outputs": [],
   "source": [
    "class_weight = compute_class_weight(class_weight='balanced', classes=np.unique(train['target']), y=train['target'])\n",
    "class_weight = dict(enumerate(class_weight))"
   ]
  },
  {
   "cell_type": "code",
   "execution_count": 10,
   "id": "e2fa2a40",
   "metadata": {
    "execution": {
     "iopub.execute_input": "2021-12-25T10:29:34.492124Z",
     "iopub.status.busy": "2021-12-25T10:29:34.488878Z",
     "iopub.status.idle": "2021-12-25T10:29:36.001171Z",
     "shell.execute_reply": "2021-12-25T10:29:36.001761Z",
     "shell.execute_reply.started": "2021-12-25T09:15:06.850018Z"
    },
    "papermill": {
     "duration": 1.532515,
     "end_time": "2021-12-25T10:29:36.001952",
     "exception": false,
     "start_time": "2021-12-25T10:29:34.469437",
     "status": "completed"
    },
    "tags": []
   },
   "outputs": [],
   "source": [
    "LSTM_model = tf.keras.Sequential([\n",
    "    tf.keras.layers.Input(shape=[None], dtype=tf.int32, ragged=True),\n",
    "    tf.keras.layers.Embedding(MAX_FEATURES, 10), # MAX_FEATURES ** (1/4)\n",
    "    tf.keras.layers.LSTM(2),\n",
    "    tf.keras.layers.Dense(1, activation='sigmoid')\n",
    "])\n",
    "\n",
    "LSTM_model.compile(optimizer='adam', loss='binary_crossentropy', metrics=['accuracy'])"
   ]
  },
  {
   "cell_type": "code",
   "execution_count": 11,
   "id": "22170a0b",
   "metadata": {
    "execution": {
     "iopub.execute_input": "2021-12-25T10:29:36.041651Z",
     "iopub.status.busy": "2021-12-25T10:29:36.040975Z",
     "iopub.status.idle": "2021-12-25T10:39:33.985349Z",
     "shell.execute_reply": "2021-12-25T10:39:33.983661Z",
     "shell.execute_reply.started": "2021-12-25T09:15:15.200960Z"
    },
    "papermill": {
     "duration": 597.966439,
     "end_time": "2021-12-25T10:39:33.985547",
     "exception": false,
     "start_time": "2021-12-25T10:29:36.019108",
     "status": "completed"
    },
    "tags": []
   },
   "outputs": [
    {
     "name": "stderr",
     "output_type": "stream",
     "text": [
      "2021-12-25 10:29:36.108237: I tensorflow/compiler/mlir/mlir_graph_optimization_pass.cc:185] None of the MLIR Optimization Passes are enabled (registered 2)\n"
     ]
    },
    {
     "name": "stdout",
     "output_type": "stream",
     "text": [
      "Epoch 1/15\n"
     ]
    },
    {
     "name": "stderr",
     "output_type": "stream",
     "text": [
      "/opt/conda/lib/python3.7/site-packages/tensorflow/python/framework/indexed_slices.py:449: UserWarning: Converting sparse IndexedSlices(IndexedSlices(indices=Tensor(\"gradient_tape/sequential/lstm/RaggedToTensor/boolean_mask_1/GatherV2:0\", shape=(None,), dtype=int32), values=Tensor(\"gradient_tape/sequential/lstm/RaggedToTensor/boolean_mask/GatherV2:0\", shape=(None, 10), dtype=float32), dense_shape=Tensor(\"gradient_tape/sequential/lstm/RaggedToTensor/Shape:0\", shape=(2,), dtype=int32))) to a dense Tensor of unknown shape. This may consume a large amount of memory.\n",
      "  \"shape. This may consume a large amount of memory.\" % value)\n"
     ]
    },
    {
     "name": "stdout",
     "output_type": "stream",
     "text": [
      "313/313 [==============================] - 39s 117ms/step - loss: 0.5781 - accuracy: 0.7597 - val_loss: 0.4815 - val_accuracy: 0.8438\n",
      "Epoch 2/15\n",
      "313/313 [==============================] - 36s 116ms/step - loss: 0.4594 - accuracy: 0.8383 - val_loss: 0.4350 - val_accuracy: 0.8443\n",
      "Epoch 3/15\n",
      "313/313 [==============================] - 36s 116ms/step - loss: 0.4060 - accuracy: 0.8580 - val_loss: 0.4057 - val_accuracy: 0.8494\n",
      "Epoch 4/15\n",
      "313/313 [==============================] - 36s 117ms/step - loss: 0.3882 - accuracy: 0.8567 - val_loss: 0.4065 - val_accuracy: 0.8423\n",
      "Epoch 5/15\n",
      "313/313 [==============================] - 37s 118ms/step - loss: 0.3547 - accuracy: 0.8741 - val_loss: 0.4031 - val_accuracy: 0.8435\n",
      "Epoch 6/15\n",
      "313/313 [==============================] - 36s 116ms/step - loss: 0.3406 - accuracy: 0.8808 - val_loss: 0.4020 - val_accuracy: 0.8397\n",
      "Epoch 7/15\n",
      "313/313 [==============================] - 36s 116ms/step - loss: 0.3365 - accuracy: 0.8798 - val_loss: 0.3930 - val_accuracy: 0.8447\n",
      "Epoch 8/15\n",
      "313/313 [==============================] - 37s 117ms/step - loss: 0.3155 - accuracy: 0.8925 - val_loss: 0.3858 - val_accuracy: 0.8492\n",
      "Epoch 9/15\n",
      "313/313 [==============================] - 36s 116ms/step - loss: 0.3016 - accuracy: 0.8991 - val_loss: 0.3766 - val_accuracy: 0.8535\n",
      "Epoch 10/15\n",
      "313/313 [==============================] - 36s 116ms/step - loss: 0.2904 - accuracy: 0.9042 - val_loss: 0.3705 - val_accuracy: 0.8578\n",
      "Epoch 11/15\n",
      "313/313 [==============================] - 36s 115ms/step - loss: 0.2809 - accuracy: 0.9082 - val_loss: 0.3677 - val_accuracy: 0.8586\n",
      "Epoch 12/15\n",
      "313/313 [==============================] - 36s 116ms/step - loss: 0.2699 - accuracy: 0.9129 - val_loss: 0.3649 - val_accuracy: 0.8600\n",
      "Epoch 13/15\n",
      "313/313 [==============================] - 36s 116ms/step - loss: 0.2623 - accuracy: 0.9156 - val_loss: 0.3695 - val_accuracy: 0.8594\n",
      "Epoch 14/15\n",
      "313/313 [==============================] - 36s 115ms/step - loss: 0.2540 - accuracy: 0.9191 - val_loss: 0.3643 - val_accuracy: 0.8600\n",
      "Epoch 15/15\n",
      "313/313 [==============================] - 36s 117ms/step - loss: 0.2532 - accuracy: 0.9192 - val_loss: 0.3657 - val_accuracy: 0.8608\n"
     ]
    }
   ],
   "source": [
    "LSTM_history = LSTM_model.fit(train_data, epochs=15, validation_data=val_data, callbacks=get_callbacks('LSTM_model.h5'), class_weight=class_weight)"
   ]
  },
  {
   "cell_type": "code",
   "execution_count": 12,
   "id": "d621cc88",
   "metadata": {
    "execution": {
     "iopub.execute_input": "2021-12-25T10:39:36.980521Z",
     "iopub.status.busy": "2021-12-25T10:39:36.979867Z",
     "iopub.status.idle": "2021-12-25T10:39:37.256073Z",
     "shell.execute_reply": "2021-12-25T10:39:37.256493Z",
     "shell.execute_reply.started": "2021-12-25T09:22:10.115433Z"
    },
    "papermill": {
     "duration": 1.797991,
     "end_time": "2021-12-25T10:39:37.256652",
     "exception": false,
     "start_time": "2021-12-25T10:39:35.458661",
     "status": "completed"
    },
    "tags": []
   },
   "outputs": [
    {
     "data": {
      "image/png": "[encoded data removed]",
      "text/plain": [
       "<Figure size 720x360 with 1 Axes>"
      ]
     },
     "metadata": {},
     "output_type": "display_data"
    }
   ],
   "source": [
    "plot_history(LSTM_history)"
   ]
  },
  {
   "cell_type": "code",
   "execution_count": 13,
   "id": "88f57e88",
   "metadata": {
    "execution": {
     "iopub.execute_input": "2021-12-25T10:39:40.190891Z",
     "iopub.status.busy": "2021-12-25T10:39:40.190270Z",
     "iopub.status.idle": "2021-12-25T10:39:40.293041Z",
     "shell.execute_reply": "2021-12-25T10:39:40.292430Z",
     "shell.execute_reply.started": "2021-12-25T09:24:35.248527Z"
    },
    "papermill": {
     "duration": 1.570635,
     "end_time": "2021-12-25T10:39:40.293179",
     "exception": false,
     "start_time": "2021-12-25T10:39:38.722544",
     "status": "completed"
    },
    "tags": []
   },
   "outputs": [],
   "source": [
    "LSTM_model2 = tf.keras.Sequential([\n",
    "    tf.keras.layers.Input(shape=[None], dtype=tf.int32, ragged=True),\n",
    "    tf.keras.layers.Embedding(MAX_FEATURES, 10), # MAX_FEATURES ** (1/4)\n",
    "    tf.keras.layers.LSTM(2),\n",
    "    tf.keras.layers.Dense(1, activation='sigmoid')\n",
    "])\n",
    "\n",
    "LSTM_model2.compile(optimizer='rmsprop', loss='binary_crossentropy', metrics=['accuracy'])"
   ]
  },
  {
   "cell_type": "code",
   "execution_count": 14,
   "id": "68516bed",
   "metadata": {
    "execution": {
     "iopub.execute_input": "2021-12-25T10:39:43.294836Z",
     "iopub.status.busy": "2021-12-25T10:39:43.294192Z",
     "iopub.status.idle": "2021-12-25T10:45:10.314128Z",
     "shell.execute_reply": "2021-12-25T10:45:10.313564Z",
     "shell.execute_reply.started": "2021-12-25T09:25:26.362618Z"
    },
    "papermill": {
     "duration": 328.554093,
     "end_time": "2021-12-25T10:45:10.314279",
     "exception": false,
     "start_time": "2021-12-25T10:39:41.760186",
     "status": "completed"
    },
    "tags": []
   },
   "outputs": [
    {
     "name": "stdout",
     "output_type": "stream",
     "text": [
      "Epoch 1/15\n"
     ]
    },
    {
     "name": "stderr",
     "output_type": "stream",
     "text": [
      "/opt/conda/lib/python3.7/site-packages/tensorflow/python/framework/indexed_slices.py:449: UserWarning: Converting sparse IndexedSlices(IndexedSlices(indices=Tensor(\"gradient_tape/sequential_1/lstm_1/RaggedToTensor/boolean_mask_1/GatherV2:0\", shape=(None,), dtype=int32), values=Tensor(\"gradient_tape/sequential_1/lstm_1/RaggedToTensor/boolean_mask/GatherV2:0\", shape=(None, 10), dtype=float32), dense_shape=Tensor(\"gradient_tape/sequential_1/lstm_1/RaggedToTensor/Shape:0\", shape=(2,), dtype=int32))) to a dense Tensor of unknown shape. This may consume a large amount of memory.\n",
      "  \"shape. This may consume a large amount of memory.\" % value)\n"
     ]
    },
    {
     "name": "stdout",
     "output_type": "stream",
     "text": [
      "313/313 [==============================] - 39s 116ms/step - loss: 0.6398 - accuracy: 0.6901 - val_loss: 0.5372 - val_accuracy: 0.7895\n",
      "Epoch 2/15\n",
      "313/313 [==============================] - 36s 116ms/step - loss: 0.4427 - accuracy: 0.8496 - val_loss: 0.3942 - val_accuracy: 0.8674\n",
      "Epoch 3/15\n",
      "313/313 [==============================] - 36s 116ms/step - loss: 0.3430 - accuracy: 0.8888 - val_loss: 0.3462 - val_accuracy: 0.8741\n",
      "Epoch 4/15\n",
      "313/313 [==============================] - 36s 116ms/step - loss: 0.2816 - accuracy: 0.9076 - val_loss: 0.3209 - val_accuracy: 0.8797\n",
      "Epoch 5/15\n",
      "313/313 [==============================] - 36s 114ms/step - loss: 0.2431 - accuracy: 0.9183 - val_loss: 0.3060 - val_accuracy: 0.8824\n",
      "Epoch 6/15\n",
      "313/313 [==============================] - 36s 115ms/step - loss: 0.2171 - accuracy: 0.9271 - val_loss: 0.3032 - val_accuracy: 0.8857\n",
      "Epoch 7/15\n",
      "313/313 [==============================] - 36s 114ms/step - loss: 0.2012 - accuracy: 0.9332 - val_loss: 0.3159 - val_accuracy: 0.8791\n",
      "Epoch 8/15\n",
      "313/313 [==============================] - 36s 115ms/step - loss: 0.1788 - accuracy: 0.9421 - val_loss: 0.3083 - val_accuracy: 0.8854\n",
      "Epoch 9/15\n",
      "313/313 [==============================] - 36s 114ms/step - loss: 0.1699 - accuracy: 0.9463 - val_loss: 0.3085 - val_accuracy: 0.8853\n"
     ]
    }
   ],
   "source": [
    "LSTM2_history = LSTM_model2.fit(train_data, epochs=15, validation_data=val_data, callbacks=get_callbacks('LSTM_model2.h5'), class_weight=class_weight)"
   ]
  },
  {
   "cell_type": "code",
   "execution_count": 15,
   "id": "1cd89b71",
   "metadata": {
    "execution": {
     "iopub.execute_input": "2021-12-25T10:45:14.978602Z",
     "iopub.status.busy": "2021-12-25T10:45:14.977893Z",
     "iopub.status.idle": "2021-12-25T10:45:15.233241Z",
     "shell.execute_reply": "2021-12-25T10:45:15.233739Z",
     "shell.execute_reply.started": "2021-12-25T09:35:00.458764Z"
    },
    "papermill": {
     "duration": 2.6048,
     "end_time": "2021-12-25T10:45:15.233901",
     "exception": false,
     "start_time": "2021-12-25T10:45:12.629101",
     "status": "completed"
    },
    "tags": []
   },
   "outputs": [
    {
     "data": {
      "image/png": "[encoded data removed]",
      "text/plain": [
       "<Figure size 720x360 with 1 Axes>"
      ]
     },
     "metadata": {},
     "output_type": "display_data"
    }
   ],
   "source": [
    "plot_history(LSTM2_history)"
   ]
  },
  {
   "cell_type": "code",
   "execution_count": 16,
   "id": "60673531",
   "metadata": {
    "execution": {
     "iopub.execute_input": "2021-12-25T10:45:19.927782Z",
     "iopub.status.busy": "2021-12-25T10:45:19.926758Z",
     "iopub.status.idle": "2021-12-25T10:45:20.979018Z",
     "shell.execute_reply": "2021-12-25T10:45:20.978057Z",
     "shell.execute_reply.started": "2021-12-25T10:26:50.195336Z"
    },
    "papermill": {
     "duration": 3.427019,
     "end_time": "2021-12-25T10:45:20.979196",
     "exception": false,
     "start_time": "2021-12-25T10:45:17.552177",
     "status": "completed"
    },
    "tags": []
   },
   "outputs": [
    {
     "name": "stdout",
     "output_type": "stream",
     "text": [
      "ROC AUC score on test set: 0.942\n",
      "Optimal threshold on test set: 0.5899\n"
     ]
    }
   ],
   "source": [
    "best_model = tf.keras.models.load_model(\"./LSTM_model2.h5\")\n",
    "\n",
    "predictions = best_model.predict(test_data)\n",
    "y_true = test['target']\n",
    "print(\"ROC AUC score on test set: {0:.4}\".format(roc_auc_score(y_true, predictions)))\n",
    "\n",
    "fpr, tpr, thresholds = roc_curve(y_true, predictions)\n",
    "optimal_threshold = thresholds[np.argmax(tpr-fpr, axis=0)]\n",
    "print(\"Optimal threshold on test set: {0:.4}\".format(optimal_threshold))"
   ]
  },
  {
   "cell_type": "code",
   "execution_count": 17,
   "id": "19c5ad3d",
   "metadata": {
    "execution": {
     "iopub.execute_input": "2021-12-25T10:45:25.676859Z",
     "iopub.status.busy": "2021-12-25T10:45:25.676270Z",
     "iopub.status.idle": "2021-12-25T10:45:25.692849Z",
     "shell.execute_reply": "2021-12-25T10:45:25.693346Z",
     "shell.execute_reply.started": "2021-12-25T10:27:53.644719Z"
    },
    "papermill": {
     "duration": 2.365495,
     "end_time": "2021-12-25T10:45:25.693520",
     "exception": false,
     "start_time": "2021-12-25T10:45:23.328025",
     "status": "completed"
    },
    "tags": []
   },
   "outputs": [
    {
     "name": "stdout",
     "output_type": "stream",
     "text": [
      "              precision    recall  f1-score   support\n",
      "\n",
      "           0       0.88      0.88      0.88      2435\n",
      "           1       0.88      0.89      0.89      2565\n",
      "\n",
      "    accuracy                           0.88      5000\n",
      "   macro avg       0.88      0.88      0.88      5000\n",
      "weighted avg       0.88      0.88      0.88      5000\n",
      "\n"
     ]
    }
   ],
   "source": [
    "print(classification_report(y_true, predictions >= optimal_threshold))"
   ]
  },
  {
   "cell_type": "code",
   "execution_count": 18,
   "id": "bc03dcd8",
   "metadata": {
    "execution": {
     "iopub.execute_input": "2021-12-25T10:45:30.414522Z",
     "iopub.status.busy": "2021-12-25T10:45:30.413920Z",
     "iopub.status.idle": "2021-12-25T10:45:30.672422Z",
     "shell.execute_reply": "2021-12-25T10:45:30.671558Z",
     "shell.execute_reply.started": "2021-12-25T10:27:57.677285Z"
    },
    "papermill": {
     "duration": 2.635897,
     "end_time": "2021-12-25T10:45:30.672564",
     "exception": false,
     "start_time": "2021-12-25T10:45:28.036667",
     "status": "completed"
    },
    "tags": []
   },
   "outputs": [
    {
     "data": {
      "image/png": "[encoded data removed]",
      "text/plain": [
       "<Figure size 576x360 with 2 Axes>"
      ]
     },
     "metadata": {},
     "output_type": "display_data"
    }
   ],
   "source": [
    "plot_confmat(y_true, predictions >= optimal_threshold)"
   ]
  }
 ],
 "metadata": {
  "kernelspec": {
   "display_name": "Python 3",
   "language": "python",
   "name": "python3"
  },
  "language_info": {
   "codemirror_mode": {
    "name": "ipython",
    "version": 3
   },
   "file_extension": ".py",
   "mimetype": "text/x-python",
   "name": "python",
   "nbconvert_exporter": "python",
   "pygments_lexer": "ipython3",
   "version": "3.7.12"
  },
  "papermill": {
   "default_parameters": {},
   "duration": 1000.850085,
   "end_time": "2021-12-25T10:45:36.468309",
   "environment_variables": {},
   "exception": null,
   "input_path": "__notebook__.ipynb",
   "output_path": "__notebook__.ipynb",
   "parameters": {},
   "start_time": "2021-12-25T10:28:55.618224",
   "version": "2.3.3"
  }
 },
 "nbformat": 4,
 "nbformat_minor": 5
}
