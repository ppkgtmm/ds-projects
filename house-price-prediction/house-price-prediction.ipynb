{
 "cells": [
  {
   "cell_type": "code",
   "execution_count": 1,
   "id": "52349d66",
   "metadata": {
    "execution": {
     "iopub.execute_input": "2021-10-31T18:59:46.220459Z",
     "iopub.status.busy": "2021-10-31T18:59:46.218669Z",
     "iopub.status.idle": "2021-10-31T19:00:12.833273Z",
     "shell.execute_reply": "2021-10-31T19:00:12.832295Z",
     "shell.execute_reply.started": "2021-10-31T17:31:45.1366Z"
    },
    "papermill": {
     "duration": 26.649193,
     "end_time": "2021-10-31T19:00:12.833457",
     "exception": false,
     "start_time": "2021-10-31T18:59:46.184264",
     "status": "completed"
    },
    "tags": []
   },
   "outputs": [
    {
     "name": "stdout",
     "output_type": "stream",
     "text": [
      "\u001b[33mWARNING: Running pip as the 'root' user can result in broken permissions and conflicting behaviour with the system package manager. It is recommended to use a virtual environment instead: https://pip.pypa.io/warnings/venv\u001b[0m\r\n",
      "\u001b[33mWARNING: Running pip as the 'root' user can result in broken permissions and conflicting behaviour with the system package manager. It is recommended to use a virtual environment instead: https://pip.pypa.io/warnings/venv\u001b[0m\r\n"
     ]
    }
   ],
   "source": [
    "!pip install --upgrade -q git+https://github.com/MaxHalford/xam \n",
    "!pip install --upgrade -q optuna==1.4.0"
   ]
  },
  {
   "cell_type": "code",
   "execution_count": 2,
   "id": "7637128b",
   "metadata": {
    "execution": {
     "iopub.execute_input": "2021-10-31T19:00:12.900828Z",
     "iopub.status.busy": "2021-10-31T19:00:12.900051Z",
     "iopub.status.idle": "2021-10-31T19:00:12.902961Z",
     "shell.execute_reply": "2021-10-31T19:00:12.902315Z",
     "shell.execute_reply.started": "2021-10-31T17:32:02.435963Z"
    },
    "papermill": {
     "duration": 0.036252,
     "end_time": "2021-10-31T19:00:12.903096",
     "exception": false,
     "start_time": "2021-10-31T19:00:12.866844",
     "status": "completed"
    },
    "tags": []
   },
   "outputs": [],
   "source": [
    "train_path = \"../input/house-prices-advanced-regression-techniques/train.csv\"\n",
    "test_path = \"../input/house-prices-advanced-regression-techniques/test.csv\""
   ]
  },
  {
   "cell_type": "code",
   "execution_count": 3,
   "id": "e74ab42c",
   "metadata": {
    "execution": {
     "iopub.execute_input": "2021-10-31T19:00:12.969179Z",
     "iopub.status.busy": "2021-10-31T19:00:12.968027Z",
     "iopub.status.idle": "2021-10-31T19:00:14.120072Z",
     "shell.execute_reply": "2021-10-31T19:00:14.119465Z",
     "shell.execute_reply.started": "2021-10-31T17:32:02.443314Z"
    },
    "papermill": {
     "duration": 1.187875,
     "end_time": "2021-10-31T19:00:14.120227",
     "exception": false,
     "start_time": "2021-10-31T19:00:12.932352",
     "status": "completed"
    },
    "tags": []
   },
   "outputs": [],
   "source": [
    "import pandas as pd\n",
    "import numpy as np\n",
    "import matplotlib.pyplot as plt\n",
    "from sklearn.model_selection import train_test_split\n",
    "import seaborn as sns\n",
    "import pickle\n",
    "%matplotlib inline"
   ]
  },
  {
   "cell_type": "code",
   "execution_count": 4,
   "id": "0dd6c4d8",
   "metadata": {
    "execution": {
     "iopub.execute_input": "2021-10-31T19:00:14.184465Z",
     "iopub.status.busy": "2021-10-31T19:00:14.183834Z",
     "iopub.status.idle": "2021-10-31T19:00:14.425658Z",
     "shell.execute_reply": "2021-10-31T19:00:14.424980Z",
     "shell.execute_reply.started": "2021-10-31T17:32:02.463029Z"
    },
    "papermill": {
     "duration": 0.276484,
     "end_time": "2021-10-31T19:00:14.425807",
     "exception": false,
     "start_time": "2021-10-31T19:00:14.149323",
     "status": "completed"
    },
    "tags": []
   },
   "outputs": [
    {
     "data": {
      "text/html": [
       "<div>\n",
       "<style scoped>\n",
       "    .dataframe tbody tr th:only-of-type {\n",
       "        vertical-align: middle;\n",
       "    }\n",
       "\n",
       "    .dataframe tbody tr th {\n",
       "        vertical-align: top;\n",
       "    }\n",
       "\n",
       "    .dataframe thead th {\n",
       "        text-align: right;\n",
       "    }\n",
       "</style>\n",
       "<table border=\"1\" class=\"dataframe\">\n",
       "  <thead>\n",
       "    <tr style=\"text-align: right;\">\n",
       "      <th></th>\n",
       "      <th>MSSubClass</th>\n",
       "      <th>MSZoning</th>\n",
       "      <th>LotFrontage</th>\n",
       "      <th>LotArea</th>\n",
       "      <th>Street</th>\n",
       "      <th>Alley</th>\n",
       "      <th>LotShape</th>\n",
       "      <th>LandContour</th>\n",
       "      <th>Utilities</th>\n",
       "      <th>LotConfig</th>\n",
       "      <th>...</th>\n",
       "      <th>PoolArea</th>\n",
       "      <th>PoolQC</th>\n",
       "      <th>Fence</th>\n",
       "      <th>MiscFeature</th>\n",
       "      <th>MiscVal</th>\n",
       "      <th>MoSold</th>\n",
       "      <th>YrSold</th>\n",
       "      <th>SaleType</th>\n",
       "      <th>SaleCondition</th>\n",
       "      <th>SalePrice</th>\n",
       "    </tr>\n",
       "    <tr>\n",
       "      <th>Id</th>\n",
       "      <th></th>\n",
       "      <th></th>\n",
       "      <th></th>\n",
       "      <th></th>\n",
       "      <th></th>\n",
       "      <th></th>\n",
       "      <th></th>\n",
       "      <th></th>\n",
       "      <th></th>\n",
       "      <th></th>\n",
       "      <th></th>\n",
       "      <th></th>\n",
       "      <th></th>\n",
       "      <th></th>\n",
       "      <th></th>\n",
       "      <th></th>\n",
       "      <th></th>\n",
       "      <th></th>\n",
       "      <th></th>\n",
       "      <th></th>\n",
       "      <th></th>\n",
       "    </tr>\n",
       "  </thead>\n",
       "  <tbody>\n",
       "    <tr>\n",
       "      <th>1</th>\n",
       "      <td>60</td>\n",
       "      <td>RL</td>\n",
       "      <td>65.0</td>\n",
       "      <td>8450</td>\n",
       "      <td>Pave</td>\n",
       "      <td>NaN</td>\n",
       "      <td>Reg</td>\n",
       "      <td>Lvl</td>\n",
       "      <td>AllPub</td>\n",
       "      <td>Inside</td>\n",
       "      <td>...</td>\n",
       "      <td>0</td>\n",
       "      <td>NaN</td>\n",
       "      <td>NaN</td>\n",
       "      <td>NaN</td>\n",
       "      <td>0</td>\n",
       "      <td>2</td>\n",
       "      <td>2008</td>\n",
       "      <td>WD</td>\n",
       "      <td>Normal</td>\n",
       "      <td>208500</td>\n",
       "    </tr>\n",
       "    <tr>\n",
       "      <th>2</th>\n",
       "      <td>20</td>\n",
       "      <td>RL</td>\n",
       "      <td>80.0</td>\n",
       "      <td>9600</td>\n",
       "      <td>Pave</td>\n",
       "      <td>NaN</td>\n",
       "      <td>Reg</td>\n",
       "      <td>Lvl</td>\n",
       "      <td>AllPub</td>\n",
       "      <td>FR2</td>\n",
       "      <td>...</td>\n",
       "      <td>0</td>\n",
       "      <td>NaN</td>\n",
       "      <td>NaN</td>\n",
       "      <td>NaN</td>\n",
       "      <td>0</td>\n",
       "      <td>5</td>\n",
       "      <td>2007</td>\n",
       "      <td>WD</td>\n",
       "      <td>Normal</td>\n",
       "      <td>181500</td>\n",
       "    </tr>\n",
       "    <tr>\n",
       "      <th>3</th>\n",
       "      <td>60</td>\n",
       "      <td>RL</td>\n",
       "      <td>68.0</td>\n",
       "      <td>11250</td>\n",
       "      <td>Pave</td>\n",
       "      <td>NaN</td>\n",
       "      <td>IR1</td>\n",
       "      <td>Lvl</td>\n",
       "      <td>AllPub</td>\n",
       "      <td>Inside</td>\n",
       "      <td>...</td>\n",
       "      <td>0</td>\n",
       "      <td>NaN</td>\n",
       "      <td>NaN</td>\n",
       "      <td>NaN</td>\n",
       "      <td>0</td>\n",
       "      <td>9</td>\n",
       "      <td>2008</td>\n",
       "      <td>WD</td>\n",
       "      <td>Normal</td>\n",
       "      <td>223500</td>\n",
       "    </tr>\n",
       "    <tr>\n",
       "      <th>4</th>\n",
       "      <td>70</td>\n",
       "      <td>RL</td>\n",
       "      <td>60.0</td>\n",
       "      <td>9550</td>\n",
       "      <td>Pave</td>\n",
       "      <td>NaN</td>\n",
       "      <td>IR1</td>\n",
       "      <td>Lvl</td>\n",
       "      <td>AllPub</td>\n",
       "      <td>Corner</td>\n",
       "      <td>...</td>\n",
       "      <td>0</td>\n",
       "      <td>NaN</td>\n",
       "      <td>NaN</td>\n",
       "      <td>NaN</td>\n",
       "      <td>0</td>\n",
       "      <td>2</td>\n",
       "      <td>2006</td>\n",
       "      <td>WD</td>\n",
       "      <td>Abnorml</td>\n",
       "      <td>140000</td>\n",
       "    </tr>\n",
       "    <tr>\n",
       "      <th>5</th>\n",
       "      <td>60</td>\n",
       "      <td>RL</td>\n",
       "      <td>84.0</td>\n",
       "      <td>14260</td>\n",
       "      <td>Pave</td>\n",
       "      <td>NaN</td>\n",
       "      <td>IR1</td>\n",
       "      <td>Lvl</td>\n",
       "      <td>AllPub</td>\n",
       "      <td>FR2</td>\n",
       "      <td>...</td>\n",
       "      <td>0</td>\n",
       "      <td>NaN</td>\n",
       "      <td>NaN</td>\n",
       "      <td>NaN</td>\n",
       "      <td>0</td>\n",
       "      <td>12</td>\n",
       "      <td>2008</td>\n",
       "      <td>WD</td>\n",
       "      <td>Normal</td>\n",
       "      <td>250000</td>\n",
       "    </tr>\n",
       "  </tbody>\n",
       "</table>\n",
       "<p>5 rows × 80 columns</p>\n",
       "</div>"
      ],
      "text/plain": [
       "    MSSubClass MSZoning  LotFrontage  LotArea Street Alley LotShape  \\\n",
       "Id                                                                    \n",
       "1           60       RL         65.0     8450   Pave   NaN      Reg   \n",
       "2           20       RL         80.0     9600   Pave   NaN      Reg   \n",
       "3           60       RL         68.0    11250   Pave   NaN      IR1   \n",
       "4           70       RL         60.0     9550   Pave   NaN      IR1   \n",
       "5           60       RL         84.0    14260   Pave   NaN      IR1   \n",
       "\n",
       "   LandContour Utilities LotConfig  ... PoolArea PoolQC Fence MiscFeature  \\\n",
       "Id                                  ...                                     \n",
       "1          Lvl    AllPub    Inside  ...        0    NaN   NaN         NaN   \n",
       "2          Lvl    AllPub       FR2  ...        0    NaN   NaN         NaN   \n",
       "3          Lvl    AllPub    Inside  ...        0    NaN   NaN         NaN   \n",
       "4          Lvl    AllPub    Corner  ...        0    NaN   NaN         NaN   \n",
       "5          Lvl    AllPub       FR2  ...        0    NaN   NaN         NaN   \n",
       "\n",
       "   MiscVal MoSold  YrSold  SaleType  SaleCondition  SalePrice  \n",
       "Id                                                             \n",
       "1        0      2    2008        WD         Normal     208500  \n",
       "2        0      5    2007        WD         Normal     181500  \n",
       "3        0      9    2008        WD         Normal     223500  \n",
       "4        0      2    2006        WD        Abnorml     140000  \n",
       "5        0     12    2008        WD         Normal     250000  \n",
       "\n",
       "[5 rows x 80 columns]"
      ]
     },
     "execution_count": 4,
     "metadata": {},
     "output_type": "execute_result"
    }
   ],
   "source": [
    "X = pd.read_csv(train_path, index_col='Id')\n",
    "X_test_full = pd.read_csv(test_path, index_col='Id')\n",
    "X.head()"
   ]
  },
  {
   "cell_type": "code",
   "execution_count": 5,
   "id": "782b8eab",
   "metadata": {
    "execution": {
     "iopub.execute_input": "2021-10-31T19:00:14.494067Z",
     "iopub.status.busy": "2021-10-31T19:00:14.493304Z",
     "iopub.status.idle": "2021-10-31T19:00:14.506939Z",
     "shell.execute_reply": "2021-10-31T19:00:14.506387Z",
     "shell.execute_reply.started": "2021-10-31T17:32:02.549677Z"
    },
    "papermill": {
     "duration": 0.051175,
     "end_time": "2021-10-31T19:00:14.507088",
     "exception": false,
     "start_time": "2021-10-31T19:00:14.455913",
     "status": "completed"
    },
    "tags": []
   },
   "outputs": [
    {
     "name": "stdout",
     "output_type": "stream",
     "text": [
      "data type value count\n",
      "object     43\n",
      "int64      34\n",
      "float64     3\n",
      "dtype: int64\n"
     ]
    }
   ],
   "source": [
    "features = X.drop(columns=['SalePrice'])\n",
    "target = X['SalePrice']\n",
    "\n",
    "print(f'data type value count\\n{X.dtypes.value_counts()}')\n",
    "num_cols = features.select_dtypes(exclude=['object']).columns\n",
    "cat_cols = features.select_dtypes(include=['object']).columns"
   ]
  },
  {
   "cell_type": "code",
   "execution_count": 6,
   "id": "b8869c9a",
   "metadata": {
    "execution": {
     "iopub.execute_input": "2021-10-31T19:00:14.570646Z",
     "iopub.status.busy": "2021-10-31T19:00:14.569954Z",
     "iopub.status.idle": "2021-10-31T19:00:14.574522Z",
     "shell.execute_reply": "2021-10-31T19:00:14.575003Z",
     "shell.execute_reply.started": "2021-10-31T17:32:02.564807Z"
    },
    "papermill": {
     "duration": 0.038079,
     "end_time": "2021-10-31T19:00:14.575192",
     "exception": false,
     "start_time": "2021-10-31T19:00:14.537113",
     "status": "completed"
    },
    "tags": []
   },
   "outputs": [],
   "source": [
    "# seperate features by type according to data description\n",
    "ordinal = ['OverallQual', 'OverallCond']\n",
    "nominal = list(set(['MSSubClass'] + list(cat_cols)) - set(ordinal))\n",
    "numeric = list(set(num_cols) - set(ordinal) - set(nominal))"
   ]
  },
  {
   "cell_type": "code",
   "execution_count": 7,
   "id": "50b1720e",
   "metadata": {
    "execution": {
     "iopub.execute_input": "2021-10-31T19:00:14.638631Z",
     "iopub.status.busy": "2021-10-31T19:00:14.637930Z",
     "iopub.status.idle": "2021-10-31T19:00:14.644618Z",
     "shell.execute_reply": "2021-10-31T19:00:14.645103Z",
     "shell.execute_reply.started": "2021-10-31T17:32:02.576898Z"
    },
    "papermill": {
     "duration": 0.040157,
     "end_time": "2021-10-31T19:00:14.645294",
     "exception": false,
     "start_time": "2021-10-31T19:00:14.605137",
     "status": "completed"
    },
    "tags": []
   },
   "outputs": [],
   "source": [
    "def plot_na_count(features, title='NA count', figsize=(9,6), palette='Paired'):\n",
    "    na_count = features.isna().sum()\n",
    "    na_count = (na_count[na_count > 0] / na_count.sum()).sort_values(ascending=False)\n",
    "    plt.figure(figsize=figsize)\n",
    "    sns.barplot(x=na_count.index, y=na_count, palette=palette)\n",
    "    plt.xticks(rotation=45)\n",
    "    plt.title(title)\n",
    "    plt.ylabel('proportion of count')\n",
    "    plt.xlabel('column name')\n",
    "    plt.show()"
   ]
  },
  {
   "cell_type": "code",
   "execution_count": 8,
   "id": "5f355361",
   "metadata": {
    "execution": {
     "iopub.execute_input": "2021-10-31T19:00:14.717415Z",
     "iopub.status.busy": "2021-10-31T19:00:14.716741Z",
     "iopub.status.idle": "2021-10-31T19:00:15.117040Z",
     "shell.execute_reply": "2021-10-31T19:00:15.116428Z",
     "shell.execute_reply.started": "2021-10-31T17:32:02.592644Z"
    },
    "papermill": {
     "duration": 0.441965,
     "end_time": "2021-10-31T19:00:15.117197",
     "exception": false,
     "start_time": "2021-10-31T19:00:14.675232",
     "status": "completed"
    },
    "tags": []
   },
   "outputs": [
    {
     "data": {
      "image/png": "[encoded data removed]",
      "text/plain": [
       "<Figure size 648x432 with 1 Axes>"
      ]
     },
     "metadata": {
      "needs_background": "light"
     },
     "output_type": "display_data"
    }
   ],
   "source": [
    "plot_na_count(features, title='NA count on train set')"
   ]
  },
  {
   "cell_type": "code",
   "execution_count": 9,
   "id": "002c9856",
   "metadata": {
    "execution": {
     "iopub.execute_input": "2021-10-31T19:00:15.197386Z",
     "iopub.status.busy": "2021-10-31T19:00:15.193446Z",
     "iopub.status.idle": "2021-10-31T19:00:15.697207Z",
     "shell.execute_reply": "2021-10-31T19:00:15.696669Z",
     "shell.execute_reply.started": "2021-10-31T17:32:02.960582Z"
    },
    "papermill": {
     "duration": 0.548136,
     "end_time": "2021-10-31T19:00:15.697342",
     "exception": false,
     "start_time": "2021-10-31T19:00:15.149206",
     "status": "completed"
    },
    "tags": []
   },
   "outputs": [
    {
     "data": {
      "image/png": "[encoded data removed]",
      "text/plain": [
       "<Figure size 1080x432 with 1 Axes>"
      ]
     },
     "metadata": {
      "needs_background": "light"
     },
     "output_type": "display_data"
    }
   ],
   "source": [
    "plot_na_count(X_test_full, figsize=(15,6), title='NA count on test set')"
   ]
  },
  {
   "cell_type": "code",
   "execution_count": 10,
   "id": "a9d1588c",
   "metadata": {
    "execution": {
     "iopub.execute_input": "2021-10-31T19:00:15.787928Z",
     "iopub.status.busy": "2021-10-31T19:00:15.786463Z",
     "iopub.status.idle": "2021-10-31T19:00:15.816019Z",
     "shell.execute_reply": "2021-10-31T19:00:15.816524Z",
     "shell.execute_reply.started": "2021-10-31T17:32:03.438696Z"
    },
    "papermill": {
     "duration": 0.08527,
     "end_time": "2021-10-31T19:00:15.816726",
     "exception": false,
     "start_time": "2021-10-31T19:00:15.731456",
     "status": "completed"
    },
    "tags": []
   },
   "outputs": [],
   "source": [
    "none_list = ['PoolQC', 'MiscFeature', 'Alley', 'Fence', 'FireplaceQu', 'GarageType', 'GarageFinish', \\\n",
    "             'GarageQual', 'GarageCond', 'BsmtExposure', 'BsmtFinType2', 'BsmtFinType1', 'BsmtCond', \\\n",
    "             'BsmtQual', 'MasVnrType']\n",
    "street_med_list = ['LotFrontage']\n",
    "zero_list =  ['MasVnrArea', 'BsmtHalfBath', 'BsmtFullBath', 'TotalBsmtSF', 'BsmtFinSF2', 'BsmtFinSF1', 'GarageCars', 'GarageArea', 'BsmtUnfSF']\n",
    "mode_list = ['Electrical', 'MSZoning', 'Functional', 'Utilities', 'KitchenQual', 'Exterior1st', 'Exterior2nd']\n",
    "\n",
    "# fill empty value according to data description\n",
    "features.fillna({col: 'None' for col in none_list}, inplace=True)\n",
    "X_test_full.fillna({col: 'None' for col in none_list}, inplace=True)\n",
    "\n",
    "features.fillna({col: 0 for col in zero_list}, inplace=True)\n",
    "X_test_full.fillna({col: 0 for col in zero_list}, inplace=True)\n",
    "\n",
    "# filling with mode due to unprovided missing value description\n",
    "features.fillna({col: features[col].mode()[0] for col in mode_list}, inplace=True)\n",
    "X_test_full.fillna({col: X_test_full[col].mode()[0] for col in mode_list}, inplace=True)\n",
    "\n",
    "# make missing Sale type = Other\n",
    "features['SaleType']  = features['SaleType'].fillna('Oth')\n",
    "X_test_full['SaleType'] = X_test_full['SaleType'].fillna('Oth')\n",
    "\n",
    "# unlikely to help\n",
    "features.drop(columns=['GarageYrBlt'], inplace=True)\n",
    "X_test_full.drop(columns=['GarageYrBlt'], inplace=True)\n",
    "numeric.remove('GarageYrBlt')\n",
    "\n",
    "log_target = np.log1p(target) # log transform target for ease of evaluation"
   ]
  },
  {
   "cell_type": "code",
   "execution_count": 11,
   "id": "a364611e",
   "metadata": {
    "execution": {
     "iopub.execute_input": "2021-10-31T19:00:15.888121Z",
     "iopub.status.busy": "2021-10-31T19:00:15.885338Z",
     "iopub.status.idle": "2021-10-31T19:00:16.249817Z",
     "shell.execute_reply": "2021-10-31T19:00:16.249132Z",
     "shell.execute_reply.started": "2021-10-31T17:32:03.481011Z"
    },
    "papermill": {
     "duration": 0.400269,
     "end_time": "2021-10-31T19:00:16.249964",
     "exception": false,
     "start_time": "2021-10-31T19:00:15.849695",
     "status": "completed"
    },
    "tags": []
   },
   "outputs": [
    {
     "name": "stdout",
     "output_type": "stream",
     "text": [
      "skewness of lot frontage: 2.163569142324884 \n",
      "\n"
     ]
    },
    {
     "data": {
      "image/png": "[encoded data removed]",
      "text/plain": [
       "<Figure size 648x288 with 1 Axes>"
      ]
     },
     "metadata": {
      "needs_background": "light"
     },
     "output_type": "display_data"
    }
   ],
   "source": [
    "print('skewness of lot frontage:', features['LotFrontage'].skew(), '\\n')\n",
    "plt.figure(figsize=(9,4))\n",
    "plt.title('Lot frontage distribution')\n",
    "sns.histplot(features['LotFrontage'])\n",
    "plt.show()"
   ]
  },
  {
   "cell_type": "code",
   "execution_count": 12,
   "id": "fa9326d9",
   "metadata": {
    "execution": {
     "iopub.execute_input": "2021-10-31T19:00:16.324763Z",
     "iopub.status.busy": "2021-10-31T19:00:16.324022Z",
     "iopub.status.idle": "2021-10-31T19:00:16.333916Z",
     "shell.execute_reply": "2021-10-31T19:00:16.334454Z",
     "shell.execute_reply.started": "2021-10-31T17:32:03.834691Z"
    },
    "papermill": {
     "duration": 0.050662,
     "end_time": "2021-10-31T19:00:16.334656",
     "exception": false,
     "start_time": "2021-10-31T19:00:16.283994",
     "status": "completed"
    },
    "tags": []
   },
   "outputs": [],
   "source": [
    "# filling with median due to unprovided missing value description and non-normality of column\n",
    "features['LotFrontage'] = features.groupby('Street')['LotFrontage'].transform(lambda x: x.fillna(x.median()))\n",
    "X_test_full['LotFrontage'] = X_test_full.groupby('Street')['LotFrontage'].transform(lambda x: x.fillna(x.median()))"
   ]
  },
  {
   "cell_type": "code",
   "execution_count": 13,
   "id": "93815025",
   "metadata": {
    "execution": {
     "iopub.execute_input": "2021-10-31T19:00:16.409852Z",
     "iopub.status.busy": "2021-10-31T19:00:16.409107Z",
     "iopub.status.idle": "2021-10-31T19:00:17.351152Z",
     "shell.execute_reply": "2021-10-31T19:00:17.351691Z",
     "shell.execute_reply.started": "2021-10-31T17:32:03.849141Z"
    },
    "papermill": {
     "duration": 0.983214,
     "end_time": "2021-10-31T19:00:17.351864",
     "exception": false,
     "start_time": "2021-10-31T19:00:16.368650",
     "status": "completed"
    },
    "tags": []
   },
   "outputs": [
    {
     "data": {
      "image/png": "[encoded data removed]",
      "text/plain": [
       "<Figure size 720x576 with 2 Axes>"
      ]
     },
     "metadata": {
      "needs_background": "light"
     },
     "output_type": "display_data"
    }
   ],
   "source": [
    "# plot correlation heat map\n",
    "corr = X[numeric + ['SalePrice']].corr()\n",
    "plt.figure(figsize=(10,8))\n",
    "sns.heatmap(corr)\n",
    "plt.show()"
   ]
  },
  {
   "cell_type": "code",
   "execution_count": 14,
   "id": "61091020",
   "metadata": {
    "execution": {
     "iopub.execute_input": "2021-10-31T19:00:17.434202Z",
     "iopub.status.busy": "2021-10-31T19:00:17.432011Z",
     "iopub.status.idle": "2021-10-31T19:00:17.440389Z",
     "shell.execute_reply": "2021-10-31T19:00:17.440999Z",
     "shell.execute_reply.started": "2021-10-31T17:37:13.934468Z"
    },
    "papermill": {
     "duration": 0.052539,
     "end_time": "2021-10-31T19:00:17.441174",
     "exception": false,
     "start_time": "2021-10-31T19:00:17.388635",
     "status": "completed"
    },
    "tags": []
   },
   "outputs": [
    {
     "data": {
      "text/plain": [
       "Index(['HalfBath', 'LotFrontage', 'OpenPorchSF', 'TotRmsAbvGrd', 'FullBath',\n",
       "       'EnclosedPorch', 'GrLivArea', 'LowQualFinSF', 'GarageArea', 'PoolArea',\n",
       "       'BsmtUnfSF', 'WoodDeckSF', 'BsmtFinSF1', 'MoSold', 'TotalBsmtSF',\n",
       "       'MiscVal', 'BsmtHalfBath', 'LotArea', 'Fireplaces', 'YearRemodAdd',\n",
       "       '3SsnPorch', 'MasVnrArea', 'ScreenPorch', 'KitchenAbvGr', 'YearBuilt',\n",
       "       'BsmtFinSF2', 'BedroomAbvGr', 'YrSold'],\n",
       "      dtype='object')"
      ]
     },
     "execution_count": 14,
     "metadata": {},
     "output_type": "execute_result"
    }
   ],
   "source": [
    "copy = features[numeric].copy()\n",
    "copy_t = X_test_full[numeric].copy()\n",
    "\n",
    "# drop highly correlated features\n",
    "copy.drop(columns=['2ndFlrSF', 'GarageCars', '1stFlrSF', 'BsmtFullBath'], inplace=True)\n",
    "copy_t.drop(columns=['2ndFlrSF', 'GarageCars', '1stFlrSF', 'BsmtFullBath'], inplace=True)\n",
    "\n",
    "copy.columns"
   ]
  },
  {
   "cell_type": "code",
   "execution_count": 15,
   "id": "8ea36844",
   "metadata": {
    "execution": {
     "iopub.execute_input": "2021-10-31T19:00:17.527226Z",
     "iopub.status.busy": "2021-10-31T19:00:17.526515Z",
     "iopub.status.idle": "2021-10-31T19:00:18.421233Z",
     "shell.execute_reply": "2021-10-31T19:00:18.421774Z",
     "shell.execute_reply.started": "2021-10-31T17:37:16.02589Z"
    },
    "papermill": {
     "duration": 0.944285,
     "end_time": "2021-10-31T19:00:18.421945",
     "exception": false,
     "start_time": "2021-10-31T19:00:17.477660",
     "status": "completed"
    },
    "tags": []
   },
   "outputs": [
    {
     "data": {
      "image/png": "[encoded data removed]",
      "text/plain": [
       "<Figure size 720x576 with 2 Axes>"
      ]
     },
     "metadata": {
      "needs_background": "light"
     },
     "output_type": "display_data"
    }
   ],
   "source": [
    "copy['AreaPerFront'] = copy['LotFrontage'] / copy['LotArea']\n",
    "copy_t['AreaPerFront'] = copy_t['LotFrontage'] / copy_t['LotArea']\n",
    "\n",
    "copy['KitchRate'] = copy['KitchenAbvGr'] / copy['TotRmsAbvGrd']\n",
    "copy_t['KitchRate'] = copy_t['KitchenAbvGr'] / copy_t['TotRmsAbvGrd']\n",
    "\n",
    "copy['BedRRate'] = copy['BedroomAbvGr'] / copy['TotRmsAbvGrd']\n",
    "copy_t['BedRRate'] = copy_t['BedroomAbvGr'] / copy_t['TotRmsAbvGrd']\n",
    "\n",
    "# copy['BsmtFinSF'] = copy['BsmtFinSF1'] + copy['BsmtFinSF2']\n",
    "# copy_t['BsmtFinSF'] = copy_t['BsmtFinSF1'] + copy_t['BsmtFinSF2']\n",
    "\n",
    "# copy['FullBathRate'] = copy['FullBath'] / copy['GrLivArea']\n",
    "# copy_t['FullBathRate'] = copy_t['FullBath'] / copy_t['GrLivArea']\n",
    "\n",
    "# copy['PorchSF'] = copy['OpenPorchSF'] + copy['EnclosedPorch'] + copy['3SsnPorch'] + copy['ScreenPorch']\n",
    "# copy_t['PorchSF'] = copy_t['OpenPorchSF'] + copy_t['EnclosedPorch'] + copy_t['3SsnPorch'] + copy_t['ScreenPorch']\n",
    "\n",
    "copy.drop(columns=['TotRmsAbvGrd'], inplace=True)\n",
    "copy_t.drop(columns=['TotRmsAbvGrd'], inplace=True)\n",
    "\n",
    "plt.figure(figsize=(10,8))\n",
    "sns.heatmap(pd.concat([copy, X['SalePrice']], axis=1).corr())\n",
    "plt.show()"
   ]
  },
  {
   "cell_type": "code",
   "execution_count": 16,
   "id": "782f1132",
   "metadata": {
    "execution": {
     "iopub.execute_input": "2021-10-31T19:00:18.503984Z",
     "iopub.status.busy": "2021-10-31T19:00:18.503308Z",
     "iopub.status.idle": "2021-10-31T19:00:18.516926Z",
     "shell.execute_reply": "2021-10-31T19:00:18.516284Z",
     "shell.execute_reply.started": "2021-10-31T17:37:20.265126Z"
    },
    "papermill": {
     "duration": 0.055775,
     "end_time": "2021-10-31T19:00:18.517088",
     "exception": false,
     "start_time": "2021-10-31T19:00:18.461313",
     "status": "completed"
    },
    "tags": []
   },
   "outputs": [
    {
     "data": {
      "text/plain": [
       "HalfBath         1\n",
       "LotFrontage      1\n",
       "OpenPorchSF      1\n",
       "FullBath         1\n",
       "EnclosedPorch    1\n",
       "GrLivArea        1\n",
       "LowQualFinSF     1\n",
       "GarageArea       1\n",
       "PoolArea         1\n",
       "BsmtUnfSF        1\n",
       "WoodDeckSF       1\n",
       "BsmtFinSF1       1\n",
       "MoSold           1\n",
       "TotalBsmtSF      1\n",
       "MiscVal          1\n",
       "BsmtHalfBath     1\n",
       "LotArea          1\n",
       "Fireplaces       1\n",
       "YearRemodAdd     1\n",
       "3SsnPorch        1\n",
       "MasVnrArea       1\n",
       "ScreenPorch      1\n",
       "KitchenAbvGr     1\n",
       "YearBuilt        1\n",
       "BsmtFinSF2       1\n",
       "BedroomAbvGr     1\n",
       "YrSold           1\n",
       "AreaPerFront     1\n",
       "KitchRate        1\n",
       "BedRRate         1\n",
       "dtype: int64"
      ]
     },
     "execution_count": 16,
     "metadata": {},
     "output_type": "execute_result"
    }
   ],
   "source": [
    "(np.abs(copy.corr()) >= 0.7).sum() # verify no colinearity"
   ]
  },
  {
   "cell_type": "code",
   "execution_count": 17,
   "id": "a785873e",
   "metadata": {
    "execution": {
     "iopub.execute_input": "2021-10-31T19:00:18.599244Z",
     "iopub.status.busy": "2021-10-31T19:00:18.598602Z",
     "iopub.status.idle": "2021-10-31T19:00:20.081133Z",
     "shell.execute_reply": "2021-10-31T19:00:20.080545Z",
     "shell.execute_reply.started": "2021-10-31T17:37:23.32962Z"
    },
    "papermill": {
     "duration": 1.524452,
     "end_time": "2021-10-31T19:00:20.081323",
     "exception": false,
     "start_time": "2021-10-31T19:00:18.556871",
     "status": "completed"
    },
    "tags": []
   },
   "outputs": [
    {
     "data": {
      "text/html": [
       "<style type='text/css'>\n",
       ".datatable table.frame { margin-bottom: 0; }\n",
       ".datatable table.frame thead { border-bottom: none; }\n",
       ".datatable table.frame tr.coltypes td {  color: #FFFFFF;  line-height: 6px;  padding: 0 0.5em;}\n",
       ".datatable .bool    { background: #DDDD99; }\n",
       ".datatable .object  { background: #565656; }\n",
       ".datatable .int     { background: #5D9E5D; }\n",
       ".datatable .float   { background: #4040CC; }\n",
       ".datatable .str     { background: #CC4040; }\n",
       ".datatable .time    { background: #40CC40; }\n",
       ".datatable .row_index {  background: var(--jp-border-color3);  border-right: 1px solid var(--jp-border-color0);  color: var(--jp-ui-font-color3);  font-size: 9px;}\n",
       ".datatable .frame tbody td { text-align: left; }\n",
       ".datatable .frame tr.coltypes .row_index {  background: var(--jp-border-color0);}\n",
       ".datatable th:nth-child(2) { padding-left: 12px; }\n",
       ".datatable .hellipsis {  color: var(--jp-cell-editor-border-color);}\n",
       ".datatable .vellipsis {  background: var(--jp-layout-color0);  color: var(--jp-cell-editor-border-color);}\n",
       ".datatable .na {  color: var(--jp-cell-editor-border-color);  font-size: 80%;}\n",
       ".datatable .sp {  opacity: 0.25;}\n",
       ".datatable .footer { font-size: 9px; }\n",
       ".datatable .frame_dimensions {  background: var(--jp-border-color3);  border-top: 1px solid var(--jp-border-color0);  color: var(--jp-ui-font-color3);  display: inline-block;  opacity: 0.6;  padding: 1px 10px 1px 5px;}\n",
       "</style>\n"
      ],
      "text/plain": [
       "<IPython.core.display.HTML object>"
      ]
     },
     "metadata": {},
     "output_type": "display_data"
    }
   ],
   "source": [
    "from xam.feature_extraction import BayesianTargetEncoder\n",
    "\n",
    "# encode categorical variable using target group mean\n",
    "enc = BayesianTargetEncoder(\n",
    "    columns=nominal,\n",
    "    prior_weight=5, # smoothing to prevent overfitting\n",
    "    suffix=''\n",
    "    )\n",
    "\n",
    "nom_train = enc.fit_transform(features.loc[:,nominal], log_target)\n",
    "nom_test = enc.transform(X_test_full.loc[:,nominal])"
   ]
  },
  {
   "cell_type": "code",
   "execution_count": 18,
   "id": "b2837f7e",
   "metadata": {
    "execution": {
     "iopub.execute_input": "2021-10-31T19:00:20.167196Z",
     "iopub.status.busy": "2021-10-31T19:00:20.166472Z",
     "iopub.status.idle": "2021-10-31T19:00:20.171656Z",
     "shell.execute_reply": "2021-10-31T19:00:20.172208Z",
     "shell.execute_reply.started": "2021-10-31T17:37:28.421098Z"
    },
    "papermill": {
     "duration": 0.051475,
     "end_time": "2021-10-31T19:00:20.172383",
     "exception": false,
     "start_time": "2021-10-31T19:00:20.120908",
     "status": "completed"
    },
    "tags": []
   },
   "outputs": [],
   "source": [
    "copy_cat = pd.concat([features[ordinal], nom_train], axis=1)\n",
    "copy_catt = pd.concat([X_test_full[ordinal], nom_test], axis=1)"
   ]
  },
  {
   "cell_type": "code",
   "execution_count": 19,
   "id": "dd8294e1",
   "metadata": {
    "execution": {
     "iopub.execute_input": "2021-10-31T19:00:20.261390Z",
     "iopub.status.busy": "2021-10-31T19:00:20.254718Z",
     "iopub.status.idle": "2021-10-31T19:00:20.281131Z",
     "shell.execute_reply": "2021-10-31T19:00:20.280408Z",
     "shell.execute_reply.started": "2021-10-31T17:37:32.739929Z"
    },
    "papermill": {
     "duration": 0.068892,
     "end_time": "2021-10-31T19:00:20.281274",
     "exception": false,
     "start_time": "2021-10-31T19:00:20.212382",
     "status": "completed"
    },
    "tags": []
   },
   "outputs": [],
   "source": [
    "from sklearn.preprocessing import StandardScaler\n",
    "# feature standardization\n",
    "scaler = StandardScaler()\n",
    "num_scaled = pd.DataFrame(scaler.fit_transform(copy), index=features.index, columns=copy.columns)\n",
    "num_scaled_test = pd.DataFrame(scaler.transform(copy_t), index=X_test_full.index, columns=copy.columns)\n",
    "\n",
    "scaler_cat = StandardScaler()\n",
    "cat_scaled = pd.DataFrame(scaler.fit_transform(copy_cat), index=features.index, columns=copy_cat.columns)\n",
    "cat_scaled_test = pd.DataFrame(scaler.transform(copy_catt), index=X_test_full.index, columns=copy_catt.columns)"
   ]
  },
  {
   "cell_type": "code",
   "execution_count": 20,
   "id": "e125c89c",
   "metadata": {
    "execution": {
     "iopub.execute_input": "2021-10-31T19:00:20.368110Z",
     "iopub.status.busy": "2021-10-31T19:00:20.366788Z",
     "iopub.status.idle": "2021-10-31T19:00:20.371427Z",
     "shell.execute_reply": "2021-10-31T19:00:20.370922Z",
     "shell.execute_reply.started": "2021-10-31T17:37:40.027996Z"
    },
    "papermill": {
     "duration": 0.049691,
     "end_time": "2021-10-31T19:00:20.371609",
     "exception": false,
     "start_time": "2021-10-31T19:00:20.321918",
     "status": "completed"
    },
    "tags": []
   },
   "outputs": [],
   "source": [
    "X_train = pd.concat([num_scaled, copy_cat], axis=1)\n",
    "X_test = pd.concat([num_scaled_test, copy_catt], axis=1)"
   ]
  },
  {
   "cell_type": "code",
   "execution_count": 21,
   "id": "0fc1d642",
   "metadata": {
    "execution": {
     "iopub.execute_input": "2021-10-31T19:00:20.454049Z",
     "iopub.status.busy": "2021-10-31T19:00:20.453368Z",
     "iopub.status.idle": "2021-10-31T19:00:20.460141Z",
     "shell.execute_reply": "2021-10-31T19:00:20.460691Z",
     "shell.execute_reply.started": "2021-10-31T17:37:44.984172Z"
    },
    "papermill": {
     "duration": 0.049801,
     "end_time": "2021-10-31T19:00:20.460862",
     "exception": false,
     "start_time": "2021-10-31T19:00:20.411061",
     "status": "completed"
    },
    "tags": []
   },
   "outputs": [],
   "source": [
    "from sklearn.model_selection import KFold\n",
    "from sklearn.metrics import mean_squared_error\n",
    "n_splits = 3\n",
    "def do_cv(X, y, clf):\n",
    "    means = []\n",
    "    kf = KFold(n_splits=n_splits, shuffle=True)\n",
    "    for train_index, test_index in kf.split(X):\n",
    "        X_train, X_test = X.iloc[train_index], X.iloc[test_index]\n",
    "        y_train, y_test = y.iloc[train_index], y.iloc[test_index]\n",
    "        model = clf.fit(X_train, y_train)\n",
    "        rmsle = mean_squared_error(y_test, model.predict(X_test), squared=False)\n",
    "        means.append(rmsle)\n",
    "    return np.average(means)"
   ]
  },
  {
   "cell_type": "code",
   "execution_count": 22,
   "id": "a920fbab",
   "metadata": {
    "execution": {
     "iopub.execute_input": "2021-10-31T19:00:20.547932Z",
     "iopub.status.busy": "2021-10-31T19:00:20.547160Z",
     "iopub.status.idle": "2021-10-31T19:00:54.844817Z",
     "shell.execute_reply": "2021-10-31T19:00:54.844291Z",
     "shell.execute_reply.started": "2021-10-31T17:37:47.825681Z"
    },
    "papermill": {
     "duration": 34.344365,
     "end_time": "2021-10-31T19:00:54.844969",
     "exception": false,
     "start_time": "2021-10-31T19:00:20.500604",
     "status": "completed"
    },
    "tags": []
   },
   "outputs": [
    {
     "name": "stderr",
     "output_type": "stream",
     "text": [
      "/opt/conda/lib/python3.7/site-packages/optuna/_experimental.py:90: ExperimentalWarning: Progress bar is experimental (supported from v1.2.0). The interface can change in the future.\n",
      "  ExperimentalWarning,\n"
     ]
    },
    {
     "data": {
      "application/vnd.jupyter.widget-view+json": {
       "model_id": "b93267b44e1146f784cca36250164097",
       "version_major": 2,
       "version_minor": 0
      },
      "text/plain": [
       "  0%|          | 0/150 [00:00<?, ?it/s]"
      ]
     },
     "metadata": {},
     "output_type": "display_data"
    }
   ],
   "source": [
    "import optuna\n",
    "from sklearn.linear_model import Lasso, Ridge\n",
    "\n",
    "def objective_lasso(trial):\n",
    "    params = dict(\n",
    "           alpha=trial.suggest_float('alpha', 1e-6, 1e1)\n",
    "    )\n",
    "    model = Lasso(**params, max_iter = 10000000)\n",
    "    return do_cv(X_train, log_target, model)\n",
    "\n",
    "optuna.logging.set_verbosity(optuna.logging.ERROR)\n",
    "study_lasso = optuna.create_study(direction='minimize')\n",
    "study_lasso.optimize(objective_lasso, n_trials=150, show_progress_bar=True)"
   ]
  },
  {
   "cell_type": "code",
   "execution_count": 23,
   "id": "80a3cbad",
   "metadata": {
    "execution": {
     "iopub.execute_input": "2021-10-31T19:00:54.929068Z",
     "iopub.status.busy": "2021-10-31T19:00:54.928329Z",
     "iopub.status.idle": "2021-10-31T19:00:55.115209Z",
     "shell.execute_reply": "2021-10-31T19:00:55.114042Z",
     "shell.execute_reply.started": "2021-10-31T17:38:57.11301Z"
    },
    "papermill": {
     "duration": 0.23027,
     "end_time": "2021-10-31T19:00:55.115381",
     "exception": false,
     "start_time": "2021-10-31T19:00:54.885111",
     "status": "completed"
    },
    "tags": []
   },
   "outputs": [
    {
     "name": "stdout",
     "output_type": "stream",
     "text": [
      "best lasso regression rmsle score: 0.14321306339898346\n"
     ]
    },
    {
     "data": {
      "text/html": [
       "        <script type=\"text/javascript\">\n",
       "        window.PlotlyConfig = {MathJaxConfig: 'local'};\n",
       "        if (window.MathJax) {MathJax.Hub.Config({SVG: {font: \"STIX-Web\"}});}\n",
       "        if (typeof require !== 'undefined') {\n",
       "        require.undef(\"plotly\");\n",
       "        requirejs.config({\n",
       "            paths: {\n",
       "                'plotly': ['https://cdn.plot.ly/plotly-2.4.2.min']\n",
       "            }\n",
       "        });\n",
       "        require(['plotly'], function(Plotly) {\n",
       "            window._Plotly = Plotly;\n",
       "        });\n",
       "        }\n",
       "        </script>\n",
       "        "
      ]
     },
     "metadata": {},
     "output_type": "display_data"
    },
    {
     "data": {
      "text/html": [
       "<div>                            <div id=\"4328cba5-04d7-440c-99e5-70519366b264\" class=\"plotly-graph-div\" style=\"height:525px; width:100%;\"></div>            <script type=\"text/javascript\">                require([\"plotly\"], function(Plotly) {                    window.PLOTLYENV=window.PLOTLYENV || {};                                    if (document.getElementById(\"4328cba5-04d7-440c-99e5-70519366b264\")) {                    Plotly.newPlot(                        \"4328cba5-04d7-440c-99e5-70519366b264\",                        [{\"mode\":\"markers\",\"name\":\"Objective Value\",\"type\":\"scatter\",\"x\":[0,1,2,3,4,5,6,7,8,9,10,11,12,13,14,15,16,17,18,19,20,21,22,23,24,25,26,27,28,29,30,31,32,33,34,35,36,37,38,39,40,41,42,43,44,45,46,47,48,49,50,51,52,53,54,55,56,57,58,59,60,61,62,63,64,65,66,67,68,69,70,71,72,73,74,75,76,77,78,79,80,81,82,83,84,85,86,87,88,89,90,91,92,93,94,95,96,97,98,99,100,101,102,103,104,105,106,107,108,109,110,111,112,113,114,115,116,117,118,119,120,121,122,123,124,125,126,127,128,129,130,131,132,133,134,135,136,137,138,139,140,141,142,143,144,145,146,147,148,149],\"y\":[0.3992397234472547,0.39906308718814837,0.39977685450178807,0.39941944096468945,0.3995097371181084,0.3993466083449932,0.3994162262991842,0.40027150484259266,0.3989498634956705,0.39980398944471446,0.40014071817886726,0.39970788481209135,0.39949899815371515,0.3988341332031857,0.39971935423530497,0.39911937659949676,0.3995674392196629,0.39960489854928855,0.3800421104664629,0.3994938168742593,0.31614599730988185,0.3695487304924525,0.16829464443082506,0.39918591260385033,0.16320843155326684,0.17105147773887852,0.399429091671686,0.3990079987634749,0.3995429690831829,0.39921099459367787,0.19988099235603962,0.18899927144603454,0.21649533586977734,0.39920132012495185,0.3986123140556435,0.3993260775862126,0.3994317850083792,0.40004912001497744,0.16101404785593074,0.3994663975054284,0.399096914921041,0.1638340910939315,0.19750259407875903,0.39947187370853965,0.4000285145013472,0.399521518419139,0.20129987287066076,0.39949852796088664,0.39969824438872553,0.3994166137304543,0.16536815525338547,0.4006272025542606,0.18317510484701324,0.3992029486411856,0.3995684282321766,0.30437593307144156,0.3994150292809549,0.14321306339898346,0.3992913092120529,0.3908561678802788,0.3992080332130638,0.16460230042015453,0.37571177809325795,0.3992880724152747,0.17112019058137903,0.3995313318028278,0.36046111104940715,0.15948644777855672,0.399175246432073,0.31654930837725387,0.4002921235618084,0.27105516255524226,0.1853626047345526,0.1575782926077417,0.3990746598451851,0.16161213660061602,0.39870265327706006,0.3998093980022828,0.399533162049785,0.3990103770564224,0.3995075024459469,0.1449856636518467,0.2880833056249805,0.32809871424566966,0.17282949257176572,0.399724622163818,0.39925626149231325,0.39934517318420787,0.2818191691415451,0.3990420476341179,0.4003419597302264,0.2709369718625736,0.20714682259961745,0.14746461074515174,0.39979501743754975,0.3945281436390147,0.3995438537775045,0.15056734980503242,0.3990999725568883,0.39940425652494627,0.3994015966285534,0.16111288207790223,0.15321814103766226,0.29388606435596704,0.29308946875315206,0.1458243629188095,0.3990583688153377,0.3994046389059778,0.39932212370726533,0.3510724011680857,0.2719813993876912,0.16415713596402326,0.39933177343340365,0.15452269698515309,0.1646686105995441,0.16108017817658302,0.39942188700236114,0.3480839366953141,0.15902498974445922,0.39860433154661035,0.2749923843090534,0.18466363984702663,0.36462684468673956,0.17173867831656384,0.2781782548074853,0.3992804458702696,0.39988072670359837,0.15177215388777546,0.27318773823761416,0.16283464551525284,0.3995411385239529,0.15681223556463356,0.35500687906487394,0.16721214741178617,0.3948624547679937,0.2619454153322738,0.39977138215456637,0.31651699941067396,0.1490220373883884,0.3996729067117332,0.1526698315354943,0.14624783962569501,0.2654019954739035,0.15900605258460468,0.16499452485241164,0.3248915591928795,0.3995683225622417,0.15876255511840434,0.27529087800871505,0.39989839256830223]},{\"name\":\"Best Value\",\"type\":\"scatter\",\"x\":[0,1,2,3,4,5,6,7,8,9,10,11,12,13,14,15,16,17,18,19,20,21,22,23,24,25,26,27,28,29,30,31,32,33,34,35,36,37,38,39,40,41,42,43,44,45,46,47,48,49,50,51,52,53,54,55,56,57,58,59,60,61,62,63,64,65,66,67,68,69,70,71,72,73,74,75,76,77,78,79,80,81,82,83,84,85,86,87,88,89,90,91,92,93,94,95,96,97,98,99,100,101,102,103,104,105,106,107,108,109,110,111,112,113,114,115,116,117,118,119,120,121,122,123,124,125,126,127,128,129,130,131,132,133,134,135,136,137,138,139,140,141,142,143,144,145,146,147,148,149],\"y\":[0.3992397234472547,0.39906308718814837,0.39906308718814837,0.39906308718814837,0.39906308718814837,0.39906308718814837,0.39906308718814837,0.39906308718814837,0.3989498634956705,0.3989498634956705,0.3989498634956705,0.3989498634956705,0.3989498634956705,0.3988341332031857,0.3988341332031857,0.3988341332031857,0.3988341332031857,0.3988341332031857,0.3800421104664629,0.3800421104664629,0.31614599730988185,0.31614599730988185,0.16829464443082506,0.16829464443082506,0.16320843155326684,0.16320843155326684,0.16320843155326684,0.16320843155326684,0.16320843155326684,0.16320843155326684,0.16320843155326684,0.16320843155326684,0.16320843155326684,0.16320843155326684,0.16320843155326684,0.16320843155326684,0.16320843155326684,0.16320843155326684,0.16101404785593074,0.16101404785593074,0.16101404785593074,0.16101404785593074,0.16101404785593074,0.16101404785593074,0.16101404785593074,0.16101404785593074,0.16101404785593074,0.16101404785593074,0.16101404785593074,0.16101404785593074,0.16101404785593074,0.16101404785593074,0.16101404785593074,0.16101404785593074,0.16101404785593074,0.16101404785593074,0.16101404785593074,0.14321306339898346,0.14321306339898346,0.14321306339898346,0.14321306339898346,0.14321306339898346,0.14321306339898346,0.14321306339898346,0.14321306339898346,0.14321306339898346,0.14321306339898346,0.14321306339898346,0.14321306339898346,0.14321306339898346,0.14321306339898346,0.14321306339898346,0.14321306339898346,0.14321306339898346,0.14321306339898346,0.14321306339898346,0.14321306339898346,0.14321306339898346,0.14321306339898346,0.14321306339898346,0.14321306339898346,0.14321306339898346,0.14321306339898346,0.14321306339898346,0.14321306339898346,0.14321306339898346,0.14321306339898346,0.14321306339898346,0.14321306339898346,0.14321306339898346,0.14321306339898346,0.14321306339898346,0.14321306339898346,0.14321306339898346,0.14321306339898346,0.14321306339898346,0.14321306339898346,0.14321306339898346,0.14321306339898346,0.14321306339898346,0.14321306339898346,0.14321306339898346,0.14321306339898346,0.14321306339898346,0.14321306339898346,0.14321306339898346,0.14321306339898346,0.14321306339898346,0.14321306339898346,0.14321306339898346,0.14321306339898346,0.14321306339898346,0.14321306339898346,0.14321306339898346,0.14321306339898346,0.14321306339898346,0.14321306339898346,0.14321306339898346,0.14321306339898346,0.14321306339898346,0.14321306339898346,0.14321306339898346,0.14321306339898346,0.14321306339898346,0.14321306339898346,0.14321306339898346,0.14321306339898346,0.14321306339898346,0.14321306339898346,0.14321306339898346,0.14321306339898346,0.14321306339898346,0.14321306339898346,0.14321306339898346,0.14321306339898346,0.14321306339898346,0.14321306339898346,0.14321306339898346,0.14321306339898346,0.14321306339898346,0.14321306339898346,0.14321306339898346,0.14321306339898346,0.14321306339898346,0.14321306339898346,0.14321306339898346,0.14321306339898346,0.14321306339898346,0.14321306339898346,0.14321306339898346]}],                        {\"template\":{\"data\":{\"bar\":[{\"error_x\":{\"color\":\"#2a3f5f\"},\"error_y\":{\"color\":\"#2a3f5f\"},\"marker\":{\"line\":{\"color\":\"#E5ECF6\",\"width\":0.5},\"pattern\":{\"fillmode\":\"overlay\",\"size\":10,\"solidity\":0.2}},\"type\":\"bar\"}],\"barpolar\":[{\"marker\":{\"line\":{\"color\":\"#E5ECF6\",\"width\":0.5},\"pattern\":{\"fillmode\":\"overlay\",\"size\":10,\"solidity\":0.2}},\"type\":\"barpolar\"}],\"carpet\":[{\"aaxis\":{\"endlinecolor\":\"#2a3f5f\",\"gridcolor\":\"white\",\"linecolor\":\"white\",\"minorgridcolor\":\"white\",\"startlinecolor\":\"#2a3f5f\"},\"baxis\":{\"endlinecolor\":\"#2a3f5f\",\"gridcolor\":\"white\",\"linecolor\":\"white\",\"minorgridcolor\":\"white\",\"startlinecolor\":\"#2a3f5f\"},\"type\":\"carpet\"}],\"choropleth\":[{\"colorbar\":{\"outlinewidth\":0,\"ticks\":\"\"},\"type\":\"choropleth\"}],\"contour\":[{\"colorbar\":{\"outlinewidth\":0,\"ticks\":\"\"},\"colorscale\":[[0.0,\"#0d0887\"],[0.1111111111111111,\"#46039f\"],[0.2222222222222222,\"#7201a8\"],[0.3333333333333333,\"#9c179e\"],[0.4444444444444444,\"#bd3786\"],[0.5555555555555556,\"#d8576b\"],[0.6666666666666666,\"#ed7953\"],[0.7777777777777778,\"#fb9f3a\"],[0.8888888888888888,\"#fdca26\"],[1.0,\"#f0f921\"]],\"type\":\"contour\"}],\"contourcarpet\":[{\"colorbar\":{\"outlinewidth\":0,\"ticks\":\"\"},\"type\":\"contourcarpet\"}],\"heatmap\":[{\"colorbar\":{\"outlinewidth\":0,\"ticks\":\"\"},\"colorscale\":[[0.0,\"#0d0887\"],[0.1111111111111111,\"#46039f\"],[0.2222222222222222,\"#7201a8\"],[0.3333333333333333,\"#9c179e\"],[0.4444444444444444,\"#bd3786\"],[0.5555555555555556,\"#d8576b\"],[0.6666666666666666,\"#ed7953\"],[0.7777777777777778,\"#fb9f3a\"],[0.8888888888888888,\"#fdca26\"],[1.0,\"#f0f921\"]],\"type\":\"heatmap\"}],\"heatmapgl\":[{\"colorbar\":{\"outlinewidth\":0,\"ticks\":\"\"},\"colorscale\":[[0.0,\"#0d0887\"],[0.1111111111111111,\"#46039f\"],[0.2222222222222222,\"#7201a8\"],[0.3333333333333333,\"#9c179e\"],[0.4444444444444444,\"#bd3786\"],[0.5555555555555556,\"#d8576b\"],[0.6666666666666666,\"#ed7953\"],[0.7777777777777778,\"#fb9f3a\"],[0.8888888888888888,\"#fdca26\"],[1.0,\"#f0f921\"]],\"type\":\"heatmapgl\"}],\"histogram\":[{\"marker\":{\"pattern\":{\"fillmode\":\"overlay\",\"size\":10,\"solidity\":0.2}},\"type\":\"histogram\"}],\"histogram2d\":[{\"colorbar\":{\"outlinewidth\":0,\"ticks\":\"\"},\"colorscale\":[[0.0,\"#0d0887\"],[0.1111111111111111,\"#46039f\"],[0.2222222222222222,\"#7201a8\"],[0.3333333333333333,\"#9c179e\"],[0.4444444444444444,\"#bd3786\"],[0.5555555555555556,\"#d8576b\"],[0.6666666666666666,\"#ed7953\"],[0.7777777777777778,\"#fb9f3a\"],[0.8888888888888888,\"#fdca26\"],[1.0,\"#f0f921\"]],\"type\":\"histogram2d\"}],\"histogram2dcontour\":[{\"colorbar\":{\"outlinewidth\":0,\"ticks\":\"\"},\"colorscale\":[[0.0,\"#0d0887\"],[0.1111111111111111,\"#46039f\"],[0.2222222222222222,\"#7201a8\"],[0.3333333333333333,\"#9c179e\"],[0.4444444444444444,\"#bd3786\"],[0.5555555555555556,\"#d8576b\"],[0.6666666666666666,\"#ed7953\"],[0.7777777777777778,\"#fb9f3a\"],[0.8888888888888888,\"#fdca26\"],[1.0,\"#f0f921\"]],\"type\":\"histogram2dcontour\"}],\"mesh3d\":[{\"colorbar\":{\"outlinewidth\":0,\"ticks\":\"\"},\"type\":\"mesh3d\"}],\"parcoords\":[{\"line\":{\"colorbar\":{\"outlinewidth\":0,\"ticks\":\"\"}},\"type\":\"parcoords\"}],\"pie\":[{\"automargin\":true,\"type\":\"pie\"}],\"scatter\":[{\"marker\":{\"colorbar\":{\"outlinewidth\":0,\"ticks\":\"\"}},\"type\":\"scatter\"}],\"scatter3d\":[{\"line\":{\"colorbar\":{\"outlinewidth\":0,\"ticks\":\"\"}},\"marker\":{\"colorbar\":{\"outlinewidth\":0,\"ticks\":\"\"}},\"type\":\"scatter3d\"}],\"scattercarpet\":[{\"marker\":{\"colorbar\":{\"outlinewidth\":0,\"ticks\":\"\"}},\"type\":\"scattercarpet\"}],\"scattergeo\":[{\"marker\":{\"colorbar\":{\"outlinewidth\":0,\"ticks\":\"\"}},\"type\":\"scattergeo\"}],\"scattergl\":[{\"marker\":{\"colorbar\":{\"outlinewidth\":0,\"ticks\":\"\"}},\"type\":\"scattergl\"}],\"scattermapbox\":[{\"marker\":{\"colorbar\":{\"outlinewidth\":0,\"ticks\":\"\"}},\"type\":\"scattermapbox\"}],\"scatterpolar\":[{\"marker\":{\"colorbar\":{\"outlinewidth\":0,\"ticks\":\"\"}},\"type\":\"scatterpolar\"}],\"scatterpolargl\":[{\"marker\":{\"colorbar\":{\"outlinewidth\":0,\"ticks\":\"\"}},\"type\":\"scatterpolargl\"}],\"scatterternary\":[{\"marker\":{\"colorbar\":{\"outlinewidth\":0,\"ticks\":\"\"}},\"type\":\"scatterternary\"}],\"surface\":[{\"colorbar\":{\"outlinewidth\":0,\"ticks\":\"\"},\"colorscale\":[[0.0,\"#0d0887\"],[0.1111111111111111,\"#46039f\"],[0.2222222222222222,\"#7201a8\"],[0.3333333333333333,\"#9c179e\"],[0.4444444444444444,\"#bd3786\"],[0.5555555555555556,\"#d8576b\"],[0.6666666666666666,\"#ed7953\"],[0.7777777777777778,\"#fb9f3a\"],[0.8888888888888888,\"#fdca26\"],[1.0,\"#f0f921\"]],\"type\":\"surface\"}],\"table\":[{\"cells\":{\"fill\":{\"color\":\"#EBF0F8\"},\"line\":{\"color\":\"white\"}},\"header\":{\"fill\":{\"color\":\"#C8D4E3\"},\"line\":{\"color\":\"white\"}},\"type\":\"table\"}]},\"layout\":{\"annotationdefaults\":{\"arrowcolor\":\"#2a3f5f\",\"arrowhead\":0,\"arrowwidth\":1},\"autotypenumbers\":\"strict\",\"coloraxis\":{\"colorbar\":{\"outlinewidth\":0,\"ticks\":\"\"}},\"colorscale\":{\"diverging\":[[0,\"#8e0152\"],[0.1,\"#c51b7d\"],[0.2,\"#de77ae\"],[0.3,\"#f1b6da\"],[0.4,\"#fde0ef\"],[0.5,\"#f7f7f7\"],[0.6,\"#e6f5d0\"],[0.7,\"#b8e186\"],[0.8,\"#7fbc41\"],[0.9,\"#4d9221\"],[1,\"#276419\"]],\"sequential\":[[0.0,\"#0d0887\"],[0.1111111111111111,\"#46039f\"],[0.2222222222222222,\"#7201a8\"],[0.3333333333333333,\"#9c179e\"],[0.4444444444444444,\"#bd3786\"],[0.5555555555555556,\"#d8576b\"],[0.6666666666666666,\"#ed7953\"],[0.7777777777777778,\"#fb9f3a\"],[0.8888888888888888,\"#fdca26\"],[1.0,\"#f0f921\"]],\"sequentialminus\":[[0.0,\"#0d0887\"],[0.1111111111111111,\"#46039f\"],[0.2222222222222222,\"#7201a8\"],[0.3333333333333333,\"#9c179e\"],[0.4444444444444444,\"#bd3786\"],[0.5555555555555556,\"#d8576b\"],[0.6666666666666666,\"#ed7953\"],[0.7777777777777778,\"#fb9f3a\"],[0.8888888888888888,\"#fdca26\"],[1.0,\"#f0f921\"]]},\"colorway\":[\"#636efa\",\"#EF553B\",\"#00cc96\",\"#ab63fa\",\"#FFA15A\",\"#19d3f3\",\"#FF6692\",\"#B6E880\",\"#FF97FF\",\"#FECB52\"],\"font\":{\"color\":\"#2a3f5f\"},\"geo\":{\"bgcolor\":\"white\",\"lakecolor\":\"white\",\"landcolor\":\"#E5ECF6\",\"showlakes\":true,\"showland\":true,\"subunitcolor\":\"white\"},\"hoverlabel\":{\"align\":\"left\"},\"hovermode\":\"closest\",\"mapbox\":{\"style\":\"light\"},\"paper_bgcolor\":\"white\",\"plot_bgcolor\":\"#E5ECF6\",\"polar\":{\"angularaxis\":{\"gridcolor\":\"white\",\"linecolor\":\"white\",\"ticks\":\"\"},\"bgcolor\":\"#E5ECF6\",\"radialaxis\":{\"gridcolor\":\"white\",\"linecolor\":\"white\",\"ticks\":\"\"}},\"scene\":{\"xaxis\":{\"backgroundcolor\":\"#E5ECF6\",\"gridcolor\":\"white\",\"gridwidth\":2,\"linecolor\":\"white\",\"showbackground\":true,\"ticks\":\"\",\"zerolinecolor\":\"white\"},\"yaxis\":{\"backgroundcolor\":\"#E5ECF6\",\"gridcolor\":\"white\",\"gridwidth\":2,\"linecolor\":\"white\",\"showbackground\":true,\"ticks\":\"\",\"zerolinecolor\":\"white\"},\"zaxis\":{\"backgroundcolor\":\"#E5ECF6\",\"gridcolor\":\"white\",\"gridwidth\":2,\"linecolor\":\"white\",\"showbackground\":true,\"ticks\":\"\",\"zerolinecolor\":\"white\"}},\"shapedefaults\":{\"line\":{\"color\":\"#2a3f5f\"}},\"ternary\":{\"aaxis\":{\"gridcolor\":\"white\",\"linecolor\":\"white\",\"ticks\":\"\"},\"baxis\":{\"gridcolor\":\"white\",\"linecolor\":\"white\",\"ticks\":\"\"},\"bgcolor\":\"#E5ECF6\",\"caxis\":{\"gridcolor\":\"white\",\"linecolor\":\"white\",\"ticks\":\"\"}},\"title\":{\"x\":0.05},\"xaxis\":{\"automargin\":true,\"gridcolor\":\"white\",\"linecolor\":\"white\",\"ticks\":\"\",\"title\":{\"standoff\":15},\"zerolinecolor\":\"white\",\"zerolinewidth\":2},\"yaxis\":{\"automargin\":true,\"gridcolor\":\"white\",\"linecolor\":\"white\",\"ticks\":\"\",\"title\":{\"standoff\":15},\"zerolinecolor\":\"white\",\"zerolinewidth\":2}}},\"title\":{\"text\":\"Optimization History Plot\"},\"xaxis\":{\"title\":{\"text\":\"#Trials\"}},\"yaxis\":{\"title\":{\"text\":\"Objective Value\"}}},                        {\"responsive\": true}                    ).then(function(){\n",
       "                            \n",
       "var gd = document.getElementById('4328cba5-04d7-440c-99e5-70519366b264');\n",
       "var x = new MutationObserver(function (mutations, observer) {{\n",
       "        var display = window.getComputedStyle(gd).display;\n",
       "        if (!display || display === 'none') {{\n",
       "            console.log([gd, 'removed!']);\n",
       "            Plotly.purge(gd);\n",
       "            observer.disconnect();\n",
       "        }}\n",
       "}});\n",
       "\n",
       "// Listen for the removal of the full notebook cells\n",
       "var notebookContainer = gd.closest('#notebook-container');\n",
       "if (notebookContainer) {{\n",
       "    x.observe(notebookContainer, {childList: true});\n",
       "}}\n",
       "\n",
       "// Listen for the clearing of the current output cell\n",
       "var outputEl = gd.closest('.output');\n",
       "if (outputEl) {{\n",
       "    x.observe(outputEl, {childList: true});\n",
       "}}\n",
       "\n",
       "                        })                };                });            </script>        </div>"
      ]
     },
     "metadata": {},
     "output_type": "display_data"
    }
   ],
   "source": [
    "print('best lasso regression rmsle score:', study_lasso.best_value)\n",
    "optuna.visualization.plot_optimization_history(study_lasso)"
   ]
  },
  {
   "cell_type": "code",
   "execution_count": 24,
   "id": "e48152c1",
   "metadata": {
    "execution": {
     "iopub.execute_input": "2021-10-31T19:00:55.207373Z",
     "iopub.status.busy": "2021-10-31T19:00:55.206701Z",
     "iopub.status.idle": "2021-10-31T19:00:55.238265Z",
     "shell.execute_reply": "2021-10-31T19:00:55.239377Z",
     "shell.execute_reply.started": "2021-10-31T17:38:57.139645Z"
    },
    "papermill": {
     "duration": 0.081211,
     "end_time": "2021-10-31T19:00:55.239694",
     "exception": false,
     "start_time": "2021-10-31T19:00:55.158483",
     "status": "completed"
    },
    "tags": []
   },
   "outputs": [
    {
     "data": {
      "text/plain": [
       "array([120269.37970816, 149138.07523963, 176897.60882858, ...,\n",
       "       170758.33634219, 119807.61287172, 214919.64266919])"
      ]
     },
     "execution_count": 24,
     "metadata": {},
     "output_type": "execute_result"
    }
   ],
   "source": [
    "lasso_model = Lasso(**study_lasso.best_params).fit(X_train, log_target)\n",
    "np.expm1(lasso_model.predict(X_test))"
   ]
  },
  {
   "cell_type": "code",
   "execution_count": 25,
   "id": "89ce19b6",
   "metadata": {
    "execution": {
     "iopub.execute_input": "2021-10-31T19:00:55.452878Z",
     "iopub.status.busy": "2021-10-31T19:00:55.452161Z",
     "iopub.status.idle": "2021-10-31T19:01:29.797029Z",
     "shell.execute_reply": "2021-10-31T19:01:29.795839Z",
     "shell.execute_reply.started": "2021-10-31T17:38:57.173284Z"
    },
    "papermill": {
     "duration": 34.477812,
     "end_time": "2021-10-31T19:01:29.797199",
     "exception": false,
     "start_time": "2021-10-31T19:00:55.319387",
     "status": "completed"
    },
    "tags": []
   },
   "outputs": [
    {
     "name": "stderr",
     "output_type": "stream",
     "text": [
      "/opt/conda/lib/python3.7/site-packages/optuna/_experimental.py:90: ExperimentalWarning:\n",
      "\n",
      "Progress bar is experimental (supported from v1.2.0). The interface can change in the future.\n",
      "\n"
     ]
    },
    {
     "data": {
      "application/vnd.jupyter.widget-view+json": {
       "model_id": "d3be0acadee04ce3b444c5091903d5c9",
       "version_major": 2,
       "version_minor": 0
      },
      "text/plain": [
       "  0%|          | 0/150 [00:00<?, ?it/s]"
      ]
     },
     "metadata": {},
     "output_type": "display_data"
    }
   ],
   "source": [
    "def objective_ridge(trial):\n",
    "    params = dict(\n",
    "           alpha=trial.suggest_float('alpha', 1e-4, 1e2)\n",
    "    )\n",
    "    model = Ridge(**params, max_iter = 10000000)\n",
    "    return do_cv(X_train, log_target, model)\n",
    "\n",
    "optuna.logging.set_verbosity(optuna.logging.ERROR)\n",
    "study_ridge = optuna.create_study(direction='minimize')\n",
    "study_ridge.optimize(objective_ridge, n_trials=150, show_progress_bar=True)"
   ]
  },
  {
   "cell_type": "code",
   "execution_count": 26,
   "id": "c6ab85c3",
   "metadata": {
    "execution": {
     "iopub.execute_input": "2021-10-31T19:01:29.889533Z",
     "iopub.status.busy": "2021-10-31T19:01:29.888500Z",
     "iopub.status.idle": "2021-10-31T19:01:29.916263Z",
     "shell.execute_reply": "2021-10-31T19:01:29.916816Z",
     "shell.execute_reply.started": "2021-10-31T17:40:05.938516Z"
    },
    "papermill": {
     "duration": 0.076279,
     "end_time": "2021-10-31T19:01:29.916987",
     "exception": false,
     "start_time": "2021-10-31T19:01:29.840708",
     "status": "completed"
    },
    "tags": []
   },
   "outputs": [
    {
     "name": "stdout",
     "output_type": "stream",
     "text": [
      "best ridge regression rmsle score: 0.1398182601829086\n"
     ]
    },
    {
     "data": {
      "text/html": [
       "<div>                            <div id=\"9b99a8c2-b0f5-4652-9dab-a37b7f6c7786\" class=\"plotly-graph-div\" style=\"height:525px; width:100%;\"></div>            <script type=\"text/javascript\">                require([\"plotly\"], function(Plotly) {                    window.PLOTLYENV=window.PLOTLYENV || {};                                    if (document.getElementById(\"9b99a8c2-b0f5-4652-9dab-a37b7f6c7786\")) {                    Plotly.newPlot(                        \"9b99a8c2-b0f5-4652-9dab-a37b7f6c7786\",                        [{\"mode\":\"markers\",\"name\":\"Objective Value\",\"type\":\"scatter\",\"x\":[0,1,2,3,4,5,6,7,8,9,10,11,12,13,14,15,16,17,18,19,20,21,22,23,24,25,26,27,28,29,30,31,32,33,34,35,36,37,38,39,40,41,42,43,44,45,46,47,48,49,50,51,52,53,54,55,56,57,58,59,60,61,62,63,64,65,66,67,68,69,70,71,72,73,74,75,76,77,78,79,80,81,82,83,84,85,86,87,88,89,90,91,92,93,94,95,96,97,98,99,100,101,102,103,104,105,106,107,108,109,110,111,112,113,114,115,116,117,118,119,120,121,122,123,124,125,126,127,128,129,130,131,132,133,134,135,136,137,138,139,140,141,142,143,144,145,146,147,148,149],\"y\":[0.15504869568397267,0.15402946728813538,0.1467414479260141,0.15529772457375038,0.15503900292044676,0.14684230843849563,0.14577507855166394,0.1520440021038441,0.15701962644746156,0.14551519606727334,0.14770067473567847,0.15142638189599147,0.1472604070927422,0.14790456126232662,0.1488178989889575,0.1514945170857879,0.145922486812773,0.14500582814059784,0.14825420224880095,0.14558264615494196,0.15021332172603796,0.14564356712089685,0.14526698355127074,0.14092021970833443,0.14295343336381572,0.14474002198099245,0.14442725808472948,0.1502448515509406,0.15121924226383623,0.14539773063958703,0.14367678523056893,0.15369793889746972,0.14766914543105272,0.1529176607528435,0.14883915200708217,0.15274238778098626,0.15360356246266207,0.1525799894882462,0.14922739664531776,0.14517974969146488,0.15092762862657946,0.15179672525145574,0.14524487621843762,0.15244795417666482,0.14567450928445372,0.14317903213304553,0.15071928436125304,0.14766043020399397,0.1493215595292827,0.14983806820255605,0.14657159758969796,0.14791957262893873,0.14188246277269442,0.14944029824418473,0.1456417079601731,0.1426276862893935,0.15236344701014434,0.1451476581414179,0.15069415326116475,0.14796396256178115,0.1432294829174879,0.1518757857056771,0.1461813671515084,0.1512957909547477,0.1462220769537602,0.14572593221616864,0.14702849018336545,0.14492571481409663,0.14971010696512854,0.14757595395968656,0.15088268332623292,0.1398182601829086,0.14567682843362756,0.1492187926846454,0.1409055418170135,0.14838914051032326,0.14659412886156645,0.1498320272443728,0.14528788637629525,0.14146839422999813,0.14274550628439364,0.14486502537190626,0.1492491541377177,0.15258759011493328,0.14803572702034162,0.142236558127613,0.14165743582613993,0.14971164921814567,0.1419647915091399,0.14300701960704632,0.15033327373346236,0.14730826929641705,0.14861819718534033,0.14792235929304406,0.1464429459345155,0.14712363862755162,0.14547186437329132,0.15550655910038488,0.14327665095591383,0.15496224124475422,0.17072705925731846,0.14698959216752835,0.14576609644395502,0.14400958960647078,0.1440277328638826,0.14123052141157974,0.14831232389050739,0.1458995827742075,0.1464780443962821,0.14538776805872508,0.14842888519134767,0.14954042811673243,0.14918867752278098,0.14401525104727428,0.14907429544389308,0.14403211036868144,0.14168726442144483,0.1462775826801613,0.1422343661526544,0.15034624300862287,0.146086164109036,0.14848597201622815,0.15227522639287985,0.14091928843361934,0.15299423751046257,0.1502356636475987,0.14475706078913106,0.14552186336670977,0.1448017012926688,0.1443309486291233,0.1465870154327946,0.15064805582685215,0.15042494737138876,0.1416649615238713,0.14218857813027574,0.14661305169660124,0.14052126046111094,0.139845427756124,0.15006069728386098,0.1461807388041513,0.14139674466321486,0.14690878225507573,0.17177402350907686,0.14705134885791069,0.14234108019542224,0.1517489269136669,0.15101019824203754,0.1467188999325402,0.15140387070030425,0.1500999561736012]},{\"name\":\"Best Value\",\"type\":\"scatter\",\"x\":[0,1,2,3,4,5,6,7,8,9,10,11,12,13,14,15,16,17,18,19,20,21,22,23,24,25,26,27,28,29,30,31,32,33,34,35,36,37,38,39,40,41,42,43,44,45,46,47,48,49,50,51,52,53,54,55,56,57,58,59,60,61,62,63,64,65,66,67,68,69,70,71,72,73,74,75,76,77,78,79,80,81,82,83,84,85,86,87,88,89,90,91,92,93,94,95,96,97,98,99,100,101,102,103,104,105,106,107,108,109,110,111,112,113,114,115,116,117,118,119,120,121,122,123,124,125,126,127,128,129,130,131,132,133,134,135,136,137,138,139,140,141,142,143,144,145,146,147,148,149],\"y\":[0.15504869568397267,0.15402946728813538,0.1467414479260141,0.1467414479260141,0.1467414479260141,0.1467414479260141,0.14577507855166394,0.14577507855166394,0.14577507855166394,0.14551519606727334,0.14551519606727334,0.14551519606727334,0.14551519606727334,0.14551519606727334,0.14551519606727334,0.14551519606727334,0.14551519606727334,0.14500582814059784,0.14500582814059784,0.14500582814059784,0.14500582814059784,0.14500582814059784,0.14500582814059784,0.14092021970833443,0.14092021970833443,0.14092021970833443,0.14092021970833443,0.14092021970833443,0.14092021970833443,0.14092021970833443,0.14092021970833443,0.14092021970833443,0.14092021970833443,0.14092021970833443,0.14092021970833443,0.14092021970833443,0.14092021970833443,0.14092021970833443,0.14092021970833443,0.14092021970833443,0.14092021970833443,0.14092021970833443,0.14092021970833443,0.14092021970833443,0.14092021970833443,0.14092021970833443,0.14092021970833443,0.14092021970833443,0.14092021970833443,0.14092021970833443,0.14092021970833443,0.14092021970833443,0.14092021970833443,0.14092021970833443,0.14092021970833443,0.14092021970833443,0.14092021970833443,0.14092021970833443,0.14092021970833443,0.14092021970833443,0.14092021970833443,0.14092021970833443,0.14092021970833443,0.14092021970833443,0.14092021970833443,0.14092021970833443,0.14092021970833443,0.14092021970833443,0.14092021970833443,0.14092021970833443,0.14092021970833443,0.1398182601829086,0.1398182601829086,0.1398182601829086,0.1398182601829086,0.1398182601829086,0.1398182601829086,0.1398182601829086,0.1398182601829086,0.1398182601829086,0.1398182601829086,0.1398182601829086,0.1398182601829086,0.1398182601829086,0.1398182601829086,0.1398182601829086,0.1398182601829086,0.1398182601829086,0.1398182601829086,0.1398182601829086,0.1398182601829086,0.1398182601829086,0.1398182601829086,0.1398182601829086,0.1398182601829086,0.1398182601829086,0.1398182601829086,0.1398182601829086,0.1398182601829086,0.1398182601829086,0.1398182601829086,0.1398182601829086,0.1398182601829086,0.1398182601829086,0.1398182601829086,0.1398182601829086,0.1398182601829086,0.1398182601829086,0.1398182601829086,0.1398182601829086,0.1398182601829086,0.1398182601829086,0.1398182601829086,0.1398182601829086,0.1398182601829086,0.1398182601829086,0.1398182601829086,0.1398182601829086,0.1398182601829086,0.1398182601829086,0.1398182601829086,0.1398182601829086,0.1398182601829086,0.1398182601829086,0.1398182601829086,0.1398182601829086,0.1398182601829086,0.1398182601829086,0.1398182601829086,0.1398182601829086,0.1398182601829086,0.1398182601829086,0.1398182601829086,0.1398182601829086,0.1398182601829086,0.1398182601829086,0.1398182601829086,0.1398182601829086,0.1398182601829086,0.1398182601829086,0.1398182601829086,0.1398182601829086,0.1398182601829086,0.1398182601829086,0.1398182601829086,0.1398182601829086,0.1398182601829086,0.1398182601829086,0.1398182601829086,0.1398182601829086]}],                        {\"template\":{\"data\":{\"bar\":[{\"error_x\":{\"color\":\"#2a3f5f\"},\"error_y\":{\"color\":\"#2a3f5f\"},\"marker\":{\"line\":{\"color\":\"#E5ECF6\",\"width\":0.5},\"pattern\":{\"fillmode\":\"overlay\",\"size\":10,\"solidity\":0.2}},\"type\":\"bar\"}],\"barpolar\":[{\"marker\":{\"line\":{\"color\":\"#E5ECF6\",\"width\":0.5},\"pattern\":{\"fillmode\":\"overlay\",\"size\":10,\"solidity\":0.2}},\"type\":\"barpolar\"}],\"carpet\":[{\"aaxis\":{\"endlinecolor\":\"#2a3f5f\",\"gridcolor\":\"white\",\"linecolor\":\"white\",\"minorgridcolor\":\"white\",\"startlinecolor\":\"#2a3f5f\"},\"baxis\":{\"endlinecolor\":\"#2a3f5f\",\"gridcolor\":\"white\",\"linecolor\":\"white\",\"minorgridcolor\":\"white\",\"startlinecolor\":\"#2a3f5f\"},\"type\":\"carpet\"}],\"choropleth\":[{\"colorbar\":{\"outlinewidth\":0,\"ticks\":\"\"},\"type\":\"choropleth\"}],\"contour\":[{\"colorbar\":{\"outlinewidth\":0,\"ticks\":\"\"},\"colorscale\":[[0.0,\"#0d0887\"],[0.1111111111111111,\"#46039f\"],[0.2222222222222222,\"#7201a8\"],[0.3333333333333333,\"#9c179e\"],[0.4444444444444444,\"#bd3786\"],[0.5555555555555556,\"#d8576b\"],[0.6666666666666666,\"#ed7953\"],[0.7777777777777778,\"#fb9f3a\"],[0.8888888888888888,\"#fdca26\"],[1.0,\"#f0f921\"]],\"type\":\"contour\"}],\"contourcarpet\":[{\"colorbar\":{\"outlinewidth\":0,\"ticks\":\"\"},\"type\":\"contourcarpet\"}],\"heatmap\":[{\"colorbar\":{\"outlinewidth\":0,\"ticks\":\"\"},\"colorscale\":[[0.0,\"#0d0887\"],[0.1111111111111111,\"#46039f\"],[0.2222222222222222,\"#7201a8\"],[0.3333333333333333,\"#9c179e\"],[0.4444444444444444,\"#bd3786\"],[0.5555555555555556,\"#d8576b\"],[0.6666666666666666,\"#ed7953\"],[0.7777777777777778,\"#fb9f3a\"],[0.8888888888888888,\"#fdca26\"],[1.0,\"#f0f921\"]],\"type\":\"heatmap\"}],\"heatmapgl\":[{\"colorbar\":{\"outlinewidth\":0,\"ticks\":\"\"},\"colorscale\":[[0.0,\"#0d0887\"],[0.1111111111111111,\"#46039f\"],[0.2222222222222222,\"#7201a8\"],[0.3333333333333333,\"#9c179e\"],[0.4444444444444444,\"#bd3786\"],[0.5555555555555556,\"#d8576b\"],[0.6666666666666666,\"#ed7953\"],[0.7777777777777778,\"#fb9f3a\"],[0.8888888888888888,\"#fdca26\"],[1.0,\"#f0f921\"]],\"type\":\"heatmapgl\"}],\"histogram\":[{\"marker\":{\"pattern\":{\"fillmode\":\"overlay\",\"size\":10,\"solidity\":0.2}},\"type\":\"histogram\"}],\"histogram2d\":[{\"colorbar\":{\"outlinewidth\":0,\"ticks\":\"\"},\"colorscale\":[[0.0,\"#0d0887\"],[0.1111111111111111,\"#46039f\"],[0.2222222222222222,\"#7201a8\"],[0.3333333333333333,\"#9c179e\"],[0.4444444444444444,\"#bd3786\"],[0.5555555555555556,\"#d8576b\"],[0.6666666666666666,\"#ed7953\"],[0.7777777777777778,\"#fb9f3a\"],[0.8888888888888888,\"#fdca26\"],[1.0,\"#f0f921\"]],\"type\":\"histogram2d\"}],\"histogram2dcontour\":[{\"colorbar\":{\"outlinewidth\":0,\"ticks\":\"\"},\"colorscale\":[[0.0,\"#0d0887\"],[0.1111111111111111,\"#46039f\"],[0.2222222222222222,\"#7201a8\"],[0.3333333333333333,\"#9c179e\"],[0.4444444444444444,\"#bd3786\"],[0.5555555555555556,\"#d8576b\"],[0.6666666666666666,\"#ed7953\"],[0.7777777777777778,\"#fb9f3a\"],[0.8888888888888888,\"#fdca26\"],[1.0,\"#f0f921\"]],\"type\":\"histogram2dcontour\"}],\"mesh3d\":[{\"colorbar\":{\"outlinewidth\":0,\"ticks\":\"\"},\"type\":\"mesh3d\"}],\"parcoords\":[{\"line\":{\"colorbar\":{\"outlinewidth\":0,\"ticks\":\"\"}},\"type\":\"parcoords\"}],\"pie\":[{\"automargin\":true,\"type\":\"pie\"}],\"scatter\":[{\"marker\":{\"colorbar\":{\"outlinewidth\":0,\"ticks\":\"\"}},\"type\":\"scatter\"}],\"scatter3d\":[{\"line\":{\"colorbar\":{\"outlinewidth\":0,\"ticks\":\"\"}},\"marker\":{\"colorbar\":{\"outlinewidth\":0,\"ticks\":\"\"}},\"type\":\"scatter3d\"}],\"scattercarpet\":[{\"marker\":{\"colorbar\":{\"outlinewidth\":0,\"ticks\":\"\"}},\"type\":\"scattercarpet\"}],\"scattergeo\":[{\"marker\":{\"colorbar\":{\"outlinewidth\":0,\"ticks\":\"\"}},\"type\":\"scattergeo\"}],\"scattergl\":[{\"marker\":{\"colorbar\":{\"outlinewidth\":0,\"ticks\":\"\"}},\"type\":\"scattergl\"}],\"scattermapbox\":[{\"marker\":{\"colorbar\":{\"outlinewidth\":0,\"ticks\":\"\"}},\"type\":\"scattermapbox\"}],\"scatterpolar\":[{\"marker\":{\"colorbar\":{\"outlinewidth\":0,\"ticks\":\"\"}},\"type\":\"scatterpolar\"}],\"scatterpolargl\":[{\"marker\":{\"colorbar\":{\"outlinewidth\":0,\"ticks\":\"\"}},\"type\":\"scatterpolargl\"}],\"scatterternary\":[{\"marker\":{\"colorbar\":{\"outlinewidth\":0,\"ticks\":\"\"}},\"type\":\"scatterternary\"}],\"surface\":[{\"colorbar\":{\"outlinewidth\":0,\"ticks\":\"\"},\"colorscale\":[[0.0,\"#0d0887\"],[0.1111111111111111,\"#46039f\"],[0.2222222222222222,\"#7201a8\"],[0.3333333333333333,\"#9c179e\"],[0.4444444444444444,\"#bd3786\"],[0.5555555555555556,\"#d8576b\"],[0.6666666666666666,\"#ed7953\"],[0.7777777777777778,\"#fb9f3a\"],[0.8888888888888888,\"#fdca26\"],[1.0,\"#f0f921\"]],\"type\":\"surface\"}],\"table\":[{\"cells\":{\"fill\":{\"color\":\"#EBF0F8\"},\"line\":{\"color\":\"white\"}},\"header\":{\"fill\":{\"color\":\"#C8D4E3\"},\"line\":{\"color\":\"white\"}},\"type\":\"table\"}]},\"layout\":{\"annotationdefaults\":{\"arrowcolor\":\"#2a3f5f\",\"arrowhead\":0,\"arrowwidth\":1},\"autotypenumbers\":\"strict\",\"coloraxis\":{\"colorbar\":{\"outlinewidth\":0,\"ticks\":\"\"}},\"colorscale\":{\"diverging\":[[0,\"#8e0152\"],[0.1,\"#c51b7d\"],[0.2,\"#de77ae\"],[0.3,\"#f1b6da\"],[0.4,\"#fde0ef\"],[0.5,\"#f7f7f7\"],[0.6,\"#e6f5d0\"],[0.7,\"#b8e186\"],[0.8,\"#7fbc41\"],[0.9,\"#4d9221\"],[1,\"#276419\"]],\"sequential\":[[0.0,\"#0d0887\"],[0.1111111111111111,\"#46039f\"],[0.2222222222222222,\"#7201a8\"],[0.3333333333333333,\"#9c179e\"],[0.4444444444444444,\"#bd3786\"],[0.5555555555555556,\"#d8576b\"],[0.6666666666666666,\"#ed7953\"],[0.7777777777777778,\"#fb9f3a\"],[0.8888888888888888,\"#fdca26\"],[1.0,\"#f0f921\"]],\"sequentialminus\":[[0.0,\"#0d0887\"],[0.1111111111111111,\"#46039f\"],[0.2222222222222222,\"#7201a8\"],[0.3333333333333333,\"#9c179e\"],[0.4444444444444444,\"#bd3786\"],[0.5555555555555556,\"#d8576b\"],[0.6666666666666666,\"#ed7953\"],[0.7777777777777778,\"#fb9f3a\"],[0.8888888888888888,\"#fdca26\"],[1.0,\"#f0f921\"]]},\"colorway\":[\"#636efa\",\"#EF553B\",\"#00cc96\",\"#ab63fa\",\"#FFA15A\",\"#19d3f3\",\"#FF6692\",\"#B6E880\",\"#FF97FF\",\"#FECB52\"],\"font\":{\"color\":\"#2a3f5f\"},\"geo\":{\"bgcolor\":\"white\",\"lakecolor\":\"white\",\"landcolor\":\"#E5ECF6\",\"showlakes\":true,\"showland\":true,\"subunitcolor\":\"white\"},\"hoverlabel\":{\"align\":\"left\"},\"hovermode\":\"closest\",\"mapbox\":{\"style\":\"light\"},\"paper_bgcolor\":\"white\",\"plot_bgcolor\":\"#E5ECF6\",\"polar\":{\"angularaxis\":{\"gridcolor\":\"white\",\"linecolor\":\"white\",\"ticks\":\"\"},\"bgcolor\":\"#E5ECF6\",\"radialaxis\":{\"gridcolor\":\"white\",\"linecolor\":\"white\",\"ticks\":\"\"}},\"scene\":{\"xaxis\":{\"backgroundcolor\":\"#E5ECF6\",\"gridcolor\":\"white\",\"gridwidth\":2,\"linecolor\":\"white\",\"showbackground\":true,\"ticks\":\"\",\"zerolinecolor\":\"white\"},\"yaxis\":{\"backgroundcolor\":\"#E5ECF6\",\"gridcolor\":\"white\",\"gridwidth\":2,\"linecolor\":\"white\",\"showbackground\":true,\"ticks\":\"\",\"zerolinecolor\":\"white\"},\"zaxis\":{\"backgroundcolor\":\"#E5ECF6\",\"gridcolor\":\"white\",\"gridwidth\":2,\"linecolor\":\"white\",\"showbackground\":true,\"ticks\":\"\",\"zerolinecolor\":\"white\"}},\"shapedefaults\":{\"line\":{\"color\":\"#2a3f5f\"}},\"ternary\":{\"aaxis\":{\"gridcolor\":\"white\",\"linecolor\":\"white\",\"ticks\":\"\"},\"baxis\":{\"gridcolor\":\"white\",\"linecolor\":\"white\",\"ticks\":\"\"},\"bgcolor\":\"#E5ECF6\",\"caxis\":{\"gridcolor\":\"white\",\"linecolor\":\"white\",\"ticks\":\"\"}},\"title\":{\"x\":0.05},\"xaxis\":{\"automargin\":true,\"gridcolor\":\"white\",\"linecolor\":\"white\",\"ticks\":\"\",\"title\":{\"standoff\":15},\"zerolinecolor\":\"white\",\"zerolinewidth\":2},\"yaxis\":{\"automargin\":true,\"gridcolor\":\"white\",\"linecolor\":\"white\",\"ticks\":\"\",\"title\":{\"standoff\":15},\"zerolinecolor\":\"white\",\"zerolinewidth\":2}}},\"title\":{\"text\":\"Optimization History Plot\"},\"xaxis\":{\"title\":{\"text\":\"#Trials\"}},\"yaxis\":{\"title\":{\"text\":\"Objective Value\"}}},                        {\"responsive\": true}                    ).then(function(){\n",
       "                            \n",
       "var gd = document.getElementById('9b99a8c2-b0f5-4652-9dab-a37b7f6c7786');\n",
       "var x = new MutationObserver(function (mutations, observer) {{\n",
       "        var display = window.getComputedStyle(gd).display;\n",
       "        if (!display || display === 'none') {{\n",
       "            console.log([gd, 'removed!']);\n",
       "            Plotly.purge(gd);\n",
       "            observer.disconnect();\n",
       "        }}\n",
       "}});\n",
       "\n",
       "// Listen for the removal of the full notebook cells\n",
       "var notebookContainer = gd.closest('#notebook-container');\n",
       "if (notebookContainer) {{\n",
       "    x.observe(notebookContainer, {childList: true});\n",
       "}}\n",
       "\n",
       "// Listen for the clearing of the current output cell\n",
       "var outputEl = gd.closest('.output');\n",
       "if (outputEl) {{\n",
       "    x.observe(outputEl, {childList: true});\n",
       "}}\n",
       "\n",
       "                        })                };                });            </script>        </div>"
      ]
     },
     "metadata": {},
     "output_type": "display_data"
    }
   ],
   "source": [
    "print('best ridge regression rmsle score:', study_ridge.best_value)\n",
    "optuna.visualization.plot_optimization_history(study_ridge)"
   ]
  },
  {
   "cell_type": "code",
   "execution_count": 27,
   "id": "487d1e45",
   "metadata": {
    "execution": {
     "iopub.execute_input": "2021-10-31T19:01:30.008621Z",
     "iopub.status.busy": "2021-10-31T19:01:30.007628Z",
     "iopub.status.idle": "2021-10-31T19:01:30.025867Z",
     "shell.execute_reply": "2021-10-31T19:01:30.026916Z",
     "shell.execute_reply.started": "2021-10-31T17:40:05.964821Z"
    },
    "papermill": {
     "duration": 0.066339,
     "end_time": "2021-10-31T19:01:30.027205",
     "exception": false,
     "start_time": "2021-10-31T19:01:29.960866",
     "status": "completed"
    },
    "tags": []
   },
   "outputs": [
    {
     "data": {
      "text/plain": [
       "array([120314.50091061, 149570.66063402, 176232.14145148, ...,\n",
       "       171405.20762079, 119269.96967865, 216174.93928639])"
      ]
     },
     "execution_count": 27,
     "metadata": {},
     "output_type": "execute_result"
    }
   ],
   "source": [
    "ridge_model = Ridge(**study_ridge.best_params).fit(X_train, log_target)\n",
    "np.expm1(ridge_model.predict(X_test))"
   ]
  },
  {
   "cell_type": "code",
   "execution_count": 28,
   "id": "71669835",
   "metadata": {
    "execution": {
     "iopub.execute_input": "2021-10-31T19:01:30.178033Z",
     "iopub.status.busy": "2021-10-31T19:01:30.177314Z",
     "iopub.status.idle": "2021-10-31T19:03:56.742528Z",
     "shell.execute_reply": "2021-10-31T19:03:56.741320Z",
     "shell.execute_reply.started": "2021-10-31T17:40:05.986884Z"
    },
    "papermill": {
     "duration": 146.629606,
     "end_time": "2021-10-31T19:03:56.742721",
     "exception": false,
     "start_time": "2021-10-31T19:01:30.113115",
     "status": "completed"
    },
    "tags": []
   },
   "outputs": [
    {
     "name": "stderr",
     "output_type": "stream",
     "text": [
      "/opt/conda/lib/python3.7/site-packages/optuna/_experimental.py:90: ExperimentalWarning:\n",
      "\n",
      "Progress bar is experimental (supported from v1.2.0). The interface can change in the future.\n",
      "\n"
     ]
    },
    {
     "data": {
      "application/vnd.jupyter.widget-view+json": {
       "model_id": "e909af692d4a4a0b95359b88de0e9209",
       "version_major": 2,
       "version_minor": 0
      },
      "text/plain": [
       "  0%|          | 0/150 [00:00<?, ?it/s]"
      ]
     },
     "metadata": {},
     "output_type": "display_data"
    }
   ],
   "source": [
    "from sklearn.svm import SVR\n",
    "\n",
    "def objective_svr(trial):\n",
    "    params = dict(\n",
    "            C=trial.suggest_float('C', 1e-3, 1e3)\n",
    "    )\n",
    "    model = SVR(**params)\n",
    "    return do_cv(X_train, log_target, model)\n",
    "\n",
    "optuna.logging.set_verbosity(optuna.logging.ERROR)\n",
    "study_svr = optuna.create_study(direction='minimize')\n",
    "study_svr.optimize(objective_svr, n_trials=150, show_progress_bar=True)"
   ]
  },
  {
   "cell_type": "code",
   "execution_count": 29,
   "id": "f5c20f8e",
   "metadata": {
    "execution": {
     "iopub.execute_input": "2021-10-31T19:03:56.837537Z",
     "iopub.status.busy": "2021-10-31T19:03:56.836810Z",
     "iopub.status.idle": "2021-10-31T19:03:56.867328Z",
     "shell.execute_reply": "2021-10-31T19:03:56.867890Z",
     "shell.execute_reply.started": "2021-10-31T17:43:22.934263Z"
    },
    "papermill": {
     "duration": 0.079726,
     "end_time": "2021-10-31T19:03:56.868072",
     "exception": false,
     "start_time": "2021-10-31T19:03:56.788346",
     "status": "completed"
    },
    "tags": []
   },
   "outputs": [
    {
     "name": "stdout",
     "output_type": "stream",
     "text": [
      "best svr rmsle score: 0.12520698309139316\n"
     ]
    },
    {
     "data": {
      "text/html": [
       "<div>                            <div id=\"d277847d-a558-4eaf-a8f9-5a25d9793926\" class=\"plotly-graph-div\" style=\"height:525px; width:100%;\"></div>            <script type=\"text/javascript\">                require([\"plotly\"], function(Plotly) {                    window.PLOTLYENV=window.PLOTLYENV || {};                                    if (document.getElementById(\"d277847d-a558-4eaf-a8f9-5a25d9793926\")) {                    Plotly.newPlot(                        \"d277847d-a558-4eaf-a8f9-5a25d9793926\",                        [{\"mode\":\"markers\",\"name\":\"Objective Value\",\"type\":\"scatter\",\"x\":[0,1,2,3,4,5,6,7,8,9,10,11,12,13,14,15,16,17,18,19,20,21,22,23,24,25,26,27,28,29,30,31,32,33,34,35,36,37,38,39,40,41,42,43,44,45,46,47,48,49,50,51,52,53,54,55,56,57,58,59,60,61,62,63,64,65,66,67,68,69,70,71,72,73,74,75,76,77,78,79,80,81,82,83,84,85,86,87,88,89,90,91,92,93,94,95,96,97,98,99,100,101,102,103,104,105,106,107,108,109,110,111,112,113,114,115,116,117,118,119,120,121,122,123,124,125,126,127,128,129,130,131,132,133,134,135,136,137,138,139,140,141,142,143,144,145,146,147,148,149],\"y\":[0.13314996820907496,0.13540442967455904,0.12672169972542097,0.13337093670087116,0.12907273365985095,0.13388714880288224,0.13535837979289397,0.1317911869504188,0.13951447847437917,0.12637804249297177,0.13213676440255748,0.13226113868085806,0.13997055858941804,0.13217330556727613,0.14194565210912147,0.14328931854304428,0.1399618876154297,0.13523825567647704,0.1344138074877918,0.1273760898037742,0.12770157810282648,0.13669164596766795,0.13026512813479754,0.12791377429191722,0.1315407758003925,0.14892398611948796,0.13086654365495143,0.13047288398837234,0.13976452913286308,0.12528514558774442,0.13720405226380752,0.13741139914328435,0.13245262833459084,0.1357726284028708,0.12927653002394893,0.1299149887571913,0.13191089824064747,0.1263971089362951,0.13143849500089097,0.12957496187300016,0.12590122045285188,0.1358222464805872,0.13361957809068037,0.12890775593818374,0.13813996093308337,0.128927053313613,0.13256920755314405,0.12795107803375352,0.13008274409637793,0.1278376711002888,0.13154521728767843,0.1267608163753019,0.13043031032193778,0.12919589588490613,0.1294745601983166,0.12877478843346046,0.13069160602999078,0.13617381446848512,0.12651241427324866,0.13916609613608497,0.12523119877700936,0.13989430284925852,0.14232904003364097,0.13046123660985579,0.1297374726098405,0.13223803026038614,0.12969183616650137,0.13182169360132953,0.1282832460248799,0.12931628192135192,0.1264441221755642,0.134962176053676,0.1258994996761482,0.1272308360360587,0.13440669081230136,0.13120660544788848,0.13282891765088575,0.13620459221425155,0.12656452516710667,0.1303011237354881,0.13734016026288123,0.13998154358907458,0.13871348818286625,0.12696580530077337,0.13172079231676245,0.13639525213616235,0.12893989191659402,0.12562070965129762,0.12826307006955015,0.12647747799842277,0.12872345154156592,0.13011320401692747,0.128460923417506,0.12984411741033267,0.1279892620670385,0.13294011783473067,0.13974730222707477,0.12603083919960476,0.12585419564364422,0.13480101513824141,0.1541633350376472,0.13443998151234185,0.1371311693494297,0.1274082143832417,0.12623681405250464,0.13487948580536332,0.12683168652889315,0.13702527986450128,0.1328384284929318,0.12520698309139316,0.1379956010265013,0.1285201145035724,0.1258000513036889,0.1267300203626853,0.1309504237628675,0.12737707221365166,0.13441912872984987,0.1344613640245456,0.12866674148715737,0.13446799477849963,0.13346041806058337,0.13769472911299835,0.13770658047485043,0.13288097477591587,0.1290512119700057,0.13532152520834625,0.1277712098487146,0.13179913594726125,0.12761392203317465,0.13261371377263523,0.13175967200595887,0.12904986755719328,0.12823550009673743,0.12667856148229392,0.1295777408877452,0.13774318159533716,0.1290444952551885,0.1398851590232254,0.12773351739440889,0.13844217028517636,0.1268603829994032,0.13114943156666464,0.13411339019896873,0.12772140350615688,0.12680376768095145,0.13736221293857398,0.12759712445510685,0.13154332056485413,0.13062861980981014,0.132749451041447]},{\"name\":\"Best Value\",\"type\":\"scatter\",\"x\":[0,1,2,3,4,5,6,7,8,9,10,11,12,13,14,15,16,17,18,19,20,21,22,23,24,25,26,27,28,29,30,31,32,33,34,35,36,37,38,39,40,41,42,43,44,45,46,47,48,49,50,51,52,53,54,55,56,57,58,59,60,61,62,63,64,65,66,67,68,69,70,71,72,73,74,75,76,77,78,79,80,81,82,83,84,85,86,87,88,89,90,91,92,93,94,95,96,97,98,99,100,101,102,103,104,105,106,107,108,109,110,111,112,113,114,115,116,117,118,119,120,121,122,123,124,125,126,127,128,129,130,131,132,133,134,135,136,137,138,139,140,141,142,143,144,145,146,147,148,149],\"y\":[0.13314996820907496,0.13314996820907496,0.12672169972542097,0.12672169972542097,0.12672169972542097,0.12672169972542097,0.12672169972542097,0.12672169972542097,0.12672169972542097,0.12637804249297177,0.12637804249297177,0.12637804249297177,0.12637804249297177,0.12637804249297177,0.12637804249297177,0.12637804249297177,0.12637804249297177,0.12637804249297177,0.12637804249297177,0.12637804249297177,0.12637804249297177,0.12637804249297177,0.12637804249297177,0.12637804249297177,0.12637804249297177,0.12637804249297177,0.12637804249297177,0.12637804249297177,0.12637804249297177,0.12528514558774442,0.12528514558774442,0.12528514558774442,0.12528514558774442,0.12528514558774442,0.12528514558774442,0.12528514558774442,0.12528514558774442,0.12528514558774442,0.12528514558774442,0.12528514558774442,0.12528514558774442,0.12528514558774442,0.12528514558774442,0.12528514558774442,0.12528514558774442,0.12528514558774442,0.12528514558774442,0.12528514558774442,0.12528514558774442,0.12528514558774442,0.12528514558774442,0.12528514558774442,0.12528514558774442,0.12528514558774442,0.12528514558774442,0.12528514558774442,0.12528514558774442,0.12528514558774442,0.12528514558774442,0.12528514558774442,0.12523119877700936,0.12523119877700936,0.12523119877700936,0.12523119877700936,0.12523119877700936,0.12523119877700936,0.12523119877700936,0.12523119877700936,0.12523119877700936,0.12523119877700936,0.12523119877700936,0.12523119877700936,0.12523119877700936,0.12523119877700936,0.12523119877700936,0.12523119877700936,0.12523119877700936,0.12523119877700936,0.12523119877700936,0.12523119877700936,0.12523119877700936,0.12523119877700936,0.12523119877700936,0.12523119877700936,0.12523119877700936,0.12523119877700936,0.12523119877700936,0.12523119877700936,0.12523119877700936,0.12523119877700936,0.12523119877700936,0.12523119877700936,0.12523119877700936,0.12523119877700936,0.12523119877700936,0.12523119877700936,0.12523119877700936,0.12523119877700936,0.12523119877700936,0.12523119877700936,0.12523119877700936,0.12523119877700936,0.12523119877700936,0.12523119877700936,0.12523119877700936,0.12523119877700936,0.12523119877700936,0.12523119877700936,0.12523119877700936,0.12520698309139316,0.12520698309139316,0.12520698309139316,0.12520698309139316,0.12520698309139316,0.12520698309139316,0.12520698309139316,0.12520698309139316,0.12520698309139316,0.12520698309139316,0.12520698309139316,0.12520698309139316,0.12520698309139316,0.12520698309139316,0.12520698309139316,0.12520698309139316,0.12520698309139316,0.12520698309139316,0.12520698309139316,0.12520698309139316,0.12520698309139316,0.12520698309139316,0.12520698309139316,0.12520698309139316,0.12520698309139316,0.12520698309139316,0.12520698309139316,0.12520698309139316,0.12520698309139316,0.12520698309139316,0.12520698309139316,0.12520698309139316,0.12520698309139316,0.12520698309139316,0.12520698309139316,0.12520698309139316,0.12520698309139316,0.12520698309139316,0.12520698309139316,0.12520698309139316,0.12520698309139316]}],                        {\"template\":{\"data\":{\"bar\":[{\"error_x\":{\"color\":\"#2a3f5f\"},\"error_y\":{\"color\":\"#2a3f5f\"},\"marker\":{\"line\":{\"color\":\"#E5ECF6\",\"width\":0.5},\"pattern\":{\"fillmode\":\"overlay\",\"size\":10,\"solidity\":0.2}},\"type\":\"bar\"}],\"barpolar\":[{\"marker\":{\"line\":{\"color\":\"#E5ECF6\",\"width\":0.5},\"pattern\":{\"fillmode\":\"overlay\",\"size\":10,\"solidity\":0.2}},\"type\":\"barpolar\"}],\"carpet\":[{\"aaxis\":{\"endlinecolor\":\"#2a3f5f\",\"gridcolor\":\"white\",\"linecolor\":\"white\",\"minorgridcolor\":\"white\",\"startlinecolor\":\"#2a3f5f\"},\"baxis\":{\"endlinecolor\":\"#2a3f5f\",\"gridcolor\":\"white\",\"linecolor\":\"white\",\"minorgridcolor\":\"white\",\"startlinecolor\":\"#2a3f5f\"},\"type\":\"carpet\"}],\"choropleth\":[{\"colorbar\":{\"outlinewidth\":0,\"ticks\":\"\"},\"type\":\"choropleth\"}],\"contour\":[{\"colorbar\":{\"outlinewidth\":0,\"ticks\":\"\"},\"colorscale\":[[0.0,\"#0d0887\"],[0.1111111111111111,\"#46039f\"],[0.2222222222222222,\"#7201a8\"],[0.3333333333333333,\"#9c179e\"],[0.4444444444444444,\"#bd3786\"],[0.5555555555555556,\"#d8576b\"],[0.6666666666666666,\"#ed7953\"],[0.7777777777777778,\"#fb9f3a\"],[0.8888888888888888,\"#fdca26\"],[1.0,\"#f0f921\"]],\"type\":\"contour\"}],\"contourcarpet\":[{\"colorbar\":{\"outlinewidth\":0,\"ticks\":\"\"},\"type\":\"contourcarpet\"}],\"heatmap\":[{\"colorbar\":{\"outlinewidth\":0,\"ticks\":\"\"},\"colorscale\":[[0.0,\"#0d0887\"],[0.1111111111111111,\"#46039f\"],[0.2222222222222222,\"#7201a8\"],[0.3333333333333333,\"#9c179e\"],[0.4444444444444444,\"#bd3786\"],[0.5555555555555556,\"#d8576b\"],[0.6666666666666666,\"#ed7953\"],[0.7777777777777778,\"#fb9f3a\"],[0.8888888888888888,\"#fdca26\"],[1.0,\"#f0f921\"]],\"type\":\"heatmap\"}],\"heatmapgl\":[{\"colorbar\":{\"outlinewidth\":0,\"ticks\":\"\"},\"colorscale\":[[0.0,\"#0d0887\"],[0.1111111111111111,\"#46039f\"],[0.2222222222222222,\"#7201a8\"],[0.3333333333333333,\"#9c179e\"],[0.4444444444444444,\"#bd3786\"],[0.5555555555555556,\"#d8576b\"],[0.6666666666666666,\"#ed7953\"],[0.7777777777777778,\"#fb9f3a\"],[0.8888888888888888,\"#fdca26\"],[1.0,\"#f0f921\"]],\"type\":\"heatmapgl\"}],\"histogram\":[{\"marker\":{\"pattern\":{\"fillmode\":\"overlay\",\"size\":10,\"solidity\":0.2}},\"type\":\"histogram\"}],\"histogram2d\":[{\"colorbar\":{\"outlinewidth\":0,\"ticks\":\"\"},\"colorscale\":[[0.0,\"#0d0887\"],[0.1111111111111111,\"#46039f\"],[0.2222222222222222,\"#7201a8\"],[0.3333333333333333,\"#9c179e\"],[0.4444444444444444,\"#bd3786\"],[0.5555555555555556,\"#d8576b\"],[0.6666666666666666,\"#ed7953\"],[0.7777777777777778,\"#fb9f3a\"],[0.8888888888888888,\"#fdca26\"],[1.0,\"#f0f921\"]],\"type\":\"histogram2d\"}],\"histogram2dcontour\":[{\"colorbar\":{\"outlinewidth\":0,\"ticks\":\"\"},\"colorscale\":[[0.0,\"#0d0887\"],[0.1111111111111111,\"#46039f\"],[0.2222222222222222,\"#7201a8\"],[0.3333333333333333,\"#9c179e\"],[0.4444444444444444,\"#bd3786\"],[0.5555555555555556,\"#d8576b\"],[0.6666666666666666,\"#ed7953\"],[0.7777777777777778,\"#fb9f3a\"],[0.8888888888888888,\"#fdca26\"],[1.0,\"#f0f921\"]],\"type\":\"histogram2dcontour\"}],\"mesh3d\":[{\"colorbar\":{\"outlinewidth\":0,\"ticks\":\"\"},\"type\":\"mesh3d\"}],\"parcoords\":[{\"line\":{\"colorbar\":{\"outlinewidth\":0,\"ticks\":\"\"}},\"type\":\"parcoords\"}],\"pie\":[{\"automargin\":true,\"type\":\"pie\"}],\"scatter\":[{\"marker\":{\"colorbar\":{\"outlinewidth\":0,\"ticks\":\"\"}},\"type\":\"scatter\"}],\"scatter3d\":[{\"line\":{\"colorbar\":{\"outlinewidth\":0,\"ticks\":\"\"}},\"marker\":{\"colorbar\":{\"outlinewidth\":0,\"ticks\":\"\"}},\"type\":\"scatter3d\"}],\"scattercarpet\":[{\"marker\":{\"colorbar\":{\"outlinewidth\":0,\"ticks\":\"\"}},\"type\":\"scattercarpet\"}],\"scattergeo\":[{\"marker\":{\"colorbar\":{\"outlinewidth\":0,\"ticks\":\"\"}},\"type\":\"scattergeo\"}],\"scattergl\":[{\"marker\":{\"colorbar\":{\"outlinewidth\":0,\"ticks\":\"\"}},\"type\":\"scattergl\"}],\"scattermapbox\":[{\"marker\":{\"colorbar\":{\"outlinewidth\":0,\"ticks\":\"\"}},\"type\":\"scattermapbox\"}],\"scatterpolar\":[{\"marker\":{\"colorbar\":{\"outlinewidth\":0,\"ticks\":\"\"}},\"type\":\"scatterpolar\"}],\"scatterpolargl\":[{\"marker\":{\"colorbar\":{\"outlinewidth\":0,\"ticks\":\"\"}},\"type\":\"scatterpolargl\"}],\"scatterternary\":[{\"marker\":{\"colorbar\":{\"outlinewidth\":0,\"ticks\":\"\"}},\"type\":\"scatterternary\"}],\"surface\":[{\"colorbar\":{\"outlinewidth\":0,\"ticks\":\"\"},\"colorscale\":[[0.0,\"#0d0887\"],[0.1111111111111111,\"#46039f\"],[0.2222222222222222,\"#7201a8\"],[0.3333333333333333,\"#9c179e\"],[0.4444444444444444,\"#bd3786\"],[0.5555555555555556,\"#d8576b\"],[0.6666666666666666,\"#ed7953\"],[0.7777777777777778,\"#fb9f3a\"],[0.8888888888888888,\"#fdca26\"],[1.0,\"#f0f921\"]],\"type\":\"surface\"}],\"table\":[{\"cells\":{\"fill\":{\"color\":\"#EBF0F8\"},\"line\":{\"color\":\"white\"}},\"header\":{\"fill\":{\"color\":\"#C8D4E3\"},\"line\":{\"color\":\"white\"}},\"type\":\"table\"}]},\"layout\":{\"annotationdefaults\":{\"arrowcolor\":\"#2a3f5f\",\"arrowhead\":0,\"arrowwidth\":1},\"autotypenumbers\":\"strict\",\"coloraxis\":{\"colorbar\":{\"outlinewidth\":0,\"ticks\":\"\"}},\"colorscale\":{\"diverging\":[[0,\"#8e0152\"],[0.1,\"#c51b7d\"],[0.2,\"#de77ae\"],[0.3,\"#f1b6da\"],[0.4,\"#fde0ef\"],[0.5,\"#f7f7f7\"],[0.6,\"#e6f5d0\"],[0.7,\"#b8e186\"],[0.8,\"#7fbc41\"],[0.9,\"#4d9221\"],[1,\"#276419\"]],\"sequential\":[[0.0,\"#0d0887\"],[0.1111111111111111,\"#46039f\"],[0.2222222222222222,\"#7201a8\"],[0.3333333333333333,\"#9c179e\"],[0.4444444444444444,\"#bd3786\"],[0.5555555555555556,\"#d8576b\"],[0.6666666666666666,\"#ed7953\"],[0.7777777777777778,\"#fb9f3a\"],[0.8888888888888888,\"#fdca26\"],[1.0,\"#f0f921\"]],\"sequentialminus\":[[0.0,\"#0d0887\"],[0.1111111111111111,\"#46039f\"],[0.2222222222222222,\"#7201a8\"],[0.3333333333333333,\"#9c179e\"],[0.4444444444444444,\"#bd3786\"],[0.5555555555555556,\"#d8576b\"],[0.6666666666666666,\"#ed7953\"],[0.7777777777777778,\"#fb9f3a\"],[0.8888888888888888,\"#fdca26\"],[1.0,\"#f0f921\"]]},\"colorway\":[\"#636efa\",\"#EF553B\",\"#00cc96\",\"#ab63fa\",\"#FFA15A\",\"#19d3f3\",\"#FF6692\",\"#B6E880\",\"#FF97FF\",\"#FECB52\"],\"font\":{\"color\":\"#2a3f5f\"},\"geo\":{\"bgcolor\":\"white\",\"lakecolor\":\"white\",\"landcolor\":\"#E5ECF6\",\"showlakes\":true,\"showland\":true,\"subunitcolor\":\"white\"},\"hoverlabel\":{\"align\":\"left\"},\"hovermode\":\"closest\",\"mapbox\":{\"style\":\"light\"},\"paper_bgcolor\":\"white\",\"plot_bgcolor\":\"#E5ECF6\",\"polar\":{\"angularaxis\":{\"gridcolor\":\"white\",\"linecolor\":\"white\",\"ticks\":\"\"},\"bgcolor\":\"#E5ECF6\",\"radialaxis\":{\"gridcolor\":\"white\",\"linecolor\":\"white\",\"ticks\":\"\"}},\"scene\":{\"xaxis\":{\"backgroundcolor\":\"#E5ECF6\",\"gridcolor\":\"white\",\"gridwidth\":2,\"linecolor\":\"white\",\"showbackground\":true,\"ticks\":\"\",\"zerolinecolor\":\"white\"},\"yaxis\":{\"backgroundcolor\":\"#E5ECF6\",\"gridcolor\":\"white\",\"gridwidth\":2,\"linecolor\":\"white\",\"showbackground\":true,\"ticks\":\"\",\"zerolinecolor\":\"white\"},\"zaxis\":{\"backgroundcolor\":\"#E5ECF6\",\"gridcolor\":\"white\",\"gridwidth\":2,\"linecolor\":\"white\",\"showbackground\":true,\"ticks\":\"\",\"zerolinecolor\":\"white\"}},\"shapedefaults\":{\"line\":{\"color\":\"#2a3f5f\"}},\"ternary\":{\"aaxis\":{\"gridcolor\":\"white\",\"linecolor\":\"white\",\"ticks\":\"\"},\"baxis\":{\"gridcolor\":\"white\",\"linecolor\":\"white\",\"ticks\":\"\"},\"bgcolor\":\"#E5ECF6\",\"caxis\":{\"gridcolor\":\"white\",\"linecolor\":\"white\",\"ticks\":\"\"}},\"title\":{\"x\":0.05},\"xaxis\":{\"automargin\":true,\"gridcolor\":\"white\",\"linecolor\":\"white\",\"ticks\":\"\",\"title\":{\"standoff\":15},\"zerolinecolor\":\"white\",\"zerolinewidth\":2},\"yaxis\":{\"automargin\":true,\"gridcolor\":\"white\",\"linecolor\":\"white\",\"ticks\":\"\",\"title\":{\"standoff\":15},\"zerolinecolor\":\"white\",\"zerolinewidth\":2}}},\"title\":{\"text\":\"Optimization History Plot\"},\"xaxis\":{\"title\":{\"text\":\"#Trials\"}},\"yaxis\":{\"title\":{\"text\":\"Objective Value\"}}},                        {\"responsive\": true}                    ).then(function(){\n",
       "                            \n",
       "var gd = document.getElementById('d277847d-a558-4eaf-a8f9-5a25d9793926');\n",
       "var x = new MutationObserver(function (mutations, observer) {{\n",
       "        var display = window.getComputedStyle(gd).display;\n",
       "        if (!display || display === 'none') {{\n",
       "            console.log([gd, 'removed!']);\n",
       "            Plotly.purge(gd);\n",
       "            observer.disconnect();\n",
       "        }}\n",
       "}});\n",
       "\n",
       "// Listen for the removal of the full notebook cells\n",
       "var notebookContainer = gd.closest('#notebook-container');\n",
       "if (notebookContainer) {{\n",
       "    x.observe(notebookContainer, {childList: true});\n",
       "}}\n",
       "\n",
       "// Listen for the clearing of the current output cell\n",
       "var outputEl = gd.closest('.output');\n",
       "if (outputEl) {{\n",
       "    x.observe(outputEl, {childList: true});\n",
       "}}\n",
       "\n",
       "                        })                };                });            </script>        </div>"
      ]
     },
     "metadata": {},
     "output_type": "display_data"
    }
   ],
   "source": [
    "print('best svr rmsle score:', study_svr.best_value)\n",
    "optuna.visualization.plot_optimization_history(study_svr)"
   ]
  },
  {
   "cell_type": "code",
   "execution_count": 30,
   "id": "46d835a9",
   "metadata": {
    "execution": {
     "iopub.execute_input": "2021-10-31T19:03:56.971802Z",
     "iopub.status.busy": "2021-10-31T19:03:56.966799Z",
     "iopub.status.idle": "2021-10-31T19:03:57.476539Z",
     "shell.execute_reply": "2021-10-31T19:03:57.477047Z",
     "shell.execute_reply.started": "2021-10-31T17:43:38.159495Z"
    },
    "papermill": {
     "duration": 0.562703,
     "end_time": "2021-10-31T19:03:57.477237",
     "exception": false,
     "start_time": "2021-10-31T19:03:56.914534",
     "status": "completed"
    },
    "tags": []
   },
   "outputs": [
    {
     "data": {
      "text/plain": [
       "array([117319.27918307, 157936.56297801, 184511.10008464, ...,\n",
       "       169446.44759314, 114479.29672604, 222521.26277922])"
      ]
     },
     "execution_count": 30,
     "metadata": {},
     "output_type": "execute_result"
    }
   ],
   "source": [
    "svr_model = SVR(**study_svr.best_params).fit(X_train, log_target)\n",
    "np.expm1(svr_model.predict(X_test))"
   ]
  },
  {
   "cell_type": "code",
   "execution_count": 31,
   "id": "4df299f6",
   "metadata": {
    "execution": {
     "iopub.execute_input": "2021-10-31T19:03:57.604839Z",
     "iopub.status.busy": "2021-10-31T19:03:57.575660Z",
     "iopub.status.idle": "2021-10-31T19:05:00.259285Z",
     "shell.execute_reply": "2021-10-31T19:05:00.259774Z",
     "shell.execute_reply.started": "2021-10-31T17:48:05.715519Z"
    },
    "papermill": {
     "duration": 62.734918,
     "end_time": "2021-10-31T19:05:00.259960",
     "exception": false,
     "start_time": "2021-10-31T19:03:57.525042",
     "status": "completed"
    },
    "tags": []
   },
   "outputs": [
    {
     "name": "stderr",
     "output_type": "stream",
     "text": [
      "/opt/conda/lib/python3.7/site-packages/optuna/_experimental.py:90: ExperimentalWarning:\n",
      "\n",
      "Progress bar is experimental (supported from v1.2.0). The interface can change in the future.\n",
      "\n"
     ]
    },
    {
     "data": {
      "application/vnd.jupyter.widget-view+json": {
       "model_id": "4ee49642bd2d4ddc85d1cd8b8ecc4c53",
       "version_major": 2,
       "version_minor": 0
      },
      "text/plain": [
       "  0%|          | 0/150 [00:00<?, ?it/s]"
      ]
     },
     "metadata": {},
     "output_type": "display_data"
    }
   ],
   "source": [
    "from sklearn.neighbors import KNeighborsRegressor\n",
    "def objective_knn(trial):\n",
    "    params = dict(\n",
    "        n_neighbors=trial.suggest_int('n_neighbors', 2, 15),\n",
    "        weights=trial.suggest_categorical('weights', ['uniform', 'distance'])\n",
    "    )\n",
    "    model = KNeighborsRegressor(**params)\n",
    "    return do_cv(pd.concat([num_scaled, cat_scaled], axis=1), log_target, model)\n",
    "\n",
    "optuna.logging.set_verbosity(optuna.logging.ERROR)\n",
    "study_knn = optuna.create_study(direction='minimize')\n",
    "study_knn.optimize(objective_knn, n_trials=150, show_progress_bar=True)"
   ]
  },
  {
   "cell_type": "code",
   "execution_count": 32,
   "id": "7e6ba415",
   "metadata": {
    "execution": {
     "iopub.execute_input": "2021-10-31T19:05:00.371400Z",
     "iopub.status.busy": "2021-10-31T19:05:00.366115Z",
     "iopub.status.idle": "2021-10-31T19:05:00.392924Z",
     "shell.execute_reply": "2021-10-31T19:05:00.393536Z",
     "shell.execute_reply.started": "2021-10-31T17:50:10.159415Z"
    },
    "papermill": {
     "duration": 0.086025,
     "end_time": "2021-10-31T19:05:00.393734",
     "exception": false,
     "start_time": "2021-10-31T19:05:00.307709",
     "status": "completed"
    },
    "tags": []
   },
   "outputs": [
    {
     "name": "stdout",
     "output_type": "stream",
     "text": [
      "best knn rmsle score: 0.18120022842462782\n"
     ]
    },
    {
     "data": {
      "text/html": [
       "<div>                            <div id=\"1b92ba76-097a-48c8-8b42-1100fa1eb6a5\" class=\"plotly-graph-div\" style=\"height:525px; width:100%;\"></div>            <script type=\"text/javascript\">                require([\"plotly\"], function(Plotly) {                    window.PLOTLYENV=window.PLOTLYENV || {};                                    if (document.getElementById(\"1b92ba76-097a-48c8-8b42-1100fa1eb6a5\")) {                    Plotly.newPlot(                        \"1b92ba76-097a-48c8-8b42-1100fa1eb6a5\",                        [{\"mode\":\"markers\",\"name\":\"Objective Value\",\"type\":\"scatter\",\"x\":[0,1,2,3,4,5,6,7,8,9,10,11,12,13,14,15,16,17,18,19,20,21,22,23,24,25,26,27,28,29,30,31,32,33,34,35,36,37,38,39,40,41,42,43,44,45,46,47,48,49,50,51,52,53,54,55,56,57,58,59,60,61,62,63,64,65,66,67,68,69,70,71,72,73,74,75,76,77,78,79,80,81,82,83,84,85,86,87,88,89,90,91,92,93,94,95,96,97,98,99,100,101,102,103,104,105,106,107,108,109,110,111,112,113,114,115,116,117,118,119,120,121,122,123,124,125,126,127,128,129,130,131,132,133,134,135,136,137,138,139,140,141,142,143,144,145,146,147,148,149],\"y\":[0.18896709495922692,0.18519002667237536,0.18354192016423868,0.18513306381241315,0.1837487192192162,0.19220380780669452,0.19676170898124878,0.18682163796493115,0.18869285610748188,0.18583424027300802,0.18345637334678552,0.18397827730556546,0.1841505533823964,0.1834695930778026,0.1848459559569553,0.1852111289641543,0.18511413030202103,0.1851500788986308,0.18601823205718182,0.1840638343204681,0.18305903939758605,0.1852761766701023,0.18493618378971902,0.18358364670733465,0.18397342958263585,0.18384400812765303,0.19847611328095593,0.18167489480090224,0.18356729434548247,0.18994385601393593,0.1832512641639111,0.18630537708428085,0.1883365965472472,0.18315776367091144,0.18542072062925516,0.18843276422816166,0.1951404959230477,0.18469393438702295,0.18197625037715448,0.18731746383452655,0.1850482712769962,0.18299445957004998,0.1850248478963421,0.19195312940859655,0.18487901579445307,0.18923118580271892,0.1835412572560172,0.1831886050223485,0.18615627324424266,0.1864767685634883,0.18718682649010687,0.18507722403546625,0.18373845737142536,0.18459384499115136,0.18318835416562043,0.18319385112436495,0.18230036305174066,0.18360826944818862,0.18344582566334225,0.18622033871318225,0.18335280475185559,0.18586952934953604,0.18704765505888624,0.18797979149080693,0.18381427404252124,0.18443483193496313,0.18365388385598438,0.18388148087501563,0.18675588917918118,0.1828416663701411,0.18309241480331417,0.18277250162222683,0.18405739638488586,0.18410582310179469,0.18132316976391336,0.18315413194765903,0.18405894238374998,0.18645366903254415,0.18546044340477427,0.18341911377487177,0.18634582372103117,0.1855297063541991,0.18499119794716937,0.1822708343066137,0.18284833340596915,0.18553550455049472,0.1831776186219809,0.18488203497692948,0.18357480251982697,0.18301267458583093,0.18350659649745407,0.18579111700098094,0.18471664076970537,0.18470093220823514,0.18120022842462782,0.1877289252541415,0.18390303677698291,0.184406044795824,0.18481228087770207,0.18484374009388416,0.1844742845922149,0.18387936255548698,0.18328834323508036,0.18615191052668187,0.18411727507025868,0.18438395865141435,0.18744352880452705,0.1867651911349019,0.18311986895542376,0.18520151361810666,0.1850597039987858,0.18543645766681616,0.18280134814982887,0.18374369607758168,0.18492314259553286,0.18322481079251215,0.1814565151299561,0.18283359625467369,0.18436060457320833,0.1849369227342762,0.18498249980317416,0.18308565263664953,0.18447467702402728,0.1871884418157085,0.18671639277284072,0.18853870932755948,0.18593360361048586,0.1889288854923543,0.18294258154485576,0.18359664477601786,0.18450810261281902,0.18438060768113132,0.1939783414390768,0.1852798315327121,0.18544532997801358,0.18770466747653858,0.18162225600549045,0.18546471893965197,0.183509566972774,0.18488771963141507,0.1837174825002521,0.18383331856649768,0.18415635466502708,0.1839589561770183,0.1836048018018233,0.18510287379565016,0.18511578289109432,0.18313218073670698,0.1843723606650709,0.18647763460635772]},{\"name\":\"Best Value\",\"type\":\"scatter\",\"x\":[0,1,2,3,4,5,6,7,8,9,10,11,12,13,14,15,16,17,18,19,20,21,22,23,24,25,26,27,28,29,30,31,32,33,34,35,36,37,38,39,40,41,42,43,44,45,46,47,48,49,50,51,52,53,54,55,56,57,58,59,60,61,62,63,64,65,66,67,68,69,70,71,72,73,74,75,76,77,78,79,80,81,82,83,84,85,86,87,88,89,90,91,92,93,94,95,96,97,98,99,100,101,102,103,104,105,106,107,108,109,110,111,112,113,114,115,116,117,118,119,120,121,122,123,124,125,126,127,128,129,130,131,132,133,134,135,136,137,138,139,140,141,142,143,144,145,146,147,148,149],\"y\":[0.18896709495922692,0.18519002667237536,0.18354192016423868,0.18354192016423868,0.18354192016423868,0.18354192016423868,0.18354192016423868,0.18354192016423868,0.18354192016423868,0.18354192016423868,0.18345637334678552,0.18345637334678552,0.18345637334678552,0.18345637334678552,0.18345637334678552,0.18345637334678552,0.18345637334678552,0.18345637334678552,0.18345637334678552,0.18345637334678552,0.18305903939758605,0.18305903939758605,0.18305903939758605,0.18305903939758605,0.18305903939758605,0.18305903939758605,0.18305903939758605,0.18167489480090224,0.18167489480090224,0.18167489480090224,0.18167489480090224,0.18167489480090224,0.18167489480090224,0.18167489480090224,0.18167489480090224,0.18167489480090224,0.18167489480090224,0.18167489480090224,0.18167489480090224,0.18167489480090224,0.18167489480090224,0.18167489480090224,0.18167489480090224,0.18167489480090224,0.18167489480090224,0.18167489480090224,0.18167489480090224,0.18167489480090224,0.18167489480090224,0.18167489480090224,0.18167489480090224,0.18167489480090224,0.18167489480090224,0.18167489480090224,0.18167489480090224,0.18167489480090224,0.18167489480090224,0.18167489480090224,0.18167489480090224,0.18167489480090224,0.18167489480090224,0.18167489480090224,0.18167489480090224,0.18167489480090224,0.18167489480090224,0.18167489480090224,0.18167489480090224,0.18167489480090224,0.18167489480090224,0.18167489480090224,0.18167489480090224,0.18167489480090224,0.18167489480090224,0.18167489480090224,0.18132316976391336,0.18132316976391336,0.18132316976391336,0.18132316976391336,0.18132316976391336,0.18132316976391336,0.18132316976391336,0.18132316976391336,0.18132316976391336,0.18132316976391336,0.18132316976391336,0.18132316976391336,0.18132316976391336,0.18132316976391336,0.18132316976391336,0.18132316976391336,0.18132316976391336,0.18132316976391336,0.18132316976391336,0.18132316976391336,0.18120022842462782,0.18120022842462782,0.18120022842462782,0.18120022842462782,0.18120022842462782,0.18120022842462782,0.18120022842462782,0.18120022842462782,0.18120022842462782,0.18120022842462782,0.18120022842462782,0.18120022842462782,0.18120022842462782,0.18120022842462782,0.18120022842462782,0.18120022842462782,0.18120022842462782,0.18120022842462782,0.18120022842462782,0.18120022842462782,0.18120022842462782,0.18120022842462782,0.18120022842462782,0.18120022842462782,0.18120022842462782,0.18120022842462782,0.18120022842462782,0.18120022842462782,0.18120022842462782,0.18120022842462782,0.18120022842462782,0.18120022842462782,0.18120022842462782,0.18120022842462782,0.18120022842462782,0.18120022842462782,0.18120022842462782,0.18120022842462782,0.18120022842462782,0.18120022842462782,0.18120022842462782,0.18120022842462782,0.18120022842462782,0.18120022842462782,0.18120022842462782,0.18120022842462782,0.18120022842462782,0.18120022842462782,0.18120022842462782,0.18120022842462782,0.18120022842462782,0.18120022842462782,0.18120022842462782,0.18120022842462782,0.18120022842462782,0.18120022842462782]}],                        {\"template\":{\"data\":{\"bar\":[{\"error_x\":{\"color\":\"#2a3f5f\"},\"error_y\":{\"color\":\"#2a3f5f\"},\"marker\":{\"line\":{\"color\":\"#E5ECF6\",\"width\":0.5},\"pattern\":{\"fillmode\":\"overlay\",\"size\":10,\"solidity\":0.2}},\"type\":\"bar\"}],\"barpolar\":[{\"marker\":{\"line\":{\"color\":\"#E5ECF6\",\"width\":0.5},\"pattern\":{\"fillmode\":\"overlay\",\"size\":10,\"solidity\":0.2}},\"type\":\"barpolar\"}],\"carpet\":[{\"aaxis\":{\"endlinecolor\":\"#2a3f5f\",\"gridcolor\":\"white\",\"linecolor\":\"white\",\"minorgridcolor\":\"white\",\"startlinecolor\":\"#2a3f5f\"},\"baxis\":{\"endlinecolor\":\"#2a3f5f\",\"gridcolor\":\"white\",\"linecolor\":\"white\",\"minorgridcolor\":\"white\",\"startlinecolor\":\"#2a3f5f\"},\"type\":\"carpet\"}],\"choropleth\":[{\"colorbar\":{\"outlinewidth\":0,\"ticks\":\"\"},\"type\":\"choropleth\"}],\"contour\":[{\"colorbar\":{\"outlinewidth\":0,\"ticks\":\"\"},\"colorscale\":[[0.0,\"#0d0887\"],[0.1111111111111111,\"#46039f\"],[0.2222222222222222,\"#7201a8\"],[0.3333333333333333,\"#9c179e\"],[0.4444444444444444,\"#bd3786\"],[0.5555555555555556,\"#d8576b\"],[0.6666666666666666,\"#ed7953\"],[0.7777777777777778,\"#fb9f3a\"],[0.8888888888888888,\"#fdca26\"],[1.0,\"#f0f921\"]],\"type\":\"contour\"}],\"contourcarpet\":[{\"colorbar\":{\"outlinewidth\":0,\"ticks\":\"\"},\"type\":\"contourcarpet\"}],\"heatmap\":[{\"colorbar\":{\"outlinewidth\":0,\"ticks\":\"\"},\"colorscale\":[[0.0,\"#0d0887\"],[0.1111111111111111,\"#46039f\"],[0.2222222222222222,\"#7201a8\"],[0.3333333333333333,\"#9c179e\"],[0.4444444444444444,\"#bd3786\"],[0.5555555555555556,\"#d8576b\"],[0.6666666666666666,\"#ed7953\"],[0.7777777777777778,\"#fb9f3a\"],[0.8888888888888888,\"#fdca26\"],[1.0,\"#f0f921\"]],\"type\":\"heatmap\"}],\"heatmapgl\":[{\"colorbar\":{\"outlinewidth\":0,\"ticks\":\"\"},\"colorscale\":[[0.0,\"#0d0887\"],[0.1111111111111111,\"#46039f\"],[0.2222222222222222,\"#7201a8\"],[0.3333333333333333,\"#9c179e\"],[0.4444444444444444,\"#bd3786\"],[0.5555555555555556,\"#d8576b\"],[0.6666666666666666,\"#ed7953\"],[0.7777777777777778,\"#fb9f3a\"],[0.8888888888888888,\"#fdca26\"],[1.0,\"#f0f921\"]],\"type\":\"heatmapgl\"}],\"histogram\":[{\"marker\":{\"pattern\":{\"fillmode\":\"overlay\",\"size\":10,\"solidity\":0.2}},\"type\":\"histogram\"}],\"histogram2d\":[{\"colorbar\":{\"outlinewidth\":0,\"ticks\":\"\"},\"colorscale\":[[0.0,\"#0d0887\"],[0.1111111111111111,\"#46039f\"],[0.2222222222222222,\"#7201a8\"],[0.3333333333333333,\"#9c179e\"],[0.4444444444444444,\"#bd3786\"],[0.5555555555555556,\"#d8576b\"],[0.6666666666666666,\"#ed7953\"],[0.7777777777777778,\"#fb9f3a\"],[0.8888888888888888,\"#fdca26\"],[1.0,\"#f0f921\"]],\"type\":\"histogram2d\"}],\"histogram2dcontour\":[{\"colorbar\":{\"outlinewidth\":0,\"ticks\":\"\"},\"colorscale\":[[0.0,\"#0d0887\"],[0.1111111111111111,\"#46039f\"],[0.2222222222222222,\"#7201a8\"],[0.3333333333333333,\"#9c179e\"],[0.4444444444444444,\"#bd3786\"],[0.5555555555555556,\"#d8576b\"],[0.6666666666666666,\"#ed7953\"],[0.7777777777777778,\"#fb9f3a\"],[0.8888888888888888,\"#fdca26\"],[1.0,\"#f0f921\"]],\"type\":\"histogram2dcontour\"}],\"mesh3d\":[{\"colorbar\":{\"outlinewidth\":0,\"ticks\":\"\"},\"type\":\"mesh3d\"}],\"parcoords\":[{\"line\":{\"colorbar\":{\"outlinewidth\":0,\"ticks\":\"\"}},\"type\":\"parcoords\"}],\"pie\":[{\"automargin\":true,\"type\":\"pie\"}],\"scatter\":[{\"marker\":{\"colorbar\":{\"outlinewidth\":0,\"ticks\":\"\"}},\"type\":\"scatter\"}],\"scatter3d\":[{\"line\":{\"colorbar\":{\"outlinewidth\":0,\"ticks\":\"\"}},\"marker\":{\"colorbar\":{\"outlinewidth\":0,\"ticks\":\"\"}},\"type\":\"scatter3d\"}],\"scattercarpet\":[{\"marker\":{\"colorbar\":{\"outlinewidth\":0,\"ticks\":\"\"}},\"type\":\"scattercarpet\"}],\"scattergeo\":[{\"marker\":{\"colorbar\":{\"outlinewidth\":0,\"ticks\":\"\"}},\"type\":\"scattergeo\"}],\"scattergl\":[{\"marker\":{\"colorbar\":{\"outlinewidth\":0,\"ticks\":\"\"}},\"type\":\"scattergl\"}],\"scattermapbox\":[{\"marker\":{\"colorbar\":{\"outlinewidth\":0,\"ticks\":\"\"}},\"type\":\"scattermapbox\"}],\"scatterpolar\":[{\"marker\":{\"colorbar\":{\"outlinewidth\":0,\"ticks\":\"\"}},\"type\":\"scatterpolar\"}],\"scatterpolargl\":[{\"marker\":{\"colorbar\":{\"outlinewidth\":0,\"ticks\":\"\"}},\"type\":\"scatterpolargl\"}],\"scatterternary\":[{\"marker\":{\"colorbar\":{\"outlinewidth\":0,\"ticks\":\"\"}},\"type\":\"scatterternary\"}],\"surface\":[{\"colorbar\":{\"outlinewidth\":0,\"ticks\":\"\"},\"colorscale\":[[0.0,\"#0d0887\"],[0.1111111111111111,\"#46039f\"],[0.2222222222222222,\"#7201a8\"],[0.3333333333333333,\"#9c179e\"],[0.4444444444444444,\"#bd3786\"],[0.5555555555555556,\"#d8576b\"],[0.6666666666666666,\"#ed7953\"],[0.7777777777777778,\"#fb9f3a\"],[0.8888888888888888,\"#fdca26\"],[1.0,\"#f0f921\"]],\"type\":\"surface\"}],\"table\":[{\"cells\":{\"fill\":{\"color\":\"#EBF0F8\"},\"line\":{\"color\":\"white\"}},\"header\":{\"fill\":{\"color\":\"#C8D4E3\"},\"line\":{\"color\":\"white\"}},\"type\":\"table\"}]},\"layout\":{\"annotationdefaults\":{\"arrowcolor\":\"#2a3f5f\",\"arrowhead\":0,\"arrowwidth\":1},\"autotypenumbers\":\"strict\",\"coloraxis\":{\"colorbar\":{\"outlinewidth\":0,\"ticks\":\"\"}},\"colorscale\":{\"diverging\":[[0,\"#8e0152\"],[0.1,\"#c51b7d\"],[0.2,\"#de77ae\"],[0.3,\"#f1b6da\"],[0.4,\"#fde0ef\"],[0.5,\"#f7f7f7\"],[0.6,\"#e6f5d0\"],[0.7,\"#b8e186\"],[0.8,\"#7fbc41\"],[0.9,\"#4d9221\"],[1,\"#276419\"]],\"sequential\":[[0.0,\"#0d0887\"],[0.1111111111111111,\"#46039f\"],[0.2222222222222222,\"#7201a8\"],[0.3333333333333333,\"#9c179e\"],[0.4444444444444444,\"#bd3786\"],[0.5555555555555556,\"#d8576b\"],[0.6666666666666666,\"#ed7953\"],[0.7777777777777778,\"#fb9f3a\"],[0.8888888888888888,\"#fdca26\"],[1.0,\"#f0f921\"]],\"sequentialminus\":[[0.0,\"#0d0887\"],[0.1111111111111111,\"#46039f\"],[0.2222222222222222,\"#7201a8\"],[0.3333333333333333,\"#9c179e\"],[0.4444444444444444,\"#bd3786\"],[0.5555555555555556,\"#d8576b\"],[0.6666666666666666,\"#ed7953\"],[0.7777777777777778,\"#fb9f3a\"],[0.8888888888888888,\"#fdca26\"],[1.0,\"#f0f921\"]]},\"colorway\":[\"#636efa\",\"#EF553B\",\"#00cc96\",\"#ab63fa\",\"#FFA15A\",\"#19d3f3\",\"#FF6692\",\"#B6E880\",\"#FF97FF\",\"#FECB52\"],\"font\":{\"color\":\"#2a3f5f\"},\"geo\":{\"bgcolor\":\"white\",\"lakecolor\":\"white\",\"landcolor\":\"#E5ECF6\",\"showlakes\":true,\"showland\":true,\"subunitcolor\":\"white\"},\"hoverlabel\":{\"align\":\"left\"},\"hovermode\":\"closest\",\"mapbox\":{\"style\":\"light\"},\"paper_bgcolor\":\"white\",\"plot_bgcolor\":\"#E5ECF6\",\"polar\":{\"angularaxis\":{\"gridcolor\":\"white\",\"linecolor\":\"white\",\"ticks\":\"\"},\"bgcolor\":\"#E5ECF6\",\"radialaxis\":{\"gridcolor\":\"white\",\"linecolor\":\"white\",\"ticks\":\"\"}},\"scene\":{\"xaxis\":{\"backgroundcolor\":\"#E5ECF6\",\"gridcolor\":\"white\",\"gridwidth\":2,\"linecolor\":\"white\",\"showbackground\":true,\"ticks\":\"\",\"zerolinecolor\":\"white\"},\"yaxis\":{\"backgroundcolor\":\"#E5ECF6\",\"gridcolor\":\"white\",\"gridwidth\":2,\"linecolor\":\"white\",\"showbackground\":true,\"ticks\":\"\",\"zerolinecolor\":\"white\"},\"zaxis\":{\"backgroundcolor\":\"#E5ECF6\",\"gridcolor\":\"white\",\"gridwidth\":2,\"linecolor\":\"white\",\"showbackground\":true,\"ticks\":\"\",\"zerolinecolor\":\"white\"}},\"shapedefaults\":{\"line\":{\"color\":\"#2a3f5f\"}},\"ternary\":{\"aaxis\":{\"gridcolor\":\"white\",\"linecolor\":\"white\",\"ticks\":\"\"},\"baxis\":{\"gridcolor\":\"white\",\"linecolor\":\"white\",\"ticks\":\"\"},\"bgcolor\":\"#E5ECF6\",\"caxis\":{\"gridcolor\":\"white\",\"linecolor\":\"white\",\"ticks\":\"\"}},\"title\":{\"x\":0.05},\"xaxis\":{\"automargin\":true,\"gridcolor\":\"white\",\"linecolor\":\"white\",\"ticks\":\"\",\"title\":{\"standoff\":15},\"zerolinecolor\":\"white\",\"zerolinewidth\":2},\"yaxis\":{\"automargin\":true,\"gridcolor\":\"white\",\"linecolor\":\"white\",\"ticks\":\"\",\"title\":{\"standoff\":15},\"zerolinecolor\":\"white\",\"zerolinewidth\":2}}},\"title\":{\"text\":\"Optimization History Plot\"},\"xaxis\":{\"title\":{\"text\":\"#Trials\"}},\"yaxis\":{\"title\":{\"text\":\"Objective Value\"}}},                        {\"responsive\": true}                    ).then(function(){\n",
       "                            \n",
       "var gd = document.getElementById('1b92ba76-097a-48c8-8b42-1100fa1eb6a5');\n",
       "var x = new MutationObserver(function (mutations, observer) {{\n",
       "        var display = window.getComputedStyle(gd).display;\n",
       "        if (!display || display === 'none') {{\n",
       "            console.log([gd, 'removed!']);\n",
       "            Plotly.purge(gd);\n",
       "            observer.disconnect();\n",
       "        }}\n",
       "}});\n",
       "\n",
       "// Listen for the removal of the full notebook cells\n",
       "var notebookContainer = gd.closest('#notebook-container');\n",
       "if (notebookContainer) {{\n",
       "    x.observe(notebookContainer, {childList: true});\n",
       "}}\n",
       "\n",
       "// Listen for the clearing of the current output cell\n",
       "var outputEl = gd.closest('.output');\n",
       "if (outputEl) {{\n",
       "    x.observe(outputEl, {childList: true});\n",
       "}}\n",
       "\n",
       "                        })                };                });            </script>        </div>"
      ]
     },
     "metadata": {},
     "output_type": "display_data"
    }
   ],
   "source": [
    "print('best knn rmsle score:', study_knn.best_value)\n",
    "optuna.visualization.plot_optimization_history(study_knn)"
   ]
  },
  {
   "cell_type": "code",
   "execution_count": 33,
   "id": "df0be03b",
   "metadata": {
    "execution": {
     "iopub.execute_input": "2021-10-31T19:05:00.496479Z",
     "iopub.status.busy": "2021-10-31T19:05:00.495830Z",
     "iopub.status.idle": "2021-10-31T19:05:00.818511Z",
     "shell.execute_reply": "2021-10-31T19:05:00.818999Z",
     "shell.execute_reply.started": "2021-10-31T17:50:16.724822Z"
    },
    "papermill": {
     "duration": 0.375152,
     "end_time": "2021-10-31T19:05:00.819206",
     "exception": false,
     "start_time": "2021-10-31T19:05:00.444054",
     "status": "completed"
    },
    "tags": []
   },
   "outputs": [
    {
     "data": {
      "text/plain": [
       "array([123507.03828924, 164655.94664082, 194787.75028624, ...,\n",
       "       155503.56994376, 109466.49312707, 203549.48180368])"
      ]
     },
     "execution_count": 33,
     "metadata": {},
     "output_type": "execute_result"
    }
   ],
   "source": [
    "knn_model = KNeighborsRegressor(**study_knn.best_params).fit(pd.concat([num_scaled, cat_scaled], axis=1), log_target)\n",
    "np.expm1(knn_model.predict(pd.concat([num_scaled_test, cat_scaled_test], axis=1)))"
   ]
  },
  {
   "cell_type": "code",
   "execution_count": 34,
   "id": "cbd09956",
   "metadata": {
    "execution": {
     "iopub.execute_input": "2021-10-31T19:05:00.920795Z",
     "iopub.status.busy": "2021-10-31T19:05:00.920085Z",
     "iopub.status.idle": "2021-10-31T19:05:01.021113Z",
     "shell.execute_reply": "2021-10-31T19:05:01.022009Z",
     "shell.execute_reply.started": "2021-10-31T17:51:39.779991Z"
    },
    "papermill": {
     "duration": 0.153708,
     "end_time": "2021-10-31T19:05:01.022344",
     "exception": false,
     "start_time": "2021-10-31T19:05:00.868636",
     "status": "completed"
    },
    "tags": []
   },
   "outputs": [
    {
     "data": {
      "text/plain": [
       "array([117912.29808253, 156226.76114066, 182824.76449429, ...,\n",
       "       169836.40064876, 115421.78449544, 221237.26550178])"
      ]
     },
     "execution_count": 34,
     "metadata": {},
     "output_type": "execute_result"
    }
   ],
   "source": [
    "stacked = 0.8 * svr_model.predict(X_test) + 0.2 * ridge_model.predict(X_test)\n",
    "np.expm1(stacked)"
   ]
  },
  {
   "cell_type": "code",
   "execution_count": 35,
   "id": "4dfb9206",
   "metadata": {
    "execution": {
     "iopub.execute_input": "2021-10-31T19:05:01.176221Z",
     "iopub.status.busy": "2021-10-31T19:05:01.175373Z",
     "iopub.status.idle": "2021-10-31T19:05:01.180186Z",
     "shell.execute_reply": "2021-10-31T19:05:01.179427Z"
    },
    "papermill": {
     "duration": 0.064,
     "end_time": "2021-10-31T19:05:01.180451",
     "exception": false,
     "start_time": "2021-10-31T19:05:01.116451",
     "status": "completed"
    },
    "tags": []
   },
   "outputs": [],
   "source": [
    "# export models\n",
    "with open('svr.pkl', 'wb') as fp:\n",
    "    pickle.dump(svr_model, fp)\n",
    "    \n",
    "with open('ridge.pkl', 'wb') as fp:\n",
    "    pickle.dump(ridge_model, fp)"
   ]
  }
 ],
 "metadata": {
  "kernelspec": {
   "display_name": "Python 3",
   "language": "python",
   "name": "python3"
  },
  "language_info": {
   "codemirror_mode": {
    "name": "ipython",
    "version": 3
   },
   "file_extension": ".py",
   "mimetype": "text/x-python",
   "name": "python",
   "nbconvert_exporter": "python",
   "pygments_lexer": "ipython3",
   "version": "3.7.10"
  },
  "papermill": {
   "default_parameters": {},
   "duration": 325.406668,
   "end_time": "2021-10-31T19:05:02.143958",
   "environment_variables": {},
   "exception": null,
   "input_path": "__notebook__.ipynb",
   "output_path": "__notebook__.ipynb",
   "parameters": {},
   "start_time": "2021-10-31T18:59:36.737290",
   "version": "2.3.3"
  },
  "widgets": {
   "application/vnd.jupyter.widget-state+json": {
    "state": {
     "07cfc91f35724f039c621e738733f91b": {
      "model_module": "@jupyter-widgets/base",
      "model_module_version": "1.2.0",
      "model_name": "LayoutModel",
      "state": {
       "_model_module": "@jupyter-widgets/base",
       "_model_module_version": "1.2.0",
       "_model_name": "LayoutModel",
       "_view_count": null,
       "_view_module": "@jupyter-widgets/base",
       "_view_module_version": "1.2.0",
       "_view_name": "LayoutView",
       "align_content": null,
       "align_items": null,
       "align_self": null,
       "border": null,
       "bottom": null,
       "display": null,
       "flex": null,
       "flex_flow": null,
       "grid_area": null,
       "grid_auto_columns": null,
       "grid_auto_flow": null,
       "grid_auto_rows": null,
       "grid_column": null,
       "grid_gap": null,
       "grid_row": null,
       "grid_template_areas": null,
       "grid_template_columns": null,
       "grid_template_rows": null,
       "height": null,
       "justify_content": null,
       "justify_items": null,
       "left": null,
       "margin": null,
       "max_height": null,
       "max_width": null,
       "min_height": null,
       "min_width": null,
       "object_fit": null,
       "object_position": null,
       "order": null,
       "overflow": null,
       "overflow_x": null,
       "overflow_y": null,
       "padding": null,
       "right": null,
       "top": null,
       "visibility": null,
       "width": null
      }
     },
     "0cf7f424d338452ba93e849e756cfaba": {
      "model_module": "@jupyter-widgets/base",
      "model_module_version": "1.2.0",
      "model_name": "LayoutModel",
      "state": {
       "_model_module": "@jupyter-widgets/base",
       "_model_module_version": "1.2.0",
       "_model_name": "LayoutModel",
       "_view_count": null,
       "_view_module": "@jupyter-widgets/base",
       "_view_module_version": "1.2.0",
       "_view_name": "LayoutView",
       "align_content": null,
       "align_items": null,
       "align_self": null,
       "border": null,
       "bottom": null,
       "display": null,
       "flex": null,
       "flex_flow": null,
       "grid_area": null,
       "grid_auto_columns": null,
       "grid_auto_flow": null,
       "grid_auto_rows": null,
       "grid_column": null,
       "grid_gap": null,
       "grid_row": null,
       "grid_template_areas": null,
       "grid_template_columns": null,
       "grid_template_rows": null,
       "height": null,
       "justify_content": null,
       "justify_items": null,
       "left": null,
       "margin": null,
       "max_height": null,
       "max_width": null,
       "min_height": null,
       "min_width": null,
       "object_fit": null,
       "object_position": null,
       "order": null,
       "overflow": null,
       "overflow_x": null,
       "overflow_y": null,
       "padding": null,
       "right": null,
       "top": null,
       "visibility": null,
       "width": null
      }
     },
     "0f91d2fc69cf49e8aac64389c629577f": {
      "model_module": "@jupyter-widgets/controls",
      "model_module_version": "1.5.0",
      "model_name": "HTMLModel",
      "state": {
       "_dom_classes": [],
       "_model_module": "@jupyter-widgets/controls",
       "_model_module_version": "1.5.0",
       "_model_name": "HTMLModel",
       "_view_count": null,
       "_view_module": "@jupyter-widgets/controls",
       "_view_module_version": "1.5.0",
       "_view_name": "HTMLView",
       "description": "",
       "description_tooltip": null,
       "layout": "IPY_MODEL_fd8f781e8f074774afaf01d577499982",
       "placeholder": "​",
       "style": "IPY_MODEL_b37bd9cc056a491bb70323f5a7bf5e29",
       "value": "100%"
      }
     },
     "127e57eb6c154d729e11dddf0526ac8a": {
      "model_module": "@jupyter-widgets/controls",
      "model_module_version": "1.5.0",
      "model_name": "HTMLModel",
      "state": {
       "_dom_classes": [],
       "_model_module": "@jupyter-widgets/controls",
       "_model_module_version": "1.5.0",
       "_model_name": "HTMLModel",
       "_view_count": null,
       "_view_module": "@jupyter-widgets/controls",
       "_view_module_version": "1.5.0",
       "_view_name": "HTMLView",
       "description": "",
       "description_tooltip": null,
       "layout": "IPY_MODEL_e9b25fac86c2477a9b9c55d84eece88f",
       "placeholder": "​",
       "style": "IPY_MODEL_47ec91682c0847c8b4cf78efe74866b8",
       "value": " 150/150 [02:26&lt;00:00,  1.00s/it]"
      }
     },
     "30328c90e34b45d8ada9a175aa79b7c1": {
      "model_module": "@jupyter-widgets/base",
      "model_module_version": "1.2.0",
      "model_name": "LayoutModel",
      "state": {
       "_model_module": "@jupyter-widgets/base",
       "_model_module_version": "1.2.0",
       "_model_name": "LayoutModel",
       "_view_count": null,
       "_view_module": "@jupyter-widgets/base",
       "_view_module_version": "1.2.0",
       "_view_name": "LayoutView",
       "align_content": null,
       "align_items": null,
       "align_self": null,
       "border": null,
       "bottom": null,
       "display": null,
       "flex": null,
       "flex_flow": null,
       "grid_area": null,
       "grid_auto_columns": null,
       "grid_auto_flow": null,
       "grid_auto_rows": null,
       "grid_column": null,
       "grid_gap": null,
       "grid_row": null,
       "grid_template_areas": null,
       "grid_template_columns": null,
       "grid_template_rows": null,
       "height": null,
       "justify_content": null,
       "justify_items": null,
       "left": null,
       "margin": null,
       "max_height": null,
       "max_width": null,
       "min_height": null,
       "min_width": null,
       "object_fit": null,
       "object_position": null,
       "order": null,
       "overflow": null,
       "overflow_x": null,
       "overflow_y": null,
       "padding": null,
       "right": null,
       "top": null,
       "visibility": null,
       "width": null
      }
     },
     "31ba95e188d9418e8e3340718c1f3e72": {
      "model_module": "@jupyter-widgets/controls",
      "model_module_version": "1.5.0",
      "model_name": "HTMLModel",
      "state": {
       "_dom_classes": [],
       "_model_module": "@jupyter-widgets/controls",
       "_model_module_version": "1.5.0",
       "_model_name": "HTMLModel",
       "_view_count": null,
       "_view_module": "@jupyter-widgets/controls",
       "_view_module_version": "1.5.0",
       "_view_name": "HTMLView",
       "description": "",
       "description_tooltip": null,
       "layout": "IPY_MODEL_9a6b462a84e34f61a5aa35b629fff4d6",
       "placeholder": "​",
       "style": "IPY_MODEL_b37a572d5bb649ba988ef81873778583",
       "value": " 150/150 [00:34&lt;00:00,  4.37it/s]"
      }
     },
     "33d0d8754bd94a478759eda7a88d6a45": {
      "model_module": "@jupyter-widgets/controls",
      "model_module_version": "1.5.0",
      "model_name": "DescriptionStyleModel",
      "state": {
       "_model_module": "@jupyter-widgets/controls",
       "_model_module_version": "1.5.0",
       "_model_name": "DescriptionStyleModel",
       "_view_count": null,
       "_view_module": "@jupyter-widgets/base",
       "_view_module_version": "1.2.0",
       "_view_name": "StyleView",
       "description_width": ""
      }
     },
     "3d7b9b5850ce42bab8cca85853b5c57d": {
      "model_module": "@jupyter-widgets/controls",
      "model_module_version": "1.5.0",
      "model_name": "FloatProgressModel",
      "state": {
       "_dom_classes": [],
       "_model_module": "@jupyter-widgets/controls",
       "_model_module_version": "1.5.0",
       "_model_name": "FloatProgressModel",
       "_view_count": null,
       "_view_module": "@jupyter-widgets/controls",
       "_view_module_version": "1.5.0",
       "_view_name": "ProgressView",
       "bar_style": "success",
       "description": "",
       "description_tooltip": null,
       "layout": "IPY_MODEL_f30fc1ef2f6641f291bf6adf3dd5c4b8",
       "max": 150.0,
       "min": 0.0,
       "orientation": "horizontal",
       "style": "IPY_MODEL_be9f058501324b6fa3618f2fb57d8dfd",
       "value": 150.0
      }
     },
     "47ec91682c0847c8b4cf78efe74866b8": {
      "model_module": "@jupyter-widgets/controls",
      "model_module_version": "1.5.0",
      "model_name": "DescriptionStyleModel",
      "state": {
       "_model_module": "@jupyter-widgets/controls",
       "_model_module_version": "1.5.0",
       "_model_name": "DescriptionStyleModel",
       "_view_count": null,
       "_view_module": "@jupyter-widgets/base",
       "_view_module_version": "1.2.0",
       "_view_name": "StyleView",
       "description_width": ""
      }
     },
     "4ee49642bd2d4ddc85d1cd8b8ecc4c53": {
      "model_module": "@jupyter-widgets/controls",
      "model_module_version": "1.5.0",
      "model_name": "HBoxModel",
      "state": {
       "_dom_classes": [],
       "_model_module": "@jupyter-widgets/controls",
       "_model_module_version": "1.5.0",
       "_model_name": "HBoxModel",
       "_view_count": null,
       "_view_module": "@jupyter-widgets/controls",
       "_view_module_version": "1.5.0",
       "_view_name": "HBoxView",
       "box_style": "",
       "children": [
        "IPY_MODEL_9425fe83002e4e2d8189868000cd4084",
        "IPY_MODEL_810c4eb9e8a34538aa806ec4b8b62079",
        "IPY_MODEL_5ca536c9e35742e3a1d998c2954f0b58"
       ],
       "layout": "IPY_MODEL_a9eb6e38f3f44d66a0c027d445f8f2f9"
      }
     },
     "4fd547b985ad427b88c52228d6d129cf": {
      "model_module": "@jupyter-widgets/controls",
      "model_module_version": "1.5.0",
      "model_name": "HTMLModel",
      "state": {
       "_dom_classes": [],
       "_model_module": "@jupyter-widgets/controls",
       "_model_module_version": "1.5.0",
       "_model_name": "HTMLModel",
       "_view_count": null,
       "_view_module": "@jupyter-widgets/controls",
       "_view_module_version": "1.5.0",
       "_view_name": "HTMLView",
       "description": "",
       "description_tooltip": null,
       "layout": "IPY_MODEL_8483f8d3a19444529437ad20d4515e47",
       "placeholder": "​",
       "style": "IPY_MODEL_5b5824167e314b668fb2617bd1c457a7",
       "value": "100%"
      }
     },
     "5b5824167e314b668fb2617bd1c457a7": {
      "model_module": "@jupyter-widgets/controls",
      "model_module_version": "1.5.0",
      "model_name": "DescriptionStyleModel",
      "state": {
       "_model_module": "@jupyter-widgets/controls",
       "_model_module_version": "1.5.0",
       "_model_name": "DescriptionStyleModel",
       "_view_count": null,
       "_view_module": "@jupyter-widgets/base",
       "_view_module_version": "1.2.0",
       "_view_name": "StyleView",
       "description_width": ""
      }
     },
     "5ca536c9e35742e3a1d998c2954f0b58": {
      "model_module": "@jupyter-widgets/controls",
      "model_module_version": "1.5.0",
      "model_name": "HTMLModel",
      "state": {
       "_dom_classes": [],
       "_model_module": "@jupyter-widgets/controls",
       "_model_module_version": "1.5.0",
       "_model_name": "HTMLModel",
       "_view_count": null,
       "_view_module": "@jupyter-widgets/controls",
       "_view_module_version": "1.5.0",
       "_view_name": "HTMLView",
       "description": "",
       "description_tooltip": null,
       "layout": "IPY_MODEL_fcaafc9fbb604e89b57d73e0f804fa00",
       "placeholder": "​",
       "style": "IPY_MODEL_fe23e54a64684c8fb252f6b6aa7653dd",
       "value": " 150/150 [01:02&lt;00:00,  2.41it/s]"
      }
     },
     "786bebe1409043b19a504cdb08a1d4f7": {
      "model_module": "@jupyter-widgets/base",
      "model_module_version": "1.2.0",
      "model_name": "LayoutModel",
      "state": {
       "_model_module": "@jupyter-widgets/base",
       "_model_module_version": "1.2.0",
       "_model_name": "LayoutModel",
       "_view_count": null,
       "_view_module": "@jupyter-widgets/base",
       "_view_module_version": "1.2.0",
       "_view_name": "LayoutView",
       "align_content": null,
       "align_items": null,
       "align_self": null,
       "border": null,
       "bottom": null,
       "display": null,
       "flex": null,
       "flex_flow": null,
       "grid_area": null,
       "grid_auto_columns": null,
       "grid_auto_flow": null,
       "grid_auto_rows": null,
       "grid_column": null,
       "grid_gap": null,
       "grid_row": null,
       "grid_template_areas": null,
       "grid_template_columns": null,
       "grid_template_rows": null,
       "height": null,
       "justify_content": null,
       "justify_items": null,
       "left": null,
       "margin": null,
       "max_height": null,
       "max_width": null,
       "min_height": null,
       "min_width": null,
       "object_fit": null,
       "object_position": null,
       "order": null,
       "overflow": null,
       "overflow_x": null,
       "overflow_y": null,
       "padding": null,
       "right": null,
       "top": null,
       "visibility": null,
       "width": null
      }
     },
     "810c4eb9e8a34538aa806ec4b8b62079": {
      "model_module": "@jupyter-widgets/controls",
      "model_module_version": "1.5.0",
      "model_name": "FloatProgressModel",
      "state": {
       "_dom_classes": [],
       "_model_module": "@jupyter-widgets/controls",
       "_model_module_version": "1.5.0",
       "_model_name": "FloatProgressModel",
       "_view_count": null,
       "_view_module": "@jupyter-widgets/controls",
       "_view_module_version": "1.5.0",
       "_view_name": "ProgressView",
       "bar_style": "success",
       "description": "",
       "description_tooltip": null,
       "layout": "IPY_MODEL_786bebe1409043b19a504cdb08a1d4f7",
       "max": 150.0,
       "min": 0.0,
       "orientation": "horizontal",
       "style": "IPY_MODEL_c2e22a4a08984f038b7a21d7e75229e8",
       "value": 150.0
      }
     },
     "8483f8d3a19444529437ad20d4515e47": {
      "model_module": "@jupyter-widgets/base",
      "model_module_version": "1.2.0",
      "model_name": "LayoutModel",
      "state": {
       "_model_module": "@jupyter-widgets/base",
       "_model_module_version": "1.2.0",
       "_model_name": "LayoutModel",
       "_view_count": null,
       "_view_module": "@jupyter-widgets/base",
       "_view_module_version": "1.2.0",
       "_view_name": "LayoutView",
       "align_content": null,
       "align_items": null,
       "align_self": null,
       "border": null,
       "bottom": null,
       "display": null,
       "flex": null,
       "flex_flow": null,
       "grid_area": null,
       "grid_auto_columns": null,
       "grid_auto_flow": null,
       "grid_auto_rows": null,
       "grid_column": null,
       "grid_gap": null,
       "grid_row": null,
       "grid_template_areas": null,
       "grid_template_columns": null,
       "grid_template_rows": null,
       "height": null,
       "justify_content": null,
       "justify_items": null,
       "left": null,
       "margin": null,
       "max_height": null,
       "max_width": null,
       "min_height": null,
       "min_width": null,
       "object_fit": null,
       "object_position": null,
       "order": null,
       "overflow": null,
       "overflow_x": null,
       "overflow_y": null,
       "padding": null,
       "right": null,
       "top": null,
       "visibility": null,
       "width": null
      }
     },
     "913ffbf8064e4fb9aacc982a1fa1f503": {
      "model_module": "@jupyter-widgets/controls",
      "model_module_version": "1.5.0",
      "model_name": "FloatProgressModel",
      "state": {
       "_dom_classes": [],
       "_model_module": "@jupyter-widgets/controls",
       "_model_module_version": "1.5.0",
       "_model_name": "FloatProgressModel",
       "_view_count": null,
       "_view_module": "@jupyter-widgets/controls",
       "_view_module_version": "1.5.0",
       "_view_name": "ProgressView",
       "bar_style": "success",
       "description": "",
       "description_tooltip": null,
       "layout": "IPY_MODEL_b9bf7a2e8e1e422bbe44cddc18f62e52",
       "max": 150.0,
       "min": 0.0,
       "orientation": "horizontal",
       "style": "IPY_MODEL_9949a82ca4054e0e833223c7cc589237",
       "value": 150.0
      }
     },
     "9425fe83002e4e2d8189868000cd4084": {
      "model_module": "@jupyter-widgets/controls",
      "model_module_version": "1.5.0",
      "model_name": "HTMLModel",
      "state": {
       "_dom_classes": [],
       "_model_module": "@jupyter-widgets/controls",
       "_model_module_version": "1.5.0",
       "_model_name": "HTMLModel",
       "_view_count": null,
       "_view_module": "@jupyter-widgets/controls",
       "_view_module_version": "1.5.0",
       "_view_name": "HTMLView",
       "description": "",
       "description_tooltip": null,
       "layout": "IPY_MODEL_0cf7f424d338452ba93e849e756cfaba",
       "placeholder": "​",
       "style": "IPY_MODEL_33d0d8754bd94a478759eda7a88d6a45",
       "value": "100%"
      }
     },
     "9949a82ca4054e0e833223c7cc589237": {
      "model_module": "@jupyter-widgets/controls",
      "model_module_version": "1.5.0",
      "model_name": "ProgressStyleModel",
      "state": {
       "_model_module": "@jupyter-widgets/controls",
       "_model_module_version": "1.5.0",
       "_model_name": "ProgressStyleModel",
       "_view_count": null,
       "_view_module": "@jupyter-widgets/base",
       "_view_module_version": "1.2.0",
       "_view_name": "StyleView",
       "bar_color": null,
       "description_width": ""
      }
     },
     "9a6b462a84e34f61a5aa35b629fff4d6": {
      "model_module": "@jupyter-widgets/base",
      "model_module_version": "1.2.0",
      "model_name": "LayoutModel",
      "state": {
       "_model_module": "@jupyter-widgets/base",
       "_model_module_version": "1.2.0",
       "_model_name": "LayoutModel",
       "_view_count": null,
       "_view_module": "@jupyter-widgets/base",
       "_view_module_version": "1.2.0",
       "_view_name": "LayoutView",
       "align_content": null,
       "align_items": null,
       "align_self": null,
       "border": null,
       "bottom": null,
       "display": null,
       "flex": null,
       "flex_flow": null,
       "grid_area": null,
       "grid_auto_columns": null,
       "grid_auto_flow": null,
       "grid_auto_rows": null,
       "grid_column": null,
       "grid_gap": null,
       "grid_row": null,
       "grid_template_areas": null,
       "grid_template_columns": null,
       "grid_template_rows": null,
       "height": null,
       "justify_content": null,
       "justify_items": null,
       "left": null,
       "margin": null,
       "max_height": null,
       "max_width": null,
       "min_height": null,
       "min_width": null,
       "object_fit": null,
       "object_position": null,
       "order": null,
       "overflow": null,
       "overflow_x": null,
       "overflow_y": null,
       "padding": null,
       "right": null,
       "top": null,
       "visibility": null,
       "width": null
      }
     },
     "a44548abaed54747a2a0282fe9a1826f": {
      "model_module": "@jupyter-widgets/controls",
      "model_module_version": "1.5.0",
      "model_name": "HTMLModel",
      "state": {
       "_dom_classes": [],
       "_model_module": "@jupyter-widgets/controls",
       "_model_module_version": "1.5.0",
       "_model_name": "HTMLModel",
       "_view_count": null,
       "_view_module": "@jupyter-widgets/controls",
       "_view_module_version": "1.5.0",
       "_view_name": "HTMLView",
       "description": "",
       "description_tooltip": null,
       "layout": "IPY_MODEL_e9f8a7c9c46e4941bd03d212ed5b037e",
       "placeholder": "​",
       "style": "IPY_MODEL_a4cd6c0634fa483ab825abc37c1a5411",
       "value": "100%"
      }
     },
     "a4cd6c0634fa483ab825abc37c1a5411": {
      "model_module": "@jupyter-widgets/controls",
      "model_module_version": "1.5.0",
      "model_name": "DescriptionStyleModel",
      "state": {
       "_model_module": "@jupyter-widgets/controls",
       "_model_module_version": "1.5.0",
       "_model_name": "DescriptionStyleModel",
       "_view_count": null,
       "_view_module": "@jupyter-widgets/base",
       "_view_module_version": "1.2.0",
       "_view_name": "StyleView",
       "description_width": ""
      }
     },
     "a9eb6e38f3f44d66a0c027d445f8f2f9": {
      "model_module": "@jupyter-widgets/base",
      "model_module_version": "1.2.0",
      "model_name": "LayoutModel",
      "state": {
       "_model_module": "@jupyter-widgets/base",
       "_model_module_version": "1.2.0",
       "_model_name": "LayoutModel",
       "_view_count": null,
       "_view_module": "@jupyter-widgets/base",
       "_view_module_version": "1.2.0",
       "_view_name": "LayoutView",
       "align_content": null,
       "align_items": null,
       "align_self": null,
       "border": null,
       "bottom": null,
       "display": null,
       "flex": null,
       "flex_flow": null,
       "grid_area": null,
       "grid_auto_columns": null,
       "grid_auto_flow": null,
       "grid_auto_rows": null,
       "grid_column": null,
       "grid_gap": null,
       "grid_row": null,
       "grid_template_areas": null,
       "grid_template_columns": null,
       "grid_template_rows": null,
       "height": null,
       "justify_content": null,
       "justify_items": null,
       "left": null,
       "margin": null,
       "max_height": null,
       "max_width": null,
       "min_height": null,
       "min_width": null,
       "object_fit": null,
       "object_position": null,
       "order": null,
       "overflow": null,
       "overflow_x": null,
       "overflow_y": null,
       "padding": null,
       "right": null,
       "top": null,
       "visibility": null,
       "width": null
      }
     },
     "b33b8806ed784af2a78e759669546453": {
      "model_module": "@jupyter-widgets/base",
      "model_module_version": "1.2.0",
      "model_name": "LayoutModel",
      "state": {
       "_model_module": "@jupyter-widgets/base",
       "_model_module_version": "1.2.0",
       "_model_name": "LayoutModel",
       "_view_count": null,
       "_view_module": "@jupyter-widgets/base",
       "_view_module_version": "1.2.0",
       "_view_name": "LayoutView",
       "align_content": null,
       "align_items": null,
       "align_self": null,
       "border": null,
       "bottom": null,
       "display": null,
       "flex": null,
       "flex_flow": null,
       "grid_area": null,
       "grid_auto_columns": null,
       "grid_auto_flow": null,
       "grid_auto_rows": null,
       "grid_column": null,
       "grid_gap": null,
       "grid_row": null,
       "grid_template_areas": null,
       "grid_template_columns": null,
       "grid_template_rows": null,
       "height": null,
       "justify_content": null,
       "justify_items": null,
       "left": null,
       "margin": null,
       "max_height": null,
       "max_width": null,
       "min_height": null,
       "min_width": null,
       "object_fit": null,
       "object_position": null,
       "order": null,
       "overflow": null,
       "overflow_x": null,
       "overflow_y": null,
       "padding": null,
       "right": null,
       "top": null,
       "visibility": null,
       "width": null
      }
     },
     "b37a572d5bb649ba988ef81873778583": {
      "model_module": "@jupyter-widgets/controls",
      "model_module_version": "1.5.0",
      "model_name": "DescriptionStyleModel",
      "state": {
       "_model_module": "@jupyter-widgets/controls",
       "_model_module_version": "1.5.0",
       "_model_name": "DescriptionStyleModel",
       "_view_count": null,
       "_view_module": "@jupyter-widgets/base",
       "_view_module_version": "1.2.0",
       "_view_name": "StyleView",
       "description_width": ""
      }
     },
     "b37bd9cc056a491bb70323f5a7bf5e29": {
      "model_module": "@jupyter-widgets/controls",
      "model_module_version": "1.5.0",
      "model_name": "DescriptionStyleModel",
      "state": {
       "_model_module": "@jupyter-widgets/controls",
       "_model_module_version": "1.5.0",
       "_model_name": "DescriptionStyleModel",
       "_view_count": null,
       "_view_module": "@jupyter-widgets/base",
       "_view_module_version": "1.2.0",
       "_view_name": "StyleView",
       "description_width": ""
      }
     },
     "b8498e35ba27447dbb9f779557cf3f09": {
      "model_module": "@jupyter-widgets/controls",
      "model_module_version": "1.5.0",
      "model_name": "DescriptionStyleModel",
      "state": {
       "_model_module": "@jupyter-widgets/controls",
       "_model_module_version": "1.5.0",
       "_model_name": "DescriptionStyleModel",
       "_view_count": null,
       "_view_module": "@jupyter-widgets/base",
       "_view_module_version": "1.2.0",
       "_view_name": "StyleView",
       "description_width": ""
      }
     },
     "b93267b44e1146f784cca36250164097": {
      "model_module": "@jupyter-widgets/controls",
      "model_module_version": "1.5.0",
      "model_name": "HBoxModel",
      "state": {
       "_dom_classes": [],
       "_model_module": "@jupyter-widgets/controls",
       "_model_module_version": "1.5.0",
       "_model_name": "HBoxModel",
       "_view_count": null,
       "_view_module": "@jupyter-widgets/controls",
       "_view_module_version": "1.5.0",
       "_view_name": "HBoxView",
       "box_style": "",
       "children": [
        "IPY_MODEL_0f91d2fc69cf49e8aac64389c629577f",
        "IPY_MODEL_fc8ad93da5404eaeab702a035d7295c1",
        "IPY_MODEL_c9e3d655748c44c7adf56ed795a817d2"
       ],
       "layout": "IPY_MODEL_f9193289ab0a4fee8518e06d929b44fb"
      }
     },
     "b9bf7a2e8e1e422bbe44cddc18f62e52": {
      "model_module": "@jupyter-widgets/base",
      "model_module_version": "1.2.0",
      "model_name": "LayoutModel",
      "state": {
       "_model_module": "@jupyter-widgets/base",
       "_model_module_version": "1.2.0",
       "_model_name": "LayoutModel",
       "_view_count": null,
       "_view_module": "@jupyter-widgets/base",
       "_view_module_version": "1.2.0",
       "_view_name": "LayoutView",
       "align_content": null,
       "align_items": null,
       "align_self": null,
       "border": null,
       "bottom": null,
       "display": null,
       "flex": null,
       "flex_flow": null,
       "grid_area": null,
       "grid_auto_columns": null,
       "grid_auto_flow": null,
       "grid_auto_rows": null,
       "grid_column": null,
       "grid_gap": null,
       "grid_row": null,
       "grid_template_areas": null,
       "grid_template_columns": null,
       "grid_template_rows": null,
       "height": null,
       "justify_content": null,
       "justify_items": null,
       "left": null,
       "margin": null,
       "max_height": null,
       "max_width": null,
       "min_height": null,
       "min_width": null,
       "object_fit": null,
       "object_position": null,
       "order": null,
       "overflow": null,
       "overflow_x": null,
       "overflow_y": null,
       "padding": null,
       "right": null,
       "top": null,
       "visibility": null,
       "width": null
      }
     },
     "be9f058501324b6fa3618f2fb57d8dfd": {
      "model_module": "@jupyter-widgets/controls",
      "model_module_version": "1.5.0",
      "model_name": "ProgressStyleModel",
      "state": {
       "_model_module": "@jupyter-widgets/controls",
       "_model_module_version": "1.5.0",
       "_model_name": "ProgressStyleModel",
       "_view_count": null,
       "_view_module": "@jupyter-widgets/base",
       "_view_module_version": "1.2.0",
       "_view_name": "StyleView",
       "bar_color": null,
       "description_width": ""
      }
     },
     "c2e22a4a08984f038b7a21d7e75229e8": {
      "model_module": "@jupyter-widgets/controls",
      "model_module_version": "1.5.0",
      "model_name": "ProgressStyleModel",
      "state": {
       "_model_module": "@jupyter-widgets/controls",
       "_model_module_version": "1.5.0",
       "_model_name": "ProgressStyleModel",
       "_view_count": null,
       "_view_module": "@jupyter-widgets/base",
       "_view_module_version": "1.2.0",
       "_view_name": "StyleView",
       "bar_color": null,
       "description_width": ""
      }
     },
     "c9e3d655748c44c7adf56ed795a817d2": {
      "model_module": "@jupyter-widgets/controls",
      "model_module_version": "1.5.0",
      "model_name": "HTMLModel",
      "state": {
       "_dom_classes": [],
       "_model_module": "@jupyter-widgets/controls",
       "_model_module_version": "1.5.0",
       "_model_name": "HTMLModel",
       "_view_count": null,
       "_view_module": "@jupyter-widgets/controls",
       "_view_module_version": "1.5.0",
       "_view_name": "HTMLView",
       "description": "",
       "description_tooltip": null,
       "layout": "IPY_MODEL_07cfc91f35724f039c621e738733f91b",
       "placeholder": "​",
       "style": "IPY_MODEL_b8498e35ba27447dbb9f779557cf3f09",
       "value": " 150/150 [00:33&lt;00:00,  4.45it/s]"
      }
     },
     "d3be0acadee04ce3b444c5091903d5c9": {
      "model_module": "@jupyter-widgets/controls",
      "model_module_version": "1.5.0",
      "model_name": "HBoxModel",
      "state": {
       "_dom_classes": [],
       "_model_module": "@jupyter-widgets/controls",
       "_model_module_version": "1.5.0",
       "_model_name": "HBoxModel",
       "_view_count": null,
       "_view_module": "@jupyter-widgets/controls",
       "_view_module_version": "1.5.0",
       "_view_name": "HBoxView",
       "box_style": "",
       "children": [
        "IPY_MODEL_4fd547b985ad427b88c52228d6d129cf",
        "IPY_MODEL_3d7b9b5850ce42bab8cca85853b5c57d",
        "IPY_MODEL_31ba95e188d9418e8e3340718c1f3e72"
       ],
       "layout": "IPY_MODEL_e44b7e76022145f79a8afa8f06508a26"
      }
     },
     "e44b7e76022145f79a8afa8f06508a26": {
      "model_module": "@jupyter-widgets/base",
      "model_module_version": "1.2.0",
      "model_name": "LayoutModel",
      "state": {
       "_model_module": "@jupyter-widgets/base",
       "_model_module_version": "1.2.0",
       "_model_name": "LayoutModel",
       "_view_count": null,
       "_view_module": "@jupyter-widgets/base",
       "_view_module_version": "1.2.0",
       "_view_name": "LayoutView",
       "align_content": null,
       "align_items": null,
       "align_self": null,
       "border": null,
       "bottom": null,
       "display": null,
       "flex": null,
       "flex_flow": null,
       "grid_area": null,
       "grid_auto_columns": null,
       "grid_auto_flow": null,
       "grid_auto_rows": null,
       "grid_column": null,
       "grid_gap": null,
       "grid_row": null,
       "grid_template_areas": null,
       "grid_template_columns": null,
       "grid_template_rows": null,
       "height": null,
       "justify_content": null,
       "justify_items": null,
       "left": null,
       "margin": null,
       "max_height": null,
       "max_width": null,
       "min_height": null,
       "min_width": null,
       "object_fit": null,
       "object_position": null,
       "order": null,
       "overflow": null,
       "overflow_x": null,
       "overflow_y": null,
       "padding": null,
       "right": null,
       "top": null,
       "visibility": null,
       "width": null
      }
     },
     "e909af692d4a4a0b95359b88de0e9209": {
      "model_module": "@jupyter-widgets/controls",
      "model_module_version": "1.5.0",
      "model_name": "HBoxModel",
      "state": {
       "_dom_classes": [],
       "_model_module": "@jupyter-widgets/controls",
       "_model_module_version": "1.5.0",
       "_model_name": "HBoxModel",
       "_view_count": null,
       "_view_module": "@jupyter-widgets/controls",
       "_view_module_version": "1.5.0",
       "_view_name": "HBoxView",
       "box_style": "",
       "children": [
        "IPY_MODEL_a44548abaed54747a2a0282fe9a1826f",
        "IPY_MODEL_913ffbf8064e4fb9aacc982a1fa1f503",
        "IPY_MODEL_127e57eb6c154d729e11dddf0526ac8a"
       ],
       "layout": "IPY_MODEL_30328c90e34b45d8ada9a175aa79b7c1"
      }
     },
     "e9b25fac86c2477a9b9c55d84eece88f": {
      "model_module": "@jupyter-widgets/base",
      "model_module_version": "1.2.0",
      "model_name": "LayoutModel",
      "state": {
       "_model_module": "@jupyter-widgets/base",
       "_model_module_version": "1.2.0",
       "_model_name": "LayoutModel",
       "_view_count": null,
       "_view_module": "@jupyter-widgets/base",
       "_view_module_version": "1.2.0",
       "_view_name": "LayoutView",
       "align_content": null,
       "align_items": null,
       "align_self": null,
       "border": null,
       "bottom": null,
       "display": null,
       "flex": null,
       "flex_flow": null,
       "grid_area": null,
       "grid_auto_columns": null,
       "grid_auto_flow": null,
       "grid_auto_rows": null,
       "grid_column": null,
       "grid_gap": null,
       "grid_row": null,
       "grid_template_areas": null,
       "grid_template_columns": null,
       "grid_template_rows": null,
       "height": null,
       "justify_content": null,
       "justify_items": null,
       "left": null,
       "margin": null,
       "max_height": null,
       "max_width": null,
       "min_height": null,
       "min_width": null,
       "object_fit": null,
       "object_position": null,
       "order": null,
       "overflow": null,
       "overflow_x": null,
       "overflow_y": null,
       "padding": null,
       "right": null,
       "top": null,
       "visibility": null,
       "width": null
      }
     },
     "e9f8a7c9c46e4941bd03d212ed5b037e": {
      "model_module": "@jupyter-widgets/base",
      "model_module_version": "1.2.0",
      "model_name": "LayoutModel",
      "state": {
       "_model_module": "@jupyter-widgets/base",
       "_model_module_version": "1.2.0",
       "_model_name": "LayoutModel",
       "_view_count": null,
       "_view_module": "@jupyter-widgets/base",
       "_view_module_version": "1.2.0",
       "_view_name": "LayoutView",
       "align_content": null,
       "align_items": null,
       "align_self": null,
       "border": null,
       "bottom": null,
       "display": null,
       "flex": null,
       "flex_flow": null,
       "grid_area": null,
       "grid_auto_columns": null,
       "grid_auto_flow": null,
       "grid_auto_rows": null,
       "grid_column": null,
       "grid_gap": null,
       "grid_row": null,
       "grid_template_areas": null,
       "grid_template_columns": null,
       "grid_template_rows": null,
       "height": null,
       "justify_content": null,
       "justify_items": null,
       "left": null,
       "margin": null,
       "max_height": null,
       "max_width": null,
       "min_height": null,
       "min_width": null,
       "object_fit": null,
       "object_position": null,
       "order": null,
       "overflow": null,
       "overflow_x": null,
       "overflow_y": null,
       "padding": null,
       "right": null,
       "top": null,
       "visibility": null,
       "width": null
      }
     },
     "ee60471160fb45799b56c65c8323dee3": {
      "model_module": "@jupyter-widgets/controls",
      "model_module_version": "1.5.0",
      "model_name": "ProgressStyleModel",
      "state": {
       "_model_module": "@jupyter-widgets/controls",
       "_model_module_version": "1.5.0",
       "_model_name": "ProgressStyleModel",
       "_view_count": null,
       "_view_module": "@jupyter-widgets/base",
       "_view_module_version": "1.2.0",
       "_view_name": "StyleView",
       "bar_color": null,
       "description_width": ""
      }
     },
     "f30fc1ef2f6641f291bf6adf3dd5c4b8": {
      "model_module": "@jupyter-widgets/base",
      "model_module_version": "1.2.0",
      "model_name": "LayoutModel",
      "state": {
       "_model_module": "@jupyter-widgets/base",
       "_model_module_version": "1.2.0",
       "_model_name": "LayoutModel",
       "_view_count": null,
       "_view_module": "@jupyter-widgets/base",
       "_view_module_version": "1.2.0",
       "_view_name": "LayoutView",
       "align_content": null,
       "align_items": null,
       "align_self": null,
       "border": null,
       "bottom": null,
       "display": null,
       "flex": null,
       "flex_flow": null,
       "grid_area": null,
       "grid_auto_columns": null,
       "grid_auto_flow": null,
       "grid_auto_rows": null,
       "grid_column": null,
       "grid_gap": null,
       "grid_row": null,
       "grid_template_areas": null,
       "grid_template_columns": null,
       "grid_template_rows": null,
       "height": null,
       "justify_content": null,
       "justify_items": null,
       "left": null,
       "margin": null,
       "max_height": null,
       "max_width": null,
       "min_height": null,
       "min_width": null,
       "object_fit": null,
       "object_position": null,
       "order": null,
       "overflow": null,
       "overflow_x": null,
       "overflow_y": null,
       "padding": null,
       "right": null,
       "top": null,
       "visibility": null,
       "width": null
      }
     },
     "f9193289ab0a4fee8518e06d929b44fb": {
      "model_module": "@jupyter-widgets/base",
      "model_module_version": "1.2.0",
      "model_name": "LayoutModel",
      "state": {
       "_model_module": "@jupyter-widgets/base",
       "_model_module_version": "1.2.0",
       "_model_name": "LayoutModel",
       "_view_count": null,
       "_view_module": "@jupyter-widgets/base",
       "_view_module_version": "1.2.0",
       "_view_name": "LayoutView",
       "align_content": null,
       "align_items": null,
       "align_self": null,
       "border": null,
       "bottom": null,
       "display": null,
       "flex": null,
       "flex_flow": null,
       "grid_area": null,
       "grid_auto_columns": null,
       "grid_auto_flow": null,
       "grid_auto_rows": null,
       "grid_column": null,
       "grid_gap": null,
       "grid_row": null,
       "grid_template_areas": null,
       "grid_template_columns": null,
       "grid_template_rows": null,
       "height": null,
       "justify_content": null,
       "justify_items": null,
       "left": null,
       "margin": null,
       "max_height": null,
       "max_width": null,
       "min_height": null,
       "min_width": null,
       "object_fit": null,
       "object_position": null,
       "order": null,
       "overflow": null,
       "overflow_x": null,
       "overflow_y": null,
       "padding": null,
       "right": null,
       "top": null,
       "visibility": null,
       "width": null
      }
     },
     "fc8ad93da5404eaeab702a035d7295c1": {
      "model_module": "@jupyter-widgets/controls",
      "model_module_version": "1.5.0",
      "model_name": "FloatProgressModel",
      "state": {
       "_dom_classes": [],
       "_model_module": "@jupyter-widgets/controls",
       "_model_module_version": "1.5.0",
       "_model_name": "FloatProgressModel",
       "_view_count": null,
       "_view_module": "@jupyter-widgets/controls",
       "_view_module_version": "1.5.0",
       "_view_name": "ProgressView",
       "bar_style": "success",
       "description": "",
       "description_tooltip": null,
       "layout": "IPY_MODEL_b33b8806ed784af2a78e759669546453",
       "max": 150.0,
       "min": 0.0,
       "orientation": "horizontal",
       "style": "IPY_MODEL_ee60471160fb45799b56c65c8323dee3",
       "value": 150.0
      }
     },
     "fcaafc9fbb604e89b57d73e0f804fa00": {
      "model_module": "@jupyter-widgets/base",
      "model_module_version": "1.2.0",
      "model_name": "LayoutModel",
      "state": {
       "_model_module": "@jupyter-widgets/base",
       "_model_module_version": "1.2.0",
       "_model_name": "LayoutModel",
       "_view_count": null,
       "_view_module": "@jupyter-widgets/base",
       "_view_module_version": "1.2.0",
       "_view_name": "LayoutView",
       "align_content": null,
       "align_items": null,
       "align_self": null,
       "border": null,
       "bottom": null,
       "display": null,
       "flex": null,
       "flex_flow": null,
       "grid_area": null,
       "grid_auto_columns": null,
       "grid_auto_flow": null,
       "grid_auto_rows": null,
       "grid_column": null,
       "grid_gap": null,
       "grid_row": null,
       "grid_template_areas": null,
       "grid_template_columns": null,
       "grid_template_rows": null,
       "height": null,
       "justify_content": null,
       "justify_items": null,
       "left": null,
       "margin": null,
       "max_height": null,
       "max_width": null,
       "min_height": null,
       "min_width": null,
       "object_fit": null,
       "object_position": null,
       "order": null,
       "overflow": null,
       "overflow_x": null,
       "overflow_y": null,
       "padding": null,
       "right": null,
       "top": null,
       "visibility": null,
       "width": null
      }
     },
     "fd8f781e8f074774afaf01d577499982": {
      "model_module": "@jupyter-widgets/base",
      "model_module_version": "1.2.0",
      "model_name": "LayoutModel",
      "state": {
       "_model_module": "@jupyter-widgets/base",
       "_model_module_version": "1.2.0",
       "_model_name": "LayoutModel",
       "_view_count": null,
       "_view_module": "@jupyter-widgets/base",
       "_view_module_version": "1.2.0",
       "_view_name": "LayoutView",
       "align_content": null,
       "align_items": null,
       "align_self": null,
       "border": null,
       "bottom": null,
       "display": null,
       "flex": null,
       "flex_flow": null,
       "grid_area": null,
       "grid_auto_columns": null,
       "grid_auto_flow": null,
       "grid_auto_rows": null,
       "grid_column": null,
       "grid_gap": null,
       "grid_row": null,
       "grid_template_areas": null,
       "grid_template_columns": null,
       "grid_template_rows": null,
       "height": null,
       "justify_content": null,
       "justify_items": null,
       "left": null,
       "margin": null,
       "max_height": null,
       "max_width": null,
       "min_height": null,
       "min_width": null,
       "object_fit": null,
       "object_position": null,
       "order": null,
       "overflow": null,
       "overflow_x": null,
       "overflow_y": null,
       "padding": null,
       "right": null,
       "top": null,
       "visibility": null,
       "width": null
      }
     },
     "fe23e54a64684c8fb252f6b6aa7653dd": {
      "model_module": "@jupyter-widgets/controls",
      "model_module_version": "1.5.0",
      "model_name": "DescriptionStyleModel",
      "state": {
       "_model_module": "@jupyter-widgets/controls",
       "_model_module_version": "1.5.0",
       "_model_name": "DescriptionStyleModel",
       "_view_count": null,
       "_view_module": "@jupyter-widgets/base",
       "_view_module_version": "1.2.0",
       "_view_name": "StyleView",
       "description_width": ""
      }
     }
    },
    "version_major": 2,
    "version_minor": 0
   }
  }
 },
 "nbformat": 4,
 "nbformat_minor": 5
}
