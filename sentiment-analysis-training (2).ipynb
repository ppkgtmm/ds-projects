{
 "cells": [
  {
   "cell_type": "markdown",
   "id": "c1d22a88",
   "metadata": {
    "papermill": {
     "duration": 0.038455,
     "end_time": "2022-01-21T05:52:02.399134",
     "exception": false,
     "start_time": "2022-01-21T05:52:02.360679",
     "status": "completed"
    },
    "tags": []
   },
   "source": [
    "#### Import Required Libraries"
   ]
  },
  {
   "cell_type": "code",
   "execution_count": 1,
   "id": "ed7452c5",
   "metadata": {
    "_cell_guid": "b1076dfc-b9ad-4769-8c92-a6c4dae69d19",
    "_uuid": "8f2839f25d086af736a60e9eeb907d3b93b6e0e5",
    "execution": {
     "iopub.execute_input": "2022-01-21T05:52:02.512103Z",
     "iopub.status.busy": "2022-01-21T05:52:02.511086Z",
     "iopub.status.idle": "2022-01-21T05:52:08.964919Z",
     "shell.execute_reply": "2022-01-21T05:52:08.964067Z",
     "shell.execute_reply.started": "2022-01-21T05:16:10.367053Z"
    },
    "papermill": {
     "duration": 6.515719,
     "end_time": "2022-01-21T05:52:08.965103",
     "exception": false,
     "start_time": "2022-01-21T05:52:02.449384",
     "status": "completed"
    },
    "tags": []
   },
   "outputs": [],
   "source": [
    "import pandas as pd\n",
    "import seaborn as sns\n",
    "import matplotlib.pyplot as plt\n",
    "import tensorflow as tf\n",
    "import numpy as np\n",
    "from sklearn.metrics import classification_report, confusion_matrix, roc_auc_score, roc_curve\n",
    "from sklearn.utils import compute_class_weight\n",
    "from sklearn.model_selection import train_test_split\n",
    "from sklearn.naive_bayes import MultinomialNB\n",
    "from sklearn.feature_extraction.text import CountVectorizer\n",
    "import pickle\n",
    "\n",
    "plt.style.use('fivethirtyeight')"
   ]
  },
  {
   "cell_type": "markdown",
   "id": "34107b2d",
   "metadata": {
    "papermill": {
     "duration": 0.033901,
     "end_time": "2022-01-21T05:52:09.032418",
     "exception": false,
     "start_time": "2022-01-21T05:52:08.998517",
     "status": "completed"
    },
    "tags": []
   },
   "source": [
    "#### Load Data\n",
    "- load train and test data that were previously cleaned and stored as CSV file format"
   ]
  },
  {
   "cell_type": "code",
   "execution_count": 2,
   "id": "4eb9a739",
   "metadata": {
    "execution": {
     "iopub.execute_input": "2022-01-21T05:52:09.102377Z",
     "iopub.status.busy": "2022-01-21T05:52:09.101664Z",
     "iopub.status.idle": "2022-01-21T05:52:09.105936Z",
     "shell.execute_reply": "2022-01-21T05:52:09.105318Z",
     "shell.execute_reply.started": "2022-01-21T05:16:16.057609Z"
    },
    "papermill": {
     "duration": 0.040533,
     "end_time": "2022-01-21T05:52:09.106094",
     "exception": false,
     "start_time": "2022-01-21T05:52:09.065561",
     "status": "completed"
    },
    "tags": []
   },
   "outputs": [],
   "source": [
    "train_path = \"../input/amazon-cleaned-reviews/train.csv\"\n",
    "test_path = \"../input/amazon-cleaned-reviews/test.csv\"\n",
    "tokenizer_path = \"../input/amazon-cleaned-reviews/tokenizer.pkl\""
   ]
  },
  {
   "cell_type": "code",
   "execution_count": 3,
   "id": "6de3c000",
   "metadata": {
    "execution": {
     "iopub.execute_input": "2022-01-21T05:52:09.179900Z",
     "iopub.status.busy": "2022-01-21T05:52:09.179171Z",
     "iopub.status.idle": "2022-01-21T05:52:10.163663Z",
     "shell.execute_reply": "2022-01-21T05:52:10.164252Z",
     "shell.execute_reply.started": "2022-01-21T05:16:16.063010Z"
    },
    "papermill": {
     "duration": 1.025126,
     "end_time": "2022-01-21T05:52:10.164457",
     "exception": false,
     "start_time": "2022-01-21T05:52:09.139331",
     "status": "completed"
    },
    "tags": []
   },
   "outputs": [
    {
     "data": {
      "text/html": [
       "<div>\n",
       "<style scoped>\n",
       "    .dataframe tbody tr th:only-of-type {\n",
       "        vertical-align: middle;\n",
       "    }\n",
       "\n",
       "    .dataframe tbody tr th {\n",
       "        vertical-align: top;\n",
       "    }\n",
       "\n",
       "    .dataframe thead th {\n",
       "        text-align: right;\n",
       "    }\n",
       "</style>\n",
       "<table border=\"1\" class=\"dataframe\">\n",
       "  <thead>\n",
       "    <tr style=\"text-align: right;\">\n",
       "      <th></th>\n",
       "      <th>target</th>\n",
       "      <th>text</th>\n",
       "    </tr>\n",
       "  </thead>\n",
       "  <tbody>\n",
       "    <tr>\n",
       "      <th>0</th>\n",
       "      <td>positive</td>\n",
       "      <td>stuning even for the non gamer this sound trac...</td>\n",
       "    </tr>\n",
       "    <tr>\n",
       "      <th>1</th>\n",
       "      <td>positive</td>\n",
       "      <td>the best soundtrack ever to anything i am read...</td>\n",
       "    </tr>\n",
       "    <tr>\n",
       "      <th>2</th>\n",
       "      <td>positive</td>\n",
       "      <td>amazing this soundtrack is my favorite music o...</td>\n",
       "    </tr>\n",
       "    <tr>\n",
       "      <th>3</th>\n",
       "      <td>positive</td>\n",
       "      <td>excellent soundtrack i truly like this soundtr...</td>\n",
       "    </tr>\n",
       "    <tr>\n",
       "      <th>4</th>\n",
       "      <td>positive</td>\n",
       "      <td>remember pull your jaw off the floor after hea...</td>\n",
       "    </tr>\n",
       "  </tbody>\n",
       "</table>\n",
       "</div>"
      ],
      "text/plain": [
       "     target                                               text\n",
       "0  positive  stuning even for the non gamer this sound trac...\n",
       "1  positive  the best soundtrack ever to anything i am read...\n",
       "2  positive  amazing this soundtrack is my favorite music o...\n",
       "3  positive  excellent soundtrack i truly like this soundtr...\n",
       "4  positive  remember pull your jaw off the floor after hea..."
      ]
     },
     "execution_count": 3,
     "metadata": {},
     "output_type": "execute_result"
    }
   ],
   "source": [
    "train = pd.read_csv(train_path)\n",
    "test = pd.read_csv(test_path)\n",
    "\n",
    "train.head()"
   ]
  },
  {
   "cell_type": "code",
   "execution_count": 4,
   "id": "9ccb7a43",
   "metadata": {
    "execution": {
     "iopub.execute_input": "2022-01-21T05:52:10.244628Z",
     "iopub.status.busy": "2022-01-21T05:52:10.243580Z",
     "iopub.status.idle": "2022-01-21T05:52:10.248226Z",
     "shell.execute_reply": "2022-01-21T05:52:10.247585Z",
     "shell.execute_reply.started": "2022-01-21T05:16:17.191084Z"
    },
    "papermill": {
     "duration": 0.049569,
     "end_time": "2022-01-21T05:52:10.248382",
     "exception": false,
     "start_time": "2022-01-21T05:52:10.198813",
     "status": "completed"
    },
    "tags": []
   },
   "outputs": [
    {
     "data": {
      "text/html": [
       "<div>\n",
       "<style scoped>\n",
       "    .dataframe tbody tr th:only-of-type {\n",
       "        vertical-align: middle;\n",
       "    }\n",
       "\n",
       "    .dataframe tbody tr th {\n",
       "        vertical-align: top;\n",
       "    }\n",
       "\n",
       "    .dataframe thead th {\n",
       "        text-align: right;\n",
       "    }\n",
       "</style>\n",
       "<table border=\"1\" class=\"dataframe\">\n",
       "  <thead>\n",
       "    <tr style=\"text-align: right;\">\n",
       "      <th></th>\n",
       "      <th>target</th>\n",
       "      <th>text</th>\n",
       "    </tr>\n",
       "  </thead>\n",
       "  <tbody>\n",
       "    <tr>\n",
       "      <th>0</th>\n",
       "      <td>positive</td>\n",
       "      <td>great cd my lovely pat has one of the great vo...</td>\n",
       "    </tr>\n",
       "    <tr>\n",
       "      <th>1</th>\n",
       "      <td>positive</td>\n",
       "      <td>one of the best game music soundtracks for a g...</td>\n",
       "    </tr>\n",
       "    <tr>\n",
       "      <th>2</th>\n",
       "      <td>negative</td>\n",
       "      <td>batteries died within a year i bought this cha...</td>\n",
       "    </tr>\n",
       "    <tr>\n",
       "      <th>3</th>\n",
       "      <td>positive</td>\n",
       "      <td>works fine but maha energy is better check out...</td>\n",
       "    </tr>\n",
       "    <tr>\n",
       "      <th>4</th>\n",
       "      <td>positive</td>\n",
       "      <td>great for the non audiophile reviewed quite a ...</td>\n",
       "    </tr>\n",
       "  </tbody>\n",
       "</table>\n",
       "</div>"
      ],
      "text/plain": [
       "     target                                               text\n",
       "0  positive  great cd my lovely pat has one of the great vo...\n",
       "1  positive  one of the best game music soundtracks for a g...\n",
       "2  negative  batteries died within a year i bought this cha...\n",
       "3  positive  works fine but maha energy is better check out...\n",
       "4  positive  great for the non audiophile reviewed quite a ..."
      ]
     },
     "execution_count": 4,
     "metadata": {},
     "output_type": "execute_result"
    }
   ],
   "source": [
    "test.head()"
   ]
  },
  {
   "cell_type": "markdown",
   "id": "f24a9a70",
   "metadata": {
    "papermill": {
     "duration": 0.035834,
     "end_time": "2022-01-21T05:52:28.229159",
     "exception": false,
     "start_time": "2022-01-21T05:52:28.193325",
     "status": "completed"
    },
    "tags": []
   },
   "source": [
    "#### Data Splitting\n",
    "- split data into train set for model training and validation set for model as well as hyperparameter selection"
   ]
  },
  {
   "cell_type": "code",
   "execution_count": 12,
   "id": "c607a90e",
   "metadata": {
    "execution": {
     "iopub.execute_input": "2022-01-21T05:52:28.308006Z",
     "iopub.status.busy": "2022-01-21T05:52:28.306906Z",
     "iopub.status.idle": "2022-01-21T05:52:28.424607Z",
     "shell.execute_reply": "2022-01-21T05:52:28.424017Z",
     "shell.execute_reply.started": "2022-01-21T05:16:28.897441Z"
    },
    "papermill": {
     "duration": 0.159402,
     "end_time": "2022-01-21T05:52:28.424822",
     "exception": false,
     "start_time": "2022-01-21T05:52:28.265420",
     "status": "completed"
    },
    "tags": []
   },
   "outputs": [],
   "source": [
    "train_text, val_text, train_target, val_target = train_test_split(train['text'], train['target'], test_size=0.15, random_state=42, stratify=train['target'])\n",
    "test_text, test_target = test['text'], test['target']\n",
    "\n",
    "print('train input shape {}, train target shape {}'.format(train_text.shape, train_target.shape))\n",
    "print('val input shape {}, val target shape {}'.format(val_text.shape, val_target.shape))\n",
    "print('test input shape {}, test target shape {}'.format(test_text.shape, test_target.shape))"
   ]
  },
  {
   "cell_type": "markdown",
   "id": "6b1cf2aa",
   "metadata": {
    "papermill": {
     "duration": 0.033988,
     "end_time": "2022-01-21T05:52:10.319113",
     "exception": false,
     "start_time": "2022-01-21T05:52:10.285125",
     "status": "completed"
    },
    "tags": []
   },
   "source": [
    "#### Word Tokenization\n",
    "- load fitted tokenizer which is used to map text (sequence of words) into sequence of numbers\n",
    "- use tokenizer to label encode top 15K - 1 most common words\n",
    "- words that are unknown to tokenizer and model will be encoded as 1 because 0 is reserved to use for padding the transformed word sequences"
   ]
  },
  {
   "cell_type": "code",
   "execution_count": 5,
   "id": "cf630ef8",
   "metadata": {
    "execution": {
     "iopub.execute_input": "2022-01-21T05:52:10.396593Z",
     "iopub.status.busy": "2022-01-21T05:52:10.395787Z",
     "iopub.status.idle": "2022-01-21T05:52:16.964392Z",
     "shell.execute_reply": "2022-01-21T05:52:16.964965Z",
     "shell.execute_reply.started": "2022-01-21T05:16:17.201837Z"
    },
    "papermill": {
     "duration": 6.611374,
     "end_time": "2022-01-21T05:52:16.965172",
     "exception": false,
     "start_time": "2022-01-21T05:52:10.353798",
     "status": "completed"
    },
    "tags": []
   },
   "outputs": [],
   "source": [
    "MAX_FEATURES = 15e3\n",
    "\n",
    "tokenizer = pickle.load(open(tokenizer_path, \"rb\"))\n",
    "\n",
    "train_tokens = tokenizer.texts_to_sequences(train_text)\n",
    "val_tokens = tokenizer.texts_to_sequences(val_text)\n",
    "test_tokens = tokenizer.texts_to_sequences(test_text)"
   ]
  },
  {
   "cell_type": "markdown",
   "id": "c62045ce",
   "metadata": {
    "papermill": {
     "duration": 0.033963,
     "end_time": "2022-01-21T05:52:17.033563",
     "exception": false,
     "start_time": "2022-01-21T05:52:16.999600",
     "status": "completed"
    },
    "tags": []
   },
   "source": [
    "#### Target Transformation\n",
    "- inverse transform labels from string to integer as model accepts numeric target"
   ]
  },
  {
   "cell_type": "code",
   "execution_count": 6,
   "id": "2b3eecca",
   "metadata": {
    "execution": {
     "iopub.execute_input": "2022-01-21T05:52:17.120439Z",
     "iopub.status.busy": "2022-01-21T05:52:17.108309Z",
     "iopub.status.idle": "2022-01-21T05:52:17.129991Z",
     "shell.execute_reply": "2022-01-21T05:52:17.129321Z",
     "shell.execute_reply.started": "2022-01-21T05:16:22.092208Z"
    },
    "papermill": {
     "duration": 0.062509,
     "end_time": "2022-01-21T05:52:17.130163",
     "exception": false,
     "start_time": "2022-01-21T05:52:17.067654",
     "status": "completed"
    },
    "tags": []
   },
   "outputs": [],
   "source": [
    "reverse_map = {\"positive\": 1, \"negative\": 0}\n",
    "\n",
    "encoded_train = train_target.map(reverse_map)\n",
    "encoded_val = val_target.map(reverse_map)\n",
    "encoded_test = test['target'].map(reverse_map)"
   ]
  },
  {
   "cell_type": "markdown",
   "id": "fd4df319",
   "metadata": {
    "papermill": {
     "duration": 0.034166,
     "end_time": "2022-01-21T05:52:17.199065",
     "exception": false,
     "start_time": "2022-01-21T05:52:17.164899",
     "status": "completed"
    },
    "tags": []
   },
   "source": [
    "#### Naive Bayes\n",
    "- use Multinomial Naive Bayes for text classification \n",
    "- in Multinomial Naive Bayes, probability of text input belonging each target class given words in the text is calculated\n",
    "- among the target classes, class with maximum probability is picked"
   ]
  },
  {
   "cell_type": "code",
   "execution_count": 7,
   "id": "3dbe07a5",
   "metadata": {
    "execution": {
     "iopub.execute_input": "2022-01-21T05:52:17.275833Z",
     "iopub.status.busy": "2022-01-21T05:52:17.274817Z",
     "iopub.status.idle": "2022-01-21T05:52:17.278107Z",
     "shell.execute_reply": "2022-01-21T05:52:17.277395Z",
     "shell.execute_reply.started": "2022-01-21T05:16:22.112811Z"
    },
    "papermill": {
     "duration": 0.044949,
     "end_time": "2022-01-21T05:52:17.278276",
     "exception": false,
     "start_time": "2022-01-21T05:52:17.233327",
     "status": "completed"
    },
    "tags": []
   },
   "outputs": [],
   "source": [
    "# plot confusion matrix\n",
    "def plot_confmat(y_true, predictions):\n",
    "    labels = ['negative', 'positive']\n",
    "\n",
    "    conf_mat = confusion_matrix(y_true, predictions, normalize='true')\n",
    "\n",
    "    plt.figure(figsize=(8,5))\n",
    "    sns.heatmap(pd.DataFrame(conf_mat, columns=labels, index=labels), annot=True, fmt='.2f')\n",
    "    plt.ylabel('Actual label')\n",
    "    plt.xlabel('Predicted label')\n",
    "    plt.title('Confusion matrix of test data')\n",
    "    plt.show()"
   ]
  },
  {
   "cell_type": "markdown",
   "id": "7f7bd9c4",
   "metadata": {
    "papermill": {
     "duration": 0.0339,
     "end_time": "2022-01-21T05:52:17.415590",
     "exception": false,
     "start_time": "2022-01-21T05:52:17.381690",
     "status": "completed"
    },
    "tags": []
   },
   "source": [
    "- use CountVectorizer to count occurrence of words in sentences\n",
    "- occurrence of word is later used by Naive Bayes to estimate probability"
   ]
  },
  {
   "cell_type": "code",
   "execution_count": 8,
   "id": "c9706854",
   "metadata": {
    "execution": {
     "iopub.execute_input": "2022-01-21T05:52:17.494093Z",
     "iopub.status.busy": "2022-01-21T05:52:17.493342Z",
     "iopub.status.idle": "2022-01-21T05:52:27.492491Z",
     "shell.execute_reply": "2022-01-21T05:52:27.491821Z",
     "shell.execute_reply.started": "2022-01-21T05:16:22.119920Z"
    },
    "papermill": {
     "duration": 10.042831,
     "end_time": "2022-01-21T05:52:27.492669",
     "exception": false,
     "start_time": "2022-01-21T05:52:17.449838",
     "status": "completed"
    },
    "tags": []
   },
   "outputs": [],
   "source": [
    "count_vec = CountVectorizer(analyzer='word', ngram_range=(1, 1))\n",
    "\n",
    "counts_train = count_vec.fit_transform(train_text)\n",
    "counts_val = count_vec.transform(val_text)\n",
    "counts_test = count_vec.transform(test_text)"
   ]
  },
  {
   "cell_type": "code",
   "execution_count": 9,
   "id": "4fac1abb",
   "metadata": {
    "execution": {
     "iopub.execute_input": "2022-01-21T05:52:27.567290Z",
     "iopub.status.busy": "2022-01-21T05:52:27.566577Z",
     "iopub.status.idle": "2022-01-21T05:52:27.624554Z",
     "shell.execute_reply": "2022-01-21T05:52:27.623898Z",
     "shell.execute_reply.started": "2022-01-21T05:16:28.621130Z"
    },
    "papermill": {
     "duration": 0.097733,
     "end_time": "2022-01-21T05:52:27.624750",
     "exception": false,
     "start_time": "2022-01-21T05:52:27.527017",
     "status": "completed"
    },
    "tags": []
   },
   "outputs": [],
   "source": [
    "nb = MultinomialNB()\n",
    "nb.fit(counts_train, encoded_train)\n",
    "\n",
    "preds_nb_val = nb.predict(counts_val)\n",
    "preds_nb_test = nb.predict(counts_test)"
   ]
  },
  {
   "cell_type": "markdown",
   "id": "3d3f1011",
   "metadata": {
    "papermill": {
     "duration": 0.033723,
     "end_time": "2022-01-21T05:52:27.692302",
     "exception": false,
     "start_time": "2022-01-21T05:52:27.658579",
     "status": "completed"
    },
    "tags": []
   },
   "source": [
    "#### Naive Bayes Evaluation"
   ]
  },
  {
   "cell_type": "code",
   "execution_count": null,
   "id": "2149e147",
   "metadata": {},
   "outputs": [],
   "source": [
    "print(\"ROC AUC score on test set: {0:.4}\".format(roc_auc_score(encoded_test, preds_nb_test)))\n",
    "\n",
    "fpr, tpr, thresholds = roc_curve(encoded_val, preds_nb_val)\n",
    "optimal_threshold = thresholds[np.argmax(tpr - fpr, axis=0)]\n",
    "print(\"Optimal threshold on validation set: {0:.4}\".format(optimal_threshold))"
   ]
  },
  {
   "cell_type": "code",
   "execution_count": 10,
   "id": "142e9cc8",
   "metadata": {
    "execution": {
     "iopub.execute_input": "2022-01-21T05:52:27.766317Z",
     "iopub.status.busy": "2022-01-21T05:52:27.765218Z",
     "iopub.status.idle": "2022-01-21T05:52:27.776999Z",
     "shell.execute_reply": "2022-01-21T05:52:27.777654Z",
     "shell.execute_reply.started": "2022-01-21T05:16:28.681446Z"
    },
    "papermill": {
     "duration": 0.051677,
     "end_time": "2022-01-21T05:52:27.777856",
     "exception": false,
     "start_time": "2022-01-21T05:52:27.726179",
     "status": "completed"
    },
    "tags": []
   },
   "outputs": [
    {
     "name": "stdout",
     "output_type": "stream",
     "text": [
      "              precision    recall  f1-score   support\n",
      "\n",
      "           0       0.83      0.87      0.85      1437\n",
      "           1       0.87      0.83      0.85      1563\n",
      "\n",
      "    accuracy                           0.85      3000\n",
      "   macro avg       0.85      0.85      0.85      3000\n",
      "weighted avg       0.85      0.85      0.85      3000\n",
      "\n"
     ]
    }
   ],
   "source": [
    "print(classification_report(encoded_test, preds_nb_test))"
   ]
  },
  {
   "cell_type": "code",
   "execution_count": 11,
   "id": "17a46563",
   "metadata": {
    "execution": {
     "iopub.execute_input": "2022-01-21T05:52:27.849946Z",
     "iopub.status.busy": "2022-01-21T05:52:27.849194Z",
     "iopub.status.idle": "2022-01-21T05:52:28.157139Z",
     "shell.execute_reply": "2022-01-21T05:52:28.156493Z",
     "shell.execute_reply.started": "2022-01-21T05:16:28.695671Z"
    },
    "papermill": {
     "duration": 0.345406,
     "end_time": "2022-01-21T05:52:28.157302",
     "exception": false,
     "start_time": "2022-01-21T05:52:27.811896",
     "status": "completed"
    },
    "tags": []
   },
   "outputs": [
    {
     "data": {
      "image/png": "[encoded data removed]",
      "text/plain": [
       "<Figure size 576x360 with 2 Axes>"
      ]
     },
     "metadata": {},
     "output_type": "display_data"
    }
   ],
   "source": [
    "plot_confmat(encoded_test, preds_nb)"
   ]
  },
  {
   "cell_type": "markdown",
   "id": "be9c52e9",
   "metadata": {},
   "source": [
    "- the F1 score from Naive Bayes model for both target classes turned out to be 0.85\n",
    "- the classification report says that some of positive texts are being predicted as negative\n",
    "- nevertheless, we should note that Naive Bayes does not take the order of words into account for classifying texts"
   ]
  },
  {
   "cell_type": "markdown",
   "id": "976d271e",
   "metadata": {
    "papermill": {
     "duration": 0.035586,
     "end_time": "2022-01-21T05:52:28.496654",
     "exception": false,
     "start_time": "2022-01-21T05:52:28.461068",
     "status": "completed"
    },
    "tags": []
   },
   "source": [
    "#### Prepare Dataset\n",
    "- create tf dataset with batch size 128 to use with model\n",
    "    - small batch size take long to train\n",
    "    - large batch size i.e. small no. of steps reduce chance of getting optimal weights sometimes\n",
    "- from searching, it was recommended to use batch size not larger than 500\n",
    "- texts will be kept as ragged tensors because ragged tensor length can be flexible which means prediction can be made on text with any length as long as the text fit in memory"
   ]
  },
  {
   "cell_type": "code",
   "execution_count": 13,
   "id": "9bab6ff9",
   "metadata": {
    "execution": {
     "iopub.execute_input": "2022-01-21T05:52:28.578695Z",
     "iopub.status.busy": "2022-01-21T05:52:28.577975Z",
     "iopub.status.idle": "2022-01-21T05:53:03.619413Z",
     "shell.execute_reply": "2022-01-21T05:53:03.618720Z",
     "shell.execute_reply.started": "2022-01-21T05:16:28.981617Z"
    },
    "papermill": {
     "duration": 35.086228,
     "end_time": "2022-01-21T05:53:03.619575",
     "exception": false,
     "start_time": "2022-01-21T05:52:28.533347",
     "status": "completed"
    },
    "tags": []
   },
   "outputs": [
    {
     "name": "stderr",
     "output_type": "stream",
     "text": [
      "\n",
      "User settings:\n",
      "\n",
      "   KMP_AFFINITY=granularity=fine,verbose,compact,1,0\n",
      "   KMP_BLOCKTIME=0\n",
      "   KMP_DUPLICATE_LIB_OK=True\n",
      "   KMP_INIT_AT_FORK=FALSE\n",
      "   KMP_SETTINGS=1\n",
      "   KMP_WARNINGS=0\n",
      "\n",
      "Effective settings:\n",
      "\n",
      "   KMP_ABORT_DELAY=0\n",
      "   KMP_ADAPTIVE_LOCK_PROPS='1,1024'\n",
      "   KMP_ALIGN_ALLOC=64\n",
      "   KMP_ALL_THREADPRIVATE=128\n",
      "   KMP_ATOMIC_MODE=2\n",
      "   KMP_BLOCKTIME=0\n",
      "   KMP_CPUINFO_FILE: value is not defined\n",
      "   KMP_DETERMINISTIC_REDUCTION=false\n",
      "   KMP_DEVICE_THREAD_LIMIT=2147483647\n",
      "   KMP_DISP_NUM_BUFFERS=7\n",
      "   KMP_DUPLICATE_LIB_OK=true\n",
      "   KMP_ENABLE_TASK_THROTTLING=true\n",
      "   KMP_FORCE_REDUCTION: value is not defined\n",
      "   KMP_FOREIGN_THREADS_THREADPRIVATE=true\n",
      "   KMP_FORKJOIN_BARRIER='2,2'\n",
      "   KMP_FORKJOIN_BARRIER_PATTERN='hyper,hyper'\n",
      "   KMP_GTID_MODE=3\n",
      "   KMP_HANDLE_SIGNALS=false\n",
      "   KMP_HOT_TEAMS_MAX_LEVEL=1\n",
      "   KMP_HOT_TEAMS_MODE=0\n",
      "   KMP_INIT_AT_FORK=true\n",
      "   KMP_LIBRARY=throughput\n",
      "   KMP_LOCK_KIND=queuing\n",
      "   KMP_MALLOC_POOL_INCR=1M\n",
      "   KMP_NUM_LOCKS_IN_BLOCK=1\n",
      "   KMP_PLAIN_BARRIER='2,2'\n",
      "   KMP_PLAIN_BARRIER_PATTERN='hyper,hyper'\n",
      "   KMP_REDUCTION_BARRIER='1,1'\n",
      "   KMP_REDUCTION_BARRIER_PATTERN='hyper,hyper'\n",
      "   KMP_SCHEDULE='static,balanced;guided,iterative'\n",
      "   KMP_SETTINGS=true\n",
      "   KMP_SPIN_BACKOFF_PARAMS='4096,100'\n",
      "   KMP_STACKOFFSET=64\n",
      "   KMP_STACKPAD=0\n",
      "   KMP_STACKSIZE=8M\n",
      "   KMP_STORAGE_MAP=false\n",
      "   KMP_TASKING=2\n",
      "   KMP_TASKLOOP_MIN_TASKS=0\n",
      "   KMP_TASK_STEALING_CONSTRAINT=1\n",
      "   KMP_TEAMS_THREAD_LIMIT=4\n",
      "   KMP_TOPOLOGY_METHOD=all\n",
      "   KMP_USE_YIELD=1\n",
      "   KMP_VERSION=false\n",
      "   KMP_WARNINGS=false\n",
      "   OMP_AFFINITY_FORMAT='OMP: pid %P tid %i thread %n bound to OS proc set {%A}'\n",
      "   OMP_ALLOCATOR=omp_default_mem_alloc\n",
      "   OMP_CANCELLATION=false\n",
      "   OMP_DEFAULT_DEVICE=0\n",
      "   OMP_DISPLAY_AFFINITY=false\n",
      "   OMP_DISPLAY_ENV=false\n",
      "   OMP_DYNAMIC=false\n",
      "   OMP_MAX_ACTIVE_LEVELS=1\n",
      "   OMP_MAX_TASK_PRIORITY=0\n",
      "   OMP_NESTED: deprecated; max-active-levels-var=1\n",
      "   OMP_NUM_THREADS: value is not defined\n",
      "   OMP_PLACES: value is not defined\n",
      "   OMP_PROC_BIND='intel'\n",
      "   OMP_SCHEDULE='static'\n",
      "   OMP_STACKSIZE=8M\n",
      "   OMP_TARGET_OFFLOAD=DEFAULT\n",
      "   OMP_THREAD_LIMIT=2147483647\n",
      "   OMP_WAIT_POLICY=PASSIVE\n",
      "   KMP_AFFINITY='verbose,warnings,respect,granularity=fine,compact,1,0'\n",
      "\n",
      "2022-01-21 05:52:55.635809: I tensorflow/core/common_runtime/process_util.cc:146] Creating new thread pool with default inter op setting: 2. Tune using inter_op_parallelism_threads for best performance.\n"
     ]
    }
   ],
   "source": [
    "train_data = tf.data.Dataset.from_tensor_slices((tf.ragged.constant(train_text), train_target)).batch(128)\n",
    "val_data = tf.data.Dataset.from_tensor_slices((tf.ragged.constant(val_text), val_target)).batch(128)\n",
    "test_data = tf.data.Dataset.from_tensor_slices((tf.ragged.constant(test_tokens), encoded_test)).batch(128)"
   ]
  },
  {
   "cell_type": "code",
   "execution_count": 14,
   "id": "e85db583",
   "metadata": {
    "execution": {
     "iopub.execute_input": "2022-01-21T05:53:03.699755Z",
     "iopub.status.busy": "2022-01-21T05:53:03.698800Z",
     "iopub.status.idle": "2022-01-21T05:53:03.701960Z",
     "shell.execute_reply": "2022-01-21T05:53:03.701370Z",
     "shell.execute_reply.started": "2022-01-21T05:16:49.439273Z"
    },
    "papermill": {
     "duration": 0.046226,
     "end_time": "2022-01-21T05:53:03.702125",
     "exception": false,
     "start_time": "2022-01-21T05:53:03.655899",
     "status": "completed"
    },
    "tags": []
   },
   "outputs": [],
   "source": [
    "# returns a bunch of useful callbacks\n",
    "def get_callbacks(file_path):\n",
    "    return [\n",
    "        tf.keras.callbacks.ReduceLROnPlateau(monitor='val_loss', mode='min', factor=0.3, patience=1, min_lr=0.00001),\n",
    "        tf.keras.callbacks.ModelCheckpoint(filepath=file_path, monitor='val_loss', mode='min', save_best_only=True),\n",
    "        tf.keras.callbacks.EarlyStopping(monitor='val_loss', mode='min', restore_best_weights=True, min_delta=1e-8, patience=3)\n",
    "    ]"
   ]
  },
  {
   "cell_type": "code",
   "execution_count": 15,
   "id": "2a0ce416",
   "metadata": {
    "execution": {
     "iopub.execute_input": "2022-01-21T05:53:03.784536Z",
     "iopub.status.busy": "2022-01-21T05:53:03.783831Z",
     "iopub.status.idle": "2022-01-21T05:53:03.787009Z",
     "shell.execute_reply": "2022-01-21T05:53:03.786383Z",
     "shell.execute_reply.started": "2022-01-21T05:16:49.448670Z"
    },
    "papermill": {
     "duration": 0.0479,
     "end_time": "2022-01-21T05:53:03.787171",
     "exception": false,
     "start_time": "2022-01-21T05:53:03.739271",
     "status": "completed"
    },
    "tags": []
   },
   "outputs": [],
   "source": [
    "# plot learning curve\n",
    "def plot_history(history):\n",
    "    get_plot_data = lambda metric: [np.arange(len(metric)) + 1, metric]\n",
    "\n",
    "    plt.figure(figsize=(10,5))\n",
    "\n",
    "    plt.plot(*get_plot_data(history.history['loss']))\n",
    "    plt.plot(*get_plot_data(history.history['accuracy']))\n",
    "    plt.plot(*get_plot_data(history.history['val_loss']))\n",
    "    plt.plot(*get_plot_data(history.history['val_accuracy']))\n",
    "\n",
    "    plt.title('Model performance')\n",
    "    plt.legend(list(history.history.keys())[:-1])\n",
    "    plt.xlabel('Epoch')\n",
    "    plt.ylabel('Value')\n",
    "    plt.show()"
   ]
  },
  {
   "cell_type": "markdown",
   "id": "5eb83d31",
   "metadata": {
    "papermill": {
     "duration": 0.036057,
     "end_time": "2022-01-21T05:53:03.859384",
     "exception": false,
     "start_time": "2022-01-21T05:53:03.823327",
     "status": "completed"
    },
    "tags": []
   },
   "source": [
    "#### Model Training\n",
    "- use balanced class weight to charge higher for incorrect predictions on minority class which could make model performance nearly even on both classes"
   ]
  },
  {
   "cell_type": "code",
   "execution_count": 16,
   "id": "54cf8391",
   "metadata": {
    "execution": {
     "iopub.execute_input": "2022-01-21T05:53:04.028672Z",
     "iopub.status.busy": "2022-01-21T05:53:03.937565Z",
     "iopub.status.idle": "2022-01-21T05:53:04.060922Z",
     "shell.execute_reply": "2022-01-21T05:53:04.059923Z",
     "shell.execute_reply.started": "2022-01-21T05:16:49.464101Z"
    },
    "papermill": {
     "duration": 0.164873,
     "end_time": "2022-01-21T05:53:04.061087",
     "exception": false,
     "start_time": "2022-01-21T05:53:03.896214",
     "status": "completed"
    },
    "tags": []
   },
   "outputs": [],
   "source": [
    "class_weight = compute_class_weight(class_weight='balanced', classes=np.unique(train['target']), y=train['target'])\n",
    "class_weight = dict(enumerate(class_weight))"
   ]
  },
  {
   "cell_type": "markdown",
   "id": "142a8642",
   "metadata": {
    "papermill": {
     "duration": 0.035788,
     "end_time": "2022-01-21T05:53:04.132980",
     "exception": false,
     "start_time": "2022-01-21T05:53:04.097192",
     "status": "completed"
    },
    "tags": []
   },
   "source": [
    "- model uses Embedding Layer to represent words in texts as aspects\n",
    "- LSTM is used to help accumulate information from previous parts of sentence while throwing away unimportant information in order to predict sentiment at the end\n",
    "- LSTMs can use information from words encountered in the sentence long ago to make prediction as opposed to vanilla RNNs"
   ]
  },
  {
   "cell_type": "code",
   "execution_count": 17,
   "id": "58a4871b",
   "metadata": {
    "execution": {
     "iopub.execute_input": "2022-01-21T05:53:04.209717Z",
     "iopub.status.busy": "2022-01-21T05:53:04.208632Z",
     "iopub.status.idle": "2022-01-21T05:53:05.578826Z",
     "shell.execute_reply": "2022-01-21T05:53:05.578222Z",
     "shell.execute_reply.started": "2022-01-21T05:16:49.561106Z"
    },
    "papermill": {
     "duration": 1.410025,
     "end_time": "2022-01-21T05:53:05.578999",
     "exception": false,
     "start_time": "2022-01-21T05:53:04.168974",
     "status": "completed"
    },
    "tags": []
   },
   "outputs": [],
   "source": [
    "LSTM_model = tf.keras.Sequential([\n",
    "    tf.keras.layers.Input(shape=[None], dtype=tf.int32, ragged=True),\n",
    "    tf.keras.layers.Embedding(int(MAX_FEATURES), 128),\n",
    "    tf.keras.layers.LSTM(2),\n",
    "    tf.keras.layers.Dense(1, activation='sigmoid')\n",
    "])\n",
    "\n",
    "LSTM_model.compile(optimizer='rmsprop', loss='binary_crossentropy', metrics=['accuracy'])"
   ]
  },
  {
   "cell_type": "code",
   "execution_count": 18,
   "id": "81d8ed19",
   "metadata": {
    "execution": {
     "iopub.execute_input": "2022-01-21T05:53:05.659639Z",
     "iopub.status.busy": "2022-01-21T05:53:05.658454Z",
     "iopub.status.idle": "2022-01-21T06:15:57.059748Z",
     "shell.execute_reply": "2022-01-21T06:15:57.058637Z",
     "shell.execute_reply.started": "2022-01-21T05:16:50.750002Z"
    },
    "papermill": {
     "duration": 1371.442787,
     "end_time": "2022-01-21T06:15:57.059919",
     "exception": false,
     "start_time": "2022-01-21T05:53:05.617132",
     "status": "completed"
    },
    "tags": []
   },
   "outputs": [
    {
     "name": "stderr",
     "output_type": "stream",
     "text": [
      "2022-01-21 05:53:05.727471: I tensorflow/compiler/mlir/mlir_graph_optimization_pass.cc:185] None of the MLIR Optimization Passes are enabled (registered 2)\n"
     ]
    },
    {
     "name": "stdout",
     "output_type": "stream",
     "text": [
      "Epoch 1/15\n"
     ]
    },
    {
     "name": "stderr",
     "output_type": "stream",
     "text": [
      "/opt/conda/lib/python3.7/site-packages/tensorflow/python/framework/indexed_slices.py:449: UserWarning: Converting sparse IndexedSlices(IndexedSlices(indices=Tensor(\"gradient_tape/sequential/lstm/RaggedToTensor/boolean_mask_1/GatherV2:0\", shape=(None,), dtype=int32), values=Tensor(\"gradient_tape/sequential/lstm/RaggedToTensor/boolean_mask/GatherV2:0\", shape=(None, 128), dtype=float32), dense_shape=Tensor(\"gradient_tape/sequential/lstm/RaggedToTensor/Shape:0\", shape=(2,), dtype=int32))) to a dense Tensor of unknown shape. This may consume a large amount of memory.\n",
      "  \"shape. This may consume a large amount of memory.\" % value)\n"
     ]
    },
    {
     "name": "stdout",
     "output_type": "stream",
     "text": [
      "625/625 [==============================] - 120s 187ms/step - loss: 0.4645 - accuracy: 0.8258 - val_loss: 0.3758 - val_accuracy: 0.8554\n",
      "Epoch 2/15\n",
      "625/625 [==============================] - 117s 187ms/step - loss: 0.3129 - accuracy: 0.8857 - val_loss: 0.3561 - val_accuracy: 0.8618\n",
      "Epoch 3/15\n",
      "625/625 [==============================] - 118s 189ms/step - loss: 0.2731 - accuracy: 0.9005 - val_loss: 0.3052 - val_accuracy: 0.8891\n",
      "Epoch 4/15\n",
      "625/625 [==============================] - 117s 187ms/step - loss: 0.2465 - accuracy: 0.9123 - val_loss: 0.2975 - val_accuracy: 0.8924\n",
      "Epoch 5/15\n",
      "625/625 [==============================] - 117s 187ms/step - loss: 0.2247 - accuracy: 0.9205 - val_loss: 0.2933 - val_accuracy: 0.8932\n",
      "Epoch 6/15\n",
      "625/625 [==============================] - 117s 187ms/step - loss: 0.2074 - accuracy: 0.9273 - val_loss: 0.2900 - val_accuracy: 0.8945\n",
      "Epoch 7/15\n",
      "625/625 [==============================] - 118s 188ms/step - loss: 0.1921 - accuracy: 0.9333 - val_loss: 0.2882 - val_accuracy: 0.8957\n",
      "Epoch 8/15\n",
      "625/625 [==============================] - 116s 186ms/step - loss: 0.1793 - accuracy: 0.9385 - val_loss: 0.2914 - val_accuracy: 0.8952\n",
      "Epoch 9/15\n",
      "625/625 [==============================] - 117s 187ms/step - loss: 0.1551 - accuracy: 0.9477 - val_loss: 0.2987 - val_accuracy: 0.8942\n",
      "Epoch 10/15\n",
      "625/625 [==============================] - 116s 186ms/step - loss: 0.1449 - accuracy: 0.9524 - val_loss: 0.3016 - val_accuracy: 0.8943\n"
     ]
    }
   ],
   "source": [
    "LSTM_history = LSTM_model.fit(train_data, epochs=15, validation_data=val_data, callbacks=get_callbacks('LSTM_model.h5'), class_weight=class_weight)"
   ]
  },
  {
   "cell_type": "code",
   "execution_count": 19,
   "id": "903e4341",
   "metadata": {
    "execution": {
     "iopub.execute_input": "2022-01-21T06:16:01.500986Z",
     "iopub.status.busy": "2022-01-21T06:16:01.500151Z",
     "iopub.status.idle": "2022-01-21T06:16:01.785350Z",
     "shell.execute_reply": "2022-01-21T06:16:01.784610Z",
     "shell.execute_reply.started": "2022-01-21T05:39:45.948394Z"
    },
    "papermill": {
     "duration": 2.547034,
     "end_time": "2022-01-21T06:16:01.785517",
     "exception": false,
     "start_time": "2022-01-21T06:15:59.238483",
     "status": "completed"
    },
    "tags": []
   },
   "outputs": [
    {
     "data": {
      "image/png": "[encoded data removed]",
      "text/plain": [
       "<Figure size 720x360 with 1 Axes>"
      ]
     },
     "metadata": {},
     "output_type": "display_data"
    }
   ],
   "source": [
    "plot_history(LSTM_history)"
   ]
  },
  {
   "cell_type": "markdown",
   "id": "57e5da56",
   "metadata": {
    "papermill": {
     "duration": 2.199878,
     "end_time": "2022-01-21T06:16:06.218576",
     "exception": false,
     "start_time": "2022-01-21T06:16:04.018698",
     "status": "completed"
    },
    "tags": []
   },
   "source": [
    "- the validation loss has decreased by more than 0.06 in 2 nd epoch and began to slowly decrease after that until 8 th epoch\n",
    "- from epoch 9 onwards, validation accuracy seems to still improve but the loss has not improve though after decreasing learning rate which made the model early stopped"
   ]
  },
  {
   "cell_type": "markdown",
   "id": "25c1fcc7",
   "metadata": {
    "papermill": {
     "duration": 2.175526,
     "end_time": "2022-01-21T06:16:10.588813",
     "exception": false,
     "start_time": "2022-01-21T06:16:08.413287",
     "status": "completed"
    },
    "tags": []
   },
   "source": [
    "- embedding dimension was increased to 128 from 32 as it helped to better predict sentiment of test data\n",
    "- increasing the no. of hidden layers in LSTM did not make much improvement in test score\n",
    "- thus, the no. of LSTM hidden layers is decided to kept small in order to reduce the complexity and prediction time\n",
    "- originally, adam optimizer was used but the validation loss did not improved much after first few epochs"
   ]
  },
  {
   "cell_type": "code",
   "execution_count": 20,
   "id": "7b90a1cd",
   "metadata": {
    "execution": {
     "iopub.execute_input": "2022-01-21T06:16:15.066433Z",
     "iopub.status.busy": "2022-01-21T06:16:15.065679Z",
     "iopub.status.idle": "2022-01-21T06:16:15.532072Z",
     "shell.execute_reply": "2022-01-21T06:16:15.531205Z",
     "shell.execute_reply.started": "2022-01-21T05:39:46.149374Z"
    },
    "papermill": {
     "duration": 2.697022,
     "end_time": "2022-01-21T06:16:15.532244",
     "exception": false,
     "start_time": "2022-01-21T06:16:12.835222",
     "status": "completed"
    },
    "tags": []
   },
   "outputs": [],
   "source": [
    "LSTM_model2 = tf.keras.Sequential([\n",
    "    tf.keras.layers.Input(shape=[None], dtype=tf.int32, ragged=True),\n",
    "    tf.keras.layers.Embedding(int(MAX_FEATURES), 128),\n",
    "    tf.keras.layers.LSTM(2),\n",
    "    tf.keras.layers.Dense(128, activation='elu'),\n",
    "#     tf.keras.layers.Dropout(0.3),\n",
    "    tf.keras.layers.Dense(1, activation='sigmoid')\n",
    "])\n",
    "\n",
    "LSTM_model2.compile(optimizer='rmsprop', loss='binary_crossentropy', metrics=['accuracy'])"
   ]
  },
  {
   "cell_type": "code",
   "execution_count": 21,
   "id": "89b23270",
   "metadata": {
    "execution": {
     "iopub.execute_input": "2022-01-21T06:16:20.003257Z",
     "iopub.status.busy": "2022-01-21T06:16:20.002112Z",
     "iopub.status.idle": "2022-01-21T06:36:01.771504Z",
     "shell.execute_reply": "2022-01-21T06:36:01.772063Z",
     "shell.execute_reply.started": "2022-01-21T05:39:46.268854Z"
    },
    "papermill": {
     "duration": 1183.994387,
     "end_time": "2022-01-21T06:36:01.772285",
     "exception": false,
     "start_time": "2022-01-21T06:16:17.777898",
     "status": "completed"
    },
    "tags": []
   },
   "outputs": [
    {
     "name": "stdout",
     "output_type": "stream",
     "text": [
      "Epoch 1/15\n"
     ]
    },
    {
     "name": "stderr",
     "output_type": "stream",
     "text": [
      "/opt/conda/lib/python3.7/site-packages/tensorflow/python/framework/indexed_slices.py:449: UserWarning: Converting sparse IndexedSlices(IndexedSlices(indices=Tensor(\"gradient_tape/sequential_1/lstm_1/RaggedToTensor/boolean_mask_1/GatherV2:0\", shape=(None,), dtype=int32), values=Tensor(\"gradient_tape/sequential_1/lstm_1/RaggedToTensor/boolean_mask/GatherV2:0\", shape=(None, 128), dtype=float32), dense_shape=Tensor(\"gradient_tape/sequential_1/lstm_1/RaggedToTensor/Shape:0\", shape=(2,), dtype=int32))) to a dense Tensor of unknown shape. This may consume a large amount of memory.\n",
      "  \"shape. This may consume a large amount of memory.\" % value)\n"
     ]
    },
    {
     "name": "stdout",
     "output_type": "stream",
     "text": [
      "625/625 [==============================] - 120s 189ms/step - loss: 0.3803 - accuracy: 0.8348 - val_loss: 0.3000 - val_accuracy: 0.8863\n",
      "Epoch 2/15\n",
      "625/625 [==============================] - 117s 188ms/step - loss: 0.2678 - accuracy: 0.8983 - val_loss: 0.3032 - val_accuracy: 0.8817\n",
      "Epoch 3/15\n",
      "625/625 [==============================] - 118s 188ms/step - loss: 0.2107 - accuracy: 0.9233 - val_loss: 0.2963 - val_accuracy: 0.8878\n",
      "Epoch 4/15\n",
      "625/625 [==============================] - 118s 189ms/step - loss: 0.1979 - accuracy: 0.9287 - val_loss: 0.2810 - val_accuracy: 0.8954\n",
      "Epoch 5/15\n",
      "625/625 [==============================] - 119s 190ms/step - loss: 0.1890 - accuracy: 0.9327 - val_loss: 0.2758 - val_accuracy: 0.8986\n",
      "Epoch 6/15\n",
      "625/625 [==============================] - 118s 188ms/step - loss: 0.1818 - accuracy: 0.9355 - val_loss: 0.2747 - val_accuracy: 0.8990\n",
      "Epoch 7/15\n",
      "625/625 [==============================] - 118s 188ms/step - loss: 0.1753 - accuracy: 0.9379 - val_loss: 0.2730 - val_accuracy: 0.9003\n",
      "Epoch 8/15\n",
      "625/625 [==============================] - 118s 188ms/step - loss: 0.1691 - accuracy: 0.9405 - val_loss: 0.2730 - val_accuracy: 0.9011\n",
      "Epoch 9/15\n",
      "625/625 [==============================] - 118s 190ms/step - loss: 0.1561 - accuracy: 0.9461 - val_loss: 0.2744 - val_accuracy: 0.9021\n",
      "Epoch 10/15\n",
      "625/625 [==============================] - 117s 187ms/step - loss: 0.1516 - accuracy: 0.9482 - val_loss: 0.2752 - val_accuracy: 0.9025\n"
     ]
    }
   ],
   "source": [
    "LSTM2_history = LSTM_model2.fit(train_data, epochs=15, validation_data=val_data, callbacks=get_callbacks('LSTM_model2.h5'), class_weight=class_weight)"
   ]
  },
  {
   "cell_type": "code",
   "execution_count": 22,
   "id": "d5118394",
   "metadata": {
    "execution": {
     "iopub.execute_input": "2022-01-21T06:36:10.633185Z",
     "iopub.status.busy": "2022-01-21T06:36:10.632392Z",
     "iopub.status.idle": "2022-01-21T06:36:26.867929Z",
     "shell.execute_reply": "2022-01-21T06:36:26.868473Z",
     "shell.execute_reply.started": "2022-01-21T05:41:36.745093Z"
    },
    "papermill": {
     "duration": 20.543577,
     "end_time": "2022-01-21T06:36:26.868679",
     "exception": false,
     "start_time": "2022-01-21T06:36:06.325102",
     "status": "completed"
    },
    "tags": []
   },
   "outputs": [
    {
     "data": {
      "image/png": "[encoded data removed]",
      "text/plain": [
       "<Figure size 720x360 with 1 Axes>"
      ]
     },
     "metadata": {},
     "output_type": "display_data"
    }
   ],
   "source": [
    "plot_history(LSTM2_history)"
   ]
  },
  {
   "cell_type": "markdown",
   "id": "0bf0334a",
   "metadata": {
    "papermill": {
     "duration": 4.528482,
     "end_time": "2022-01-21T06:36:35.753521",
     "exception": false,
     "start_time": "2022-01-21T06:36:31.225039",
     "status": "completed"
    },
    "tags": []
   },
   "source": [
    "- a fully connected layer has been added to see if it could to greaten model prediction ability on test data\n",
    "- the 4 th epoch seems to provide best validation loss which is lower than the loss of first architecture\n",
    "- again the validation accuracy enhanced after the best validation loss epoch but it was not the objective"
   ]
  },
  {
   "cell_type": "markdown",
   "id": "59a593fe",
   "metadata": {
    "papermill": {
     "duration": 4.401067,
     "end_time": "2022-01-21T06:36:44.506077",
     "exception": false,
     "start_time": "2022-01-21T06:36:40.105010",
     "status": "completed"
    },
    "tags": []
   },
   "source": [
    "#### Evaluation\n",
    "- area under curve (ROC AUC score) is used for model evaluation\n",
    "- probability cut off threshold that gives highest difference between true positives and false positives is determined by points in ROC curve"
   ]
  },
  {
   "cell_type": "code",
   "execution_count": 23,
   "id": "5e347541",
   "metadata": {
    "execution": {
     "iopub.execute_input": "2022-01-21T06:36:53.245968Z",
     "iopub.status.busy": "2022-01-21T06:36:53.245252Z",
     "iopub.status.idle": "2022-01-21T06:37:13.815146Z",
     "shell.execute_reply": "2022-01-21T06:37:13.814506Z",
     "shell.execute_reply.started": "2022-01-21T05:49:55.298645Z"
    },
    "papermill": {
     "duration": 24.950559,
     "end_time": "2022-01-21T06:37:13.815312",
     "exception": false,
     "start_time": "2022-01-21T06:36:48.864753",
     "status": "completed"
    },
    "tags": []
   },
   "outputs": [
    {
     "name": "stdout",
     "output_type": "stream",
     "text": [
      "ROC AUC score on test set: 0.9578\n",
      "Optimal threshold on validation set: 0.3946\n"
     ]
    }
   ],
   "source": [
    "best_model = tf.keras.models.load_model(\"./LSTM_model2.h5\")\n",
    "\n",
    "predictions = best_model.predict(tf.ragged.constant(test_tokens))\n",
    "y_true = encoded_test\n",
    "val_predictions = best_model.predict(tf.ragged.constant(val_text))\n",
    "y_true_val = val_target\n",
    "print(\"ROC AUC score on test set: {0:.4}\".format(roc_auc_score(y_true, predictions)))\n",
    "\n",
    "fpr, tpr, thresholds = roc_curve(y_true_val, val_predictions)\n",
    "optimal_threshold = thresholds[np.argmax(tpr-fpr, axis=0)]\n",
    "print(\"Optimal threshold on validation set: {0:.4}\".format(optimal_threshold))"
   ]
  },
  {
   "cell_type": "code",
   "execution_count": 24,
   "id": "d2527c13",
   "metadata": {
    "execution": {
     "iopub.execute_input": "2022-01-21T06:37:22.671489Z",
     "iopub.status.busy": "2022-01-21T06:37:22.670803Z",
     "iopub.status.idle": "2022-01-21T06:37:22.686502Z",
     "shell.execute_reply": "2022-01-21T06:37:22.687237Z",
     "shell.execute_reply.started": "2022-01-21T05:50:09.553496Z"
    },
    "papermill": {
     "duration": 4.504803,
     "end_time": "2022-01-21T06:37:22.687436",
     "exception": false,
     "start_time": "2022-01-21T06:37:18.182633",
     "status": "completed"
    },
    "tags": []
   },
   "outputs": [
    {
     "name": "stdout",
     "output_type": "stream",
     "text": [
      "              precision    recall  f1-score   support\n",
      "\n",
      "           0       0.89      0.91      0.90      1437\n",
      "           1       0.92      0.90      0.91      1563\n",
      "\n",
      "    accuracy                           0.91      3000\n",
      "   macro avg       0.90      0.91      0.90      3000\n",
      "weighted avg       0.91      0.91      0.91      3000\n",
      "\n"
     ]
    }
   ],
   "source": [
    "print(classification_report(y_true, predictions >= optimal_threshold))"
   ]
  },
  {
   "cell_type": "code",
   "execution_count": 25,
   "id": "e32157db",
   "metadata": {
    "execution": {
     "iopub.execute_input": "2022-01-21T06:37:31.553875Z",
     "iopub.status.busy": "2022-01-21T06:37:31.545714Z",
     "iopub.status.idle": "2022-01-21T06:37:31.844168Z",
     "shell.execute_reply": "2022-01-21T06:37:31.844766Z",
     "shell.execute_reply.started": "2022-01-21T05:50:09.570735Z"
    },
    "papermill": {
     "duration": 4.721979,
     "end_time": "2022-01-21T06:37:31.844979",
     "exception": false,
     "start_time": "2022-01-21T06:37:27.123000",
     "status": "completed"
    },
    "tags": []
   },
   "outputs": [
    {
     "data": {
      "image/png": "[encoded data removed]",
      "text/plain": [
       "<Figure size 576x360 with 2 Axes>"
      ]
     },
     "metadata": {},
     "output_type": "display_data"
    }
   ],
   "source": [
    "plot_confmat(y_true,  predictions >= optimal_threshold)"
   ]
  },
  {
   "cell_type": "markdown",
   "id": "4e066bdb",
   "metadata": {
    "papermill": {
     "duration": 4.424671,
     "end_time": "2022-01-21T06:37:40.716490",
     "exception": false,
     "start_time": "2022-01-21T06:37:36.291819",
     "status": "completed"
    },
    "tags": []
   },
   "source": [
    "- from the classification report, the F1 score of both classes are high and the same which means model is performing well on both classes"
   ]
  },
  {
   "cell_type": "markdown",
   "id": "3fcd564f",
   "metadata": {
    "papermill": {
     "duration": 4.403121,
     "end_time": "2022-01-21T06:37:49.505352",
     "exception": false,
     "start_time": "2022-01-21T06:37:45.102231",
     "status": "completed"
    },
    "tags": []
   },
   "source": [
    "#### Prediction\n",
    "- provide 2 sentences of opposite polarity to model and see if model predict it correctly\n",
    "- the prediction for each text input is the probability of having positive polarity"
   ]
  },
  {
   "cell_type": "code",
   "execution_count": 26,
   "id": "d1e95930",
   "metadata": {
    "execution": {
     "iopub.execute_input": "2022-01-21T06:37:58.215020Z",
     "iopub.status.busy": "2022-01-21T06:37:58.214290Z",
     "iopub.status.idle": "2022-01-21T06:37:58.234465Z",
     "shell.execute_reply": "2022-01-21T06:37:58.235122Z",
     "shell.execute_reply.started": "2022-01-21T05:51:31.681334Z"
    },
    "papermill": {
     "duration": 4.364147,
     "end_time": "2022-01-21T06:37:58.235322",
     "exception": false,
     "start_time": "2022-01-21T06:37:53.871175",
     "status": "completed"
    },
    "tags": []
   },
   "outputs": [
    {
     "data": {
      "text/plain": [
       "array([[0.7729906 ],\n",
       "       [0.03789303]], dtype=float32)"
      ]
     },
     "execution_count": 26,
     "metadata": {},
     "output_type": "execute_result"
    }
   ],
   "source": [
    "best_model.predict(\n",
    "    tf.ragged.constant(\n",
    "        tokenizer.texts_to_sequences([\n",
    "            \"it s begin to look a lot like xmas, snow everywhere\",\n",
    "            \"so inappropriate i will go some where else that is more suitable\"\n",
    "        ])\n",
    "    )\n",
    ")"
   ]
  }
 ],
 "metadata": {
  "kernelspec": {
   "display_name": "Python 3",
   "language": "python",
   "name": "python3"
  },
  "language_info": {
   "codemirror_mode": {
    "name": "ipython",
    "version": 3
   },
   "file_extension": ".py",
   "mimetype": "text/x-python",
   "name": "python",
   "nbconvert_exporter": "python",
   "pygments_lexer": "ipython3",
   "version": "3.7.12"
  },
  "papermill": {
   "default_parameters": {},
   "duration": 2774.338774,
   "end_time": "2022-01-21T06:38:06.178872",
   "environment_variables": {},
   "exception": null,
   "input_path": "__notebook__.ipynb",
   "output_path": "__notebook__.ipynb",
   "parameters": {},
   "start_time": "2022-01-21T05:51:51.840098",
   "version": "2.3.3"
  }
 },
 "nbformat": 4,
 "nbformat_minor": 5
}
